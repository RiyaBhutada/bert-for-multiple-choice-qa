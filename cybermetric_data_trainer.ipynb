{
  "cells": [
    {
      "cell_type": "markdown",
      "source": [
        "# Collecting crypto vocab from web and saving to a file"
      ],
      "metadata": {
        "id": "Ugw1mR605GX6"
      }
    },
    {
      "cell_type": "code",
      "source": [
        "!pip install html2text"
      ],
      "metadata": {
        "colab": {
          "base_uri": "https://localhost:8080/"
        },
        "id": "3bgrUQ6Yr5xH",
        "outputId": "e4068e22-1220-41f6-b051-c6ac51bb3149"
      },
      "execution_count": null,
      "outputs": [
        {
          "output_type": "stream",
          "name": "stdout",
          "text": [
            "Collecting html2text\n",
            "  Downloading html2text-2024.2.26.tar.gz (56 kB)\n",
            "\u001b[2K     \u001b[90m━━━━━━━━━━━━━━━━━━━━━━━━━━━━━━━━━━━━━━━━\u001b[0m \u001b[32m56.5/56.5 kB\u001b[0m \u001b[31m1.1 MB/s\u001b[0m eta \u001b[36m0:00:00\u001b[0m\n",
            "\u001b[?25h  Preparing metadata (setup.py) ... \u001b[?25l\u001b[?25hdone\n",
            "Building wheels for collected packages: html2text\n",
            "  Building wheel for html2text (setup.py) ... \u001b[?25l\u001b[?25hdone\n",
            "  Created wheel for html2text: filename=html2text-2024.2.26-py3-none-any.whl size=33111 sha256=7b25af4379bda04693ce8f43cd34cae0e66e3cda150f25ab8dff3099c1a211a5\n",
            "  Stored in directory: /root/.cache/pip/wheels/f3/96/6d/a7eba8f80d31cbd188a2787b81514d82fc5ae6943c44777659\n",
            "Successfully built html2text\n",
            "Installing collected packages: html2text\n",
            "Successfully installed html2text-2024.2.26\n"
          ]
        }
      ]
    },
    {
      "cell_type": "code",
      "source": [
        "import requests\n",
        "URL = \"https://www.geeksforgeeks.org/data-structures/\"\n",
        "r = requests.get(URL)\n",
        "print(r.content)"
      ],
      "metadata": {
        "colab": {
          "base_uri": "https://localhost:8080/"
        },
        "id": "ZT7FGWg8q23Y",
        "outputId": "7ac8bcaf-f3ff-4c5e-affc-ee54bdba32a7"
      },
      "execution_count": null,
      "outputs": [
        {
          "output_type": "stream",
          "name": "stdout",
          "text": [
            "b'<!DOCTYPE html>\\r\\n<!--[if IE 7]>\\r\\n<html class=\"ie ie7\" lang=\"en-US\" prefix=\"og: http://ogp.me/ns#\">\\r\\n<![endif]-->\\r\\n<!--[if IE 8]>\\r\\n<html class=\"ie ie8\" lang=\"en-US\" prefix=\"og: http://ogp.me/ns#\">\\r\\n<![endif]-->\\r\\n<!--[if !(IE 7) | !(IE 8)  ]><!-->\\r\\n<html lang=\"en-US\" prefix=\"og: http://ogp.me/ns#\" >\\r\\n\\r\\n<!--<![endif]-->\\r\\n<head>\\r\\n<meta charset=\"UTF-8\" />\\r\\n<meta name=\"keywords\" content=\"Data Structures, Algorithms, Python, Java, C, C++, JavaScript, Android Development, SQL, Data Science, Machine Learning, PHP, Web Development, System Design, Tutorial, Technical Blogs, Interview Experience, Interview Preparation, Programming, Competitive Programming, Jobs, Coding Contests, GATE CSE, HTML, CSS, React, NodeJS, Placement, Aptitude, Quiz, Computer Science, Programming Examples, GeeksforGeeks Courses, Puzzles, SSC, Banking, UPSC, Commerce, Finance, CBSE, School, k12, General Knowledge, News, Mathematics, Exams\">\\r\\n<meta name=\"viewport\" content=\"width=device-width, initial-scale=1.0, minimum-scale=0.5, maximum-scale=3.0\"> \\r\\n<link rel=\"shortcut icon\" href=\"https://media.geeksforgeeks.org/wp-content/cdn-uploads/gfg_favicon.png\" type=\"image/x-icon\" />\\r\\n\\r\\n<link rel=\"preconnect\" href=\"https://fonts.googleapis.com\">\\r\\n<link rel=\"preconnect\" href=\"https://fonts.gstatic.com\" crossorigin>\\r\\n<meta name=\"theme-color\" content=\"#308D46\" />\\r\\n<meta name=\\'robots\\' content=\\'index, follow, max-image-preview:large, max-snippet:-1\\' />\\r\\n\\r\\n<meta name=\"image\" property=\"og:image\" content=\"https://media.geeksforgeeks.org/wp-content/cdn-uploads/gfg_200x200-min.png\">\\r\\n<meta property=\"og:image:type\" content=\"image/png\">\\r\\n<meta property=\"og:image:width\" content=\"200\">\\r\\n<meta property=\"og:image:height\" content=\"200\">\\r\\n<meta name=\"facebook-domain-verification\" content=\"xo7t4ve2wn3ywfkjdvwbrk01pvdond\" />\\r\\n\\r\\n<script defer src=\"https://apis.google.com/js/platform.js\"></script>\\r\\n<script async src=\"//cdnjs.cloudflare.com/ajax/libs/require.js/2.1.14/require.min.js\"></script>\\r\\n<!-- Removed the below script from here to prevent loading google translate js at initial load\\r\\n<script async src=\"//translate.google.com/translate_a/element.js?cb=googleTranslateElementInit\"></script> -->\\r\\n\\r\\n<!-- FIXME:-  To be finalised whether we need to put this gpt script in header or footer  -->\\r\\n<!-- //gpt.js script -->\\r\\n<!-- <script async src=\\'https://www.googletagservices.com/tag/js/gpt.js\\'></script> -->\\r\\n\\r\\n<script defer src=\"https://securepubads.g.doubleclick.net/tag/js/gpt.js\"></script>\\r\\n<script defer src=\"https://cdnads.geeksforgeeks.org/prebid.js?ver=0.1\"></script>\\r\\n<script defer src=\"https://cdnads.geeksforgeeks.org/gfg_ads.min.js?ver=0.1\"></script>\\r\\n\\r\\n<title>Data Structures Tutorial - GeeksforGeeks</title>\\r\\n<link rel=\"profile\" href=\"http://gmpg.org/xfn/11\" />\\r\\n<link rel=\"pingback\" href=\"\" />\\r\\n<!--[if lt IE 9]>\\r\\n<script src=\"https://www.geeksforgeeks.org/wp-content/themes/iconic-one/js/html5.js\" type=\"text/javascript\"></script>\\r\\n<![endif]-->\\r\\n\\r\\n<script type=\"application/ld+json\">\\r\\n    {\\r\\n        \"@context\" : \"https://schema.org\",\\r\\n        \"@type\" : \"Organization\",\\r\\n        \"name\" : \"GeeksforGeeks\",\\r\\n        \"url\" : \"https://www.geeksforgeeks.org/\",\\r\\n        \"logo\" : \"https://media.geeksforgeeks.org/wp-content/cdn-uploads/20200817185016/gfg_complete_logo_2x-min.png\",\\r\\n        \"description\" : \"A computer science portal for geeks. It contains well written, well thought and well explained computer science and programming articles, quizzes and practice/competitive programming/company interview Questions.\",\\r\\n        \"founder\": [\\r\\n            {\\r\\n                \"@type\" : \"Person\",\\r\\n                \"name\" : \"Sandeep Jain\",\\r\\n                \"url\" : \"https://in.linkedin.com/in/sandeep-jain-b3940815\"\\r\\n            }\\r\\n        ],\\r\\n        \"sameAs\" : [ \"https://www.facebook.com/geeksforgeeks.org/\",\\r\\n            \"https://twitter.com/geeksforgeeks\",\\r\\n            \"https://www.linkedin.com/company/1299009\",\\r\\n            \"https://www.youtube.com/geeksforgeeksvideos/\"\\r\\n        ]\\r\\n    }\\r\\n</script>\\r\\n\\r\\n\\r\\n<!-- Question schema for single question posts only  -->\\r\\n\\r\\n<!-- adding article schema markup -->\\r\\n    <script type=\\'application/ld+json\\'>\\r\\n    {\\r\\n        \"@context\": \"https://schema.org\",\\r\\n        \"@type\": \"Article\",\\r\\n        \"mainEntityOfPage\": {\\r\\n          \"@type\": \"WebPage\",\\r\\n          \"id\": \"https://www.geeksforgeeks.org/data-structures/\"\\r\\n        },\\r\\n        \"headline\": \"Data Structures Tutorial\",\\r\\n        \"datePublished\": \"2014-02-01 08:16:50\",\\r\\n        \"dateModified\": \"2024-04-04 04:47:50\",\\r\\n        \"image\": \"https://media.geeksforgeeks.org/wp-content/cdn-uploads/20230706095706/intro-data-structure-%E2%80%93-1.png\",\\r\\n        \"author\": {\\r\\n            \"@type\": \"Person\",\\r\\n            \"name\": \"GfG\"\\r\\n        },\\r\\n        \"publisher\": {\\r\\n        \"@type\": \"Organization\",\\r\\n        \"name\": \"GeeksforGeeks\",\\r\\n        \"logo\": {\\r\\n            \"@type\": \"ImageObject\",\\r\\n            \"url\": \"https://media.geeksforgeeks.org/wp-content/cdn-uploads/logo-new-2.svg\",\\r\\n            \"width\": \"301\",\\r\\n            \"height\": \"40\"\\r\\n        }\\r\\n        },\\r\\n        \"description\": \"Data structures are essential components that help organize and store data efficiently in computer memory. They provide a way to manage and manipulate data effectively, enabling faster access, insertion, and deletion operations. Common data structures include arrays, linked lists, stacks, queues, trees, and graphs , each serving specific purposes based on the requirements\"\\r\\n    }\\r\\n    </script>\\r\\n\\r\\n<!-- Adding FAQ schema -->\\r\\n\\r\\n\\r\\n<!-- schema for the searchBox -->\\r\\n<script type=\"application/ld+json\">\\r\\n    {\\r\\n        \"@context\": \"https://schema.org\",\\r\\n        \"@type\": \"WebSite\",\\r\\n        \"url\": \"https://www.geeksforgeeks.org/\",\\r\\n        \"potentialAction\": {\\r\\n            \"@type\": \"SearchAction\",\\r\\n            \"target\": \"https://www.geeksforgeeks.org/search/{search_term_string}/\",\\r\\n            \"query-input\": \"required name=search_term_string\"\\r\\n        }\\r\\n    }\\r\\n</script>\\r\\n\\r\\n\\r\\n<script>\\r\\n    var arrPostCat = new Array();\\r\\n    var arrPostCatName=\"\";\\r\\n        var tIds = \"\";\\r\\n    var tIdsInclusiveParents = \"\"\\r\\n    var domain = 1;\\r\\n    var arrPost = new Array();\\r\\n    var post_id = \"125686\";\\r\\n    var post_type = \"page\";\\r\\n    var post_slug = window.location.href;\\r\\n    var ip = \"64.252.73.226\";\\r\\n    var post_title = \"Data Structures Tutorial\";\\r\\n    var post_status = \"publish\";\\r\\n    var practiceAPIURL=\"https://practiceapi.geeksforgeeks.org/\";\\r\\n    var practiceURL=\"https://practice.geeksforgeeks.org/\";\\r\\n    var post_date = \"2014-02-01 20:16:50\";\\r\\n    var commentSysUrl = \"https://discuss.geeksforgeeks.org/commentEmbedV2.js\";\\r\\n    //var postAdApiUrlString = \"\";\\r\\n    var link_on_code_run = \\'\\';\\r\\n    var link_search_modal_top = \\'\\';\\r\\n    \\r\\n    \\r\\n        var postAdApiUrlString = \\'\\';\\r\\n</script>\\r\\n\\r\\n\\r\\n\\r\\n\\n<!-- This site is optimized with the Yoast SEO plugin v7.6 - https://yoast.com/wordpress/plugins/seo/ -->\\n<meta name=\"description\" content=\"Complete list of Data Structure, Practice Problems, Quizzes, Array, Linked List, Stack, Queue, Trees, Heap, Graph, Matrix, Advanced Data Structures\"/>\\n<link rel=\"canonical\" href=\"https://www.geeksforgeeks.org/data-structures/\" />\\n<meta property=\"og:locale\" content=\"en_US\" />\\n<meta property=\"og:type\" content=\"article\" />\\n<meta property=\"og:title\" content=\"Data Structures Tutorial - GeeksforGeeks\" />\\n<meta property=\"og:description\" content=\"Complete list of Data Structure, Practice Problems, Quizzes, Array, Linked List, Stack, Queue, Trees, Heap, Graph, Matrix, Advanced Data Structures\" />\\n<meta property=\"og:url\" content=\"https://www.geeksforgeeks.org/data-structures/\" />\\n<meta property=\"og:site_name\" content=\"GeeksforGeeks\" />\\n<meta property=\"og:image\" content=\"https://media.geeksforgeeks.org/wp-content/cdn-uploads/20230706095706/intro-data-structure-%E2%80%93-1.png\" />\\n<meta property=\"og:image:secure_url\" content=\"https://media.geeksforgeeks.org/wp-content/cdn-uploads/20230706095706/intro-data-structure-%E2%80%93-1.png\" />\\n<script type=\\'application/ld+json\\'>{\"@context\":\"https:\\\\/\\\\/schema.org\",\"@type\":\"Organization\",\"url\":\"https:\\\\/\\\\/www.geeksforgeeks.org\\\\/\",\"sameAs\":[],\"@id\":\"https:\\\\/\\\\/www.geeksforgeeks.org\\\\/#organization\",\"name\":\"GeeksforGeeks\",\"logo\":\"http:\\\\/\\\\/www.geeksforgeeks.org\\\\/wp-content\\\\/uploads\\\\/gfg_200X200-1.png\"}</script>\\n<!-- / Yoast SEO plugin. -->\\n\\n<link rel=\\'dns-prefetch\\' href=\\'//www.geeksforgeeks.org\\' />\\n<link rel=\\'dns-prefetch\\' href=\\'//s.w.org\\' />\\n\\t\\t<script type=\"text/javascript\">\\n\\t\\t\\twindow._wpemojiSettings = {\"baseUrl\":\"https:\\\\/\\\\/s.w.org\\\\/images\\\\/core\\\\/emoji\\\\/11\\\\/72x72\\\\/\",\"ext\":\".png\",\"svgUrl\":\"https:\\\\/\\\\/s.w.org\\\\/images\\\\/core\\\\/emoji\\\\/11\\\\/svg\\\\/\",\"svgExt\":\".svg\",\"source\":{\"concatemoji\":\"https:\\\\/\\\\/www.geeksforgeeks.org\\\\/wp-includes\\\\/js\\\\/wp-emoji-release.min.js?ver=4.9.8\"}};\\n\\t\\t\\t!function(a,b,c){function d(a,b){var c=String.fromCharCode;l.clearRect(0,0,k.width,k.height),l.fillText(c.apply(this,a),0,0);var d=k.toDataURL();l.clearRect(0,0,k.width,k.height),l.fillText(c.apply(this,b),0,0);var e=k.toDataURL();return d===e}function e(a){var b;if(!l||!l.fillText)return!1;switch(l.textBaseline=\"top\",l.font=\"600 32px Arial\",a){case\"flag\":return!(b=d([55356,56826,55356,56819],[55356,56826,8203,55356,56819]))&&(b=d([55356,57332,56128,56423,56128,56418,56128,56421,56128,56430,56128,56423,56128,56447],[55356,57332,8203,56128,56423,8203,56128,56418,8203,56128,56421,8203,56128,56430,8203,56128,56423,8203,56128,56447]),!b);case\"emoji\":return b=d([55358,56760,9792,65039],[55358,56760,8203,9792,65039]),!b}return!1}function f(a){var c=b.createElement(\"script\");c.src=a,c.defer=c.type=\"text/javascript\",b.getElementsByTagName(\"head\")[0].appendChild(c)}var g,h,i,j,k=b.createElement(\"canvas\"),l=k.getContext&&k.getContext(\"2d\");for(j=Array(\"flag\",\"emoji\"),c.supports={everything:!0,everythingExceptFlag:!0},i=0;i<j.length;i++)c.supports[j[i]]=e(j[i]),c.supports.everything=c.supports.everything&&c.supports[j[i]],\"flag\"!==j[i]&&(c.supports.everythingExceptFlag=c.supports.everythingExceptFlag&&c.supports[j[i]]);c.supports.everythingExceptFlag=c.supports.everythingExceptFlag&&!c.supports.flag,c.DOMReady=!1,c.readyCallback=function(){c.DOMReady=!0},c.supports.everything||(h=function(){c.readyCallback()},b.addEventListener?(b.addEventListener(\"DOMContentLoaded\",h,!1),a.addEventListener(\"load\",h,!1)):(a.attachEvent(\"onload\",h),b.attachEvent(\"onreadystatechange\",function(){\"complete\"===b.readyState&&c.readyCallback()})),g=c.source||{},g.concatemoji?f(g.concatemoji):g.wpemoji&&g.twemoji&&(f(g.twemoji),f(g.wpemoji)))}(window,document,window._wpemojiSettings);\\n\\t\\t</script>\\n\\t\\t<style type=\"text/css\">\\nimg.wp-smiley,\\nimg.emoji {\\n\\tdisplay: inline !important;\\n\\tborder: none !important;\\n\\tbox-shadow: none !important;\\n\\theight: 1em !important;\\n\\twidth: 1em !important;\\n\\tmargin: 0 .07em !important;\\n\\tvertical-align: -0.1em !important;\\n\\tbackground: none !important;\\n\\tpadding: 0 !important;\\n}\\n</style>\\n<link rel=\\'stylesheet\\' id=\\'custom-style-css\\'  href=\\'https://www.geeksforgeeks.org/wp-content/themes/iconic-one/css/gfg.min.css?ver=11.20\\' type=\\'text/css\\' media=\\'all\\' />\\n<script type=\\'text/javascript\\' src=\\'https://code.jquery.com/jquery-3.6.3.min.js?ver=3.6.3\\'></script>\\n<script type=\\'text/javascript\\' src=\\'https://code.jquery.com/jquery-migrate-3.0.0.min.js?ver=3.0.0\\'></script>\\n<script type=\\'text/javascript\\'>\\n/* <![CDATA[ */\\nvar gfgObject = {\"authUrl\":\"https:\\\\/\\\\/auth.geeksforgeeks.org\\\\/\",\"writeApiUrl\":\"https:\\\\/\\\\/apiwrite.geeksforgeeks.org\\\\/\",\"writeUrl\":\"https:\\\\/\\\\/write.geeksforgeeks.org\\\\/\",\"utilUrl\":\"https:\\\\/\\\\/util.geeksforgeeks.org\\\\/\",\"apiUrl\":\"https:\\\\/\\\\/api.geeksforgeeks.org\\\\/\",\"cfApiUrl\":\"https:\\\\/\\\\/gfgapi.geeksforgeeks.org\\\\/\",\"baseCompilerURL\":\"https:\\\\/\\\\/codejudge.geeksforgeeks.org\\\\/\",\"idePageBaseUrl\":\"https:\\\\/\\\\/ide.geeksforgeeks.org\\\\/\",\"gfgApiScriptUrl\":\"https:\\\\/\\\\/apiscript.geeksforgeeks.org\\\\/\",\"gfgSiteUrl\":\"https:\\\\/\\\\/www.geeksforgeeks.org\\\\/\",\"curatedListId\":\"1\",\"curatedListTitle\":\"SDE Sheet Problems\",\"utilDjangoCfUrl\":\"https:\\\\/\\\\/utilapi.geeksforgeeks.org\\\\/\",\"premiumCheckoutSlug\":\"premium-plans-payment\\\\/\",\"premiumLandingSlug\":\"premium-plans\\\\/\",\"premiumCssUrl\":\"https:\\\\/\\\\/www.geeksforgeeks.org\\\\/wp-content\\\\/themes\\\\/iconic-one\\\\/css\\\\/gfgpremium.min.css?ver=1.3\",\"premiumJsUrl\":\"https:\\\\/\\\\/www.geeksforgeeks.org\\\\/wp-content\\\\/themes\\\\/iconic-one\\\\/js\\\\/gfgpremium.min.js?ver=1.2\",\"utilGoogleUrl\":\"https:\\\\/\\\\/ugprod.geeksforgeeks.org\\\\/\",\"communityApiUrl\":\"https:\\\\/\\\\/communityapi.geeksforgeeks.org\\\\/\",\"utilDjangoUrl\":\"https:\\\\/\\\\/gfgutil.geeksforgeeks.org\\\\/\",\"gfgPracticeUrl\":\"https:\\\\/\\\\/practiceapi.geeksforgeeks.org\\\\/\",\"gfgMediaUrl\":\"https:\\\\/\\\\/media.geeksforgeeks.org\\\\/\",\"gfgMlApiUrl\":\"https:\\\\/\\\\/recommendations.geeksforgeeks.org\\\\/\"};\\n/* ]]> */\\n</script>\\n<script type=\\'text/javascript\\' async=\"async\" src=\\'https://www.geeksforgeeks.org/wp-content/themes/iconic-one/js/gfg.min.js?ver=12.63\\'></script>\\n\\n<link rel=\\'shortlink\\' href=\\'https://www.geeksforgeeks.org/?p=125686\\' />\\n<style>\\r\\n#wpadminbar{\\r\\nbackground: #ff0000 !important;\\r\\n}\\r\\n</style>\\r\\n<style type=\"text/css\" id=\"custom-background-css\">\\nbody.custom-background { background-color: #ffffff; }\\n</style>\\n<style type=\"text/css\" id=\"syntaxhighlighteranchor\"></style>\\n<link rel=\"icon\" href=\"https://www.geeksforgeeks.org/wp-content/uploads/gfg_200X200-100x100.png\" sizes=\"32x32\" />\\n<link rel=\"icon\" href=\"https://www.geeksforgeeks.org/wp-content/uploads/gfg_200X200.png\" sizes=\"192x192\" />\\n<link rel=\"apple-touch-icon-precomposed\" href=\"https://www.geeksforgeeks.org/wp-content/uploads/gfg_200X200.png\" />\\n<meta name=\"msapplication-TileImage\" content=\"https://www.geeksforgeeks.org/wp-content/uploads/gfg_200X200.png\" />\\n\\r\\n<!--\\r\\n<script type=\\'text/javascript\\'>\\r\\n  var googletag = googletag || {};\\r\\n  googletag.cmd = googletag.cmd || [];\\r\\n  (function() {\\r\\n    var gads = document.createElement(\\'script\\');\\r\\n    gads.async = true;\\r\\n    gads.type = \\'text/javascript\\';\\r\\n    var useSSL = \\'https:\\' == document.location.protocol;\\r\\n    gads.src = (useSSL ? \\'https:\\' : \\'http:\\') +\\r\\n      \\'//www.googletagservices.com/tag/js/gpt.js\\';\\r\\n    var node = document.getElementsByTagName(\\'script\\')[0];\\r\\n    node.parentNode.insertBefore(gads, node);\\r\\n  })();\\r\\n</script>\\r\\n\\r\\n AutoAds\\r\\n<script async src=\"//pagead2.googlesyndication.com/pagead/js/adsbygoogle.js\"></script>\\r\\n<script>\\r\\n(adsbygoogle = window.adsbygoogle || []).push({\\r\\ngoogle_ad_client: \"ca-pub-9465609616171866\",\\r\\nenable_page_level_ads: true\\r\\n});\\r\\n</script>\\r\\n-->\\r\\n\\r\\n\\r\\n\\r\\n\\r\\n<style>\\r\\n@media (max-width:1043px) and (min-width:992px) {\\r\\n .hide-1043992 {\\r\\n   display: none!important;\\r\\n }\\r\\n}\\r\\n\\r\\n.mobile-header-list-item{\\r\\n    padding-left:30px; \\r\\n    padding-right:10px;\\r\\n    margin-top:5px;\\r\\n}\\r\\n\\r\\n.mobile-header-list{\\r\\n    border-bottom: 1px solid rgba(158, 158, 158, 0.3) !important;\\r\\n}\\r\\n\\r\\n.mobile-header-list .dropdown-title{\\r\\n    border-bottom: none !important;\\r\\n    font-size: 16px!important; \\r\\n    padding: 0px!important; \\r\\n    padding-left: 45px!important; \\r\\n    font-weight: normal;\\r\\n}\\r\\n\\r\\n.mobile-header-list .upside::after{\\r\\n    transform: rotate(180deg);\\r\\n}\\r\\n\\r\\n</style>\\r\\n<!-- End Google Tag Manager -->\\r\\n<!-- Global site tag (gtag.js) - Google Ads: 474915276 -->\\r\\n<!-- <script async src=\"https://www.googletagmanager.com/gtag/js?id=AW-474915276\"></script>\\r\\n<script>\\r\\n  window.dataLayer = window.dataLayer || [];\\r\\n  function gtag(){dataLayer.push(arguments);}\\r\\n  gtag(\\'js\\', new Date());\\r\\n  gtag(\\'config\\', \\'AW-474915276\\');\\r\\n</script> -->\\r\\n\\r\\n</head>\\r\\n\\r\\n<body class=\"page-template page-template-page-templates page-template-tutorial-page-template page-template-page-templatestutorial-page-template-php page page-id-125686 page-parent custom-background custom-background-white\">\\r\\n\\r\\n    <script>\\r\\n        // Dark mode script\\r\\n\\r\\n        const gfgThemeList = Object.freeze({\\r\\n            LIGHT: \"gfgThemeLight\",\\r\\n            DARK: \"gfgThemeDark\"\\r\\n        })\\r\\n        const getThemeFromCookie = () => {\\r\\n            let gfg_def_theme = \"\";\\r\\n            let cookies = document.cookie;\\r\\n            let cooks = cookies.split(\";\");\\r\\n        \\r\\n            for (let i = 0; i < cooks.length; i++) {   \\r\\n                let icook = cooks[i].split(\"=\");\\r\\n                if (icook[0].trim() == \"gfg_theme\") {\\r\\n                    gfg_def_theme = icook[1].trim();\\r\\n                }\\r\\n            }\\r\\n            return gfg_def_theme\\r\\n        }\\r\\n        if(!(post_slug.includes(\\'premium-plans-payment/\\') || post_slug.includes(\\'premium-plans/\\'))){\\r\\n            var isDarkMode = getThemeFromCookie() == gfgThemeList.DARK ? true : false;\\r\\n            document.querySelector(\"body\").setAttribute(\"data-dark-mode\", isDarkMode);\\r\\n        }\\r\\n \\r\\n\\r\\n        function setSearchBarFocus() {\\r\\n          const myTimeout = setTimeout(searchBarFocus, 0);\\r\\n          function searchBarFocus() {\\r\\n            document.getElementById(\"gcse-search-input\").focus();\\r\\n          }\\r\\n        }\\r\\n\\r\\n        \\r\\n    </script>\\r\\n\\r\\n    <!-- <div class=\"header-main__wrapper \"> -->\\r\\n    <nav>\\r\\n    <div class=\"header-main__wrapper\">\\r\\n        \\r\\n        <a class=\"gfg-stc\" style=\"top:0\" href=\"#main\">Skip to content</a>\\r\\n\\r\\n        <a href=\"https://www.geeksforgeeks.org/\" aria-label=\"Logo\" class=\"header-main__logo\">\\r\\n            <div class=\"_logo\">\\r\\n                <!-- Original Logo -->\\r\\n                <img class=\"gfg_logo_img\" style=\"height: 30px; width: 80px; max-width: fit-content;\" src=\"https://media.geeksforgeeks.org/gfg-gg-logo.svg\" alt=\"geeksforgeeks\">\\r\\n            </div>\\r\\n        </a>\\r\\n        <div class=\"header-main__container\">\\r\\n            <span class=\\'hamburger-menu\\'>\\r\\n                <span class=\\'gfg-burger-1\\'></span>\\r\\n                <span class=\\'gfg-burger-2\\'></span>\\r\\n                <span class=\\'gfg-burger-3\\'></span>\\r\\n            </span>\\r\\n\\r\\n        <ul class=\"header-main__list\"><li class=\"header-main__list-item Header_1\" data-parent=\"false\" aria-expanded=\"true\" data-expandable=\"true\"><span>Tutorials</span><i class=\"gfg-icon gfg-icon_arrow-down gfg-icon_header\"></i><ul class=\"mega-dropdown Screen_1\"><li class=\"mega-dropdown__list-item\" data-parent=\"false\" aria-expanded=\"true\" data-expandable=\"true\"><span>Python Tutorial</span><i class=\"gfg-icon gfg-icon_arrow-right\"></i><ul class=\"mega-dropdown Screen_2\"><li class=\"mega-dropdown__list-item\" data-child=\"true\" aria-expanded=\"false\" data-expandable=\"false\"><a href=\"https://www.geeksforgeeks.org/taking-input-in-python/?ref=outind\" target=\"_self\">Taking Input in Python</a></li><li class=\"mega-dropdown__list-item\" data-child=\"true\" aria-expanded=\"false\" data-expandable=\"false\"><a href=\"https://www.geeksforgeeks.org/python-operators/?ref=outind\" target=\"_self\">Python Operators</a></li><li class=\"mega-dropdown__list-item\" data-parent=\"false\" aria-expanded=\"true\" data-expandable=\"true\"><span>Python Data Types</span><i class=\"gfg-icon gfg-icon_arrow-right\"></i><ul class=\"mega-dropdown Screen_3\"><li class=\"mega-dropdown__list-item\" data-child=\"true\" aria-expanded=\"false\" data-expandable=\"false\"><a href=\"https://www.geeksforgeeks.org/python-numbers/?ref=outind\" target=\"_self\">Python Numbers</a></li><li class=\"mega-dropdown__list-item\" data-child=\"true\" aria-expanded=\"false\" data-expandable=\"false\"><a href=\"https://www.geeksforgeeks.org/python-string/?ref=outind\" target=\"_self\">Python String</a></li><li class=\"mega-dropdown__list-item\" data-child=\"true\" aria-expanded=\"false\" data-expandable=\"false\"><a href=\"https://www.geeksforgeeks.org/python-lists/?ref=outind\" target=\"_self\">Python Lists</a></li><li class=\"mega-dropdown__list-item\" data-child=\"true\" aria-expanded=\"false\" data-expandable=\"false\"><a href=\"https://www.geeksforgeeks.org/python-tuples/?ref=outind\" target=\"_self\">Python Tuples</a></li><li class=\"mega-dropdown__list-item\" data-child=\"true\" aria-expanded=\"false\" data-expandable=\"false\"><a href=\"https://www.geeksforgeeks.org/sets-in-python/?ref=outind\" target=\"_self\">Sets in Python</a></li><li class=\"mega-dropdown__list-item\" data-child=\"true\" aria-expanded=\"false\" data-expandable=\"false\"><a href=\"https://www.geeksforgeeks.org/python-dictionary/?ref=outind\" target=\"_self\">Python Dictionary</a></li></ul></li><li class=\"mega-dropdown__list-item\" data-parent=\"false\" aria-expanded=\"true\" data-expandable=\"true\"><span>Python Loops and Control Flow</span><i class=\"gfg-icon gfg-icon_arrow-right\"></i><ul class=\"mega-dropdown Screen_3\"><li class=\"mega-dropdown__list-item\" data-child=\"true\" aria-expanded=\"false\" data-expandable=\"false\"><a href=\"https://www.geeksforgeeks.org/python-if-else/?ref=outind\" target=\"_self\">Python If Else</a></li><li class=\"mega-dropdown__list-item\" data-child=\"true\" aria-expanded=\"false\" data-expandable=\"false\"><a href=\"https://www.geeksforgeeks.org/python-for-loops/?ref=outind\" target=\"_self\">Python For Loops</a></li><li class=\"mega-dropdown__list-item\" data-child=\"true\" aria-expanded=\"false\" data-expandable=\"false\"><a href=\"https://www.geeksforgeeks.org/python-while-loop/?ref=outind\" target=\"_self\">Python While Loops</a></li><li class=\"mega-dropdown__list-item\" data-child=\"true\" aria-expanded=\"false\" data-expandable=\"false\"><a href=\"https://www.geeksforgeeks.org/python-break-statement/?ref=outind\" target=\"_self\">Python Breaks</a></li><li class=\"mega-dropdown__list-item\" data-child=\"true\" aria-expanded=\"false\" data-expandable=\"false\"><a href=\"https://www.geeksforgeeks.org/python-continue-statement/?ref=outind\" target=\"_self\">Python Continue Statement</a></li><li class=\"mega-dropdown__list-item\" data-child=\"true\" aria-expanded=\"false\" data-expandable=\"false\"><a href=\"https://www.geeksforgeeks.org/python-pass-statement/?ref=outind\" target=\"_self\">Python Pass Statement</a></li></ul></li><li class=\"mega-dropdown__list-item\" data-child=\"true\" aria-expanded=\"false\" data-expandable=\"false\"><a href=\"https://www.geeksforgeeks.org/python-functions/?ref=outind\" target=\"_self\">Python Functions</a></li><li class=\"mega-dropdown__list-item\" data-child=\"true\" aria-expanded=\"false\" data-expandable=\"false\"><a href=\"https://www.geeksforgeeks.org/python-oops-concepts/?ref=outind\" target=\"_self\">Python OOPS Concept</a></li><li class=\"mega-dropdown__list-item\" data-parent=\"false\" aria-expanded=\"true\" data-expandable=\"true\"><span>Python Data Structures</span><i class=\"gfg-icon gfg-icon_arrow-right\"></i><ul class=\"mega-dropdown Screen_3\"><li class=\"mega-dropdown__list-item\" data-child=\"true\" aria-expanded=\"false\" data-expandable=\"false\"><a href=\"https://www.geeksforgeeks.org/python-data-structures-and-algorithms/?ref=outind\" target=\"_self\">Python DSA</a></li><li class=\"mega-dropdown__list-item\" data-child=\"true\" aria-expanded=\"false\" data-expandable=\"false\"><a href=\"https://www.geeksforgeeks.org/python-linked-list/?ref=outind\" target=\"_self\">Linked List</a></li><li class=\"mega-dropdown__list-item\" data-child=\"true\" aria-expanded=\"false\" data-expandable=\"false\"><a href=\"https://www.geeksforgeeks.org/stack-in-python/?ref=outind\" target=\"_self\">Stack</a></li><li class=\"mega-dropdown__list-item\" data-child=\"true\" aria-expanded=\"false\" data-expandable=\"false\"><a href=\"https://www.geeksforgeeks.org/queue-in-python/?ref=outind\" target=\"_self\">Queue</a></li><li class=\"mega-dropdown__list-item\" data-child=\"true\" aria-expanded=\"false\" data-expandable=\"false\"><a href=\"https://www.geeksforgeeks.org/binary-tree-data-structure/?ref=outind\" target=\"_self\">Tree</a></li><li class=\"mega-dropdown__list-item\" data-child=\"true\" aria-expanded=\"false\" data-expandable=\"false\"><a href=\"https://www.geeksforgeeks.org/introduction-to-heap-data-structure-and-algorithm-tutorials/?ref=outind\" target=\"_self\">Heap</a></li><li class=\"mega-dropdown__list-item\" data-child=\"true\" aria-expanded=\"false\" data-expandable=\"false\"><a href=\"https://www.geeksforgeeks.org/introduction-to-hashing-data-structure-and-algorithm-tutorials/?ref=outind\" target=\"_self\">Hashing</a></li><li class=\"mega-dropdown__list-item\" data-child=\"true\" aria-expanded=\"false\" data-expandable=\"false\"><a href=\"https://www.geeksforgeeks.org/introduction-to-graphs-data-structure-and-algorithm-tutorials/?ref=outind\" target=\"_self\">Graph</a></li><li class=\"mega-dropdown__list-item\" data-child=\"true\" aria-expanded=\"false\" data-expandable=\"false\"><a href=\"https://www.geeksforgeeks.org/introduction-to-set-data-structure-and-algorithm-tutorials/?ref=outind\" target=\"_self\">Sets</a></li><li class=\"mega-dropdown__list-item\" data-child=\"true\" aria-expanded=\"false\" data-expandable=\"false\"><a href=\"https://www.geeksforgeeks.org/introduction-to-map-data-structure-and-algorithm-tutorials/?ref=outind\" target=\"_self\">Map</a></li><li class=\"mega-dropdown__list-item\" data-child=\"true\" aria-expanded=\"false\" data-expandable=\"false\"><a href=\"https://www.geeksforgeeks.org/advanced-data-structures/?ref=outind\" target=\"_self\">Advance Data Structure</a></li><li class=\"mega-dropdown__list-item\" data-child=\"true\" aria-expanded=\"false\" data-expandable=\"false\"><a href=\"https://www.geeksforgeeks.org/sorting-algorithms-in-python/?ref=outind\" target=\"_self\">Sorting Algorithms</a></li><li class=\"mega-dropdown__list-item\" data-child=\"true\" aria-expanded=\"false\" data-expandable=\"false\"><a href=\"https://www.geeksforgeeks.org/searching-algorithms/?ref=outind\" target=\"_self\">Searching Algorithms</a></li></ul></li><li class=\"mega-dropdown__list-item\" data-child=\"true\" aria-expanded=\"false\" data-expandable=\"false\"><a href=\"https://www.geeksforgeeks.org/python-exception-handling/?ref=outind\" target=\"_self\">Python Exception Handling</a></li><li class=\"mega-dropdown__list-item\" data-child=\"true\" aria-expanded=\"false\" data-expandable=\"false\"><a href=\"https://www.geeksforgeeks.org/file-handling-python/?ref=outind\" target=\"_self\">Python File Handling</a></li><li class=\"mega-dropdown__list-item\" data-parent=\"false\" aria-expanded=\"true\" data-expandable=\"true\"><span>Python Exercises</span><i class=\"gfg-icon gfg-icon_arrow-right\"></i><ul class=\"mega-dropdown Screen_3\"><li class=\"mega-dropdown__list-item\" data-child=\"true\" aria-expanded=\"false\" data-expandable=\"false\"><a href=\"https://www.geeksforgeeks.org/python-list-exercise/?ref=outind\" target=\"_self\">Python List Exercise</a></li><li class=\"mega-dropdown__list-item\" data-child=\"true\" aria-expanded=\"false\" data-expandable=\"false\"><a href=\"https://www.geeksforgeeks.org/python-string-exercise/?ref=outind\" target=\"_self\">Python String Exercise</a></li><li class=\"mega-dropdown__list-item\" data-child=\"true\" aria-expanded=\"false\" data-expandable=\"false\"><a href=\"https://www.geeksforgeeks.org/python-tuple-exercise/?ref=outind\" target=\"_self\">Python Tuple Exercise</a></li><li class=\"mega-dropdown__list-item\" data-child=\"true\" aria-expanded=\"false\" data-expandable=\"false\"><a href=\"https://www.geeksforgeeks.org/python-dictionary-exercise/?ref=outind\" target=\"_self\">Python Dictionary Exercise</a></li><li class=\"mega-dropdown__list-item\" data-child=\"true\" aria-expanded=\"false\" data-expandable=\"false\"><a href=\"https://www.geeksforgeeks.org/python-set-exercise/?ref=outind\" target=\"_self\">Python Set Exercise</a></li><li class=\"mega-dropdown__list-item\" data-child=\"true\" aria-expanded=\"false\" data-expandable=\"false\"><a href=\"https://www.geeksforgeeks.org/python-design-patterns/?ref=outind\" target=\"_self\">Python Design Patterns</a></li><li class=\"mega-dropdown__list-item\" data-child=\"true\" aria-expanded=\"false\" data-expandable=\"false\"><a href=\"https://www.geeksforgeeks.org/python-programming-examples/?ref=outind\" target=\"_self\">Python Programming Examples</a></li><li class=\"mega-dropdown__list-item\" data-child=\"true\" aria-expanded=\"false\" data-expandable=\"false\"><a href=\"https://www.geeksforgeeks.org/python-exercises-practice-questions-and-solutions/?ref=outind\" target=\"_self\">Python Practice Questions</a></li></ul></li></ul></li><li class=\"mega-dropdown__list-item\" data-parent=\"false\" aria-expanded=\"true\" data-expandable=\"true\"><span>Java</span><i class=\"gfg-icon gfg-icon_arrow-right\"></i><ul class=\"mega-dropdown Screen_2\"><li class=\"mega-dropdown__list-item\" data-parent=\"false\" aria-expanded=\"true\" data-expandable=\"true\"><span>Java Programming Language</span><i class=\"gfg-icon gfg-icon_arrow-right\"></i><ul class=\"mega-dropdown Screen_3\"><li class=\"mega-dropdown__list-item\" data-child=\"true\" aria-expanded=\"false\" data-expandable=\"false\"><a href=\"https://www.geeksforgeeks.org/java/?ref=outind\" target=\"_self\">Java Tutorial</a></li><li class=\"mega-dropdown__list-item\" data-child=\"true\" aria-expanded=\"false\" data-expandable=\"false\"><a href=\"https://www.geeksforgeeks.org/data-types-in-java/?ref=outind\" target=\"_self\">Data Types</a></li><li class=\"mega-dropdown__list-item\" data-child=\"true\" aria-expanded=\"false\" data-expandable=\"false\"><a href=\"https://www.geeksforgeeks.org/variables-in-java/?ref=outind\" target=\"_self\">Variables</a></li><li class=\"mega-dropdown__list-item\" data-parent=\"false\" aria-expanded=\"true\" data-expandable=\"true\"><span>Operators</span><i class=\"gfg-icon gfg-icon_arrow-right\"></i><ul class=\"mega-dropdown Screen_4\"><li class=\"mega-dropdown__list-item\" data-child=\"true\" aria-expanded=\"false\" data-expandable=\"false\"><a href=\"https://www.geeksforgeeks.org/operators-in-java/?ref=outind\" target=\"_self\">Operators in Java</a></li><li class=\"mega-dropdown__list-item\" data-child=\"true\" aria-expanded=\"false\" data-expandable=\"false\"><a href=\"https://www.geeksforgeeks.org/java-arithmetic-operators-with-examples/?ref=outind\" target=\"_self\">Arithmetic Operators</a></li><li class=\"mega-dropdown__list-item\" data-child=\"true\" aria-expanded=\"false\" data-expandable=\"false\"><a href=\"https://www.geeksforgeeks.org/java-unary-operator-with-examples/?ref=outind\" target=\"_self\">Unary Operators</a></li><li class=\"mega-dropdown__list-item\" data-child=\"true\" aria-expanded=\"false\" data-expandable=\"false\"><a href=\"https://www.geeksforgeeks.org/java-assignment-operator-with-examples/?ref=outind\" target=\"_self\">Assignment Operators</a></li><li class=\"mega-dropdown__list-item\" data-child=\"true\" aria-expanded=\"false\" data-expandable=\"false\"><a href=\"https://www.geeksforgeeks.org/java-relational-operators-with-examples/?ref=outind\" target=\"_self\">Relational Operators</a></li><li class=\"mega-dropdown__list-item\" data-child=\"true\" aria-expanded=\"false\" data-expandable=\"false\"><a href=\"https://www.geeksforgeeks.org/java-logical-operators-with-examples/?ref=outind\" target=\"_self\">Logical Operators</a></li><li class=\"mega-dropdown__list-item\" data-child=\"true\" aria-expanded=\"false\" data-expandable=\"false\"><a href=\"https://www.geeksforgeeks.org/java-ternary-operator-with-examples/?ref=outind\" target=\"_self\">Ternary Operators</a></li></ul></li><li class=\"mega-dropdown__list-item\" data-parent=\"false\" aria-expanded=\"true\" data-expandable=\"true\"><span>Flow Control in Java</span><i class=\"gfg-icon gfg-icon_arrow-right\"></i><ul class=\"mega-dropdown Screen_4\"><li class=\"mega-dropdown__list-item\" data-child=\"true\" aria-expanded=\"false\" data-expandable=\"false\"><a href=\"https://www.geeksforgeeks.org/decision-making-javaif-else-switch-break-continue-jump/?ref=outind\" target=\"_self\">Flow Control</a></li><li class=\"mega-dropdown__list-item\" data-child=\"true\" aria-expanded=\"false\" data-expandable=\"false\"><a href=\"https://www.geeksforgeeks.org/java-if-statement-with-examples/?ref=outind\" target=\"_self\">if Statement</a></li><li class=\"mega-dropdown__list-item\" data-child=\"true\" aria-expanded=\"false\" data-expandable=\"false\"><a href=\"https://www.geeksforgeeks.org/java-if-else-statement-with-examples/?ref=outind\" target=\"_self\">if-else Statement</a></li><li class=\"mega-dropdown__list-item\" data-child=\"true\" aria-expanded=\"false\" data-expandable=\"false\"><a href=\"https://www.geeksforgeeks.org/java-if-else-if-ladder-with-examples/?ref=outind\" target=\"_self\">if-else-if Ladder</a></li><li class=\"mega-dropdown__list-item\" data-child=\"true\" aria-expanded=\"false\" data-expandable=\"false\"><a href=\"https://www.geeksforgeeks.org/continue-statement-in-java/?ref=outind\" target=\"_self\">Continue Statement</a></li><li class=\"mega-dropdown__list-item\" data-child=\"true\" aria-expanded=\"false\" data-expandable=\"false\"><a href=\"https://www.geeksforgeeks.org/break-statement-in-java/?ref=outind\" target=\"_self\">Break Statement</a></li><li class=\"mega-dropdown__list-item\" data-child=\"true\" aria-expanded=\"false\" data-expandable=\"false\"><a href=\"https://www.geeksforgeeks.org/return-keyword-java/?ref=outind\" target=\"_self\">Return Statement</a></li></ul></li><li class=\"mega-dropdown__list-item\" data-parent=\"false\" aria-expanded=\"true\" data-expandable=\"true\"><span>Loops in Java</span><i class=\"gfg-icon gfg-icon_arrow-right\"></i><ul class=\"mega-dropdown Screen_4\"><li class=\"mega-dropdown__list-item\" data-child=\"true\" aria-expanded=\"false\" data-expandable=\"false\"><a href=\"https://www.geeksforgeeks.org/java-while-loop-with-examples/?ref=outind\" target=\"_self\">Loops</a></li><li class=\"mega-dropdown__list-item\" data-child=\"true\" aria-expanded=\"false\" data-expandable=\"false\"><a href=\"https://www.geeksforgeeks.org/java-do-while-loop-with-examples/?ref=outind\" target=\"_self\">do-while Loop</a></li><li class=\"mega-dropdown__list-item\" data-child=\"true\" aria-expanded=\"false\" data-expandable=\"false\"><a href=\"https://www.geeksforgeeks.org/java-for-loop-with-examples/?ref=outind\" target=\"_self\">For Loop</a></li><li class=\"mega-dropdown__list-item\" data-child=\"true\" aria-expanded=\"false\" data-expandable=\"false\"><a href=\"https://www.geeksforgeeks.org/for-each-loop-in-java/?ref=outind\" target=\"_self\">For-each Loop</a></li></ul></li><li class=\"mega-dropdown__list-item\" data-child=\"true\" aria-expanded=\"false\" data-expandable=\"false\"><a href=\"https://www.geeksforgeeks.org/methods-in-java/?ref=outind\" target=\"_self\">Methods</a></li><li class=\"mega-dropdown__list-item\" data-child=\"true\" aria-expanded=\"false\" data-expandable=\"false\"><a href=\"https://www.geeksforgeeks.org/strings-in-java/?ref=outind\" target=\"_self\">Strings</a></li><li class=\"mega-dropdown__list-item\" data-child=\"true\" aria-expanded=\"false\" data-expandable=\"false\"><a href=\"https://www.geeksforgeeks.org/arrays-in-java/?ref=outind\" target=\"_self\">Arrays</a></li><li class=\"mega-dropdown__list-item\" data-parent=\"false\" aria-expanded=\"true\" data-expandable=\"true\"><span>OOPs Concepts</span><i class=\"gfg-icon gfg-icon_arrow-right\"></i><ul class=\"mega-dropdown Screen_4\"><li class=\"mega-dropdown__list-item\" data-child=\"true\" aria-expanded=\"false\" data-expandable=\"false\"><a href=\"https://www.geeksforgeeks.org/object-oriented-programming-oops-concept-in-java/?ref=outind\" target=\"_self\">OOPs Concepts</a></li><li class=\"mega-dropdown__list-item\" data-child=\"true\" aria-expanded=\"false\" data-expandable=\"false\"><a href=\"https://www.geeksforgeeks.org/classes-objects-java/?ref=outind\" target=\"_self\">Classes and Objects</a></li><li class=\"mega-dropdown__list-item\" data-child=\"true\" aria-expanded=\"false\" data-expandable=\"false\"><a href=\"https://www.geeksforgeeks.org/access-modifiers-java/?ref=outind\" target=\"_self\">Access Modifiers</a></li><li class=\"mega-dropdown__list-item\" data-child=\"true\" aria-expanded=\"false\" data-expandable=\"false\"><a href=\"https://www.geeksforgeeks.org/inheritance-in-java/?ref=outind\" target=\"_self\">Inheritance</a></li><li class=\"mega-dropdown__list-item\" data-child=\"true\" aria-expanded=\"false\" data-expandable=\"false\"><a href=\"https://www.geeksforgeeks.org/abstraction-in-java-2/?ref=outind\" target=\"_self\">Abstraction</a></li><li class=\"mega-dropdown__list-item\" data-child=\"true\" aria-expanded=\"false\" data-expandable=\"false\"><a href=\"https://www.geeksforgeeks.org/encapsulation-in-java/?ref=outind\" target=\"_self\">Encapsulation</a></li><li class=\"mega-dropdown__list-item\" data-child=\"true\" aria-expanded=\"false\" data-expandable=\"false\"><a href=\"https://www.geeksforgeeks.org/polymorphism-in-java/?ref=outind\" target=\"_self\">Polymorphism</a></li></ul></li><li class=\"mega-dropdown__list-item\" data-child=\"true\" aria-expanded=\"false\" data-expandable=\"false\"><a href=\"https://www.geeksforgeeks.org/interfaces-in-java/?ref=outind\" target=\"_self\">Interface</a></li><li class=\"mega-dropdown__list-item\" data-child=\"true\" aria-expanded=\"false\" data-expandable=\"false\"><a href=\"https://www.geeksforgeeks.org/packages-in-java/?ref=outind\" target=\"_self\">Packages</a></li><li class=\"mega-dropdown__list-item\" data-child=\"true\" aria-expanded=\"false\" data-expandable=\"false\"><a href=\"https://www.geeksforgeeks.org/multithreading-in-java/?ref=outind\" target=\"_self\">Multithreading</a></li><li class=\"mega-dropdown__list-item\" data-child=\"true\" aria-expanded=\"false\" data-expandable=\"false\"><a href=\"https://www.geeksforgeeks.org/file-handling-in-java/?ref=outind\" target=\"_self\">File Handling</a></li><li class=\"mega-dropdown__list-item\" data-child=\"true\" aria-expanded=\"false\" data-expandable=\"false\"><a href=\"https://www.geeksforgeeks.org/regular-expressions-in-java/?ref=outind\" target=\"_self\">Regular Expression</a></li></ul></li><li class=\"mega-dropdown__list-item\" data-parent=\"false\" aria-expanded=\"true\" data-expandable=\"true\"><span>Java Collections</span><i class=\"gfg-icon gfg-icon_arrow-right\"></i><ul class=\"mega-dropdown Screen_3\"><li class=\"mega-dropdown__list-item\" data-child=\"true\" aria-expanded=\"false\" data-expandable=\"false\"><a href=\"https://www.geeksforgeeks.org/collections-in-java-2/?ref=outind\" target=\"_self\">Java Collections</a></li><li class=\"mega-dropdown__list-item\" data-child=\"true\" aria-expanded=\"false\" data-expandable=\"false\"><a href=\"https://www.geeksforgeeks.org/collections-class-in-java/?ref=outind\" target=\"_self\">Collection Class</a></li><li class=\"mega-dropdown__list-item\" data-child=\"true\" aria-expanded=\"false\" data-expandable=\"false\"><a href=\"https://www.geeksforgeeks.org/list-interface-java-examples/?ref=outind\" target=\"_self\">List Interface</a></li><li class=\"mega-dropdown__list-item\" data-child=\"true\" aria-expanded=\"false\" data-expandable=\"false\"><a href=\"https://www.geeksforgeeks.org/arraylist-in-java/?ref=outind\" target=\"_self\">ArrayList</a></li><li class=\"mega-dropdown__list-item\" data-child=\"true\" aria-expanded=\"false\" data-expandable=\"false\"><a href=\"https://www.geeksforgeeks.org/java-util-vector-class-java/?ref=outind\" target=\"_self\">Vector Class</a></li><li class=\"mega-dropdown__list-item\" data-child=\"true\" aria-expanded=\"false\" data-expandable=\"false\"><a href=\"https://www.geeksforgeeks.org/stack-class-in-java/?ref=outind\" target=\"_self\">Stack Class</a></li><li class=\"mega-dropdown__list-item\" data-child=\"true\" aria-expanded=\"false\" data-expandable=\"false\"><a href=\"https://www.geeksforgeeks.org/linked-list-in-java/?ref=outind\" target=\"_self\">LinkedList Class</a></li><li class=\"mega-dropdown__list-item\" data-child=\"true\" aria-expanded=\"false\" data-expandable=\"false\"><a href=\"https://www.geeksforgeeks.org/queue-interface-java/?ref=outind\" target=\"_self\">Queue Interface</a></li><li class=\"mega-dropdown__list-item\" data-child=\"true\" aria-expanded=\"false\" data-expandable=\"false\"><a href=\"https://www.geeksforgeeks.org/set-in-java/?ref=outind\" target=\"_self\">Set Interface</a></li><li class=\"mega-dropdown__list-item\" data-child=\"true\" aria-expanded=\"false\" data-expandable=\"false\"><a href=\"https://www.geeksforgeeks.org/hashset-in-java/?ref=outind\" target=\"_self\">HashSet Class</a></li><li class=\"mega-dropdown__list-item\" data-child=\"true\" aria-expanded=\"false\" data-expandable=\"false\"><a href=\"https://www.geeksforgeeks.org/treeset-in-java-with-examples/?ref=outind\" target=\"_self\">TreeSet</a></li><li class=\"mega-dropdown__list-item\" data-child=\"true\" aria-expanded=\"false\" data-expandable=\"false\"><a href=\"https://www.geeksforgeeks.org/map-interface-java-examples/?ref=outind\" target=\"_self\">Map Interface</a></li><li class=\"mega-dropdown__list-item\" data-child=\"true\" aria-expanded=\"false\" data-expandable=\"false\"><a href=\"https://www.geeksforgeeks.org/java-util-hashmap-in-java-with-examples/?ref=outind\" target=\"_self\">HashMap Class</a></li><li class=\"mega-dropdown__list-item\" data-child=\"true\" aria-expanded=\"false\" data-expandable=\"false\"><a href=\"https://www.geeksforgeeks.org/hashtable-in-java/?ref=outind\" target=\"_self\">HashTable Class</a></li><li class=\"mega-dropdown__list-item\" data-child=\"true\" aria-expanded=\"false\" data-expandable=\"false\"><a href=\"https://www.geeksforgeeks.org/iterators-in-java/?ref=outind\" target=\"_self\">Iterator</a></li><li class=\"mega-dropdown__list-item\" data-child=\"true\" aria-expanded=\"false\" data-expandable=\"false\"><a href=\"https://www.geeksforgeeks.org/comparator-interface-java/?ref=outind\" target=\"_self\">Comparator</a></li><li class=\"mega-dropdown__list-item\" data-child=\"true\" aria-expanded=\"false\" data-expandable=\"false\"><a href=\"https://www.geeksforgeeks.org/java-collections-interview-questions/?ref=outind\" target=\"_self\">Collection Interview Questions</a></li></ul></li><li class=\"mega-dropdown__list-item\" data-child=\"true\" aria-expanded=\"false\" data-expandable=\"false\"><a href=\"https://www.geeksforgeeks.org/java-8-features/?ref=outind\" target=\"_self\">Java 8 Tutorial</a></li><li class=\"mega-dropdown__list-item\" data-parent=\"false\" aria-expanded=\"true\" data-expandable=\"true\"><span>Java Programs</span><i class=\"gfg-icon gfg-icon_arrow-right\"></i><ul class=\"mega-dropdown Screen_3\"><li class=\"mega-dropdown__list-item\" data-child=\"true\" aria-expanded=\"false\" data-expandable=\"false\"><a href=\"https://www.geeksforgeeks.org/java-programming-examples/?ref=outind\" target=\"_self\">Java Programming Examples</a></li><li class=\"mega-dropdown__list-item\" data-child=\"true\" aria-expanded=\"false\" data-expandable=\"false\"><a href=\"https://www.geeksforgeeks.org/java-array-programs/?ref=outind\" target=\"_self\">Java Array Programs</a></li><li class=\"mega-dropdown__list-item\" data-child=\"true\" aria-expanded=\"false\" data-expandable=\"false\"><a href=\"https://www.geeksforgeeks.org/java-string-programs/?ref=outind\" target=\"_self\">Java String Programs</a></li><li class=\"mega-dropdown__list-item\" data-child=\"true\" aria-expanded=\"false\" data-expandable=\"false\"><a href=\"https://www.geeksforgeeks.org/java-date-time-programs/?ref=outind\" target=\"_self\">Java Date-Time Programs</a></li><li class=\"mega-dropdown__list-item\" data-child=\"true\" aria-expanded=\"false\" data-expandable=\"false\"><a href=\"https://www.geeksforgeeks.org/java-file-handling-programs/?ref=outind\" target=\"_self\">Java File Handling Programs</a></li><li class=\"mega-dropdown__list-item\" data-child=\"true\" aria-expanded=\"false\" data-expandable=\"false\"><a href=\"https://www.geeksforgeeks.org/java-collection-programs/?ref=outind\" target=\"_self\">Java Collection Programs</a></li><li class=\"mega-dropdown__list-item\" data-child=\"true\" aria-expanded=\"false\" data-expandable=\"false\"><a href=\"https://www.geeksforgeeks.org/java-jdbc-programs/?ref=outind\" target=\"_self\">Java JDBC Programs</a></li><li class=\"mega-dropdown__list-item\" data-child=\"true\" aria-expanded=\"false\" data-expandable=\"false\"><a href=\"https://www.geeksforgeeks.org/java-apache-poi-programs/?ref=outind\" target=\"_self\">Java Apache POI Programs</a></li><li class=\"mega-dropdown__list-item\" data-child=\"true\" aria-expanded=\"false\" data-expandable=\"false\"><a href=\"https://www.geeksforgeeks.org/java-opencv-programs/?ref=outind\" target=\"_self\">Java OpenCV Programs</a></li></ul></li><li class=\"mega-dropdown__list-item\" data-parent=\"false\" aria-expanded=\"true\" data-expandable=\"true\"><span>Java Interview Questions</span><i class=\"gfg-icon gfg-icon_arrow-right\"></i><ul class=\"mega-dropdown Screen_3\"><li class=\"mega-dropdown__list-item\" data-child=\"true\" aria-expanded=\"false\" data-expandable=\"false\"><a href=\"https://www.geeksforgeeks.org/java-interview-questions/?ref=outind\" target=\"_self\">Java Interview Questions</a></li><li class=\"mega-dropdown__list-item\" data-child=\"true\" aria-expanded=\"false\" data-expandable=\"false\"><a href=\"https://www.geeksforgeeks.org/core-java-interview-questions-for-freshers/?ref=outind\" target=\"_self\">Core Java Interview Questions-Freshers</a></li><li class=\"mega-dropdown__list-item\" data-child=\"true\" aria-expanded=\"false\" data-expandable=\"false\"><a href=\"https://www.geeksforgeeks.org/top-20-java-multithreading-interview-questions-answers/?ref=outind\" target=\"_self\">Java Multithreading Interview Questions</a></li><li class=\"mega-dropdown__list-item\" data-child=\"true\" aria-expanded=\"false\" data-expandable=\"false\"><a href=\"https://www.geeksforgeeks.org/oops-interview-questions/?ref=outind\" target=\"_self\">OOPs Interview Questions and Answers</a></li></ul></li><li class=\"mega-dropdown__list-item\" data-child=\"true\" aria-expanded=\"false\" data-expandable=\"false\"><a href=\"https://www.geeksforgeeks.org/java-exercises/?ref=outind\" target=\"_self\">Java Exercises</a></li><li class=\"mega-dropdown__list-item\" data-parent=\"false\" aria-expanded=\"true\" data-expandable=\"true\"><span>Java Quiz</span><i class=\"gfg-icon gfg-icon_arrow-right\"></i><ul class=\"mega-dropdown Screen_3\"><li class=\"mega-dropdown__list-item\" data-child=\"true\" aria-expanded=\"false\" data-expandable=\"false\"><a href=\"https://www.geeksforgeeks.org/50-java-language-mcqs-with-answers-2/?ref=outind\" target=\"_self\">Java Quiz</a></li><li class=\"mega-dropdown__list-item\" data-child=\"true\" aria-expanded=\"false\" data-expandable=\"false\"><a href=\"https://www.geeksforgeeks.org/java-multiple-choice-questions/?ref=outind\" target=\"_self\">Core Java MCQ</a></li></ul></li><li class=\"mega-dropdown__list-item\" data-child=\"true\" aria-expanded=\"false\" data-expandable=\"false\"><a href=\"https://www.geeksforgeeks.org/java-projects/?ref=outind\" target=\"_self\">Java Projects</a></li><li class=\"mega-dropdown__list-item\" data-parent=\"false\" aria-expanded=\"true\" data-expandable=\"true\"><span>Advance Java</span><i class=\"gfg-icon gfg-icon_arrow-right\"></i><ul class=\"mega-dropdown Screen_3\"><li class=\"mega-dropdown__list-item\" data-child=\"true\" aria-expanded=\"false\" data-expandable=\"false\"><a href=\"https://www.geeksforgeeks.org/spring/?ref=outind\" target=\"_self\">Spring Tutorial</a></li><li class=\"mega-dropdown__list-item\" data-child=\"true\" aria-expanded=\"false\" data-expandable=\"false\"><a href=\"https://www.geeksforgeeks.org/spring-boot/?ref=outind\" target=\"_self\">Spring Boot Tutorial</a></li><li class=\"mega-dropdown__list-item\" data-child=\"true\" aria-expanded=\"false\" data-expandable=\"false\"><a href=\"https://www.geeksforgeeks.org/spring-boot-interview-questions/?ref=outind\" target=\"_self\">Spring Boot Interview Questions</a></li><li class=\"mega-dropdown__list-item\" data-child=\"true\" aria-expanded=\"false\" data-expandable=\"false\"><a href=\"https://www.geeksforgeeks.org/spring-mvc/?ref=outind\" target=\"_self\">Spring MVC Tutorial</a></li><li class=\"mega-dropdown__list-item\" data-child=\"true\" aria-expanded=\"false\" data-expandable=\"false\"><a href=\"https://www.geeksforgeeks.org/spring-mvc-interview-questions/?ref=outind\" target=\"_self\">Spring MVC Interview Questions</a></li><li class=\"mega-dropdown__list-item\" data-child=\"true\" aria-expanded=\"false\" data-expandable=\"false\"><a href=\"https://www.geeksforgeeks.org/hibernate-tutorial/?ref=outind\" target=\"_self\">Hibernate Tutorial</a></li><li class=\"mega-dropdown__list-item\" data-child=\"true\" aria-expanded=\"false\" data-expandable=\"false\"><a href=\"https://www.geeksforgeeks.org/hibernate-interview-questions/?ref=outind\" target=\"_self\">Hibernate Interview Questions</a></li></ul></li></ul></li><li class=\"mega-dropdown__list-item\" data-parent=\"false\" aria-expanded=\"true\" data-expandable=\"true\"><span>Programming Languages</span><i class=\"gfg-icon gfg-icon_arrow-right\"></i><ul class=\"mega-dropdown Screen_2\"><li class=\"mega-dropdown__list-item\" data-child=\"true\" aria-expanded=\"false\" data-expandable=\"false\"><a href=\"https://www.geeksforgeeks.org/c-programming-language/?ref=outind\" target=\"_self\">C</a></li><li class=\"mega-dropdown__list-item\" data-child=\"true\" aria-expanded=\"false\" data-expandable=\"false\"><a href=\"https://www.geeksforgeeks.org/c-plus-plus/?ref=outind\" target=\"_self\">C++</a></li><li class=\"mega-dropdown__list-item\" data-child=\"true\" aria-expanded=\"false\" data-expandable=\"false\"><a href=\"https://www.geeksforgeeks.org/learn-javascript-js-roadmap-for-beginners/?ref=outind\" target=\"_self\">JavaScript</a></li><li class=\"mega-dropdown__list-item\" data-child=\"true\" aria-expanded=\"false\" data-expandable=\"false\"><a href=\"https://www.geeksforgeeks.org/php-tutorials/?ref=outind\" target=\"_self\">PHP</a></li><li class=\"mega-dropdown__list-item\" data-child=\"true\" aria-expanded=\"false\" data-expandable=\"false\"><a href=\"https://www.geeksforgeeks.org/r-tutorial/?ref=outind\" target=\"_self\">R Tutorial</a></li><li class=\"mega-dropdown__list-item\" data-child=\"true\" aria-expanded=\"false\" data-expandable=\"false\"><a href=\"https://www.geeksforgeeks.org/csharp-programming-language/?ref=outind\" target=\"_self\">C#</a></li><li class=\"mega-dropdown__list-item\" data-child=\"true\" aria-expanded=\"false\" data-expandable=\"false\"><a href=\"https://www.geeksforgeeks.org/sql-tutorial/?ref=outind\" target=\"_self\">SQL</a></li><li class=\"mega-dropdown__list-item\" data-child=\"true\" aria-expanded=\"false\" data-expandable=\"false\"><a href=\"https://www.geeksforgeeks.org/scala-programming-language/?ref=outind\" target=\"_self\">Scala</a></li><li class=\"mega-dropdown__list-item\" data-child=\"true\" aria-expanded=\"false\" data-expandable=\"false\"><a href=\"https://www.geeksforgeeks.org/perl-programming-language/?ref=outind\" target=\"_self\">Perl</a></li><li class=\"mega-dropdown__list-item\" data-child=\"true\" aria-expanded=\"false\" data-expandable=\"false\"><a href=\"https://www.geeksforgeeks.org/golang/?ref=outind\" target=\"_self\">Go Language</a></li><li class=\"mega-dropdown__list-item\" data-child=\"true\" aria-expanded=\"false\" data-expandable=\"false\"><a href=\"https://www.geeksforgeeks.org/kotlin-programming-language/?ref=outind\" target=\"_self\">Kotlin</a></li></ul></li><li class=\"mega-dropdown__list-item\" data-parent=\"false\" aria-expanded=\"true\" data-expandable=\"true\"><span>System Design</span><i class=\"gfg-icon gfg-icon_arrow-right\"></i><ul class=\"mega-dropdown Screen_2\"><li class=\"mega-dropdown__list-item\" data-parent=\"false\" aria-expanded=\"true\" data-expandable=\"true\"><span>System Design Tutorial</span><i class=\"gfg-icon gfg-icon_arrow-right\"></i><ul class=\"mega-dropdown Screen_3\"><li class=\"mega-dropdown__list-item\" data-child=\"true\" aria-expanded=\"false\" data-expandable=\"false\"><a href=\"https://www.geeksforgeeks.org/what-is-system-design-learn-system-design/?ref=outind\" target=\"_self\">What is System Design</a></li><li class=\"mega-dropdown__list-item\" data-child=\"true\" aria-expanded=\"false\" data-expandable=\"false\"><a href=\"https://www.geeksforgeeks.org/important-key-concepts-and-terminologies-learn-system-design/?ref=outind\" target=\"_self\">Key Terminologies in System Design</a></li><li class=\"mega-dropdown__list-item\" data-child=\"true\" aria-expanded=\"false\" data-expandable=\"false\"><a href=\"https://www.geeksforgeeks.org/analysis-of-monolithic-and-distributed-systems-learn-system-design/?ref=outind\" target=\"_self\">Analysis and Architecture of Systems</a></li><li class=\"mega-dropdown__list-item\" data-child=\"true\" aria-expanded=\"false\" data-expandable=\"false\"><a href=\"https://www.geeksforgeeks.org/what-is-scalability-and-how-to-achieve-it-learn-system-design/?ref=outind\" target=\"_self\">Scalability in System Design</a></li><li class=\"mega-dropdown__list-item\" data-child=\"true\" aria-expanded=\"false\" data-expandable=\"false\"><a href=\"https://www.geeksforgeeks.org/complete-reference-to-databases-in-designing-systems/?ref=outind\" target=\"_self\">Databases in System Design</a></li><li class=\"mega-dropdown__list-item\" data-child=\"true\" aria-expanded=\"false\" data-expandable=\"false\"><a href=\"https://www.geeksforgeeks.org/what-is-high-level-design-learn-system-design/?ref=outind\" target=\"_self\">High Level Design or HLD</a></li><li class=\"mega-dropdown__list-item\" data-child=\"true\" aria-expanded=\"false\" data-expandable=\"false\"><a href=\"https://www.geeksforgeeks.org/what-is-low-level-design-or-lld-learn-system-design/?ref=outind\" target=\"_self\">Low Level Design or LLD</a></li><li class=\"mega-dropdown__list-item\" data-child=\"true\" aria-expanded=\"false\" data-expandable=\"false\"><a href=\"https://www.geeksforgeeks.org/communication-protocols-in-system-design/?ref=outind\" target=\"_self\">Communication Protocols</a></li><li class=\"mega-dropdown__list-item\" data-child=\"true\" aria-expanded=\"false\" data-expandable=\"false\"><a href=\"https://www.geeksforgeeks.org/web-server-proxies-and-their-role-in-designing-systems/?ref=outind\" target=\"_self\">Web Servers and Proxies</a></li><li class=\"mega-dropdown__list-item\" data-child=\"true\" aria-expanded=\"false\" data-expandable=\"false\"><a href=\"https://www.geeksforgeeks.org/top-10-system-design-interview-questions-and-answers/?ref=outind\" target=\"_self\">Case Studies in Designing Systems</a></li><li class=\"mega-dropdown__list-item\" data-child=\"true\" aria-expanded=\"false\" data-expandable=\"false\"><a href=\"https://www.geeksforgeeks.org/system-design-tutorial/?ref=outind\" target=\"_self\">Complete System Design Tutorial</a></li></ul></li><li class=\"mega-dropdown__list-item\" data-parent=\"false\" aria-expanded=\"true\" data-expandable=\"true\"><span>Software Design Patterns</span><i class=\"gfg-icon gfg-icon_arrow-right\"></i><ul class=\"mega-dropdown Screen_3\"><li class=\"mega-dropdown__list-item\" data-child=\"true\" aria-expanded=\"false\" data-expandable=\"false\"><a href=\"https://www.geeksforgeeks.org/design-patterns-set-1-introduction/?ref=outind\" target=\"_self\">Factory Pattern</a></li><li class=\"mega-dropdown__list-item\" data-child=\"true\" aria-expanded=\"false\" data-expandable=\"false\"><a href=\"https://www.geeksforgeeks.org/observer-pattern-set-1-introduction/?ref=outind\" target=\"_self\">Observer Pattern</a></li><li class=\"mega-dropdown__list-item\" data-child=\"true\" aria-expanded=\"false\" data-expandable=\"false\"><a href=\"https://www.geeksforgeeks.org/singleton-design-pattern/?ref=outind\" target=\"_self\">Singleton Design Pattern</a></li><li class=\"mega-dropdown__list-item\" data-child=\"true\" aria-expanded=\"false\" data-expandable=\"false\"><a href=\"https://www.geeksforgeeks.org/decorator-pattern/?ref=outind\" target=\"_self\">Decorator Pattern</a></li><li class=\"mega-dropdown__list-item\" data-child=\"true\" aria-expanded=\"false\" data-expandable=\"false\"><a href=\"https://www.geeksforgeeks.org/strategy-pattern-set-1/?ref=outind\" target=\"_self\">Strategy Pattern</a></li><li class=\"mega-dropdown__list-item\" data-child=\"true\" aria-expanded=\"false\" data-expandable=\"false\"><a href=\"https://www.geeksforgeeks.org/adapter-pattern/?ref=outind\" target=\"_self\">Adapter Pattern</a></li><li class=\"mega-dropdown__list-item\" data-child=\"true\" aria-expanded=\"false\" data-expandable=\"false\"><a href=\"https://www.geeksforgeeks.org/command-pattern/?ref=outind\" target=\"_self\">Command Pattern</a></li><li class=\"mega-dropdown__list-item\" data-child=\"true\" aria-expanded=\"false\" data-expandable=\"false\"><a href=\"https://www.geeksforgeeks.org/iterator-pattern/?ref=outind\" target=\"_self\">Iterator Pattern</a></li><li class=\"mega-dropdown__list-item\" data-child=\"true\" aria-expanded=\"false\" data-expandable=\"false\"><a href=\"https://www.geeksforgeeks.org/prototype-design-pattern/?ref=outind\" target=\"_self\">Prototype Design Pattern</a></li><li class=\"mega-dropdown__list-item\" data-child=\"true\" aria-expanded=\"false\" data-expandable=\"false\"><a href=\"https://www.geeksforgeeks.org/software-design-patterns/?ref=outind\" target=\"_self\">All Design Patterns</a></li></ul></li><li class=\"mega-dropdown__list-item\" data-child=\"true\" aria-expanded=\"false\" data-expandable=\"false\"><a href=\"https://www.geeksforgeeks.org/complete-roadmap-to-learn-system-design/?ref=outind\" target=\"_self\">System Design Roadmap</a></li><li class=\"mega-dropdown__list-item\" data-child=\"true\" aria-expanded=\"false\" data-expandable=\"false\"><a href=\"https://www.geeksforgeeks.org/top-10-system-design-interview-questions-and-answers/?ref=outind\" target=\"_self\">Top 10 System Design Interview Questions and Answers</a></li></ul></li><li class=\"mega-dropdown__list-item\" data-parent=\"false\" aria-expanded=\"true\" data-expandable=\"true\"><span>Interview Corner</span><i class=\"gfg-icon gfg-icon_arrow-right\"></i><ul class=\"mega-dropdown Screen_2\"><li class=\"mega-dropdown__list-item\" data-child=\"true\" aria-expanded=\"false\" data-expandable=\"false\"><a href=\"https://www.geeksforgeeks.org/company-preparation/?ref=outind\" target=\"_self\">Company Preparation</a></li><li class=\"mega-dropdown__list-item\" data-child=\"true\" aria-expanded=\"false\" data-expandable=\"false\"><a href=\"https://www.geeksforgeeks.org/interview-preparation-for-software-developer/?ref=outind\" target=\"_self\">Top Topics</a></li><li class=\"mega-dropdown__list-item\" data-child=\"true\" aria-expanded=\"false\" data-expandable=\"false\"><a href=\"https://practice.geeksforgeeks.org/company-tags/?ref=outind\" target=\"_self\">Practice Company Questions</a></li><li class=\"mega-dropdown__list-item\" data-child=\"true\" aria-expanded=\"false\" data-expandable=\"false\"><a href=\"https://www.geeksforgeeks.org/company-interview-corner/?ref=outind\" target=\"_self\">Interview Experiences</a></li><li class=\"mega-dropdown__list-item\" data-child=\"true\" aria-expanded=\"false\" data-expandable=\"false\"><a href=\"https://www.geeksforgeeks.org/experienced-interview-experiences-company-wise/?ref=outind\" target=\"_self\">Experienced Interviews</a></li><li class=\"mega-dropdown__list-item\" data-child=\"true\" aria-expanded=\"false\" data-expandable=\"false\"><a href=\"https://www.geeksforgeeks.org/internship-interview-experiences-company-wise/?ref=outind\" target=\"_self\">Internship Interviews</a></li><li class=\"mega-dropdown__list-item\" data-child=\"true\" aria-expanded=\"false\" data-expandable=\"false\"><a href=\"https://www.geeksforgeeks.org/competitive-programming-a-complete-guide/?ref=outind\" target=\"_self\">Competitive Programming</a></li><li class=\"mega-dropdown__list-item\" data-child=\"true\" aria-expanded=\"false\" data-expandable=\"false\"><a href=\"https://www.geeksforgeeks.org/quiz-corner-gq/?ref=outind\" target=\"_self\">Multiple Choice Quizzes</a></li><li class=\"mega-dropdown__list-item\" data-child=\"true\" aria-expanded=\"false\" data-expandable=\"false\"><a href=\"https://www.geeksforgeeks.org/aptitude-questions-and-answers/?ref=outind\" target=\"_self\">Aptitude for Placements</a></li></ul></li><li class=\"mega-dropdown__list-item\" data-parent=\"false\" aria-expanded=\"true\" data-expandable=\"true\"><span>Computer Science Subjects</span><i class=\"gfg-icon gfg-icon_arrow-right\"></i><ul class=\"mega-dropdown Screen_2\"><li class=\"mega-dropdown__list-item\" data-child=\"true\" aria-expanded=\"false\" data-expandable=\"false\"><a href=\"https://www.geeksforgeeks.org/engineering-mathematics-tutorials/?ref=outind\" target=\"_self\">Mathematics</a></li><li class=\"mega-dropdown__list-item\" data-child=\"true\" aria-expanded=\"false\" data-expandable=\"false\"><a href=\"https://www.geeksforgeeks.org/operating-systems/?ref=outind\" target=\"_self\">Operating System</a></li><li class=\"mega-dropdown__list-item\" data-child=\"true\" aria-expanded=\"false\" data-expandable=\"false\"><a href=\"https://www.geeksforgeeks.org/dbms/?ref=outind\" target=\"_self\">DBMS</a></li><li class=\"mega-dropdown__list-item\" data-child=\"true\" aria-expanded=\"false\" data-expandable=\"false\"><a href=\"https://www.geeksforgeeks.org/computer-network-tutorials/?ref=outind\" target=\"_self\">Computer Networks</a></li><li class=\"mega-dropdown__list-item\" data-child=\"true\" aria-expanded=\"false\" data-expandable=\"false\"><a href=\"https://www.geeksforgeeks.org/computer-organization-and-architecture-tutorials/?ref=outind\" target=\"_self\">Computer Organization and Architecture</a></li><li class=\"mega-dropdown__list-item\" data-child=\"true\" aria-expanded=\"false\" data-expandable=\"false\"><a href=\"https://www.geeksforgeeks.org/theory-of-computation-automata-tutorials/?ref=outind\" target=\"_self\">Theory of Computation</a></li><li class=\"mega-dropdown__list-item\" data-child=\"true\" aria-expanded=\"false\" data-expandable=\"false\"><a href=\"https://www.geeksforgeeks.org/compiler-design-tutorials/?ref=outind\" target=\"_self\">Compiler Design</a></li><li class=\"mega-dropdown__list-item\" data-child=\"true\" aria-expanded=\"false\" data-expandable=\"false\"><a href=\"https://www.geeksforgeeks.org/digital-electronics-logic-design-tutorials/#blg/?ref=outind\" target=\"_self\">Digital Logic</a></li><li class=\"mega-dropdown__list-item\" data-child=\"true\" aria-expanded=\"false\" data-expandable=\"false\"><a href=\"https://www.geeksforgeeks.org/software-engineering/?ref=outind\" target=\"_self\">Software Engineering</a></li></ul></li><li class=\"mega-dropdown__list-item\" data-parent=\"false\" aria-expanded=\"true\" data-expandable=\"true\"><span>DevOps</span><i class=\"gfg-icon gfg-icon_arrow-right\"></i><ul class=\"mega-dropdown Screen_2\"><li class=\"mega-dropdown__list-item\" data-child=\"true\" aria-expanded=\"false\" data-expandable=\"false\"><a href=\"https://www.geeksforgeeks.org/git-tutorial/?ref=outind\" target=\"_self\">GIT</a></li><li class=\"mega-dropdown__list-item\" data-child=\"true\" aria-expanded=\"false\" data-expandable=\"false\"><a href=\"https://www.geeksforgeeks.org/aws-tutorial/?ref=outind\" target=\"_self\">AWS</a></li><li class=\"mega-dropdown__list-item\" data-child=\"true\" aria-expanded=\"false\" data-expandable=\"false\"><a href=\"https://www.geeksforgeeks.org/docker-tutorial/?ref=outind\" target=\"_self\">Docker</a></li><li class=\"mega-dropdown__list-item\" data-child=\"true\" aria-expanded=\"false\" data-expandable=\"false\"><a href=\"https://www.geeksforgeeks.org/kubernetes-tutorial/?ref=outind\" target=\"_self\">Kubernetes</a></li><li class=\"mega-dropdown__list-item\" data-child=\"true\" aria-expanded=\"false\" data-expandable=\"false\"><a href=\"https://www.geeksforgeeks.org/microsoft-azure/?ref=outind\" target=\"_self\">Microsoft Azure Tutorial</a></li><li class=\"mega-dropdown__list-item\" data-child=\"true\" aria-expanded=\"false\" data-expandable=\"false\"><a href=\"https://www.geeksforgeeks.org/google-cloud-platform-tutorial/?ref=outind\" target=\"_self\">Google Cloud Platform</a></li></ul></li><li class=\"mega-dropdown__list-item\" data-parent=\"false\" aria-expanded=\"true\" data-expandable=\"true\"><span>Linux</span><i class=\"gfg-icon gfg-icon_arrow-right\"></i><ul class=\"mega-dropdown Screen_2\"><li class=\"mega-dropdown__list-item\" data-child=\"true\" aria-expanded=\"false\" data-expandable=\"false\"><a href=\"https://www.geeksforgeeks.org/linux-tutorial/?ref=outind\" target=\"_self\">Linux Tutorial</a></li><li class=\"mega-dropdown__list-item\" data-child=\"true\" aria-expanded=\"false\" data-expandable=\"false\"><a href=\"https://www.geeksforgeeks.org/linux-commands/?ref=outind\" target=\"_self\">Linux Commands A-Z</a></li><li class=\"mega-dropdown__list-item\" data-child=\"true\" aria-expanded=\"false\" data-expandable=\"false\"><a href=\"https://www.geeksforgeeks.org/linux-commands-cheat-sheet/?ref=outind\" target=\"_self\">Linux Commands Cheatsheet</a></li><li class=\"mega-dropdown__list-item\" data-child=\"true\" aria-expanded=\"false\" data-expandable=\"false\"><a href=\"https://www.geeksforgeeks.org/basic-linux-commands/?ref=outind\" target=\"_self\">25 Basic Linux Commands</a></li><li class=\"mega-dropdown__list-item\" data-child=\"true\" aria-expanded=\"false\" data-expandable=\"false\"><a href=\"https://www.geeksforgeeks.org/file-management-in-linux/?ref=outind\" target=\"_self\">File Mangement in Linux</a></li><li class=\"mega-dropdown__list-item\" data-parent=\"false\" aria-expanded=\"true\" data-expandable=\"true\"><span>File Permission Commands</span><i class=\"gfg-icon gfg-icon_arrow-right\"></i><ul class=\"mega-dropdown Screen_3\"><li class=\"mega-dropdown__list-item\" data-child=\"true\" aria-expanded=\"false\" data-expandable=\"false\"><a href=\"https://www.geeksforgeeks.org/chmod-command-linux/?ref=outind\" target=\"_self\">chmod Command</a></li><li class=\"mega-dropdown__list-item\" data-child=\"true\" aria-expanded=\"false\" data-expandable=\"false\"><a href=\"https://www.geeksforgeeks.org/chown-command-in-linux-with-examples/?ref=outind\" target=\"_self\">chown Command</a></li><li class=\"mega-dropdown__list-item\" data-child=\"true\" aria-expanded=\"false\" data-expandable=\"false\"><a href=\"https://www.geeksforgeeks.org/chgrp-command-in-linux-with-examples/?ref=outind\" target=\"_self\">chgrp Command</a></li><li class=\"mega-dropdown__list-item\" data-child=\"true\" aria-expanded=\"false\" data-expandable=\"false\"><a href=\"https://www.geeksforgeeks.org/umask-command-in-linux-with-examples/?ref=outind\" target=\"_self\">unmask Command</a></li></ul></li><li class=\"mega-dropdown__list-item\" data-child=\"true\" aria-expanded=\"false\" data-expandable=\"false\"><a href=\"https://www.geeksforgeeks.org/beginners-guide-to-linux-system-administration/?ref=outind\" target=\"_self\">Linux System Administration</a></li><li class=\"mega-dropdown__list-item\" data-child=\"true\" aria-expanded=\"false\" data-expandable=\"false\"><a href=\"https://www.geeksforgeeks.org/linux-file-system/?ref=outind\" target=\"_self\">Linux File System</a></li><li class=\"mega-dropdown__list-item\" data-child=\"true\" aria-expanded=\"false\" data-expandable=\"false\"><a href=\"https://www.geeksforgeeks.org/introduction-linux-shell-shell-scripting/?ref=outind\" target=\"_self\">Linux Shell Scripting</a></li><li class=\"mega-dropdown__list-item\" data-child=\"true\" aria-expanded=\"false\" data-expandable=\"false\"><a href=\"https://www.geeksforgeeks.org/network-configuration-trouble-shooting-commands-linux/?ref=outind\" target=\"_self\">Linux Networking</a></li><li class=\"mega-dropdown__list-item\" data-child=\"true\" aria-expanded=\"false\" data-expandable=\"false\"><a href=\"https://www.geeksforgeeks.org/linux-firewall/?ref=outind\" target=\"_self\">Linux Firewall</a></li><li class=\"mega-dropdown__list-item\" data-child=\"true\" aria-expanded=\"false\" data-expandable=\"false\"><a href=\"https://www.geeksforgeeks.org/linux-interview-questions/?ref=outind\" target=\"_self\">Linux Interview Questions</a></li></ul></li><li class=\"mega-dropdown__list-item\" data-parent=\"false\" aria-expanded=\"true\" data-expandable=\"true\"><span>Software Testing</span><i class=\"gfg-icon gfg-icon_arrow-right\"></i><ul class=\"mega-dropdown Screen_2\"><li class=\"mega-dropdown__list-item\" data-parent=\"false\" aria-expanded=\"true\" data-expandable=\"true\"><span>Software Testing Tutorial</span><i class=\"gfg-icon gfg-icon_arrow-right\"></i><ul class=\"mega-dropdown Screen_3\"><li class=\"mega-dropdown__list-item\" data-child=\"true\" aria-expanded=\"false\" data-expandable=\"false\"><a href=\"https://www.geeksforgeeks.org/software-testing-tutorial/?ref=outind\" target=\"_self\">Software Testing Tutorial</a></li><li class=\"mega-dropdown__list-item\" data-child=\"true\" aria-expanded=\"false\" data-expandable=\"false\"><a href=\"https://www.geeksforgeeks.org/software-testing-basics/?ref=outind\" target=\"_self\">What is Software Testing</a></li><li class=\"mega-dropdown__list-item\" data-child=\"true\" aria-expanded=\"false\" data-expandable=\"false\"><a href=\"https://www.geeksforgeeks.org/software-engineering-seven-principles-of-software-testing/?ref=outind\" target=\"_self\">Principles of Software Testing</a></li><li class=\"mega-dropdown__list-item\" data-child=\"true\" aria-expanded=\"false\" data-expandable=\"false\"><a href=\"https://www.geeksforgeeks.org/types-software-testing/?ref=outind\" target=\"_self\">Types of Software Testing</a></li><li class=\"mega-dropdown__list-item\" data-child=\"true\" aria-expanded=\"false\" data-expandable=\"false\"><a href=\"https://www.geeksforgeeks.org/levels-of-software-testing/?ref=outind\" target=\"_self\">Levels of Software Testing</a></li><li class=\"mega-dropdown__list-item\" data-child=\"true\" aria-expanded=\"false\" data-expandable=\"false\"><a href=\"https://www.geeksforgeeks.org/automation-testing-software-testing/?ref=outind\" target=\"_self\">Automation Testing</a></li><li class=\"mega-dropdown__list-item\" data-child=\"true\" aria-expanded=\"false\" data-expandable=\"false\"><a href=\"https://www.geeksforgeeks.org/software-testing-manual-testing/?ref=outind\" target=\"_self\">Manual Testing</a></li></ul></li><li class=\"mega-dropdown__list-item\" data-parent=\"false\" aria-expanded=\"true\" data-expandable=\"true\"><span>Testing Tools</span><i class=\"gfg-icon gfg-icon_arrow-right\"></i><ul class=\"mega-dropdown Screen_3\"><li class=\"mega-dropdown__list-item\" data-child=\"true\" aria-expanded=\"false\" data-expandable=\"false\"><a href=\"https://www.geeksforgeeks.org/software-testing-tools/?ref=outind\" target=\"_self\">Software Testing Tools</a></li><li class=\"mega-dropdown__list-item\" data-child=\"true\" aria-expanded=\"false\" data-expandable=\"false\"><a href=\"https://www.geeksforgeeks.org/software-testing-defect-testing-tools/?ref=outind\" target=\"_self\">Defect Testing Tools</a></li><li class=\"mega-dropdown__list-item\" data-child=\"true\" aria-expanded=\"false\" data-expandable=\"false\"><a href=\"https://www.geeksforgeeks.org/software-testing-cross-browser-testing-tools/?ref=outind\" target=\"_self\">Cross-Browser Testing Tools</a></li><li class=\"mega-dropdown__list-item\" data-child=\"true\" aria-expanded=\"false\" data-expandable=\"false\"><a href=\"https://www.geeksforgeeks.org/software-testing-integration-testing-tool/?ref=outind\" target=\"_self\">Integration Testing Tool</a></li><li class=\"mega-dropdown__list-item\" data-child=\"true\" aria-expanded=\"false\" data-expandable=\"false\"><a href=\"https://www.geeksforgeeks.org/software-testing-unit-testing-tools/?ref=outind\" target=\"_self\">Unit Testing Tools</a></li><li class=\"mega-dropdown__list-item\" data-child=\"true\" aria-expanded=\"false\" data-expandable=\"false\"><a href=\"https://www.geeksforgeeks.org/software-testing-mobile-testing-tools/?ref=outind\" target=\"_self\">Mobile Testing Tools</a></li><li class=\"mega-dropdown__list-item\" data-child=\"true\" aria-expanded=\"false\" data-expandable=\"false\"><a href=\"https://www.geeksforgeeks.org/software-testing-gui-testing-tool/?ref=outind\" target=\"_self\">GUI Testing Tool</a></li><li class=\"mega-dropdown__list-item\" data-child=\"true\" aria-expanded=\"false\" data-expandable=\"false\"><a href=\"https://www.geeksforgeeks.org/software-testing-security-testing-tools/?ref=outind\" target=\"_self\">Security Testing Tools</a></li><li class=\"mega-dropdown__list-item\" data-child=\"true\" aria-expanded=\"false\" data-expandable=\"false\"><a href=\"https://www.geeksforgeeks.org/penetration-testing-software-engineering/?ref=outind\" target=\"_self\">Penetration Testing Tools</a></li></ul></li><li class=\"mega-dropdown__list-item\" data-parent=\"false\" aria-expanded=\"true\" data-expandable=\"true\"><span>Selenium</span><i class=\"gfg-icon gfg-icon_arrow-right\"></i><ul class=\"mega-dropdown Screen_3\"><li class=\"mega-dropdown__list-item\" data-child=\"true\" aria-expanded=\"false\" data-expandable=\"false\"><a href=\"https://www.geeksforgeeks.org/selenium-python-tutorial/?ref=outind\" target=\"_self\">Selenium Tutorial</a></li><li class=\"mega-dropdown__list-item\" data-child=\"true\" aria-expanded=\"false\" data-expandable=\"false\"><a href=\"https://www.geeksforgeeks.org/selenium-basics-components-features-uses-and-limitations/?ref=outind\" target=\"_self\">Selenium Basics</a></li><li class=\"mega-dropdown__list-item\" data-child=\"true\" aria-expanded=\"false\" data-expandable=\"false\"><a href=\"https://www.geeksforgeeks.org/selenium-python-introduction-and-installation/?ref=outind\" target=\"_self\">Selenium Python</a></li></ul></li><li class=\"mega-dropdown__list-item\" data-parent=\"false\" aria-expanded=\"true\" data-expandable=\"true\"><span>Jira</span><i class=\"gfg-icon gfg-icon_arrow-right\"></i><ul class=\"mega-dropdown Screen_3\"><li class=\"mega-dropdown__list-item\" data-child=\"true\" aria-expanded=\"false\" data-expandable=\"false\"><a href=\"https://www.geeksforgeeks.org/jira-tutorial/?ref=outind\" target=\"_self\">Jira Tutorial</a></li><li class=\"mega-dropdown__list-item\" data-child=\"true\" aria-expanded=\"false\" data-expandable=\"false\"><a href=\"https://www.geeksforgeeks.org/jira-installation/?ref=outind\" target=\"_self\">JIRA Installation</a></li><li class=\"mega-dropdown__list-item\" data-child=\"true\" aria-expanded=\"false\" data-expandable=\"false\"><a href=\"https://www.geeksforgeeks.org/jira-login/?ref=outind\" target=\"_self\">JIRA Login</a></li><li class=\"mega-dropdown__list-item\" data-child=\"true\" aria-expanded=\"false\" data-expandable=\"false\"><a href=\"https://www.geeksforgeeks.org/jira-dashboard/?ref=outind\" target=\"_self\">JIRA Dashboard</a></li></ul></li><li class=\"mega-dropdown__list-item\" data-parent=\"false\" aria-expanded=\"true\" data-expandable=\"true\"><span>Software Engineering</span><i class=\"gfg-icon gfg-icon_arrow-right\"></i><ul class=\"mega-dropdown Screen_3\"><li class=\"mega-dropdown__list-item\" data-child=\"true\" aria-expanded=\"false\" data-expandable=\"false\"><a href=\"https://www.geeksforgeeks.org/software-engineering/?ref=outind\" target=\"_self\">Software Engineering Tutorial</a></li><li class=\"mega-dropdown__list-item\" data-child=\"true\" aria-expanded=\"false\" data-expandable=\"false\"><a href=\"https://www.geeksforgeeks.org/software-development-life-cycle-sdlc/?ref=outind\" target=\"_self\">Software Development Life Cycle (SDLC)</a></li><li class=\"mega-dropdown__list-item\" data-child=\"true\" aria-expanded=\"false\" data-expandable=\"false\"><a href=\"https://www.geeksforgeeks.org/software-engineering-software-characteristics/?ref=outind\" target=\"_self\">Software Characteristics</a></li><li class=\"mega-dropdown__list-item\" data-child=\"true\" aria-expanded=\"false\" data-expandable=\"false\"><a href=\"https://www.geeksforgeeks.org/software-engineering-software-quality/?ref=outind\" target=\"_self\">Software Quality</a></li><li class=\"mega-dropdown__list-item\" data-child=\"true\" aria-expanded=\"false\" data-expandable=\"false\"><a href=\"https://www.geeksforgeeks.org/waterfall-model/?ref=outind\" target=\"_self\">Waterfall Model</a></li><li class=\"mega-dropdown__list-item\" data-child=\"true\" aria-expanded=\"false\" data-expandable=\"false\"><a href=\"https://www.geeksforgeeks.org/software-engineering-iterative-waterfall-model/?ref=outind\" target=\"_self\">Iterative Waterfall Model</a></li><li class=\"mega-dropdown__list-item\" data-child=\"true\" aria-expanded=\"false\" data-expandable=\"false\"><a href=\"https://www.geeksforgeeks.org/software-engineering-spiral-model/?ref=outind\" target=\"_self\">Spiral Model</a></li><li class=\"mega-dropdown__list-item\" data-child=\"true\" aria-expanded=\"false\" data-expandable=\"false\"><a href=\"https://www.geeksforgeeks.org/software-engineering-prototyping-model/?ref=outind\" target=\"_self\">Prototyping Model</a></li><li class=\"mega-dropdown__list-item\" data-child=\"true\" aria-expanded=\"false\" data-expandable=\"false\"><a href=\"https://www.geeksforgeeks.org/software-engineering-incremental-process-model/?ref=outind\" target=\"_self\">Incremental Process Model</a></li></ul></li><li class=\"mega-dropdown__list-item\" data-parent=\"false\" aria-expanded=\"true\" data-expandable=\"true\"><span>Interview Questions</span><i class=\"gfg-icon gfg-icon_arrow-right\"></i><ul class=\"mega-dropdown Screen_3\"><li class=\"mega-dropdown__list-item\" data-child=\"true\" aria-expanded=\"false\" data-expandable=\"false\"><a href=\"https://www.geeksforgeeks.org/software-testing-interview-questions/?ref=outind\" target=\"_self\">Software Testing Interview Questions</a></li><li class=\"mega-dropdown__list-item\" data-child=\"true\" aria-expanded=\"false\" data-expandable=\"false\"><a href=\"https://www.geeksforgeeks.org/automation-testing-interview-questions/?ref=outind\" target=\"_self\">Automation Testing Interview Questions</a></li><li class=\"mega-dropdown__list-item\" data-child=\"true\" aria-expanded=\"false\" data-expandable=\"false\"><a href=\"https://www.geeksforgeeks.org/manual-testing-interview-questions/?ref=outind\" target=\"_self\">Manual Testing Interview Questions</a></li><li class=\"mega-dropdown__list-item\" data-child=\"true\" aria-expanded=\"false\" data-expandable=\"false\"><a href=\"https://www.geeksforgeeks.org/top-50-software-engineering-interview-questions-and-answers/?ref=outind\" target=\"_self\">Software Engineering Interview Questions</a></li><li class=\"mega-dropdown__list-item\" data-child=\"true\" aria-expanded=\"false\" data-expandable=\"false\"><a href=\"https://www.geeksforgeeks.org/top-50-penetration-testing-interview-questions-and-answers/?ref=outind\" target=\"_self\">Penetration Testing Interview Questions</a></li><li class=\"mega-dropdown__list-item\" data-child=\"true\" aria-expanded=\"false\" data-expandable=\"false\"><a href=\"https://www.geeksforgeeks.org/api-testing-interview-questions/?ref=outind\" target=\"_self\">API Testing Interview Questions</a></li></ul></li><li class=\"mega-dropdown__list-item\" data-parent=\"false\" aria-expanded=\"true\" data-expandable=\"true\"><span>Postman</span><i class=\"gfg-icon gfg-icon_arrow-right\"></i><ul class=\"mega-dropdown Screen_3\"><li class=\"mega-dropdown__list-item\" data-child=\"true\" aria-expanded=\"false\" data-expandable=\"false\"><a href=\"https://www.geeksforgeeks.org/postman-tutorial/?ref=outind\" target=\"_self\">Postman Tutorial</a></li><li class=\"mega-dropdown__list-item\" data-child=\"true\" aria-expanded=\"false\" data-expandable=\"false\"><a href=\"https://www.geeksforgeeks.org/introduction-postman-api-development/?ref=outind\" target=\"_self\">Postman for API Development</a></li><li class=\"mega-dropdown__list-item\" data-child=\"true\" aria-expanded=\"false\" data-expandable=\"false\"><a href=\"https://www.geeksforgeeks.org/how-to-download-and-install-postman-on-windows/?ref=outind\" target=\"_self\">Download and Install Postman</a></li><li class=\"mega-dropdown__list-item\" data-child=\"true\" aria-expanded=\"false\" data-expandable=\"false\"><a href=\"https://www.geeksforgeeks.org/basics-of-api-testing-using-postman/?ref=outind\" target=\"_self\">API Testing Using Postman</a></li><li class=\"mega-dropdown__list-item\" data-child=\"true\" aria-expanded=\"false\" data-expandable=\"false\"><a href=\"https://www.geeksforgeeks.org/how-to-generate-html-report-for-postman-collection-using-newman/?ref=outind\" target=\"_self\">Generate HTML Report for Postman</a></li></ul></li></ul></li><li class=\"mega-dropdown__list-item\" data-parent=\"false\" aria-expanded=\"true\" data-expandable=\"true\"><span>Databases</span><i class=\"gfg-icon gfg-icon_arrow-right\"></i><ul class=\"mega-dropdown Screen_2\"><li class=\"mega-dropdown__list-item\" data-child=\"true\" aria-expanded=\"false\" data-expandable=\"false\"><a href=\"https://www.geeksforgeeks.org/dbms/?ref=outind\" target=\"_self\">DBMS Tutorial</a></li><li class=\"mega-dropdown__list-item\" data-child=\"true\" aria-expanded=\"false\" data-expandable=\"false\"><a href=\"https://www.geeksforgeeks.org/sql-tutorial/?ref=outind\" target=\"_self\">SQL Tutorial</a></li><li class=\"mega-dropdown__list-item\" data-child=\"true\" aria-expanded=\"false\" data-expandable=\"false\"><a href=\"https://www.geeksforgeeks.org/postgresql-tutorial/?ref=outind\" target=\"_self\">PostgreSQL Tutorial</a></li><li class=\"mega-dropdown__list-item\" data-child=\"true\" aria-expanded=\"false\" data-expandable=\"false\"><a href=\"https://www.geeksforgeeks.org/mongodb-tutorial/?ref=outind\" target=\"_self\">MongoDB Tutorial</a></li><li class=\"mega-dropdown__list-item\" data-child=\"true\" aria-expanded=\"false\" data-expandable=\"false\"><a href=\"https://www.geeksforgeeks.org/sql-interview-questions/?ref=outind\" target=\"_self\">SQL Interview Questions</a></li><li class=\"mega-dropdown__list-item\" data-child=\"true\" aria-expanded=\"false\" data-expandable=\"false\"><a href=\"https://www.geeksforgeeks.org/mysql-interview-questions/?ref=outind\" target=\"_self\">MySQL Interview Questions</a></li><li class=\"mega-dropdown__list-item\" data-child=\"true\" aria-expanded=\"false\" data-expandable=\"false\"><a href=\"https://www.geeksforgeeks.org/pl-sql-interview-questions/?ref=outind\" target=\"_self\">PL/SQL Interview Questions</a></li></ul></li><li class=\"mega-dropdown__list-item\" data-parent=\"false\" aria-expanded=\"true\" data-expandable=\"true\"><span>Android</span><i class=\"gfg-icon gfg-icon_arrow-right\"></i><ul class=\"mega-dropdown Screen_2\"><li class=\"mega-dropdown__list-item\" data-child=\"true\" aria-expanded=\"false\" data-expandable=\"false\"><a href=\"https://www.geeksforgeeks.org/android-tutorial/?ref=outind\" target=\"_self\">Android Tutorial</a></li><li class=\"mega-dropdown__list-item\" data-child=\"true\" aria-expanded=\"false\" data-expandable=\"false\"><a href=\"https://www.geeksforgeeks.org/android-studio-tutorial/?ref=outind\" target=\"_self\">Android Studio Tutorial</a></li><li class=\"mega-dropdown__list-item\" data-child=\"true\" aria-expanded=\"false\" data-expandable=\"false\"><a href=\"https://www.geeksforgeeks.org/kotlin-android-tutorial/?ref=outind\" target=\"_self\">Kotlin For Android</a></li><li class=\"mega-dropdown__list-item\" data-child=\"true\" aria-expanded=\"false\" data-expandable=\"false\"><a href=\"https://www.geeksforgeeks.org/android-projects-from-basic-to-advanced-level/?ref=outind\" target=\"_self\">Android Projects</a></li><li class=\"mega-dropdown__list-item\" data-child=\"true\" aria-expanded=\"false\" data-expandable=\"false\"><a href=\"https://www.geeksforgeeks.org/top-50-android-interview-questions-answers-sde-i-to-sde-iii/?ref=outind\" target=\"_self\">Android Interview Questions</a></li><li class=\"mega-dropdown__list-item\" data-child=\"true\" aria-expanded=\"false\" data-expandable=\"false\"><a href=\"https://www.geeksforgeeks.org/6-weeks-of-android-app-development-free-project-based-learning/?ref=outind\" target=\"_self\">6 Weeks of Android App Development</a></li></ul></li><li class=\"mega-dropdown__list-item\" data-parent=\"false\" aria-expanded=\"true\" data-expandable=\"true\"><span>Excel</span><i class=\"gfg-icon gfg-icon_arrow-right\"></i><ul class=\"mega-dropdown Screen_2\"><li class=\"mega-dropdown__list-item\" data-child=\"true\" aria-expanded=\"false\" data-expandable=\"false\"><a href=\"https://www.geeksforgeeks.org/excel-tutorial/?ref=outind\" target=\"_self\">MS Excel Tutorial</a></li><li class=\"mega-dropdown__list-item\" data-child=\"true\" aria-expanded=\"false\" data-expandable=\"false\"><a href=\"https://www.geeksforgeeks.org/introduction-to-ms-excel/?ref=outind\" target=\"_self\">Introduction to MS Excel</a></li><li class=\"mega-dropdown__list-item\" data-child=\"true\" aria-expanded=\"false\" data-expandable=\"false\"><a href=\"https://www.geeksforgeeks.org/data-analysis-in-excel/?ref=outind\" target=\"_self\">Data Analysis in Excel</a></li><li class=\"mega-dropdown__list-item\" data-child=\"true\" aria-expanded=\"false\" data-expandable=\"false\"><a href=\"https://www.geeksforgeeks.org/basic-excel-formulas-and-functions/?ref=outind\" target=\"_self\">Basic Excel Formulas & Functions</a></li><li class=\"mega-dropdown__list-item\" data-child=\"true\" aria-expanded=\"false\" data-expandable=\"false\"><a href=\"https://www.geeksforgeeks.org/instant-data-analysis-in-advanced-excel/?ref=outind\" target=\"_self\">Data Analysis in Advanced Excel</a></li><li class=\"mega-dropdown__list-item\" data-child=\"true\" aria-expanded=\"false\" data-expandable=\"false\"><a href=\"https://www.geeksforgeeks.org/workbooks-in-microsoft-excel/?ref=outind\" target=\"_self\">Workbooks</a></li><li class=\"mega-dropdown__list-item\" data-child=\"true\" aria-expanded=\"false\" data-expandable=\"false\"><a href=\"https://www.geeksforgeeks.org/statistical-functions-in-excel-with-examples/?ref=outind\" target=\"_self\">Statistical Functions</a></li><li class=\"mega-dropdown__list-item\" data-child=\"true\" aria-expanded=\"false\" data-expandable=\"false\"><a href=\"https://www.geeksforgeeks.org/data-visualization-in-excel/?ref=outind\" target=\"_self\">Data Visualization in Excel</a></li><li class=\"mega-dropdown__list-item\" data-child=\"true\" aria-expanded=\"false\" data-expandable=\"false\"><a href=\"https://www.geeksforgeeks.org/pivot-tables-in-excel/?ref=outind\" target=\"_self\">Pivot Tables in Excel</a></li><li class=\"mega-dropdown__list-item\" data-child=\"true\" aria-expanded=\"false\" data-expandable=\"false\"><a href=\"https://www.geeksforgeeks.org/working-with-excel-spreadsheets-in-python/?ref=outind\" target=\"_self\">Excel Spreadsheets in Python</a></li><li class=\"mega-dropdown__list-item\" data-child=\"true\" aria-expanded=\"false\" data-expandable=\"false\"><a href=\"https://www.geeksforgeeks.org/basic-excel-shortcuts/?ref=outind\" target=\"_self\">Basic Excel Shortcuts</a></li></ul></li><li class=\"mega-dropdown__list-item\" data-parent=\"false\" aria-expanded=\"true\" data-expandable=\"true\"><span>Mathematics</span><i class=\"gfg-icon gfg-icon_arrow-right\"></i><ul class=\"mega-dropdown Screen_2\"><li class=\"mega-dropdown__list-item\" data-child=\"true\" aria-expanded=\"false\" data-expandable=\"false\"><a href=\"https://www.geeksforgeeks.org/number-system-and-arithmetic/?ref=outind\" target=\"_self\">Number System</a></li><li class=\"mega-dropdown__list-item\" data-child=\"true\" aria-expanded=\"false\" data-expandable=\"false\"><a href=\"https://www.geeksforgeeks.org/algebra/?ref=outind\" target=\"_self\">Algebra</a></li><li class=\"mega-dropdown__list-item\" data-child=\"true\" aria-expanded=\"false\" data-expandable=\"false\"><a href=\"https://www.geeksforgeeks.org/linear-algebra/?ref=outind\" target=\"_self\">Linear Algebra</a></li><li class=\"mega-dropdown__list-item\" data-child=\"true\" aria-expanded=\"false\" data-expandable=\"false\"><a href=\"https://www.geeksforgeeks.org/trigonometry/?ref=outind\" target=\"_self\">Trigonometry</a></li><li class=\"mega-dropdown__list-item\" data-child=\"true\" aria-expanded=\"false\" data-expandable=\"false\"><a href=\"https://www.geeksforgeeks.org/set-theory/?ref=outind\" target=\"_self\">Set Theory</a></li><li class=\"mega-dropdown__list-item\" data-child=\"true\" aria-expanded=\"false\" data-expandable=\"false\"><a href=\"https://www.geeksforgeeks.org/statistics/?ref=outind\" target=\"_self\">Statistics</a></li><li class=\"mega-dropdown__list-item\" data-child=\"true\" aria-expanded=\"false\" data-expandable=\"false\"><a href=\"https://www.geeksforgeeks.org/probability-in-maths/?ref=outind\" target=\"_self\">Probability</a></li><li class=\"mega-dropdown__list-item\" data-child=\"true\" aria-expanded=\"false\" data-expandable=\"false\"><a href=\"https://www.geeksforgeeks.org/geometry/?ref=outind\" target=\"_self\">Geometry</a></li><li class=\"mega-dropdown__list-item\" data-child=\"true\" aria-expanded=\"false\" data-expandable=\"false\"><a href=\"https://www.geeksforgeeks.org/mensuration/?ref=outind\" target=\"_self\">Mensuration</a></li><li class=\"mega-dropdown__list-item\" data-child=\"true\" aria-expanded=\"false\" data-expandable=\"false\"><a href=\"https://www.geeksforgeeks.org/logarithms/?ref=outind\" target=\"_self\">Logarithms</a></li><li class=\"mega-dropdown__list-item\" data-child=\"true\" aria-expanded=\"false\" data-expandable=\"false\"><a href=\"https://www.geeksforgeeks.org/calculus/?ref=outind\" target=\"_self\">Calculus</a></li></ul></li><li class=\"mega-dropdown__list-item\" data-parent=\"false\" aria-expanded=\"true\" data-expandable=\"true\"><span>Commerce</span><i class=\"gfg-icon gfg-icon_arrow-right\"></i><ul class=\"mega-dropdown Screen_2\"><li class=\"mega-dropdown__list-item\" data-child=\"true\" aria-expanded=\"false\" data-expandable=\"false\"><a href=\"https://www.geeksforgeeks.org/business-studies/?ref=outind\" target=\"_self\">Business Studies</a></li><li class=\"mega-dropdown__list-item\" data-child=\"true\" aria-expanded=\"false\" data-expandable=\"false\"><a href=\"https://www.geeksforgeeks.org/accountancy/?ref=outind\" target=\"_self\">Accountancy</a></li><li class=\"mega-dropdown__list-item\" data-child=\"true\" aria-expanded=\"false\" data-expandable=\"false\"><a href=\"https://www.geeksforgeeks.org/microeconomics/?ref=outind\" target=\"_self\">Microeconomics</a></li><li class=\"mega-dropdown__list-item\" data-child=\"true\" aria-expanded=\"false\" data-expandable=\"false\"><a href=\"https://www.geeksforgeeks.org/statistics-for-economics/?ref=outind\" target=\"_self\">Statistics for Economics</a></li><li class=\"mega-dropdown__list-item\" data-child=\"true\" aria-expanded=\"false\" data-expandable=\"false\"><a href=\"https://www.geeksforgeeks.org/macroeconomics/?ref=outind\" target=\"_self\">Macroeconomics</a></li><li class=\"mega-dropdown__list-item\" data-child=\"true\" aria-expanded=\"false\" data-expandable=\"false\"><a href=\"https://www.geeksforgeeks.org/human-resource-management-hrm/?ref=outind\" target=\"_self\">Human Resource Management (HRM)</a></li><li class=\"mega-dropdown__list-item\" data-child=\"true\" aria-expanded=\"false\" data-expandable=\"false\"><a href=\"https://www.geeksforgeeks.org/management/?ref=outind\" target=\"_self\">Management</a></li><li class=\"mega-dropdown__list-item\" data-child=\"true\" aria-expanded=\"false\" data-expandable=\"false\"><a href=\"https://www.geeksforgeeks.org/income-tax/?ref=outind\" target=\"_self\">Income Tax</a></li><li class=\"mega-dropdown__list-item\" data-child=\"true\" aria-expanded=\"false\" data-expandable=\"false\"><a href=\"https://www.geeksforgeeks.org/finance/?ref=outind\" target=\"_self\">Finance</a></li><li class=\"mega-dropdown__list-item\" data-child=\"true\" aria-expanded=\"false\" data-expandable=\"false\"><a href=\"https://www.geeksforgeeks.org/commerce/?ref=outind\" target=\"_self\">Commerce Complete Guide</a></li></ul></li><li class=\"mega-dropdown__list-item\" data-parent=\"false\" aria-expanded=\"true\" data-expandable=\"true\"><span>SEO-Search Engine Optimization</span><i class=\"gfg-icon gfg-icon_arrow-right\"></i><ul class=\"mega-dropdown Screen_2\"><li class=\"mega-dropdown__list-item\" data-child=\"true\" aria-expanded=\"false\" data-expandable=\"false\"><a href=\"https://www.geeksforgeeks.org/what-is-seo-or-search-engine-optimization/?ref=outind\" target=\"_self\">What is SEO</a></li><li class=\"mega-dropdown__list-item\" data-child=\"true\" aria-expanded=\"false\" data-expandable=\"false\"><a href=\"https://www.geeksforgeeks.org/search-engine-optimization-seo-basics/?ref=outind\" target=\"_self\">Search Engine Optimization Basics</a></li><li class=\"mega-dropdown__list-item\" data-child=\"true\" aria-expanded=\"false\" data-expandable=\"false\"><a href=\"https://www.geeksforgeeks.org/types-of-seo/?ref=outind\" target=\"_self\">Types of SEO</a></li><li class=\"mega-dropdown__list-item\" data-child=\"true\" aria-expanded=\"false\" data-expandable=\"false\"><a href=\"https://www.geeksforgeeks.org/what-is-keyword-optimization-in-seo/?ref=outind\" target=\"_self\">Keyword Optimization in SEO</a></li><li class=\"mega-dropdown__list-item\" data-child=\"true\" aria-expanded=\"false\" data-expandable=\"false\"><a href=\"https://www.geeksforgeeks.org/backlinks-in-seo/?ref=outind\" target=\"_self\">Backlinks in SEO</a></li><li class=\"mega-dropdown__list-item\" data-child=\"true\" aria-expanded=\"false\" data-expandable=\"false\"><a href=\"https://www.geeksforgeeks.org/tag/seo-blogs/?ref=outind\" target=\"_self\">SEO Blogs</a></li><li class=\"mega-dropdown__list-item\" data-child=\"true\" aria-expanded=\"false\" data-expandable=\"false\"><a href=\"https://www.geeksforgeeks.org/mobile-search-engine-optimization-seo/?ref=outind\" target=\"_self\">Mobile SEO</a></li><li class=\"mega-dropdown__list-item\" data-child=\"true\" aria-expanded=\"false\" data-expandable=\"false\"><a href=\"https://www.geeksforgeeks.org/seo-search-engine-optimization/?ref=outind\" target=\"_self\">SEO Complete Reference</a></li></ul></li><li class=\"mega-dropdown__list-item\" data-parent=\"false\" aria-expanded=\"true\" data-expandable=\"true\"><span>Aptitude</span><i class=\"gfg-icon gfg-icon_arrow-right\"></i><ul class=\"mega-dropdown Screen_2\"><li class=\"mega-dropdown__list-item\" data-child=\"true\" aria-expanded=\"false\" data-expandable=\"false\"><a href=\"https://www.geeksforgeeks.org/aptitude-questions-and-answers/?ref=outind\" target=\"_self\">Aptitude Question and Answers</a></li><li class=\"mega-dropdown__list-item\" data-child=\"true\" aria-expanded=\"false\" data-expandable=\"false\"><a href=\"https://www.geeksforgeeks.org/quantitative-aptitude/?ref=outind\" target=\"_self\">Quantitative Aptitude</a></li><li class=\"mega-dropdown__list-item\" data-child=\"true\" aria-expanded=\"false\" data-expandable=\"false\"><a href=\"https://www.geeksforgeeks.org/logical-reasoning/?ref=outind\" target=\"_self\">Logical Reasoning</a></li><li class=\"mega-dropdown__list-item\" data-child=\"true\" aria-expanded=\"false\" data-expandable=\"false\"><a href=\"https://www.geeksforgeeks.org/verbal-ability/?ref=outind\" target=\"_self\">Verbal Ability</a></li></ul></li></ul></li><li class=\"header-main__list-item Header_2\" data-parent=\"false\" aria-expanded=\"true\" data-expandable=\"true\"><span>DSA</span><i class=\"gfg-icon gfg-icon_arrow-down gfg-icon_header\"></i><ul class=\"mega-dropdown Screen_1\"><li class=\"mega-dropdown__list-item\" data-parent=\"false\" aria-expanded=\"true\" data-expandable=\"true\"><span>Data Structures</span><i class=\"gfg-icon gfg-icon_arrow-right\"></i><ul class=\"mega-dropdown Screen_2\"><li class=\"mega-dropdown__list-item\" data-child=\"true\" aria-expanded=\"false\" data-expandable=\"false\"><a href=\"https://www.geeksforgeeks.org/complete-guide-to-arrays-data-structure/?ref=outind\" target=\"_self\">Arrays</a></li><li class=\"mega-dropdown__list-item\" data-child=\"true\" aria-expanded=\"false\" data-expandable=\"false\"><a href=\"https://www.geeksforgeeks.org/introduction-to-matrix-or-grid-data-structure-and-algorithms-tutorial/?ref=outind\" target=\"_self\">Matrix</a></li><li class=\"mega-dropdown__list-item\" data-child=\"true\" aria-expanded=\"false\" data-expandable=\"false\"><a href=\"https://www.geeksforgeeks.org/complete-guide-to-string-data-structure/?ref=outind\" target=\"_self\">Strings</a></li><li class=\"mega-dropdown__list-item\" data-parent=\"false\" aria-expanded=\"true\" data-expandable=\"true\"><span>Linked List</span><i class=\"gfg-icon gfg-icon_arrow-right\"></i><ul class=\"mega-dropdown Screen_3\"><li class=\"mega-dropdown__list-item\" data-child=\"true\" aria-expanded=\"false\" data-expandable=\"false\"><a href=\"https://www.geeksforgeeks.org/singly-linked-list-definition-meaning-dsa/?ref=outind\" target=\"_self\">Singly Linked List</a></li><li class=\"mega-dropdown__list-item\" data-child=\"true\" aria-expanded=\"false\" data-expandable=\"false\"><a href=\"https://www.geeksforgeeks.org/doubly-linked-list/?ref=outind\" target=\"_self\">Doubly Linked List</a></li><li class=\"mega-dropdown__list-item\" data-child=\"true\" aria-expanded=\"false\" data-expandable=\"false\"><a href=\"https://www.geeksforgeeks.org/circular-linked-list/?ref=outind\" target=\"_self\">Circular Linked List</a></li><li class=\"mega-dropdown__list-item\" data-child=\"true\" aria-expanded=\"false\" data-expandable=\"false\"><a href=\"https://www.geeksforgeeks.org/insertion-in-doubly-circular-linked-list/?ref=outind\" target=\"_self\">Doubly Circular Linked List</a></li><li class=\"mega-dropdown__list-item\" data-child=\"true\" aria-expanded=\"false\" data-expandable=\"false\"><a href=\"https://www.geeksforgeeks.org/introduction-to-linked-list-data-structure-and-algorithm-tutorial/?ref=outind\" target=\"_self\">Linked List Tutorial</a></li></ul></li><li class=\"mega-dropdown__list-item\" data-child=\"true\" aria-expanded=\"false\" data-expandable=\"false\"><a href=\"https://www.geeksforgeeks.org/introduction-to-stack-data-structure-and-algorithm-tutorials/?ref=outind\" target=\"_self\">Stack</a></li><li class=\"mega-dropdown__list-item\" data-child=\"true\" aria-expanded=\"false\" data-expandable=\"false\"><a href=\"https://www.geeksforgeeks.org/introduction-to-queue-data-structure-and-algorithm-tutorials/?ref=outind\" target=\"_self\">Queue</a></li><li class=\"mega-dropdown__list-item\" data-parent=\"false\" aria-expanded=\"true\" data-expandable=\"true\"><span>Tree</span><i class=\"gfg-icon gfg-icon_arrow-right\"></i><ul class=\"mega-dropdown Screen_3\"><li class=\"mega-dropdown__list-item\" data-child=\"true\" aria-expanded=\"false\" data-expandable=\"false\"><a href=\"https://www.geeksforgeeks.org/generic-treesn-array-trees/?ref=outind\" target=\"_self\">Generic Tree</a></li><li class=\"mega-dropdown__list-item\" data-child=\"true\" aria-expanded=\"false\" data-expandable=\"false\"><a href=\"https://www.geeksforgeeks.org/introduction-to-binary-tree-data-structure-and-algorithm-tutorials/?ref=outind\" target=\"_self\">Binary Tree</a></li><li class=\"mega-dropdown__list-item\" data-child=\"true\" aria-expanded=\"false\" data-expandable=\"false\"><a href=\"https://www.geeksforgeeks.org/introduction-to-binary-search-tree-data-structure-and-algorithm-tutorials/?ref=outind\" target=\"_self\">Binary Search Tree</a></li><li class=\"mega-dropdown__list-item\" data-child=\"true\" aria-expanded=\"false\" data-expandable=\"false\"><a href=\"https://www.geeksforgeeks.org/introduction-to-avl-tree/?ref=outind\" target=\"_self\">AVL Tree</a></li><li class=\"mega-dropdown__list-item\" data-child=\"true\" aria-expanded=\"false\" data-expandable=\"false\"><a href=\"https://www.geeksforgeeks.org/introduction-of-b-tree-2/?ref=outind\" target=\"_self\">B Tree</a></li><li class=\"mega-dropdown__list-item\" data-child=\"true\" aria-expanded=\"false\" data-expandable=\"false\"><a href=\"https://www.geeksforgeeks.org/introduction-of-b-tree/?ref=outind\" target=\"_self\">B+ Tree</a></li><li class=\"mega-dropdown__list-item\" data-child=\"true\" aria-expanded=\"false\" data-expandable=\"false\"><a href=\"https://www.geeksforgeeks.org/introduction-to-red-black-tree/?ref=outind\" target=\"_self\">Red Black Tree</a></li><li class=\"mega-dropdown__list-item\" data-child=\"true\" aria-expanded=\"false\" data-expandable=\"false\"><a href=\"https://www.geeksforgeeks.org/introduction-to-tree-data-structure-and-algorithm-tutorials/?ref=outind\" target=\"_self\">Tree Data Structure Tutorial</a></li></ul></li><li class=\"mega-dropdown__list-item\" data-child=\"true\" aria-expanded=\"false\" data-expandable=\"false\"><a href=\"https://www.geeksforgeeks.org/introduction-to-heap-data-structure-and-algorithm-tutorials/?ref=outind\" target=\"_self\">Heap</a></li><li class=\"mega-dropdown__list-item\" data-child=\"true\" aria-expanded=\"false\" data-expandable=\"false\"><a href=\"https://www.geeksforgeeks.org/introduction-to-hashing-data-structure-and-algorithm-tutorials/?ref=outind\" target=\"_self\">Hashing</a></li><li class=\"mega-dropdown__list-item\" data-child=\"true\" aria-expanded=\"false\" data-expandable=\"false\"><a href=\"https://www.geeksforgeeks.org/introduction-to-graphs-data-structure-and-algorithm-tutorials/?ref=outind\" target=\"_self\">Graph</a></li><li class=\"mega-dropdown__list-item\" data-child=\"true\" aria-expanded=\"false\" data-expandable=\"false\"><a href=\"https://www.geeksforgeeks.org/introduction-to-set-data-structure-and-algorithm-tutorials/?ref=outind\" target=\"_self\">Set Data Structure</a></li><li class=\"mega-dropdown__list-item\" data-child=\"true\" aria-expanded=\"false\" data-expandable=\"false\"><a href=\"https://www.geeksforgeeks.org/introduction-to-map-data-structure-and-algorithm-tutorials/?ref=outind\" target=\"_self\">Map Data Structure</a></li><li class=\"mega-dropdown__list-item\" data-child=\"true\" aria-expanded=\"false\" data-expandable=\"false\"><a href=\"https://www.geeksforgeeks.org/advanced-data-structures/?ref=outind\" target=\"_self\">Advanced Data Structure</a></li><li class=\"mega-dropdown__list-item\" data-child=\"true\" aria-expanded=\"false\" data-expandable=\"false\"><a href=\"https://www.geeksforgeeks.org/introduction-to-data-structures/?ref=outind\" target=\"_self\">Data Structures Tutorial</a></li></ul></li><li class=\"mega-dropdown__list-item\" data-parent=\"false\" aria-expanded=\"true\" data-expandable=\"true\"><span>Algorithms</span><i class=\"gfg-icon gfg-icon_arrow-right\"></i><ul class=\"mega-dropdown Screen_2\"><li class=\"mega-dropdown__list-item\" data-parent=\"false\" aria-expanded=\"true\" data-expandable=\"true\"><span>Analysis of Algorithms</span><i class=\"gfg-icon gfg-icon_arrow-right\"></i><ul class=\"mega-dropdown Screen_3\"><li class=\"mega-dropdown__list-item\" data-child=\"true\" aria-expanded=\"false\" data-expandable=\"false\"><a href=\"https://www.geeksforgeeks.org/design-and-analysis-of-algorithms/?ref=outind\" target=\"_self\">Design and Analysis of Algorithms</a></li><li class=\"mega-dropdown__list-item\" data-child=\"true\" aria-expanded=\"false\" data-expandable=\"false\"><a href=\"https://www.geeksforgeeks.org/analysis-of-algorithms-set-1-asymptotic-analysis/?ref=outind\" target=\"_self\">Asymptotic Analysis</a></li><li class=\"mega-dropdown__list-item\" data-child=\"true\" aria-expanded=\"false\" data-expandable=\"false\"><a href=\"https://www.geeksforgeeks.org/types-of-asymptotic-notations-in-complexity-analysis-of-algorithms/?ref=outind\" target=\"_self\">Asymptotic Notations</a></li><li class=\"mega-dropdown__list-item\" data-child=\"true\" aria-expanded=\"false\" data-expandable=\"false\"><a href=\"https://www.geeksforgeeks.org/worst-average-and-best-case-analysis-of-algorithms/?ref=outind\" target=\"_self\">Worst, Average and Best Cases</a></li></ul></li><li class=\"mega-dropdown__list-item\" data-parent=\"false\" aria-expanded=\"true\" data-expandable=\"true\"><span>Searching Algorithms</span><i class=\"gfg-icon gfg-icon_arrow-right\"></i><ul class=\"mega-dropdown Screen_3\"><li class=\"mega-dropdown__list-item\" data-child=\"true\" aria-expanded=\"false\" data-expandable=\"false\"><a href=\"https://www.geeksforgeeks.org/linear-search/?ref=outind\" target=\"_self\">Linear Search</a></li><li class=\"mega-dropdown__list-item\" data-child=\"true\" aria-expanded=\"false\" data-expandable=\"false\"><a href=\"https://www.geeksforgeeks.org/binary-search/?ref=outind\" target=\"_self\">Binary Search</a></li><li class=\"mega-dropdown__list-item\" data-child=\"true\" aria-expanded=\"false\" data-expandable=\"false\"><a href=\"https://www.geeksforgeeks.org/searching-algorithms/?ref=outind\" target=\"_self\">Searching Algorithms Tutorial</a></li></ul></li><li class=\"mega-dropdown__list-item\" data-parent=\"false\" aria-expanded=\"true\" data-expandable=\"true\"><span>Sorting Algorithms</span><i class=\"gfg-icon gfg-icon_arrow-right\"></i><ul class=\"mega-dropdown Screen_3\"><li class=\"mega-dropdown__list-item\" data-child=\"true\" aria-expanded=\"false\" data-expandable=\"false\"><a href=\"https://www.geeksforgeeks.org/selection-sort/?ref=outind\" target=\"_self\">Selection Sort</a></li><li class=\"mega-dropdown__list-item\" data-child=\"true\" aria-expanded=\"false\" data-expandable=\"false\"><a href=\"https://www.geeksforgeeks.org/bubble-sort/?ref=outind\" target=\"_self\">Bubble Sort</a></li><li class=\"mega-dropdown__list-item\" data-child=\"true\" aria-expanded=\"false\" data-expandable=\"false\"><a href=\"https://www.geeksforgeeks.org/insertion-sort/?ref=outind\" target=\"_self\">Insertion Sort</a></li><li class=\"mega-dropdown__list-item\" data-child=\"true\" aria-expanded=\"false\" data-expandable=\"false\"><a href=\"https://www.geeksforgeeks.org/merge-sort/?ref=outind\" target=\"_self\">Merge Sort</a></li><li class=\"mega-dropdown__list-item\" data-child=\"true\" aria-expanded=\"false\" data-expandable=\"false\"><a href=\"https://www.geeksforgeeks.org/quick-sort/?ref=outind\" target=\"_self\">Quick Sort</a></li><li class=\"mega-dropdown__list-item\" data-child=\"true\" aria-expanded=\"false\" data-expandable=\"false\"><a href=\"https://www.geeksforgeeks.org/heap-sort/?ref=outind\" target=\"_self\">Heap Sort</a></li><li class=\"mega-dropdown__list-item\" data-child=\"true\" aria-expanded=\"false\" data-expandable=\"false\"><a href=\"https://www.geeksforgeeks.org/counting-sort/?ref=outind\" target=\"_self\">Counting Sort</a></li><li class=\"mega-dropdown__list-item\" data-child=\"true\" aria-expanded=\"false\" data-expandable=\"false\"><a href=\"https://www.geeksforgeeks.org/radix-sort/?ref=outind\" target=\"_self\">Radix Sort</a></li><li class=\"mega-dropdown__list-item\" data-child=\"true\" aria-expanded=\"false\" data-expandable=\"false\"><a href=\"https://www.geeksforgeeks.org/bucket-sort-2/?ref=outind\" target=\"_self\">Bucket Sort</a></li><li class=\"mega-dropdown__list-item\" data-child=\"true\" aria-expanded=\"false\" data-expandable=\"false\"><a href=\"https://www.geeksforgeeks.org/introduction-to-sorting-algorithm/?ref=outind\" target=\"_self\">Sorting Algorithms Tutorial</a></li></ul></li><li class=\"mega-dropdown__list-item\" data-child=\"true\" aria-expanded=\"false\" data-expandable=\"false\"><a href=\"https://www.geeksforgeeks.org/introduction-to-greedy-algorithm-data-structures-and-algorithm-tutorials/?ref=outind\" target=\"_self\">Greedy Algorithms</a></li><li class=\"mega-dropdown__list-item\" data-child=\"true\" aria-expanded=\"false\" data-expandable=\"false\"><a href=\"https://www.geeksforgeeks.org/introduction-to-dynamic-programming-data-structures-and-algorithm-tutorials/?ref=outind\" target=\"_self\">Dynamic Programming</a></li><li class=\"mega-dropdown__list-item\" data-child=\"true\" aria-expanded=\"false\" data-expandable=\"false\"><a href=\"https://www.geeksforgeeks.org/introduction-to-graphs-data-structure-and-algorithm-tutorials/?ref=outind\" target=\"_self\">Graph Algorithms</a></li><li class=\"mega-dropdown__list-item\" data-child=\"true\" aria-expanded=\"false\" data-expandable=\"false\"><a href=\"https://www.geeksforgeeks.org/introduction-to-pattern-searching-data-structure-and-algorithm-tutorial/?ref=outind\" target=\"_self\">Pattern Searching</a></li><li class=\"mega-dropdown__list-item\" data-child=\"true\" aria-expanded=\"false\" data-expandable=\"false\"><a href=\"https://www.geeksforgeeks.org/introduction-to-recursion-data-structure-and-algorithm-tutorials/?ref=outind\" target=\"_self\">Recursion</a></li><li class=\"mega-dropdown__list-item\" data-child=\"true\" aria-expanded=\"false\" data-expandable=\"false\"><a href=\"https://www.geeksforgeeks.org/introduction-to-backtracking-data-structure-and-algorithm-tutorials/?ref=outind\" target=\"_self\">Backtracking</a></li><li class=\"mega-dropdown__list-item\" data-child=\"true\" aria-expanded=\"false\" data-expandable=\"false\"><a href=\"https://www.geeksforgeeks.org/introduction-to-divide-and-conquer-algorithm-data-structure-and-algorithm-tutorials/?ref=outind\" target=\"_self\">Divide and Conquer</a></li><li class=\"mega-dropdown__list-item\" data-child=\"true\" aria-expanded=\"false\" data-expandable=\"false\"><a href=\"https://www.geeksforgeeks.org/mathematical-algorithms/?ref=outind\" target=\"_self\">Mathematical Algorithms</a></li><li class=\"mega-dropdown__list-item\" data-child=\"true\" aria-expanded=\"false\" data-expandable=\"false\"><a href=\"https://www.geeksforgeeks.org/geometric-algorithms/?ref=outind\" target=\"_self\">Geometric Algorithms</a></li><li class=\"mega-dropdown__list-item\" data-child=\"true\" aria-expanded=\"false\" data-expandable=\"false\"><a href=\"https://www.geeksforgeeks.org/introduction-to-bitwise-algorithms-data-structures-and-algorithms-tutorial/?ref=outind\" target=\"_self\">Bitwise Algorithms</a></li><li class=\"mega-dropdown__list-item\" data-child=\"true\" aria-expanded=\"false\" data-expandable=\"false\"><a href=\"https://www.geeksforgeeks.org/randomized-algorithms/?ref=outind\" target=\"_self\">Randomized Algorithms</a></li><li class=\"mega-dropdown__list-item\" data-child=\"true\" aria-expanded=\"false\" data-expandable=\"false\"><a href=\"https://www.geeksforgeeks.org/introduction-to-branch-and-bound-data-structures-and-algorithms-tutorial/?ref=outind\" target=\"_self\">Branch and Bound</a></li><li class=\"mega-dropdown__list-item\" data-child=\"true\" aria-expanded=\"false\" data-expandable=\"false\"><a href=\"https://www.geeksforgeeks.org/introduction-to-algorithms/?ref=outind\" target=\"_self\">Algorithms Tutorial</a></li></ul></li><li class=\"mega-dropdown__list-item\" data-child=\"true\" aria-expanded=\"false\" data-expandable=\"false\"><a href=\"https://www.geeksforgeeks.org/learn-data-structures-and-algorithms-dsa-tutorial/?ref=outind\" target=\"_self\">DSA Tutorial</a></li><li class=\"mega-dropdown__list-item\" data-parent=\"false\" aria-expanded=\"true\" data-expandable=\"true\"><span>Practice</span><i class=\"gfg-icon gfg-icon_arrow-right\"></i><ul class=\"mega-dropdown Screen_2\"><li class=\"mega-dropdown__list-item\" data-child=\"true\" aria-expanded=\"false\" data-expandable=\"false\"><a href=\"https://www.geeksforgeeks.org/explore?page=1&sortBy=submissions&itm_source=geeksforgeeks&itm_medium=main_header_outIndia&itm_campaign=DSA_Header\" target=\"_self\">All DSA Problems</a></li><li class=\"mega-dropdown__list-item\" data-child=\"true\" aria-expanded=\"false\" data-expandable=\"false\"><a href=\"https://www.geeksforgeeks.org/problem-of-the-day?itm_source=geeksforgeeksitm_source=geeksforgeeks&itm_medium=main_header_outIndia&itm_campaign=DSA_Header\" target=\"_self\">Problem of the Day</a></li><li class=\"mega-dropdown__list-item\" data-parent=\"false\" aria-expanded=\"true\" data-expandable=\"true\"><span>Company Wise Coding Practice</span><i class=\"gfg-icon gfg-icon_arrow-right\"></i><ul class=\"mega-dropdown Screen_3\"><li class=\"mega-dropdown__list-item\" data-child=\"true\" aria-expanded=\"false\" data-expandable=\"false\"><a href=\"https://www.geeksforgeeks.org/explore?page=1&company=Amazon&sortBy=submissions&itm_source=geeksforgeeks&itm_medium=main_header_outIndia&itm_campaign=DSA_Header\" target=\"_self\">Amazon</a></li><li class=\"mega-dropdown__list-item\" data-child=\"true\" aria-expanded=\"false\" data-expandable=\"false\"><a href=\"https://www.geeksforgeeks.org/explore?page=1&company=Microsoft&sortBy=submissions&itm_source=geeksforgeeks&itm_medium=main_header_outIndia&itm_campaign=DSA_Header\" target=\"_self\">Microsoft</a></li><li class=\"mega-dropdown__list-item\" data-child=\"true\" aria-expanded=\"false\" data-expandable=\"false\"><a href=\"https://www.geeksforgeeks.org/explore?page=1&company=Flipkart&sortBy=submissions&itm_source=geeksforgeeks&itm_medium=main_header_outIndia&itm_campaign=DSA_Header\" target=\"_self\">Flipkart</a></li><li class=\"mega-dropdown__list-item\" data-child=\"true\" aria-expanded=\"false\" data-expandable=\"false\"><a href=\"https://www.geeksforgeeks.org/explore?page=1&sortBy=submissions&itm_source=geeksforgeeks&itm_medium=main_header_outIndia&itm_campaign=DSA_Header\" target=\"_self\">Explore All</a></li></ul></li><li class=\"mega-dropdown__list-item\" data-child=\"true\" aria-expanded=\"false\" data-expandable=\"false\"><a href=\"https://www.geeksforgeeks.org/explore?page=1&curated[]=1&sortBy=submissions&curated_names[]=SDE Sheet?itm_source=geeksforgeeks&itm_medium=main_header_outIndia&itm_campaign=DSA_Header\" target=\"_self\">GfG SDE Sheet</a></li><li class=\"mega-dropdown__list-item\" data-parent=\"false\" aria-expanded=\"true\" data-expandable=\"true\"><span>Practice Problems Difficulty Wise</span><i class=\"gfg-icon gfg-icon_arrow-right\"></i><ul class=\"mega-dropdown Screen_3\"><li class=\"mega-dropdown__list-item\" data-child=\"true\" aria-expanded=\"false\" data-expandable=\"false\"><a href=\"https://www.geeksforgeeks.org/explore?page=1&difficulty=School&itm_source=geeksforgeeks&itm_medium=main_header_outIndia&itm_campaign=DSA_Header\" target=\"_self\">School</a></li><li class=\"mega-dropdown__list-item\" data-child=\"true\" aria-expanded=\"false\" data-expandable=\"false\"><a href=\"https://www.geeksforgeeks.org/explore?page=1&difficulty=Basic&itm_source=geeksforgeeks&itm_medium=main_header_outIndia&itm_campaign=DSA_Header\" target=\"_self\">Basic</a></li><li class=\"mega-dropdown__list-item\" data-child=\"true\" aria-expanded=\"false\" data-expandable=\"false\"><a href=\"https://www.geeksforgeeks.org/explore?page=1&difficulty=Easy&itm_source=geeksforgeeks&itm_medium=main_header_outIndia&itm_campaign=DSA_Header\" target=\"_self\">Easy</a></li><li class=\"mega-dropdown__list-item\" data-child=\"true\" aria-expanded=\"false\" data-expandable=\"false\"><a href=\"https://www.geeksforgeeks.org/explore?page=1&difficulty=Medium&itm_source=geeksforgeeks&itm_medium=main_header_outIndia&itm_campaign=DSA_Header\" target=\"_self\">Medium</a></li><li class=\"mega-dropdown__list-item\" data-child=\"true\" aria-expanded=\"false\" data-expandable=\"false\"><a href=\"https://www.geeksforgeeks.org/explore?page=1&difficulty=Hard&itm_source=geeksforgeeks&itm_medium=main_header_outIndia&itm_campaign=DSA_Header\" target=\"_self\">Hard</a></li></ul></li><li class=\"mega-dropdown__list-item\" data-parent=\"false\" aria-expanded=\"true\" data-expandable=\"true\"><span>Language Wise Coding Practice</span><i class=\"gfg-icon gfg-icon_arrow-right\"></i><ul class=\"mega-dropdown Screen_3\"><li class=\"mega-dropdown__list-item\" data-child=\"true\" aria-expanded=\"false\" data-expandable=\"false\"><a href=\"https://www.geeksforgeeks.org/explore?page=1&category=CPP&itm_source=geeksforgeeks&itm_medium=main_header_outIndia&itm_campaign=DSA_Header\" target=\"_self\">CPP</a></li><li class=\"mega-dropdown__list-item\" data-child=\"true\" aria-expanded=\"false\" data-expandable=\"false\"><a href=\"https://www.geeksforgeeks.org/explore?page=1&category=Java&itm_source=geeksforgeeks&itm_medium=main_header_outIndia&itm_campaign=DSA_Header\" target=\"_self\">Java</a></li><li class=\"mega-dropdown__list-item\" data-child=\"true\" aria-expanded=\"false\" data-expandable=\"false\"><a href=\"https://www.geeksforgeeks.org/explore?category=python&itm_source=geeksforgeeks&itm_medium=main_header_outIndia&itm_campaign=DSA_Header\" target=\"_self\">Python</a></li></ul></li><li class=\"mega-dropdown__list-item\" data-parent=\"false\" aria-expanded=\"true\" data-expandable=\"true\"><span>Curated DSA Lists</span><i class=\"gfg-icon gfg-icon_arrow-right\"></i><ul class=\"mega-dropdown Screen_3\"><li class=\"mega-dropdown__list-item\" data-child=\"true\" aria-expanded=\"false\" data-expandable=\"false\"><a href=\"https://www.geeksforgeeks.org/explore?page=1&sprint=ca8ae412173dbd8346c26a0295d098fd&sortBy=submissions&sprint_name=Beginner\\'s DSA Sheet&itm_source=geeksforgeeks&itm_medium=main_header_outIndia&itm_campaign=DSA_Header\" target=\"_self\">Beginner\\'s DSA Sheet</a></li><li class=\"mega-dropdown__list-item\" data-child=\"true\" aria-expanded=\"false\" data-expandable=\"false\"><a href=\"https://www.geeksforgeeks.org/explore?page=1&sprint=50746f92a895c22a50504ac0c1fb9c84&sortBy=submissions&sprint_name=Top 50 Array Problems&itm_source=geeksforgeeks&itm_medium=main_header_outIndia&itm_campaign=DSA_Header\" target=\"_self\">Top 50 Array Problems</a></li><li class=\"mega-dropdown__list-item\" data-child=\"true\" aria-expanded=\"false\" data-expandable=\"false\"><a href=\"https://www.geeksforgeeks.org/explore?page=1&sprint=57184072610b884e5df3584cc534115d&sortBy=submissions&sprint_name=Top 50 String Problems&itm_source=geeksforgeeks&itm_medium=main_header_outIndia&itm_campaign=DSA_Header\" target=\"_self\">Top 50 String Problems</a></li><li class=\"mega-dropdown__list-item\" data-child=\"true\" aria-expanded=\"false\" data-expandable=\"false\"><a href=\"https://www.geeksforgeeks.org/explore?page=1&sprint=93d672753b74440c7427214c8ebf866d&sortBy=submissions&sprint_name=Top 50 DP Problems&itm_source=geeksforgeeks&itm_medium=main_header_outIndia&itm_campaign=DSA_Header\" target=\"_self\">Top 50 DP Problems</a></li><li class=\"mega-dropdown__list-item\" data-child=\"true\" aria-expanded=\"false\" data-expandable=\"false\"><a href=\"https://www.geeksforgeeks.org/explore?page=1&sprint=405e9db0f353691ad3b2d546b19145e9&sortBy=submissions&sprint_name=Top 50 Graph Problems&itm_source=geeksforgeeks&itm_medium=main_header_outIndia&itm_campaign=DSA_Header\" target=\"_self\">Top 50 Graph Problems</a></li><li class=\"mega-dropdown__list-item\" data-child=\"true\" aria-expanded=\"false\" data-expandable=\"false\"><a href=\"https://www.geeksforgeeks.org/explore?page=1&sprint=5f24de84b65bf7c4f4399c8111e26b81&sortBy=submissions&sprint_name=Top 50 Tree Problems&itm_source=geeksforgeeks&itm_medium=main_header_outIndia&itm_campaign=DSA_Header\" target=\"_self\">Top 50 Tree Problems</a></li></ul></li></ul></li><li class=\"mega-dropdown__list-item\" data-child=\"true\" aria-expanded=\"false\" data-expandable=\"false\"><a href=\"https://www.geeksforgeeks.org/competitive-programming-a-complete-guide/?ref=outind\" target=\"_self\">Competitive Programming</a></li><li class=\"mega-dropdown__list-item\" data-parent=\"false\" aria-expanded=\"true\" data-expandable=\"true\"><span>Company Wise SDE Sheets</span><i class=\"gfg-icon gfg-icon_arrow-right\"></i><ul class=\"mega-dropdown Screen_2\"><li class=\"mega-dropdown__list-item\" data-child=\"true\" aria-expanded=\"false\" data-expandable=\"false\"><a href=\"https://www.geeksforgeeks.org/facebookmeta-sde-sheet-interview-questions-and-answers/?ref=outind\" target=\"_self\">Facebook SDE Sheet</a></li><li class=\"mega-dropdown__list-item\" data-child=\"true\" aria-expanded=\"false\" data-expandable=\"false\"><a href=\"https://www.geeksforgeeks.org/amazon-sde-sheet-interview-questions-and-answers/?ref=outind\" target=\"_self\">Amazon SDE Sheet</a></li><li class=\"mega-dropdown__list-item\" data-child=\"true\" aria-expanded=\"false\" data-expandable=\"false\"><a href=\"https://www.geeksforgeeks.org/apple-sde-sheet-interview-questions-and-answers/?ref=outind\" target=\"_self\">Apple SDE Sheet</a></li><li class=\"mega-dropdown__list-item\" data-child=\"true\" aria-expanded=\"false\" data-expandable=\"false\"><a href=\"https://www.geeksforgeeks.org/netflix-sde-sheet-interview-questions-and-answers/?ref=outind\" target=\"_self\">Netflix SDE Sheet</a></li><li class=\"mega-dropdown__list-item\" data-child=\"true\" aria-expanded=\"false\" data-expandable=\"false\"><a href=\"https://www.geeksforgeeks.org/google-sde-sheet-interview-questions-and-answers/?ref=outind\" target=\"_self\">Google SDE Sheet</a></li></ul></li><li class=\"mega-dropdown__list-item\" data-parent=\"false\" aria-expanded=\"true\" data-expandable=\"true\"><span>DSA Cheat Sheets</span><i class=\"gfg-icon gfg-icon_arrow-right\"></i><ul class=\"mega-dropdown Screen_2\"><li class=\"mega-dropdown__list-item\" data-child=\"true\" aria-expanded=\"false\" data-expandable=\"false\"><a href=\"https://www.geeksforgeeks.org/sde-sheet-a-complete-guide-for-sde-preparation/?ref=outind\" target=\"_self\">SDE Sheet</a></li><li class=\"mega-dropdown__list-item\" data-child=\"true\" aria-expanded=\"false\" data-expandable=\"false\"><a href=\"https://www.geeksforgeeks.org/most-asked-dsa-interview-problems-for-beginners/?ref=outind\" target=\"_self\">DSA Sheet for Beginners</a></li><li class=\"mega-dropdown__list-item\" data-child=\"true\" aria-expanded=\"false\" data-expandable=\"false\"><a href=\"https://www.geeksforgeeks.org/must-do-coding-questions-for-companies-like-amazon-microsoft-adobe/?ref=outind\" target=\"_self\">FAANG Coding Sheet</a></li><li class=\"mega-dropdown__list-item\" data-child=\"true\" aria-expanded=\"false\" data-expandable=\"false\"><a href=\"https://www.geeksforgeeks.org/must-do-coding-questions-for-product-based-companies/?ref=outind\" target=\"_self\">Product-Based Coding Sheet</a></li><li class=\"mega-dropdown__list-item\" data-child=\"true\" aria-expanded=\"false\" data-expandable=\"false\"><a href=\"https://www.geeksforgeeks.org/must-coding-questions-company-wise/?ref=outind\" target=\"_self\">Company-Wise Preparation Sheet</a></li></ul></li><li class=\"mega-dropdown__list-item\" data-parent=\"false\" aria-expanded=\"true\" data-expandable=\"true\"><span>Top Interview Questions</span><i class=\"gfg-icon gfg-icon_arrow-right\"></i><ul class=\"mega-dropdown Screen_2\"><li class=\"mega-dropdown__list-item\" data-child=\"true\" aria-expanded=\"false\" data-expandable=\"false\"><a href=\"https://www.geeksforgeeks.org/top-100-data-structure-and-algorithms-dsa-interview-questions-topic-wise/?ref=outind\" target=\"_self\">Top 100 DSA Interview Questions Topic-wise</a></li></ul></li><li class=\"mega-dropdown__list-item\" data-parent=\"false\" aria-expanded=\"true\" data-expandable=\"true\"><span>Puzzles</span><i class=\"gfg-icon gfg-icon_arrow-right\"></i><ul class=\"mega-dropdown Screen_2\"><li class=\"mega-dropdown__list-item\" data-child=\"true\" aria-expanded=\"false\" data-expandable=\"false\"><a href=\"https://www.geeksforgeeks.org/puzzles/?ref=outind\" target=\"_self\">All Puzzles</a></li><li class=\"mega-dropdown__list-item\" data-child=\"true\" aria-expanded=\"false\" data-expandable=\"false\"><a href=\"https://www.geeksforgeeks.org/top-100-puzzles-asked-in-interviews/?ref=outind\" target=\"_self\">Top 100 Puzzles Asked In Interviews</a></li><li class=\"mega-dropdown__list-item\" data-child=\"true\" aria-expanded=\"false\" data-expandable=\"false\"><a href=\"https://www.geeksforgeeks.org/top-20-puzzles-commonly-asked-during-sde-interviews/?ref=outind\" target=\"_self\">Top 20 Puzzles Commonly Asked During SDE Interviews</a></li></ul></li></ul></li><li class=\"header-main__list-item Header_3\" data-parent=\"false\" aria-expanded=\"true\" data-expandable=\"true\"><span>Data Science</span><i class=\"gfg-icon gfg-icon_arrow-down gfg-icon_header\"></i><ul class=\"mega-dropdown Screen_1\"><li class=\"mega-dropdown__list-item\" data-child=\"true\" aria-expanded=\"false\" data-expandable=\"false\"><a href=\"https://www.geeksforgeeks.org/python-programming-language/?ref=outind\" target=\"_self\">Python Tutorial</a></li><li class=\"mega-dropdown__list-item\" data-child=\"true\" aria-expanded=\"false\" data-expandable=\"false\"><a href=\"https://www.geeksforgeeks.org/r-tutorial/?ref=outind\" target=\"_self\">R Tutorial</a></li><li class=\"mega-dropdown__list-item\" data-child=\"true\" aria-expanded=\"false\" data-expandable=\"false\"><a href=\"https://www.geeksforgeeks.org/machine-learning/?ref=outind\" target=\"_self\">Machine Learning</a></li><li class=\"mega-dropdown__list-item\" data-child=\"true\" aria-expanded=\"false\" data-expandable=\"false\"><a href=\"https://www.geeksforgeeks.org/data-science-tutorial/?ref=outind\" target=\"_self\">Data Science using Python</a></li><li class=\"mega-dropdown__list-item\" data-child=\"true\" aria-expanded=\"false\" data-expandable=\"false\"><a href=\"https://www.geeksforgeeks.org/r-programming-for-data-science/?ref=outind\" target=\"_self\">Data Science using R</a></li><li class=\"mega-dropdown__list-item\" data-parent=\"false\" aria-expanded=\"true\" data-expandable=\"true\"><span>Data Science Packages</span><i class=\"gfg-icon gfg-icon_arrow-right\"></i><ul class=\"mega-dropdown Screen_2\"><li class=\"mega-dropdown__list-item\" data-child=\"true\" aria-expanded=\"false\" data-expandable=\"false\"><a href=\"https://www.geeksforgeeks.org/pandas-tutorial/?ref=outind\" target=\"_self\">Pandas Tutorial</a></li><li class=\"mega-dropdown__list-item\" data-child=\"true\" aria-expanded=\"false\" data-expandable=\"false\"><a href=\"https://www.geeksforgeeks.org/numpy-tutorial/?ref=outind\" target=\"_self\">NumPy Tutorial</a></li></ul></li><li class=\"mega-dropdown__list-item\" data-parent=\"false\" aria-expanded=\"true\" data-expandable=\"true\"><span>Data Visualization</span><i class=\"gfg-icon gfg-icon_arrow-right\"></i><ul class=\"mega-dropdown Screen_2\"><li class=\"mega-dropdown__list-item\" data-child=\"true\" aria-expanded=\"false\" data-expandable=\"false\"><a href=\"https://www.geeksforgeeks.org/python-data-visualization-tutorial/?ref=outind\" target=\"_self\">Python Data Visualization Tutorial</a></li><li class=\"mega-dropdown__list-item\" data-child=\"true\" aria-expanded=\"false\" data-expandable=\"false\"><a href=\"https://www.geeksforgeeks.org/data-visualization-in-r/?ref=outind\" target=\"_self\">Data Visualization with R</a></li></ul></li><li class=\"mega-dropdown__list-item\" data-parent=\"false\" aria-expanded=\"true\" data-expandable=\"true\"><span>Data Analysis</span><i class=\"gfg-icon gfg-icon_arrow-right\"></i><ul class=\"mega-dropdown Screen_2\"><li class=\"mega-dropdown__list-item\" data-child=\"true\" aria-expanded=\"false\" data-expandable=\"false\"><a href=\"https://www.geeksforgeeks.org/data-analysis-with-python/?ref=outind\" target=\"_self\">Data Analysis with Python</a></li><li class=\"mega-dropdown__list-item\" data-child=\"true\" aria-expanded=\"false\" data-expandable=\"false\"><a href=\"https://www.geeksforgeeks.org/data-analysis-using-r/?ref=outind\" target=\"_self\">Data Analysis with R</a></li></ul></li><li class=\"mega-dropdown__list-item\" data-child=\"true\" aria-expanded=\"false\" data-expandable=\"false\"><a href=\"https://www.geeksforgeeks.org/deep-learning-tutorial/?ref=outind\" target=\"_self\">Deep Learning</a></li><li class=\"mega-dropdown__list-item\" data-child=\"true\" aria-expanded=\"false\" data-expandable=\"false\"><a href=\"https://www.geeksforgeeks.org/natural-language-processing-nlp-tutorial/?ref=outind\" target=\"_self\">NLP Tutorial</a></li></ul></li><li class=\"header-main__list-item Header_4\" data-parent=\"false\" aria-expanded=\"true\" data-expandable=\"true\"><span>Web Tech</span><i class=\"gfg-icon gfg-icon_arrow-down gfg-icon_header\"></i><ul class=\"mega-dropdown Screen_1\"><li class=\"mega-dropdown__list-item\" data-child=\"true\" aria-expanded=\"false\" data-expandable=\"false\"><a href=\"https://www.geeksforgeeks.org/html-tutorials/?ref=outind\" target=\"_self\">HTML Tutorial</a></li><li class=\"mega-dropdown__list-item\" data-child=\"true\" aria-expanded=\"false\" data-expandable=\"false\"><a href=\"https://www.geeksforgeeks.org/css-tutorials/?ref=outind\" target=\"_self\">CSS Tutorial</a></li><li class=\"mega-dropdown__list-item\" data-child=\"true\" aria-expanded=\"false\" data-expandable=\"false\"><a href=\"https://www.geeksforgeeks.org/javascript/?ref=outind\" target=\"_self\">JavaScript Tutorial</a></li><li class=\"mega-dropdown__list-item\" data-child=\"true\" aria-expanded=\"false\" data-expandable=\"false\"><a href=\"https://www.geeksforgeeks.org/php-tutorial/?ref=outind\" target=\"_self\">PHP Tutorial</a></li><li class=\"mega-dropdown__list-item\" data-child=\"true\" aria-expanded=\"false\" data-expandable=\"false\"><a href=\"https://www.geeksforgeeks.org/reactjs-tutorials/?ref=outind\" target=\"_self\">ReactJS Tutorial</a></li><li class=\"mega-dropdown__list-item\" data-child=\"true\" aria-expanded=\"false\" data-expandable=\"false\"><a href=\"https://www.geeksforgeeks.org/nodejs/?ref=outind\" target=\"_self\">NodeJS Tutorial</a></li><li class=\"mega-dropdown__list-item\" data-child=\"true\" aria-expanded=\"false\" data-expandable=\"false\"><a href=\"https://www.geeksforgeeks.org/introduction-to-angularjs/?ref=outind\" target=\"_self\">AngularJS Tutorial</a></li><li class=\"mega-dropdown__list-item\" data-child=\"true\" aria-expanded=\"false\" data-expandable=\"false\"><a href=\"https://www.geeksforgeeks.org/bootstrap/?ref=outind\" target=\"_self\">Bootstrap Tutorial</a></li><li class=\"mega-dropdown__list-item\" data-parent=\"false\" aria-expanded=\"true\" data-expandable=\"true\"><span>Web Development Using Python</span><i class=\"gfg-icon gfg-icon_arrow-right\"></i><ul class=\"mega-dropdown Screen_2\"><li class=\"mega-dropdown__list-item\" data-parent=\"false\" aria-expanded=\"true\" data-expandable=\"true\"><span>Django</span><i class=\"gfg-icon gfg-icon_arrow-right\"></i><ul class=\"mega-dropdown Screen_3\"><li class=\"mega-dropdown__list-item\" data-child=\"true\" aria-expanded=\"false\" data-expandable=\"false\"><a href=\"https://www.geeksforgeeks.org/getting-started-with-django/?ref=outind\" target=\"_self\">Getting started with Django</a></li><li class=\"mega-dropdown__list-item\" data-child=\"true\" aria-expanded=\"false\" data-expandable=\"false\"><a href=\"https://www.geeksforgeeks.org/how-to-create-an-app-in-django/?ref=outind\" target=\"_self\">Create an App in Django</a></li><li class=\"mega-dropdown__list-item\" data-child=\"true\" aria-expanded=\"false\" data-expandable=\"false\"><a href=\"https://www.geeksforgeeks.org/views-in-django-python/?ref=outind\" target=\"_self\">Views In Django</a></li><li class=\"mega-dropdown__list-item\" data-child=\"true\" aria-expanded=\"false\" data-expandable=\"false\"><a href=\"https://www.geeksforgeeks.org/django-templates/?ref=outind\" target=\"_self\">Django Templates</a></li><li class=\"mega-dropdown__list-item\" data-child=\"true\" aria-expanded=\"false\" data-expandable=\"false\"><a href=\"https://www.geeksforgeeks.org/django-url-patterns-python/?ref=outind\" target=\"_self\">Django URL patterns</a></li><li class=\"mega-dropdown__list-item\" data-child=\"true\" aria-expanded=\"false\" data-expandable=\"false\"><a href=\"https://www.geeksforgeeks.org/python-django-admin-interface/?ref=outind\" target=\"_self\">Django Admin Interface</a></li><li class=\"mega-dropdown__list-item\" data-child=\"true\" aria-expanded=\"false\" data-expandable=\"false\"><a href=\"https://www.geeksforgeeks.org/django-models/?ref=outind\" target=\"_self\">Django Models</a></li><li class=\"mega-dropdown__list-item\" data-child=\"true\" aria-expanded=\"false\" data-expandable=\"false\"><a href=\"https://www.geeksforgeeks.org/how-to-integrate-mysql-database-with-django/?ref=outind\" target=\"_self\">MySQL Databased with Django</a></li><li class=\"mega-dropdown__list-item\" data-child=\"true\" aria-expanded=\"false\" data-expandable=\"false\"><a href=\"https://www.geeksforgeeks.org/django-crud-create-retrieve-update-delete-function-based-views/?ref=outind\" target=\"_self\">Django CRUD</a></li><li class=\"mega-dropdown__list-item\" data-child=\"true\" aria-expanded=\"false\" data-expandable=\"false\"><a href=\"https://www.geeksforgeeks.org/django-forms/?ref=outind\" target=\"_self\">Django Forms</a></li><li class=\"mega-dropdown__list-item\" data-child=\"true\" aria-expanded=\"false\" data-expandable=\"false\"><a href=\"https://www.geeksforgeeks.org/django-static-file/?ref=outind\" target=\"_self\">Django Static File</a></li><li class=\"mega-dropdown__list-item\" data-child=\"true\" aria-expanded=\"false\" data-expandable=\"false\"><a href=\"https://www.geeksforgeeks.org/top-django-projects-for-beginners/?ref=outind\" target=\"_self\">Projects for Beginners</a></li><li class=\"mega-dropdown__list-item\" data-child=\"true\" aria-expanded=\"false\" data-expandable=\"false\"><a href=\"https://www.geeksforgeeks.org/django-tutorial/?ref=outind\" target=\"_self\">Django Tutorial</a></li></ul></li><li class=\"mega-dropdown__list-item\" data-parent=\"false\" aria-expanded=\"true\" data-expandable=\"true\"><span>Flask</span><i class=\"gfg-icon gfg-icon_arrow-right\"></i><ul class=\"mega-dropdown Screen_3\"><li class=\"mega-dropdown__list-item\" data-child=\"true\" aria-expanded=\"false\" data-expandable=\"false\"><a href=\"https://www.geeksforgeeks.org/flask-creating-first-simple-application/?ref=outind\" target=\"_self\">Web Development Using Flask</a></li><li class=\"mega-dropdown__list-item\" data-child=\"true\" aria-expanded=\"false\" data-expandable=\"false\"><a href=\"https://www.geeksforgeeks.org/flask-app-routing/?ref=outind\" target=\"_self\">Flask App Routing</a></li><li class=\"mega-dropdown__list-item\" data-child=\"true\" aria-expanded=\"false\" data-expandable=\"false\"><a href=\"https://www.geeksforgeeks.org/redirecting-to-url-in-flask/?ref=outind\" target=\"_self\">URL building in Flask</a></li><li class=\"mega-dropdown__list-item\" data-child=\"true\" aria-expanded=\"false\" data-expandable=\"false\"><a href=\"https://www.geeksforgeeks.org/flask-rendering-templates/?ref=outind\" target=\"_self\">Flask Templates</a></li><li class=\"mega-dropdown__list-item\" data-child=\"true\" aria-expanded=\"false\" data-expandable=\"false\"><a href=\"https://www.geeksforgeeks.org/templating-with-jinja2-in-flask/?ref=outind\" target=\"_self\">Templating With Jinja2 in Flask</a></li><li class=\"mega-dropdown__list-item\" data-child=\"true\" aria-expanded=\"false\" data-expandable=\"false\"><a href=\"https://www.geeksforgeeks.org/declaring-models-in-flask/?ref=outind\" target=\"_self\">Flask Model</a></li><li class=\"mega-dropdown__list-item\" data-child=\"true\" aria-expanded=\"false\" data-expandable=\"false\"><a href=\"https://www.geeksforgeeks.org/connect-flask-to-a-database-with-flask-sqlalchemy/?ref=outind\" target=\"_self\">Database with Flask SQL Alchemy</a></li><li class=\"mega-dropdown__list-item\" data-child=\"true\" aria-expanded=\"false\" data-expandable=\"false\"><a href=\"https://www.geeksforgeeks.org/how-to-add-authentication-to-your-app-with-flask-login/?ref=outind\" target=\"_self\">Authentication with Flask</a></li><li class=\"mega-dropdown__list-item\" data-child=\"true\" aria-expanded=\"false\" data-expandable=\"false\"><a href=\"https://www.geeksforgeeks.org/create-contact-us-using-wtforms-in-flask/?ref=outind\" target=\"_self\">WTForms in Flask</a></li><li class=\"mega-dropdown__list-item\" data-child=\"true\" aria-expanded=\"false\" data-expandable=\"false\"><a href=\"https://www.geeksforgeeks.org/how-to-serve-static-files-in-flask/?ref=outind\" target=\"_self\">Static files in Flask</a></li><li class=\"mega-dropdown__list-item\" data-child=\"true\" aria-expanded=\"false\" data-expandable=\"false\"><a href=\"https://www.geeksforgeeks.org/flask-projects/?ref=outind\" target=\"_self\">Python Flask Projects</a></li><li class=\"mega-dropdown__list-item\" data-child=\"true\" aria-expanded=\"false\" data-expandable=\"false\"><a href=\"https://www.geeksforgeeks.org/flask-interview-questions-and-answers/?ref=outind\" target=\"_self\">Flask Interview Questions</a></li></ul></li><li class=\"mega-dropdown__list-item\" data-parent=\"false\" aria-expanded=\"true\" data-expandable=\"true\"><span>Frontend Projects</span><i class=\"gfg-icon gfg-icon_arrow-right\"></i><ul class=\"mega-dropdown Screen_3\"><li class=\"mega-dropdown__list-item\" data-child=\"true\" aria-expanded=\"false\" data-expandable=\"false\"><a href=\"https://www.geeksforgeeks.org/design-a-webpage-for-online-food-delivery-system-using-html-and-css/?ref=outind\" target=\"_self\">Building a Survey Form using HTML and CSS</a></li><li class=\"mega-dropdown__list-item\" data-child=\"true\" aria-expanded=\"false\" data-expandable=\"false\"><a href=\"https://www.geeksforgeeks.org/design-a-webpage-for-online-food-delivery-system-using-html-and-css/?ref=outind\" target=\"_self\">Food delivery system using HTML and CSS</a></li><li class=\"mega-dropdown__list-item\" data-child=\"true\" aria-expanded=\"false\" data-expandable=\"false\"><a href=\"https://www.geeksforgeeks.org/python-todo-webapp-using-django/?ref=outind\" target=\"_self\">ToDo webapp using Django</a></li><li class=\"mega-dropdown__list-item\" data-child=\"true\" aria-expanded=\"false\" data-expandable=\"false\"><a href=\"https://www.geeksforgeeks.org/building-blog-cms-content-management-system-with-django/?ref=outind\" target=\"_self\">Building Blog CMS</a></li><li class=\"mega-dropdown__list-item\" data-child=\"true\" aria-expanded=\"false\" data-expandable=\"false\"><a href=\"https://www.geeksforgeeks.org/how-to-add-pagination-in-django-project/?ref=outind\" target=\"_self\">Add Pagination in Django</a></li><li class=\"mega-dropdown__list-item\" data-child=\"true\" aria-expanded=\"false\" data-expandable=\"false\"><a href=\"https://www.geeksforgeeks.org/how-to-use-tailwind-css-with-django/?ref=outind\" target=\"_self\">Tailwind CSS with Django</a></li><li class=\"mega-dropdown__list-item\" data-child=\"true\" aria-expanded=\"false\" data-expandable=\"false\"><a href=\"https://www.geeksforgeeks.org/how-to-connect-django-with-reactjs/?ref=outind\" target=\"_self\">Django with Reactjs</a></li></ul></li><li class=\"mega-dropdown__list-item\" data-child=\"true\" aria-expanded=\"false\" data-expandable=\"false\"><a href=\"https://www.geeksforgeeks.org/introduction-postman-api-development/?ref=outind\" target=\"_self\">Postman</a></li><li class=\"mega-dropdown__list-item\" data-child=\"true\" aria-expanded=\"false\" data-expandable=\"false\"><a href=\"https://www.geeksforgeeks.org/introduction-to-github/?ref=outind\" target=\"_self\">Github</a></li></ul></li><li class=\"mega-dropdown__list-item\" data-child=\"true\" aria-expanded=\"false\" data-expandable=\"false\"><a href=\"https://www.geeksforgeeks.org/json/?ref=outind\" target=\"_self\">JSON Tutorial</a></li><li class=\"mega-dropdown__list-item\" data-child=\"true\" aria-expanded=\"false\" data-expandable=\"false\"><a href=\"https://www.geeksforgeeks.org/typescript/?ref=outind\" target=\"_self\">TypeScript Tutorial</a></li><li class=\"mega-dropdown__list-item\" data-child=\"true\" aria-expanded=\"false\" data-expandable=\"false\"><a href=\"https://www.geeksforgeeks.org/wordpress-tutorial/?ref=outind\" target=\"_self\">Wordpress Tutorial</a></li><li class=\"mega-dropdown__list-item\" data-child=\"true\" aria-expanded=\"false\" data-expandable=\"false\"><a href=\"https://www.geeksforgeeks.org/web-design/?ref=outind\" target=\"_self\">Web Design</a></li><li class=\"mega-dropdown__list-item\" data-parent=\"false\" aria-expanded=\"true\" data-expandable=\"true\"><span>Web Browsers</span><i class=\"gfg-icon gfg-icon_arrow-right\"></i><ul class=\"mega-dropdown Screen_2\"><li class=\"mega-dropdown__list-item\" data-child=\"true\" aria-expanded=\"false\" data-expandable=\"false\"><a href=\"https://www.geeksforgeeks.org/google-chrome-browser/?ref=outind\" target=\"_self\">Google Chrome</a></li><li class=\"mega-dropdown__list-item\" data-child=\"true\" aria-expanded=\"false\" data-expandable=\"false\"><a href=\"https://www.geeksforgeeks.org/mozilla-firefox-browser/?ref=outind\" target=\"_self\">Mozilla Firefox</a></li><li class=\"mega-dropdown__list-item\" data-child=\"true\" aria-expanded=\"false\" data-expandable=\"false\"><a href=\"https://www.geeksforgeeks.org/apple-safari-browser/?ref=outind\" target=\"_self\">Apple Safari</a></li><li class=\"mega-dropdown__list-item\" data-child=\"true\" aria-expanded=\"false\" data-expandable=\"false\"><a href=\"https://www.geeksforgeeks.org/microsoft-edge-browser/?ref=outind\" target=\"_self\">Microsoft Edge</a></li><li class=\"mega-dropdown__list-item\" data-child=\"true\" aria-expanded=\"false\" data-expandable=\"false\"><a href=\"https://www.geeksforgeeks.org/tor-browser/?ref=outind\" target=\"_self\">Tor</a></li></ul></li><li class=\"mega-dropdown__list-item\" data-parent=\"false\" aria-expanded=\"true\" data-expandable=\"true\"><span>Cheat Sheets</span><i class=\"gfg-icon gfg-icon_arrow-right\"></i><ul class=\"mega-dropdown Screen_2\"><li class=\"mega-dropdown__list-item\" data-child=\"true\" aria-expanded=\"false\" data-expandable=\"false\"><a href=\"https://www.geeksforgeeks.org/html-cheat-sheet-a-basic-guide-to-html/?ref=outind\" target=\"_self\">HTML Cheat Sheet</a></li><li class=\"mega-dropdown__list-item\" data-child=\"true\" aria-expanded=\"false\" data-expandable=\"false\"><a href=\"https://www.geeksforgeeks.org/css-cheat-sheet-a-basic-guide-to-css/?ref=outind\" target=\"_self\">CSS Cheat Sheet</a></li><li class=\"mega-dropdown__list-item\" data-child=\"true\" aria-expanded=\"false\" data-expandable=\"false\"><a href=\"https://www.geeksforgeeks.org/javascript-cheat-sheet-a-basic-guide-to-javascript/?ref=outind\" target=\"_self\">JavaScript Cheat Sheet</a></li><li class=\"mega-dropdown__list-item\" data-child=\"true\" aria-expanded=\"false\" data-expandable=\"false\"><a href=\"https://www.geeksforgeeks.org/react-cheat-sheet/?ref=outind\" target=\"_self\">React Cheat Sheet</a></li><li class=\"mega-dropdown__list-item\" data-child=\"true\" aria-expanded=\"false\" data-expandable=\"false\"><a href=\"https://www.geeksforgeeks.org/angular-cheat-sheet-a-basic-guide-to-angular/?ref=outind\" target=\"_self\">Angular Cheat Sheet</a></li><li class=\"mega-dropdown__list-item\" data-child=\"true\" aria-expanded=\"false\" data-expandable=\"false\"><a href=\"https://www.geeksforgeeks.org/jquery-cheat-sheet-a-basic-guide-to-jquery/?ref=outind\" target=\"_self\">jQuery Cheat Sheet</a></li><li class=\"mega-dropdown__list-item\" data-child=\"true\" aria-expanded=\"false\" data-expandable=\"false\"><a href=\"https://www.geeksforgeeks.org/bootstrap-cheatsheet-a-basic-guide-to-bootstrap/?ref=outind\" target=\"_self\">Bootstrap Cheat Sheet</a></li></ul></li><li class=\"mega-dropdown__list-item\" data-child=\"true\" aria-expanded=\"false\" data-expandable=\"false\"><a href=\"https://www.geeksforgeeks.org/top-javascript-projects/?ref=outind\" target=\"_self\">JavaScript Projects</a></li><li class=\"mega-dropdown__list-item\" data-child=\"true\" aria-expanded=\"false\" data-expandable=\"false\"><a href=\"https://www.geeksforgeeks.org/web-development/?ref=outind\" target=\"_self\">Learn Complete Web Development</a></li><li class=\"mega-dropdown__list-item\" data-child=\"true\" aria-expanded=\"false\" data-expandable=\"false\"><a href=\"https://www.geeksforgeeks.org/web-browser-a-complete-overview/?ref=outind\" target=\"_self\">File Formats</a></li></ul></li><li class=\"header-main__list-item Header_5\" data-parent=\"false\" aria-expanded=\"true\" data-expandable=\"true\"><span>Courses</span><i class=\"gfg-icon gfg-icon_arrow-down gfg-icon_header\"></i><ul class=\"mega-dropdown Screen_1\"><li class=\"mega-dropdown__list-item\" data-child=\"true\" aria-expanded=\"false\" data-expandable=\"false\"><a href=\"https://www.geeksforgeeks.org/courses/coding-for-everyone?itm_source=geeksforgeeks&itm_medium=main_header&itm_campaign=courses\" target=\"_self\">Coding for Everyone</a></li><li class=\"mega-dropdown__list-item\" data-child=\"true\" aria-expanded=\"false\" data-expandable=\"false\"><a href=\"https://www.geeksforgeeks.org/courses/dsa-to-development-coding-guide?itm_source=geeksforgeeks&itm_medium=main_header&itm_campaign=courses\" target=\"_self\">DSA to Development</a></li><li class=\"mega-dropdown__list-item\" data-child=\"true\" aria-expanded=\"false\" data-expandable=\"false\"><a href=\"https://www.geeksforgeeks.org/courses/data-science-live?itm_source=geeksforgeeks&itm_medium=main_header&itm_campaign=courses\" target=\"_self\">Machine Learning and Data Science</a></li><li class=\"mega-dropdown__list-item\" data-parent=\"false\" aria-expanded=\"true\" data-expandable=\"true\"><span>DSA Courses</span><i class=\"gfg-icon gfg-icon_arrow-right\"></i><ul class=\"mega-dropdown Screen_2\"><li class=\"mega-dropdown__list-item\" data-child=\"true\" aria-expanded=\"false\" data-expandable=\"false\"><a href=\"https://www.geeksforgeeks.org/courses/dsa-self-paced?itm_source=geeksforgeeks&itm_medium=main_header&itm_campaign=courses\" target=\"_self\">Data Structure & Algorithm(C++/JAVA)</a></li><li class=\"mega-dropdown__list-item\" data-child=\"true\" aria-expanded=\"false\" data-expandable=\"false\"><a href=\"https://www.geeksforgeeks.org/courses/Data-Structures-With-Python?itm_source=geeksforgeeks&itm_medium=main_header&itm_campaign=courses\" target=\"_self\">Data Structure & Algorithm(Python)</a></li><li class=\"mega-dropdown__list-item\" data-child=\"true\" aria-expanded=\"false\" data-expandable=\"false\"><a href=\"https://www.geeksforgeeks.org/courses/data-structures-and-algorithms-in-javascript?itm_source=geeksforgeeks&itm_medium=main_header&itm_campaign=courses\" target=\"_self\">Data Structure & Algorithm(JavaScript)</a></li></ul></li><li class=\"mega-dropdown__list-item\" data-parent=\"false\" aria-expanded=\"true\" data-expandable=\"true\"><span>Programming Languages</span><i class=\"gfg-icon gfg-icon_arrow-right\"></i><ul class=\"mega-dropdown Screen_2\"><li class=\"mega-dropdown__list-item\" data-child=\"true\" aria-expanded=\"false\" data-expandable=\"false\"><a href=\"https://www.geeksforgeeks.org/courses/cpp-programming-basic-to-advanced?itm_source=geeksforgeeks&itm_medium=main_header&itm_campaign=courses\" target=\"_self\">CPP</a></li><li class=\"mega-dropdown__list-item\" data-child=\"true\" aria-expanded=\"false\" data-expandable=\"false\"><a href=\"https://www.geeksforgeeks.org/courses/Java-Programming-basic-to-advanced?itm_source=geeksforgeeks&itm_medium=main_header&itm_campaign=courses\" target=\"_self\">Java</a></li><li class=\"mega-dropdown__list-item\" data-child=\"true\" aria-expanded=\"false\" data-expandable=\"false\"><a href=\"https://www.geeksforgeeks.org/courses/Python-Foundation?itm_source=geeksforgeeks&itm_medium=main_header&itm_campaign=courses\" target=\"_self\">Python</a></li><li class=\"mega-dropdown__list-item\" data-child=\"true\" aria-expanded=\"false\" data-expandable=\"false\"><a href=\"https://www.geeksforgeeks.org/courses/javascript?itm_source=geeksforgeeks&itm_medium=main_header&itm_campaign=courses\" target=\"_self\">JavaScript</a></li><li class=\"mega-dropdown__list-item\" data-child=\"true\" aria-expanded=\"false\" data-expandable=\"false\"><a href=\"https://www.geeksforgeeks.org/courses/c-Programming-basic-to-advanced?itm_source=geeksforgeeks&itm_medium=main_header&itm_campaign=courses\" target=\"_self\">C</a></li></ul></li></ul></li></ul>            <ul class=\"header-main__left-list\" data-nl=\"false\">\\r\\n            <li class=\"header-main__left-list-item gcse-search_li p-relative\" aria-expanded=\"false\" data-expandable=\"false\">\\r\\n                <div class=\"gcse-form-search-suggestion_wrapper\">\\r\\n                    <form id=\"gcse-form\" class=\"gcse-form_class p-relative\" data-sm=\"false\">\\r\\n                        <span class=\"front-search-icon\"><i class=\"gfg-icon gfg-icon_search gfg-icon_white gcse-search__icon gcse-search-icon_grey\"></i> </span>\\r\\n                        <input class=\"gcse-search-input__wrapper\" id=\"gcse-search-input\" aria-expanded=\"false\" placeholder=\"Search...\" autocomplete=\"off\" />\\r\\n                        <i class=\"gfg-icon gfg-icon_times gfg-icon_white hide-search\"></i>\\r\\n                        <button  aria-label=\"search\" type=\"submit\" class=\"gcse-search__btn not-expanded\">\\r\\n                            <i class=\"gfg-icon gfg-icon_search gfg-icon_white gcse-search__icon\"></i>\\r\\n                        </button>\\r\\n                    </form>\\r\\n                    <div class=\"gfg-search-suggestion_wrapper\" style=\"display:none\"></div>\\r\\n                <div>\\r\\n                </li>\\r\\n                <li>\\r\\n                    <div class=\"darkMode-wrap\" data-mode=\"Switch to Dark Mode\">\\r\\n                        <button aria-label=\"toggle theme\" data-gfg-action=\"toggleGFGTheme\">\\r\\n                            <div id=\"darkMode-wrap-red-dot\" style=\"height:12px;width:12px;background-color:#EB2222;border-radius:999999px;position:absolute;top:4px;right:0;display:none;\"></div>\\r\\n                            <i class=\"gfg-icon gfg-icon_dark-mode\"></i>\\r\\n                        </button>\\r\\n                        <span id=\"darkModeTooltipText\"></span>\\r\\n                    </div>\\r\\n                </li>\\r\\n                \\r\\n                <li class=\"header-main__left-list-item google-translate-parent-element\" aria-expanded=\"false\" data-expanded=\"true\">\\r\\n                    <div class=\"translate\" id=\"g_translater\">\\r\\n                        <div id=\"google_translate_element\" data-show=\"false\"></div>\\r\\n                    </div>\\r\\n                    <i class =\"gfg-icon gfg-icon_translate googleTranslateToggle\" data-gfg-action=\"google_translate_element\"></i>\\r\\n                    <!-- removed below code from here to load google translate js dynamically -->\\r\\n                    <!-- <script>\\r\\n                        var m = false;\\r\\n                        function googleTranslateElementInit() {\\r\\n                            new google.translate.TranslateElement({pageLanguage: \\'en\\'}, \\'google_translate_element\\');\\r\\n                            setTimeout(function(){\\r\\n                                if (jQuery( window ).width() < 768){\\r\\n                                    m = true;\\r\\n                                     jQuery(\\'#g_translater\\').detach().appendTo(\\'#google_translate_mobile\\');                            \\r\\n                                }\\r\\n                            }, 7000);\\r\\n                        }\\r\\n                        jQuery( window ).resize(function() {\\r\\n                            if (jQuery( window ).width() < 768 && m == false){\\r\\n                                m = true;\\r\\n                                jQuery(\\'#g_translater\\').detach().appendTo(\\'#google_translate_mobile\\');  \\r\\n                            } else if (jQuery( window ).width() >= 768 && m == true){\\r\\n                                m = false;\\r\\n                                jQuery(\\'#g_translater\\').detach().prependTo(\\'.google-translate-parent-element\\');                            \\r\\n                            }\\r\\n                        });\\r\\n                    </script> -->\\r\\n                </li>\\r\\n                <li id=\"userProfileId\" class=\"header-main__left-list-item p-relative\" aria-expanded=\"false\" data-expandable=\"false\">\\r\\n                    <!-- Profile Section to be added via JS -->\\r\\n                </li>\\r\\n            </ul>\\r\\n        </div>\\r\\n\\r\\n        <div class=\"gfg-overlay display-none\" id=\"gfg-overlay\"></div>\\r\\n\\r\\n        <div class=\"header-sidebar__wrapper\">\\r\\n            <ul class=\"header-sidebar__list\">\\r\\n                <li class=\"header-sidebar__list-item\">\\r\\n                    <a href=\"https://www.geeksforgeeks.org/?ref=ghm\" target=\"_self\">Home</a>\\r\\n                </li>\\r\\n                <li class=\"header-sidebar__list-item\">\\r\\n                    <a href=\"https://www.geeksforgeeks.org/videos/watchlist/?ref=ghm\" target=\"_self\">\\r\\n                        <span class=\"gfg-icon gfg-icon_video\"></span>\\r\\n                        <span>Saved Videos</span>\\r\\n                    </a>\\r\\n                </li>\\r\\n                <li class=\"header-sidebar__list-item\">\\r\\n                    <a href=\"https://practice.geeksforgeeks.org/courses?utm_source=geeksforgeeks&utm_medium=main_header&utm_campaign=courses\" target=\"_self\">Courses</a>\\r\\n                </li>\\r\\n                <li>\\r\\n                    <ul id=\"sidebar-list\"></ul>\\r\\n                </li>\\r\\n\\r\\n                <div class=\"mobile-header-list\">\\r\\n                    <div class=\"leftbar-dropdown header-sidebar__list-item\" style=\"padding: 15px 0px!important;border-bottom: 1px solid rgba(158, 158, 158, 0.3) !important;\">\\r\\n                        <h2 class=\"dropdown-title\" >Data Structures and Algorithms<span class=\"gfg-icon gfg-icon_arrow-down-thin\"></span></h2>\\r\\n                        <ul style=\"display: none;\">\\r\\n                            <li class=\"mobile-header-list-item\"><a href=\"https://www.geeksforgeeks.org/learn-data-structures-and-algorithms-dsa-tutorial/?ref=ghm\">DSA Tutorial</a></li>\\r\\n                            <li class=\"mobile-header-list-item\"><a href=\"https://www.geeksforgeeks.org/data-structures/?ref=ghm\">Data Structures Tutorial</a></li>\\r\\n                            <li class=\"mobile-header-list-item\"><a href=\"https://www.geeksforgeeks.org/fundamentals-of-algorithms/?ref=ghm\">Algorithms Tutorial</a></li>\\r\\n                            <li class=\"mobile-header-list-item\"><a href=\"https://www.geeksforgeeks.org/top-100-data-structure-and-algorithms-dsa-interview-questions-topic-wise/?ref=ghm\">Top 100 DSA Interview Questions</a></li>\\r\\n                            <li class=\"mobile-header-list-item\"><a href=\"https://www.geeksforgeeks.org/dsa-roadmap-for-beginner-to-advanced-by-sandeep-jain/?ref=ghm\">DSA-Roadmap[Basic-to-Advanced]</a></li>\\r\\n                        </ul>\\r\\n                    </div>\\r\\n                </div>\\r\\n                <div class=\"mobile-header-list\">\\r\\n                    <div class=\"leftbar-dropdown header-sidebar__list-item\" style=\"padding: 15px 0px!important;border-bottom: 1px solid rgba(158, 158, 158, 0.3) !important;\">\\r\\n                        <h2 class=\"dropdown-title\" >ML & Data Science<span class=\"gfg-icon gfg-icon_arrow-down-thin\"></span></h2>\\r\\n                        <ul style=\"display: none;\">\\r\\n                            <li class=\"mobile-header-list-item\"><a href=\"https://www.geeksforgeeks.org/python-programming-language/?ref=ghm\">Learn Python</a></li>\\r\\n                            <li class=\"mobile-header-list-item\"><a href=\"https://www.geeksforgeeks.org/data-science-tutorial/?ref=ghm\">Data Science Tutorial</a></li>\\r\\n                            <li class=\"mobile-header-list-item\"><a href=\"https://www.geeksforgeeks.org/machine-learning/?ref=ghm\">Machine Learning Tutorial</a></li>\\r\\n                            <li class=\"mobile-header-list-item\"><a href=\"https://www.geeksforgeeks.org/deep-learning-tutorial/?ref=ghm\">Deep Learning Tutorial</a></li>\\r\\n                            <li class=\"mobile-header-list-item\"><a href=\"https://www.geeksforgeeks.org/natural-language-processing-nlp-tutorial/?ref=ghm\">NLP Tutorial</a></li>\\r\\n                            <li class=\"mobile-header-list-item\"><a href=\"https://www.geeksforgeeks.org/computer-vision/?ref=ghm\">Computer Vision Tutorial</a></li>\\r\\n                        </ul>\\r\\n                    </div>\\r\\n                </div>\\r\\n                <div class=\"mobile-header-list\">\\r\\n                    <div class=\"leftbar-dropdown header-sidebar__list-item\" style=\"padding: 15px 0px!important;border-bottom: 1px solid rgba(158, 158, 158, 0.3) !important;\">\\r\\n                        <h2 class=\"dropdown-title\" >Web Development<span class=\"gfg-icon gfg-icon_arrow-down-thin\"></span></h2>\\r\\n                        <ul style=\"display: none;\">\\r\\n                            <li class=\"mobile-header-list-item\"><a href=\"https://www.geeksforgeeks.org/html/?ref=ghm\">HTML Tutorial</a></li>\\r\\n                            <li class=\"mobile-header-list-item\"><a href=\"https://www.geeksforgeeks.org/css/?ref=ghm\">CSS Tutorial</a></li>\\r\\n                            <li class=\"mobile-header-list-item\"><a href=\"https://www.geeksforgeeks.org/javascript/?ref=ghm\">JavaScript Tutorial</a></li>\\r\\n                            <li class=\"mobile-header-list-item\"><a href=\"https://www.geeksforgeeks.org/reactjs-tutorials/?ref=ghm\">ReactJS Tutorial</a></li>\\r\\n                            <li class=\"mobile-header-list-item\"><a href=\"https://www.geeksforgeeks.org/nodejs/?ref=ghm\">NodeJS Tutorial</a></li>\\r\\n                        </ul>\\r\\n                    </div>\\r\\n                </div>\\r\\n                <div class=\"mobile-header-list\">\\r\\n                    <div class=\"leftbar-dropdown header-sidebar__list-item\" style=\"padding: 15px 0px!important;border-bottom: 1px solid rgba(158, 158, 158, 0.3) !important;\">\\r\\n                        <h2 class=\"dropdown-title\" >Languages<span class=\"gfg-icon gfg-icon_arrow-down-thin\"></span></h2>\\r\\n                        <ul style=\"display: none;\">\\r\\n                            <li class=\"mobile-header-list-item\"><a href=\"https://www.geeksforgeeks.org/c-programming-language/?ref=ghm\">C</a></li>\\r\\n                            <li class=\"mobile-header-list-item\"><a href=\"https://www.geeksforgeeks.org/c-plus-plus/?ref=ghm\">C++</a></li>\\r\\n                            <li class=\"mobile-header-list-item\"><a href=\"https://www.geeksforgeeks.org/java/?ref=ghm\">Java</a></li>\\r\\n                            <li class=\"mobile-header-list-item\"><a href=\"https://www.geeksforgeeks.org/r-tutorial/?ref=ghm\">R Tutorial</a></li>\\r\\n                            <li class=\"mobile-header-list-item\"><a href=\"https://www.geeksforgeeks.org/golang/?ref=ghm\">Golang</a></li>\\r\\n                        </ul>\\r\\n                    </div>\\r\\n                </div>\\r\\n\\r\\n                <div class=\"mobile-header-list\">\\r\\n                    <div class=\"leftbar-dropdown header-sidebar__list-item\" style=\"padding: 15px 0px!important;border-bottom: 1px solid rgba(158, 158, 158, 0.3) !important;\">\\r\\n                        <h2 class=\"dropdown-title\" >Interview Corner<span class=\"gfg-icon gfg-icon_arrow-down-thin\"></span></h2>\\r\\n                        <ul style=\"display: none;\">\\r\\n                            <li class=\"mobile-header-list-item\"><a href=\"https://www.geeksforgeeks.org/company-interview-corner/?ref=ghm\">Company Interview Corner</a></li>\\r\\n                            <li class=\"mobile-header-list-item\"><a href=\"https://www.geeksforgeeks.org/experienced-interview-experiences-company-wise/?ref=ghm\">Experienced Interviews</a></li>\\r\\n                            <li class=\"mobile-header-list-item\"><a href=\"https://www.geeksforgeeks.org/internship-interview-experiences-company-wise/?ref=ghm\">Internship Experiences</a></li>\\r\\n                            <li class=\"mobile-header-list-item\"><a href=\"https://www.geeksforgeeks.org/explore?ref=ghm&page=1&sortBy=submissions\">Practice Company Questions</a></li>\\r\\n                            <li class=\"mobile-header-list-item\"><a href=\"https://www.geeksforgeeks.org/competitive-programming-a-complete-guide/?ref=ghm\">Competitive Programming</a></li>\\r\\n                        </ul>\\r\\n                    </div>\\r\\n                </div>\\r\\n\\r\\n                <div class=\"mobile-header-list\">\\r\\n                    <div class=\"leftbar-dropdown header-sidebar__list-item\" style=\"padding: 15px 0px!important;border-bottom: 1px solid rgba(158, 158, 158, 0.3) !important;\">\\r\\n                        <h2 class=\"dropdown-title\" >CS Subjects<span class=\"gfg-icon gfg-icon_arrow-down-thin\"></span></h2>\\r\\n                        <ul style=\"display: none;\">\\r\\n                            <li class=\"mobile-header-list-item\"><a href=\"https://www.geeksforgeeks.org/operating-systems/?ref=ghm\">Operating Systems</a></li>\\r\\n                            <li class=\"mobile-header-list-item\"><a href=\"https://www.geeksforgeeks.org/dbms/?ref=ghm\">DBMS</a></li>\\r\\n                            <li class=\"mobile-header-list-item\"><a href=\"https://www.geeksforgeeks.org/computer-network-tutorials/?ref=ghm\">Computer Networks</a></li>\\r\\n                            <li class=\"mobile-header-list-item\"><a href=\"https://www.geeksforgeeks.org/software-engineering/?ref=ghm\">Software Engineering</a></li>\\r\\n                            <li class=\"mobile-header-list-item\"><a href=\"https://www.geeksforgeeks.org/software-testing-tutorial/?ref=ghm\">Software Testing</a></li>\\r\\n                        </ul>\\r\\n                    </div>\\r\\n                </div>\\r\\n\\r\\n                <div class=\"mobile-header-list\">\\r\\n                    <div class=\"leftbar-dropdown header-sidebar__list-item\" style=\"padding: 15px 0px!important;border-bottom: 1px solid rgba(158, 158, 158, 0.3) !important;\">\\r\\n                        <h2 class=\"dropdown-title\" >Jobs<span class=\"gfg-icon gfg-icon_arrow-down-thin\"></span></h2>\\r\\n                        <ul style=\"display: none;\">\\r\\n                            <li class=\"mobile-header-list-item\"><a href=\"https://www.geeksforgeeks.org/jobs/?ref=ghm\">Get Hired: Apply for Jobs</a></li>\\r\\n                            <li class=\"mobile-header-list-item\"><a href=\"https://practice.geeksforgeeks.org/events/rec/job-a-thon?itm_source=geeksforgeeks&itm_medium=main_header&itm_campaign=jobs\">Job-a-thon: Hiring Challenge</a></li>\\r\\n                            <li class=\"mobile-header-list-item\"><a href=\"https://www.geeksforgeeks.org/hire-with-us/dashboard\">Corporate Hiring Solutions</a></li>\\r\\n                        </ul>\\r\\n                    </div>\\r\\n                </div>\\r\\n                \\r\\n                <div class=\"mobile-header-list\">\\r\\n                    <div class=\"leftbar-dropdown header-sidebar__list-item\" style=\"padding: 15px 0px!important;border-bottom: 1px solid rgba(158, 158, 158, 0.3) !important;\">\\r\\n                        <h2 class=\"dropdown-title\" >Practice<span class=\"gfg-icon gfg-icon_arrow-down-thin\"></span></h2>\\r\\n                        <ul style=\"display: none;\">\\r\\n                            <li class=\"mobile-header-list-item\"><a href=\"https://www.geeksforgeeks.org/explore/?ref=ghm&page=1&sortBy=submissions\">All DSA Problems</a></li>\\r\\n                            <li class=\"mobile-header-list-item\"><a href=\"https://www.geeksforgeeks.org/problem-of-the-day?ref=ghm\">Problem of the Day</a></li>\\r\\n                            <li class=\"mobile-header-list-item\"><a href=\"https://www.geeksforgeeks.org/explore/?ref=ghm&page=1&curated[]=1&sortBy=submissions&curated_names[]=SDE Sheet\">GFG SDE Sheet</a></li>\\r\\n                            <li class=\"mobile-header-list-item\"><a href=\"https://www.geeksforgeeks.org/explore/?ref=ghm&page=1&sprint=ca8ae412173dbd8346c26a0295d098fd&sortBy=submissions&sprint_name=Beginner\\'s DSA Sheet\">Beginner\\'s DSA Sheet</a></li>\\r\\n                            <li class=\"mobile-header-list-item\"><a href=\"https://www.geeksforgeeks.org/explore/?ref=ghm&page=1&sprint=94ade6723438d94ecf0c00c3937dad55&sortBy=submissions&sprint_name=Love Babbar Sheet\">Love Babbar Sheet</a></li>\\r\\n                            <li class=\"mobile-header-list-item\"><a href=\"https://www.geeksforgeeks.org/explore/?ref=ghm&page=1&sprint=50746f92a895c22a50504ac0c1fb9c84&sortBy=submissions&sprint_name=Top 50 Array Problems\">Top 50 Array Problems</a></li>\\r\\n                            <li class=\"mobile-header-list-item\"><a href=\"https://www.geeksforgeeks.org/explore/?ref=ghm&page=1&sprint=57184072610b884e5df3584cc534115d&sortBy=submissions&sprint_name=Top 50 String Problems\">Top 50 String Problems</a></li>\\r\\n                            <li class=\"mobile-header-list-item\"><a href=\"https://www.geeksforgeeks.org/explore/?ref=ghm&page=1&sprint=93d672753b74440c7427214c8ebf866d&sortBy=submissions&sprint_name=Top 50 DP Problems\">Top 50 DP Problems</a></li>\\r\\n                            <li class=\"mobile-header-list-item\"><a href=\"https://www.geeksforgeeks.org/explore/?ref=ghm&page=1&sprint=405e9db0f353691ad3b2d546b19145e9&sortBy=submissions&sprint_name=Top 50 Graph Problems\">Top 50 Graph Problems</a></li>    \\r\\n                            <li class=\"mobile-header-list-item\"><a href=\"https://www.geeksforgeeks.org/explore/?ref=ghm&page=1&sprint=5f24de84b65bf7c4f4399c8111e26b81&sortBy=submissions&sprint_name=Top 50 Tree Problems\">Top 50 Tree Problems</a></li>\\r\\n\\r\\n                        </ul>\\r\\n                    </div>\\r\\n                </div>\\r\\n                \\r\\n                <div class=\"mobile-header-list\">\\r\\n                    <div class=\"leftbar-dropdown header-sidebar__list-item\" style=\"padding: 15px 0px!important;border-bottom: 1px solid rgba(158, 158, 158, 0.3) !important;\">\\r\\n                        <h2 class=\"dropdown-title\" >Contests<span class=\"gfg-icon gfg-icon_arrow-down-thin\"></span></h2>\\r\\n                        <ul style=\"display: none;\">\\r\\n                            <li class=\"mobile-header-list-item\"><a href=\"https://practice.geeksforgeeks.org/hackathon/world-cup-wizard?itm_source=geeksforgeeks&itm_medium=main_header&itm_campaign=hackathon\">World Cup Hack-A-Thon</a></li>\\r\\n                            <li class=\"mobile-header-list-item\"><a href=\"https://practice.geeksforgeeks.org/events/rec/interview-series?itm_source=geeksforgeeks&itm_medium=main_header&itm_campaign=contests\">GFG Weekly Coding Contest</a></li>\\r\\n                            <li class=\"mobile-header-list-item\"><a href=\"https://practice.geeksforgeeks.org/events/rec/job-a-thon?itm_source=geeksforgeeks&itm_medium=main_header&itm_campaign=contests\">Job-A-Thon: Hiring Challenge</a></li>\\r\\n                            <li class=\"mobile-header-list-item\"><a href=\"https://practice.geeksforgeeks.org/events/rec/step-up-coding-school?itm_source=geeksforgeeks&itm_medium=main_header&itm_campaign=contests\">BiWizard School Contest</a></li>\\r\\n                            <li class=\"mobile-header-list-item\"><a href=\"https://practice.geeksforgeeks.org/events?itm_source=geeksforgeeks&itm_medium=main_header&itm_campaign=contests\">All Contests and Events</a></li>\\r\\n                        </ul>\\r\\n                    </div>\\r\\n                </div>\\r\\n\\r\\n                <li class=\"header-sidebar__list-item\">\\r\\n                    <a href=\"https://www.geeksforgeeks.org/category/guestblogs/?ref=ghm\" target=\"_self\">GBlog</a>\\r\\n                </li>\\r\\n                <li class=\"header-sidebar__list-item\">\\r\\n                    <a href=\"https://www.geeksforgeeks.org/puzzles/?ref=ghm\" target=\"_self\">Puzzles</a>\\r\\n                </li>\\r\\n                <li class=\"header-sidebar__list-item\">\\r\\n                    <a href=\"https://www.geeksforgeeks.org/geeks-classes-geeksforgeeks/?ref=ghm\" target=\"_self\">What\\'s New ?</a>\\r\\n                </li>\\r\\n            </ul>\\r\\n                        \\r\\n            <div class=\"mobile_translate\">\\r\\n                <div id=\"google_translate_mobile\" data-show=\"false\"></div>\\r\\n                <div style=\"margin: auto;\">\\r\\n                    <button aria-label=\"toggle theme\" class=\"toggle-darkMode\" data-gfg-action=\"toggleGFGTheme\">\\r\\n                        <i class=\"gfg-icon gfg-icon_dark-mode\"></i>\\r\\n                    </button>\\r\\n                    <button class=\"google_translate_element_mobile\" data-gfg-action=\"google_translate_mobile\" aria-expanded=\"false\" data-expanded=\"true\">\\r\\n                        <i class=\"gfg-icon gfg-icon_translate googleTranslateToggleMobile\"></i>Change Language \\r\\n                    </button>\\r\\n                </div>\\r\\n            </div>\\r\\n            <div class=\"\" style=\"height: 80px;\"></div>\\r\\n        </div>\\r\\n\\r\\n       \\r\\n       </div>\\r\\n    </nav>\\r\\n    <div class=\"header-main__slider\">\\r\\n        <button aria-label=\"sub header slider previous\" class=\"header-main__slider-arrow previous hideIt\">\\r\\n            <i class=\"gfg-icon gfg-icon_arrow-left gicon-centered\"></i>\\r\\n        </button>\\r\\n        <ul id=\"hslider\">\\r\\n        <li><div class=\"header-main__slider-sticky\">\\r\\n    <button id=\"related-article-button\" data-gfg-action=\"article-slider\" aria-label=\"Related Articles\"><div class=\"mobile-view-leftbar-icon\" aria-label=\"Related Articles\" alt=\"Related Articles\"></div>\\r\\n    <style>#darkMode-wrap-red-dot-leftbar{animation: pulse-animation 1.3s infinite;}@keyframes pulse-animation{0%{box-shadow: 0 0 0 0px rgba(249, 179, 0, 0.5);}100%{box-shadow: 0 0 0 10px rgba(249, 179, 0, 0);}}</style>\\r\\n    <div id=\"darkMode-wrap-red-dot-leftbar\" style=\"display: none;height: 8px;width: 8px;background-color: #fb0101;border-radius: 999999px;position: absolute;top: 10px;right: 12px;animation: pulse-animation 1.3s infinite;\"></div></button>\\r\\n    \\r\\n               <div class=\"header-main__slider-flex\">\\r\\n                    <div class=\"header-main__slider-flex-inner\" title=\"Related articles\" data-gfg-action=\"article-slider\"></div>\\r\\n                </div>\\r\\n               </div></li><li><a href=\"https://www.geeksforgeeks.org/trending/?ref=shm\">Trending Now</a></li><li><a href=\"https://www.geeksforgeeks.org/learn-data-structures-and-algorithms-dsa-tutorial/?ref=shm\">DSA</a></li><li><a href=\"https://www.geeksforgeeks.org/web-technology/?ref=shm\">Web Tech</a></li><li><a href=\"https://www.geeksforgeeks.org/courses/category/programming-languages?courseFeeType=paid&utm_source=geeksforgeeks&utm_medium=sub_header&utm_campaign=courses&ref=shm\">Foundational Courses</a></li><li><a href=\"https://www.geeksforgeeks.org/courses/data-science-live?itm_source=geeksforgeeks&itm_medium=gfg_submenu&itm_campaign=DS_Submenu&ref=shm\">Data Science</a></li><li><a href=\"https://practice.geeksforgeeks.org/explore?page=1&sortBy=submissions\">Practice Problem</a></li><li><a href=\"https://www.geeksforgeeks.org/python-programming-language/?ref=shm\">Python</a></li><li><a href=\"https://www.geeksforgeeks.org/machine-learning/?ref=shm\">Machine Learning</a></li><li><a href=\"https://www.geeksforgeeks.org/javascript/?ref=shm\">JavaScript</a></li><li><a href=\"https://www.geeksforgeeks.org/system-design-tutorial/?ref=shm\">System Design</a></li><li><a href=\"https://www.geeksforgeeks.org/django-tutorial/?ref=shm\">Django</a></li><li><a href=\"https://www.geeksforgeeks.org/devops-tutorial/?ref=shm\">DevOps Tutorial</a></li><li><a href=\"https://www.geeksforgeeks.org/java/?ref=shm\">Java</a></li><li><a href=\"https://www.geeksforgeeks.org/c-programming-language/?ref=shm\">C </a></li><li><a href=\"https://www.geeksforgeeks.org/c-plus-plus/?ref=shm\">C++</a></li><li><a href=\"https://www.geeksforgeeks.org/learn-reactjs/?ref=shm\">ReactJS</a></li><li><a href=\"https://www.geeksforgeeks.org/nodejs/?ref=shm\">NodeJS</a></li><li><a href=\"https://www.geeksforgeeks.org/courses/competitive-programming-live?itm_source=geeksforgeeks&itm_medium=gfg_submenu&itm_campaign=DS_Submenu&ref=shm\">CP Live</a></li><li><a href=\"https://www.geeksforgeeks.org/aptitude-questions-and-answers/?ref=shm\">Aptitude</a></li><li><a href=\"https://www.geeksforgeeks.org/puzzles/?ref=shm\">Puzzles</a></li><li><a href=\"https://www.geeksforgeeks.org/computer-science-projects/?ref=shm\">Projects</a></li>        </ul>\\r\\n        <button aria-label=\"sub header slider next\" class=\"header-main__slider-arrow next hideIt\">\\r\\n            <i class=\"gfg-icon gfg-icon_arrow-right gicon-centered\"></i>\\r\\n        </button>\\r\\n    </div>\\r\\n    <button id=\"scrollTopBtn\" title=\"Scroll to Top\" type=\"button\" class=\"btn btn-success\">&#x25B2;</button>\\r\\n    <!-- .top-spacing to give space on single pages-->\\r\\n    <div id=\"main\" class=\"wrapper \">\\r\\n\\r\\n<script>\\r\\n    if(post_slug.includes(\\'premium-plans-payment/\\') || post_slug.includes(\\'premium-plans/\\')){\\r\\n        $(\".header-main__slider\").remove();\\r\\n    }\\r\\n    //getting tags for the page type data\\r\\n    let mobileView = false;\\r\\n    let pageTags = JSON.parse(\\'null\\');\\r\\n    let allTags = JSON.parse(\\'[]\\');\\r\\n</script>\\r\\n\\n\\t<div class=\"sidebar_wrapper\">\\n\\t\\t<div class=\"sideBar sideBar-page sticky  \"  >\\n\\t\\t\\t<div class=\"sideBar--wrap newLeftbar oinLeftbar \">\\n\\t\\t\\t\\t<ul class=\"leftBarList\"><div class=\\'second\\'><li class=\"currentpage\"><a href=\"https://www.geeksforgeeks.org/data-structures/?ref=lbp\">Data Structures Tutorial</a></li><li><a href=\"https://www.geeksforgeeks.org/introduction-to-data-structures/?ref=lbp\">Introduction to Data Structures</a></li><li><a href=\"https://www.geeksforgeeks.org/what-is-data-structure-types-classifications-and-applications/?ref=lbp\">Data Structure Types, Classifications and Applications</a></li><div class=\"leftbar-dropdown\"><h2 class=\"dropdown-title\">Overview of Data Structures<span class=\"gfg-icon gfg-icon_arrow-down-thin\"></span></h2><ul style=\"display: none;\"><li><a href=\"https://www.geeksforgeeks.org/introduction-to-linear-data-structures/?ref=lbp\">Introduction to Linear Data Structures</a></li><li><a href=\"https://www.geeksforgeeks.org/introduction-to-hierarchical-data-structure/?ref=lbp\">Introduction to Hierarchical Data Structure</a></li><li><a href=\"https://www.geeksforgeeks.org/overview-of-graph-trie-segment-tree-and-suffix-tree-data-structures/?ref=lbp\">Overview of Graph, Trie, Segment Tree and Suffix Tree Data Structures</a></li></ul></div><div class=\"leftbar-dropdown\"><h2 class=\"dropdown-title\">Different Types of Data Structures<span class=\"gfg-icon gfg-icon_arrow-down-thin\"></span></h2><ul style=\"display: none;\"><li><a href=\"https://www.geeksforgeeks.org/array-data-structure/?ref=lbp\">Array Data Structure</a></li><li><a href=\"https://www.geeksforgeeks.org/string-data-structure/?ref=lbp\">String in Data Structure</a></li><li><a href=\"https://www.geeksforgeeks.org/data-structures/linked-list/?ref=lbp\">Linked List Data Structure</a></li><li><a href=\"https://www.geeksforgeeks.org/stack-data-structure/?ref=lbp\">Stack Data Structure</a></li><li><a href=\"https://www.geeksforgeeks.org/queue-data-structure/?ref=lbp\">Queue Data Structure</a></li><li><a href=\"https://www.geeksforgeeks.org/introduction-to-tree-data-structure-and-algorithm-tutorials/?ref=lbp\">Introduction to Tree - Data Structure and Algorithm Tutorials</a></li><li><a href=\"https://www.geeksforgeeks.org/heap-data-structure/?ref=lbp\">Heap Data Structure</a></li><li><a href=\"https://www.geeksforgeeks.org/hashing-data-structure/?ref=lbp\">Hashing in Data Structure</a></li><li><a href=\"https://www.geeksforgeeks.org/graph-data-structure-and-algorithms/?ref=lbp\">Graph Data Structure And Algorithms</a></li><li><a href=\"https://www.geeksforgeeks.org/matrix/?ref=lbp\">Matrix Data Structure</a></li><li><a href=\"https://www.geeksforgeeks.org/advanced-data-structures/?ref=lbp\">Advanced Data Structures</a></li></ul></div><li><a href=\"https://www.geeksforgeeks.org/data-structure-alignment-how-data-is-arranged-and-accessed-in-computer-memory/?ref=lbp\">Data Structure Alignment : How data is arranged and accessed in Computer Memory?</a></li><li><a href=\"https://www.geeksforgeeks.org/static-data-structure-vs-dynamic-data-structure/?ref=lbp\">Static Data Structure vs Dynamic Data Structure</a></li><li><a href=\"https://www.geeksforgeeks.org/static-and-dynamic-data-structures-in-java-with-examples/?ref=lbp\">Static and Dynamic data structures in Java with Examples</a></li><li><a href=\"https://www.geeksforgeeks.org/common-operations-on-various-data-structures/?ref=lbp\">Common operations on various Data Structures</a></li><li><a href=\"https://www.geeksforgeeks.org/real-time-application-of-data-structures/?ref=lbp\">Real-life Applications of Data Structures and Algorithms (DSA)</a></li><div class=\"leftbar-dropdown highlight-title\"><h2 class=\"dropdown-title\">Different Types of Advanced Data Structures</h2><ul style=\"display: none;\"></ul></div></div></ul>\\t\\t\\t</div>\\t\\n            <div id=\"GFG_AD_Desktop_LeftSideBar_Docked_300x250\"></div>\\n\\t\\t</div>\\n\\t\\t<div id=\"GFG_AD_Desktop_LeftSideBar_Docked_160x600\" style=\"max-width:160px; max-height:600px\"></div>\\n\\t</div>\\n<div class=\"article-page_sidebar\" data-article-slider=\"0\">\\n            <div class=\"article-page_sidebar-overlay\" data-gfg-action=\"article-slider\"></div>\\n            <div class=\"article-page_sidebar-inner newLeftbar\">\\n                <ul class=\"leftBarList\"><div class=\\'second\\'><li class=\"currentpage\"><a href=\"https://www.geeksforgeeks.org/data-structures/?ref=lbp\">Data Structures Tutorial</a></li><li><a href=\"https://www.geeksforgeeks.org/introduction-to-data-structures/?ref=lbp\">Introduction to Data Structures</a></li><li><a href=\"https://www.geeksforgeeks.org/what-is-data-structure-types-classifications-and-applications/?ref=lbp\">Data Structure Types, Classifications and Applications</a></li><div class=\"leftbar-dropdown\"><h2 class=\"dropdown-title\">Overview of Data Structures<span class=\"gfg-icon gfg-icon_arrow-down-thin\"></span></h2><ul style=\"display: none;\"><li><a href=\"https://www.geeksforgeeks.org/introduction-to-linear-data-structures/?ref=lbp\">Introduction to Linear Data Structures</a></li><li><a href=\"https://www.geeksforgeeks.org/introduction-to-hierarchical-data-structure/?ref=lbp\">Introduction to Hierarchical Data Structure</a></li><li><a href=\"https://www.geeksforgeeks.org/overview-of-graph-trie-segment-tree-and-suffix-tree-data-structures/?ref=lbp\">Overview of Graph, Trie, Segment Tree and Suffix Tree Data Structures</a></li></ul></div><div class=\"leftbar-dropdown\"><h2 class=\"dropdown-title\">Different Types of Data Structures<span class=\"gfg-icon gfg-icon_arrow-down-thin\"></span></h2><ul style=\"display: none;\"><li><a href=\"https://www.geeksforgeeks.org/array-data-structure/?ref=lbp\">Array Data Structure</a></li><li><a href=\"https://www.geeksforgeeks.org/string-data-structure/?ref=lbp\">String in Data Structure</a></li><li><a href=\"https://www.geeksforgeeks.org/data-structures/linked-list/?ref=lbp\">Linked List Data Structure</a></li><li><a href=\"https://www.geeksforgeeks.org/stack-data-structure/?ref=lbp\">Stack Data Structure</a></li><li><a href=\"https://www.geeksforgeeks.org/queue-data-structure/?ref=lbp\">Queue Data Structure</a></li><li><a href=\"https://www.geeksforgeeks.org/introduction-to-tree-data-structure-and-algorithm-tutorials/?ref=lbp\">Introduction to Tree - Data Structure and Algorithm Tutorials</a></li><li><a href=\"https://www.geeksforgeeks.org/heap-data-structure/?ref=lbp\">Heap Data Structure</a></li><li><a href=\"https://www.geeksforgeeks.org/hashing-data-structure/?ref=lbp\">Hashing in Data Structure</a></li><li><a href=\"https://www.geeksforgeeks.org/graph-data-structure-and-algorithms/?ref=lbp\">Graph Data Structure And Algorithms</a></li><li><a href=\"https://www.geeksforgeeks.org/matrix/?ref=lbp\">Matrix Data Structure</a></li><li><a href=\"https://www.geeksforgeeks.org/advanced-data-structures/?ref=lbp\">Advanced Data Structures</a></li></ul></div><li><a href=\"https://www.geeksforgeeks.org/data-structure-alignment-how-data-is-arranged-and-accessed-in-computer-memory/?ref=lbp\">Data Structure Alignment : How data is arranged and accessed in Computer Memory?</a></li><li><a href=\"https://www.geeksforgeeks.org/static-data-structure-vs-dynamic-data-structure/?ref=lbp\">Static Data Structure vs Dynamic Data Structure</a></li><li><a href=\"https://www.geeksforgeeks.org/static-and-dynamic-data-structures-in-java-with-examples/?ref=lbp\">Static and Dynamic data structures in Java with Examples</a></li><li><a href=\"https://www.geeksforgeeks.org/common-operations-on-various-data-structures/?ref=lbp\">Common operations on various Data Structures</a></li><li><a href=\"https://www.geeksforgeeks.org/real-time-application-of-data-structures/?ref=lbp\">Real-life Applications of Data Structures and Algorithms (DSA)</a></li><div class=\"leftbar-dropdown highlight-title\"><h2 class=\"dropdown-title\">Different Types of Advanced Data Structures</h2><ul style=\"display: none;\"></ul></div></div></ul>            </div>\\n        </div>\\n<div id=\"primary\" class=\"site-content\">\\n\\t<div id=\"content\" role=\"main\">\\n\\t\\t\\t\\t\\t\\t<article  id=\"post-125686\" class=\"post-125686 page type-page status-publish hentry\">\\r\\n\\t\\t<div class=\"entry-content\">\\r\\n   \\t\\t<header class=\"entry-header page__main__wrapper\">\\r\\n\\t\\t\\t<h1 class=\"entry-title\" style=\"font-weight: 600 !important;\">Data Structures Tutorial</h1>\\r\\n                     <div style=\"margin-top: -6px;font-family:var(--font-primary);color:var(--gfg-color-lg);font-size:16px; padding-bottom: 5px;border-bottom: 1px solid var(--page-main-wrapper-border)\">\\r\\n                  <span class=\"strong\">Last Updated : </span>\\r\\n                  <span>04 Apr, 2024</span>\\r\\n            </div>\\r\\n                <!-- when comment system will be scalable from practice side then we will display  Article/Discussion tab-->\\r\\n      \\t\\t</header>\\r\\n      \\t\\t\\t\\r\\n         <div class=\"page_content\">\\r\\n         <p dir=\"ltr\"><b><strong>Data structures&nbsp;</strong></b><span>are essential components that help organize and store data efficiently in computer memory. They provide a way to manage and manipulate data effectively, enabling faster access, insertion, and deletion operations. </span></p>\\n<p dir=\"ltr\"><span>Common data structures include&nbsp;</span><b><strong>arrays, linked lists, stacks, queues, trees, and graphs&nbsp;</strong></b><span>, each serving specific purposes based on the requirements of the problem. Understanding data structures is fundamental for designing efficient algorithms and optimizing software performance.</span></p><div id=\"GFG_AD_gfg_mobile_336x280\"></div>\\n<div style=\"width: 810px\" class=\"wp-caption alignnone\"><img src=\"https://media.geeksforgeeks.org/wp-content/cdn-uploads/20230706095706/intro-data-structure-%E2%80%93-1.png\" width=\"inherit\" height=\"inherit\" loading=\"auto\"><p class=\"wp-caption-text\">Data Structure</p></div>\\n<div id=\"table_of_content\">\\n<p style=\"margin:4px; font-size:20px; font-weight:bold;\">Table of Content</p>\\n<ul>\\n<li key=\"0\"><a href=\"#what-is-a-data-structure\">What is a Data Structure?</a></li>\\n<li key=\"1\"><a href=\"#why-are-data-structures-important\">Why are Data Structures Important?</a></li>\\n<li key=\"2\"><a href=\"#classification-of-data-structures\">Classification of Data Structures</a></li>\\n<li key=\"3\"><a href=\"#types-of-data-structures\">Types of Data Structures</a></li>\\n<li key=\"4\"><a href=\"#applications-of-data-structures\">Applications of Data Structures</a></li>\\n<li key=\"5\"><a href=\"#learn-basics-of-data-structure\">Learn Basics of Data Structure</a></li>\\n<li key=\"6\"><a href=\"#most-popular-data-structures\">Most Popular Data Structures</a></li>\\n<li key=\"7\"><a href=\"#advanced-data-structure\">Advanced Data Structure</a></li>\\n</ul>\\n</div>\\n<h2 id=\"what-is-a-data-structure\"><span>What is a Data Structure?</span></h2>\\n<p dir=\"ltr\"><span>A </span><b><strong>data structure</strong></b><span> is a way of organizing and storing data in a computer so that it can be accessed and used efficiently. It defines the relationship between the data and the operations that can be performed on the data</span></p><div id=\"_GFG_ABP_Incontent_728x90\" style=\"text-align:center;\"></div><div style=\"min-height:280px;text-align:center;margin:20px 0;max-height: 280px;\" id=\"GFG_AD_InContent_Desktop_728x280\"></div>\\n<h2 id=\"why-are-data-structures-important\"><span>Why are Data Structures Important?</span></h2>\\n<p dir=\"ltr\"><span>Data structures are essential for the following reasons:</span></p>\\n<ul>\\n<li value=\"1\"><b><strong>Efficient Data Management:</strong></b><span> They enable efficient storage and retrieval of data, reducing processing time and improving performance.</span></li>\\n<li value=\"2\"><b><strong>Data Organization: </strong></b><span>They organize data in a logical manner, making it easier to understand and access.</span></li>\\n<li value=\"3\"><b><strong>Data Abstraction: </strong></b><span>They hide the implementation details of data storage, allowing programmers to focus on the logical aspects of data manipulation.</span></li>\\n<li value=\"4\"><b><strong>Reusability: </strong></b><span>Common data structures can be reused in multiple applications, saving time and effort in development.</span></li>\\n<li value=\"5\"><b><strong>Algorithm Optimization:</strong></b><span> The choice of the appropriate data structure can significantly impact the efficiency of algorithms that operate on the data.</span></li>\\n</ul>\\n<h2 id=\"classification-of-data-structures\"><span>Classification of Data Structures</span></h2>\\n<p dir=\"ltr\"><span>Data structures can be classified into two main categories:</span></p>\\n<ul>\\n<li value=\"1\"><b><strong>Linear Data Structures: </strong></b><span>These structures store data in a sequential order this allowing for easy </span><b><strong>insertion </strong></b><span>and </span><b><strong>deletion </strong></b><span>operations. Examples include arrays, linked lists, and queues.</span></li>\\n<li value=\"2\"><b><strong>Non-Linear Data Structures: </strong></b><span>These structures store data in a hierarchical or interconnected manner this allowing for more complex relationships between data elements. Examples include trees, graphs, and hash tables.</span></li>\\n</ul>\\n<h2 id=\"types-of-data-structures\"><span>Types of Data Structures</span></h2>\\n<p dir=\"ltr\"><span>Basically, data structures are divided into two categories:</span></p><div id=\"GFG_AD_Desktop_InContent_ATF_336x280\" style=\"text-align:center;max-height: 280px;\"></div>\\n<h3><b><strong>Linear Data Structures:</strong></b></h3>\\n<ul>\\n<li value=\"1\"><b><strong>Array: </strong></b><span>A collection of elements of the same type stored in contiguous memory locations.</span></li>\\n<li value=\"2\"><b><strong>Linked List:</strong></b><span> A collection of elements linked together by pointers, allowing for dynamic insertion and deletion.</span></li>\\n<li value=\"3\"><b><strong>Queue: </strong></b><span>A First-In-First-Out (FIFO) structure where elements are added at the end and removed from the beginning.</span></li>\\n<li value=\"4\"><b><strong>Stack:</strong></b><span> A Last-In-First-Out (LIFO) structure where elements are added and removed from the top.</span></li>\\n</ul>\\n<h3><span>Non-Linear Data Structures:</span></h3>\\n<ul>\\n<li value=\"1\"><b><strong>Tree: </strong></b><span>A hierarchical structure where each node can have multiple child nodes.</span></li>\\n<li value=\"2\"><b><strong>Graph: A</strong></b><span> collection of nodes connected by edges, representing relationships between data elements.</span></li>\\n<li value=\"3\"><b><strong>Hash Table:</strong></b><span> A data structure that uses a hash function to map keys to values, allowing for fast lookup and insertion.</span></li>\\n</ul>\\n<h2 id=\"applications-of-data-structures\"><span>Applications of Data Structures</span></h2>\\n<p dir=\"ltr\"><span>Data structures are widely used in various applications, including:</span></p>\\n<ul>\\n<li value=\"1\"><b><strong>Database Management Systems:</strong></b><span> To store and manage large amounts of structured data.</span></li>\\n<li value=\"2\"><b><strong>Operating Systems: </strong></b><span>To manage memory, processes, and files.</span></li>\\n<li value=\"3\"><b><strong>Compiler Design: </strong></b><span>To represent source code and intermediate code.</span></li>\\n<li value=\"4\"><b><strong>Artificial Intelligence: </strong></b><span>To represent knowledge and perform reasoning.</span></li>\\n<li value=\"5\"><b><strong>Graphics and Multimedia:</strong></b><span> To store and process images, videos, and audio data.</span></li>\\n</ul>\\n<h2 id=\"learn-basics-of-data-structure\"><span>Learn Basics of Data Structure:</span></h2>\\n<ul>\\n<li value=\"1\"><a href=\"https://www.geeksforgeeks.org/introduction-to-linear-data-structures/\"><span>Introduction to Linear Data Structures</span></a></li>\\n<li value=\"2\"><a href=\"https://www.geeksforgeeks.org/introduction-to-hierarchical-data-structure/\"><span>Introduction to Hierarchical Data Structure</span></a></li>\\n<li value=\"3\"><a href=\"https://www.geeksforgeeks.org/overview-of-data-structures-set-3-graph-trie-segment-tree-and-suffix-tree/\"><span>Overview of Data Structures | Set 3 (Graph, Trie, Segment Tree and Suffix Tree)</span></a></li>\\n<li value=\"4\"><a href=\"https://www.geeksforgeeks.org/abstract-data-types/\"><span>Abstract Data Types</span></a></li>\\n</ul>\\n<h2 id=\"most-popular-data-structures\"><b><strong>Most Popular Data Structures</strong></b><span>:</span></h2>\\n<p dir=\"ltr\"><span>Below are some most popular Data Structure:</span></p>\\n<h3><span>1. Array: </span></h3>\\n<p dir=\"ltr\"><b><strong>Array</strong></b><span> is a linear data structure that stores a collection of elements of the same data type. Elements are allocated contiguous memory, allowing for constant-time access. Each element has a unique index number.</span></p>\\n<p dir=\"ltr\"><b><strong>Important articles on</strong></b><span> </span><b><strong>Array:</strong></b></p>\\n<ul>\\n<li value=\"1\"><a href=\"https://www.geeksforgeeks.org/search-insert-and-delete-in-an-unsorted-array/\"><span>Search, insert and delete in an unsorted array</span></a></li>\\n<li value=\"2\"><a href=\"https://www.geeksforgeeks.org/search-insert-and-delete-in-a-sorted-array/\"><span>Search, insert and delete in a sorted array</span></a></li>\\n<li value=\"3\"><a href=\"https://www.geeksforgeeks.org/write-a-program-to-reverse-an-array/\"><span>Write a program to reverse an array</span></a></li>\\n<li value=\"4\"><a href=\"https://www.geeksforgeeks.org/leaders-in-an-array/\"><span>Leaders in an array</span></a></li>\\n<li value=\"5\"><a href=\"https://www.geeksforgeeks.org/write-a-c-program-that-given-a-set-a-of-n-numbers-and-another-number-x-determines-whether-or-not-there-exist-two-elements-in-s-whose-sum-is-exactly-x/\"><span>Given an array A[] and a number x, check for pair in A[] with sum as x</span></a></li>\\n<li value=\"6\"><a href=\"https://www.geeksforgeeks.org/majority-element/\"><span>Majority Element</span></a></li>\\n<li value=\"7\"><a href=\"https://www.geeksforgeeks.org/find-the-number-occurring-odd-number-of-times/\"><span>Find the Number Occurring Odd Number of Times</span></a></li>\\n<li value=\"8\"><a href=\"https://www.geeksforgeeks.org/largest-sum-contiguous-subarray/\"><span>Largest Sum Contiguous Subarray</span></a></li>\\n<li value=\"9\"><a href=\"https://www.geeksforgeeks.org/find-the-missing-number/\"><span>Find the Missing Number</span></a></li>\\n<li value=\"10\"><a href=\"https://www.geeksforgeeks.org/search-an-element-in-a-sorted-and-pivoted-array/\"><span>Search an element in a sorted and pivoted array</span></a></li>\\n<li value=\"11\"><a href=\"https://www.geeksforgeeks.org/merge-one-array-of-size-n-into-another-one-of-size-mn/\"><span>Merge an array of size n into another array of size m+n</span></a></li>\\n<li value=\"12\"><a href=\"https://www.geeksforgeeks.org/median-of-two-sorted-arrays/\"><span>Median of two sorted arrays</span></a></li>\\n<li value=\"13\"><a href=\"https://www.geeksforgeeks.org/array-rotation/\"><span>Program for array rotation</span></a></li>\\n<li value=\"14\"><a href=\"https://www.geeksforgeeks.org/program-for-array-rotation-continued-reversal-algorithm/\"><span>Reversal algorithm for array rotation</span></a></li>\\n<li value=\"15\"><a href=\"https://www.geeksforgeeks.org/block-swap-algorithm-for-array-rotation/\"><span>Block swap algorithm for array rotation</span></a></li>\\n<li value=\"16\"><a href=\"https://www.geeksforgeeks.org/maximum-sum-such-that-no-two-elements-are-adjacent/\"><span>Maximum sum such that no two elements are adjacent</span></a></li>\\n<li value=\"17\"><a href=\"https://www.geeksforgeeks.org/sort-elements-by-frequency/\"><span>Sort elements by frequency | Set 1</span></a></li>\\n<li value=\"18\"><a href=\"https://www.geeksforgeeks.org/counting-inversions/\"><span>Count Inversions in an array</span></a></li>\\n</ul>\\n<p dir=\"ltr\"><b><strong>Related articles on Array:</strong></b></p>\\n<ul>\\n<li value=\"1\"><a href=\"https://www.geeksforgeeks.org/array/\"><span>All Articles on Array</span></a></li>\\n<li value=\"2\"><a href=\"https://practice.geeksforgeeks.org/topics/Array/\"><span>Coding Practice on Array</span></a></li>\\n<li value=\"3\"><a href=\"http://geeksquiz.com/data-structure/array/\"><span>Quiz on Array</span></a></li>\\n<li value=\"4\"><a href=\"https://practice.geeksforgeeks.org/topics/Array/\"><span>Coding Practice on Array</span></a></li>\\n<li value=\"5\"><a href=\"https://www.geeksforgeeks.org/category/c-arrays/\"><span>Recent Articles on Array</span></a></li>\\n</ul>\\n<h3><span>2. Matrix:</span></h3>\\n<p dir=\"ltr\"><span>A </span><b><strong>matrix </strong></b><span>is a two-dimensional array of elements, arranged in rows and columns. It is represented as a rectangular grid, with each element at the intersection of a row and column.</span></p><div style=\"text-align:center;margin:20px 0;max-height: 280px;\" id=\"GFG_AD_gfg_outstream_incontent\"></div>\\n<p dir=\"ltr\"><b><strong>Important articles on</strong></b><span> </span><b><strong>Matrix:</strong></b></p>\\n<ul>\\n<li value=\"1\"><a href=\"https://www.geeksforgeeks.org/search-in-row-wise-and-column-wise-sorted-matrix/\"><span>Search in a row wise and column wise sorted matrix</span></a></li>\\n<li value=\"2\"><a href=\"https://www.geeksforgeeks.org/print-a-given-matrix-in-spiral-form/\"><span>Print a given matrix in spiral form</span></a></li>\\n<li value=\"3\"><a href=\"https://www.geeksforgeeks.org/a-boolean-matrix-question/\"><span>A Boolean Matrix Question</span></a></li>\\n<li value=\"4\"><a href=\"https://www.geeksforgeeks.org/print-unique-rows/\" rel=\"bookmark\" title=\"Permanent link to Print unique rows in a given boolean matrix\"><span>Print unique rows in a given boolean matrix</span></a></li>\\n<li value=\"5\"><a href=\"https://www.geeksforgeeks.org/maximum-size-sub-matrix-with-all-1s-in-a-binary-matrix/\"><span>Maximum size square sub-matrix with all 1s</span></a></li>\\n<li value=\"6\"><a href=\"https://www.geeksforgeeks.org/print-unique-rows/\"><span>Print unique rows in a given boolean matrix</span></a></li>\\n<li value=\"7\"><a href=\"https://www.geeksforgeeks.org/inplace-m-x-n-size-matrix-transpose/\"><span>Inplace M x N size matrix transpose | Updated</span></a></li>\\n<li value=\"8\"><a href=\"https://www.geeksforgeeks.org/dynamic-programming-set-27-max-sum-rectangle-in-a-2d-matrix/\"><span>Dynamic Programming | Set 27 (Maximum sum rectangle in a 2D matrix)</span></a></li>\\n<li value=\"9\"><a href=\"https://www.geeksforgeeks.org/strassens-matrix-multiplication/\" rel=\"bookmark\" title=\"Permanent link to Divide and Conquer | Set 5 (Strassen\\xe2\\x80\\x99s Matrix Multiplication)\"><span>Strassen\\xe2\\x80\\x99s Matrix Multiplication</span></a></li>\\n<li value=\"10\"><a href=\"https://www.geeksforgeeks.org/create-a-matrix-with-alternating-rectangles-of-0-and-x/\" rel=\"bookmark\" title=\"Permanent link to Create a matrix with alternating rectangles of O and X\"><span>Create a matrix with alternating rectangles of O and X</span></a></li>\\n<li value=\"11\"><a href=\"https://www.geeksforgeeks.org/print-elements-sorted-order-row-column-wise-sorted-matrix/\" rel=\"bookmark\" title=\"Permanent link to Print all elements in sorted order from row and column wise sorted matrix\"><span>Print all elements in sorted order from row and column wise sorted matrix</span></a></li>\\n<li value=\"12\"><a href=\"https://www.geeksforgeeks.org/given-n-x-n-square-matrix-find-sum-sub-squares-size-k-x-k/\" rel=\"bookmark\" title=\"Permanent link to Given an n x n square matrix, find sum of all sub-squares of size k x k\"><span>Given an n x n square matrix, find sum of all sub-squares of size k x k</span></a></li>\\n<li value=\"13\"><a href=\"https://www.geeksforgeeks.org/count-number-islands-every-island-separated-line/\" rel=\"bookmark\" title=\"Permanent link to Count number of islands where every island is row-wise and column-wise separated\"><span>Count number of islands where every island is row-wise and column-wise separated</span></a></li>\\n<li value=\"14\"><a href=\"https://www.geeksforgeeks.org/find-common-element-rows-row-wise-sorted-matrix/\" rel=\"bookmark\" title=\"Permanent link to Find a common element in all rows of a given row-wise sorted matrix\"><span>Find a common element in all rows of a given row-wise sorted matrix</span></a></li>\\n</ul>\\n<p dir=\"ltr\"><b><strong>Related articles on Matrix:</strong></b></p>\\n<ul>\\n<li value=\"1\"><a href=\"https://www.geeksforgeeks.org/matrix/\"><span>All Articles on Matrix</span></a></li>\\n<li value=\"2\"><a href=\"https://practice.geeksforgeeks.org/topics/Matrix/\"><span>Coding Practice on Matrix</span></a></li>\\n<li value=\"3\"><a href=\"https://www.geeksforgeeks.org/category/matrix/\"><span>Recent Articles on Matrix.</span></a></li>\\n</ul>\\n<h3><span>3. Linked List:</span></h3>\\n<p dir=\"ltr\"><span>A </span><b><strong>linear data structure</strong></b><span> where elements are stored in nodes linked together by pointers. Each node contains the data and a pointer to the next node in the list. Linked lists are efficient for </span><b><strong>inserting </strong></b><span>and </span><b><strong>deleting</strong></b><span> elements, but they can be slower for accessing elements than arrays.</span></p>\\n<p dir=\"ltr\"><b><strong>Types of Linked List:</strong></b></p>\\n<p dir=\"ltr\" style=\"text-align: left;\"><b><strong>a) Singly Linked List: </strong></b><span>Each node points to the next node in the list.</span></p>\\n<p dir=\"ltr\"><b><strong>Important articles on Singly Linked Lis:</strong></b></p>\\n<ul>\\n<li value=\"1\"><a href=\"https://www.geeksforgeeks.org/what-is-linked-list/\" target=\"_blank\"><span>Introduction to Linked List</span></a></li>\\n<li value=\"2\"><a href=\"https://www.geeksforgeeks.org/linked-list-vs-array/\"><span>Linked List vs Array</span></a></li>\\n<li value=\"3\"><a href=\"https://www.geeksforgeeks.org/insertion-in-linked-list/\" target=\"_blank\"><span>Linked List Insertion</span></a></li>\\n<li value=\"4\"><a href=\"https://www.geeksforgeeks.org/deletion-in-linked-list/\" rel=\"bookmark\"><span>Linked List Deletion (Deleting a given key)</span></a></li>\\n<li value=\"5\"><a href=\"https://www.geeksforgeeks.org/delete-a-linked-list-node-at-a-given-position/\" rel=\"bookmark\"><span>Linked List Deletion (Deleting a key at given position)</span></a></li>\\n<li value=\"6\"><a href=\"https://www.geeksforgeeks.org/programmers-approach-looking-array-vs-linked-list/\" rel=\"bookmark\"><span>A Programmer\\xe2\\x80\\x99s approach of looking at Array vs. Linked List</span></a></li>\\n<li value=\"7\"><a href=\"https://www.geeksforgeeks.org/find-length-of-a-linked-list-iterative-and-recursive/\" rel=\"bookmark\"><span>Find Length of a Linked List (Iterative and Recursive)</span></a></li>\\n<li value=\"8\"><a href=\"https://www.geeksforgeeks.org/how-to-write-functions-that-modify-the-head-pointer-of-a-linked-list/\"><span>How to write C functions that modify head pointer of a Linked List?</span></a></li>\\n<li value=\"9\"><a href=\"https://www.geeksforgeeks.org/swap-nodes-in-a-linked-list-without-swapping-data/\" rel=\"bookmark\"><span>Swap nodes in a linked list without swapping data</span></a></li>\\n<li value=\"10\"><a href=\"https://www.geeksforgeeks.org/write-a-function-to-reverse-the-nodes-of-a-linked-list/\"><span>Reverse a linked list</span></a></li>\\n<li value=\"11\"><a href=\"https://www.geeksforgeeks.org/merge-two-sorted-linked-lists/\"><span>Merge two sorted linked lists</span></a></li>\\n<li value=\"12\"><a href=\"https://www.geeksforgeeks.org/merge-sort-for-linked-list/\"><span>Merge Sort for Linked Lists</span></a></li>\\n<li value=\"13\"><a href=\"https://www.geeksforgeeks.org/reverse-a-list-in-groups-of-given-size/\"><span>Reverse a Linked List in groups of given size</span></a></li>\\n<li value=\"14\"><a href=\"https://www.geeksforgeeks.org/detect-and-remove-loop-in-a-linked-list/\"><span>Detect and Remove Loop in a Linked List</span></a></li>\\n<li value=\"15\"><a href=\"https://www.geeksforgeeks.org/add-two-numbers-represented-by-linked-lists/\"><span>Add two numbers represented by linked lists | Set 1</span></a></li>\\n<li value=\"16\"><a href=\"https://www.geeksforgeeks.org/rotate-a-linked-list/\"><span>Rotate a Linked List</span></a></li>\\n<li value=\"17\"><a href=\"https://www.geeksforgeeks.org/generic-linked-list-in-c-2/\" rel=\"bookmark\"><span>Generic Linked List in C</span></a></li>\\n</ul>\\n<p dir=\"ltr\" style=\"text-align: left;\"><b><strong>b) Circular Linked List: </strong></b><span>The last node points back to the first node, forming a circular loop.</span></p>\\n<p dir=\"ltr\"><b><strong>Important articles on</strong></b><span> </span><b><strong>Circular Linked List:</strong></b></p>\\n<ul>\\n<li value=\"1\"><a href=\"https://www.geeksforgeeks.org/circular-linked-list/\" rel=\"bookmark\"><span>Circular Linked List Introduction and Applications,</span></a></li>\\n<li value=\"2\"><a href=\"https://www.geeksforgeeks.org/circular-singly-linked-list-insertion/\"><span>Circular Singly Linked List Insertion</span></a></li>\\n<li value=\"3\"><a href=\"https://www.geeksforgeeks.org/traversal-of-circular-linked-list/\" target=\"_blank\"><span>Circular Linked List Traversal</span></a></li>\\n<li value=\"4\"><a href=\"https://www.geeksforgeeks.org/split-a-circular-linked-list-into-two-halves/\"><span>Split a Circular Linked List into two halves</span></a></li>\\n<li value=\"5\"><a href=\"https://www.geeksforgeeks.org/sorted-insert-for-circular-linked-list/\"><span>Sorted insert for circular linked list</span></a></li>\\n</ul>\\n<p dir=\"ltr\" style=\"text-align: left;\"><b><strong>c) Doubly Linked List: </strong></b><span>Each node points to both the next and previous nodes in the list.</span></p>\\n<p dir=\"ltr\"><b><strong>Important articles on</strong></b><span> </span><b><strong>Doubly Linked List:</strong></b></p><div style=\"text-align:center;margin:20px 0;max-height:280px\" id=\"GFG_AD_gfg_outstream_incontent-1\"></div>\\n<ul>\\n<li value=\"1\"><a href=\"https://www.geeksforgeeks.org/introduction-and-insertion-in-a-doubly-linked-list/\" rel=\"bookmark\"><span>Doubly Linked List Introduction and Insertion</span></a></li>\\n<li value=\"2\"><a href=\"https://www.geeksforgeeks.org/delete-a-node-in-a-doubly-linked-list/\"><span>Delete a node in a Doubly Linked List</span></a></li>\\n<li value=\"3\"><a href=\"https://www.geeksforgeeks.org/reverse-a-doubly-linked-list/\"><span>Reverse a Doubly Linked List</span></a></li>\\n<li value=\"4\"><a href=\"https://www.geeksforgeeks.org/the-great-tree-list-recursion-problem/\"><span>The Great Tree-List Recursion Problem.</span></a></li>\\n<li value=\"5\"><a href=\"https://www.geeksforgeeks.org/quicksort-for-linked-list/\"><span>QuickSort on Doubly Linked List</span></a></li>\\n<li value=\"6\"><a href=\"https://www.geeksforgeeks.org/merge-sort-for-doubly-linked-list/\" rel=\"bookmark\"><span>Merge Sort for Doubly Linked List</span></a></li>\\n</ul>\\n<p dir=\"ltr\"><b><strong>Related articles on Linked List:</strong></b></p>\\n<ul>\\n<li value=\"1\"><a href=\"https://www.geeksforgeeks.org/data-structures/linked-list/\"><span>All Articles of Linked List</span></a></li>\\n<li value=\"2\"><a href=\"https://practice.geeksforgeeks.org/topics/Linked-List/\"><span>Coding Practice on Linked List</span></a></li>\\n<li value=\"3\"><a href=\"https://www.geeksforgeeks.org/category/linked-list/\"><span>Recent Articles on Linked List</span></a></li>\\n</ul>\\n<h3><span>4. Stack:</span></h3>\\n<p dir=\"ltr\"><b><strong>Stack </strong></b><span>is a linear data structure that follows a particular order in which the operations are performed. The order may be </span><b><strong>LIFO(Last In First Out)</strong></b><span> or</span><b><strong> FILO(First In Last Out)</strong></b><span>. </span><b><strong>LIFO </strong></b><span>implies that the element that is inserted last, comes out first and </span><b><strong>FILO </strong></b><span>implies that the element that is inserted first, comes out last.</span></p>\\n<p dir=\"ltr\"><b><strong>Important articles on</strong></b><span> </span><b><strong>Stack:</strong></b></p>\\n<ul>\\n<li value=\"1\"><a href=\"https://www.geeksforgeeks.org/stack-data-structure/\" target=\"_blank\"><span>Introduction to Stack</span></a></li>\\n<li value=\"2\"><a href=\"https://www.geeksforgeeks.org/convert-infix-expression-to-postfix-expression/\" target=\"_blank\"><span>Infix to Postfix Conversion using Stack</span></a></li>\\n<li value=\"3\"><a href=\"https://www.geeksforgeeks.org/stack-set-4-evaluation-postfix-expression/\" target=\"_blank\"><span>Evaluation of Postfix Expression</span></a></li>\\n<li value=\"4\"><a href=\"https://www.geeksforgeeks.org/stack-set-3-reverse-string-using-stack/\" target=\"_blank\"><span>Reverse a String using Stack</span></a></li>\\n<li value=\"5\"><a href=\"https://www.geeksforgeeks.org/implement-two-stacks-in-an-array/\"><span>Implement two stacks in an array</span></a></li>\\n<li value=\"6\"><a href=\"https://www.geeksforgeeks.org/check-for-balanced-parentheses-in-an-expression/\"><span>Check for balanced parentheses in an expression</span></a></li>\\n<li value=\"7\"><a href=\"https://www.geeksforgeeks.org/next-greater-element/\"><span>Next Greater Element</span></a></li>\\n<li value=\"8\"><a href=\"https://www.geeksforgeeks.org/reverse-a-stack-using-recursion/\"><span>Reverse a stack using recursion</span></a></li>\\n<li value=\"9\"><a href=\"https://www.geeksforgeeks.org/sort-a-stack-using-recursion/\"><span>Sort a stack using recursion</span></a></li>\\n<li value=\"10\"><a href=\"https://www.geeksforgeeks.org/the-stock-span-problem/\" target=\"_blank\"><span>The Stock Span Problem</span></a></li>\\n<li value=\"11\"><a href=\"https://www.geeksforgeeks.org/design-and-implement-special-stack-data-structure/\"><span>Design and Implement Special Stack Data Structure</span></a></li>\\n<li value=\"12\"><a href=\"https://www.geeksforgeeks.org/implement-stack-using-queue/\"><span>Implement Stack using Queues</span></a></li>\\n<li value=\"13\"><a href=\"https://www.geeksforgeeks.org/design-a-stack-with-find-middle-operation/\"><span>Design a stack with operations on middle element</span></a></li>\\n<li value=\"14\"><a href=\"https://www.geeksforgeeks.org/efficiently-implement-k-stacks-single-array/\" rel=\"bookmark\"><span>How to efficiently implement k stacks in a single array?</span></a></li>\\n<li value=\"15\"><a href=\"https://www.geeksforgeeks.org/sort-a-stack-using-recursion/\"><span>Sort a stack using recursion</span></a></li>\\n</ul>\\n<p dir=\"ltr\"><b><strong>Related articles on Stack:</strong></b></p>\\n<ul>\\n<li value=\"1\"><a href=\"https://www.geeksforgeeks.org/stack/\"><span>All Articles on Stack</span></a></li>\\n<li value=\"2\"><a href=\"https://practice.geeksforgeeks.org/topics/Stack/\"><span>Coding Practice on Stack</span></a></li>\\n<li value=\"3\"><a href=\"https://www.geeksforgeeks.org/category/stack/\"><span>Recent Articles on Stack</span></a></li>\\n</ul>\\n<h3><span>5. Queue:</span></h3>\\n<p dir=\"ltr\"><span>A </span><b><strong>Queue Data Structure </strong></b><span>is a fundamental concept in computer science used for storing and managing data in a specific order. It follows the principle of </span><b><strong>\\xe2\\x80\\x9cFirst in, First out</strong></b><span>\\xe2\\x80\\x9d (</span><b><strong>FIFO</strong></b><span>), where the first element added to the queue is the first one to be removed</span></p>\\n<p dir=\"ltr\"><b><strong>Important articles on</strong></b><span> </span><b><strong>Queue:</strong></b></p>\\n<ul>\\n<li value=\"1\"><a href=\"https://www.geeksforgeeks.org/introduction-and-array-implementation-of-queue/\" target=\"_blank\"><span>Queue Introduction and Array Implementation</span></a></li>\\n<li value=\"2\"><a href=\"https://www.geeksforgeeks.org/queue-linked-list-implementation/\" target=\"_blank\"><span>Linked List Implementation of Queue</span></a></li>\\n<li value=\"3\"><a href=\"https://www.geeksforgeeks.org/applications-of-queue-data-structure/\"><span>Applications of Queue Data Structure</span></a></li>\\n<li value=\"4\"><a href=\"https://www.geeksforgeeks.org/priority-queue-set-1-introduction/\" rel=\"bookmark\"><span>Priority Queue Introduction</span></a></li>\\n<li value=\"5\"><a href=\"https://www.geeksforgeeks.org/deque-set-1-introduction-applications/\" rel=\"bookmark\"><span>Deque (Introduction and Applications)</span></a></li>\\n<li value=\"6\"><a href=\"https://www.geeksforgeeks.org/implementation-deque-using-circular-array/\"><span>Implementation of Deque using circular array</span></a></li>\\n<li value=\"7\"><a href=\"https://www.geeksforgeeks.org/queue-using-stacks/\"><span>Implement Queue using Stacks</span></a></li>\\n<li value=\"8\"><a href=\"https://www.geeksforgeeks.org/find-a-tour-that-visits-all-stations/\" target=\"_blank\"><span>Find the first circular tour that visits all petrol pumps</span></a></li>\\n<li value=\"9\"><a href=\"https://www.geeksforgeeks.org/maximum-of-all-subarrays-of-size-k/\" target=\"_blank\"><span>Maximum of all subarrays of size k</span></a></li>\\n<li value=\"10\"><a href=\"https://www.geeksforgeeks.org/interesting-method-generate-binary-numbers-1-n/\" rel=\"bookmark\"><span>An Interesting Method to Generate Binary Numbers from 1 to n</span></a></li>\\n<li value=\"11\"><a href=\"https://www.geeksforgeeks.org/efficiently-implement-k-queues-single-array/\" rel=\"bookmark\"><span>How to efficiently implement k Queues in a single array?</span></a></li>\\n</ul>\\n<p dir=\"ltr\"><b><strong>Related articles on Queue:</strong></b></p>\\n<ul>\\n<li value=\"1\"><a href=\"https://www.geeksforgeeks.org/queue/\"><span>All Articles on Queue</span></a></li>\\n<li value=\"2\"><a href=\"https://practice.geeksforgeeks.org/topics/Queue/\"><span>Coding Practice on Queue</span></a></li>\\n<li value=\"3\"><a href=\"https://www.geeksforgeeks.org/category/queue/\"><span>Recent Articles on Queue</span></a></li>\\n</ul>\\n<h3><span>6. Binary Tree:</span></h3>\\n<p dir=\"ltr\"><b><strong>Binary Tree </strong></b><span>is a hierarchical data structure where each node has at most two child nodes, referred to as the </span><b><strong>left </strong></b><span>child and the </span><b><strong>right </strong></b><span>child. Binary trees are mostly used to represent hierarchical data, such as file systems or family trees.</span></p>\\n<p dir=\"ltr\"><b><strong>Important articles on</strong></b><span> </span><b><strong>Binary Tree:</strong></b></p>\\n<ul>\\n<li value=\"1\"><a href=\"https://www.geeksforgeeks.org/introduction-to-binary-tree-data-structure-and-algorithm-tutorials/\" target=\"_blank\"><span>Binary Tree Introduction</span></a></li>\\n<li value=\"2\"><a href=\"https://www.geeksforgeeks.org/properties-of-binary-tree/\" rel=\"bookmark\"><span>Binary Tree Properties</span></a></li>\\n<li value=\"3\"><a href=\"https://www.geeksforgeeks.org/types-of-binary-tree/\" rel=\"bookmark\"><span>Types of Binary Tree</span></a></li>\\n<li value=\"4\"><a href=\"https://www.geeksforgeeks.org/handshaking-lemma-and-interesting-tree-properties/\" rel=\"bookmark\"><span>Handshaking Lemma and Interesting Tree Properties</span></a></li>\\n<li value=\"5\"><a href=\"https://www.geeksforgeeks.org/enumeration-of-binary-trees/\" rel=\"bookmark\"><span>Enumeration of Binary Tree</span></a></li>\\n<li value=\"6\"><a href=\"https://www.geeksforgeeks.org/applications-of-tree-data-structure/\"><span>Applications of tree data structure</span></a></li>\\n<li value=\"7\"><a href=\"https://www.geeksforgeeks.org/618/\"><span>Tree Traversals</span></a></li>\\n<li value=\"8\"><a href=\"https://www.geeksforgeeks.org/bfs-vs-dfs-binary-tree/\" rel=\"bookmark\" title=\"Permalink to BFS vs DFS for Binary Tree\"><span>BFS vs DFS for Binary Tree</span></a></li>\\n<li value=\"9\"><a href=\"https://www.geeksforgeeks.org/level-order-tree-traversal/\"><span>Level Order Tree Traversal</span></a></li>\\n<li value=\"10\"><a href=\"https://www.geeksforgeeks.org/diameter-of-a-binary-tree/\"><span>Diameter of a Binary Tree</span></a></li>\\n<li value=\"11\"><a href=\"https://www.geeksforgeeks.org/inorder-tree-traversal-without-recursion/\"><span>Inorder Tree Traversal without Recursion</span></a></li>\\n<li value=\"12\"><a href=\"https://www.geeksforgeeks.org/inorder-tree-traversal-without-recursion-and-without-stack/\"><span>Inorder Tree Traversal without recursion and without stack!</span></a></li>\\n<li value=\"13\"><a href=\"https://www.geeksforgeeks.org/threaded-binary-tree/\" rel=\"bookmark\"><span>Threaded Binary Tree</span></a></li>\\n<li value=\"14\"><a href=\"https://www.geeksforgeeks.org/write-a-c-program-to-find-the-maximum-depth-or-height-of-a-tree/\"><span>Maximum Depth or Height of a Tree</span></a></li>\\n<li value=\"15\"><a href=\"https://www.geeksforgeeks.org/if-you-are-given-two-traversal-sequences-can-you-construct-the-binary-tree/\"><span>If you are given two traversal sequences, can you construct the binary tree?</span></a></li>\\n<li value=\"16\"><a href=\"https://www.geeksforgeeks.org/clone-binary-tree-random-pointers/\" rel=\"bookmark\"><span>Clone a Binary Tree with Random Pointers</span></a></li>\\n<li value=\"17\"><a href=\"https://www.geeksforgeeks.org/construct-tree-from-given-inorder-and-preorder-traversal/\"><span>Construct Tree from given Inorder and Preorder traversals</span></a></li>\\n<li value=\"18\"><a href=\"https://www.geeksforgeeks.org/maximum-width-of-a-binary-tree/\"><span>Maximum width of a binary tree</span></a></li>\\n<li value=\"19\"><a href=\"https://www.geeksforgeeks.org/print-nodes-at-k-distance-from-root/\"><span>Print nodes at k distance from root</span></a></li>\\n<li value=\"20\"><a href=\"https://www.geeksforgeeks.org/print-ancestors-of-a-given-node-in-binary-tree/\"><span>Print Ancestors of a given node in Binary Tree</span></a></li>\\n<li value=\"21\"><a href=\"https://www.geeksforgeeks.org/check-if-a-binary-tree-is-subtree-of-another-binary-tree/\"><span>Check if a binary tree is subtree of another binary tree</span></a></li>\\n<li value=\"22\"><a href=\"https://www.geeksforgeeks.org/connect-nodes-at-same-level/\"><span>Connect nodes at same level</span></a></li>\\n</ul>\\n<p dir=\"ltr\"><b><strong>Related articles on Binary Tree:</strong></b></p><div style=\"text-align:center;margin:20px 0;max-height:280px\" id=\"GFG_AD_gfg_outstream_incontent-2\"></div>\\n<ul>\\n<li value=\"1\"><a href=\"https://www.geeksforgeeks.org/binary-tree-2/\"><span>All articles on Binary Tree</span></a></li>\\n<li value=\"2\"><a href=\"https://practice.geeksforgeeks.org/topics/Tree/\"><span>Coding Practice on Binary Tree</span></a></li>\\n<li value=\"3\"><a href=\"https://www.geeksforgeeks.org/category/tree/\"><span>Recent Articles on Tree</span></a></li>\\n</ul>\\n<h3><span>7. Binary Search Tree:</span></h3>\\n<p dir=\"ltr\"><span>A </span><b><strong>Binary Search Tree</strong></b><span> is a data structure used for storing data in a sorted manner. Each node in a</span><b><strong> Binary Search Tree</strong></b><span> has at most two children, a </span><b><strong>left </strong></b><span>child and a </span><b><strong>right </strong></b><span>child, with the </span><b><strong>left </strong></b><span>child containing values less than the parent node and the </span><b><strong>right </strong></b><span>child containing values greater than the parent node. This hierarchical structure allows for efficient searching, insertion, and deletion operations on the data stored in the tree.</span></p>\\n<p dir=\"ltr\"><b><strong>Important articles on</strong></b><span> </span><b><strong>Binary Search Tree:</strong></b></p>\\n<ul>\\n<li value=\"1\"><a href=\"https://www.geeksforgeeks.org/binary-search-tree-set-1-search-and-insertion/\" target=\"_blank\"><span>Search and Insert in BST</span></a></li>\\n<li value=\"2\"><a href=\"https://www.geeksforgeeks.org/deletion-in-binary-search-tree/\" target=\"_blank\"><span>Deletion from BST</span></a></li>\\n<li value=\"3\"><a href=\"https://www.geeksforgeeks.org/find-the-minimum-element-in-a-binary-search-tree/\" target=\"_blank\"><span>Minimum value in a Binary Search Tree</span></a></li>\\n<li value=\"4\"><a href=\"https://www.geeksforgeeks.org/inorder-predecessor-successor-given-key-bst/\" rel=\"bookmark\"><span>Inorder predecessor and successor for a given key in BST</span></a></li>\\n<li value=\"5\"><a href=\"https://www.geeksforgeeks.org/a-program-to-check-if-a-binary-tree-is-bst-or-not/\" target=\"_blank\"><span>Check if a binary tree is BST or not</span></a></li>\\n<li value=\"6\"><a href=\"https://www.geeksforgeeks.org/lowest-common-ancestor-in-a-binary-search-tree/\" target=\"_blank\"><span>Lowest Common Ancestor in a Binary Search Tree.</span></a></li>\\n<li value=\"7\"><a href=\"https://www.geeksforgeeks.org/inorder-successor-in-binary-search-tree/\"><span>Inorder Successor in Binary Search Tree</span></a></li>\\n<li value=\"8\"><a href=\"https://www.geeksforgeeks.org/find-k-th-smallest-element-in-bst-order-statistics-in-bst/\"><span>Find k-th smallest element in BST (Order Statistics in BST)</span></a></li>\\n<li value=\"9\"><a href=\"https://www.geeksforgeeks.org/merge-two-bsts-with-limited-extra-space/\"><span>Merge two BSTs with limited extra space</span></a></li>\\n<li value=\"10\"><a href=\"https://www.geeksforgeeks.org/fix-two-swapped-nodes-of-bst/\"><span>Two nodes of a BST are swapped, correct the BST</span></a></li>\\n<li value=\"11\"><a href=\"https://www.geeksforgeeks.org/floor-and-ceil-from-a-bst/\"><span>Floor and Ceil from a BST</span></a></li>\\n<li value=\"12\"><a href=\"https://www.geeksforgeeks.org/in-place-conversion-of-sorted-dll-to-balanced-bst/\"><span>In-place conversion of Sorted DLL to Balanced BST</span></a></li>\\n<li value=\"13\"><a href=\"https://www.geeksforgeeks.org/find-a-pair-with-given-sum-in-bst/\"><span>Find a pair with given sum in a Balanced BST</span></a></li>\\n<li value=\"14\"><a href=\"https://www.geeksforgeeks.org/total-number-of-possible-binary-search-trees-with-n-keys/\"><span>Total number of possible Binary Search Trees with n keys</span></a></li>\\n<li value=\"15\"><a href=\"https://www.geeksforgeeks.org/merge-two-balanced-binary-search-trees/\"><span>Merge Two Balanced Binary Search Trees</span></a></li>\\n<li value=\"16\"><a href=\"https://www.geeksforgeeks.org/binary-tree-to-binary-search-tree-conversion/\"><span>Binary Tree to Binary Search Tree Conversion</span></a></li>\\n</ul>\\n<p dir=\"ltr\"><b><strong>Related articles on Binary Search Tree:</strong></b></p>\\n<ul>\\n<li value=\"1\"><a href=\"https://www.geeksforgeeks.org/binary-search-tree/\"><span>All Articles on Binary Search Tree</span></a></li>\\n<li value=\"2\"><a href=\"https://practice.geeksforgeeks.org/topics/BST/\"><span>Coding Practice on Binary Search Tree</span></a></li>\\n<li value=\"3\"><a href=\"https://www.geeksforgeeks.org/category/binary-search-tree/\"><span>Recent Articles on BST</span></a></li>\\n</ul>\\n<h3><span>8. Heap:</span></h3>\\n<p dir=\"ltr\"><span>A </span><b><strong>Heap </strong></b><span>is a complete binary tree data structure that satisfies the heap property: for every node, the value of its children is less than or equal to its own value. Heaps are usually used to implement</span><b><strong> </strong></b><a href=\"https://www.geeksforgeeks.org/priority-queue-set-1-introduction/\" target=\"_blank\" rel=\"noopener\"><b><strong>priority queues</strong></b></a><span>, where the smallest (or largest) element is always at the root of the tree.</span></p>\\n<p dir=\"ltr\"><b><strong>Important articles on</strong></b><span> </span><b><strong>Heap:</strong></b></p>\\n<ul>\\n<li value=\"1\"><a href=\"https://www.geeksforgeeks.org/binary-heap/\" rel=\"bookmark\"><span>Binary Heap</span></a></li>\\n<li value=\"2\"><a href=\"https://www.geeksforgeeks.org/why-is-binary-heap-preferred-over-bst-for-priority-queue/\"><span>Why is Binary Heap Preferred over BST for Priority Queue?</span></a></li>\\n<li value=\"3\"><a href=\"https://www.geeksforgeeks.org/heap-sort/\" target=\"_blank\"><span>Heap Sort</span></a></li>\\n<li value=\"4\"><a href=\"https://www.geeksforgeeks.org/k-largestor-smallest-elements-in-an-array/\" target=\"_blank\"><span>K\\xe2\\x80\\x99th Largest Element in an array</span></a></li>\\n<li value=\"5\"><a href=\"https://www.geeksforgeeks.org/nearly-sorted-algorithm/\" target=\"_blank\"><span>Sort an almost sorted array</span></a></li>\\n<li value=\"6\"><a href=\"https://www.geeksforgeeks.org/binomial-heap-2/\" rel=\"bookmark\"><span>Binomial Heap</span></a></li>\\n<li value=\"7\"><a href=\"https://www.geeksforgeeks.org/fibonacci-heap-set-1-introduction/\"><span>Fibonacci Heap</span></a></li>\\n<li value=\"8\"><a href=\"https://www.geeksforgeeks.org/tournament-tree-and-binary-heap/\"><span>Tournament Tree (Winner Tree) and Binary Heap</span></a></li>\\n</ul>\\n<p dir=\"ltr\"><b><strong>Related articles on Heap:</strong></b></p>\\n<ul>\\n<li value=\"1\"><a href=\"https://www.geeksforgeeks.org/heap/\"><span>All Articles on Heap</span></a></li>\\n<li value=\"2\"><a href=\"https://www.geeksforgeeks.org/explore?page=1&amp;category=Heap&amp;sortBy=submissions\"><span>Coding Practice on Heap</span></a></li>\\n<li value=\"3\"><a href=\"https://www.geeksforgeeks.org/category/heap/\"><span>Recent Articles on Heap</span></a></li>\\n</ul>\\n<h3><span>9. Hashing:</span></h3>\\n<p dir=\"ltr\"><b><strong>Hashing</strong></b><span>&nbsp;is a technique that generates a fixed-size output (hash value) from an input of variable size using mathematical formulas called&nbsp;</span><b><strong>hash functions</strong></b><span>. Hashing is used to determine an index or location for storing an item in a data structure, allowing for efficient retrieval and insertion.</span></p>\\n<p dir=\"ltr\"><b><strong>Important articles on</strong></b><span> </span><b><strong>Hashing:</strong></b></p>\\n<ul>\\n<li value=\"1\"><a href=\"https://www.geeksforgeeks.org/what-is-hashing/\" target=\"_blank\"><span>Hashing Introduction</span></a></li>\\n<li value=\"2\"><a href=\"https://www.geeksforgeeks.org/separate-chaining-collision-handling-technique-in-hashing/\"><span>Separate Chaining for Collision Handling</span></a></li>\\n<li value=\"3\"><a href=\"https://www.geeksforgeeks.org/open-addressing-collision-handling-technique-in-hashing/\"><span>Open Addressing for Collision Handling</span></a></li>\\n<li value=\"4\"><a href=\"https://www.geeksforgeeks.org/print-binary-tree-vertical-order-set-2/\" target=\"_blank\"><span>Print a Binary Tree in Vertical Order</span></a></li>\\n<li value=\"5\"><a href=\"https://www.geeksforgeeks.org/find-whether-an-array-is-subset-of-another-array-set-1/\" target=\"_blank\"><span>Find whether an array is subset of another array</span></a></li>\\n<li value=\"6\"><a href=\"https://www.geeksforgeeks.org/union-and-intersection-of-two-linked-lists/\" target=\"_blank\"><span>Union and Intersection of two Linked Lists</span></a></li>\\n<li value=\"7\"><a href=\"https://www.geeksforgeeks.org/write-a-c-program-that-given-a-set-a-of-n-numbers-and-another-number-x-determines-whether-or-not-there-exist-two-elements-in-s-whose-sum-is-exactly-x/\" target=\"_blank\"><span>Find a pair with given sum</span></a></li>\\n<li value=\"8\"><a href=\"https://www.geeksforgeeks.org/check-given-array-contains-duplicate-elements-within-k-distance/\" target=\"_blank\"><span>Check if a given array contains duplicate elements within k distance from each other</span></a></li>\\n<li value=\"9\"><a href=\"https://www.geeksforgeeks.org/find-itinerary-from-a-given-list-of-tickets/\" rel=\"bookmark\"><span>Find Itinerary from a given list of tickets</span></a></li>\\n<li value=\"10\"><a href=\"https://www.geeksforgeeks.org/find-number-of-employees-under-every-manager/\" rel=\"bookmark\"><span>Find number of Employees Under every Employee</span></a></li>\\n</ul>\\n<p dir=\"ltr\"><b><strong>Related articles on Hashing:</strong></b></p>\\n<ul>\\n<li value=\"1\"><a href=\"https://www.geeksforgeeks.org/hashing/\"><span>All Articles on Hashing</span></a></li>\\n<li value=\"2\"><a href=\"https://practice.geeksforgeeks.org/topics/Hashing/\"><span>Coding Practice on Hashing</span></a></li>\\n<li value=\"3\"><a href=\"https://www.geeksforgeeks.org/category/hash/\"><span>Recent Articles on Hashing</span></a></li>\\n</ul>\\n<h3><span>10. Graph:</span></h3>\\n<p dir=\"ltr\"><b><strong>Graph </strong></b><span>is a collection of nodes connected by edges. Graphs are mostly used to represent networks, such as social networks or transportation networks.</span></p><div style=\"text-align:center;margin:20px 0;max-height:280px\" id=\"GFG_AD_gfg_outstream_incontent-3\"></div>\\n<p dir=\"ltr\"><b><strong>Important articles on</strong></b><span> </span><b><strong>Graph:</strong></b></p>\\n<ul>\\n<li value=\"1\"><a href=\"https://www.geeksforgeeks.org/graph-and-its-representations/\" rel=\"bookmark\"><span>Graph and its representations</span></a></li>\\n<li value=\"2\"><a href=\"https://www.geeksforgeeks.org/breadth-first-traversal-for-a-graph/\" rel=\"bookmark\"><span>Breadth First Traversal for a Graph</span></a></li>\\n<li value=\"3\"><a href=\"https://www.geeksforgeeks.org/depth-first-traversal-for-a-graph/\" rel=\"bookmark\"><span>Depth First Traversal for a Graph</span></a></li>\\n<li value=\"4\"><a href=\"https://www.geeksforgeeks.org/applications-of-depth-first-search/\" rel=\"bookmark\"><span>Applications of Depth First Search</span></a></li>\\n<li value=\"5\"><a href=\"https://www.geeksforgeeks.org/applications-of-breadth-first-traversal/\" rel=\"bookmark\"><span>Applications of Breadth First Traversal</span></a></li>\\n<li value=\"6\"><a href=\"https://www.geeksforgeeks.org/detect-cycle-in-a-graph/\" rel=\"bookmark\"><span>Detect Cycle in a Directed Graph</span></a></li>\\n<li value=\"7\"><a href=\"https://www.geeksforgeeks.org/union-find/\" rel=\"bookmark\"><span>Detect Cycle in Graph using DSU</span></a></li>\\n<li value=\"8\"><a href=\"https://www.geeksforgeeks.org/detect-cycle-undirected-graph/\" rel=\"bookmark\"><span>Detect cycle in an Undirected Graph using DFS</span></a></li>\\n<li value=\"9\"><a href=\"https://www.geeksforgeeks.org/find-longest-path-directed-acyclic-graph/\" rel=\"bookmark\"><span>Longest Path in a Directed Acyclic Graph</span></a></li>\\n<li value=\"10\"><a href=\"https://www.geeksforgeeks.org/topological-sorting/\" rel=\"bookmark\"><span>Topological Sorting</span></a></li>\\n<li value=\"11\"><a href=\"https://www.geeksforgeeks.org/bipartite-graph/\" rel=\"bookmark\"><span>Check whether a given graph is Bipartite or not</span></a></li>\\n<li value=\"12\"><a href=\"https://www.geeksforgeeks.org/snake-ladder-problem-2/\" rel=\"bookmark\"><span>Snake and Ladder Problem</span></a></li>\\n<li value=\"13\"><a href=\"https://www.geeksforgeeks.org/minimize-cash-flow-among-given-set-friends-borrowed-money/\" rel=\"bookmark\"><span>Minimize Cash Flow among a given set of friends who have borrowed money from each other</span></a></li>\\n<li value=\"14\"><a href=\"https://www.geeksforgeeks.org/boggle-find-possible-words-board-characters/\" rel=\"bookmark\"><span>Boggle (Find all possible words in a board of characters)</span></a></li>\\n<li value=\"15\"><a href=\"https://www.geeksforgeeks.org/assign-directions-to-edges-so-that-the-directed-graph-remains-acyclic/\" rel=\"bookmark\"><span>Assign directions to edges so that the directed graph remains acyclic</span></a></li>\\n</ul>\\n<p dir=\"ltr\"><b><strong>Related articles on Graph:</strong></b></p>\\n<ul>\\n<li value=\"1\"><a href=\"https://www.geeksforgeeks.org/graph-data-structure-and-algorithms/\"><span>All Articles on Graph Data Structure</span></a></li>\\n<li value=\"2\"><a href=\"https://practice.geeksforgeeks.org/topics/Graph/\"><span>Coding Practice on Graph</span></a></li>\\n<li value=\"3\"><a href=\"https://www.geeksforgeeks.org/category/graph/\"><span>Recent Articles on Graph</span></a></li>\\n</ul>\\n<h2 id=\"advanced-data-structure\"><span>Advanced Data Structure:</span></h2>\\n<p dir=\"ltr\"><span>Below are some advance Data Structure:</span></p>\\n<h3><b><strong>1. Advanced Lists:</strong></b></h3>\\n<p dir=\"ltr\"><b><strong>Advanced Lists </strong></b><span>is a data structure that extends the functionality of a standard list. Advanced lists may support additional operations, such as finding the minimum or maximum element in the list, or rotating the list.</span></p>\\n<p dir=\"ltr\"><b><strong>Important articles on</strong></b><span> </span><b><strong>Advanced Lists:</strong></b></p>\\n<ul>\\n<li value=\"1\"><a href=\"https://www.geeksforgeeks.org/memory-efficient-doubly-linked-list/\"><span>Memory efficient doubly linked list</span></a></li>\\n<li value=\"2\"><a href=\"https://www.geeksforgeeks.org/xor-linked-list-a-memory-efficient-doubly-linked-list-set-1/\"><span>XOR Linked List \\xe2\\x80\\x93 A Memory Efficient Doubly Linked List | Set 1</span></a></li>\\n<li value=\"3\"><a href=\"https://www.geeksforgeeks.org/xor-linked-list-a-memory-efficient-doubly-linked-list-set-2/\"><span>XOR Linked List \\xe2\\x80\\x93 A Memory Efficient Doubly Linked List | Set 2</span></a></li>\\n<li value=\"4\"><a href=\"https://www.geeksforgeeks.org/skip-list/\"><span>Skip List | Set 1 (Introduction)</span></a></li>\\n<li value=\"5\"><a href=\"https://www.geeksforgeeks.org/self-organizing-list-set-1-introduction/\"><span>Self Organizing List | Set 1 (Introduction)</span></a></li>\\n<li value=\"6\"><a href=\"https://www.geeksforgeeks.org/unrolled-linked-list-set-1-introduction/\"><span>Unrolled Linked List | Set 1 (Introduction)</span></a></li>\\n</ul>\\n<h3><b><strong>2. Segment Tree:</strong></b></h3>\\n<p dir=\"ltr\"><b><strong>Segment Tree</strong></b><span> is a tree data structure that allows for efficient range queries on an array. Each node in the segment tree represents a range of elements in the array, and the value stored in the node is some aggregate value of the elements in that range.</span></p>\\n<p dir=\"ltr\"><b><strong>Important articles on</strong></b><span> </span><b><strong>Segment Tree:</strong></b></p>\\n<ul>\\n<li value=\"1\"><a href=\"https://www.geeksforgeeks.org/segment-tree-set-1-sum-of-given-range/\" rel=\"bookmark\"><span>Segment Tree | Set 1 (Sum of given range)</span></a></li>\\n<li value=\"2\"><a href=\"https://www.geeksforgeeks.org/segment-tree-set-1-range-minimum-query/\" target=\"_blank\"><span>Segment Tree | Set 2 (Range Minimum Query)</span></a></li>\\n<li value=\"3\"><a href=\"https://www.geeksforgeeks.org/lazy-propagation-in-segment-tree/\" rel=\"bookmark\" title=\"Permalink to Lazy Propagation in Segment Tree\"><span>Lazy Propagation in Segment Tree</span></a></li>\\n<li value=\"4\"><a href=\"https://www.geeksforgeeks.org/persistent-segment-tree-set-1-introduction/\"><span>Persistent Segment Tree | Set 1 (Introduction)</span></a></li>\\n</ul>\\n<p dir=\"ltr\"><b><strong>Related articles on Segment Tree:</strong></b></p>\\n<ul>\\n<li value=\"1\"><a href=\"https://www.geeksforgeeks.org/tag/segment-tree/\"><span>All articles on Segment Tree</span></a></li>\\n</ul>\\n<h3><b><strong>3. Trie:</strong></b></h3>\\n<p dir=\"ltr\"><b><strong>Trie </strong></b><span>is a tree-like data structure that is used to store strings. Each node in the trie represents a prefix of a string, and the children of a node represent the different characters that can follow that prefix. </span><b><strong>Tries </strong></b><span>are often used for efficient string matching and searching.</span></p>\\n<p dir=\"ltr\"><b><strong>Important articles on</strong></b><span> </span><b><strong>Trie:</strong></b></p><div style=\"text-align:center;margin:20px 0;max-height:280px\" id=\"GFG_AD_gfg_outstream_incontent-4\"></div>\\n<ul>\\n<li value=\"1\"><a href=\"https://www.geeksforgeeks.org/trie-insert-and-search/\" rel=\"bookmark\"><span>Trie | (Insert and Search)</span></a></li>\\n<li value=\"2\"><a href=\"https://www.geeksforgeeks.org/trie-delete/\" rel=\"bookmark\"><span>Trie | (Delete)</span></a></li>\\n<li value=\"3\"><a href=\"https://www.geeksforgeeks.org/longest-prefix-matching-a-trie-based-solution-in-java/\" rel=\"bookmark\"><span>Longest prefix matching \\xe2\\x80\\x93 A Trie based solution in Java</span></a></li>\\n<li value=\"4\"><a href=\"https://www.geeksforgeeks.org/print-unique-rows/\" rel=\"bookmark\"><span>Print unique rows in a given boolean matrix</span></a></li>\\n<li value=\"5\"><a href=\"https://www.geeksforgeeks.org/implement-reverse-dns-look-cache/\" rel=\"bookmark\"><span>How to Implement Reverse DNS Look Up Cache?</span></a></li>\\n<li value=\"6\"><a href=\"https://www.geeksforgeeks.org/implement-forward-dns-look-cache/\" rel=\"bookmark\"><span>How to Implement Forward DNS Look Up Cache?</span></a></li>\\n</ul>\\n<p dir=\"ltr\"><b><strong>Related articles on</strong></b><span> </span><b><strong>Trie</strong></b><span>:</span></p>\\n<ul>\\n<li value=\"1\"><a href=\"https://www.geeksforgeeks.org/tag/trie/\"><span>All Articles on Trie</span></a></li>\\n</ul>\\n<h3><b><strong>4. Binary Indexed Tree:</strong></b></h3>\\n<p dir=\"ltr\"><b><strong>Binary Indexed Tree</strong></b><span> is a data structure that allows for efficient range queries and updates on an array. Binary indexed trees are often used to compute prefix sums or to solve range query problems.</span></p>\\n<p dir=\"ltr\"><b><strong>Important articles on</strong></b><span> </span><b><strong>Binary Indexed Tree:</strong></b></p>\\n<ul>\\n<li value=\"1\"><a href=\"https://www.geeksforgeeks.org/binary-indexed-tree-or-fenwick-tree-2/\"><span>Binary Indexed Tree</span></a></li>\\n<li value=\"2\"><a href=\"https://www.geeksforgeeks.org/two-dimensional-binary-indexed-tree-or-fenwick-tree/\" rel=\"bookmark\"><span>Two Dimensional Binary Indexed Tree or Fenwick Tree</span></a></li>\\n<li value=\"3\"><a href=\"https://www.geeksforgeeks.org/binary-indexed-tree-range-updates-point-queries/\" rel=\"bookmark\"><span>Binary Indexed Tree : Range Updates and Point Queries</span></a></li>\\n<li value=\"4\"><a href=\"https://www.geeksforgeeks.org/binary-indexed-tree-range-update-range-queries/\" rel=\"bookmark\"><span>Binary Indexed Tree : Range Update and Range Queries</span></a></li>\\n</ul>\\n<p dir=\"ltr\"><b><strong>Related articles on</strong></b><span> </span><b><strong>Binary Indexed Tree</strong></b><span>:</span></p>\\n<ul>\\n<li value=\"1\"><a href=\"https://www.geeksforgeeks.org/tag/binary-indexed-tree/\"><span>All Articles on Binary Indexed Tree</span></a></li>\\n</ul>\\n<h3><b><strong>5. Suffix Array and&nbsp;Suffix Tree</strong></b><span>:</span></h3>\\n<p dir=\"ltr\"><b><strong>Suffix Array and&nbsp;Suffix Tree</strong></b><span> is a data structures that are used to efficiently search for patterns within a string.</span><b><strong> Suffix arrays </strong></b><span>and</span><b><strong> suffix trees</strong></b><span> are mostly used in bioinformatics and text processing applications.</span></p>\\n<p dir=\"ltr\"><b><strong>Important articles on</strong></b><span> </span><b><strong>Suffix Array and&nbsp;Suffix Tree:</strong></b></p>\\n<ul>\\n<li value=\"1\"><a href=\"https://www.geeksforgeeks.org/suffix-array-set-1-introduction/\" rel=\"bookmark\"><span>Suffix Array Introduction</span></a></li>\\n<li value=\"2\"><a href=\"https://www.geeksforgeeks.org/suffix-array-set-2-a-nlognlogn-algorithm/\" rel=\"bookmark\"><span>Suffix Array nLogn Algorithm</span></a></li>\\n<li value=\"3\"><a href=\"https://www.geeksforgeeks.org/kasais-algorithm-for-construction-of-lcp-array-from-suffix-array/\" title=\"Permalink to \\xc2\\xad\\xc2\\xadkasai\\xe2\\x80\\x99s Algorithm for Construction of LCP array from Suffix Array\"><span>kasai\\xe2\\x80\\x99s Algorithm for Construction of LCP array from Suffix Array</span></a></li>\\n<li value=\"4\"><a href=\"https://www.geeksforgeeks.org/pattern-searching-set-8-suffix-tree-introduction/\" rel=\"bookmark\"><span>Suffix Tree Introduction</span></a></li>\\n<li value=\"5\"><a href=\"https://www.geeksforgeeks.org/ukkonens-suffix-tree-construction-part-1/\" rel=\"bookmark\"><span>Ukkonen\\xe2\\x80\\x99s Suffix Tree Construction \\xe2\\x80\\x93 Part 1</span></a></li>\\n<li value=\"6\"><a href=\"https://www.geeksforgeeks.org/ukkonens-suffix-tree-construction-part-2/\" rel=\"bookmark\"><span>Ukkonen\\xe2\\x80\\x99s Suffix Tree Construction \\xe2\\x80\\x93 Part 2</span></a></li>\\n<li value=\"7\"><a href=\"https://www.geeksforgeeks.org/ukkonens-suffix-tree-construction-part-3/\" rel=\"bookmark\"><span>Ukkonen\\xe2\\x80\\x99s Suffix Tree Construction \\xe2\\x80\\x93 Part 3</span></a></li>\\n<li value=\"8\"><a href=\"https://www.geeksforgeeks.org/ukkonens-suffix-tree-construction-part-4/\" rel=\"bookmark\"><span>Ukkonen\\xe2\\x80\\x99s Suffix Tree Construction \\xe2\\x80\\x93 Part 4,</span></a></li>\\n<li value=\"9\"><a href=\"https://www.geeksforgeeks.org/ukkonens-suffix-tree-construction-part-5/\" rel=\"bookmark\"><span>Ukkonen\\xe2\\x80\\x99s Suffix Tree Construction \\xe2\\x80\\x93 Part 5</span></a></li>\\n<li value=\"10\"><a href=\"https://www.geeksforgeeks.org/ukkonens-suffix-tree-construction-part-6/\" rel=\"bookmark\"><span>Ukkonen\\xe2\\x80\\x99s Suffix Tree Construction \\xe2\\x80\\x93 Part 6</span></a></li>\\n<li value=\"11\"><a href=\"https://www.geeksforgeeks.org/generalized-suffix-tree-1/\" rel=\"bookmark\"><span>Generalized Suffix Tree</span></a></li>\\n<li value=\"12\"><a href=\"https://www.geeksforgeeks.org/suffix-tree-application-4-build-linear-time-suffix-array/\"><span>Build Linear Time Suffix Array using Suffix Tree</span></a></li>\\n<li value=\"13\"><a href=\"https://www.geeksforgeeks.org/suffix-tree-application-1-substring-check/\" rel=\"bookmark\"><span>Substring Check</span></a></li>\\n<li value=\"14\"><a href=\"https://www.geeksforgeeks.org/suffix-tree-application-2-searching-all-patterns/\" rel=\"bookmark\"><span>Searching All Patterns</span></a></li>\\n<li value=\"15\"><a href=\"https://www.geeksforgeeks.org/suffix-tree-application-3-longest-repeated-substring/\" rel=\"bookmark\"><span>Longest Repeated Substring,</span></a></li>\\n<li value=\"16\"><a href=\"https://www.geeksforgeeks.org/suffix-tree-application-6-longest-palindromic-substring/\" rel=\"bookmark\"><span>Longest Common Substring, Longest Palindromic Substring</span></a></li>\\n</ul>\\n<p dir=\"ltr\"><b><strong>Related articles on Suffix Array and&nbsp;Suffix Tree:</strong></b></p>\\n<ul>\\n<li value=\"1\"><a href=\"https://www.geeksforgeeks.org/tag/suffix-tree/\"><span>All Articles on Suffix Tree</span></a></li>\\n</ul>\\n<h3><b><strong>6. AVL Tree:</strong></b></h3>\\n<p dir=\"ltr\"><b><strong>AVL tree</strong></b><span> is a self-balancing binary search tree that maintains a balanced height.</span><b><strong> AVL trees</strong></b><span> are mostly used when it is important to have efficient search and insertion operations.</span></p>\\n<p dir=\"ltr\"><b><strong>Important articles on</strong></b><span> </span><b><strong>AVL Tree:</strong></b></p>\\n<ul>\\n<li value=\"1\"><a href=\"https://www.geeksforgeeks.org/avl-tree-set-1-insertion/\" rel=\"bookmark\"><span>AVL Tree | Set 1 (Insertion)</span></a></li>\\n<li value=\"2\"><a href=\"https://www.geeksforgeeks.org/avl-tree-set-2-deletion/\" rel=\"bookmark\"><span>AVL Tree | Set 2 (Deletion)</span></a></li>\\n<li value=\"3\"><a href=\"https://www.geeksforgeeks.org/avl-with-duplicate-keys/\" rel=\"bookmark\"><span>AVL with duplicate keys</span></a></li>\\n</ul>\\n<h3><b><strong>7. Splay Tree:</strong></b></h3>\\n<p dir=\"ltr\"><b><strong>Splay Tree</strong></b><span> is a self-balancing binary search tree that moves frequently accessed nodes to the root of the tree. </span><b><strong>Splay trees</strong></b><span> are mostly used when it is important to have fast access to recently accessed data.</span></p><div style=\"text-align:center;margin:20px 0;max-height:280px\" id=\"GFG_AD_gfg_outstream_incontent-5\"></div>\\n<p dir=\"ltr\"><b><strong>Important articles on</strong></b><span> </span><b><strong>Splay Tree:</strong></b></p>\\n<ul>\\n<li value=\"1\"><a href=\"https://www.geeksforgeeks.org/splay-tree-set-1-insert/\" rel=\"bookmark\"><span>Splay Tree | Set 1 (Search)</span></a></li>\\n<li value=\"2\"><a href=\"https://www.geeksforgeeks.org/splay-tree-set-2-insert-delete/\" rel=\"bookmark\"><span>Splay Tree | Set 2 (Insert)</span></a></li>\\n</ul>\\n<h3><b><strong>8. B Tree:</strong></b></h3>\\n<p dir=\"ltr\"><b><strong>B Tree</strong></b><span> is a balanced tree data structure that is used to store data on disk. </span><b><strong>B trees</strong></b><span> are mostly used in database systems to efficiently store and retrieve large amounts of data.</span></p>\\n<p dir=\"ltr\"><b><strong>Important articles on</strong></b><span> </span><b><strong>B Tree:</strong></b></p>\\n<ul>\\n<li value=\"1\"><a href=\"https://www.geeksforgeeks.org/b-tree-set-1-introduction-2/\" rel=\"bookmark\"><span>B-Tree | Set 1 (Introduction)</span></a></li>\\n<li value=\"2\"><a href=\"https://www.geeksforgeeks.org/b-tree-set-1-insert-2/\" rel=\"bookmark\"><span>B-Tree | Set 2 (Insert)</span></a></li>\\n<li value=\"3\"><a href=\"https://www.geeksforgeeks.org/b-tree-set-3delete/\" rel=\"bookmark\"><span>B-Tree | Set 3 (Delete)</span></a></li>\\n</ul>\\n<h3><b><strong>9. Red-Black Tree:</strong></b></h3>\\n<p dir=\"ltr\"><b><strong>Red-Black Tree</strong></b><span> is a self-balancing</span><b><strong> binary search tree</strong></b><span> that maintains a balance between the number of </span><b><strong>black </strong></b><span>and </span><b><strong>red </strong></b><span>nodes. </span><b><strong>Red-black</strong></b><span> trees are mostly used when it is important to have efficient search and insertion operations.</span></p>\\n<p dir=\"ltr\"><b><strong>Important articles on</strong></b><span> </span><b><strong>Red-Black Tree:</strong></b></p>\\n<ul>\\n<li value=\"1\"><a href=\"https://www.geeksforgeeks.org/red-black-tree-set-1-introduction-2/\" target=\"_blank\"><span>Red-Black Tree Introduction</span></a></li>\\n<li value=\"2\"><a href=\"https://www.geeksforgeeks.org/red-black-tree-set-2-insert/\" target=\"_blank\"><span>Red Black Tree Insertion.</span></a></li>\\n<li value=\"3\"><a href=\"https://www.geeksforgeeks.org/red-black-tree-set-3-delete-2/\" rel=\"bookmark\"><span>Red-Black Tree Deletion</span></a></li>\\n<li value=\"4\"><a href=\"https://www.geeksforgeeks.org/c-program-red-black-tree-insertion/\" rel=\"bookmark\"><span>Program for Red Black Tree Insertion</span></a></li>\\n</ul>\\n<p dir=\"ltr\"><b><strong>Related articles on Red-Black Tree:</strong></b></p>\\n<ul>\\n<li value=\"1\"><a href=\"https://www.geeksforgeeks.org/tag/self-balancing-bst/\"><span>All Articles on Self-Balancing BSTs</span></a></li>\\n</ul>\\n<h3><b><strong>10. K Dimensional Tree:</strong></b></h3>\\n<p dir=\"ltr\"><b><strong> K Dimensional Tree</strong></b><span> is a tree data structure that is used to store data in a multidimensional space. </span><b><strong>K</strong></b><span> dimensional trees are mostly used for efficient range queries and nearest neighbor searches.</span></p>\\n<p dir=\"ltr\"><b><strong>Important articles on K Dimensional Tree:</strong></b></p>\\n<ul>\\n<li value=\"1\"><a href=\"https://www.geeksforgeeks.org/k-dimensional-tree/\"><span>KD Tree (Search and Insert)</span></a></li>\\n<li value=\"2\"><a href=\"https://www.geeksforgeeks.org/k-dimensional-tree-set-2-find-minimum/\" target=\"_blank\"><span>K D Tree (Find Minimum)</span></a></li>\\n<li value=\"3\"><a href=\"https://www.geeksforgeeks.org/k-dimensional-tree-set-3-delete/\"><span>K D Tree (Delete)</span></a></li>\\n</ul>\\n<p dir=\"ltr\" style=\"text-align: left;\"><b><strong>Others Data Structure:</strong></b></p>\\n<ul>\\n<li value=\"1\"><a href=\"https://www.geeksforgeeks.org/treap-a-randomized-binary-search-tree/\"><span>Treap (A Randomized Binary Search Tree)</span></a></li>\\n<li value=\"2\"><a href=\"https://www.geeksforgeeks.org/ternary-search-tree/\" rel=\"bookmark\"><span>Ternary Search Tree</span></a></li>\\n<li value=\"3\"><a href=\"https://www.geeksforgeeks.org/interval-tree/\" rel=\"bookmark\"><span>Interval Tree</span></a></li>\\n<li value=\"4\"><a href=\"https://www.geeksforgeeks.org/implement-lru-cache/\" rel=\"bookmark\"><span>Implement LRU Cache</span></a></li>\\n<li value=\"5\"><a href=\"https://www.geeksforgeeks.org/sort-numbers-stored-on-different-machines/\" rel=\"bookmark\"><span>Sort numbers stored on different machines</span></a></li>\\n<li value=\"6\"><a href=\"https://www.geeksforgeeks.org/find-the-k-most-frequent-words-from-a-file/\" rel=\"bookmark\"><span>Find the k most frequent words from a file</span></a></li>\\n<li value=\"7\"><a href=\"https://www.geeksforgeeks.org/given-a-sequence-of-words-print-all-anagrams-together-set-2/\" rel=\"bookmark\"><span>Given a sequence of words, print all anagrams together</span></a></li>\\n<li value=\"8\"><a href=\"https://www.geeksforgeeks.org/tournament-tree-and-binary-heap/\"><span>Tournament Tree (Winner Tree) and Binary Heap</span></a></li>\\n<li value=\"9\"><a href=\"https://www.geeksforgeeks.org/decision-trees-fake-coin-puzzle/\"><span>Decision Trees \\xe2\\x80\\x93 Fake (Counterfeit) Coin Puzzle (12 Coin Puzzle)</span></a></li>\\n<li value=\"10\"><a href=\"https://www.geeksforgeeks.org/g-fact-87/\"><span>Spaghetti Stack</span></a></li>\\n<li value=\"11\"><a href=\"https://www.geeksforgeeks.org/data-structure-dictionary-spell-checker/\" rel=\"bookmark\"><span>Data Structure for Dictionary and Spell Checker?</span></a></li>\\n<li value=\"12\"><a href=\"https://www.geeksforgeeks.org/cartesian-tree/\" rel=\"bookmark\" title=\"Permalink to Cartesian Tree\"><span>Cartesian Tree</span></a></li>\\n<li value=\"13\"><a href=\"https://www.geeksforgeeks.org/cartesian-tree-sorting/\" rel=\"bookmark\" title=\"Permalink to Cartesian Tree Sorting\"><span>Cartesian Tree Sorting</span></a></li>\\n<li value=\"14\"><a href=\"https://www.geeksforgeeks.org/sparse-set/\" rel=\"bookmark\" title=\"Permalink to Sparse Set\"><span>Sparse Set</span></a></li>\\n<li value=\"15\"><a href=\"https://www.geeksforgeeks.org/centroid-decomposition-of-tree/\" rel=\"bookmark\" title=\"Permalink to Centroid Decomposition of Tree\"><span>Centroid Decomposition of Tree</span></a></li>\\n<li value=\"16\"><a href=\"https://www.geeksforgeeks.org/gomory-hu-tree-introduction/\" rel=\"bookmark\" title=\"Permalink to Gomory-Hu Tree | Set 1 (Introduction)\"><span>Gomory-Hu Tree</span></a></li>\\n<li value=\"17\"><a href=\"https://www.geeksforgeeks.org/category/advanced-data-structure/\"><span>Recent Articles on Advanced Data Structures.</span></a></li>\\n</ul>\\n<p dir=\"ltr\"><b><strong>Misc:</strong></b></p>\\n<ul>\\n<li value=\"1\"><a href=\"https://www.geeksforgeeks.org/commonly-asked-data-structure-interview-questions-set-1/\" target=\"_blank\"><span>Commonly Asked Data Structure Interview Questions | Set 1</span></a></li>\\n<li value=\"2\"><a href=\"https://www.geeksforgeeks.org/data-structure-n-elements-o1-operations/\" rel=\"bookmark\"><span>A data structure for n elements and O(1) operations</span></a></li>\\n<li value=\"3\"><a href=\"https://www.geeksforgeeks.org/expression-tree/\"><span>Expression Tree</span></a></li>\\n</ul>\\n<br/><div id=\"AP_G4GR_6\"></div> <div class=\\'article_bottom_text\\'></div><br>\\r\\n\\r\\n    <div class=\\'discussion_panel\\'>\\r\\n        <div>\\r\\n            <span id=\\'discussion_message\\'>Share your thoughts in the comments</span>\\r\\n        </div>\\r\\n        <button class=\\'discussion_button\\' data-gfg-action=\\'loadComments\\'>\\r\\n                <span>Add Your Comment</span>\\r\\n        </button>\\r\\n    </div><div class=\"onopen-discussion-panel\">\\r\\n            <div class=\"discussion-tab\">\\r\\n                <div class=\"discussion_heading\">\\r\\n                    <div></div>\\r\\n                    <i class=\"gfg-icon close-tab-icon\"></i>\\r\\n                </div> \\r\\n                <div class=\"discussion_content\">    <div id=\"login-link\" style=\"text-align:center;padding:10px 0px 20px 16px\"> <h3>Please <u><span class=\"login-modal-btn\" style=\"cursor:pointer;color: #308d46;\">Login</span></u> to comment...</h3></div>\\r\\n                            <div style=\"height:100%\">\\r\\n                                <div style=\"height:100%\" id=\"comment-system\"></div>\\r\\n                            </div>\\r\\n\\r\\n                            \\r\\n</div>\\r\\n            </div>\\r\\n        </div> \\r\\n</div>\\r\\n\\t\\t\\t\\r\\n\\r\\n\\t\\t</div><!-- .entry-content -->\\r\\n      <!-- <footer class=\"entry-meta\">\\r\\n\\r\\n\\t\\t\\t\\r\\n\\t\\t</footer>.entry-meta -->\\r\\n   \\r\\n\\t</article><!-- #post -->\\r\\n   <link rel=\"stylesheet\" href=\\'https://www.geeksforgeeks.org/wp-content/themes/iconic-one/css/articleList.min.css?ver=1.2\\'>\\r\\n\\r\\n\\t\\t\\t\\t\\t\\t<div class=\"entry-meta\">\\n\\t\\t\\t\\t<div class=\"article--recommended article--recommended_wrapper\">\\n\\t\\t\\t\\t\\t<h3 class=\"new-top-bar top-bar-title\">\\n\\t\\t\\t\\t\\t\\tRelated Articles\\n\\t\\t\\t\\t\\t</h3>\\n\\t\\t\\t\\t\\t<div class=\"gfg-similar-reads-list\">\\n\\t\\t\\t\\t\\t\\t\\r\\n        <a class=\"gfg-similar-read-item\" href=\"https://www.geeksforgeeks.org/data-structures-gq/\">\\r\\n            <div title=\"Data Structures\" rel=\"bookmark\" class=\"gfg-similar-item-title three-line-restrict\">\\r\\n                Data Structures\\r\\n            </div>\\r\\n        </a>\\r\\n    \\r\\n        <a class=\"gfg-similar-read-item\" href=\"https://www.geeksforgeeks.org/lmns-gq/lmns-data-structure-gq/\">\\r\\n            <div title=\"LMNs-Data Structure\" rel=\"bookmark\" class=\"gfg-similar-item-title three-line-restrict\">\\r\\n                LMNs-Data Structure\\r\\n            </div>\\r\\n        </a>\\r\\n    \\r\\n        <a class=\"gfg-similar-read-item\" href=\"https://www.geeksforgeeks.org/complete-guide-to-linked-list-data-structure/\">\\r\\n            <div title=\"Complete Guide to Linked List Data Structure\" rel=\"bookmark\" class=\"gfg-similar-item-title three-line-restrict\">\\r\\n                Complete Guide to Linked List Data Structure\\r\\n            </div>\\r\\n        </a>\\r\\n    \\r\\n        <a class=\"gfg-similar-read-item\" href=\"https://www.geeksforgeeks.org/legal/data-processing-agreement/\">\\r\\n            <div title=\"Data Processing Agreement\" rel=\"bookmark\" class=\"gfg-similar-item-title three-line-restrict\">\\r\\n                Data Processing Agreement\\r\\n            </div>\\r\\n        </a>\\r\\n    \\r\\n        <a class=\"gfg-similar-read-item\" href=\"https://www.geeksforgeeks.org/complete-guide-to-arrays-data-structure/\">\\r\\n            <div title=\"Complete Guide to Arrays Data Structure\" rel=\"bookmark\" class=\"gfg-similar-item-title three-line-restrict\">\\r\\n                Complete Guide to Arrays Data Structure\\r\\n            </div>\\r\\n        </a>\\r\\n    \\r\\n        <a class=\"gfg-similar-read-item\" href=\"https://www.geeksforgeeks.org/complete-guide-to-string-data-structure/\">\\r\\n            <div title=\"Complete Guide to String Data Structure\" rel=\"bookmark\" class=\"gfg-similar-item-title three-line-restrict\">\\r\\n                Complete Guide to String Data Structure\\r\\n            </div>\\r\\n        </a>\\r\\n    \\r\\n        <a class=\"gfg-similar-read-item\" href=\"https://www.geeksforgeeks.org/numpy-data-type-objects/\">\\r\\n            <div title=\"Numpy | Data Type Objects\" rel=\"bookmark\" class=\"gfg-similar-item-title three-line-restrict\">\\r\\n                Numpy | Data Type Objects\\r\\n            </div>\\r\\n        </a>\\r\\n    \\r\\n        <a class=\"gfg-similar-read-item\" href=\"https://www.geeksforgeeks.org/python-pandas-working-with-text-data/\">\\r\\n            <div title=\"Python | Pandas Working With Text Data\" rel=\"bookmark\" class=\"gfg-similar-item-title three-line-restrict\">\\r\\n                Python | Pandas Working With Text Data\\r\\n            </div>\\r\\n        </a>\\r\\n    \\r\\n        <a class=\"gfg-similar-read-item\" href=\"https://www.geeksforgeeks.org/pandas-for-data-visualization-a-complete-guide/\">\\r\\n            <div title=\"Pandas for Data Visualization: A Complete Guide\" rel=\"bookmark\" class=\"gfg-similar-item-title three-line-restrict\">\\r\\n                Pandas for Data Visualization: A Complete Guide\\r\\n            </div>\\r\\n        </a>\\r\\n    \\r\\n        <a class=\"gfg-similar-read-item\" href=\"https://www.geeksforgeeks.org/difference-c-structures-c-structures/\">\\r\\n            <div title=\"Difference Between C Structures and C++ Structures\" rel=\"bookmark\" class=\"gfg-similar-item-title three-line-restrict\">\\r\\n                Difference Between C Structures and C++ Structures\\r\\n            </div>\\r\\n        </a>\\r\\n    \\t\\t\\t\\t\\t</div>\\n\\t\\t\\t\\t</div>\\n\\t\\t\\t</div>\\n\\t\\t\\t\\t\\t\\t</div><!-- #content -->\\n</div><!-- #primary -->\\n\\r\\n\\r\\n<!-- Sidebar file comment -->\\r\\n\\t\\t\\t<div id=\"secondary\" class=\"widget-area\" role=\"complementary\">\\r\\n\\t\\t\\t<div class=\\'tn_container\\' id=\\'rightbar_tn\\'>\\r\\n            <div class=\\'tn_section_1\\'>\\r\\n                <div class=\\'tn_title\\'>Trending in News</div>\\r\\n                <div class=\\'tn_cta\\'><a target=\\'blank\\' href=https://www.geeksforgeeks.org/trending/?ref=viewmore_trending><div class=\\'tn_cta_text\\'>View More</div></a></div>\\r\\n            </div>\\r\\n            <hr/>\\r\\n            <ul class=\\'tn_section_2\\'><li class=\\'tn_news\\'><a href=\\'https://www.geeksforgeeks.org/cbse-exam-format-changed-for-class-11-12-focus-on-concept-application-questions/?ref=article_trending\\'>CBSE Exam Format Changed for Class 11-12: Focus On Concept Application Questions</a></li><li class=\\'tn_news\\'><a href=\\'https://www.geeksforgeeks.org/waze-alternatives/?ref=article_trending\\'>10 Best Waze Alternatives in 2024 (Free)</a></li><li class=\\'tn_news\\'><a href=\\'https://www.geeksforgeeks.org/10-best-squarespace-alternatives-in-2024-free/?ref=article_trending\\'>10 Best Squarespace Alternatives in 2024 (Free)</a></li><li class=\\'tn_news\\'><a href=\\'https://www.geeksforgeeks.org/owler-alternatives-competitors/?ref=article_trending\\'>Top 10 Owler Alternatives & Competitors in 2024</a></li><li class=\\'tn_news\\'> <a href=\\'https://www.geeksforgeeks.org/oops-interview-questions/?ref=article_trending\\'> 30 OOPs Interview Questions and Answers (2024)</a></li></ul></div><aside id=\"text-15\" class=\"widget widget_text\">\\t\\t\\t<div class=\"textwidget\"><style>\\n.article--container_content{\\nalign-items: unset !important;\\n}\\n.sideBar {\\n  position: sticky !important;\\n}\\n.gfg-icon_switch::after {\\nbackground-position: -40px -281px !important;\\n}\\n.gfg-icon_transaction::after {\\nbackground-position: -40px -321px !important;\\n}\\n.header-main__profile.selected+.mega-dropdown{\\nwidth: 225px !important;\\n}\\n#courses-container .course-price{\\ndisplay:none;\\n}\\n.side--container_wscard .card-content .content .meta:empty, .practiceBannerFromPlugin{\\ndisplay:none !important;\\n}\\n.side--container_wscard .card-content .content .meta{\\ndisplay:block !important;\\n}\\n.side--container_wscard .card-content .content .meta p{\\n    background-color: rgba(254, 212, 91, 0.6);\\n    font-size: 10pt;\\n    font-weight: bold;\\n    display: inline-block;\\n    color: var(--color-black);\\n    margin-top: 15px;\\n    padding: 0px 5px;\\n}\\n#try-it{\\ndisplay:initial !important;\\n}\\n#try-it .try-it-div{\\nline-height: 34px;\\n}\\n#try-it .submission-count{\\nmargin-top: 10px;\\n}\\n.gfg-icon_dark-mode::after {\\nbackground-position: -40px -680px;\\n}\\n.side--container_wscard .head{\\nfont-size: 14px !important;\\n}\\n.nineDot-menu, .gfg-icon_ndot{\\ndisplay: none;\\n}\\n#text-15{\\nflex-direction: column;\\n}\\n.mtq_correct_marker, .mtq_wrong_marker{\\ndisplay: none;\\n}\\n.sidebar_wrapper > :last-child{\\nmargin: unset !important;\\nmargin-left: 5px !important;\\nmargin-top: 20px !important;\\ntop: 70px !important;\\n}\\n.darkMode-wrap{\\nbottom:1% !important;\\n}\\n#secondary .textwidget{\\nmargin-left: auto;\\nmargin-right: 0;\\ntext-align: right;\\n}\\n#secondary .widget_text:last-child{\\ntop: 70px !important;\\n}\\n@media(max-width:768px){\\n#scrollTopBtn{\\ndisplay:none !important;\\n}\\n}\\n</style>\\n<div id=\"_GFG_ABP_Desktop_RightSideBar_ATF_300x600_2\"></div>\\n<div id=\"GFG_AD_Desktop_RightSideBar_ATF_300x250_2\" style=\"min-width: 300px;margin-bottom:10px;\"></div>\\n<div id=\\'GFG_AD_Desktop_RightSideBar_ATF_300x600\\' style=\\'min-width: 300px; min-height: 600px;margin-bottom:10px;\\'></div>\\n</div>\\n\\t\\t</aside><aside id=\"text-16\" class=\"widget widget_text\">\\t\\t\\t<div class=\"textwidget\">\\n<div id=\"_GFG_ABP_Desktop_RightSideBar_MTF_300x600\"></div>\\n<div id=\\'GFG_AD_Desktop_RightSideBar_MTF_300x250\\' style=\\'min-width: 300px;\\'></div>\\n<div id=\"_GFG_ABP_Desktop_RightSideBar_BTF_300x600\"></div>\\n<div id=\"_GFG_ABP_Desktop_RightSideBar_BTF_300x600_3\"></div>\\n</div>\\n\\t\\t</aside>        <script>\\r\\n            var rightBarExploreMoreList = ``\\r\\n            $(document).ready(function(){\\r\\n                var cardAdded = false;\\r\\n                \\r\\n                if(window.innerWidth >= 992 && !cardAdded ){\\r\\n                    var lastCard = $(\\'#whatsNewCardContainer .card-layout:last-child\\').html();\\r\\n                    $(\\'#whatsNewCardContainer .card-layout:last-child\\').hide();\\r\\n                    $(\\'#secondary\\').prepend(`<div class=\\'card-layout\\'>${lastCard?lastCard:\\'\\'}</div>`);\\r\\n                    cardAdded = true;\\r\\n                }\\r\\n\\r\\n                $(window).resize(function(){\\r\\n                   if(window.innerWidth >= 992 ){\\r\\n                    if(!cardAdded){\\r\\n                        var lastCard = $(\\'#whatsNewCardContainer .card-layout:last-child\\').html();\\r\\n                        $(\\'#whatsNewCardContainer .card-layout:last-child\\').hide();\\r\\n                        $(\\'#secondary\\').prepend(`<div class=\\'card-layout\\'>${lastCard?lastCard:\\'\\'} </div>`);\\r\\n                        cardAdded = true;\\r\\n                    }\\r\\n                   } else{\\r\\n                        $(\\'#secondary .card-layout:first-child\\').hide();\\r\\n                        $(\\'#whatsNewCardContainer .card-layout:last-child\\').show();\\r\\n                        cardAdded = false;\\r\\n                   }\\r\\n                });\\r\\n                \\r\\n                $(\\'#whatsNewCardContainer .card-layout-parent\\').css({\\r\\n                    \\'max-height\\': \\'255px\\',\\r\\n                    // \\'margin-bottom\\': \\'10px\\'\\r\\n                });\\r\\n\\r\\n                $(\\'#whatsNewCardContainer .side--container_wscard\\').css({\\r\\n                     \\'padding\\': \\'25px 10px 0\\'\\r\\n                });\\r\\n\\r\\n                $(\\'#whatsNewCardContainer .card-layout-parent > div:first-child .side--container_wscard\\').css({\\r\\n                     \\'padding\\': \\'2px 10px 0\\'\\r\\n                });\\r\\n\\r\\n            });\\r\\n           \\r\\n        </script>\\r\\n        <aside id=\"text-18\" class=\"widget widget_text\">\\t\\t\\t<div class=\"textwidget\"><div id=\\'GFG_AD_Desktop_RightSideBar_BTF_Sticky_300x250\\' style=\\'min-width: 300px;margin-bottom:10px\\'></div>\\n<div id=\\'GFG_AD_Desktop_RightSideBar_Docked_160x600\\' style=\\'min-width: 160px;\\'></div>\\n<div id=\\'GFG_AD_Desktop_RightSideBar_BTFdocked_300x600\\' style=\\'min-width: 300px;\\'></div>\\n</div>\\n\\t\\t</aside><aside id=\"text-20\" class=\"widget widget_text\">\\t\\t\\t<div class=\"textwidget\"></div>\\n\\t\\t</aside>\\t\\t<!-- </div> -->\\r\\n\\t\\t</div>\\r\\n\\t\\t<!-- #secondary -->\\r\\n\\t\\t<!-- End Sidebar file comment --><style>\\r\\n        .all-footer-information{\\r\\n          width: 100% !important;;\\r\\n        }\\r\\n        .footer-wrapper_links-list{\\r\\n           margin-block-start: 0em !important;\\r\\n           width: 16% !important; \\r\\n           padding-inline-start: 18px !important;\\r\\n        }\\r\\n        .gfg-footer .footer-wrapper_links-list li:first-child{\\r\\n          padding-bottom: 10px !important;;\\r\\n        }\\r\\n        .link-head{\\r\\n               margin-bottom: 0px;\\r\\n        }\\r\\n        @media only screen and (max-width:1340px) {\\r\\n              .footer-wrapper_links-list{\\r\\n              overflow-wrap: break-word;\\r\\n          }\\r\\n        }\\r\\n        @media screen and (min-width: 991px)  {\\r\\n              .all-footer-information{\\r\\n                padding-left:15px;\\r\\n          }\\r\\n        }\\r\\n        @media only screen and (max-width:980px) {\\r\\n          .footer-wrapper_branding-address{\\r\\n               padding-top: 10px;\\r\\n          }\\r\\n        }\\r\\n\\r\\n        /* CSS variable meant to handle the dark and light mode icon for three 90 event in header courses dropdown */\\r\\n        :root{\\r\\n          --three90headericon : url(\\'https://media.geeksforgeeks.org/auth-dashboard-uploads/three90daylogocompressed.svg\\');\\r\\n          --three90headericonposition : 0px -40px;\\r\\n          --three90leftbarimggrid : url(\\'https://media.geeksforgeeks.org/auth-dashboard-uploads/three90leftbarspritecompressed.svg\\');\\r\\n          --three90leftbarimgposition : -5px -55px;\\r\\n          --three90leftbarbgcolour : #b3abd0;\\r\\n        }\\r\\n\\r\\n        body[data-dark-mode=\"true\"]{\\r\\n          --three90leftbarimgposition : -6px 1px;\\r\\n          --three90headericonposition : 0px 0px;\\r\\n          --three90leftbarbgcolour: #8c82b9;\\r\\n        }\\r\\n\\r\\n        .three90leftbarimg{\\r\\n          margin-left: -5px;\\r\\n          height: 30px;\\r\\n          background-image: var(--three90leftbarimggrid);\\r\\n          background-repeat: no-repeat;\\r\\n          background-position: var(--three90leftbarimgposition);\\r\\n          background-size: 212px;\\r\\n        }\\r\\n\\r\\n        .courseTabShimmer{\\r\\n          position: absolute;\\r\\n          height: 110%;\\r\\n          width: 0;\\r\\n          opacity: .7;\\r\\n          -webkit-animation: courseShimmer 2s cubic-bezier(0,0,.07,.61) infinite;\\r\\n          animation: courseShimmer 2s cubic-bezier(0,0,.07,.61) infinite;\\r\\n          box-shadow: 0 0 25px 5px #dddcdc;\\r\\n          -webkit-transform: rotate(90deg);\\r\\n          transform: rotate(90deg);\\r\\n          padding:0px !important;\\r\\n          border:unset !important;\\r\\n        }\\r\\n\\r\\n        @keyframes courseShimmer{\\r\\n          0% {\\r\\n              left: 0;\\r\\n          }\\r\\n          55% {\\r\\n              left: 100%;\\r\\n          }\\r\\n          99% {\\r\\n              left: 110%;\\r\\n          }\\r\\n        }\\r\\n\\r\\n</style>\\r\\n\\r\\n\\r\\n\\t</div><!-- #main .wrapper -->\\r\\n  <div id=\"displayModal\" class=\"modal fade\" role=\"dialog\">\\r\\n    <div class=\"modal-dialog\">\\r\\n      <!-- <div class=\"upper-box\">\\r\\n        <h3 style=\"font: normal normal bold 18px/31px var(--font-primary); color: var(--color-black);\">Improve your Coding Skills with Practice</h3>\\r\\n        <button class=\"upper-box-btn\"><a style=\"color: white !important;\" href=\"https://practice.geeksforgeeks.org/explore?page=1&sortBy=submissions&utm_source=gfg&utm_medium=search-bar&utm_campaign=practice-search\">Try It!</a></button>\\r\\n      </div> -->\\r\\n      <div class=\"modal-content\">\\r\\n        <div class=\"error-message\"></div>\\r\\n        <!-- <div class=\"modal-header\">\\r\\n          <button type=\"button\" class=\"close\" data-dismiss=\"modal\" data-modal=\"displayModal\">&times;</button>\\r\\n          <h2 class=\"modal-title\" id=\"dmTitle\"></h2>\\r\\n        </div> -->\\r\\n        <div class=\"modal-body\" id=\"dmBody\">\\r\\n            <div id=\"modal-dm-content\"></div>\\r\\n              <div class=\"modal-overlay\" aria-hidden=true>\\r\\n                <span class=\"loader__animation\"></span>\\r\\n              </div>\\r\\n            <!-- body -->\\r\\n        </div>\\r\\n        <div class=\"modal-footer\">\\r\\n          <!-- button -->\\r\\n        </div>\\r\\n      </div>\\r\\n    </div>\\r\\n  </div>  \\r\\n  <div id=\"displayModalBackdrop\" class=\"backdrop\"></div>\\r\\n  <!-- Footer start -->\\r\\n  <footer class=\"gfg-footer\" id=\"gfg-footer\">\\r\\n      <div class=\"footer-wrapper\">\\r\\n          <div class=\"footer-wrapper_branding\">\\r\\n              <a class=\"footer-wrapper_branding-anchor\" aria-label=\"GeeksforGeeks Logo\" href=\"https://www.geeksforgeeks.org/\">\\r\\n                <img style=\"height: 32px; width: 230px; max-width: fit-content;\" class=\"footer-wrapper_branding-nlogo\" src=\"https://media.geeksforgeeks.org/auth-dashboard-uploads/gfgFooterLogo.png\" alt=\"geeksforgeeks-footer-logo\"/>\\r\\n              </a>\\r\\n              <div class=\"footer-wrapper_branding-address\">\\r\\n                  <i class=\"gfg-icon gfg-icon_pin\"></i>\\r\\n                  <span style=\"margin-right: 15px;\">\\r\\n                     A-143, 9th Floor, Sovereign Corporate Tower, Sector-136, Noida, Uttar Pradesh - 201305                      </span>\\r\\n              </div>\\r\\n              <div class=\"footer-wrapper_branding-social\">\\r\\n                  <a href=\"https://www.facebook.com/geeksforgeeks.org/\" rel=\"noopener noreferrer\" aria-label=\"GeeksforGeeks Facebook\" target=\"_blank\">\\r\\n                      <div class=\"facebook\"></div>\\r\\n                  </a>\\r\\n                  <a href=\"https://www.instagram.com/geeks_for_geeks/\" rel=\"noopener noreferrer\" aria-label=\"GeeksforGeeks Instagram\" target=\"_blank\">\\r\\n                      <div class=\"instagram\"></div>\\r\\n                  </a>\\r\\n                  <a href=\"https://in.linkedin.com/company/geeksforgeeks\" rel=\"noopener noreferrer\" aria-label=\"GeeksforGeeks LinkedIn\" target=\"_blank\">\\r\\n                      <div class=\"linkedin\"></div>\\r\\n                  </a>\\r\\n                  <a href=\"https://twitter.com/geeksforgeeks\" rel=\"noopener noreferrer\" aria-label=\"GeeksforGeeks Twitter\" target=\"_blank\">\\r\\n                      <div class=\"twitter\"></div>\\r\\n                  </a>\\r\\n                  <a href=\"https://www.youtube.com/geeksforgeeksvideos\" rel=\"noopener noreferrer\" aria-label=\"GeeksforGeeks YouTube\" target=\"_blank\">\\r\\n                      <div class=\"youtube\"></div>\\r\\n                  </a>\\r\\n                </div>\\r\\n              <div class=\"footer-wrapper_branding-app\">\\r\\n                  <a aria-label=\"GeeksforGeeks App Link\" href=\"https://geeksforgeeksapp.page.link/gfg-app\" target=\"_blank\" ><img src=\"https://media.geeksforgeeks.org/auth-dashboard-uploads/googleplay.png\" alt=\"GFG App on Play Store\" id=\"gplay\" loading=\"lazy\"></a>\\r\\n                  <a aria-label=\"GeeksforGeeks App Link\" href=\"https://geeksforgeeksapp.page.link/gfg-app\" target=\"_blank\"><img src=\"https://media.geeksforgeeks.org/auth-dashboard-uploads/appstore.png\" alt=\"GFG App on App Store\" id=\"appstore\" loading=\"lazy\"></a>\\r\\n              </div>\\r\\n          </div> \\r\\n        <div class=\"all-footer-information\">\\r\\n          <div class=\"footer-wrapper_links\" style=\"justify-content: space-between; text-align: -webkit-left;\"><ul class=\"footer-wrapper_links-list\" ><li>Company</li><li><a href=https://www.geeksforgeeks.org/about/?ref=outindfooter>About Us</a></li><li><a href=https://www.geeksforgeeks.org/legal/?ref=outindfooter>Legal</a></li><li><a href=https://geeksforgeeks.zohorecruit.in/careers?ref=outindfooter>Careers</a></li><li><a href=https://www.geeksforgeeks.org/press-release/?ref=outindfooter>In Media</a></li><li><a href=https://www.geeksforgeeks.org/about/contact-us/?ref=outindfooter>Contact Us</a></li><li><a href=https://www.geeksforgeeks.org/advertise-with-us/?ref=outindfooter>Advertise with us</a></li><li><a href=https://www.geeksforgeeks.org/gfg-corporate-solution/?ref=outindfooter>GFG Corporate Solution</a></li><li><a href=https://www.geeksforgeeks.org/campus-training-program/?ref=outindfooter>Placement Training Program</a></li></ul><ul class=\"footer-wrapper_links-list\" ><li>Explore</li><li><a href=https://www.geeksforgeeks.org/events/rec/gfg-hackathon/?ref=outindfooter>Hack-A-Thons</a></li><li><a href=https://practice.geeksforgeeks.org/events/rec/gfg-weekly-coding-contest?utm_source=geeksforgeeks&utm_medium=footer&utm_campaign=gfgweekly/?ref=footer>GfG Weekly Contest</a></li><li><a href=https://www.geeksforgeeks.org/courses/dsa-self-paced?utm_source=geeksforgeeks&utm_medium=footer&utm_campaign=course/?ref=footer>DSA in JAVA/C++</a></li><li><a href=https://www.geeksforgeeks.org/courses/mastering-system-design-low-level-to-high-level-solutions?utm_source=geeksforgeeks&utm_medium=footer&utm_campaign=course/?ref=footer>Master System Design</a></li><li><a href=https://www.geeksforgeeks.org/courses/competitive-programming-cp?utm_source=geeksforgeeks&utm_medium=footer&utm_campaign=course>Master CP</a></li><li><a href=https://www.geeksforgeeks.org/videos/?ref=outindfooter>GeeksforGeeks Videos</a></li><li><a href=https://www.geeksforgeeks.org/community/?ref=outindfooter>Geeks Community</a></li></ul><ul class=\"footer-wrapper_links-list\" ><li style=\"padding-bottom: 10px !important;\"><a class=\"link-head\" href=https://www.geeksforgeeks.org/introduction-to-programming-languages/?ref=outindfooter>Languages</a></li><li><a href=https://www.geeksforgeeks.org/python-programming-language/?ref=outindfooter>Python</a></li><li><a href=https://www.geeksforgeeks.org/java/?ref=outindfooter>Java</a></li><li><a href=https://www.geeksforgeeks.org/c-plus-plus/?ref=outindfooter>C++</a></li><li><a href=https://www.geeksforgeeks.org/php-tutorials/?ref=outindfooter>PHP</a></li><li><a href=https://www.geeksforgeeks.org/golang/?ref=outindfooter>GoLang</a></li><li><a href=https://www.geeksforgeeks.org/sql-tutorial/?ref=outindfooter>SQL</a></li><li><a href=https://www.geeksforgeeks.org/r-tutorial/?ref=outindfooter>R Language</a></li><li><a href=https://www.geeksforgeeks.org/android-tutorial/?ref=outindfooter>Android Tutorial</a></li><li><a href=https://www.geeksforgeeks.org/geeksforgeeks-online-tutorials-free/?ref=outindfooter>Tutorials Archive</a></li></ul><ul class=\"footer-wrapper_links-list\" ><li style=\"padding-bottom: 10px !important;\"><a class=\"link-head\" href=https://www.geeksforgeeks.org/learn-data-structures-and-algorithms-dsa-tutorial/?ref=outindfooter>DSA</a></li><li><a href=https://www.geeksforgeeks.org/data-structures/?ref=outindfooter>Data Structures</a></li><li><a href=https://www.geeksforgeeks.org/fundamentals-of-algorithms/?ref=outindfooter>Algorithms</a></li><li><a href=https://www.geeksforgeeks.org/complete-guide-to-dsa-for-beginners/?ref=outindfooter>DSA for Beginners</a></li><li><a href=https://www.geeksforgeeks.org/basic-coding-problems-in-dsa-for-beginners/?ref=outindfooter>Basic DSA Problems</a></li><li><a href=https://www.geeksforgeeks.org/complete-roadmap-to-learn-dsa-from-scratch/?ref=outindfooter>DSA Roadmap</a></li><li><a href=https://www.geeksforgeeks.org/top-100-data-structure-and-algorithms-dsa-interview-questions-topic-wise/?ref=outindfooter>Top 100 DSA Interview Problems</a></li><li><a href=https://www.geeksforgeeks.org/dsa-roadmap-for-beginner-to-advanced-by-sandeep-jain/?ref=outindfooter>DSA Roadmap by Sandeep Jain</a></li><li><a href=https://www.geeksforgeeks.org/geeksforgeeks-master-sheet-list-of-all-cheat-sheets/?ref=outindfooter>All Cheat Sheets</a></li></ul><ul class=\"footer-wrapper_links-list\" ><li>Data Science & ML</li><li><a href=https://www.geeksforgeeks.org/data-science-tutorial/?ref=outindfooter>Data Science With Python</a></li><li><a href=https://www.geeksforgeeks.org/data-science-for-beginners/?ref=outindfooter>Data Science For Beginner</a></li><li><a href=https://www.geeksforgeeks.org/machine-learning/?ref=outindfooter>Machine Learning Tutorial</a></li><li><a href=https://www.geeksforgeeks.org/machine-learning-mathematics/?ref=outindfooter>ML Maths</a></li><li><a href=https://www.geeksforgeeks.org/python-data-visualization-tutorial/?ref=outindfooter>Data Visualisation Tutorial</a></li><li><a href=https://www.geeksforgeeks.org/pandas-tutorial/?ref=outindfooter>Pandas Tutorial</a></li><li><a href=https://www.geeksforgeeks.org/numpy-tutorial/?ref=outindfooter>NumPy Tutorial</a></li><li><a href=https://www.geeksforgeeks.org/natural-language-processing-nlp-tutorial/?ref=outindfooter>NLP Tutorial</a></li><li><a href=https://www.geeksforgeeks.org/deep-learning-tutorial/?ref=outindfooter>Deep Learning Tutorial</a></li></ul><ul class=\"footer-wrapper_links-list\" ><li style=\"padding-bottom: 10px !important;\"><a class=\"link-head\" href=https://www.geeksforgeeks.org/html-css/?ref=outindfooter>HTML & CSS</a></li><li><a href=https://www.geeksforgeeks.org/html/?ref=outindfooter>HTML</a></li><li><a href=https://www.geeksforgeeks.org/css/?ref=outindfooter>CSS</a></li><li><a href=https://www.geeksforgeeks.org/html-and-css-template/?ref=outindfooter>Web Templates</a></li><li><a href=https://www.geeksforgeeks.org/css-framework/?ref=outindfooter>CSS Frameworks</a></li><li><a href=https://www.geeksforgeeks.org/bootstrap/?ref=outindfooter>Bootstrap</a></li><li><a href=https://www.geeksforgeeks.org/tailwind-css/?ref=outindfooter>Tailwind CSS</a></li><li><a href=https://www.geeksforgeeks.org/sass/?ref=outindfooter>SASS</a></li><li><a href=https://www.geeksforgeeks.org/less/?ref=outindfooter>LESS</a></li><li><a href=https://www.geeksforgeeks.org/web-design/?ref=outindfooter>Web Design</a></li><li><a href=https://www.geeksforgeeks.org/django-tutorial/?ref=outindfooter>Django Tutorial</a></li></ul></div><div class=\"footer-wrapper_links\" style=\"justify-content: space-between; text-align: -webkit-left;\"><ul class=\"footer-wrapper_links-list\" style=\"margin-block-start: 0em; width:16%; padding-inline-start: 18px;\"><li style=\"padding-bottom: 10px !important;\"><a class=\"link-head\" href=https://www.geeksforgeeks.org/python-programming-language/?ref=outindfooter>Python Tutorial</a></li><li><a href=https://www.geeksforgeeks.org/python-programming-examples/?ref=outindfooter>Python Programming Examples</a></li><li><a href=https://www.geeksforgeeks.org/python-projects-beginner-to-advanced/?ref=outindfooter>Python Projects</a></li><li><a href=https://www.geeksforgeeks.org/python-tkinter-tutorial/?ref=outindfooter>Python Tkinter</a></li><li><a href=https://www.geeksforgeeks.org/python-web-scraping-tutorial/?ref=outindfooter>Web Scraping</a></li><li><a href=https://www.geeksforgeeks.org/opencv-python-tutorial/?ref=outindfooter>OpenCV Tutorial</a></li><li><a href=https://www.geeksforgeeks.org/python-interview-questions/?ref=outindfooter>Python Interview Question</a></li></ul><ul class=\"footer-wrapper_links-list\" ><li style=\"padding-bottom: 10px !important;\"><a class=\"link-head\" href=https://www.geeksforgeeks.org/gate-cs-notes-gq/?ref=outindfooter>Computer Science</a></li><li><a href=https://www.geeksforgeeks.org/operating-systems/?ref=outindfooter>Operating Systems</a></li><li><a href=https://www.geeksforgeeks.org/computer-network-tutorials/?ref=outindfooter>Computer Network</a></li><li><a href=https://www.geeksforgeeks.org/dbms/?ref=outindfooter>Database Management System</a></li><li><a href=https://www.geeksforgeeks.org/software-engineering/?ref=outindfooter>Software Engineering</a></li><li><a href=https://www.geeksforgeeks.org/digital-electronics-logic-design-tutorials/?ref=outindfooter>Digital Logic Design</a></li><li><a href=https://www.geeksforgeeks.org/engineering-mathematics-tutorials/?ref=outindfooter>Engineering Maths</a></li></ul><ul class=\"footer-wrapper_links-list\" ><li style=\"padding-bottom: 10px !important;\"><a class=\"link-head\" href=https://www.geeksforgeeks.org/devops-tutorial/?ref=outindfooter>DevOps</a></li><li><a href=https://www.geeksforgeeks.org/git-tutorial/?ref=outindfooter>Git</a></li><li><a href=https://www.geeksforgeeks.org/aws-tutorial/?ref=outindfooter>AWS</a></li><li><a href=https://www.geeksforgeeks.org/docker-tutorial/?ref=outindfooter>Docker</a></li><li><a href=https://www.geeksforgeeks.org/kubernetes-tutorial/?ref=outindfooter>Kubernetes</a></li><li><a href=https://www.geeksforgeeks.org/microsoft-azure/?ref=outindfooter>Azure</a></li><li><a href=https://www.geeksforgeeks.org/google-cloud-platform-tutorial/?ref=outindfooter>GCP</a></li><li><a href=https://www.google.com/url?q=https://www.geeksforgeeks.org/devops-roadmap/&sa=D&source=editors&ust=1701416052078352&usg=AOvVaw245Kv2yCnm71WLx-_R42Jz/?ref=footer>DevOps Roadmap</a></li></ul><ul class=\"footer-wrapper_links-list\" ><li style=\"padding-bottom: 10px !important;\"><a class=\"link-head\" href=https://www.geeksforgeeks.org/competitive-programming-a-complete-guide/?ref=outindfooter>Competitive Programming</a></li><li><a href=https://www.geeksforgeeks.org/top-algorithms-and-data-structures-for-competitive-programming/?ref=outindfooter>Top DS or Algo for CP</a></li><li><a href=https://www.geeksforgeeks.org/top-50-tree-coding-problems-for-interviews?ref=outindfooter>Top 50 Tree</a></li><li><a href=https://www.geeksforgeeks.org/top-50-graph-coding-problems-for-interviews/?ref=outindfooter>Top 50 Graph</a></li><li><a href=https://www.geeksforgeeks.org/top-50-array-coding-problems-for-interviews/?ref=outindfooter>Top 50 Array</a></li><li><a href=https://www.geeksforgeeks.org/top-50-string-coding-problems-for-interviews/?ref=outindfooter>Top 50 String</a></li><li><a href=https://www.geeksforgeeks.org/top-50-dynamic-programming-coding-problems-for-interviews/?ref=outindfooter>Top 50 DP</a></li><li><a href=https://www.geeksforgeeks.org/top-15-websites-for-coding-challenges-and-competitions/?ref=outindfooter>Top 15 Websites for CP</a></li></ul><ul class=\"footer-wrapper_links-list\" ><li style=\"padding-bottom: 10px !important;\"><a class=\"link-head\" href=https://www.geeksforgeeks.org/system-design-tutorial/?ref=outindfooter>System Design</a></li><li><a href=https://www.geeksforgeeks.org/what-is-high-level-design-learn-system-design/?ref=outindfooter>High Level Design</a></li><li><a href=https://www.geeksforgeeks.org/what-is-low-level-design-or-lld-learn-system-design/?ref=outindfooter>Low Level Design</a></li><li><a href=https://www.geeksforgeeks.org/unified-modeling-language-uml-introduction/?ref=outindfooter>UML Diagrams</a></li><li><a href=https://www.geeksforgeeks.org/system-design-interview-guide/?ref=outindfooter>Interview Guide</a></li><li><a href=https://www.geeksforgeeks.org/software-design-patterns/?ref=outindfooter>Design Patterns</a></li><li><a href=https://www.geeksforgeeks.org/object-oriented-analysis-and-design/?ref=outindfooter>OOAD</a></li><li><a href=https://www.geeksforgeeks.org/system-design-interview-bootcamp-guide/?ref=outindfooter>System Design Bootcamp</a></li><li><a href=https://www.geeksforgeeks.org/most-commonly-asked-system-design-interview-problems-questions/?ref=outindfooter>Interview Questions</a></li></ul><ul class=\"footer-wrapper_links-list\" ><li style=\"padding-bottom: 10px !important;\"><a class=\"link-head\" href=https://www.geeksforgeeks.org/javascript/?ref=outindfooter>JavaScript</a></li><li><a href=https://www.geeksforgeeks.org/javascript-examples/?ref=outindfooter>JavaScript Examples</a></li><li><a href=https://www.geeksforgeeks.org/typescript/?ref=outindfooter>TypeScript</a></li><li><a href=https://www.geeksforgeeks.org/learn-reactjs/?ref=outindfooter>ReactJS</a></li><li><a href=https://www.geeksforgeeks.org/nextjs/?ref=outindfooter>NextJS</a></li><li><a href=https://www.geeksforgeeks.org/angularjs/?ref=outindfooter>AngularJS</a></li><li><a href=https://www.geeksforgeeks.org/nodejs/?ref=outindfooter>NodeJS</a></li><li><a href=https://www.geeksforgeeks.org/lodash/?ref=outindfooter>Lodash</a></li><li><a href=https://www.geeksforgeeks.org/web-browser-a-complete-overview/?ref=outindfooter>Web Browser</a></li></ul></div><div class=\"footer-wrapper_links\" style=\"justify-content: space-between; text-align: -webkit-left;\"><ul class=\"footer-wrapper_links-list\" style=\"margin-block-start: 0em; width:16%; padding-inline-start: 18px;\"><li style=\"padding-bottom: 10px !important;\"><a class=\"link-head\" href=https://www.geeksforgeeks.org/technical-interview-preparation/?ref=outindfooter>Preparation Corner</a></li><li><a href=https://www.geeksforgeeks.org/company-wise-recruitment-process/?ref=outindfooter>Company-Wise Recruitment Process</a></li><li><a href=https://www.geeksforgeeks.org/free-resume-templates/?ref=outindfooter>Resume Templates</a></li><li><a href=https://www.geeksforgeeks.org/aptitude-questions-and-answers/?ref=outindfooter>Aptitude Preparation</a></li><li><a href=https://www.geeksforgeeks.org/puzzles/?ref=outindfooter>Puzzles</a></li><li><a href=https://www.geeksforgeeks.org/company-preparation/?ref=outindfooter>Company-Wise Preparation</a></li></ul><ul class=\"footer-wrapper_links-list\" ><li>School Subjects</li><li><a href=https://www.geeksforgeeks.org/maths/?ref=outindfooter>Mathematics</a></li><li><a href=https://www.geeksforgeeks.org/physics/?ref=outindfooter>Physics</a></li><li><a href=https://www.geeksforgeeks.org/chemistry/?ref=outindfooter>Chemistry</a></li><li><a href=https://www.geeksforgeeks.org/biology/?ref=outindfooter>Biology</a></li><li><a href=https://www.geeksforgeeks.org/social-science/?ref=outindfooter>Social Science</a></li><li><a href=https://www.geeksforgeeks.org/english-grammar/?ref=outindfooter>English Grammar</a></li><li><a href=https://www.geeksforgeeks.org/tag/world-general-knowledge/?ref=outindfooter>World GK</a></li></ul><ul class=\"footer-wrapper_links-list\" ><li>Management & Finance</li><li><a href=https://www.geeksforgeeks.org/management/?ref=outindfooter>Management</a></li><li><a href=https://www.geeksforgeeks.org/human-resource-management-hrm/?ref=outindfooter>HR Management</a></li><li><a href=https://www.geeksforgeeks.org/finance/?ref=outindfooter>Finance</a></li><li><a href=https://www.geeksforgeeks.org/income-tax/?ref=outindfooter>Income Tax</a></li><li><a href=https://www.geeksforgeeks.org/organisational-behaviour-ob/?ref=outindfooter>Organisational Behaviour</a></li><li><a href=https://www.geeksforgeeks.org/marketing/?ref=outindfooter>Marketing</a></li></ul><ul class=\"footer-wrapper_links-list\" ><li>Free Online Tools</li><li><a href=https://www.geeksforgeeks.org/free-typing-test/?ref=outindfooter>Typing Test</a></li><li><a href=https://www.geeksforgeeks.org/online-image-editor/?ref=outindfooter>Image Editor</a></li><li><a href=https://www.geeksforgeeks.org/online-code-formatter/?ref=outindfooter>Code Formatters</a></li><li><a href=https://www.geeksforgeeks.org/online-file-converters/?ref=outindfooter>Code Converters</a></li><li><a href=https://www.geeksforgeeks.org/currency-converter/?ref=outindfooter>Currency Converter</a></li><li><a href=https://www.geeksforgeeks.org/random-number-generator/?ref=outindfooter>Random Number Generator</a></li><li><a href=https://www.geeksforgeeks.org/random-password-generator/?ref=outindfooter>Random Password Generator</a></li></ul><ul class=\"footer-wrapper_links-list\" ><li>More Tutorials</li><li><a href=https://www.geeksforgeeks.org/software-development/?ref=outindfooter>Software Development</a></li><li><a href=https://www.geeksforgeeks.org/software-testing-tutorial/?ref=outindfooter>Software Testing</a></li><li><a href=https://www.geeksforgeeks.org/product-management/?ref=outindfooter>Product Management</a></li><li><a href=https://www.geeksforgeeks.org/sap-systems-applications-and-products/?ref=outindfooter>SAP</a></li><li><a href=https://www.geeksforgeeks.org/seo-search-engine-optimization/?ref=outindfooter>SEO - Search Engine Optimization</a></li><li><a href=https://www.geeksforgeeks.org/linux-tutorial/?ref=outindfooter>Linux</a></li><li><a href=https://www.geeksforgeeks.org/excel-tutorial/?ref=outindfooter>Excel</a></li></ul><ul class=\"footer-wrapper_links-list\" ><li style=\"padding-bottom: 10px !important;\"><a class=\"link-head\" href=https://www.geeksforgeeks.org/videos/?ref=outindfooter>GeeksforGeeks Videos</a></li><li><a href=https://www.geeksforgeeks.org/videos/category/sde-sheet/?ref=outindfooter>DSA</a></li><li><a href=https://www.geeksforgeeks.org/videos/category/python/?ref=outindfooter>Python</a></li><li><a href=https://www.geeksforgeeks.org/videos/category/java-w6y5f4/?ref=footer>Java</a></li><li><a href=https://www.geeksforgeeks.org/videos/category/c/?ref=outindfooter>C++</a></li><li><a href=https://www.geeksforgeeks.org/videos/category/data-science/?ref=outindfooter>Data Science</a></li><li><a href=https://www.geeksforgeeks.org/videos/category/cs-subjects/?ref=outindfooter>CS Subjects</a></li></ul></div>        </div> \\r\\n      </div>\\r\\n            <!-- Jobs Fair 2024 related CSS changes -->\\r\\n\\r\\n<style>\\r\\n  :root{\\r\\n    --home-jobs-section-jf-logo: url(\\'https://media.geeksforgeeks.org/auth-dashboard-uploads/JobFair2024Logo.svg\\');\\r\\n  }\\r\\n\\r\\n  body[data-dark-mode=\"true\"]\\r\\n  {\\r\\n    --home-jobs-section-jf-logo: url(\\'https://media.geeksforgeeks.org/auth-dashboard-uploads/JobFair2024LogoDark.svg\\');\\r\\n  }\\r\\n\\r\\n  .hp_job_section_jf_logo, .job-a-thon-jf-sticky-header-logo{\\r\\n    background: var(--home-jobs-section-jf-logo);\\r\\n    height: 50px;\\r\\n    background-repeat: no-repeat;\\r\\n    width: 105px;\\r\\n    background-size: 100px;\\r\\n  }\\r\\n\\r\\n  @keyframes challenge {\\r\\n\\t0%{\\r\\n\\t\\ttransform: scale(1);\\r\\n\\t}\\r\\n\\t50%{\\r\\n\\t\\ttransform: scale(1.03);\\r\\n\\t}\\r\\n\\t100%{\\r\\n\\t\\ttransform: scale(1);\\r\\n\\t}\\r\\n  }\\r\\n\\r\\n  .job-a-thon-jf-sticky-header-logo{\\r\\n    height: 45px;\\r\\n  }\\r\\n\\r\\n</style>\\r\\n\\r\\n<!-- ---------------------------------- -->\\r\\n      <div class=\"footer-strip\" >\\r\\n          <div class=\"copyright\">\\r\\n              <a href=\"https://www.geeksforgeeks.org/\" rel=\"noopener noreferrer\" target=\"_blank\">@GeeksforGeeks, Sanchhaya Education Private Limited</a><span>, <a href=\"https://www.geeksforgeeks.org/copyright-information/\">All rights reserved</a></span>\\r\\n          </div>\\r\\n          <div class=\"social-links\">\\r\\n          </div>\\r\\n      </div>\\r\\n  </footer>\\r\\n</div><!-- #page -->\\r\\n<script type=\\'text/javascript\\' src=\\'https://www.geeksforgeeks.org/wp-includes/js/wp-embed.min.js?ver=4.9.8\\'></script>\\n\\r\\n<!-- Cookie Consent Div-->\\r\\n<div class=\"cookie-consent hide-consent\">\\r\\n    <span class=\"cookie-text\">\\r\\n        We use cookies to ensure you have the best browsing experience on our website. By using our site, you\\r\\n        acknowledge that you have read and understood our\\r\\n        <a href=\"https://www.geeksforgeeks.org/cookie-policy/\" target=\"_blank\"><u>Cookie Policy</u></a> &\\r\\n        <a href=\"https://www.geeksforgeeks.org/privacy-policy/\" target=\"_blank\"><u>Privacy Policy</u></a>\\r\\n            </span>\\r\\n    <button class=\"consent-btn\">\\r\\n        Got It !\\r\\n    </button>\\r\\n</div>\\r\\n<!-- Cookie Consent Div ends -->\\r\\n\\r\\n<!--Light Box Div starts-->\\r\\n<div class=\"lightbox-target\">\\r\\n   <img id=\"lightbox-image\" src=\"\" alt=\"Lightbox\"/>\\r\\n   <span class=\"lightbox-close\"></span>\\r\\n</div>\\r\\n<!--Light Box Div ends-->\\r\\n\\r\\n<!-- <link rel=\"stylesheet\" href=\"https://use.typekit.net/mrg0hpc.css\"/> -->\\r\\n<link href=\"https://fonts.googleapis.com/css2?family=Nunito:wght@400;700&family=Source+Sans+3:wght@400;600&display=swap\" rel=\"stylesheet\">\\r\\n<script>\\r\\n  if(post_slug.includes(\\'premium-plans-payment/\\') || post_slug.includes(\\'premium-plans/\\')){\\r\\n    $(\\'.darkMode-wrap\\').remove();\\r\\n    $(\\'.toggle-darkMode\\').remove();\\r\\n  }\\r\\n</script>\\r\\n<script>\\r\\nvar AdblockPlus = new function() {\\r\\n     this.detect = function(px, callback) {\\r\\n         var detected = false;\\r\\n         var checksRemain = 2;\\r\\n         var error1 = false;\\r\\n         var error2 = false;\\r\\n         if (typeof callback != \"function\") return;\\r\\n         px += \"?ch=*&rn=*\";\\r\\n\\r\\n         function beforeCheck(callback, timeout) {\\r\\n             if (checksRemain == 0 || timeout > 1E3) callback(checksRemain == 0 && detected);\\r\\n             else setTimeout(function() {\\r\\n                 beforeCheck(callback, timeout * 2)\\r\\n             }, timeout * 2)\\r\\n         }\\r\\n\\r\\n         function checkImages() {\\r\\n             if (--checksRemain) return;\\r\\n             detected = !error1 && error2\\r\\n         }\\r\\n         var random = Math.random() * 11;\\r\\n         var img1 = new Image;\\r\\n         img1.onload = checkImages;\\r\\n         img1.onerror = function() {\\r\\n             error1 = true;\\r\\n             checkImages()\\r\\n         };\\r\\n         img1.src = px.replace(/\\\\*/, 1).replace(/\\\\*/, random);\\r\\n         var img2 = new Image;\\r\\n         img2.onload = checkImages;\\r\\n         img2.onerror = function() {\\r\\n             error2 = true;\\r\\n             checkImages()\\r\\n         };\\r\\n         img2.src = px.replace(/\\\\*/, 2).replace(/\\\\*/, random);\\r\\n         beforeCheck(callback, 250)\\r\\n     }\\r\\n };\\r\\n\\r\\n/*\\r\\nAdblockPlus.detect(\"https://cdnads.geeksforgeeks.org/res/px.gif\", function(abp){\\r\\n    window.googletag = window.googletag || {cmd: []};\\r\\n    window.abp=abp;\\r\\n    var elms = [...document.querySelectorAll(\\'div[id^=_GFG_ABP_]\\')];\\r\\n    const units=elms.map(elem=>elem.id)\\r\\n    if(abp) {\\r\\n        for(let curr_unit of units) {\\r\\n            const iframe = document.createElement(\\'iframe\\');\\r\\n            iframe.setAttribute(\\'src\\',\"https://aa.geeksforgeeks.org/iframe.html?code=\"+curr_unit.substr(1))\\r\\n            const elem = document.getElementById(curr_unit)\\r\\n            const div = document.createElement(\\'div\\');\\r\\n            div.setAttribute(\\'id\\',curr_unit.substr(1))\\r\\n            let sizes = curr_unit.split(\"_\");\\r\\n            sizes = sizes.filter(val => val.includes(\\'x\\'));\\r\\n            let [width, height] = sizes[0].split(\"x\");\\r\\n            iframe.style.width = `${+width+20}px`\\r\\n            iframe.style.height = `${+height+20}px`\\r\\n            if(elem) {\\r\\n                elem.appendChild(iframe);\\r\\n            }\\r\\n        }\\r\\n        var gfgAdDivs = [...document.querySelectorAll(\\'div[id^=GFG_AD_]\\')];\\r\\n        gfgAdDivs.forEach(gfgDiv => document.getElementById(gfgDiv.id).removeAttribute(\"style\"));\\r\\n        jQuery(\\'#secondary .widget_text:last-child\\').css({\"position\": \"unset\"});\\r\\n    }\\r\\n});*/\\r\\n    AdblockPlus.detect(\"https://cdnads.geeksforgeeks.org/res/px.gif\", function(abp){\\r\\n    window.googletag = window.googletag || {cmd: []};\\r\\n    window.abp=abp;\\r\\n    var elms = [...document.querySelectorAll(\\'div[id^=_GFG_ABP_]\\')];\\r\\n    //const units=elms.map(elem=>elem.id)\\r\\n    const units = elms\\r\\n      .filter(elem => !(window.innerWidth < 1500 && elem.id === \"_GFG_ABP_Incontent_728x90\"))\\r\\n      .map(elem => elem.id);\\r\\n    if(abp) {\\r\\n        isAdBlockerPresent = true;\\r\\n        for(let curr_unit of units) {\\r\\n            const iframe = document.createElement(\\'iframe\\');\\r\\n            iframe.addEventListener(\"load\", () => {\\r\\n              iframe.contentWindow.postMessage(JSON.stringify({host: window.location.host,category: window.arrPostCatName,parentWidth: window.innerWidth}),\\'https://aa.geeksforgeeks.org\\');\\r\\n            });\\r\\n            iframe.setAttribute(\\'src\\',\"https://aa.geeksforgeeks.org/iframe.html?code=\"+curr_unit.substr(1))\\r\\n            const elem = document.getElementById(curr_unit)\\r\\n            const div = document.createElement(\\'div\\');\\r\\n            div.setAttribute(\\'id\\',curr_unit.substr(1))\\r\\n            let sizes = curr_unit.split(\"_\");\\r\\n            sizes = sizes.filter(val => val.includes(\\'x\\'));\\r\\n            let [width, height] = sizes[0].split(\"x\");\\r\\n            iframe.style.width = `${+width+20}px`\\r\\n            iframe.style.height = `${+height+20}px`\\r\\n            if(elem) {\\r\\n                elem.appendChild(iframe);\\r\\n            }\\r\\n        }\\r\\n        var gfgAdDivs = [...document.querySelectorAll(\\'div[id^=GFG_AD_]\\')];\\r\\n        gfgAdDivs.forEach(gfgDiv => document.getElementById(gfgDiv.id).removeAttribute(\"style\"));\\r\\n        jQuery(\\'#secondary .widget_text:last-child\\').css({\"position\": \"unset\"});\\r\\n    }\\r\\n    else{\\r\\n      try {\\r\\n        var isAdblockEnabled = t =>\\r\\n            fetch(\\r\\n                new Request(\\'https://pagead2.googlesyndication.com/pagead/js/adsbygoogle.js\\', {\\r\\n                    method: \\'HEAD\\',\\r\\n                    mode: \\'no-cors\\'\\r\\n                })\\r\\n            ).catch(t);\\r\\n          isAdblockEnabled(() => {\\r\\n            // here goes modal pop-up code\\r\\n            isAdBlockerPresent = true;\\r\\n          });\\r\\n      } catch (err) {console.log(err);}\\r\\n    }\\r\\n});\\r\\n\\r\\n  function closeAdBlockPopupModal(){\\r\\n    const modal = document.getElementById(\"adBlockerModal\");\\r\\n    $(\\'body\\').removeClass(\\'body-for-ad-blocker\\');\\r\\n    $(\\'#adBlockerModal\\').remove()\\r\\n    localStorage.setItem(\\'gfgAdBlockPopup\\',new Date())\\r\\n  }\\r\\n  function showAdblockerModal(){\\r\\n    let currTime = new Date();\\r\\n    let lastTime = new Date(localStorage.getItem(\\'gfgAdBlockPopup\\'));\\r\\n    if(((currTime-lastTime)/(1000*60*60))<1)\\r\\n    {\\r\\n      return;\\r\\n    }\\r\\n    const adBlockerModal = `<div id=\"adBlockerModal\" class=\"ad-blocker-modal\">\\r\\n      <div id=\"ad-blocker-modal-overlay\">\\r\\n        <div id=\"ad-blocker-outer-div\">\\r\\n          <div id=\"ad-blocker-div\">\\r\\n          <p id=\"ad-blocker-div-warning\" style=\"margin-bottom: 30px;\">It seems that you are using an ad blocker.<br><span style=\"font-size: 20px;\">Please disable it to support us!</span></p>\\r\\n              <div id=\"ad-blocker-div-btns\">\\r\\n                  <button id=\"ad-blocker-div-button1\" onclick=\"handleAdBlockerClick(\\'disabled\\')\">\\r\\n                      I disabled my ad blocker\\r\\n                  </button>\\r\\n                  <button id=\"ad-blocker-div-button2\" onclick=\"handleAdBlockerClick(\\'info\\')\">\\r\\n                      Show Me How\\r\\n                  </button>\\r\\n              </div>\\r\\n              <div id=\"ad-blocker-div-continue-btn-div\">\\r\\n                  <a id=\"ad-blocker-div-continue-btn\" href=\"#\" onclick=\"closeAdBlockPopupModal()\">Continue without supporting &#128546;</a>\\r\\n              </div>\\r\\n          </div>\\r\\n          <div id=\"ad-blocker-info-div\" style=\"display:none;\">\\r\\n            <div id=\"ad-blocker-info-div-continue-btn-div\">\\r\\n                <a id=\"ad-blocker-info-div-continue-btn\" href=\"\">I disabled my ad blocker</a>\\r\\n            </div>\\r\\n            <div id=\"ad-blocker-info-div-instructions-div\">\\r\\n              <p id=\"ad-blocker-info-div-instructions-para\">Select from the following icons for instructions on how to add us to your safe sites list.</p>\\r\\n            </div>\\r\\n            <div id=\"ad-blocker-info-div-icons-div\">\\r\\n              <div class=\"ad-blocker-info-div-icons-circle-div\" id=\"ad-blocker-info-div-icons-0\" onclick=\"handleAdBlockerIconClick(\\'0\\')\">\\r\\n              </div>\\r\\n              <div class=\"ad-blocker-info-div-icons-circle-div\" id=\"ad-blocker-info-div-icons-1\" onclick=\"handleAdBlockerIconClick(\\'1\\')\">\\r\\n              </div>  \\r\\n              <div class=\"ad-blocker-info-div-icons-circle-div\" id=\"ad-blocker-info-div-icons-2\" onclick=\"handleAdBlockerIconClick(\\'2\\')\">\\r\\n              </div>\\r\\n              <div class=\"ad-blocker-info-div-icons-circle-div\" id=\"ad-blocker-info-div-icons-3\" onclick=\"handleAdBlockerIconClick(\\'3\\')\">\\r\\n              </div>\\r\\n            </div>\\r\\n            <div id=\"ad-blocker-info-div-gif-div\">\\r\\n              <video id=\"ad-blocker-info-div-gif\" autoplay muted loop>\\r\\n                <source id=\"ad-blocker-info-div-gif-src\" src=\"https://i.piano.io/managedservices/adblock-sources/videos/chrome-adblock.mp4\" type=\"video/mp4\">\\r\\n              </video>\\r\\n            </div>\\r\\n            <div id=\"ad-blocker-info-div-steps-div\">\\r\\n              <ol id=\"ad-blocker-info-div-steps-ul\">\\r\\n                <li class=\"ad-blocker-info-div-steps-li\">Click on the <span id=\"ad-blocker-info-div-name-span\">uBlock</span> icon at the top right corner of your browser.</li>\\r\\n                <li class=\"ad-blocker-info-div-steps-li\">Click Enabled on this site until the text reads Disabled on this site.</li>\\r\\n                <li class=\"ad-blocker-info-div-steps-li\">Click Done below to close this window and refresh the page.</li>\\r\\n              </ol>\\r\\n            </div>\\r\\n          </div>\\r\\n        </div>\\r\\n      </div>\\r\\n    </div>`;\\r\\n    $(\\'body\\').append(adBlockerModal);\\r\\n    $(\\'body\\').addClass(\\'body-for-ad-blocker\\');\\r\\n    const modal = document.getElementById(\"adBlockerModal\");\\r\\n    modal.style.display = \"block\";\\r\\n  }\\r\\n  function handleAdBlockerClick(type){\\r\\n      if(type == \\'disabled\\'){\\r\\n        window.location.reload();\\r\\n      }\\r\\n      else if(type == \\'info\\'){\\r\\n        document.getElementById(\"ad-blocker-div\").style.display = \"none\";\\r\\n        document.getElementById(\"ad-blocker-info-div\").style.display = \"flex\";\\r\\n        handleAdBlockerIconClick(0);\\r\\n      }\\r\\n  }\\r\\n  var lastSelected= null;\\r\\n  //Mapping of name and video URL with the index.\\r\\n  const adBlockerVideoMap = [\\r\\n    [\\'Ad Block Plus\\',\\'https://media.geeksforgeeks.org/auth-dashboard-uploads/abp-blocker-min.mp4\\'],\\r\\n    [\\'Ad Block\\',\\'https://media.geeksforgeeks.org/auth-dashboard-uploads/Ad-block-min.mp4\\'],\\r\\n    [\\'uBlock Origin\\',\\'https://media.geeksforgeeks.org/auth-dashboard-uploads/ub-blocke-min.mp4\\'],\\r\\n    [\\'uBlock\\',\\'https://media.geeksforgeeks.org/auth-dashboard-uploads/U-blocker-min.mp4\\'],\\r\\n  ]\\r\\n  function handleAdBlockerIconClick(currSelected){\\r\\n    const videocontainer = document.getElementById(\\'ad-blocker-info-div-gif\\');\\r\\n    const videosource = document.getElementById(\\'ad-blocker-info-div-gif-src\\');\\r\\n    if(lastSelected != null){\\r\\n      document.getElementById(\"ad-blocker-info-div-icons-\"+lastSelected).style.backgroundColor = \"white\";  \\r\\n      document.getElementById(\"ad-blocker-info-div-icons-\"+lastSelected).style.borderColor = \"#D6D6D6\";\\r\\n    }\\r\\n    document.getElementById(\"ad-blocker-info-div-icons-\"+currSelected).style.backgroundColor = \"#D9D9D9\";\\r\\n    document.getElementById(\"ad-blocker-info-div-icons-\"+currSelected).style.borderColor = \"#848484\";\\r\\n    document.getElementById(\\'ad-blocker-info-div-name-span\\').innerHTML = adBlockerVideoMap[currSelected][0]\\r\\n    videocontainer.pause();\\r\\n    videosource.setAttribute(\\'src\\', adBlockerVideoMap[currSelected][1]);\\r\\n    videocontainer.load();\\r\\n    videocontainer.play();\\r\\n    lastSelected = currSelected;\\r\\n  }\\r\\n</script>\\r\\n<!-- <script async src=\"https://www.googleoptimize.com/optimize.js?id=OPT-5PGZ8MN\"></script> -->\\r\\n\\r\\n<style>\\r\\n/* Temporary CSS for Three90 pop up modal (START)*/\\r\\n    .three90popup__container {\\r\\n      width: 100vw;\\r\\n      height: 100vh; \\r\\n      position: fixed;\\r\\n      top:0px;\\r\\n      background: var(--job-tab-faded-background);\\r\\n      z-index: 1024;\\r\\n      display: flex;\\r\\n      align-items: center;\\r\\n      justify-content: center;\\r\\n    }\\r\\n    .three90modal__wrapper{\\r\\n      background-color: white;\\r\\n      max-width: 350px;\\r\\n      display: flex;\\r\\n      flex-direction: column;\\r\\n      border-radius: 10px;\\r\\n      overflow: hidden;\\r\\n\\r\\n    }\\r\\n    .three90modal__message-container {\\r\\n      display: flex;\\r\\n      flex-direction: column;\\r\\n      align-items: center;\\r\\n      font-family: var(--font-primary);\\r\\n    }\\r\\n    .three90modal__subheading {\\r\\n      margin-top: 20px;\\r\\n      font-size: 22px;\\r\\n      font-weight: 600;\\r\\n    }\\r\\n    .three90modal__text-message {\\r\\n      margin-top: 20px;\\r\\n      font-size: 15px;\\r\\n      font-weight: 400;\\r\\n      text-align: center;\\r\\n      padding: 0 5px;\\r\\n    }\\r\\n    .three90__modal__button-wrapper {\\r\\n      width: 100%;\\r\\n      padding: 20px 0px;\\r\\n      display: flex;\\r\\n      justify-content: space-evenly;\\r\\n    }\\r\\n    .three90__modal__button-wrapper > button {\\r\\n      width: 105px;\\r\\n      height: 35px;\\r\\n      border-radius: 13px;\\r\\n      border:none;\\r\\n      font-weight: 600;\\r\\n      cursor: pointer;\\r\\n    } \\r\\n    #three90__modal-close-btn:hover {\\r\\n      background-color: #cacbcd;\\r\\n    }\\r\\n    #three90__modal-explore-btn {\\r\\n      background-color: #0a0727;\\r\\n      color: white\\r\\n    }\\r\\n\\r\\n    @media screen and (max-width: 441px) {\\r\\n      .three90modal__wrapper {\\r\\n        max-width: 300px;\\r\\n      }\\r\\n    }\\r\\n\\r\\n  /* Temporary CSS for Three90 pop up modal (END)*/\\r\\n</style>\\r\\n\\r\\n<script type=\"text/javascript\" >\\r\\n    const coursePromotionCities = JSON.parse(`{\"NCR\":{\"LOCATIONS\":[\"Noida\",\"Greater Noida\",\"Gurgaon\",\"Gurugram\",\"Ghaziabad\",\"Faridabad\",\"Delhi\"],\"COURSES\":[{\"name\":\"GATE CS 2025 Classroom Program\",\"url\":\"https:\\\\/\\\\/www.geeksforgeeks.org\\\\/courses\\\\/gate-cs-2025-classroom\"},{\"name\":\"MERN Full Stack Development\",\"url\":\"https:\\\\/\\\\/www.geeksforgeeks.org\\\\/courses\\\\/mern-full-stack-development-classroom\"},{\"name\":\"DSA For Interview Preparation\",\"url\":\" https:\\\\/\\\\/www.geeksforgeeks.org\\\\/courses\\\\/dsa-interview-preparation-classroom\"},{\"name\":\"JAVA Backend Development\",\"url\":\"https:\\\\/\\\\/www.geeksforgeeks.org\\\\/courses\\\\/complete-java-backend-development-program\"},{\"name\":\"Data Analytics Programme\",\"url\":\"https:\\\\/\\\\/www.geeksforgeeks.org\\\\/courses\\\\/complete-data-analytics-program\"},{\"name\":\"AWS Solutions Architect Certification\",\"url\":\"https:\\\\/\\\\/www.geeksforgeeks.org\\\\/courses\\\\/aws-solutions-architect-certification-classroom-training\"},{\"name\":\"Explore All\",\"url\":\"https:\\\\/\\\\/www.geeksforgeeks.org\\\\/courses\\\\/offline-courses\"}]},\"NON_NCR\":{\"Bengaluru\":[{\"name\":\"Data Science Classroom Program\",\"url\":\"https:\\\\/\\\\/www.geeksforgeeks.org\\\\/courses\\\\/data-science-classroom-program\"},{\"name\":\"System Design Classroom Program\",\"url\":\"https:\\\\/\\\\/www.geeksforgeeks.org\\\\/courses\\\\/system-design-classroom-program\"},{\"name\":\"MERN Full Stack Development\",\"url\":\"https:\\\\/\\\\/www.geeksforgeeks.org\\\\/courses\\\\/mern-full-stack-development-classroom\"},{\"name\":\"DSA For Interview Preparation\",\"url\":\"https:\\\\/\\\\/www.geeksforgeeks.org\\\\/courses\\\\/dsa-interview-preparation-classroom\"},{\"name\":\"JAVA Backend Development\",\"url\":\"https:\\\\/\\\\/www.geeksforgeeks.org\\\\/courses\\\\/complete-java-backend-development-program\"},{\"name\":\"Data Analytics Programme\",\"url\":\"https:\\\\/\\\\/www.geeksforgeeks.org\\\\/courses\\\\/complete-data-analytics-program\"},{\"name\":\"AWS Solutions Architect Certification\",\"url\":\"https:\\\\/\\\\/www.geeksforgeeks.org\\\\/courses\\\\/aws-solutions-architect-certification-classroom-training\"},{\"name\":\"Explore All\",\"url\":\"https:\\\\/\\\\/www.geeksforgeeks.org\\\\/courses\\\\/offline-courses\"}],\"Pune\":[{\"name\":\"MERN Full Stack Development\",\"url\":\"https:\\\\/\\\\/www.geeksforgeeks.org\\\\/courses\\\\/mern-full-stack-development-classroom\"},{\"name\":\"DSA For Interview Preparation\",\"url\":\"https:\\\\/\\\\/www.geeksforgeeks.org\\\\/courses\\\\/dsa-interview-preparation-classroom\"},{\"name\":\"Complete Data Analytics Program\",\"url\":\"https:\\\\/\\\\/www.geeksforgeeks.org\\\\/courses\\\\/complete-data-analytics-program\"},{\"name\":\"Explore All\",\"url\":\"https:\\\\/\\\\/www.geeksforgeeks.org\\\\/courses\\\\/offline-courses\"}]}}`);\\r\\n    const offlineCourseTermMapper = JSON.parse(`{\"ALL_TERMIDS\":[\"2058\",\"6263\",\"2628\",\"1745\",\"1789\",\"2601\",\"2057\",\"5037\",\"2971\",\"2023\",\"2162\",\"2795\"],\"COURSE_TERMID_MAP\":{\"JAVA\":[\"2058\"],\"DATA_ANALYTICS\":[\"1745\",\"1789\",\"2601\",\"2057\",\"5037\",\"2971\",\"2023\",\"2162\",\"2795\"],\"DSA\":[\"6263\"],\"MERN\":[\"2628\"]}}`);\\r\\n</script>\\r\\n\\r\\n  \\r\\n<!-- gfg tabs compatablity bundled js -->\\r\\n\\r\\n<!-- Google Tag Manager -->\\r\\n<script>(function(w,d,s,l,i){w[l]=w[l]||[];w[l].push({\\'gtm.start\\':\\r\\nnew Date().getTime(),event:\\'gtm.js\\'});var f=d.getElementsByTagName(s)[0],\\r\\nj=d.createElement(s),dl=l!=\\'dataLayer\\'?\\'&l=\\'+l:\\'\\';j.async=true;j.src=\\r\\n\\'https://www.googletagmanager.com/gtm.js?id=\\'+i+dl;f.parentNode.insertBefore(j,f);\\r\\n})(window,document,\\'script\\',\\'dataLayer\\',\\'GTM-KDVRCT5\\');</script>\\r\\n\\r\\n<!-- Global site tag (gtag.js) - Google Analytics -->\\r\\n<script async src=\"https://www.googletagmanager.com/gtag/js?id=G-DWCCJLKX3X\"></script>\\r\\n<script>\\r\\n  window.dataLayer = window.dataLayer || [];\\r\\n  function gtag(){dataLayer.push(arguments);}\\r\\n  gtag(\\'js\\', new Date());\\r\\n//  gtag(\\'config\\', \\'AW-474915276\\');\\r\\n  gtag(\\'config\\', \\'G-DWCCJLKX3X\\');\\r\\n  gtag(\\'config\\', \\'AW-796001856\\');\\r\\n</script>\\r\\n\\r\\n<!-- fancybar ad code start -->\\r\\n<div id=\"GFG_AD_Desktop_Stickyunit_1x1\"></div>\\r\\n<!-- fancybar ad code ends -->\\r\\n<!-- <div id=\"GFG_AD_gfg_mobile_320x50\"></div> -->\\r\\n<style>\\n    :root {\\n        --com-extra-icons-mobile-image: url(https://media.geeksforgeeks.org/auth-dashboard-uploads/Com-Extra-Icons13.svg);\\n        --write-experience-card-1: #ECF5F5;\\n        --write-experience-card-icon-1: #21898C;\\n        --write-experience-card-2: #EAF2F7;\\n        --write-experience-card-icon-2: #3079AC;\\n        --write-experience-card-3: #FDEFE6;\\n        --write-experience-card-icon-3: #F5A572;\\n        --write-experience-card-4: #F1F8F5;\\n        --write-experience-card-icon-4: #91C4AD;\\n        --write-experience-card-5: #EEE7FF;\\n        --write-experience-card-icon-5: #8B72C9;\\n        --write-experience-card-6: #F2F8E6;\\n        --write-experience-card-icon-6: #78C57F;\\n        --editor-button-text-color: #6E6E73;\\n        --write-modal-background: #fefefe;\\n        --experience-sidebar: #000;\\n        --left-bar-background: #FFFFFF;\\n        --write-redirect-container:#EAF2F7;\\n        --write-redirect-container-hover:#d6e7f2;\\n        \\n    }\\n\\n    /* Dark Mode */\\n    body[data-dark-mode=\"true\"] {\\n        --write-modal-background: #161c23;\\n        --experience-sidebar: #000;\\n        --left-bar-background: #F0F3F5;\\n    }\\n\\n    .popup-main {\\n        padding: 20px 18px 20px 18px;\\n        border-radius: 8px;\\n    }\\n\\n    .popup-main .popup-heading {\\n        display: flex;\\n        align-items: center;\\n        color: #E9E9EA;\\n        margin-bottom: 10px;\\n        justify-content: space-between;\\n    }\\n\\n    .popup-main .close-icon {\\n        background-image: var(--com-extra-icons-mobile-image);background-position: -15px -1651px;height: 22px;width: 22px;transform: scale(1);\\n        margin-bottom: 12px;\\n        cursor: pointer;\\n    }\\n\\n    .popup-main .experience-card {\\n        color: #000;\\n        display: grid;\\n        grid-template-columns: repeat(2, 1fr);\\n        gap: 16px;\\n        margin-bottom:10px;\\n    }\\n\\n    .popup-main a:hover,\\n    .popup-main a:active,\\n    .popup-main a:visited {\\n        color: inherit;\\n        text-decoration: none;\\n    }\\n\\n    .popup-main .exp-card1,\\n    .popup-main .exp-card2,\\n    .popup-main .exp-card3,\\n    .popup-main .exp-card4,\\n    .popup-main .exp-card5,\\n    .popup-main .exp-card6 {\\n        display: flex;\\n        align-items: center;\\n        border-radius: 10px;\\n        cursor: pointer;\\n    }\\n\\n    .popup-main .exp-card1 .icon1,\\n    .popup-main .exp-card2 .icon2,\\n    .popup-main .exp-card3 .icon3,\\n    .popup-main .exp-card4 .icon4,\\n    .popup-main .exp-card5 .icon5,\\n    .popup-main .exp-card6 .icon6 {\\n        width: 80px;\\n        height: 80px;\\n        border-radius: 10px 0px 0px 10px;\\n        display: flex;\\n        align-items: center;\\n        justify-content: center;\\n        background: var(--write-experience-card-icon-1);\\n    }\\n\\n    .popup-main .exp-card1 .icon1,\\n    .popup-main .exp-card2 .icon2,\\n    .popup-main .exp-card3 .icon3,\\n    .popup-main .exp-card4 .icon4,\\n    .popup-main .exp-card5 .icon5,\\n    .popup-main .exp-card6 .icon6 {\\n        width: 80px;\\n        height: 80px;\\n        border-radius: 10px 0px 0px 10px;\\n        display: flex;\\n        align-items: center;\\n        justify-content: center;\\n    }\\n\\n    .popup-main .exp-card1 .icon1 {\\n        background: var(--write-experience-card-icon-1);\\n    }\\n\\n    .popup-main .exp-card2 .icon2 {\\n        background: var(--write-experience-card-icon-2);\\n    }\\n\\n    .popup-main .exp-card3 .icon3 {\\n        background: var(--write-experience-card-icon-3);\\n    }\\n\\n    .popup-main .exp-card4 .icon4 {\\n        background: var(--write-experience-card-icon-4);\\n    }\\n\\n    .popup-main .exp-card5 .icon5 {\\n        background: var(--write-experience-card-icon-5);\\n    }\\n\\n    .popup-main .exp-card6 .icon6 {\\n        background: var(--write-experience-card-icon-6);\\n    }\\n\\n    .popup-main .exp-card6 .icon6-image {\\n        background-image: var(--com-extra-icons-mobile-image);\\n        width: 46px;\\n        height: 40px;\\n        background-position: -4px -1258px;\\n    }\\n\\n    .popup-main .exp-card1 .icon1-image {\\n        background-image: var(--com-extra-icons-mobile-image);\\n        width: 46px;\\n        height: 28px;\\n        background-position: -4px -812px;\\n    }\\n\\n    .popup-main .exp-card2 .icon2-image {\\n        background-image: var(--com-extra-icons-mobile-image);\\n        width: 46px;\\n        height: 28px;\\n        background-position: -4px -888px;\\n    }\\n\\n    .popup-main .exp-card3 .icon3-image {\\n        background-image: var(--com-extra-icons-mobile-image);\\n        width: 46px;\\n        height: 28px;\\n        background-position: -4px -848px;\\n    }\\n\\n    .popup-main .exp-card4 .icon4-image {\\n        background-image: var(--com-extra-icons-mobile-image);\\n        width: 46px;\\n        height: 28px;\\n        background-position: -4px -926px;\\n    }\\n\\n    .popup-main .exp-card5 .icon5-image {\\n        background-image: var(--com-extra-icons-mobile-image);\\n        width: 46px;\\n        height: 33px;\\n        background-position: -4px -1217px;\\n    }\\n\\n\\n    .popup-main .exp-card1 .exp-card1-text,\\n    .popup-main .exp-card2 .exp-card2-text,\\n    .popup-main .exp-card3 .exp-card3-text,\\n    .popup-main .exp-card4 .exp-card4-text,\\n    .popup-main .exp-card5 .exp-card5-text,\\n    .popup-main .exp-card6 .exp-card6-text {\\n        display: flex;\\n        align-items: center;\\n        border-radius: 0px 10px 10px 0px;\\n        height: 80px;\\n        width: calc(100% - 80px);\\n    }\\n\\n    .popup-main .exp-card1 {\\n        justify-content: flex-start;\\n        background: var(--write-experience-card-1);\\n    }\\n\\n    .popup-main .exp-card2 {\\n        justify-content: flex-start;\\n        background: var(--write-experience-card-2);\\n    }\\n\\n    .popup-main .exp-card3 {\\n        justify-content: flex-start;\\n        background: var(--write-experience-card-3);\\n    }\\n\\n    .popup-main .exp-card4 {\\n        justify-content: flex-start;\\n        background: var(--write-experience-card-4);\\n    }\\n\\n    .popup-main .exp-card5 {\\n        justify-content: flex-start;\\n        background: var(--write-experience-card-5);\\n    }\\n\\n    .popup-main .exp-card6 {\\n        justify-content: flex-start;\\n        background: var(--write-experience-card-6);\\n    }\\n\\n    .popup-main span {\\n        font-family: var(--font-primary);\\n        font-size: 14px;\\n        font-style: normal;\\n        font-weight: 500;\\n        line-height: normal;\\n        padding-left: 5px;\\n        padding-right: 5px;\\n    }\\n\\n    #popup {\\n        display: none;\\n        background-color: var(--write-modal-background);\\n        padding: 20px;\\n        text-align: center;\\n        position: fixed;\\n        top: 50%;\\n        left: 50%;\\n        transform: translate(-50%, -50%);\\n        z-index: 1026;\\n        width: min(650px, calc(100% - 20px));\\n    }\\n    .link-container-write{\\n        display:flex;\\n        flex-direction:column;\\n    }\\n    .link-container-write > a {\\n        margin:7px 0px;\\n    }\\n    .phrase__container{\\n        color:var(--color-gfg);\\n        border-radius: 6px;\\n        width: 100%;\\n        background-color:var(--write-redirect-container);\\n        padding: 15px;\\n        text-align: justify;\\n        font-size:14px;\\n    }\\n    .phrase__container:hover {\\n        color:var(--color-gfg) !important;\\n        background-color:var(--write-redirect-container-hover);\\n    }\\n</style>\\n<div class=\"popup-container\">\\n        <div id=\"popup\" accesskey=\"\" class=\"popup-main\">\\n            <div class=\"popup-heading\">\\n                <h2>What kind of Experience do you want to share?</h2>\\n                <div class=\"close-icon share-experience-modal-close\"></div>\\n            </div>\\n            <!-- <span class=\"description\"style=\"color: #BEBEC2;\">Tell us your type of experiences which can help other fellow Geeks for their future events and preparations.</span> -->\\n            <div class=\"experience-card\">\\n                <a class=\"exp-card5\" href= \"https://write.geeksforgeeks.org/posts-new?cid=e8fc46fe-75e7-4a4b-be3c-0c862d655ed0\" target=\"_blank\">\\n                    <div class=\"icon5\">\\n                        <div class=\"icon5-image\"></div>\\n                    </div>\\n                    <div class=\"exp-card5-text\">\\n                        <span style=\"color: #000;\">Interview Experiences</span>\\n                    </div>\\n                </a>\\n                <a class=\"exp-card1\" href=\"https://write.geeksforgeeks.org/posts-new?cid=82536bdb-84e6-4661-87c3-e77c3ac04ede\" target=\"_blank\">\\n                    <div class=\"icon1\">\\n                        <div class=\"icon1-image\"></div>\\n                    </div>\\n                    <div class=\"exp-card1-text\">\\n                        <span style=\"color: #000;\">Admission Experiences</span>\\n                    </div>\\n                </a>\\n                <a class=\"exp-card6\" href= \"https://write.geeksforgeeks.org/posts-new?cid=fbed2543-6e40-4f77-b460-e962cc55c315\" target=\"_blank\">\\n                    <div class=\"icon6\">\\n                        <div class=\"icon6-image\"></div>\\n                    </div>\\n                    <div class=\"exp-card6-text\">\\n                        <span style=\"color: #000;\">Engineering Exam Experiences</span>\\n                    </div>\\n                </a>\\n                <a class=\"exp-card2\" href=\"https://write.geeksforgeeks.org/posts-new?cid=22ae3354-15b6-4dd4-a5b4-5c7a105b8a8f\" target=\"_blank\">\\n                    <div class=\"icon2\">\\n                        <div class=\"icon2-image\"></div>\\n                    </div>\\n                    <div class=\"exp-card2-text\">\\n                        <span style=\"color: #000;\">Work Experiences</span>\\n                    </div>\\n                </a>\\n                <a class=\"exp-card3\" href= \"https://write.geeksforgeeks.org/posts-new?cid=c5e1ac90-9490-440a-a5fa-6180c87ab8ae\" target=\"_blank\">\\n                    <div class=\"icon3\">\\n                        <div class=\"icon3-image\"></div>\\n                    </div>\\n                    <div class=\"exp-card3-text\">\\n                        <span style=\"color: #000;\">Campus Experiences</span>\\n                    </div>\\n                </a>\\n                <a class=\"exp-card4\" href= \"https://write.geeksforgeeks.org/#experiences\" target=\"_blank\">\\n                    <div class=\"icon4\">\\n                        <div class=\"icon4-image\"></div>\\n                    </div>\\n                    <div class=\"exp-card4-text\">\\n                        <span style=\"color: #000;\">Add Other Experiences</span>\\n                    </div>\\n                </a>\\n            </div>\\n            <div class=\"link-container-write\">\\n                <a href=\"https://write.geeksforgeeks.org/pick-article?taxonomy=10261&page=1\">\\n                    <div role=\"span\" class=\"phrase__container\">\\n                        Can\\'t choose a topic to write? click here for suggested topics\\n                    </div>\\n                </a>\\n                <a href=\"https://write.geeksforgeeks.org/posts-new\">\\n                    <div role=\"span\" class=\"phrase__container\">\\n                       Write and publish your own Article\\n                    </div>\\n                </a>\\n            </div>\\n        </div>\\n        <div id=\"overlay\" onclick=\"toggleExperiencePopup()\" style=\"display: block;min-height: 100vh;min-width: 100vw;position: fixed;top: 0;bottom: 0;right: 0;left: 0;display: none;justify-content: center;align-items: center;background: rgba(0,0,0,.702);z-index: 1025 !important;backdrop-filter: blur(4px); -webkit-backdrop-filter: blur(4px);word-break: keep-all;\"></div>\\n    </div>\\n\\n    <script>\\n        $(\\'.share-experience-modal\\').click(function(e){\\n            e.preventDefault();\\n            var link = $(this).attr(\\'href\\');\\n            toggleExperiencePopup(link);\\n        });\\n        function toggleExperiencePopup(link) {\\n            var popup = document.getElementById(\"popup\");\\n            var overlay = document.getElementById(\"overlay\");\\n\\n            if (window.innerWidth < 992) {\\n                window.location.href = link;\\n            } else {\\n                popup.style.display = (popup.style.display === \"block\") ? \"none\" : \"block\";\\n                overlay.style.display = (overlay.style.display === \"block\") ? \"none\" : \"block\";\\n            }\\n        }\\n        $(\\'.share-experience-modal-close\\').click(function(e){\\n            var popup = document.getElementById(\"popup\");\\n            popup.style.display = \\'none\\';\\n            var overlay = document.getElementById(\"overlay\");\\n            overlay.style.display = \\'none\\';\\n        });\\n</script>\\n</div></body>\\r\\n</html>\\r\\n\\n<!-- Dynamic page generated in 1.050 seconds. -->\\n<!-- Cached page generated by WP-Super-Cache on 2024-04-08 09:55:21 -->\\n\\n<!-- Compression = gzip -->\\n<!-- super cache -->'\n"
          ]
        }
      ]
    },
    {
      "cell_type": "code",
      "source": [
        "import requests\n",
        "from bs4 import BeautifulSoup\n",
        "\n",
        "URL = \"https://niccs.cisa.gov/cybersecurity-career-resources/vocabulary\"\n",
        "r = requests.get(URL)\n",
        "\n",
        "soup = BeautifulSoup(r.content, 'html5lib') # If this line causes an error, run 'pip install html5lib' or install html5lib\n",
        "# print(soup.prettify())\n",
        "cyber_vocab = r.text"
      ],
      "metadata": {
        "id": "8fNfiV0SrIA1"
      },
      "execution_count": null,
      "outputs": []
    },
    {
      "cell_type": "code",
      "source": [
        "import html2text\n",
        "\n",
        "h = html2text.HTML2Text()\n",
        "# Ignore converting links from HTML\n",
        "h.ignore_links = True\n",
        "cyber_vocab_text = h.handle(cyber_vocab)"
      ],
      "metadata": {
        "id": "O1Po1yAdryHS"
      },
      "execution_count": null,
      "outputs": []
    },
    {
      "cell_type": "code",
      "source": [
        "with open(\"Output.txt\", \"w\") as text_file:\n",
        "    text_file.write(cyber_vocab_text)"
      ],
      "metadata": {
        "id": "s1UJWUq8uDNu"
      },
      "execution_count": null,
      "outputs": []
    },
    {
      "cell_type": "markdown",
      "source": [
        "# Connecting Drive and installing packages"
      ],
      "metadata": {
        "id": "d7CvzRpA4-Dv"
      }
    },
    {
      "cell_type": "code",
      "source": [
        "from google.colab import drive\n",
        "drive.mount('/content/drive')"
      ],
      "metadata": {
        "colab": {
          "base_uri": "https://localhost:8080/"
        },
        "id": "BpusrdEYh3qe",
        "outputId": "d1d67d4c-b7cb-48d5-f8f3-b38e030621fb"
      },
      "execution_count": 1,
      "outputs": [
        {
          "output_type": "stream",
          "name": "stdout",
          "text": [
            "Mounted at /content/drive\n"
          ]
        }
      ]
    },
    {
      "cell_type": "code",
      "source": [
        "#!pip install virtualenv"
      ],
      "metadata": {
        "id": "g5vXWwAvj0Ic"
      },
      "execution_count": null,
      "outputs": []
    },
    {
      "cell_type": "code",
      "source": [
        "#!virtualenv /content/drive/MyDrive/python_virtual_env"
      ],
      "metadata": {
        "id": "pB_R7IoRjS13"
      },
      "execution_count": null,
      "outputs": []
    },
    {
      "cell_type": "code",
      "source": [
        "\n",
        "#!source /content/drive/MyDrive/python_virtual_env/bin/activate; pip install datasets transformers[torch] accelerate -U evaluate numpy pandas"
      ],
      "metadata": {
        "id": "hx00hz_xkXRV"
      },
      "execution_count": null,
      "outputs": []
    },
    {
      "cell_type": "code",
      "source": [
        "import sys\n",
        "# add the path of the virtual environmentsite-packages to colab system path\n",
        "sys.path.append(\"/content/drive/MyDrive/python_virtual_env/lib/python3.10/site-packages\")"
      ],
      "metadata": {
        "id": "zmhGCiS1lZFe"
      },
      "execution_count": 2,
      "outputs": []
    },
    {
      "cell_type": "code",
      "source": [
        "%cd /content/drive/MyDrive/MasterProjectSpring2024/CybermetricTransformers"
      ],
      "metadata": {
        "colab": {
          "base_uri": "https://localhost:8080/"
        },
        "id": "m3_cSmvxiA7d",
        "outputId": "7098bf3b-62ea-4220-a5d8-4f133b185440"
      },
      "execution_count": 3,
      "outputs": [
        {
          "output_type": "stream",
          "name": "stdout",
          "text": [
            "/content/drive/MyDrive/MasterProjectSpring2024/CybermetricTransformers\n"
          ]
        }
      ]
    },
    {
      "cell_type": "code",
      "source": [
        "!pip install accelerate"
      ],
      "metadata": {
        "id": "pj73VTS8ovBW",
        "colab": {
          "base_uri": "https://localhost:8080/"
        },
        "outputId": "a2f9bdbb-9aa5-4f62-b690-0319ee9a71d3"
      },
      "execution_count": 4,
      "outputs": [
        {
          "output_type": "stream",
          "name": "stdout",
          "text": [
            "Collecting accelerate\n",
            "  Downloading accelerate-0.29.2-py3-none-any.whl (297 kB)\n",
            "\u001b[2K     \u001b[90m━━━━━━━━━━━━━━━━━━━━━━━━━━━━━━━━━━━━━━━━\u001b[0m \u001b[32m297.4/297.4 kB\u001b[0m \u001b[31m2.8 MB/s\u001b[0m eta \u001b[36m0:00:00\u001b[0m\n",
            "\u001b[?25hRequirement already satisfied: numpy>=1.17 in /usr/local/lib/python3.10/dist-packages (from accelerate) (1.25.2)\n",
            "Requirement already satisfied: packaging>=20.0 in /usr/local/lib/python3.10/dist-packages (from accelerate) (24.0)\n",
            "Requirement already satisfied: psutil in /usr/local/lib/python3.10/dist-packages (from accelerate) (5.9.5)\n",
            "Requirement already satisfied: pyyaml in /usr/local/lib/python3.10/dist-packages (from accelerate) (6.0.1)\n",
            "Requirement already satisfied: torch>=1.10.0 in /usr/local/lib/python3.10/dist-packages (from accelerate) (2.2.1+cu121)\n",
            "Requirement already satisfied: huggingface-hub in /usr/local/lib/python3.10/dist-packages (from accelerate) (0.20.3)\n",
            "Requirement already satisfied: safetensors>=0.3.1 in /usr/local/lib/python3.10/dist-packages (from accelerate) (0.4.2)\n",
            "Requirement already satisfied: filelock in /usr/local/lib/python3.10/dist-packages (from torch>=1.10.0->accelerate) (3.13.3)\n",
            "Requirement already satisfied: typing-extensions>=4.8.0 in /usr/local/lib/python3.10/dist-packages (from torch>=1.10.0->accelerate) (4.10.0)\n",
            "Requirement already satisfied: sympy in /usr/local/lib/python3.10/dist-packages (from torch>=1.10.0->accelerate) (1.12)\n",
            "Requirement already satisfied: networkx in /usr/local/lib/python3.10/dist-packages (from torch>=1.10.0->accelerate) (3.2.1)\n",
            "Requirement already satisfied: jinja2 in /usr/local/lib/python3.10/dist-packages (from torch>=1.10.0->accelerate) (3.1.3)\n",
            "Requirement already satisfied: fsspec in /usr/local/lib/python3.10/dist-packages (from torch>=1.10.0->accelerate) (2023.6.0)\n",
            "Collecting nvidia-cuda-nvrtc-cu12==12.1.105 (from torch>=1.10.0->accelerate)\n",
            "  Downloading nvidia_cuda_nvrtc_cu12-12.1.105-py3-none-manylinux1_x86_64.whl (23.7 MB)\n",
            "\u001b[2K     \u001b[90m━━━━━━━━━━━━━━━━━━━━━━━━━━━━━━━━━━━━━━━━\u001b[0m \u001b[32m23.7/23.7 MB\u001b[0m \u001b[31m41.0 MB/s\u001b[0m eta \u001b[36m0:00:00\u001b[0m\n",
            "\u001b[?25hCollecting nvidia-cuda-runtime-cu12==12.1.105 (from torch>=1.10.0->accelerate)\n",
            "  Downloading nvidia_cuda_runtime_cu12-12.1.105-py3-none-manylinux1_x86_64.whl (823 kB)\n",
            "\u001b[2K     \u001b[90m━━━━━━━━━━━━━━━━━━━━━━━━━━━━━━━━━━━━━━━━\u001b[0m \u001b[32m823.6/823.6 kB\u001b[0m \u001b[31m56.6 MB/s\u001b[0m eta \u001b[36m0:00:00\u001b[0m\n",
            "\u001b[?25hCollecting nvidia-cuda-cupti-cu12==12.1.105 (from torch>=1.10.0->accelerate)\n",
            "  Downloading nvidia_cuda_cupti_cu12-12.1.105-py3-none-manylinux1_x86_64.whl (14.1 MB)\n",
            "\u001b[2K     \u001b[90m━━━━━━━━━━━━━━━━━━━━━━━━━━━━━━━━━━━━━━━━\u001b[0m \u001b[32m14.1/14.1 MB\u001b[0m \u001b[31m46.7 MB/s\u001b[0m eta \u001b[36m0:00:00\u001b[0m\n",
            "\u001b[?25hCollecting nvidia-cudnn-cu12==8.9.2.26 (from torch>=1.10.0->accelerate)\n",
            "  Downloading nvidia_cudnn_cu12-8.9.2.26-py3-none-manylinux1_x86_64.whl (731.7 MB)\n",
            "\u001b[2K     \u001b[90m━━━━━━━━━━━━━━━━━━━━━━━━━━━━━━━━━━━━━━━━\u001b[0m \u001b[32m731.7/731.7 MB\u001b[0m \u001b[31m874.8 kB/s\u001b[0m eta \u001b[36m0:00:00\u001b[0m\n",
            "\u001b[?25hCollecting nvidia-cublas-cu12==12.1.3.1 (from torch>=1.10.0->accelerate)\n",
            "  Downloading nvidia_cublas_cu12-12.1.3.1-py3-none-manylinux1_x86_64.whl (410.6 MB)\n",
            "\u001b[2K     \u001b[90m━━━━━━━━━━━━━━━━━━━━━━━━━━━━━━━━━━━━━━━━\u001b[0m \u001b[32m410.6/410.6 MB\u001b[0m \u001b[31m2.0 MB/s\u001b[0m eta \u001b[36m0:00:00\u001b[0m\n",
            "\u001b[?25hCollecting nvidia-cufft-cu12==11.0.2.54 (from torch>=1.10.0->accelerate)\n",
            "  Downloading nvidia_cufft_cu12-11.0.2.54-py3-none-manylinux1_x86_64.whl (121.6 MB)\n",
            "\u001b[2K     \u001b[90m━━━━━━━━━━━━━━━━━━━━━━━━━━━━━━━━━━━━━━━━\u001b[0m \u001b[32m121.6/121.6 MB\u001b[0m \u001b[31m2.1 MB/s\u001b[0m eta \u001b[36m0:00:00\u001b[0m\n",
            "\u001b[?25hCollecting nvidia-curand-cu12==10.3.2.106 (from torch>=1.10.0->accelerate)\n",
            "  Downloading nvidia_curand_cu12-10.3.2.106-py3-none-manylinux1_x86_64.whl (56.5 MB)\n",
            "\u001b[2K     \u001b[90m━━━━━━━━━━━━━━━━━━━━━━━━━━━━━━━━━━━━━━━━\u001b[0m \u001b[32m56.5/56.5 MB\u001b[0m \u001b[31m1.9 MB/s\u001b[0m eta \u001b[36m0:00:00\u001b[0m\n",
            "\u001b[?25hCollecting nvidia-cusolver-cu12==11.4.5.107 (from torch>=1.10.0->accelerate)\n",
            "  Downloading nvidia_cusolver_cu12-11.4.5.107-py3-none-manylinux1_x86_64.whl (124.2 MB)\n",
            "\u001b[2K     \u001b[90m━━━━━━━━━━━━━━━━━━━━━━━━━━━━━━━━━━━━━━━━\u001b[0m \u001b[32m124.2/124.2 MB\u001b[0m \u001b[31m1.8 MB/s\u001b[0m eta \u001b[36m0:00:00\u001b[0m\n",
            "\u001b[?25hCollecting nvidia-cusparse-cu12==12.1.0.106 (from torch>=1.10.0->accelerate)\n",
            "  Downloading nvidia_cusparse_cu12-12.1.0.106-py3-none-manylinux1_x86_64.whl (196.0 MB)\n",
            "\u001b[2K     \u001b[90m━━━━━━━━━━━━━━━━━━━━━━━━━━━━━━━━━━━━━━━━\u001b[0m \u001b[32m196.0/196.0 MB\u001b[0m \u001b[31m1.6 MB/s\u001b[0m eta \u001b[36m0:00:00\u001b[0m\n",
            "\u001b[?25hCollecting nvidia-nccl-cu12==2.19.3 (from torch>=1.10.0->accelerate)\n",
            "  Downloading nvidia_nccl_cu12-2.19.3-py3-none-manylinux1_x86_64.whl (166.0 MB)\n",
            "\u001b[2K     \u001b[90m━━━━━━━━━━━━━━━━━━━━━━━━━━━━━━━━━━━━━━━━\u001b[0m \u001b[32m166.0/166.0 MB\u001b[0m \u001b[31m2.1 MB/s\u001b[0m eta \u001b[36m0:00:00\u001b[0m\n",
            "\u001b[?25hCollecting nvidia-nvtx-cu12==12.1.105 (from torch>=1.10.0->accelerate)\n",
            "  Downloading nvidia_nvtx_cu12-12.1.105-py3-none-manylinux1_x86_64.whl (99 kB)\n",
            "\u001b[2K     \u001b[90m━━━━━━━━━━━━━━━━━━━━━━━━━━━━━━━━━━━━━━━━\u001b[0m \u001b[32m99.1/99.1 kB\u001b[0m \u001b[31m2.4 MB/s\u001b[0m eta \u001b[36m0:00:00\u001b[0m\n",
            "\u001b[?25hRequirement already satisfied: triton==2.2.0 in /usr/local/lib/python3.10/dist-packages (from torch>=1.10.0->accelerate) (2.2.0)\n",
            "Collecting nvidia-nvjitlink-cu12 (from nvidia-cusolver-cu12==11.4.5.107->torch>=1.10.0->accelerate)\n",
            "  Downloading nvidia_nvjitlink_cu12-12.4.127-py3-none-manylinux2014_x86_64.whl (21.1 MB)\n",
            "\u001b[2K     \u001b[90m━━━━━━━━━━━━━━━━━━━━━━━━━━━━━━━━━━━━━━━━\u001b[0m \u001b[32m21.1/21.1 MB\u001b[0m \u001b[31m2.4 MB/s\u001b[0m eta \u001b[36m0:00:00\u001b[0m\n",
            "\u001b[?25hRequirement already satisfied: requests in /usr/local/lib/python3.10/dist-packages (from huggingface-hub->accelerate) (2.31.0)\n",
            "Requirement already satisfied: tqdm>=4.42.1 in /usr/local/lib/python3.10/dist-packages (from huggingface-hub->accelerate) (4.66.2)\n",
            "Requirement already satisfied: MarkupSafe>=2.0 in /usr/local/lib/python3.10/dist-packages (from jinja2->torch>=1.10.0->accelerate) (2.1.5)\n",
            "Requirement already satisfied: charset-normalizer<4,>=2 in /usr/local/lib/python3.10/dist-packages (from requests->huggingface-hub->accelerate) (3.3.2)\n",
            "Requirement already satisfied: idna<4,>=2.5 in /usr/local/lib/python3.10/dist-packages (from requests->huggingface-hub->accelerate) (3.6)\n",
            "Requirement already satisfied: urllib3<3,>=1.21.1 in /usr/local/lib/python3.10/dist-packages (from requests->huggingface-hub->accelerate) (2.0.7)\n",
            "Requirement already satisfied: certifi>=2017.4.17 in /usr/local/lib/python3.10/dist-packages (from requests->huggingface-hub->accelerate) (2024.2.2)\n",
            "Requirement already satisfied: mpmath>=0.19 in /usr/local/lib/python3.10/dist-packages (from sympy->torch>=1.10.0->accelerate) (1.3.0)\n",
            "Installing collected packages: nvidia-nvtx-cu12, nvidia-nvjitlink-cu12, nvidia-nccl-cu12, nvidia-curand-cu12, nvidia-cufft-cu12, nvidia-cuda-runtime-cu12, nvidia-cuda-nvrtc-cu12, nvidia-cuda-cupti-cu12, nvidia-cublas-cu12, nvidia-cusparse-cu12, nvidia-cudnn-cu12, nvidia-cusolver-cu12, accelerate\n",
            "Successfully installed accelerate-0.29.2 nvidia-cublas-cu12-12.1.3.1 nvidia-cuda-cupti-cu12-12.1.105 nvidia-cuda-nvrtc-cu12-12.1.105 nvidia-cuda-runtime-cu12-12.1.105 nvidia-cudnn-cu12-8.9.2.26 nvidia-cufft-cu12-11.0.2.54 nvidia-curand-cu12-10.3.2.106 nvidia-cusolver-cu12-11.4.5.107 nvidia-cusparse-cu12-12.1.0.106 nvidia-nccl-cu12-2.19.3 nvidia-nvjitlink-cu12-12.4.127 nvidia-nvtx-cu12-12.1.105\n"
          ]
        }
      ]
    },
    {
      "cell_type": "code",
      "source": [
        "!pip show transformers"
      ],
      "metadata": {
        "colab": {
          "base_uri": "https://localhost:8080/"
        },
        "id": "m_INY_IUIrir",
        "outputId": "ab469637-8216-4d09-b439-cd3a87063019"
      },
      "execution_count": null,
      "outputs": [
        {
          "output_type": "stream",
          "name": "stdout",
          "text": [
            "Name: transformers\n",
            "Version: 4.38.2\n",
            "Summary: State-of-the-art Machine Learning for JAX, PyTorch and TensorFlow\n",
            "Home-page: https://github.com/huggingface/transformers\n",
            "Author: The Hugging Face team (past and future) with the help of all our contributors (https://github.com/huggingface/transformers/graphs/contributors)\n",
            "Author-email: transformers@huggingface.co\n",
            "License: Apache 2.0 License\n",
            "Location: /usr/local/lib/python3.10/dist-packages\n",
            "Requires: filelock, huggingface-hub, numpy, packaging, pyyaml, regex, requests, safetensors, tokenizers, tqdm\n",
            "Required-by: \n"
          ]
        }
      ]
    },
    {
      "cell_type": "code",
      "source": [
        "!pip install evaluate"
      ],
      "metadata": {
        "id": "wfUe6pmiACyw",
        "colab": {
          "base_uri": "https://localhost:8080/"
        },
        "outputId": "7e91909e-ab62-402e-ee6f-30d44f9459a0"
      },
      "execution_count": 5,
      "outputs": [
        {
          "output_type": "stream",
          "name": "stdout",
          "text": [
            "Collecting evaluate\n",
            "  Downloading evaluate-0.4.1-py3-none-any.whl (84 kB)\n",
            "\u001b[2K     \u001b[90m━━━━━━━━━━━━━━━━━━━━━━━━━━━━━━━━━━━━━━━━\u001b[0m \u001b[32m84.1/84.1 kB\u001b[0m \u001b[31m1.2 MB/s\u001b[0m eta \u001b[36m0:00:00\u001b[0m\n",
            "\u001b[?25hCollecting datasets>=2.0.0 (from evaluate)\n",
            "  Downloading datasets-2.18.0-py3-none-any.whl (510 kB)\n",
            "\u001b[2K     \u001b[90m━━━━━━━━━━━━━━━━━━━━━━━━━━━━━━━━━━━━━━━━\u001b[0m \u001b[32m510.5/510.5 kB\u001b[0m \u001b[31m7.1 MB/s\u001b[0m eta \u001b[36m0:00:00\u001b[0m\n",
            "\u001b[?25hRequirement already satisfied: numpy>=1.17 in /usr/local/lib/python3.10/dist-packages (from evaluate) (1.25.2)\n",
            "Collecting dill (from evaluate)\n",
            "  Downloading dill-0.3.8-py3-none-any.whl (116 kB)\n",
            "\u001b[2K     \u001b[90m━━━━━━━━━━━━━━━━━━━━━━━━━━━━━━━━━━━━━━━━\u001b[0m \u001b[32m116.3/116.3 kB\u001b[0m \u001b[31m7.7 MB/s\u001b[0m eta \u001b[36m0:00:00\u001b[0m\n",
            "\u001b[?25hRequirement already satisfied: pandas in /usr/local/lib/python3.10/dist-packages (from evaluate) (2.0.3)\n",
            "Requirement already satisfied: requests>=2.19.0 in /usr/local/lib/python3.10/dist-packages (from evaluate) (2.31.0)\n",
            "Requirement already satisfied: tqdm>=4.62.1 in /usr/local/lib/python3.10/dist-packages (from evaluate) (4.66.2)\n",
            "Collecting xxhash (from evaluate)\n",
            "  Downloading xxhash-3.4.1-cp310-cp310-manylinux_2_17_x86_64.manylinux2014_x86_64.whl (194 kB)\n",
            "\u001b[2K     \u001b[90m━━━━━━━━━━━━━━━━━━━━━━━━━━━━━━━━━━━━━━━━\u001b[0m \u001b[32m194.1/194.1 kB\u001b[0m \u001b[31m7.6 MB/s\u001b[0m eta \u001b[36m0:00:00\u001b[0m\n",
            "\u001b[?25hCollecting multiprocess (from evaluate)\n",
            "  Downloading multiprocess-0.70.16-py310-none-any.whl (134 kB)\n",
            "\u001b[2K     \u001b[90m━━━━━━━━━━━━━━━━━━━━━━━━━━━━━━━━━━━━━━━━\u001b[0m \u001b[32m134.8/134.8 kB\u001b[0m \u001b[31m15.8 MB/s\u001b[0m eta \u001b[36m0:00:00\u001b[0m\n",
            "\u001b[?25hRequirement already satisfied: fsspec[http]>=2021.05.0 in /usr/local/lib/python3.10/dist-packages (from evaluate) (2023.6.0)\n",
            "Requirement already satisfied: huggingface-hub>=0.7.0 in /usr/local/lib/python3.10/dist-packages (from evaluate) (0.20.3)\n",
            "Requirement already satisfied: packaging in /usr/local/lib/python3.10/dist-packages (from evaluate) (24.0)\n",
            "Collecting responses<0.19 (from evaluate)\n",
            "  Downloading responses-0.18.0-py3-none-any.whl (38 kB)\n",
            "Requirement already satisfied: filelock in /usr/local/lib/python3.10/dist-packages (from datasets>=2.0.0->evaluate) (3.13.3)\n",
            "Requirement already satisfied: pyarrow>=12.0.0 in /usr/local/lib/python3.10/dist-packages (from datasets>=2.0.0->evaluate) (14.0.2)\n",
            "Requirement already satisfied: pyarrow-hotfix in /usr/local/lib/python3.10/dist-packages (from datasets>=2.0.0->evaluate) (0.6)\n",
            "Requirement already satisfied: aiohttp in /usr/local/lib/python3.10/dist-packages (from datasets>=2.0.0->evaluate) (3.9.3)\n",
            "Requirement already satisfied: pyyaml>=5.1 in /usr/local/lib/python3.10/dist-packages (from datasets>=2.0.0->evaluate) (6.0.1)\n",
            "Requirement already satisfied: typing-extensions>=3.7.4.3 in /usr/local/lib/python3.10/dist-packages (from huggingface-hub>=0.7.0->evaluate) (4.10.0)\n",
            "Requirement already satisfied: charset-normalizer<4,>=2 in /usr/local/lib/python3.10/dist-packages (from requests>=2.19.0->evaluate) (3.3.2)\n",
            "Requirement already satisfied: idna<4,>=2.5 in /usr/local/lib/python3.10/dist-packages (from requests>=2.19.0->evaluate) (3.6)\n",
            "Requirement already satisfied: urllib3<3,>=1.21.1 in /usr/local/lib/python3.10/dist-packages (from requests>=2.19.0->evaluate) (2.0.7)\n",
            "Requirement already satisfied: certifi>=2017.4.17 in /usr/local/lib/python3.10/dist-packages (from requests>=2.19.0->evaluate) (2024.2.2)\n",
            "Requirement already satisfied: python-dateutil>=2.8.2 in /usr/local/lib/python3.10/dist-packages (from pandas->evaluate) (2.8.2)\n",
            "Requirement already satisfied: pytz>=2020.1 in /usr/local/lib/python3.10/dist-packages (from pandas->evaluate) (2023.4)\n",
            "Requirement already satisfied: tzdata>=2022.1 in /usr/local/lib/python3.10/dist-packages (from pandas->evaluate) (2024.1)\n",
            "Requirement already satisfied: aiosignal>=1.1.2 in /usr/local/lib/python3.10/dist-packages (from aiohttp->datasets>=2.0.0->evaluate) (1.3.1)\n",
            "Requirement already satisfied: attrs>=17.3.0 in /usr/local/lib/python3.10/dist-packages (from aiohttp->datasets>=2.0.0->evaluate) (23.2.0)\n",
            "Requirement already satisfied: frozenlist>=1.1.1 in /usr/local/lib/python3.10/dist-packages (from aiohttp->datasets>=2.0.0->evaluate) (1.4.1)\n",
            "Requirement already satisfied: multidict<7.0,>=4.5 in /usr/local/lib/python3.10/dist-packages (from aiohttp->datasets>=2.0.0->evaluate) (6.0.5)\n",
            "Requirement already satisfied: yarl<2.0,>=1.0 in /usr/local/lib/python3.10/dist-packages (from aiohttp->datasets>=2.0.0->evaluate) (1.9.4)\n",
            "Requirement already satisfied: async-timeout<5.0,>=4.0 in /usr/local/lib/python3.10/dist-packages (from aiohttp->datasets>=2.0.0->evaluate) (4.0.3)\n",
            "Requirement already satisfied: six>=1.5 in /usr/local/lib/python3.10/dist-packages (from python-dateutil>=2.8.2->pandas->evaluate) (1.16.0)\n",
            "Installing collected packages: xxhash, dill, responses, multiprocess, datasets, evaluate\n",
            "Successfully installed datasets-2.18.0 dill-0.3.8 evaluate-0.4.1 multiprocess-0.70.16 responses-0.18.0 xxhash-3.4.1\n"
          ]
        }
      ]
    },
    {
      "cell_type": "code",
      "source": [
        "!pip install transformers==4.30"
      ],
      "metadata": {
        "colab": {
          "base_uri": "https://localhost:8080/"
        },
        "id": "LhRgCWYsM1v8",
        "outputId": "b8148947-7307-461d-e0ce-3272d4d49d03"
      },
      "execution_count": 6,
      "outputs": [
        {
          "output_type": "stream",
          "name": "stdout",
          "text": [
            "Collecting transformers==4.30\n",
            "  Downloading transformers-4.30.0-py3-none-any.whl (7.2 MB)\n",
            "\u001b[2K     \u001b[90m━━━━━━━━━━━━━━━━━━━━━━━━━━━━━━━━━━━━━━━━\u001b[0m \u001b[32m7.2/7.2 MB\u001b[0m \u001b[31m1.3 MB/s\u001b[0m eta \u001b[36m0:00:00\u001b[0m\n",
            "\u001b[?25hRequirement already satisfied: filelock in /usr/local/lib/python3.10/dist-packages (from transformers==4.30) (3.13.3)\n",
            "Requirement already satisfied: huggingface-hub<1.0,>=0.14.1 in /usr/local/lib/python3.10/dist-packages (from transformers==4.30) (0.20.3)\n",
            "Requirement already satisfied: numpy>=1.17 in /usr/local/lib/python3.10/dist-packages (from transformers==4.30) (1.25.2)\n",
            "Requirement already satisfied: packaging>=20.0 in /usr/local/lib/python3.10/dist-packages (from transformers==4.30) (24.0)\n",
            "Requirement already satisfied: pyyaml>=5.1 in /usr/local/lib/python3.10/dist-packages (from transformers==4.30) (6.0.1)\n",
            "Requirement already satisfied: regex!=2019.12.17 in /usr/local/lib/python3.10/dist-packages (from transformers==4.30) (2023.12.25)\n",
            "Requirement already satisfied: requests in /usr/local/lib/python3.10/dist-packages (from transformers==4.30) (2.31.0)\n",
            "Collecting tokenizers!=0.11.3,<0.14,>=0.11.1 (from transformers==4.30)\n",
            "  Downloading tokenizers-0.13.3-cp310-cp310-manylinux_2_17_x86_64.manylinux2014_x86_64.whl (7.8 MB)\n",
            "\u001b[2K     \u001b[90m━━━━━━━━━━━━━━━━━━━━━━━━━━━━━━━━━━━━━━━━\u001b[0m \u001b[32m7.8/7.8 MB\u001b[0m \u001b[31m1.6 MB/s\u001b[0m eta \u001b[36m0:00:00\u001b[0m\n",
            "\u001b[?25hRequirement already satisfied: safetensors>=0.3.1 in /usr/local/lib/python3.10/dist-packages (from transformers==4.30) (0.4.2)\n",
            "Requirement already satisfied: tqdm>=4.27 in /usr/local/lib/python3.10/dist-packages (from transformers==4.30) (4.66.2)\n",
            "Requirement already satisfied: fsspec>=2023.5.0 in /usr/local/lib/python3.10/dist-packages (from huggingface-hub<1.0,>=0.14.1->transformers==4.30) (2023.6.0)\n",
            "Requirement already satisfied: typing-extensions>=3.7.4.3 in /usr/local/lib/python3.10/dist-packages (from huggingface-hub<1.0,>=0.14.1->transformers==4.30) (4.10.0)\n",
            "Requirement already satisfied: charset-normalizer<4,>=2 in /usr/local/lib/python3.10/dist-packages (from requests->transformers==4.30) (3.3.2)\n",
            "Requirement already satisfied: idna<4,>=2.5 in /usr/local/lib/python3.10/dist-packages (from requests->transformers==4.30) (3.6)\n",
            "Requirement already satisfied: urllib3<3,>=1.21.1 in /usr/local/lib/python3.10/dist-packages (from requests->transformers==4.30) (2.0.7)\n",
            "Requirement already satisfied: certifi>=2017.4.17 in /usr/local/lib/python3.10/dist-packages (from requests->transformers==4.30) (2024.2.2)\n",
            "Installing collected packages: tokenizers, transformers\n",
            "  Attempting uninstall: tokenizers\n",
            "    Found existing installation: tokenizers 0.15.2\n",
            "    Uninstalling tokenizers-0.15.2:\n",
            "      Successfully uninstalled tokenizers-0.15.2\n",
            "  Attempting uninstall: transformers\n",
            "    Found existing installation: transformers 4.38.2\n",
            "    Uninstalling transformers-4.38.2:\n",
            "      Successfully uninstalled transformers-4.38.2\n",
            "Successfully installed tokenizers-0.13.3 transformers-4.30.0\n"
          ]
        }
      ]
    },
    {
      "cell_type": "markdown",
      "source": [
        "# Adding Tokens"
      ],
      "metadata": {
        "id": "yrF0D9YS8aqD"
      }
    },
    {
      "cell_type": "code",
      "execution_count": 7,
      "metadata": {
        "id": "8qt4CsXFhzWj"
      },
      "outputs": [],
      "source": [
        "import transformers\n",
        "from transformers import AutoTokenizer, AutoModelForSequenceClassification, DataCollatorWithPadding, Trainer, TrainingArguments\n",
        "import evaluate\n",
        "import numpy as np\n",
        "import random\n",
        "from datasets import load_metric, load_dataset\n",
        "from transformers import RobertaForMultipleChoice\n",
        "import torch\n"
      ]
    },
    {
      "cell_type": "markdown",
      "source": [
        "# Part 1"
      ],
      "metadata": {
        "id": "1-8XThlKvuje"
      }
    },
    {
      "cell_type": "code",
      "source": [
        "with open(\"Modified_cyber_vocal_file.txt\", \"r\") as text_file:\n",
        "    cyber_text = text_file.read()"
      ],
      "metadata": {
        "id": "gWFuaL9f7_01"
      },
      "execution_count": 13,
      "outputs": []
    },
    {
      "cell_type": "code",
      "source": [
        "#Converting cyber_text to list of strings\n",
        "import re\n",
        "text = re.sub(r'[^a-zA-Z\\s]', '', cyber_text)\n",
        "vocab = list(set(text.split()))\n",
        "vocab = [word for word in vocab if len(word) > 2]\n",
        "len(vocab)"
      ],
      "metadata": {
        "colab": {
          "base_uri": "https://localhost:8080/"
        },
        "id": "G6ILHn4bDG-H",
        "outputId": "601143f4-f8b6-4e7d-a0ad-34f826159ce6"
      },
      "execution_count": 31,
      "outputs": [
        {
          "output_type": "execute_result",
          "data": {
            "text/plain": [
              "2353"
            ]
          },
          "metadata": {},
          "execution_count": 31
        }
      ]
    },
    {
      "cell_type": "code",
      "source": [
        "from transformers import AutoTokenizer, BertForMultipleChoice\n",
        "model = BertForMultipleChoice.from_pretrained(\"google-bert/bert-base-uncased\")\n",
        "tokenizer = AutoTokenizer.from_pretrained(\"google-bert/bert-base-uncased\")"
      ],
      "metadata": {
        "colab": {
          "base_uri": "https://localhost:8080/",
          "height": 284,
          "referenced_widgets": [
            "0699fc938076430181a0e9e433b5e4da",
            "eec5127db92b42afb1801e457b9c0948",
            "7aa54441800b474c8acd71cb435e318f",
            "ee062151aad94f7d98ae7fa33c085171",
            "4f612d5af838424e9b8447533bb5df52",
            "39e2aa32ebec496ebea80bbd6977f2ac",
            "8e0dd9fc168e4ebe894494ab8ac90053",
            "f1fce80b994e4f37ba5cf2c2650e4c4a",
            "4fd78e1a463045a18860ef21797962b3",
            "f8bef9867cde4c86a37e92b36794aaf8",
            "0a04f8f56acd475d8d559be63394d4ac",
            "727b41c2af4740bcbb4958a26b225ba4",
            "e9caf04075fc41aca3e6c3696ebae37e",
            "fc8623f828a142c0bc23f1d69a5b9457",
            "25a316018e0c46c08e1a5bf54739c1bd",
            "1ebc52ee60e24c23a2bb1d904d5db03b",
            "52ede004d3a04463ad3a18e5bc56b0d8",
            "fa11ec4d061e4a0d99a627c94cc3f2b3",
            "a595967bacc64f57917e411062a2b159",
            "b4c86123778b45bcb31f4e613142da5e",
            "d335161e980d464d9ddec49546e22f34",
            "0fe092cae1ce44009d117fce59c6c03e",
            "0d0adf6c286b4e979f7ddc71aa3228cc",
            "97fe6e2fc0ff45e68d13546fadcb57f1",
            "39ad662c4a1c4fcdb799ac14590d03ff",
            "5217ab3a8fcc4ac6836aba4d60737f5b",
            "32ec6011fd444673bce55d754f0a096b",
            "6d52bb4e234149f2bc3663dfe721a133",
            "e5ae0b6463034f5e864027d1c5389973",
            "3c2e5afc6bf94060bfe49eb6b7956bb1",
            "e7fdc97c7199499e8777bed5f01427c1",
            "1514217d5204428491faac9997d4afb6",
            "cab004cfaa2f41c791afe2c441680bd6",
            "a81d0b2049854497927a17012abc3236",
            "d445b1b37daf486ab11e3db756aba684",
            "2f9bdbd6f761484f81b2a8e930916446",
            "4f3beb74b41f4809baa1dcc4c3213475",
            "6c022d5da0694f59ae98b9e9cf75c97b",
            "4dce5ebaded3441bbd183455af1ec6f6",
            "0eb65261cad24fbcaae36dc85a55909f",
            "86f757b9861542dca3fbf2a59f1ed8d9",
            "6bca786c685a47ff88f70e679f6f8a42",
            "a0a38df7db8140bc9a9301591d21acc8",
            "f69f9cba6777477abbbcd0325fd61657",
            "b331176e1d3c40cbb9915451561e0298",
            "21a4b681c5c34d2aaedb3a6bfc076030",
            "83d28926e90240e492b620fe5cefcb1a",
            "c1cf573862ad4194bb639e871c8dddea",
            "85bff4f63d0049e39452a28ad55d993a",
            "8fd71338a7a14718a818ad469daab036",
            "5a6efc4e1a5d43cb8923e2faf94373a7",
            "87e58565b4c64f73969e16c2ead83bff",
            "ab2d10bda545481bace48910cefb9989",
            "3bb685fb2f1c4746b5de1f8e31ad7701",
            "5e6e5c28e90c4c6eac0ea24e3afce982"
          ]
        },
        "id": "xL97isV8wULR",
        "outputId": "e634fd65-3d90-4e81-c744-9651e3278faf"
      },
      "execution_count": 32,
      "outputs": [
        {
          "output_type": "display_data",
          "data": {
            "text/plain": [
              "config.json:   0%|          | 0.00/570 [00:00<?, ?B/s]"
            ],
            "application/vnd.jupyter.widget-view+json": {
              "version_major": 2,
              "version_minor": 0,
              "model_id": "0699fc938076430181a0e9e433b5e4da"
            }
          },
          "metadata": {}
        },
        {
          "output_type": "display_data",
          "data": {
            "text/plain": [
              "model.safetensors:   0%|          | 0.00/440M [00:00<?, ?B/s]"
            ],
            "application/vnd.jupyter.widget-view+json": {
              "version_major": 2,
              "version_minor": 0,
              "model_id": "727b41c2af4740bcbb4958a26b225ba4"
            }
          },
          "metadata": {}
        },
        {
          "output_type": "stream",
          "name": "stderr",
          "text": [
            "Some weights of the model checkpoint at google-bert/bert-base-uncased were not used when initializing BertForMultipleChoice: ['cls.predictions.transform.LayerNorm.weight', 'cls.seq_relationship.weight', 'cls.predictions.transform.dense.bias', 'cls.predictions.bias', 'cls.predictions.transform.dense.weight', 'cls.seq_relationship.bias', 'cls.predictions.transform.LayerNorm.bias']\n",
            "- This IS expected if you are initializing BertForMultipleChoice from the checkpoint of a model trained on another task or with another architecture (e.g. initializing a BertForSequenceClassification model from a BertForPreTraining model).\n",
            "- This IS NOT expected if you are initializing BertForMultipleChoice from the checkpoint of a model that you expect to be exactly identical (initializing a BertForSequenceClassification model from a BertForSequenceClassification model).\n",
            "Some weights of BertForMultipleChoice were not initialized from the model checkpoint at google-bert/bert-base-uncased and are newly initialized: ['classifier.bias', 'classifier.weight']\n",
            "You should probably TRAIN this model on a down-stream task to be able to use it for predictions and inference.\n"
          ]
        },
        {
          "output_type": "display_data",
          "data": {
            "text/plain": [
              "tokenizer_config.json:   0%|          | 0.00/48.0 [00:00<?, ?B/s]"
            ],
            "application/vnd.jupyter.widget-view+json": {
              "version_major": 2,
              "version_minor": 0,
              "model_id": "0d0adf6c286b4e979f7ddc71aa3228cc"
            }
          },
          "metadata": {}
        },
        {
          "output_type": "display_data",
          "data": {
            "text/plain": [
              "vocab.txt:   0%|          | 0.00/232k [00:00<?, ?B/s]"
            ],
            "application/vnd.jupyter.widget-view+json": {
              "version_major": 2,
              "version_minor": 0,
              "model_id": "a81d0b2049854497927a17012abc3236"
            }
          },
          "metadata": {}
        },
        {
          "output_type": "display_data",
          "data": {
            "text/plain": [
              "tokenizer.json:   0%|          | 0.00/466k [00:00<?, ?B/s]"
            ],
            "application/vnd.jupyter.widget-view+json": {
              "version_major": 2,
              "version_minor": 0,
              "model_id": "b331176e1d3c40cbb9915451561e0298"
            }
          },
          "metadata": {}
        }
      ]
    },
    {
      "cell_type": "code",
      "source": [
        "print(len(tokenizer))\n",
        "tokenizer.add_tokens(vocab)\n",
        "print(len(tokenizer))"
      ],
      "metadata": {
        "id": "RWqBnywfvhU6",
        "colab": {
          "base_uri": "https://localhost:8080/"
        },
        "outputId": "46261dab-1326-481d-fe87-f13f4d48516e"
      },
      "execution_count": 33,
      "outputs": [
        {
          "output_type": "stream",
          "name": "stdout",
          "text": [
            "30522\n",
            "31437\n"
          ]
        }
      ]
    },
    {
      "cell_type": "code",
      "source": [
        "model.resize_token_embeddings(len(tokenizer))"
      ],
      "metadata": {
        "colab": {
          "base_uri": "https://localhost:8080/"
        },
        "id": "FNe4qOkKKY9R",
        "outputId": "f18f88e1-e5c6-4f78-b991-5497ccdcdef9"
      },
      "execution_count": 34,
      "outputs": [
        {
          "output_type": "execute_result",
          "data": {
            "text/plain": [
              "Embedding(31437, 768)"
            ]
          },
          "metadata": {},
          "execution_count": 34
        }
      ]
    },
    {
      "cell_type": "markdown",
      "source": [
        "# Part 2"
      ],
      "metadata": {
        "id": "GUVJ80QXvfXO"
      }
    },
    {
      "cell_type": "code",
      "source": [
        "# Part 2\n",
        "\n",
        "model2 = BertForMultipleChoice.from_pretrained(\"google-bert/bert-base-uncased\")\n",
        "tokenizer2 = AutoTokenizer.from_pretrained(\"google-bert/bert-base-uncased\")\n",
        "\n",
        "with open(\"CyberMetric-10000-v1.json\", \"r\") as text_file500:\n",
        "    cyber_text_500 = text_file500.read()\n",
        "\n",
        "text_500 = re.sub(r'[^a-zA-Z\\s]', '', cyber_text_500)\n",
        "vocab_500 = list(set(text_500.split()))\n",
        "vocab_500 = [word for word in vocab_500 if len(word) > 2]\n",
        "print(vocab_500)\n",
        "print(len(tokenizer2))\n",
        "tokenizer2.add_tokens(vocab_500)\n",
        "print(len(tokenizer2))\n",
        "\n",
        "model2.resize_token_embeddings(len(tokenizer2))"
      ],
      "metadata": {
        "colab": {
          "base_uri": "https://localhost:8080/"
        },
        "id": "rYpORIYzvZD8",
        "outputId": "613e3252-8a68-4c80-9aff-80ecc1f3a0f8"
      },
      "execution_count": 79,
      "outputs": [
        {
          "output_type": "stream",
          "name": "stderr",
          "text": [
            "Some weights of the model checkpoint at google-bert/bert-base-uncased were not used when initializing BertForMultipleChoice: ['cls.predictions.transform.LayerNorm.weight', 'cls.seq_relationship.weight', 'cls.predictions.transform.dense.bias', 'cls.predictions.bias', 'cls.predictions.transform.dense.weight', 'cls.seq_relationship.bias', 'cls.predictions.transform.LayerNorm.bias']\n",
            "- This IS expected if you are initializing BertForMultipleChoice from the checkpoint of a model trained on another task or with another architecture (e.g. initializing a BertForSequenceClassification model from a BertForPreTraining model).\n",
            "- This IS NOT expected if you are initializing BertForMultipleChoice from the checkpoint of a model that you expect to be exactly identical (initializing a BertForSequenceClassification model from a BertForSequenceClassification model).\n",
            "Some weights of BertForMultipleChoice were not initialized from the model checkpoint at google-bert/bert-base-uncased and are newly initialized: ['classifier.bias', 'classifier.weight']\n",
            "You should probably TRAIN this model on a down-stream task to be able to use it for predictions and inference.\n"
          ]
        },
        {
          "output_type": "stream",
          "name": "stdout",
          "text": [
            "['irrespective', 'final', 'duplicates', 'Forwarding', 'Includes', 'star', 'Infiltrator', 'attractive', 'facilities', 'deleted', 'SASD', 'Makes', 'nourishment', 'never', 'react', 'significance', 'Clamping', 'Permutationonly', 'CCEVS', 'Cyberphysical', 'shutdown', 'feedbackandresponse', 'Exchanges', 'Leak', 'performances', 'AirCrackng', 'HKEYLOCALMACHINESoftwareMicrosoftWindowsCurrentVersionShellServiceObjectDelayLoad', 'DNS', 'hospital', 'acronyms', 'timecritical', 'fax', 'Statechart', 'Another', 'instability', 'booklet', 'signin', 'Extra', 'optimizes', 'PseudoFlaws', 'Complying', 'cues', 'discussed', 'shifts', 'LEAST', 'All', 'Reflection', 'faults', 'reminder', 'configures', 'zombie', 'backward', 'voterverifiable', 'offsite', 'Industry', 'importance', 'Expected', 'begin', 'bruteforcing', 'Res', 'centralised', 'FiercePhish', 'distributions', 'difficulty', 'dictate', 'leakage', 'particular', 'topologies', 'Guide', 'hidden', 'domain', 'ToS', 'unaware', 'certify', 'singleuse', 'infringements', 'Lastmatch', 'gap', 'Colocation', 'LFSR', 'scripting', 'PDUs', 'Probe', 'YAGNI', 'Noncontent', 'User', 'Cyberspace', 'inadequacies', 'organelles', 'egg', 'convenience', 'scientists', 'instinct', 'Central', 'Mpqr', 'thirdpartys', 'departing', 'Firewalk', 'bestcase', 'Speech', 'Behind', 'Pont', 'aliases', 'propagation', 'retaliate', 'Utility', 'Phlashing', 'period', 'first', 'letter', 'SLAs', 'SSO', 'Wifiphisher', 'radio', 'Term', 'Feedback', 'InvSubByte', 'unblocking', 'shuffling', 'Microservice', 'Accepts', 'secluded', 'Reviewing', 'NVT', 'Replication', 'answer', 'eliminating', 'Acceptance', 'website', 'completeness', 'Linux', 'webhtml', 'Lambs', 'RMI', 'Internet', 'advocating', 'clientKDC', 'appears', 'influencing', 'ECCbased', 'Portbased', 'Certificatebased', 'prisoners', 'Establish', 'Portability', 'aging', 'Centralization', 'Hacktivism', 'Earthquakeland', 'Deencapsulation', 'resumed', 'Shred', 'constructs', 'NICE', 'networked', 'Homeland', 'Sentencing', 'Label', 'guidance', 'calculation', 'PCI', 'Downgrading', 'Polling', 'queries', 'Galios', 'jobs', 'indicator', 'terminating', 'TMSI', 'entail', 'each', 'networkingEstablishing', 'signaturebased', 'numbers', 'messy', 'synchronizes', 'FIN', 'communities', 'residential', 'Followup', 'cidX', 'onetomany', 'PKI', 'SSHprotoversionsoftwareversion', 'Intaglio', 'Restricting', 'integritychecking', 'Governing', 'Productivity', 'Advancements', 'duties', 'Impressions', 'standardizing', 'Visio', 'MiGintheMiddle', 'Readonly', 'working', 'dropping', 'mediation', 'RSC', 'multifunction', 'Containers', 'Goal', 'connected', 'semaphores', 'Parameterized', 'forgers', 'West', 'actually', 'side', 'VLR', 'prohibit', 'inserted', 'Leased', 'Calendar', 'COMS', 'Capabilities', 'databases', 'Standby', 'vehicle', 'Denialofservice', 'Almost', 'Harvesting', 'fielded', 'wrappers', 'Ambient', 'contractual', 'Trace', 'CoBIT', 'eGold', 'vulnerable', 'officials', 'overclassification', 'Trigonometry', 'blame', 'Desktop', 'impact', 'Profile', 'Grammarbased', 'hacking', 'replies', 'Gatekeeper', 'Heartbleed', 'compresses', 'WPALEAP', 'maturation', 'Azure', 'wellestablished', 'term', 'clicking', 'twisted', 'singlesignon', 'trunks', 'Agencydeveloped', 'Keccak', 'Practical', 'circumstance', 'psychological', 'exigent', 'impair', 'Mauborgne', 'collapse', 'Markup', 'Unencrypted', 'varlogsyslog', 'Physically', 'Order', 'Nonphysical', 'Resolves', 'HKEYLOCALMACHINESoftwareMicrosoftWindowsNTCurrentVersionWindowsAppInitDLLs', 'understand', 'Library', 'WiFienabled', 'RIB', 'informing', 'faster', 'insecure', 'remains', 'faulttolerant', 'Vaulting', 'procurement', 'Superscalar', 'CVEcompatible', 'Adaptive', 'circular', 'patrons', 'laboratory', 'Incompatibility', 'telecommuters', 'cooling', 'Journaling', 'permits', 'enable', 'Disgruntled', 'foundations', 'Pages', 'CWindowsSystemDriversConfig', 'assignments', 'fingerd', 'Conict', 'cut', 'Assuming', 'Manage', 'tower', 'onboarding', 'egress', 'Modify', 'Rotating', 'leveraging', 'SLA', 'Cybersecurity', 'elimination', 'subscribed', 'Translating', 'Limiting', 'unmanageable', 'passphrases', 'Cloudbased', 'Temporal', 'commission', 'Transposition', 'Register', 'Baselining', 'opposition', 'Unbreakable', 'iso', 'Decreases', 'Equivalence', 'trademarks', 'Delete', 'behaving', 'restricting', 'policies', 'centralized', 'delay', 'interested', 'Causing', 'abbreviation', 'Bruteforce', 'easiest', 'halfrotor', 'point', 'great', 'marts', 'families', 'Multidimensional', 'noise', 'chronological', 'Subpoena', 'enhancing', 'slower', 'famous', 'congruent', 'sequencing', 'Multiprocessing', 'insights', 'LED', 'electronics', 'Developing', 'diskettes', 'commitment', 'guest', 'invasions', 'DOMbased', 'Sled', 'Threats', 'One', 'Generation', 'France', 'young', 'fly', 'NULL', 'overconfidence', 'productivity', 'rationalizing', 'circumvent', 'Watering', 'currency', 'that', 'Closure', 'purse', 'unreviewed', 'maximal', 'Vague', 'Desired', 'vestibules', 'Style', 'programmers', 'employeeowned', 'scrutinized', 'postattack', 'processbased', 'fast', 'proxybased', 'RIPEMD', 'Accurate', 'Echo', 'groupbased', 'diskette', 'Increased', 'Endtoend', 'Paging', 'allows', 'automobile', 'Paperbased', 'moment', 'Including', 'CISA', 'Rules', 'banknote', 'Anonymization', 'Pine', 'HostBased', 'Browsers', 'SCOMP', 'Circumvention', 'Multiplication', 'reaching', 'DOJ', 'contentbased', 'Reason', 'refer', 'Book', 'resiliency', 'aims', 'Blindly', 'government', 'keystream', 'uniformly', 'construction', 'offchip', 'POI', 'Patternbased', 'Spoofer', 'Disaster', 'relief', 'Antijamming', 'OOSM', 'Modulo', 'expecting', 'eliminates', 'Chaos', 'imitate', 'statements', 'unformatted', 'violation', 'demonstrate', 'ahead', 'curiosity', 'bouncing', 'acquires', 'codebook', 'transceiver', 'pieces', 'Coprime', 'Interrogation', 'Passive', 'plugboard', 'collaborative', 'LAN', 'SKEP', 'revenue', 'Enforcing', 'Burning', 'reservationist', 'popular', 'Yadis', 'Wrapping', 'Completion', 'Underwater', 'Troubleshooting', 'brain', 'Paradox', 'talking', 'WinHTTrack', 'class', 'quantifiable', 'Presidential', 'Remark', 'covert', 'stimulated', 'breaching', 'occurrence', 'Ignorance', 'Able', 'CCTL', 'DFI', 'keyloggers', 'thirdparty', 'prank', 'Theft', 'Luby', 'violators', 'deco', 'TimingBased', 'thumbnail', 'Discouraging', 'Single', 'Privatekey', 'Hoc', 'ratio', 'JAVA', 'Lehmer', 'Corroborative', 'Abelian', 'Issues', 'NSEC', 'Objective', 'Caller', 'DTR', 'telecoms', 'Essential', 'discuss', 'SOC', 'perfectly', 'ModeCBC', 'generally', 'harmoniously', 'targeting', 'accesscontrolled', 'concerted', 'deciphering', 'furtherance', 'conservation', 'geofencing', 'developed', 'TLS', 'antimodels', 'customizable', 'bias', 'psychologicalbased', 'meaningful', 'StackGuard', 'upload', 'designating', 'membership', 'help', 'publications', 'Sir', 'insecurity', 'violated', 'domainnametoIPaddress', 'EAPOL', 'workplace', 'Toolkit', 'decomposing', 'AutoRuns', 'describes', 'Needtoknow', 'explanations', 'Colon', 'Assuring', 'logos', 'slices', 'Digest', 'Isat', 'multiplepath', 'electronic', 'miniweb', 'unauthorized', 'Starts', 'Mean', 'revocable', 'interference', 'imperative', 'Yagi', 'roaming', 'asks', 'linked', 'reflection', 'EncryptionObfuscation', 'Convincing', 'verifying', 'Wrongful', 'Proximity', 'cancel', 'consternation', 'Asymmetrical', 'Rootkit', 'Automatic', 'encryptions', 'Milestones', 'interpretation', 'hostage', 'Antispam', 'Consumer', 'birth', 'mass', 'reviewed', 'budget', 'permissions', 'Honeytrap', 'managed', 'Connect', 'Viruses', 'MHz', 'wtmp', 'Riskbased', 'Totient', 'Subject', 'Brain', 'nothing', 'textbased', 'disposing', 'Cardholder', 'deletions', 'infringe', 'hijacker', 'spy', 'Elimination', 'distribution', 'herself', 'Behaviour', 'Terminates', 'Tools', 'exposing', 'onsite', 'Manages', 'Hide', 'interjects', 'single', 'Life', 'telling', 'corrosion', 'transportable', 'Antagonism', 'expenses', 'increases', 'failure', 'Jittered', 'Redirects', 'attenuation', 'daisy', 'SVCs', 'misappropriation', 'web', 'constitutional', 'loading', 'Quadratic', 'DLL', 'Documenting', 'traps', 'CVVs', 'outages', 'components', 'availability', 'lunch', 'whistle', 'difference', 'investigation', 'Protected', 'Immaturity', 'Adi', 'LDAP', 'was', 'inadvertent', 'Floods', 'Hacktivists', 'rightsremote', 'individually', 'advertisers', 'story', 'pressure', 'middleperson', 'recurring', 'mimic', 'CIRT', 'fees', 'homehtm', 'For', 'Occurrence', 'OriginDestination', 'recovery', 'SPIM', 'war', 'Connecting', 'narrative', 'devurandom', 'IPID', 'Examining', 'rational', 'threshold', 'proposes', 'observe', 'sent', 'Rooted', 'custody', 'deduces', 'BBCCDD', 'card', 'dress', 'thirdpartyvendor', 'hired', 'Operations', 'clientserver', 'alarming', 'specifically', 'sort', 'Mythical', 'develops', 'fool', 'Tethered', 'Smurf', 'South', 'stretching', 'Evaluations', 'PNAC', 'minimum', 'proportional', 'arranging', 'crack', 'Attribute', 'organisms', 'Automobiles', 'Tempest', 'covers', 'insert', 'long', 'Kruse', 'figures', 'SRAMbased', 'sovereignty', 'Clustering', 'Unlawful', 'payloads', 'ApplicationLayer', 'containerization', 'Blocking', 'Tor', 'singlecharacter', 'Avoiding', 'Athentication', 'disguising', 'servicedenial', 'mouseclicking', 'Jon', 'Post', 'modulo', 'throughput', 'Learning', 'staff', 'detonation', 'daytoday', 'protective', 'desist', 'Statement', 'movie', 'IDENTIFY', 'incidenthandling', 'Passwords', 'immutable', 'suggests', 'account', 'lifetime', 'scalability', 'unconstitutional', 'prominently', 'usability', 'none', 'Eternal', 'edit', 'taking', 'arearestricted', 'GPOs', 'motives', 'inventions', 'diddler', 'backlash', 'conversation', 'simulating', 'tech', 'deforms', 'prosecute', 'Wall', 'Cultural', 'plants', 'realisation', 'rows', 'regions', 'fusion', 'ECCPS', 'Whois', 'Regulatory', 'impersonating', 'Postexploitation', 'Transference', 'dialup', 'adapters', 'aligned', 'Explorer', 'MASVS', 'CLocalPasswords', 'Denial', 'decided', 'Heightened', 'DSA', 'behavioral', 'landbased', 'Kerckhoffs', 'ranges', 'SelfAssessment', 'misconfigurations', 'Softwaredefined', 'Warfare', 'synapse', 'Senders', 'showports', 'Supporting', 'infrequent', 'Checkers', 'Scoping', 'Trampoline', 'static', 'RuleMaking', 'Editor', 'ECHELON', 'Publickey', 'Quarantining', 'Diffuse', 'insure', 'Identified', 'bootup', 'projections', 'tended', 'Files', 'Organized', 'benefits', 'Admissibility', 'WWW', 'Transceiver', 'Migrating', 'enlist', 'Editorial', 'incur', 'TOTP', 'reset', 'harmed', 'vulnerability', 'efficiency', 'DEP', 'resolves', 'Finite', 'Combination', 'interpret', 'strip', 'SHAbased', 'Heavy', 'entails', 'Completeness', 'Responsible', 'survival', 'mitigates', 'CRAMM', 'Publicprivate', 'makes', 'personnel', 'Drawing', 'coming', 'etcssl', 'recall', 'Regulating', 'qualitative', 'exempted', 'encountered', 'Receivers', 'Victrex', 'Openbox', 'tcpdump', 'tolerant', 'Prune', 'unlinkability', 'Displaying', 'moving', 'Tacit', 'continue', 'Affirmative', 'reinterpretation', 'falls', 'Breakwheel', 'Photographic', 'flags', 'Centre', 'Forest', 'Jerusalem', 'Obstructed', 'Instructions', 'SLAP', 'superincreasing', 'IMS', 'arrange', 'strictly', 'Excessive', 'Fence', 'paradigm', 'unhappily', 'enterprisewide', 'indicates', 'value', 'grievances', 'Tracert', 'manufacturers', 'declared', 'microsoftsecurelogincom', 'modified', 'combatants', 'claims', 'Professionals', 'stripe', 'Transaction', 'circuitry', 'Hostname', 'ability', 'complexities', 'enterprise', 'molecules', 'Dispersion', 'Clickwrap', 'consumers', 'tackles', 'incinerating', 'Report', 'Guessing', 'managers', 'quadratic', 'Sensory', 'nonimagery', 'lengths', 'category', 'competent', 'suggestions', 'alone', 'economics', 'TLSSSL', 'reliable', 'Certain', 'scanners', 'Weakening', 'material', 'paint', 'broadest', 'VirusTotal', 'compliance', 'smarter', 'Compromised', 'hits', 'MissionCritical', 'Capture', 'minimize', 'Isolate', 'Trend', 'MUA', 'bare', 'Macro', 'keywords', 'waste', 'conversations', 'attackerwritten', 'differing', 'Guards', 'SYNSYN', 'antipassback', 'revision', 'activism', 'downgrading', 'fence', 'Deliverables', 'ISVL', 'independent', 'Transparency', 'SDSM', 'Callbacks', 'office', 'malicious', 'SUID', 'overcomplicate', 'juvenile', 'Regular', 'grounds', 'Positioning', 'Purging', 'sign', 'intuition', 'sympathy', 'Shadowing', 'Decoying', 'IBM', 'Granting', 'WireGuard', 'Expansion', 'subcontractors', 'Represents', 'coordination', 'actual', 'Exploring', 'inbound', 'Beacon', 'elasticity', 'fqdn', 'Authenticates', 'suspicious', 'Stegdetect', 'shield', 'Prototype', 'discrepancies', 'burdens', 'emanates', 'suited', 'discretevalued', 'guilt', 'DataFlow', 'Germans', 'depletes', 'below', 'MPs', 'keying', 'quantified', 'microwave', 'Hard', 'Commerce', 'Peer', 'pure', 'libpcap', 'leave', 'ignorance', 'contiguous', 'unprotected', 'Attackers', 'widely', 'Postpremium', 'selfpropagating', 'VGPO', 'DVDRW', 'belonging', 'Xota', 'Correlation', 'Factorization', 'masterslave', 'Christma', 'Such', 'Orchestration', 'creator', 'Reassurance', 'Isolation', 'loop', 'ultrasonic', 'workable', 'highest', 'speak', 'present', 'Casual', 'favorable', 'gather', 'boost', 'achievement', 'LoE', 'Unstructured', 'Easter', 'capabilities', 'spots', 'CyberMetriccom', 'lockin', 'vacations', 'AIM', 'defining', 'mixing', 'driven', 'Double', 'TRAL', 'tactile', 'interconnects', 'Mapping', 'Fragmenting', 'continuation', 'gaming', 'Discrepancy', 'Smooth', 'Unfortunately', 'SANS', 'Synchronous', 'DOS', 'antijamming', 'Digitally', 'share', 'NAPT', 'start', 'selfreplicate', 'NetBIOS', 'separated', 'marketin', 'UID', 'solutions', 'Gspace', 'finds', 'rotors', 'Journal', 'Earthquake', 'encountering', 'crosstalk', 'Structure', 'Reissue', 'Info', 'sewage', 'HSMs', 'board', 'strands', 'Suppression', 'Owner', 'TSval', 'Enables', 'reestablishment', 'edge', 'perobject', 'Quickness', 'leftovers', 'MIME', 'alerted', 'biases', 'SemiOpen', 'Macintosh', 'reconfigures', 'offset', 'appropriately', 'executives', 'EAPStart', 'conformity', 'MIPS', 'analysing', 'USSR', 'Jenkins', 'intensify', 'designate', 'conforms', 'COPE', 'transporting', 'Every', 'ibmsecurelogincom', 'NIDS', 'authenticate', 'power', 'ceiling', 'other', 'threelevel', 'review', 'Visualization', 'completed', 'high', 'weapons', 'Saves', 'Foundation', 'escalate', 'serves', 'chaining', 'took', 'Hygiene', 'tribunal', 'coexist', 'box', 'etccertificateauthority', 'Shibboleth', 'Transformational', 'LANs', 'DESEDE', 'presentations', 'WPA', 'modularly', 'overwhelmed', 'Omitting', 'Diving', 'Action', 'boxticking', 'openssl', 'suppressor', 'governments', 'Relay', 'Failure', 'advisory', 'Browser', 'Supervisor', 'functionalities', 'Influence', 'Warning', 'Digitalbullying', 'occupied', 'needs', 'Multiple', 'Sewers', 'Manager', 'half', 'cautious', 'telephony', 'Previous', 'also', 'interdependent', 'Repeatedly', 'Carlo', 'acceptability', 'hackers', 'Lamp', 'Privileges', 'Acquire', 'filter', 'escorting', 'Alibis', 'implementing', 'foe', 'expectancy', 'resetnetwork', 'usernamepassword', 'contacts', 'retention', 'shelter', 'Acoustic', 'Improvement', 'granularity', 'collaborating', 'conceptual', 'hardtoreplicate', 'thing', 'GaliosCounter', 'overcomplicating', 'exclusive', 'provisioning', 'forging', 'crossborder', 'corrective', 'parasites', 'Duress', 'middle', 'administration', 'CWindowsSystemetc', 'IMAP', 'malice', 'active', 'rearrange', 'group', 'wrapping', 'Kernelmode', 'BellLaPadula', 'oneway', 'portbased', 'broadcasting', 'presents', 'shutting', 'Projects', 'Calculus', 'Interconnecting', 'gasengine', 'storms', 'Laboratories', 'Spear', 'IDA', 'Having', 'Insertion', 'gates', 'certifiers', 'Proxiable', 'constructions', 'truly', 'producing', 'workers', 'When', 'Rackoff', 'PCs', 'Chi', 'ChosenCipher', 'Latin', 'instituting', 'Retrieval', 'SMDS', 'placement', 'SCP', 'temporal', 'Interest', 'Att', 'exclusiveOR', 'DOI', 'ACV', 'inevitable', 'strongly', 'Cases', 'pump', 'Passwordless', 'sequential', 'Connects', 'guys', 'Skipjack', 'attachments', 'pirate', 'Cold', 'Microservices', 'Carbon', 'iteration', 'outline', 'Modeling', 'Associations', 'jargon', 'stuff', 'abnormalities', 'WIDS', 'Strong', 'segregation', 'slowloris', 'RSAEP', 'WhiteBox', 'Sheet', 'Ballot', 'allocating', 'expense', 'Twitter', 'Fines', 'Ack', 'unprofessional', 'Triple', 'etcgroup', 'make', 'Predefined', 'contacting', 'Entry', 'visioning', 'soundness', 'remove', 'Slave', 'nearfield', 'cascading', 'Repetition', 'techniques', 'Incorporated', 'Assets', 'Shannons', 'Entanglement', 'approved', 'nets', 'Photo', 'disclosure', 'observer', 'separates', 'packet', 'onto', 'NITS', 'candidates', 'tenets', 'Deceive', 'RADIUSPT', 'repetitive', 'destruct', 'frauds', 'separate', 'NAT', 'unappealing', 'seen', 'transporter', 'PLK', 'exits', 'Treaty', 'Incidental', 'footer', 'Indicating', 'considered', 'Collaborative', 'Obtaining', 'Dogs', 'interest', 'hallway', 'Relaying', 'assurancebased', 'recent', 'Algorithms', 'positioned', 'teamwork', 'zeros', 'COOCF', 'HKEYLOCALMACHINESoftwareMicrosoftWindowsDLLs', 'given', 'Resilience', 'services', 'PLC', 'factor', 'interdomain', 'mitigations', 'CredSSP', 'WinNuke', 'Audio', 'resemble', 'Xtended', 'soft', 'Used', 'indefinite', 'governing', 'aiming', 'Uptodate', 'panic', 'inspected', 'organizations', 'logs', 'PIRT', 'manifesto', 'biometric', 'Gain', 'compare', 'OCSP', 'Programmer', 'ChainingMessage', 'probing', 'flares', 'Operate', 'Generates', 'ADSB', 'monthly', 'NetScan', 'Longrange', 'paradox', 'loginmicrosoftcom', 'FDM', 'prevents', 'referenced', 'Inserts', 'masquerade', 'penetrate', 'fourstage', 'decrypted', 'virtually', 'Proposal', 'Increase', 'categorizes', 'behind', 'warrants', 'consistent', 'Horizontal', 'commercial', 'Destroy', 'FIC', 'displays', 'accurately', 'disk', 'aids', 'Violates', 'Enhancing', 'coworkers', 'KMD', 'The', 'outage', 'Disclosure', 'blends', 'Unalterable', 'Melissa', 'daily', 'context', 'Squeezing', 'properties', 'priavte', 'prolonged', 'thinking', 'errors', 'Vulnerability', 'author', 'Cookies', 'tackle', 'Timeconsuming', 'Expires', 'publicprivate', 'copying', 'IPComp', 'complement', 'expended', 'tshark', 'bulb', 'attackers', 'plugin', 'Internal', 'SpyFu', 'Methodology', 'fireresistant', 'badge', 'slows', 'invasive', 'bit', 'Torts', 'whois', 'WarDriving', 'allotted', 'Changing', 'Interception', 'postdated', 'niche', 'drafted', 'detain', 'neither', 'Causationinfact', 'baserate', 'decrypting', 'Straightline', 'toolbar', 'misleading', 'movements', 'essence', 'Stepper', 'killing', 'Zip', 'simplify', 'Terminal', 'chance', 'manages', 'tall', 'escort', 'TESLA', 'Email', 'EHLO', 'Correctness', 'hashbased', 'fluorescent', 'Syntaxbased', 'Concurrency', 'TLSrelated', 'contract', 'PeertoPeer', 'Police', 'Switched', 'counteract', 'mischance', 'Proofcarrying', 'Monolithic', 'Bastion', 'spraying', 'Reverts', 'Learned', 'Employers', 'preset', 'homogeneous', 'precise', 'all', 'Datagram', 'Summit', 'transmit', 'termination', 'Combine', 'dioxide', 'specialist', 'adaptable', 'headquarters', 'satisfied', 'Multilateration', 'MOS', 'boredom', 'Autoconfiguration', 'Infection', 'announced', 'politicallynave', 'steals', 'SMTPS', 'Allocates', 'OpenConnect', 'provision', 'PARC', 'MFD', 'automation', 'diligence', 'Waiting', 'Document', 'Blocks', 'Technologybased', 'Will', 'framing', 'HIPS', 'Tort', 'Preferences', 'Googles', 'flash', 'Contingency', 'ProcessApplication', 'wouldbe', 'distribute', 'perturbations', 'Groups', 'table', 'constantly', 'VHF', 'Bandwidth', 'isolates', 'bonds', 'Disrupting', 'habits', 'susceptibility', 'goats', 'seconds', 'adminlevel', 'totally', 'recommender', 'SMEP', 'intrusionprevention', 'Eliminating', 'perpetrating', 'intelligence', 'wellthoughtout', 'Carnegie', 'arranged', 'disregard', 'error', 'tortious', 'Performance', 'Grant', 'ELINT', 'introduces', 'preimage', 'array', 'Containment', 'mindset', 'assumes', 'Emergence', 'assemble', 'horses', 'regarding', 'Sealing', 'Computerresisted', 'higher', 'critique', 'William', 'LVPNs', 'analysts', 'EAPResponse', 'staticdissipative', 'Rotate', 'Inconsistently', 'OSI', 'climate', 'nineteenth', 'OpticalCoded', 'ads', 'gallery', 'redirects', 'always', 'platforms', 'administratorlevel', 'Complex', 'anyone', 'Deterrence', 'raises', 'centimeters', 'RFIDenhanced', 'Firefox', 'inperson', 'actionable', 'deliverables', 'Target', 'appearances', 'Contain', 'advanced', 'Thompsons', 'connection', 'Exabyte', 'Shield', 'peruserID', 'OSs', 'overreliance', 'link', 'interruptor', 'secrets', 'Image', 'India', 'details', 'freedoms', 'Relaxing', 'view', 'SRE', 'understandable', 'Viruschecking', 'Forwardable', 'compute', 'warn', 'selfpropagate', 'Shares', 'Starting', 'Contextdetection', 'barcode', 'FrequencyDivision', 'Quantumresistant', 'Stegoalert', 'intermingling', 'Publications', 'induces', 'compliancerelated', 'Import', 'established', 'Bearer', 'pipeline', 'ideal', 'Analyses', 'exceeds', 'prefixes', 'compromise', 'purpose', 'clear', 'Multiprocessor', 'AESCBC', 'iterations', 'necessity', 'issuespecific', 'HKEYCURRENTUSERSoftwareMicrosoftWindowsAppInitDLLs', 'technologicallysavvy', 'Contacting', 'aerial', 'symmetric', 'consuming', 'Sleuth', 'MOM', 'benchmark', 'manage', 'authentic', 'Prevents', 'anonymizers', 'Sending', 'Field', 'maintain', 'characteristic', 'EER', 'suffers', 'Intentional', 'shielding', 'advocates', 'routed', 'BOK', 'exception', 'investigative', 'NTP', 'moisture', 'injects', 'insufficient', 'polymorphic', 'lock', 'introduction', 'interconnectedness', 'activists', 'paperbased', 'DMCA', 'aggression', 'Upgrade', 'shredding', 'Passphrases', 'routine', 'Emission', 'visitors', 'Many', 'Doubleblind', 'Educate', 'bringing', 'RED', 'Invest', 'Rubeus', 'Camtasia', 'Rivest', 'beliefs', 'mimicry', 'uploads', 'guessable', 'multisensor', 'Anyone', 'discern', 'site', 'convicted', 'colocation', 'Stegstopper', 'British', 'Crash', 'sourcedestination', 'Preliminary', 'PUK', 'Insiders', 'DNSKEY', 'developer', 'smbenumversions', 'new', 'Poison', 'WiMAX', 'DNA', 'accept', 'PLD', 'Measures', 'Against', 'such', 'Agile', 'stealthily', 'cyberdependent', 'getting', 'Curtained', 'means', 'Greek', 'assume', 'Softwarebased', 'virtualized', 'Passing', 'splitsplit', 'expression', 'Participating', 'Maintains', 'hardening', 'obligation', 'guesses', 'recognizable', 'spent', 'classification', 'Applicationlevel', 'operated', 'DNP', 'descriptor', 'captures', 'Complacency', 'Warhol', 'configurations', 'Polymorphism', 'bitstream', 'sufficiently', 'lawmaking', 'CSRF', 'obscuring', 'affiliate', 'Hyperlinks', 'register', 'little', 'openly', 'efficacy', 'Formally', 'affordability', 'radiation', 'CodeBook', 'Logic', 'Nonce', 'Meterpreter', 'Precedence', 'flexibility', 'Vein', 'typically', 'trace', 'SSLCertificateKeyFile', 'lives', 'statespecific', 'and', 'Endless', 'Blockchain', 'descriptions', 'Area', 'nonintrusive', 'recourse', 'CriteriaCEM', 'physicsbased', 'reconsideration', 'Calculating', 'Common', 'bureaucratic', 'Drive', 'WireShark', 'wellwritten', 'ASICs', 'Clients', 'combustion', 'audited', 'Certificates', 'persists', 'pursuing', 'receipts', 'injury', 'Communicating', 'Formbased', 'WarWalking', 'Horst', 'inferring', 'Stuffing', 'FOOi', 'Gutmanns', 'Tags', 'Attached', 'ABE', 'while', 'Interoffice', 'holistic', 'Imprisonment', 'inherent', 'detecting', 'simplifies', 'subscriber', 'Only', 'removes', 'creativity', 'obstructions', 'timepieces', 'insurer', 'Legal', 'float', 'uninitiated', 'stone', 'transmits', 'columnwise', 'Defacement', 'rounds', 'ZeroKnowledge', 'worktaskrelated', 'trustful', 'acquirer', 'Captcha', 'Deactivate', 'examination', 'Laws', 'BitTorrent', 'PointtoMultipoint', 'PayTV', 'kiddy', 'warfare', 'shares', 'Decreasing', 'Duplication', 'dangling', 'bytecode', 'denialattack', 'Jamming', 'Unsecure', 'collections', 'Livewire', 'dots', 'IntServ', 'coprime', 'reserved', 'forced', 'Threshold', 'Yellow', 'connectors', 'determination', 'ECIES', 'Cell', 'Batch', 'graphs', 'Parallelism', 'walkthroughs', 'Functional', 'further', 'controversial', 'expanded', 'Lambda', 'proven', 'Treat', 'Representatives', 'Rest', 'primary', 'Domain', 'jacks', 'proper', 'Biannually', 'countercultural', 'Turing', 'personally', 'His', 'masscan', 'bestmatch', 'batteries', 'Ifthen', 'study', 'wired', 'hierarchy', 'Informative', 'strace', 'focusing', 'thousands', 'sequences', 'asphyxiation', 'Sweep', 'Mechanisms', 'contaminate', 'Cain', 'Ecommerce', 'hyped', 'Repeatability', 'about', 'Pass', 'firesuppression', 'Multihomed', 'firewall', 'realistic', 'Breadth', 'greenhomeplategalleryview', 'incurring', 'regard', 'cooperative', 'requirements', 'Screensaver', 'lookup', 'enroll', 'WMMelissa', 'Standalone', 'typo', 'Electromagnetic', 'Grain', 'spying', 'CIRP', 'proxying', 'bookmarks', 'AppleTalk', 'enter', 'faced', 'Cryptanalysis', 'administering', 'AuthenticateandEncrypt', 'Listing', 'blueprint', 'near', 'which', 'Datainformation', 'Formulate', 'Monte', 'social', 'Cybercrime', 'WINDLL', 'Customer', 'Accumulators', 'Falsenegative', 'cacls', 'Arming', 'websites', 'SEAD', 'DARPAs', 'excuses', 'needtoknowuse', 'adjacent', 'part', 'blowers', 'PCtoPC', 'Equating', 'voter', 'Courts', 'claim', 'unavailable', 'Affidavit', 'council', 'picks', 'WideArea', 'hoarding', 'Pseudosimultaneous', 'wiping', 'Lightweight', 'cameras', 'ACK', 'tickets', 'Sourcefire', 'Washington', 'hub', 'weaknesses', 'owners', 'preferable', 'discloseto', 'adults', 'FRR', 'clustering', 'wires', 'posture', 'generated', 'yields', 'ISDN', 'narrowly', 'grabs', 'cryptographic', 'Evidence', 'CCIPS', 'ProcDump', 'attempts', 'Tricky', 'Last', 'continues', 'statistics', 'ApplicationLevel', 'Advocate', 'decisionmaking', 'becomes', 'Sometimes', 'ENISA', 'seemingly', 'ISF', 'quiescent', 'instrumental', 'Pwdump', 'entitled', 'seems', 'types', 'Expression', 'VPP', 'Guarantees', 'applying', 'Facility', 'Reduce', 'harvesting', 'collaboration', 'attracting', 'Disable', 'joint', 'weakness', 'Reducing', 'predict', 'blank', 'associate', 'player', 'focus', 'Introducing', 'retail', 'Seize', 'Expanding', 'Autonomous', 'challenge', 'sharp', 'disconnected', 'cluster', 'prohibited', 'SBox', 'Directing', 'Specifications', 'siloed', 'Originator', 'fist', 'perpetuate', 'Recognizing', 'common', 'Blank', 'vector', 'Finland', 'milestones', 'bypass', 'Fuzzing', 'isnt', 'Abc', 'reauthentication', 'EEA', 'feature', 'independently', 'accessible', 'may', 'arise', 'CMM', 'instill', 'consecutive', 'mitigated', 'September', 'air', 'BOTNET', 'bosss', 'IDS', 'Otsu', 'shortcuts', 'annual', 'Securityini', 'Hashbased', 'Competitive', 'filesharing', 'Copyrights', 'his', 'Ferner', 'Alphabetizing', 'resourcing', 'Defense', 'Detect', 'iDisk', 'seven', 'cleans', 'Enhancements', 'Nucleolus', 'Serpent', 'Closedresponds', 'starts', 'intranet', 'Miller', 'Ologklogn', 'Fieldprogrammable', 'mutexes', 'enforcement', 'privacysensitive', 'Atomic', 'risk', 'recipients', 'dealt', 'Deriving', 'water', 'Multiserver', 'nonresponding', 'eroding', 'BBProxy', 'Policing', 'turnaround', 'Concolic', 'Commands', 'Agency', 'Press', 'advertised', 'passwordless', 'practitioner', 'reliance', 'mapper', 'LoadLibrary', 'Navigation', 'guard', 'Portable', 'labels', 'Bounces', 'approach', 'Tworouter', 'CMAC', 'Distilling', 'TakeGrant', 'Adoption', 'Panix', 'Notify', 'LDT', 'generates', 'special', 'divisors', 'packETH', 'Discretionary', 'readable', 'Claims', 'Actions', 'Measurement', 'DIAMETER', 'Multiplexer', 'American', 'hierarchical', 'deriving', 'usercentric', 'Protocolbased', 'IntegerModRing', 'SOCKS', 'anycast', 'ValidationPolicy', 'Nexus', 'Guest', 'carrier', 'disallowing', 'Imagine', 'Unintended', 'NOA', 'overall', 'brownout', 'statebystate', 'CLF', 'GPS', 'pinging', 'biometrics', 'resort', 'PIV', 'insulating', 'Adherence', 'extent', 'Adware', 'Packets', 'SHARE', 'addressable', 'libOS', 'Delivering', 'Respond', 'dedicate', 'Executive', 'birthdates', 'disagreements', 'Enforce', 'Segment', 'bearer', 'Flaw', 'Pryfi', 'Clocks', 'ERM', 'DNSlookup', 'MoUs', 'NPComplete', 'Dialup', 'micromanage', 'occasions', 'PERT', 'screen', 'Powers', 'Cable', 'theHarvester', 'Correction', 'tricked', 'Peter', 'incorporating', 'Growth', 'Solidstate', 'passively', 'reputation', 'hierarchies', 'tlsscan', 'messaging', 'payments', 'Structured', 'revealing', 'admissible', 'summary', 'DLLs', 'displaying', 'ExtendedKeyUsage', 'decremented', 'Decentralized', 'DRT', 'noninvasive', 'Prescriptive', 'ease', 'Policy', 'Execution', 'PERIMETER', 'Transportation', 'following', 'anomalies', 'Range', 'probabilities', 'datasets', 'technologyoriented', 'classifying', 'Overlapping', 'CiphertextOnly', 'HarrisonRuzzoUllman', 'Ashton', 'Prudent', 'Argument', 'stay', 'Win', 'exposures', 'sentencing', 'options', 'SOAPbased', 'minimal', 'Locator', 'late', 'Trunks', 'suite', 'PnP', 'aggressive', 'Spraying', 'readiness', 'disputes', 'altered', 'threatened', 'turned', 'imagebased', 'ITIS', 'Multi', 'model', 'Semantic', 'developments', 'Thou', 'Impersonate', 'Assembled', 'High', 'Youre', 'Reusing', 'Deliberate', 'sets', 'InternetofThings', 'crosssite', 'Brainstorming', 'institutions', 'prioritization', 'incoming', 'panicked', 'Substitute', 'comparability', 'memories', 'alwayson', 'USIM', 'humanfriendly', 'implementation', 'Qualification', 'convey', 'unneeded', 'highfrequency', 'etcpasswd', 'Intellectual', 'embed', 'Forward', 'definitively', 'NSACSS', 'efficiently', 'modulation', 'rsync', 'revoke', 'velocity', 'Accuracy', 'Cameras', 'cloudnative', 'defense', 'Accreditation', 'Defend', 'divisible', 'RingLWE', 'contributing', 'etcshadow', 'storeandforward', 'Semaphore', 'InfraGard', 'des', 'Attract', 'misusing', 'suspicion', 'Factor', 'debugging', 'wireline', 'splitting', 'fixes', 'Runlevel', 'deems', 'respectively', 'turnstiles', 'honestly', 'migration', 'achieve', 'involuntary', 'ective', 'erased', 'regular', 'PPC', 'nervous', 'bombarded', 'Massey', 'NIST', 'FedCIRC', 'Exponent', 'hacks', 'appealing', 'making', 'Fiege', 'Cloudnative', 'WLANs', 'ISSA', 'more', 'Sheets', 'privilege', 'Zeroization', 'politically', 'Angry', 'Attempted', 'applicable', 'commons', 'friends', 'funnel', 'Rush', 'Institute', 'logically', 'reportedly', 'GTK', 'Standard', 'ExecuteScript', 'Reflective', 'illegally', 'Raise', 'Anycast', 'organizational', 'Seed', 'formalized', 'ink', 'prompts', 'classroom', 'consumercreated', 'Retention', 'scan', 'Extranets', 'FORTRAN', 'Anticipation', 'Failover', 'etcftpusers', 'VRFY', 'multiplied', 'Masquerade', 'Vista', 'Complete', 'FCSP', 'clearinghouse', 'functionality', 'finite', 'motive', 'worlds', 'displayfacebook', 'eight', 'autolock', 'Reseeding', 'stealth', 'Preprocessor', 'usual', 'Retina', 'compatibility', 'felon', 'Attributebased', 'respect', 'Inefficiency', 'repel', 'modernising', 'service', 'Iris', 'Transferring', 'sync', 'rejects', 'DRAL', 'Salting', 'antireplay', 'SameOrigin', 'From', 'postcompromise', 'Exigent', 'Physicalbased', 'unsniffable', 'Reconfiguring', 'planned', 'systemrelated', 'coordinate', 'rolling', 'Construction', 'Traversal', 'AMD', 'false', 'Europe', 'SQUARE', 'well', 'finalize', 'supervisorctl', 'spike', 'Europens', 'Memory', 'ports', 'Proper', 'Practices', 'forums', 'workflow', 'Authorisation', 'Kerberos', 'Tree', 'Evade', 'counter', 'Encapsulation', 'realtime', 'NetStumbler', 'separately', 'switchtoswitch', 'SEO', 'rewarded', 'deteriorate', 'fibers', 'timely', 'Plan', 'Wildfires', 'Fraud', 'questionnaire', 'NIPSs', 'wireless', 'baselinederived', 'conjunction', 'nosuid', 'YAML', 'HITRUST', 'Feeds', 'Template', 'Nobody', 'mandates', 'scrambled', 'series', 'Fragroute', 'QoD', 'environmental', 'Protocollevel', 'metal', 'Energy', 'Softening', 'Fluorescent', 'Adleman', 'limited', 'warrant', 'revolt', 'Flameactuated', 'Enacting', 'containers', 'userentered', 'fall', 'circuits', 'HTTPSERVERS', 'CWE', 'Piggybacking', 'illnesses', 'Outoforder', 'CSUDSU', 'roleplaying', 'Revise', 'delivering', 'Proponent', 'publickey', 'publisher', 'OLED', 'monarchy', 'Supplying', 'trying', 'intercepted', 'InvSubBytes', 'Subscriber', 'Comparison', 'Classify', 'Decomposing', 'abstractor', 'SIPS', 'SAs', 'promised', 'FrankJohnny', 'Domainspecific', 'Guarantee', 'forgeable', 'ASW', 'Protocol', 'immune', 'endtoend', 'inaccessible', 'Reading', 'primarily', 'safely', 'underpinnings', 'Numerical', 'Cookiestealing', 'digitally', 'NASL', 'reflections', 'pot', 'polices', 'smbserviceinfo', 'tapping', 'Radius', 'onetoone', 'adhoc', 'hardness', 'object', 'lowest', 'density', 'sequence', 'motivating', 'Database', 'Magnetic', 'breakable', 'receipt', 'Banks', 'SSL', 'randomness', 'enforcing', 'Anecdotal', 'enumerating', 'though', 'turnover', 'areas', 'PDAs', 'tidal', 'planning', 'Comp', 'tie', 'Communicate', 'MegaPing', 'DLCIs', 'tools', 'initiatives', 'IPoverDNS', 'throughcalls', 'mathematically', 'Reduced', 'rewrites', 'Revoking', 'Agility', 'originally', 'PSL', 'stalking', 'rights', 'Baudot', 'Settlements', 'option', 'Arithmetic', 'Parameter', 'Ondemand', 'programs', 'Exposes', 'Theorem', 'Workbench', 'Dipole', 'Discoverable', 'shortrange', 'prefetcher', 'exhausted', 'VoIP', 'hash', 'assurance', 'lost', 'ascertainable', 'preventative', 'PTES', 'precision', 'Making', 'roots', 'devrandom', 'Layering', 'expose', 'navigation', 'Source', 'obstructing', 'fleet', 'PFIAB', 'packed', 'releases', 'unlock', 'filenames', 'deceptive', 'Restores', 'ISMS', 'networkwide', 'indications', 'Python', 'keyextraction', 'relaying', 'Europes', 'Solving', 'patients', 'Video', 'upstream', 'highintegrity', 'Spectre', 'black', 'bitsJoule', 'take', 'cleansing', 'capable', 'Lowpressure', 'clearances', 'Operator', 'individuals', 'Renting', 'Faulty', 'together', 'trac', 'acoustical', 'Rows', 'DELETE', 'authenticating', 'Algorithmicbased', 'Organizational', 'MLAT', 'postSeptember', 'Combinations', 'GSAs', 'supplement', 'Joseph', 'omitted', 'impacted', 'latticebased', 'Applications', 'httpenum', 'network', 'ntier', 'emulation', 'Confidentiality', 'SBU', 'early', 'attack', 'Sysadmin', 'backdoor', 'Factoring', 'enhances', 'insulated', 'rejected', 'adapted', 'arpwatch', 'ECMA', 'cages', 'understanding', 'Lowspeed', 'Bombe', 'Retinal', 'MSP', 'Department', 'IMSI', 'offenses', 'ozone', 'tying', 'appliances', 'NACK', 'obviously', 'pinwheels', 'Decommissioning', 'antimalware', 'Analyzer', 'Governance', 'solely', 'stores', 'Which', 'reusing', 'plain', 'abusive', 'hopes', 'bleach', 'disrupts', 'stopped', 'Its', 'disturbances', 'Lpht', 'reconfigured', 'courseware', 'MACsec', 'engagement', 'Implicit', 'index', 'BITNET', 'science', 'Hoax', 'IRM', 'maintenance', 'resolved', 'ManintheMiddle', 'impersonate', 'Enumeration', 'assessments', 'Twin', 'erasure', 'Motive', 'Randomly', 'Interruption', 'metals', 'PSK', 'WAF', 'require', 'Malintent', 'LLL', 'record', 'negotiations', 'expected', 'decoys', 'Transparent', 'negative', 'terrorist', 'Labels', 'surviving', 'indoors', 'Stations', 'traversal', 'substitutions', 'EUCLID', 'computational', 'Short', 'Fences', 'Eliminates', 'tape', 'incremented', 'Users', 'inverse', 'Nonpairing', 'volatile', 'assistance', 'Forensic', 'Hybris', 'unilaterally', 'close', 'regulates', 'Crossover', 'rho', 'viewed', 'abnormal', 'prototyping', 'BaseT', 'Laser', 'biological', 'among', 'automatically', 'misunderstanding', 'Disclosing', 'FiberOptic', 'hurdles', 'subtract', 'Stochastic', 'Schlsselzusatz', 'abstracts', 'exploitability', 'subcommand', 'RDS', 'Predictable', 'fog', 'ASMTP', 'flavor', 'Provision', 'nonalphanumeric', 'Prevention', 'Corporateowned', 'calibration', 'connect', 'Hash', 'California', 'GCHQ', 'aligns', 'Harmonize', 'Closely', 'purposes', 'Audits', 'randomization', 'Organization', 'discharge', 'both', 'eradication', 'Offset', 'Operating', 'merely', 'CIS', 'ClientSide', 'coprocessor', 'RTOs', 'Manhour', 'ways', 'parity', 'defaultssl', 'Cowboy', 'introduced', 'departments', 'occupancy', 'peasants', 'intuitive', 'Avast', 'evolved', 'consequences', 'focused', 'filters', 'ephemeral', 'neglect', 'addressing', 'FINPSHURG', 'anytoany', 'MOBIKE', 'employees', 'capital', 'inert', 'quarantines', 'aesthetically', 'distances', 'Unscrupulous', 'undertake', 'ccould', 'blockchain', 'CVSS', 'nonstate', 'Members', 'ZWave', 'games', 'Mortise', 'CscriptEalertCyberMetricCscriptE', 'daemon', 'autonomously', 'Userbased', 'eyeballs', 'Bliley', 'prompt', 'Connections', 'Resolving', 'machine', 'PBKDF', 'Compatibility', 'extract', 'Adopting', 'Ideal', 'Evolving', 'Their', 'economically', 'target', 'IEC', 'limits', 'videos', 'Inverse', 'Globalization', 'Examine', 'Job', 'sheer', 'Officers', 'Cooperation', 'CSMA', 'accelerate', 'transduction', 'cyberextortion', 'Informing', 'upperlayer', 'Educating', 'aimed', 'attorney', 'Evolution', 'Bad', 'simulator', 'untrusted', 'Memorizing', 'Volcanic', 'After', 'LphtCrack', 'walkthrough', 'Spreading', 'tendency', 'Threedigit', 'jammer', 'Instant', 'tomorrow', 'sectors', 'invertibility', 'recover', 'NIIL', 'safety', 'Loss', 'compile', 'Utilizing', 'rates', 'protocols', 'CertificateBased', 'impenetrable', 'ring', 'Mutation', 'Scrolling', 'solve', 'Unacceptable', 'UFH', 'convincing', 'WIPO', 'stands', 'socialengineering', 'chains', 'PlanConcept', 'Crippling', 'bluejacking', 'whom', 'executive', 'chips', 'politics', 'ignoring', 'improves', 'Revenue', 'criterion', 'arena', 'NRL', 'vecto', 'future', 'emulate', 'postevent', 'cryptovariable', 'must', 'viruses', 'Doorclose', 'modus', 'discovery', 'adopted', 'Balanced', 'untrustworthy', 'things', 'bootstrapping', 'IKESAINIT', 'optimized', 'computerrelated', 'SSLTLS', 'developmental', 'counterfeited', 'backups', 'ConfXferMethod', 'contrarian', 'CBCMAC', 'offer', 'adaptive', 'minimizing', 'clients', 'strikes', 'commerce', 'securityrelated', 'parallel', 'Resiliency', 'factual', 'cell', 'snooping', 'Maintaining', 'approximate', 'seminars', 'Similar', 'unsuccessful', 'modularity', 'reenter', 'Opening', 'tolerate', 'presumption', 'handle', 'banknotes', 'Daemen', 'IDSintrusion', 'unsafe', 'forth', 'ADS', 'gardening', 'jailbreaking', 'Concealed', 'scannerhttpbruteforce', 'enciphered', 'Meltdown', 'Focuses', 'PAN', 'predictive', 'printers', 'diminish', 'internals', 'resulting', 'races', 'Constructing', 'improving', 'lawfulness', 'interception', 'marks', 'alarm', 'prepared', 'waterdetection', 'advising', 'falsification', 'Placing', 'introducing', 'possesses', 'Confidential', 'bundle', 'iterated', 'Variable', 'translator', 'autocratic', 'replacements', 'defending', 'cashier', 'buying', 'finished', 'Predictive', 'Recycle', 'SERVERHELLO', 'Ticket', 'UPDATE', 'Bleeding', 'Remanence', 'Conflicting', 'exploits', 'Perceived', 'fiveday', 'Flow', 'deidentification', 'Race', 'simpler', 'evaders', 'Exclusive', 'trustor', 'Neither', 'mostly', 'paid', 'fieldpowered', 'mediaindependent', 'realworld', 'Points', 'concealed', 'intermediate', 'downtime', 'Downplaying', 'architectural', 'IPSec', 'recognition', 'Increasing', 'reversal', 'unaffected', 'testers', 'Trusting', 'copperbased', 'rebuffing', 'auction', 'Acceleration', 'solid', 'Protocols', 'insects', 'formula', 'interacting', 'morale', 'Brewer', 'accurate', 'shopping', 'root', 'respo', 'director', 'modeling', 'Safeguarding', 'negotiation', 'PTR', 'refers', 'Classified', 'engaging', 'Voice', 'Selectors', 'serverhello', 'NLS', 'CMT', 'Interactive', 'Health', 'tuned', 'hping', 'Big', 'bottomup', 'Determination', 'humidity', 'Lossalteration', 'consumes', 'crosscompiler', 'threat', 'Directory', 'sees', 'equilibrium', 'blue', 'Disassembler', 'decreases', 'Decisions', 'Archive', 'Interchange', 'Timedivision', 'Sidechannel', 'Near', 'Offer', 'encompass', 'schedule', 'billing', 'perspective', 'Conclusive', 'Emulation', 'lowlevel', 'enhance', 'protocolversion', 'TAC', 'vishing', 'DER', 'selecting', 'Oregon', 'brief', 'Incorporating', 'Latest', 'capability', 'sewers', 'conspicuous', 'constituency', 'filtering', 'Criticality', 'Pointer', 'claimant', 'Metsvc', 'extorts', 'duplicate', 'malformed', 'Internetwork', 'involve', 'anticipate', 'Crisis', 'analyst', 'Whaling', 'deactivate', 'scams', 'signatures', 'beforehand', 'action', 'intimidate', 'mixed', 'city', 'appealed', 'images', 'VLF', 'lowerlevel', 'CAPI', 'Panel', 'dependencies', 'locates', 'Terrorism', 'hints', 'Switches', 'whitelist', 'faxed', 'Statistical', 'MerkleHellman', 'traceback', 'Failsecure', 'Pbox', 'Terminology', 'Stator', 'whose', 'music', 'Concurrent', 'truths', 'Pings', 'pretend', 'names', 'deflection', 'Replicate', 'pastein', 'Metallic', 'separator', 'Clientbased', 'portals', 'Shannon', 'Gratuitous', 'preparations', 'DARPA', 'traffic', 'authoritative', 'repositories', 'Backend', 'newly', 'Wolves', 'indirect', 'IBE', 'checksums', 'fiberoptic', 'WMI', 'Rounds', 'VISA', 'Infecting', 'TFTP', 'Gaining', 'floors', 'misdirect', 'subdomains', 'managementteam', 'Nextgeneration', 'clicks', 'subjects', 'Updating', 'objectivity', 'obstacle', 'Depends', 'IPv', 'sandboxing', 'Thwarting', 'restarted', 'afterthought', 'Objects', 'relayed', 'Bypassing', 'gives', 'Side', 'repeating', 'supported', 'Activation', 'scientific', 'weakened', 'Voltage', 'fixed', 'thats', 'helpful', 'mitigation', 'films', 'weather', 'Chinese', 'popup', 'Transports', 'anomalous', 'Hydraflux', 'SAS', 'paperwork', 'Wood', 'bespoke', 'Review', 'NonDiscretionary', 'HDLC', 'counterfeiting', 'patches', 'Rely', 'logging', 'installer', 'Seizing', 'readymade', 'ARQ', 'trade', 'wall', 'Advisor', 'Firewalking', 'Cognitive', 'gone', 'Areas', 'interview', 'Sybil', 'Corporate', 'Interview', 'passfaces', 'role', 'penetrating', 'programmability', 'genuine', 'familyowned', 'Ciphering', 'UNetbootin', 'Wests', 'closure', 'standing', 'Signon', 'Soda', 'exercising', 'reconnection', 'possession', 'obvious', 'Minimizing', 'Workstations', 'emphasis', 'implanting', 'Conditional', 'events', 'proxies', 'officer', 'gcda', 'procedures', 'Devices', 'bell', 'Rrsv', 'CreateThread', 'didnt', 'Bombs', 'locked', 'Authorizing', 'TNI', 'Zombie', 'Entropic', 'responds', 'applicationlayer', 'Notification', 'password', 'incorporates', 'Isabelle', 'borders', 'Gamal', 'restricts', 'Specialized', 'trespassers', 'reordering', 'Bioterrorism', 'squared', 'telnet', 'smbosdiscovery', 'arcane', 'Lucifer', 'links', 'usertonetwork', 'property', 'constructing', 'communications', 'STM', 'microprocessor', 'customerspecifiable', 'activation', 'More', 'virtualize', 'FAQ', 'concise', 'aircrackng', 'bugfree', 'Pollards', 'regulator', 'vowelplugboard', 'Decrease', 'Translate', 'conditions', 'splits', 'readwrite', 'Mac', 'equip', 'Viewing', 'covered', 'allocates', 'Inflate', 'During', 'steganography', 'general', 'alias', 'Accelerated', 'peopleoriented', 'VRML', 'rebooted', 'companion', 'Accepting', 'NWU', 'possessing', 'Compiler', 'existing', 'Inserting', 'Nonvolatile', 'annualized', 'useless', 'Browserbased', 'theirs', 'loadable', 'Capacity', 'CTR', 'ESP', 'Trubdor', 'imaging', 'How', 'webbased', 'rewarding', 'prosperous', 'unpatched', 'workstation', 'industry', 'Have', 'HttpOnly', 'thoroughly', 'sniffling', 'BGP', 'starvation', 'academies', 'proceeded', 'Receiving', 'Mask', 'Password', 'stolen', 'masse', 'managing', 'leader', 'McAfee', 'Onefactor', 'kit', 'Screening', 'etchosts', 'Faronics', 'freely', 'deterring', 'sslscan', 'Twoway', 'Jacobi', 'HMACSHA', 'comparing', 'assymetric', 'laterally', 'unintentionally', 'encapsulates', 'retrofit', 'circuit', 'preassessment', 'recognizes', 'reconnaissance', 'gpp', 'clearance', 'proctected', 'smartphones', 'likeness', 'ubiquitous', 'activating', 'fulltime', 'reverseengineered', 'chat', 'inefficiency', 'prerequisite', 'placeholder', 'tracked', 'exists', 'intelligible', 'Executives', 'greater', 'softwarebased', 'distinguished', 'Are', 'impersonates', 'achieves', 'Suite', 'Enrollment', 'Largescale', 'virtual', 'edu', 'HSSI', 'activate', 'Service', 'Superposition', 'Cohens', 'subsequently', 'AESThe', 'SeDebug', 'easytoguess', 'coopted', 'clientservice', 'German', 'Microsft', 'grid', 'interfaces', 'IPMAC', 'interconnected', 'DLIES', 'Responsibility', 'Optimally', 'specify', 'Activities', 'unchecked', 'streaming', 'Subkey', 'robustness', 'worth', 'rapid', 'Exceptions', 'Generally', 'certs', 'operationsJoule', 'monoalphabetically', 'monitor', 'Phantom', 'Creates', 'Agent', 'motivate', 'integrator', 'unions', 'Notice', 'undetected', 'Reactive', 'BLE', 'DPA', 'issue', 'Worker', 'Cooling', 'methodically', 'BRI', 'European', 'ReadOnly', 'noncompulsory', 'preinstalled', 'forensiclevel', 'DRAM', 'how', 'Representation', 'configured', 'administrative', 'largesized', 'Today', 'posts', 'potential', 'ask', 'firewalls', 'OOD', 'descrambled', 'offduty', 'IDAPRO', 'consensus', 'APT', 'evading', 'Ethical', 'selfsustaining', 'burstable', 'Clientside', 'TwoPerson', 'Supersymmetric', 'mapping', 'Syn', 'analyses', 'Dennings', 'ensured', 'inhouse', 'touch', 'GDPR', 'DRY', 'permanently', 'multispectral', 'designers', 'higherlayer', 'frequent', 'believable', 'ITUT', 'beta', 'treatment', 'Anxious', 'Spam', 'Transmission', 'Leaking', 'Inclusion', 'Israel', 'society', 'WSOCKDLL', 'Recipient', 'Warm', 'System', 'PKCS', 'logicaltechnical', 'disguises', 'Encrypts', 'Letterpress', 'classified', 'interrogations', 'have', 'Remember', 'maintains', 'keyed', 'ventilation', 'DHTML', 'trial', 'Sustainability', 'multicast', 'Reality', 'outside', 'striving', 'display', 'technologydriven', 'dollar', 'mats', 'silently', 'mistyped', 'parameter', 'hygiene', 'Deterioration', 'ERate', 'depth', 'CTRDRBG', 'exactly', 'Searching', 'happening', 'mod', 'displacements', 'certificates', 'nondeterministic', 'Easytomanage', 'Trends', 'subcutaneous', 'Functionally', 'master', 'Patternmatching', 'inetd', 'xxx', 'eye', 'SEI', 'Overow', 'employeevisitor', 'candidate', 'escrow', 'Randomness', 'unless', 'twenty', 'salting', 'pursue', 'kernels', 'fail', 'Truncation', 'community', 'Nonreputation', 'invention', 'interrogation', 'dumpster', 'illustration', 'clickwrap', 'coverage', 'Objectoriented', 'Biometrics', 'reduce', 'scene', 'failing', 'Activity', 'EXPN', 'aisle', 'features', 'probability', 'neutral', 'thinks', 'Jonathans', 'Impervious', 'provisioned', 'Breaking', 'composition', 'Formalizing', 'simplistic', 'Asia', 'Hiding', 'SuperScan', 'Instructorled', 'postings', 'Optimal', 'signed', 'RRDC', 'mythology', 'noninvertible', 'sprawl', 'hoc', 'Sanitization', 'Physiological', 'lowercase', 'prefix', 'emission', 'Certifying', 'Bit', 'PTG', 'guardian', 'Trial', 'unseen', 'Thieves', 'release', 'portable', 'Partially', 'running', 'undermine', 'timederived', 'Blacker', 'choiceconsent', 'reentering', 'submission', 'morning', 'Targeted', 'rolled', 'tactics', 'chip', 'lowpower', 'pain', 'elements', 'oversee', 'NtCreateProcessEx', 'screens', 'anchor', 'InvokeExpression', 'integral', 'Plug', 'tangible', 'HSM', 'Profiles', 'auditpol', 'signify', 'parabolic', 'lived', 'autonomy', 'Indifferent', 'APOP', 'Replay', 'Rationale', 'apparently', 'eliminate', 'International', 'forecasts', 'VeriSign', 'memorability', 'sizes', 'trusted', 'Fully', 'SPML', 'focal', 'notation', 'tells', 'doityourself', 'visibly', 'authenticates', 'assessor', 'conduct', 'ActiveX', 'Entrapment', 'Definedbased', 'checkouts', 'civil', 'Transducer', 'binary', 'MixColumns', 'steganographic', 'Wait', 'AWS', 'Program', 'displayed', 'FHSS', 'Geolocation', 'Amplifying', 'adopting', 'Quicker', 'HTTrack', 'Commingling', 'whenever', 'manipulating', 'SadMind', 'Msinfoexe', 'Multicast', 'ECPA', 'identity', 'Blaster', 'broken', 'accelerators', 'botdetection', 'codebooks', 'Yes', 'damages', 'Rainbow', 'Unshielded', 'networkattached', 'AFL', 'beneath', 'averages', 'TSA', 'constitutes', 'become', 'yield', 'rootkits', 'inscope', 'Reflectometer', 'Dual', 'Survivability', 'contentdependent', 'SafeGate', 'Requirement', 'opensource', 'possibly', 'Persistence', 'SERVERVERIFY', 'Damaging', 'Postman', 'Studios', 'saved', 'complaint', 'deaths', 'minimising', 'CAS', 'ICMPv', 'decline', 'differentials', 'Cuckoo', 'formally', 'securitythroughobscurity', 'Thirdparty', 'terms', 'Views', 'considers', 'EXPD', 'jurisdictions', 'retiring', 'North', 'encoded', 'Behavioral', 'secret', 'collecting', 'touchscreen', 'Install', 'preengagement', 'Collection', 'colleague', 'earthquake', 'RIPE', 'whether', 'hotfixes', 'APNIC', 'statuses', 'Tornadoes', 'Alternating', 'irregularities', 'Compressed', 'immediately', 'antigundecking', 'Explicit', 'Floodlights', 'Conversions', 'Daemon', 'Visual', 'Authenticate', 'Anticounterfeit', 'weeks', 'Easier', 'overow', 'Pursue', 'tool', 'easily', 'axioms', 'Division', 'Decide', 'nonspecific', 'bastion', 'combine', 'todays', 'Warehouse', 'Dynamic', 'Satisfy', 'Intercepting', 'one', 'Purge', 'denial', 'overflow', 'XAUTH', 'etcrcd', 'FIM', 'Regulate', 'cheapest', 'VBScript', 'viewing', 'ACLbased', 'handshakes', 'felony', 'cache', 'best', 'computed', 'low', 'Down', 'labeling', 'convert', 'Bertillonage', 'Safeguard', 'interaction', 'Asimov', 'Linearity', 'Rule', 'Fixing', 'Westminster', 'Include', 'lowerdegree', 'notion', 'governmentwide', 'Polymorphic', 'subcribs', 'audience', 'BBS', 'lawfully', 'estate', 'resulted', 'similarities', 'observing', 'avoid', 'principal', 'Authorized', 'Scalability', 'inventors', 'international', 'transforming', 'Generic', 'Postderegulation', 'Characterized', 'notorious', 'preventtroubleshoot', 'promsw', 'resets', 'conferences', 'intersection', 'inventory', 'SIP', 'ZwQuerySystemInformation', 'everywhere', 'scanf', 'scrollable', 'UPS', 'expertise', 'geared', 'SPA', 'Integration', 'timestamp', 'submitting', 'partys', 'Domestic', 'profiling', 'EAPTLS', 'Simulation', 'modes', 'LocalSystem', 'NetWare', 'Foam', 'TCP', 'abilities', 'Vendor', 'benign', 'unity', 'Officer', 'individual', 'Flowchart', 'civilians', 'inherit', 'atmosphere', 'initialization', 'Invulnerable', 'Clickbait', 'Means', 'particularly', 'age', 'config', 'Offload', 'CCMP', 'Topological', 'simultaneously', 'LaaS', 'gradual', 'topics', 'SCVP', 'transparent', 'Embedded', 'peer', 'understood', 'Wet', 'Succession', 'weigh', 'frightening', 'fiduciary', 'geometry', 'Large', 'embarrassment', 'produced', 'planted', 'Verne', 'simulates', 'Business', 'Freon', 'Analyzing', 'powerful', 'Mainframes', 'disobeys', 'station', 'Consortium', 'situational', 'Fog', 'Postattack', 'balance', 'Does', 'antivirus', 'major', 'Surveillance', 'assurances', 'userspace', 'authenticity', 'sharing', 'Telnet', 'hashdump', 'notifications', 'Both', 'eventual', 'desktops', 'Add', 'developing', 'trackable', 'maturity', 'background', 'reporting', 'carpet', 'Inspect', 'overlooked', 'varies', 'VLAN', 'improvised', 'dirt', 'passphrase', 'exercised', 'implicit', 'advertising', 'externalities', 'justice', 'Warn', 'subpoena', 'committee', 'launch', 'failed', 'degradation', 'Auditpol', 'daylong', 'loadbearing', 'deidentifying', 'Keith', 'books', 'Way', 'deficiencies', 'buys', 'Impostering', 'prepayment', 'casual', 'complexes', 'tokenbased', 'Extension', 'territory', 'Drop', 'Channel', 'forecast', 'Moving', 'Freedom', 'scriptalertSQL', 'Iota', 'retain', 'rarely', 'AfriNIC', 'Enable', 'hardware', 'poses', 'Ron', 'describe', 'MultiFactor', 'Processor', 'DVCs', 'Facilitates', 'haven', 'experiment', 'backpropagation', 'renaming', 'Maria', 'deviate', 'confuse', 'contingencies', 'Institution', 'mobile', 'forms', 'derivation', 'Any', 'Pierpryzks', 'SAT', 'buffer', 'fraudulently', 'Logging', 'adversarial', 'predictability', 'humancomputer', 'Behindthescenes', 'Demonstrative', 'Wildcard', 'Reinforcement', 'Malware', 'encrypts', 'handshaking', 'designs', 'DES', 'Teaching', 'outsourced', 'Shopping', 'Zenmap', 'Deterdetectalarmdelayrespond', 'Attempt', 'sheets', 'Very', 'Executablebinary', 'slow', 'finalization', 'clearinghouses', 'escalating', 'Pushed', 'Diminishing', 'Payload', 'reality', 'choosing', 'These', 'CardSpace', 'adoption', 'feed', 'educating', 'papers', 'userIDs', 'EGovernment', 'Efficient', 'snapshots', 'Rigid', 'agility', 'hardwarebased', 'Discovering', 'DropLeaf', 'VoI', 'Marking', 'userlevel', 'Halfopen', 'malleable', 'principles', 'Custody', 'Items', 'Knownday', 'discusses', 'extranets', 'decoy', 'claiming', 'fully', 'Transrelation', 'Ongoing', 'Custom', 'Call', 'interests', 'NaaS', 'defend', 'believed', 'Deterrent', 'crossover', 'prepares', 'IDSs', 'principals', 'repairing', 'freeze', 'manger', 'defraud', 'antenna', 'multifont', 'contribute', 'Technical', 'CDMA', 'houses', 'voicemails', 'ionize', 'hostile', 'forward', 'Randomization', 'PDF', 'mediaspecific', 'lawsuits', 'drawback', 'Vertical', 'CASB', 'Bootloader', 'recognizing', 'night', 'plus', 'Possession', 'Putting', 'reflected', 'characteristics', 'scoping', 'Weather', 'badges', 'turns', 'cyberphysical', 'nondedicated', 'works', 'restrictive', 'threatmodeling', 'witness', 'device', 'selected', 'humaninitiated', 'knapsack', 'CPTED', 'Breakage', 'RFIDs', 'renewal', 'PIR', 'rollback', 'MAP', 'encoding', 'five', 'Cooperative', 'codes', 'SLM', 'ranking', 'orbiting', 'manually', 'Detective', 'Publication', 'Specific', 'severity', 'httpwwwCyberMetriccometcpasswd', 'color', 'Committed', 'court', 'Networkwide', 'temporary', 'Leads', 'periods', 'creeping', 'protecting', 'writeup', 'exhibited', 'rearranged', 'Authentication', 'XQuery', 'pennies', 'mainframe', 'Packing', 'Highavailability', 'finance', 'overwrites', 'DESlike', 'Nuclear', 'followed', 'explosion', 'internetwork', 'Care', 'Immigration', 'ARIN', 'NTRU', 'inverses', 'language', 'enhanced', 'Blackhat', 'assess', 'resilience', 'mandatory', 'ModExp', 'Baseband', 'Detached', 'sample', 'augments', 'issuance', 'passed', 'pervasive', 'directories', 'DMZ', 'Your', 'cooperation', 'Decimal', 'letters', 'Publicly', 'React', 'spare', 'Stealing', 'spyware', 'NICs', 'coevolution', 'cooperate', 'Redialing', 'utilization', 'industries', 'Second', 'ANSI', 'warranty', 'Managed', 'extensions', 'mike', 'signon', 'guiding', 'Keyvalue', 'Engaged', 'restrictions', 'Regional', 'Bluebugging', 'Establishment', 'treat', 'valuation', 'can', 'storing', 'undesired', 'SDES', 'generalpurpose', 'denialofservice', 'nested', 'violence', 'doing', 'trusts', 'networkbased', 'analyzer', 'ISP', 'Encryption', 'Imitation', 'SIM', 'ANDgates', 'downloaded', 'Active', 'Respect', 'mail', 'collects', 'honored', 'competitive', 'CObased', 'smoke', 'dumps', 'hence', 'possess', 'criminalizes', 'Importing', 'Compressing', 'port', 'anniversaries', 'nonconsole', 'quantumsafe', 'Falsepositive', 'modernisation', 'Robust', 'Hail', 'them', 'tcp', 'evidences', 'requiring', 'click', 'WANs', 'Know', 'normally', 'Noninjective', 'entitlements', 'Treadway', 'Revolving', 'Decency', 'hold', 'Recommending', 'operations', 'vague', 'readout', 'proves', 'Bold', 'preserve', 'Stylometric', 'comments', 'msfvenom', 'inquiries', 'invalid', 'However', 'Padding', 'STs', 'FQDNs', 'spoof', 'chartered', 'Distributed', 'gas', 'ASLR', 'clarify', 'charitable', 'Comment', 'sidechannel', 'aggregation', 'Trained', 'Inspecting', 'suggest', 'Checks', 'SandroProxy', 'announcing', 'Quality', 'fraud', 'forgeries', 'multiplexer', 'payload', 'UNIX', 'borderless', 'downgrade', 'MFP', 'Passwordbased', 'retained', 'quantum', 'silence', 'PreAuthentication', 'Told', 'Deadbolt', 'phrase', 'SIGINT', 'alignment', 'chaseways', 'Kiting', 'compensate', 'PAD', 'Rho', 'voters', 'easier', 'WordPress', 'Nexpose', 'caused', 'Interior', 'Screensavers', 'destinations', 'Metropolitan', 'EBusiness', 'punish', 'tablet', 'username', 'Brand', 'Barcodes', 'timebombs', 'overshadow', 'tunnels', 'regarded', 'applicability', 'Established', 'logic', 'affords', 'controlling', 'Assisting', 'Bytes', 'route', 'Permanence', 'workaround', 'shadowing', 'FileByFile', 'bumping', 'Threefactor', 'different', 'Local', 'continuous', 'banners', 'randomly', 'deadlines', 'renewable', 'Strict', 'senders', 'Deleting', 'verbs', 'Frank', 'reversed', 'Documentbased', 'overview', 'CLIENTMASTERKEY', 'accessed', 'Assistant', 'identical', 'overarching', 'keystroke', 'Unsupported', 'distorted', 'reinvention', 'meaning', 'theft', 'encapsulating', 'directrecording', 'Echosec', 'Collusion', 'stations', 'Trauma', 'collective', 'MOU', 'released', 'designing', 'transporttunnel', 'experiences', 'amusement', 'email', 'poisoning', 'Studying', 'providing', 'accelerator', 'month', 'multitenant', 'Trustzone', 'Infected', 'testifies', 'Narrative', 'parents', 'manufactures', 'roads', 'Sessionbased', 'Name', 'wpscan', 'radiate', 'Hardcode', 'Reported', 'Discloses', 'version', 'upperlevel', 'Academia', 'passwordchange', 'Readthrough', 'upgrade', 'going', 'bands', 'DDoS', 'SAD', 'capa', 'NTCurrentVersionWinlogonNotify', 'Corrupted', 'Type', 'SOHO', 'purporting', 'wellrun', 'easytoremember', 'Euclidean', 'Miscommunication', 'disrupt', 'LUCIFER', 'Privileged', 'phones', 'Forgery', 'wait', 'motherboard', 'patent', 'divisibility', 'risky', 'Keepers', 'methodical', 'cryptoanalysis', 'moral', 'ARCnet', 'Disallowing', 'outpaces', 'authorization', 'Absorbing', 'center', 'Column', 'Quarantine', 'Object', 'ENTITY', 'MGR', 'eavesdrop', 'misplaced', 'Compensating', 'operators', 'Netstat', 'DPV', 'analytical', 'ExclusiveORing', 'iterating', 'Protector', 'original', 'Authorization', 'deny', 'Surfing', 'notes', 'regulations', 'Availability', 'disks', 'findings', 'PUP', 'Unintentional', 'defeated', 'Condition', 'SDK', 'Ascertain', 'chromatic', 'fires', 'Unknownbox', 'institutional', 'HIPAA', 'institute', 'champions', 'Hijack', 'ignore', 'Thwart', 'OLTP', 'diversified', 'missioncritical', 'Menu', 'Lines', 'debates', 'rise', 'technological', 'workstations', 'passwordbased', 'initiate', 'labeled', 'blindly', 'RTL', 'theoretical', 'optionally', 'accepting', 'Geofencing', 'DRM', 'offensive', 'scroll', 'companycustomers', 'Preexploitation', 'Media', 'priorities', 'Transitive', 'backgrounds', 'resourceintensive', 'Customize', 'rootlevel', 'Jxpq', 'Doppler', 'locationbased', 'highperformance', 'Liberty', 'routers', 'Require', 'promiscuous', 'infeasible', 'Inheritance', 'wear', 'prototypes', 'emphasize', 'Consolidation', 'payasyougo', 'Uses', 'exclude', 'minus', 'emotional', 'Destruction', 'Quoted', 'WebScarab', 'interoperable', 'rebuilding', 'Orange', 'Read', 'Nonrepudiation', 'SMAC', 'easytoconfigure', 'Overload', 'spam', 'triggering', 'coincidences', 'substitutes', 'conducted', 'multiprocessing', 'exceptions', 'Blanket', 'transceivers', 'ISOIEC', 'second', 'WPAEnterprise', 'requester', 'outcomeoriented', 'touching', 'mimikatz', 'stricter', 'Timeofcheck', 'dominance', 'conditioners', 'ondevice', 'Enabling', 'decisions', 'replaying', 'ping', 'Director', 'relating', 'PowerDbg', 'criticized', 'famw', 'Park', 'Concealment', 'Electrotechnical', 'traitors', 'longrange', 'presence', 'endpoint', 'documentation', 'Settings', 'wrongdoing', 'Humidity', 'fulfills', 'programsupdate', 'Commercial', 'multithreading', 'catches', 'determines', 'payroll', 'handbook', 'Updates', 'Multistage', 'customers', 'stream', 'abstractly', 'Deep', 'ongoing', 'NRC', 'regeneration', 'praised', 'takedown', 'censorship', 'encryption', 'mirroringSPAN', 'interstate', 'responsive', 'remotecontrolled', 'majority', 'Visibility', 'meets', 'preparation', 'Difficult', 'Procedures', 'Communication', 'outlets', 'initiates', 'drawbacks', 'surveillance', 'Categorizing', 'subtlety', 'FrequencyHopping', 'Sniffer', 'Realtime', 'printing', 'transpositions', 'section', 'sensationalizes', 'wildcard', 'containment', 'creep', 'ATM', 'tracert', 'Trycatch', 'Socket', 'Actual', 'tweets', 'Discriminate', 'blocking', 'Invalid', 'Streamlined', 'Vacations', 'recoverycontingency', 'ransom', 'Strings', 'argument', 'Monthly', 'viable', 'invoice', 'researching', 'reconfigure', 'tone', 'enclaves', 'vary', 'assesses', 'DynamicPolicy', 'operation', 'Exit', 'cease', 'unknown', 'premise', 'face', 'Duration', 'wild', 'rearrangement', 'TRC', 'GNU', 'adequately', 'copies', 'articles', 'Investigate', 'discussion', 'unique', 'potentially', 'SDN', 'noticing', 'BSDbased', 'Undesirable', 'dataprocessing', 'Prolonged', 'horse', 'Reinstallation', 'partitions', 'correction', 'Wireless', 'federated', 'employs', 'Intelligence', 'Standardized', 'kept', 'QoS', 'locally', 'unrecoverable', 'Perfect', 'Unixbased', 'space', 'CORBA', 'Parabolic', 'warehouses', 'deviations', 'agencies', 'padded', 'ftpenum', 'Serious', 'good', 'admitted', 'dissipation', 'samples', 'Pivoting', 'oracle', 'DCE', 'certainty', 'technically', 'uncertain', 'readonly', 'Little', 'affects', 'inventor', 'nmap', 'base', 'protector', 'innovation', 'Institutes', 'espionage', 'calculus', 'Xmas', 'calling', 'Ciphertext', 'Venn', 'pandemic', 'objects', 'regenerates', 'CastleCops', 'timer', 'security', 'unattended', 'Keylogger', 'dispersed', 'profession', 'Suppress', 'bears', 'vicinity', 'utmp', 'Conference', 'constructed', 'Richard', 'subnet', 'transport', 'Unauthenticated', 'Unit', 'foundational', 'Failclosed', 'Blacklist', 'Generate', 'controlled', 'integration', 'trail', 'wifes', 'determining', 'Clark', 'Obtain', 'init', 'DITSCAP', 'Sign', 'RemoteAccess', 'initialize', 'simultaneous', 'blood', 'Foothold', 'seizing', 'Separate', 'app', 'Hashed', 'hogs', 'Referential', 'crossindustry', 'Preserving', 'Synchronization', 'auditors', 'last', 'permissible', 'compiling', 'Parameters', 'noncompliance', 'Pinning', 'FTK', 'RootKit', 'Quantity', 'Fail', 'OPSec', 'topicsquestions', 'Elliptic', 'Tape', 'Banned', 'measures', 'tamperresistance', 'networkborne', 'etcrcdrcrunleveld', 'population', 'Hawkdove', 'True', 'Reduces', 'NFS', 'definition', 'dual', 'CAT', 'Place', 'installing', 'Saturday', 'Nicholas', 'Ground', 'Userfriendly', 'Toplevel', 'havens', 'riskbased', 'dangerous', 'compress', 'POST', 'unified', 'Pulsed', 'scheduling', 'scattering', 'knowledge', 'insider', 'sniffer', 'Susceptible', 'informative', 'million', 'Backs', 'Noncoherent', 'adjustment', 'aviation', 'businessaligned', 'contributed', 'CipherTextOnly', 'listens', 'disclosing', 'unusable', 'suspiciously', 'watermarks', 'CAPEC', 'SSLbased', 'Fullopen', 'FailSecure', 'recalculating', 'Turnstile', 'marketplaces', 'Outsourcing', 'Subliminal', 'Shockley', 'Timing', 'CrossOrigin', 'BAU', 'performance', 'strengthen', 'antennas', 'Selfservice', 'Blowfish', 'extraction', 'write', 'motors', 'try', 'Prohibits', 'Shadowserver', 'November', 'callbacks', 'Nonrefutability', 'RTP', 'Smoke', 'fraudulent', 'ferric', 'layout', 'correctly', 'graphics', 'Keying', 'preferences', 'alerts', 'audio', 'players', 'relative', 'between', 'Compilation', 'Allowing', 'bidirectional', 'bug', 'shaping', 'relabeling', 'Dormant', 'absolute', 'devised', 'University', 'Collaborating', 'assessment', 'tactical', 'gaps', 'Purchasing', 'constraint', 'RAS', 'mart', 'Shrinkwrap', 'Distributive', 'hotels', 'Global', 'auditable', 'restrict', 'print', 'governed', 'Lan', 'Correlating', 'BehaviorBased', 'Worked', 'tied', 'identifier', 'Required', 'Surge', 'attachment', 'striping', 'Stegorama', 'Shielded', 'noting', 'targets', 'minutes', 'completing', 'Walls', 'calls', 'wrapped', 'menu', 'MIN', 'negotiate', 'Delegating', 'Networking', 'formatted', 'ALU', 'forensics', 'state', 'wake', 'Compensatory', 'thinkers', 'stupid', 'OOP', 'existence', 'counterattacks', 'Mode', 'permanence', 'lowering', 'xvalues', 'Twistedpair', 'residents', 'dictates', 'brute', 'supervisor', 'hardwareassisted', 'Development', 'divides', 'delivery', 'Achieving', 'collaborate', 'Passfaces', 'Fictitious', 'due', 'Must', 'Delegated', 'outsource', 'EAPSIM', 'roofs', 'outcome', 'Smash', 'Designing', 'sharable', 'Prevent', 'Centres', 'Equities', 'mutual', 'Unix', 'None', 'Surgeon', 'BaseOffset', 'Balancer', 'oneself', 'atomic', 'synchronization', 'Acquires', 'datagathering', 'kernel', 'MFA', 'IVP', 'Random', 'training', 'changes', 'trails', 'Blackbox', 'content', 'geographical', 'trumps', 'Lack', 'Hosts', 'unpartitioned', 'empathize', 'broadcasts', 'smbenumshares', 'III', 'FFIEC', 'Quid', 'realizes', 'broad', 'Blue', 'unsupervised', 'freezing', 'Shoch', 'Reception', 'Infrared', 'lowtomedium', 'students', 'exemption', 'DIRNSA', 'Bilateral', 'Font', 'outmaneuver', 'MitM', 'Passwordcracking', 'interconnecting', 'fragmenting', 'uncertainty', 'excriminal', 'Relational', 'Diagnosing', 'Fiat', 'attestation', 'Times', 'MLS', 'Deluge', 'printed', 'cipher', 'unlike', 'PhoneSnoop', 'amount', 'CERTCC', 'But', 'Bases', 'Boiler', 'instant', 'necessitating', 'regulating', 'Too', 'structures', 'keylog', 'Networkbased', 'Kernel', 'HDD', 'Processes', 'Effective', 'Office', 'neighborhoods', 'Lists', 'routines', 'crib', 'development', 'watermark', 'SMTP', 'authorities', 'syntax', 'proficiency', 'struggle', 'correlation', 'syslogd', 'Administering', 'maninthemiddle', 'despite', 'SeImpersonate', 'Thrill', 'ambiguity', 'Kain', 'WinPcap', 'Attempting', 'shoe', 'Phishing', 'Serverbased', 'cant', 'nuclear', 'COPAC', 'teams', 'shape', 'Embarking', 'Syst', 'multiply', 'Awareness', 'Implementation', 'validates', 'ideally', 'explosive', 'IDIOT', 'Creeping', 'WLAN', 'much', 'worse', 'accreditation', 'rulesbased', 'shielded', 'ciphersuites', 'Application', 'finding', 'retransmission', 'bear', 'Higher', 'statistically', 'Tag', 'inspections', 'discretionary', 'smoothly', 'endentity', 'indicate', 'implantation', 'Cyber', 'Recovering', 'creators', 'Individual', 'unwarranted', 'Interferes', 'Nothing', 'Need', 'Availabilityfocused', 'Pagefile', 'HTTPS', 'licenses', 'band', 'emergencies', 'Inspects', 'nearby', 'Cohesiveness', 'lessen', 'WSDL', 'Multifunction', 'RootKits', 'Force', 'irregular', 'detailed', 'eXtreme', 'Fred', 'Blocked', 'Anderson', 'leased', 'Innovation', 'Battle', 'Restrictions', 'justification', 'serving', 'prosecutable', 'Merging', 'ECDH', 'Preservation', 'TCBs', 'rowlevel', 'increase', 'That', 'Meaningful', 'complementary', 'confirms', 'integrity', 'App', 'interactions', 'measure', 'Berne', 'Authenticating', 'heartbeat', 'Clueful', 'yet', 'Parliament', 'performs', 'Recommend', 'Enacted', 'offender', 'wwwCyberMetriccomidsession', 'setting', 'looping', 'quicker', 'formats', 'Validating', 'Permit', 'CSP', 'disclose', 'informationdata', 'packetfiltering', 'Peach', 'protein', 'mainframes', 'peacetime', 'bidding', 'randomlike', 'HRU', 'XMSS', 'Purchase', 'lead', 'httclone', 'attempt', 'improved', 'xinetd', 'Mellon', 'charges', 'SAE', 'Extract', 'Environment', 'scale', 'sales', 'PINbased', 'League', 'Multimedia', 'heatseeking', 'conict', 'Interprocess', 'ideological', 'any', 'Exporting', 'main', 'Evaluate', 'Chaff', 'Consistency', 'legion', 'Fact', 'directors', 'belongings', 'entice', 'NoSQL', 'commandandcontrol', 'bookkeeping', 'selfcreated', 'investments', 'alerting', 'wardriving', 'Class', 'Green', 'Threatening', 'GPG', 'payperclick', 'Acts', 'dialog', 'Redirecting', 'corresponds', 'evening', 'older', 'cardonly', 'NIDSs', 'initiative', 'thus', 'Adjustment', 'Modules', 'distance', 'tell', 'Loopback', 'Ventilation', 'Settop', 'charging', 'chargen', 'appearance', 'INTERCOM', 'Costbenefit', 'sheet', 'wellunderstood', 'Abel', 'disseminate', 'duplex', 'supervisory', 'feet', 'fairness', 'Acceptability', 'Delayed', 'Expiration', 'signoff', 'routable', 'Unrestricted', 'reason', 'clone', 'Oilbased', 'federal', 'Collect', 'rings', 'shell', 'subdomain', 'Applied', 'responsibilities', 'permanent', 'inundating', 'transparency', 'select', 'noncompete', 'longest', 'adversaries', 'registries', 'rank', 'Opaque', 'keyboards', 'poisoned', 'Martin', 'product', 'normal', 'Asynchronous', 'writing', 'filled', 'Header', 'assigns', 'immunity', 'sweep', 'CPU', 'Kit', 'Corrective', 'beyond', 'entrance', 'adherence', 'Scanning', 'spells', 'DDL', 'bursts', 'publicly', 'Multiplex', 'Cat', 'isolate', 'protection', 'Locking', 'isolation', 'Ray', 'deregulation', 'Qualified', 'familial', 'way', 'RegRipper', 'URL', 'ipvsettings', 'Fresh', 'byte', 'employ', 'liaisons', 'overly', 'nearrealtime', 'REVOKE', 'Bash', 'Floppy', 'NATO', 'conditioning', 'smishing', 'restriction', 'HIPAASpecific', 'Chrome', 'Cipherlock', 'forfeiture', 'participate', 'derived', 'DML', 'Ransomware', 'created', 'AntiPhishing', 'DroidSheep', 'RFIDbased', 'VXLAN', 'elicit', 'identifying', 'executes', 'replays', 'Bridges', 'battery', 'Market', 'eligible', 'dynamically', 'diagrams', 'FINANCE', 'Chip', 'intensity', 'CWindowsSystemConfig', 'WEPcracking', 'CoE', 'acknowledges', 'terrorism', 'Findings', 'Wireshark', 'Assembling', 'Recommendation', 'mapbased', 'Dumb', 'federation', 'Context', 'Top', 'lapse', 'primality', 'Iwakura', 'XXE', 'SNMP', 'httpDaemon', 'follows', 'Knowledgebased', 'sonar', 'degree', 'Defects', 'amateur', 'metasploit', 'constant', 'Windows', 'residual', 'nonmonotonic', 'reasoning', 'Protective', 'Handprint', 'alter', 'explicit', 'XPath', 'mntsdb', 'valuing', 'fund', 'sand', 'uppercase', 'serverbased', 'Fitness', 'stops', 'firmwarebased', 'Initiating', 'Certificate', 'drills', 'swappable', 'idletimes', 'Combustible', 'CMAK', 'APPEL', 'Peripheral', 'ISSO', 'placing', 'ceaseanddesist', 'relays', 'CSRFtype', 'neurons', 'expects', 'revoked', 'Nessus', 'liaison', 'Hostbased', 'Rolebased', 'Countermeasures', 'transitions', 'bootrecord', 'Arduino', 'slashes', 'conversions', 'concerned', 'Popup', 'paylod', 'heat', 'changedetection', 'Facial', 'contentfacebook', 'implications', 'utility', 'Uniquely', 'Unique', 'presss', 'Spanning', 'National', 'emitting', 'firm', 'obliges', 'reproduces', 'locations', 'considering', 'Extended', 'measured', 'Recipients', 'Being', 'instead', 'highsecurity', 'SLL', 'Youve', 'tweak', 'misconceptions', 'Scope', 'nonresident', 'task', 'knees', 'operate', 'homeowners', 'Chromatic', 'ZoneAlarm', 'Weak', 'continuoustime', 'shoulder', 'time', 'Trinoo', 'incurred', 'sniffers', 'CoS', 'Cydia', 'Association', 'Silo', 'booth', 'Integrated', 'conclusions', 'Instagram', 'book', 'Mimicry', 'Simulate', 'challenged', 'crosscompatibility', 'unforeseen', 'waged', 'structural', 'involving', 'SEC', 'TCPIP', 'compilations', 'AVG', 'sticky', 'located', 'four', 'updating', 'smooth', 'radiations', 'gained', 'pirated', 'intelligent', 'corrupt', 'longer', 'complies', 'analyze', 'phishing', 'thugs', 'formalization', 'footprints', 'Netcat', 'walls', 'policing', 'Businesspeople', 'Postanalysis', 'visualization', 'actively', 'Ultra', 'Selection', 'hand', 'Truly', 'magnetism', 'gave', 'Locating', 'seriously', 'investigations', 'leadership', 'seventh', 'Mitigating', 'Kerckhoffss', 'Configurability', 'cryptographically', 'Defensible', 'Typing', 'involvement', 'inconsistent', 'employee', 'Movement', 'licensee', 'columnar', 'stateoftheart', 'Restatement', 'Antistatic', 'estimator', 'factoring', 'sacrificing', 'CLEFs', 'synchronize', 'needed', 'ARAP', 'tasked', 'zombies', 'CRT', 'timelines', 'Circumstances', 'Pseudorandomness', 'Enterprise', 'mismanagement', 'reconstruction', 'Unlocking', 'backup', 'Component', 'benefit', 'cohesive', 'Accrediting', 'capacity', 'bargaining', 'untested', 'Overlooking', 'Shared', 'APM', 'acct', 'transacting', 'Modified', 'listening', 'VLANs', 'envelope', 'free', 'Corrupting', 'Exploitation', 'CISSPs', 'SarbanesOxley', 'scenariobased', 'Allowed', 'Requires', 'capturing', 'Alices', 'Forging', 'conditioner', 'entersleaves', 'NETwork', 'Enter', 'curricula', 'indicative', 'Xternal', 'infection', 'Rulesbased', 'Harnessing', 'voluntarily', 'learning', 'Masterkeying', 'Repudiation', 'extraordinary', 'Specification', 'locationsdevices', 'Performancebased', 'DataLink', 'fairest', 'Karger', 'cryptoprocessors', 'president', 'Dropper', 'Although', 'platform', 'CSDI', 'presumed', 'Swiping', 'computationally', 'unsecure', 'Synchronize', 'compartments', 'split', 'path', 'Cause', 'informed', 'Beyond', 'Soft', 'Consistent', 'Smartphone', 'Wealth', 'monitoring', 'banking', 'Extracting', 'blameshifting', 'were', 'Concealing', 'Everyone', 'globallyapplicable', 'MillerRabin', 'element', 'same', 'enrichment', 'teachers', 'authorizes', 'RFID', 'workflows', 'Pad', 'Fraggle', 'fragile', 'Enforces', 'blockers', 'above', 'Narrowband', 'Compromise', 'biased', 'IIS', 'evasive', 'customizability', 'planners', 'protect', 'introduce', 'distributed', 'accepted', 'NWD', 'uncensored', 'Automatically', 'Bypass', 'Mediuminteraction', 'nonrepeating', 'editor', 'ChallengeResponse', 'Knoppix', 'concern', 'Recycling', 'Ideologues', 'bitwise', 'PhoneSweep', 'Reluctance', 'teaching', 'RRset', 'Advise', 'Symmetrical', 'processing', 'confront', 'interrelated', 'behalf', 'Nested', 'Productspecific', 'POIs', 'Programbased', 'Splitsplit', 'Employment', 'TXT', 'appropriateness', 'DESV', 'developers', 'PII', 'figure', 'Mechanism', 'FullOption', 'teach', 'Balancing', 'crossplatform', 'OSINT', 'enemy', 'nonstateful', 'resolver', 'Restricts', 'recirculated', 'deface', 'Posture', 'Shortrange', 'Bitwise', 'hostbased', 'procuring', 'Endoplasmic', 'COTS', 'deceiving', 'proponent', 'Policysec', 'Recommendations', 'into', 'airing', 'Indexing', 'pro', 'eradicated', 'room', 'strategies', 'Slower', 'Hot', 'Joint', 'Automation', 'Trustworthiness', 'investigated', 'theater', 'Denormalization', 'SDNs', 'WPAPEAP', 'curve', 'spammers', 'Visitor', 'APIKEYv', 'cribs', 'Testing', 'art', 'INSERT', 'Trust', 'camp', 'Insanity', 'Low', 'dissatisfaction', 'viewer', 'Ebusiness', 'versions', 'Sparse', 'suffered', 'Assigning', 'ovens', 'datalink', 'assists', 'incorporate', 'reachable', 'extensive', 'Transmit', 'gathered', 'diagram', 'imposing', 'releasing', 'IPS', 'leading', 'inflexible', 'Ordinary', 'Smartcard', 'calendars', 'Screened', 'NERC', 'portability', 'wider', 'Commutative', 'COMSEC', 'conveys', 'Retroactive', 'Jonkman', 'console', 'Microsoft', 'Eventbased', 'Employ', 'Proves', 'await', 'bridging', 'irregularly', 'cards', 'Causal', 'parameters', 'There', 'Launching', 'already', 'its', 'Inform', 'Errors', 'Consumers', 'readings', 'inactivity', 'Sympathy', 'Consortiums', 'encouraged', 'PSTN', 'Enabler', 'Fake', 'identify', 'seeding', 'Webenabled', 'Sessionmanagement', 'AddRoundKey', 'Repeating', 'discretion', 'Japan', 'World', 'resolution', 'patientlevel', 'ElGamal', 'possible', 'truck', 'CAs', 'symbolic', 'Bluetoothenabled', 'strengths', 'Speculative', 'iterative', 'DNSSEC', 'map', 'War', 'EBIOS', 'Function', 'Codebook', 'Weakens', 'injection', 'electromagnetic', 'SYNACKFIN', 'authors', 'statute', 'geography', 'Empowering', 'CallerID', 'Frequent', 'Operation', 'faking', 'diversity', 'fleeing', 'interviewing', 'Timeofday', 'Councils', 'WiFi', 'Substitutionpermutation', 'persistent', 'negotiating', 'Requirements', 'Curve', 'Truenegative', 'Card', 'Appropriating', 'scheme', 'Issuing', 'Eclipse', 'TMTO', 'itself', 'customizes', 'switch', 'succession', 'addon', 'newline', 'occupants', 'costaccounting', 'Broker', 'securityfocused', 'representation', 'GLBA', 'fencing', 'dot', 'acquired', 'Process', 'Missing', 'race', 'crafted', 'Sockets', 'Battery', 'Filter', 'Infrastructure', 'Alternate', 'Albert', 'establishes', 'exposed', 'salary', 'estimates', 'connections', 'Caesar', 'traverse', 'supplier', 'tuple', 'descendants', 'regulatory', 'passwordrelated', 'back', 'returned', 'discovered', 'Implementing', 'front', 'Journalistic', 'doubt', 'Enlisting', 'order', 'iteratively', 'Schroeders', 'Inbound', 'removal', 'lasting', 'attacks', 'UserPolicySet', 'Escalation', 'optional', 'unwanted', 'danger', 'Adjustable', 'disseminated', 'asymptotic', 'Stops', 'Spelling', 'Nonpromiscuous', 'waits', 'BlueAir', 'ordinal', 'entitle', 'extracting', 'mnemonics', 'NIH', 'preexisting', 'Hybridkey', 'made', 'Startup', 'lacking', 'posters', 'nonbusiness', 'AAAAAAAAAAAAAAAAA', 'purchasers', 'Experience', 'unstable', 'glean', 'selfprotection', 'session', 'Introduction', 'SAC', 'frame', 'Enveloping', 'resisted', 'penultimate', 'Sniffers', 'participating', 'unauthorised', 'vaults', 'Linuxbased', 'Semiactive', 'Encouragement', 'Facilitation', 'Pretending', 'fragments', 'education', 'accountdoc', 'Bluetoothcapable', 'magnetic', 'notifying', 'expansion', 'concentrating', 'Bloom', 'Likelihood', 'IOTP', 'Trojaned', 'IDEA', 'defensive', 'Avalanche', 'global', 'Impersonation', 'guidelines', 'Threatsource', 'custodian', 'spreadsheets', 'insurers', 'allowed', 'flooding', 'Hubs', 'files', 'bugs', 'Replaying', 'justified', 'Unavailability', 'Tasks', 'neglecting', 'committing', 'nonstatistical', 'Compression', 'Fair', 'whistleblowing', 'ambient', 'commercialized', 'width', 'Challengeresponse', 'PeopleSoft', 'EXE', 'denied', 'Magazine', 'verbal', 'recycle', 'DTSA', 'rlogin', 'assertions', 'transmissions', 'advice', 'URIs', 'textonly', 'Uninterruptible', 'vice', 'Signaturebased', 'Reputation', 'Deter', 'Disassemble', 'Building', 'Compartmentalized', 'mismatched', 'Manual', 'asynchronous', 'leads', 'IKE', 'Repairing', 'readup', 'altercations', 'Ciphers', 'Official', 'Permanently', 'Invasion', 'MCTs', 'December', 'faulttolerance', 'Adhering', 'Lowinteraction', 'intrusiondetection', 'Submission', 'microcomputers', 'RAM', 'Topology', 'garbled', 'equal', 'QSA', 'rewards', 'revoking', 'staffing', 'takes', 'Attempts', 'dismiss', 'Units', 'chunk', 'occur', 'congestion', 'confidentiality', 'kinetic', 'radar', 'subproblems', 'secured', 'Bollard', 'cracking', 'Compromising', 'logarithm', 'Fingerprinting', 'echo', 'career', 'full', 'Dynamically', 'memberships', 'supplementing', 'bureaucracy', 'piecemeal', 'CSIFBI', 'mechanics', 'Samba', 'Results', 'damaging', 'Favoring', 'column', 'emphasizing', 'RRSIG', 'peertopeer', 'AESCCMP', 'netstat', 'defines', 'Inaccurate', 'Shielding', 'Closet', 'DCSSI', 'PASS', 'Highinteraction', 'riding', 'Solicitation', 'Redistribute', 'FragmentationFragmentation', 'revisions', 'selection', 'there', 'Just', 'visitor', 'highvalue', 'Scheduler', 'excessive', 'Checksum', 'outright', 'chess', 'criticism', 'noninjectiveness', 'combustible', 'adhesion', 'assets', 'combined', 'proliferation', 'Practice', 'Breach', 'exterior', 'Using', 'establishment', 'shortened', 'ego', 'few', 'posting', 'keyderivation', 'resist', 'continuing', 'browserbased', 'broadband', 'ACKFIN', 'presses', 'leaves', 'benchmarking', 'loophole', 'Onewayness', 'padding', 'Ambiguity', 'TextOnly', 'ISPs', 'certifications', 'yourself', 'checks', 'imprisonment', 'scormcompatible', 'proportionate', 'Pulse', 'lamps', 'Attack', 'rsa', 'ciphertexts', 'Regard', 'devices', 'Tim', 'TimeDomain', 'Ending', 'distinguishable', 'OpenVAS', 'AIDC', 'units', 'flaws', 'multilevel', 'EnCase', 'grouped', 'distributing', 'BMA', 'ingredient', 'powering', 'Triggers', 'Rolling', 'sum', 'ledgers', 'translates', 'endlessly', 'flowing', 'Unicast', 'Periodic', 'stronger', 'verifications', 'authoritarian', 'sharedkey', 'legality', 'Rejewski', 'sftp', 'Foreign', 'AIS', 'least', 'placed', 'expressing', 'Prohibit', 'excellence', 'render', 'Stack', 'satisfy', 'Stable', 'Completely', 'Olly', 'balancing', 'dirthdays', 'Calculations', 'installation', 'Smirnov', 'similarity', 'Machine', 'Corresponding', 'ext', 'mark', 'PostScript', 'definitions', 'officialdesignated', 'Categorization', 'factoryconfigured', 'ClarkWilson', 'Changemanagement', 'phase', 'load', 'RAID', 'cybersecurity', 'pharmaceutical', 'overt', 'joy', 'TGi', 'systematic', 'ATTs', 'She', 'transmission', 'meters', 'KEEPALIVE', 'Layered', 'plugged', 'Standardizing', 'usage', 'inequality', 'supplements', 'Disinformation', 'ZigBee', 'Validates', 'reinforce', 'Parol', 'Justice', 'everchanging', 'HTTPsys', 'omit', 'TEMPEST', 'overwhelming', 'criminalize', 'implied', 'Timely', 'Blacklisting', 'decode', 'Gartner', 'emanation', 'usrlocalbin', 'IdentityBased', 'Optic', 'Additions', 'Revocation', 'Cookiebased', 'latent', 'redirected', 'tailgaiting', 'authority', 'consolidated', 'Liquid', 'perpetrator', 'empathy', 'Strength', 'workings', 'decisive', 'institution', 'First', 'SiteDigger', 'populations', 'Applying', 'highinteraction', 'Estimation', 'REV', 'Step', 'Revisiting', 'incentive', 'Forwards', 'andor', 'Moved', 'Zone', 'tenet', 'scoring', 'plant', 'boot', 'Client', 'Span', 'directs', 'Strictly', 'deciding', 'concentration', 'scarce', 'lowpass', 'accordingly', 'yards', 'attracted', 'Incandescent', 'ACLs', 'ARO', 'Stored', 'published', 'Understand', 'independence', 'qualifications', 'marking', 'access', 'PRF', 'exchanged', 'stressful', 'might', 'sold', 'narrowing', 'assuming', 'Printers', 'Assessment', 'Decoding', 'academic', 'Title', 'Airmon', 'Jennifer', 'breaking', 'Fragmentation', 'Throughput', 'Unsophisticated', 'Departmentspecific', 'comprised', 'algorithmic', 'artifact', 'Identity', 'birthdays', 'subjected', 'Susceptibility', 'threatvulnerabilityrisk', 'reject', 'Xuejia', 'originator', 'designated', 'PFS', 'work', 'treatments', 'technical', 'ignored', 'Slowloris', 'collect', 'DevOps', 'Exemption', 'AAR', 'CYMRU', 'Onsite', 'characterised', 'threatsources', 'Preventative', 'significantly', 'ATTCK', 'corrupted', 'generating', 'Clear', 'Librarylevel', 'toll', 'truss', 'unproductive', 'origin', 'Increases', 'continued', 'Auditory', 'Proxy', 'Caching', 'imposes', 'credentials', 'TCPUDP', 'obfuscation', 'misuse', 'Welchman', 'mechanisms', 'dispute', 'org', 'Cavity', 'liability', 'formal', 'reseeding', 'Cut', 'Workforce', 'kappa', 'Advance', 'contribution', 'properly', 'Greater', 'NOT', 'gcdb', 'commonly', 'Scan', 'Carving', 'Organisations', 'CCTA', 'Strengthen', 'monolithic', 'Logger', 'snoop', 'create', 'lifespan', 'trait', 'Permutation', 'owner', 'Seeking', 'postmortem', 'now', 'FourthWorld', 'singleprocessor', 'msgSubSeven', 'logon', 'KeyUsage', 'Diners', 'regularization', 'Scrubbing', 'Spain', 'holes', 'Principle', 'supervisors', 'Spamhaus', 'IPSEC', 'paranoid', 'reducing', 'claimed', 'passage', 'concatenation', 'DLP', 'NTLMonly', 'Dealing', 'xxe', 'command', 'wellfounded', 'blocklevel', 'complying', 'illegal', 'Mounting', 'meeting', 'Netflow', 'Encouraging', 'testimony', 'Completing', 'gateways', 'reassessing', 'defenders', 'IMSIcatchers', 'airborne', 'Hopkins', 'indiscriminate', 'brand', 'permitted', 'somewhere', 'Preaction', 'excriminals', 'TEE', 'Rogue', 'PGPGPG', 'vowelstepper', 'Semitrusted', 'Improper', 'lacked', 'Incorporation', 'Recently', 'roles', 'structured', 'Outofline', 'Obscuration', 'Bureau', 'Anywhere', 'victim', 'measuring', 'locksmiths', 'Membrane', 'Wasting', 'sequentially', 'updates', 'NeedhamSchroeder', 'onetime', 'years', 'heap', 'BCD', 'unintended', 'registers', 'designed', 'contracts', 'Middle', 'baselining', 'SIG', 'asked', 'relationship', 'exemplified', 'solvable', 'authorship', 'Pangu', 'methodological', 'fun', 'inquiry', 'extra', 'interdependencies', 'cleartext', 'coding', 'maliciously', 'Timestamps', 'PRBS', 'Ripper', 'rulebased', 'VOWstepper', 'deep', 'people', 'Turning', 'RuleBased', 'shifting', 'COMMANDEXE', 'loses', 'SFuzz', 'currencies', 'smartcard', 'Superior', 'Unsolicited', 'pass', 'talk', 'Reliability', 'mentality', 'ethical', 'streamdetectscans', 'Botnet', 'GDT', 'hats', 'Upgrading', 'Integrate', 'handled', 'growth', 'complacent', 'package', 'wipe', 'machines', 'watch', 'launched', 'attributed', 'WAP', 'enciphering', 'Accounting', 'Promiscuous', 'Dividing', 'Gap', 'uneven', 'Volumetric', 'arpspoof', 'Componentlevel', 'policybased', 'heuristics', 'Minimized', 'Greed', 'Tunneling', 'criteria', 'signal', 'FCAP', 'MPLS', 'Multitenancy', 'Consultatif', 'OSPF', 'serviceoriented', 'unmanned', 'OTP', 'Visible', 'objectively', 'Modelling', 'Servicelevel', 'topoftheline', 'Novell', 'Cleanup', 'FTPS', 'vendors', 'multicasting', 'refresh', 'perceptions', 'undetectable', 'PKS', 'Law', 'compensatory', 'alongside', 'Doctrine', 'Modem', 'architect', 'Cinspired', 'locationactivity', 'mechanism', 'CscriptEalertwubbleCscriptE', 'exploitations', 'triangle', 'modem', 'places', 'intend', 'Initializing', 'restoring', 'Roaming', 'Consequential', 'Indicates', 'Companys', 'traits', 'falseacceptance', 'Saltzer', 'tens', 'exercises', 'minimizes', 'teambuilding', 'Unicode', 'Modification', 'bulk', 'isomorphic', 'tree', 'neuron', 'Signatures', 'costly', 'CircuitLevel', 'governmental', 'Smart', 'Honeypotbased', 'Christmas', 'Photoimage', 'calculate', 'compatible', 'Highly', 'reticulum', 'amplifies', 'everyone', 'Ciphertextonly', 'Preemployment', 'Description', 'spelling', 'nextbit', 'Fastflux', 'consisting', 'Lifecycle', 'variations', 'effortless', 'differently', 'browsers', 'forwardable', 'jammers', 'Norton', 'Promise', 'quantumresistant', 'Crimes', 'diving', 'higherpriority', 'hour', 'Apps', 'Conspiracy', 'Lee', 'airport', 'Logs', 'armed', 'PEEK', 'exfiltrate', 'Tertiary', 'module', 'Gmail', 'backed', 'Unlabeled', 'Halting', 'prover', 'Failed', 'commitments', 'valve', 'reduction', 'uniform', 'Clock', 'monoalphabetic', 'IDs', 'Reset', 'unit', 'Characteristic', 'exhibit', 'Full', 'diminishes', 'Constant', 'objectionable', 'Summarizing', 'Reciprocity', 'achievements', 'Filtering', 'expiration', 'Urban', 'electoral', 'unmodified', 'Longer', 'notifies', 'subkeys', 'Firesheep', 'borrowed', 'Corruption', 'anonymity', 'Undocumented', 'correctness', 'Presence', 'facsimile', 'momentary', 'packetswitching', 'prefer', 'excluding', 'Resisting', 'Fun', 'Debugging', 'read', 'invertible', 'accomplishment', 'Spim', 'Exposing', 'serve', 'discounted', 'RADIUSPR', 'Lots', 'SOX', 'shuts', 'body', 'Manufacturing', 'hole', 'concealing', 'Overview', 'asset', 'crafter', 'Ansible', 'fulfilled', 'Symmetry', 'voice', 'eyewitness', 'keyboardinputoutput', 'Wide', 'Companion', 'Nondiscretionary', 'safeguards', 'diverse', 'Doing', 'deemed', 'eating', 'adapter', 'ideas', 'Continuity', 'sense', 'speech', 'RTSP', 'Userdefined', 'Nemours', 'vehicles', 'packetwashing', 'remnants', 'Mandatory', 'Satisfaction', 'with', 'Consent', 'Backing', 'terminators', 'broader', 'vault', 'signaling', 'Consolidating', 'Screen', 'intangible', 'linemanagement', 'aversion', 'hijack', 'archival', 'Dumpster', 'Entropy', 'items', 'KSAs', 'benefactor', 'Transition', 'Arranging', 'updated', 'Twofactor', 'look', 'Handshake', 'Keyboard', 'SSID', 'Combo', 'Ultraviolet', 'Xxx', 'CDN', 'Registers', 'wrongdoers', 'thresholds', 'Calculation', 'Baltic', 'sealed', 'facility', 'caching', 'ICSA', 'disagrees', 'BSS', 'Categorize', 'Unreasonable', 'accumulates', 'Escape', 'datastorage', 'grounded', 'Allows', 'OSes', 'proposals', 'Nucleus', 'Continue', 'communicated', 'Logicbased', 'abduction', 'Neighbor', 'earlier', 'interconnectivity', 'preserving', 'Conversational', 'Intimidation', 'barriers', 'combustibles', 'disposed', 'assessors', 'integers', 'RoleBased', 'patient', 'leak', 'EARN', 'smb', 'Bernoulli', 'Stripe', 'fake', 'servicegranting', 'Some', 'founder', 'NextGeneration', 'segment', 'Latency', 'mislead', 'eradicating', 'carry', 'Distance', 'passwords', 'connecting', 'Scanner', 'Fidelity', 'pots', 'Long', 'prioritized', 'something', 'baselines', 'maternity', 'methodologies', 'hijacked', 'BlueBorne', 'PRIME', 'merchants', 'Randomized', 'stories', 'set', 'bounty', 'Berkeley', 'Lost', 'Koh', 'firstparty', 'Revoked', 'Glass', 'cyberdefence', 'goes', 'ConfidentialProprietary', 'EAPOLStart', 'rises', 'financing', 'MSCHAPv', 'Prohibition', 'behave', 'deauthentication', 'weaker', 'devicefunction', 'dereference', 'architectures', 'XMAS', 'Wiretransfer', 'ETSI', 'repeatability', 'webpage', 'detect', 'redundancies', 'abandon', 'cardinal', 'backbone', 'obtaining', 'Detection', 'whitening', 'inks', 'Upper', 'ePHI', 'rotor', 'caught', 'empowerment', 'NetIntercept', 'Intranet', 'Mail', 'Penetration', 'FBI', 'diagonal', 'FAA', 'charter', 'Validity', 'Printing', 'Detecting', 'Perimeter', 'initials', 'Overreliance', 'preservation', 'NIC', 'appropriate', 'structure', 'SBL', 'topdown', 'countrys', 'polling', 'SPAN', 'leverage', 'modernday', 'Lighting', 'progress', 'Timed', 'wardialing', 'living', 'computation', 'Basic', 'prioritizes', 'Preparation', 'resistance', 'Several', 'construct', 'transitive', 'engines', 'constituent', 'crash', 'Unikernel', 'February', 'variance', 'Where', 'Poor', 'WEP', 'masterminds', 'word', 'rainbow', 'journaling', 'SQLSECURE', 'Inadvertent', 'drive', 'Grabs', 'pretexting', 'Output', 'strengthens', 'exciting', 'Attaining', 'Types', 'instantly', 'breakins', 'legislative', 'intermediaries', 'Tachograph', 'Oakley', 'statutory', 'proposal', 'Salvage', 'Hunt', 'reasonably', 'Vstepper', 'interchange', 'Executing', 'Monopulse', 'shifted', 'Prepare', 'RSAKEMDEM', 'impractical', 'disabling', 'crossorigin', 'Selecting', 'Proving', 'characterorless', 'transferred', 'raise', 'highrisk', 'hosting', 'SESIP', 'AltF', 'vital', 'facts', 'listed', 'Sandbox', 'quote', 'accepts', 'shorter', 'onebyte', 'downside', 'chunks', 'Compiled', 'Chapter', 'intranets', 'Interference', 'halfopen', 'Hiring', 'fraudster', 'RivestShamir', 'ScreenedSubnet', 'Resistance', 'surfing', 'Scheduling', 'ticketgranting', 'Boost', 'Pervasive', 'generate', 'CProgram', 'referential', 'Investigating', 'Weaknesses', 'cyberterrorism', 'SESAME', 'Retrieving', 'Quick', 'Agreements', 'Individuals', 'SurfinGuard', 'Efficiency', 'assured', 'stalk', 'Securityevtx', 'Destination', 'MMU', 'PPP', 'Remote', 'Tortious', 'Cipher', 'interconnect', 'Misusing', 'Forcing', 'STAC', 'Presented', 'destroyed', 'Usernames', 'SSTP', 'Ability', 'SNEP', 'safer', 'Mitigation', 'ending', 'valuable', 'applications', 'Decompiler', 'Padded', 'formulation', 'changed', 'competition', 'those', 'Connection', 'Minimize', 'Johns', 'foreseeable', 'correcthorsebatterystaple', 'frivolous', 'NSTL', 'Integrity', 'Teardrop', 'countermeasure', 'serverless', 'Assertion', 'decoded', 'overcrowding', 'digits', 'identifyports', 'Dependencies', 'Pools', 'indexhtml', 'EPROM', 'confidence', 'marker', 'TTL', 'ACID', 'wasnt', 'specification', 'builtin', 'selfcontained', 'embraces', 'reflects', 'predictions', 'Attention', 'TSFr', 'crossing', 'denying', 'generator', 'graphical', 'implanted', 'EAP', 'categorizing', 'Multistate', 'integrated', 'wildfires', 'BIOS', 'settle', 'Features', 'sieve', 'Delivery', 'Assess', 'Disassembly', 'discovering', 'rapidly', 'completely', 'distraction', 'Repeater', 'Choosing', 'dismantling', 'Direction', 'replaced', 'coordinating', 'userbased', 'return', 'Specifies', 'ignores', 'finishing', 'random', 'curves', 'prescriptive', 'detective', 'positions', 'vacation', 'affordable', 'entrapment', 'Modes', 'Crackers', 'tunneling', 'originating', 'Copying', 'unrelated', 'Calls', 'switching', 'issuing', 'WAISP', 'furnish', 'wiredump', 'thwarted', 'Detailed', 'Redirect', 'Exclusively', 'Bradbury', 'Cracker', 'break', 'Observing', 'Limited', 'prohibits', 'bombs', 'Theta', 'interdependency', 'ISSC', 'repeatable', 'datastore', 'Versioning', 'pin', 'Hierarchy', 'Incident', 'caller', 'NTG', 'Dissemination', 'SYNURG', 'RSAOAEP', 'duplicated', 'receive', 'Severe', 'invasion', 'complications', 'Cloudscan', 'organization', 'arguments', 'primarysecondary', 'tears', 'nonstandard', 'difficult', 'specialized', 'Query', 'Territorial', 'routersfirewalls', 'Presentation', 'chronic', 'equitable', 'Recruitment', 'Set', 'Secretary', 'Provider', 'proposing', 'cryptanalyze', 'SDS', 'Risks', 'TDR', 'these', 'internal', 'experience', 'server', 'pace', 'FibreChannel', 'through', 'booted', 'Penalties', 'transforms', 'obscurity', 'knocking', 'argue', 'determinant', 'plans', 'Neural', 'desks', 'Twofish', 'send', 'administrator', 'PRNG', 'Wave', 'imposed', 'CIA', 'TradeOff', 'promoting', 'ingressegress', 'Subnet', 'relations', 'remain', 'bookmakers', 'biggest', 'Phrenologic', 'uniquely', 'XOR', 'Preference', 'employers', 'instances', 'Anomaly', 'tort', 'RivestShamirAdleman', 'kvalues', 'Quantification', 'Guideline', 'CSMACD', 'IKEIPSec', 'Resumption', 'redblack', 'Absolute', 'scrutinize', 'constraints', 'correct', 'weighted', 'Fiscal', 'compmgmtmsc', 'Overlay', 'unclassified', 'Fame', 'oriented', 'dysfunctional', 'advance', 'facial', 'Electrical', 'loginid', 'CAESAR', 'Deploy', 'mature', 'VNC', 'Continual', 'Documented', 'Blaise', 'wellbeing', 'IPAddress', 'Insideoutside', 'AESGCM', 'marketplace', 'virusinfected', 'Locations', 'intrusionrelated', 'Revised', 'cash', 'Ethernet', 'preface', 'illustrated', 'communication', 'Centralized', 'trap', 'recycling', 'Repeatable', 'competitor', 'GMER', 'loquitur', 'noble', 'browsing', 'Isaac', 'FilesPasswords', 'startup', 'devastating', 'reauthenticate', 'ordinary', 'offerings', 'Laboratory', 'reenable', 'Pattern', 'Vendors', 'vast', 'focuses', 'feedback', 'accessibility', 'provable', 'reelection', 'malware', 'reliably', 'annually', 'siren', 'Barcoded', 'harassment', 'modular', 'FPGA', 'arrangement', 'RXCSUM', 'Escalating', 'Steering', 'away', 'Negotiation', 'spanning', 'pentesting', 'HKEYCURRENTUSERSoftwareMicrosoftWindowsDLLs', 'trend', 'roundtrip', 'lesser', 'nonwork', 'determine', 'sudo', 'twoman', 'Fill', 'standardisation', 'Eulers', 'deleting', 'participates', 'Serial', 'extradition', 'VAST', 'entering', 'Faking', 'OneTime', 'image', 'unaltered', 'transferring', 'accomplish', 'workloads', 'Gates', 'Cribbing', 'Quadratically', 'programbased', 'perception', 'shorten', 'Replacement', 'Sense', 'why', 'enough', 'inactive', 'signature', 'Reversing', 'disperse', 'MUD', 'Stealthware', 'What', 'COOP', 'scrambling', 'Multiplexers', 'Saturated', 'Badge', 'however', 'animals', 'Transferability', 'Corrosion', 'fit', 'Heaters', 'preauthentication', 'clearly', 'Stop', 'fresh', 'Printer', 'Joins', 'March', 'Arson', 'lax', 'addresses', 'GaloisCounter', 'evidence', 'Writing', 'Analytic', 'bazaarlike', 'Entities', 'reestablish', 'VPNs', 'datachecking', 'FullInterruption', 'Rational', 'RTCP', 'computing', 'checkins', 'PVLANs', 'Weekly', 'produc', 'sea', 'deposited', 'Republic', 'systemctl', 'premiums', 'configurable', 'auxiliaryscannerhttpbrutedirs', 'characterbit', 'CFI', 'Radial', 'timefocused', 'surreptitiously', 'bits', 'victims', 'internalexternal', 'Networked', 'thermostat', 'Enhancement', 'networks', 'Sections', 'Tiger', 'seldom', 'Usernamepassword', 'interruptions', 'Preventalarmdelayrespond', 'Block', 'evidentiary', 'Converting', 'client', 'travel', 'Departmental', 'agents', 'Alternative', 'Void', 'Tabular', 'digest', 'Overt', 'Resulted', 'overheating', 'predate', 'unmonitored', 'Administer', 'exam', 'Protocolspecific', 'toolsinfrastructure', 'Xenon', 'EIDS', 'Super', 'consonants', 'NCFTA', 'effort', 'sustain', 'judgment', 'keyword', 'NSCs', 'Consulting', 'Curl', 'Triton', 'ARM', 'expect', 'longdistance', 'tipping', 'cycles', 'leaders', 'indicating', 'sake', 'surges', 'PenetrateandPatch', 'certifying', 'Holds', 'EAPMD', 'constituencies', 'Circumstantial', 'Enduser', 'choice', 'governmentsponsored', 'Tammy', 'cURL', 'rescue', 'application', 'Uncovering', 'eradicates', 'Ratio', 'allied', 'willingly', 'Length', 'levels', 'decreasing', 'difficulties', 'Securitylog', 'result', 'Formation', 'Vampire', 'infect', 'missed', 'signer', 'Ascertaining', 'BIC', 'States', 'Reforming', 'Exterior', 'Run', 'subjective', 'Fund', 'reboot', 'balancer', 'tampering', 'symmetrical', 'subscription', 'bring', 'Nonpersistent', 'twochannel', 'Challenges', 'Conduct', 'important', 'templates', 'philosophy', 'Aworm', 'Enhance', 'Turnstiles', 'Economic', 'timestamps', 'breakdowns', 'spooled', 'Stripping', 'Bug', 'informationgathering', 'software', 'vowels', 'Assigned', 'guaranteed', 'deploy', 'matter', 'breached', 'technologyspecific', 'toolbars', 'Supreme', 'Labeled', 'cumulative', 'PKIbased', 'Humans', 'unethical', 'Isolating', 'cabled', 'EncryptionIntegrity', 'keypads', 'reportto', 'twistedpair', 'AAA', 'Following', 'replaceable', 'gain', 'Automate', 'BlueSnarfing', 'Checking', 'RSAKEM', 'throughout', 'fluctuation', 'supplying', 'Adjustments', 'Account', 'psychology', 'FIRST', 'Intelligent', 'Incremental', 'Cyberespionage', 'saturate', 'motions', 'Size', 'harmless', 'Integers', 'Quasi', 'reckless', 'lighterweight', 'Sampling', 'networking', 'believe', 'motivated', 'traversing', 'geographically', 'enumlinux', 'Processing', 'sanctioned', 'dividing', 'Council', 'Heating', 'ISAC', 'posed', 'VMEs', 'Vulnerabilityspecific', 'Train', 'clauses', 'reception', 'seeks', 'especially', 'SKIP', 'amendment', 'judges', 'overseas', 'disconnections', 'keeping', 'largest', 'opposite', 'groups', 'reidentification', 'securitysensitive', 'midlevel', 'Raspberry', 'Rsisk', 'finegrained', 'ssh', 'wish', 'responsibility', 'mismatch', 'proof', 'facilitated', 'subnetting', 'establish', 'rightmost', 'Subtraction', 'Syntax', 'lightweight', 'trojan', 'bottom', 'Changes', 'today', 'DoH', 'FDMA', 'tolerable', 'destination', 'interior', 'Variability', 'clustered', 'CSS', 'Floyds', 'NSRL', 'page', 'mediasdb', 'disparate', 'ideals', 'XACML', 'PPK', 'Flags', 'recommendations', 'Investigation', 'Simply', 'paradigms', 'Counterfeit', 'owneruser', 'commercially', 'Support', 'IGMP', 'CVP', 'keystrokes', 'Sage', 'train', 'document', 'Packet', 'execution', 'Obfuscation', 'distinction', 'Violations', 'GSM', 'NCSC', 'Doubles', 'redistributes', 'CIPA', 'improper', 'retransmit', 'Budget', 'Familiarity', 'Fabyan', 'Successful', 'guru', 'roadmap', 'Obfuscate', 'TThe', 'FailSafe', 'Secure', 'cycling', 'approximating', 'Incorporate', 'sewer', 'except', 'dependent', 'friendly', 'feasible', 'CRL', 'Antimalware', 'categorized', 'budgetary', 'Functionality', 'heart', 'Proxyable', 'PKIXCMP', 'indeed', 'signing', 'Guidelines', 'incontestable', 'Rejection', 'Microprocessor', 'Fuzz', 'Minimizes', 'Zeroday', 'classic', 'reciprocal', 'vessels', 'Registry', 'bypassing', 'baggage', 'Benefited', 'July', 'entered', 'riskreducing', 'Focus', 'rpcbind', 'fee', 'efficiencies', 'Attackspecific', 'IGRP', 'upgrades', 'Touch', 'Burmese', 'fashion', 'reads', 'lacks', 'offloading', 'Option', 'DSS', 'Cubic', 'remailers', 'Extensible', 'Chief', 'geostationary', 'PowerSploit', 'Explicitly', 'fallacy', 'Trustworthy', 'cumbersome', 'Alleviation', 'demonstrates', 'doctrine', 'infected', 'standardized', 'specialisation', 'score', 'ARPANET', 'polyalphabetic', 'styles', 'Transfer', 'Identical', 'allowing', 'Access', 'retaining', 'known', 'Prolog', 'regardless', 'centers', 'Imposing', 'conformance', 'Keyinknob', 'fitness', 'intends', 'Hacktivist', 'undue', 'Success', 'laws', 'insignia', 'blacklist', 'unseizable', 'metadata', 'Erasing', 'SID', 'hat', 'Cracking', 'milliseconds', 'tags', 'Halfduplex', 'UMTS', 'historical', 'Cardpluskeypad', 'fatigue', 'UAC', 'DVDs', 'scareware', 'ordering', 'DolevYao', 'distinguishing', 'Vulnerable', 'level', 'tag', 'Generational', 'intention', 'Aligning', 'handheld', 'negotiated', 'subject', 'kernellevel', 'Connectivity', 'consistently', 'blur', 'afteraction', 'saw', 'Digital', 'amplitude', 'clusters', 'subsequent', 'Directive', 'sensing', 'fundamental', 'compulsory', 'healthy', 'systemlevel', 'required', 'transactions', 'magnitude', 'installipv', 'OCM', 'Spectrum', 'prevention', 'telemetry', 'Dummy', 'RTO', 'Ion', 'Separation', 'concerns', 'evaluator', 'competence', 'LPI', 'Buffer', 'Comparing', 'inference', 'tweakable', 'cubic', 'privately', 'bluesnarfing', 'providers', 'radiated', 'desired', 'Blazent', 'Flows', 'Composite', 'expedite', 'after', 'compound', 'RSN', 'Heartpulse', 'Messages', 'NIOSH', 'offers', 'Workstation', 'PHP', 'enrolling', 'tamperevident', 'enforceable', 'Companies', 'outbound', 'enduser', 'Environmental', 'emphasizes', 'shipments', 'Manufacturer', 'cabling', 'Transactions', 'answering', 'boots', 'Raw', 'century', 'cognitive', 'Germany', 'versa', 'Export', 'fair', 'replay', 'dramatic', 'bots', 'General', 'Gaussian', 'enhancement', 'characterization', 'learned', 'opportunity', 'usermode', 'Resolution', 'transparently', 'predefined', 'off', 'within', 'ecriminal', 'ASCII', 'overclocking', 'lates', 'standpoint', 'Indirect', 'GMT', 'normalizer', 'highstress', 'passivation', 'retransmits', 'Allow', 'Developmentacquisition', 'Blackberry', 'EAPKey', 'tested', 'preemployment', 'rootkit', 'VDI', 'successor', 'Countering', 'obstruction', 'penetrated', 'Brooks', 'sell', 'absolutely', 'CCTLs', 'mappings', 'lifecycle', 'ISSEA', 'clearer', 'Demonstrates', 'IDPS', 'preventive', 'footcandles', 'omissions', 'duplicating', 'Messaging', 'reference', 'stance', 'MIS', 'synthetic', 'Documents', 'neglected', 'Regulation', 'Max', 'hotspots', 'Determining', 'practice', 'Convergence', 'Acid', 'softwares', 'bin', 'questionnaires', 'ObjectOriented', 'guards', 'distortion', 'Internetconnected', 'nonauthorized', 'nearly', 'inferencing', 'Water', 'Anonymitypseudonymity', 'OECD', 'granted', 'treats', 'smbloginpasswords', 'engaged', 'accomplishments', 'Sally', 'companyname', 'Nonroutable', 'resume', 'Tunnel', 'closely', 'similar', 'condensation', 'Biometric', 'landscape', 'masquerades', 'costs', 'compact', 'STARTTLS', 'idea', 'PSH', 'proactively', 'EaaS', 'outdated', 'closenotify', 'interchangeable', 'circumstances', 'archives', 'RBGs', 'Known', 'microscopy', 'DCCOM', 'entitys', 'ltrace', 'PaaS', 'Offi', 'Maximizing', 'wordlist', 'workload', 'selective', 'captive', 'ban', 'purchase', 'BRP', 'TPDUs', 'Third', 'deterministic', 'complicating', 'instructional', 'unexplained', 'leases', 'modulus', 'decentralize', 'intent', 'NGFW', 'pleasing', 'Differentiator', 'depend', 'Abstraction', 'Patch', 'resending', 'RPO', 'Frequency', 'Physical', 'selfreplicating', 'SPD', 'recommendation', 'mix', 'geographic', 'domestic', 'emergencydisaster', 'knows', 'showcased', 'Transient', 'dominates', 'eservice', 'exchanges', 'inconvenience', 'reuse', 'deal', 'Regenerating', 'smaller', 'Encommerce', 'wristband', 'Bayesian', 'directions', 'CCB', 'Extraneous', 'keypad', 'Covertly', 'reversible', 'adversary', 'Nmap', 'contributions', 'Soma', 'feasibility', 'Weaponization', 'NASA', 'toolsmith', 'parcels', 'SLE', 'congruences', 'relevance', 'furniture', 'highly', 'trends', 'Needs', 'visible', 'Role', 'freelyavailable', 'advisable', 'emanations', 'ethics', 'method', 'realizing', 'infringement', 'PROM', 'Sponsor', 'Bitlocker', 'Frameworks', 'assistants', 'distributive', 'requirement', 'Pipe', 'Nstage', 'function', 'distortions', 'autumn', 'CISO', 'preparing', 'halves', 'blog', 'disposal', 'misappropriate', 'Default', 'metrics', 'Concerns', 'Reconnaissance', 'hops', 'draw', 'recommend', 'January', 'impending', 'Leading', 'attempting', 'negatively', 'privacyaware', 'TVbased', 'Fax', 'Irrelevant', 'technician', 'Occasional', 'supplicant', 'BlackEnergy', 'Leadership', 'percentages', 'AuthenticatethenEncrypt', 'Linking', 'rather', 'Fiddler', 'bags', 'models', 'manuals', 'busy', 'EncryptandAuthenticate', 'State', 'Various', 'TGSs', 'buildings', 'encrypted', 'Annihilation', 'values', 'Safari', 'fairly', 'civilian', 'Feature', 'Remap', 'investigates', 'perpetrated', 'Over', 'Orlando', 'input', 'far', 'cross', 'Interpret', 'mathematics', 'pool', 'followup', 'mantrap', 'Hashing', 'retrieved', 'prison', 'ISAKMP', 'Stronger', 'pools', 'ASIS', 'Peaceful', 'overwrite', 'parts', 'shuffles', 'ticket', 'micro', 'symlink', 'Blocklevel', 'Enhances', 'Broadband', 'Tuesday', 'stating', 'inexplicably', 'Admiralty', 'Primarily', 'Appraisal', 'VENONA', 'adhere', 'rules', 'separationofduty', 'Feudal', 'Religious', 'threads', 'legal', 'reliant', 'Traffic', 'fragmented', 'hello', 'Alerts', 'absolve', 'Netscape', 'Checklists', 'DRP', 'Explain', 'shellcode', 'turn', 'Policybased', 'metropolitan', 'Learn', 'uses', 'guide', 'baiting', 'incremental', 'phony', 'competing', 'PostTransaction', 'pen', 'Tamperevident', 'gallon', 'SRTP', 'Handwritten', 'KISS', 'unresponsive', 'accuracy', 'poison', 'AUP', 'controllers', 'Protect', 'smartcards', 'desiderata', 'Mutual', 'spreads', 'Details', 'probably', 'CCE', 'diagnoses', 'directory', 'CSPP', 'Number', 'optimization', 'Spade', 'tertiary', 'fragroute', 'impersonationlevel', 'Balance', 'circuitlevel', 'Speak', 'discoverable', 'pruning', 'costsaving', 'nonmatch', 'Transponders', 'artificial', 'Scavenging', 'sensors', 'HWSW', 'sabotage', 'monetary', 'EAL', 'pseudoprime', 'repudiation', 'phases', 'nouns', 'ultimate', 'Customizable', 'UpdateDisplay', 'messages', 'Dispatching', 'signifies', 'Normal', 'platen', 'Designated', 'separation', 'still', 'baseline', 'keys', 'Tolerance', 'Dialing', 'earliest', 'LPD', 'transited', 'Pretexting', 'Constitution', 'conventions', 'bootstrap', 'Considering', 'China', 'cannot', 'enabling', 'Falsifying', 'RMR', 'birthdate', 'modifying', 'Decrypting', 'exceptionally', 'classtype', 'Evil', 'OIDC', 'Ego', 'facing', 'recipient', 'businesss', 'payphones', 'hampered', 'friend', 'Avoid', 'boundaries', 'deprovisioned', 'exhaustive', 'specialists', 'cover', 'solution', 'elections', 'OpenSSL', 'traditional', 'clientemployer', 'odd', 'Distribution', 'denies', 'PublicKey', 'qualification', 'driver', 'arrival', 'connects', 'header', 'Naval', 'kinds', 'Bletchley', 'Throughdialing', 'excluded', 'mobiles', 'assignment', 'presented', 'coalition', 'Losing', 'Developments', 'frequently', 'Shellshock', 'skewnesses', 'Approved', 'Onion', 'Avoidance', 'sampling', 'Predistributed', 'Sensor', 'Expired', 'automotive', 'approve', 'BitLocker', 'backend', 'Stays', 'popularly', 'Specialization', 'Writedown', 'Authenticated', 'TSecr', 'XORing', 'Effectiveness', 'Guardcontrolresponsephysical', 'proxy', 'Programmable', 'red', 'simple', 'fourdigit', 'adding', 'Exception', 'Additionally', 'shouldersurfing', 'totals', 'expectations', 'Identifier', 'declare', 'preparedness', 'evolutionary', 'RuBAC', 'Tendency', 'TOCTOU', 'appoint', 'Malwarebytes', 'distinguish', 'Lattice', 'combat', 'dlayna', 'Commandments', 'assist', 'ifthen', 'necessarily', 'advancement', 'borrow', 'police', 'Medical', 'Clickjacking', 'exponential', 'Stateless', 'compliant', 'faked', 'Station', 'underlying', 'Preengagement', 'Wayback', 'Scrambling', 'Incidents', 'Baneware', 'nucleus', 'pivoting', 'Usermode', 'documenting', 'Confusion', 'regulators', 'checksandbalances', 'national', 'Reduction', 'ACS', 'regional', 'characterized', 'Speedpass', 'spoofs', 'Xerox', 'Inde', 'wave', 'FIPS', 'visit', 'AttackFlood', 'style', 'guessed', 'retrieve', 'observation', 'states', 'modules', 'overwriting', 'relate', 'GHF', 'lowbandwidth', 'Nth', 'Gateway', 'spending', 'Team', 'destroying', 'offtheshelf', 'aenmod', 'Malfeasance', 'reconsider', 'closer', 'packages', 'etc', 'tightly', 'WMRM', 'utilizing', 'members', 'digests', 'Computing', 'CERT', 'TSL', 'GPRS', 'Man', 'lighting', 'store', 'Poorquality', 'RSAPSS', 'dig', 'inputting', 'right', 'Chosenplain', 'UAVs', 'Start', 'flooring', 'fingerprint', 'cracked', 'TksA', 'conference', 'BrewerNash', 'thieves', 'Declassification', 'numbering', 'cascade', 'refuse', 'unreasonable', 'leftmost', 'Relabeling', 'Ephemeral', 'Specifying', 'duration', 'primes', 'TKIP', 'worm', 'Psychological', 'Decision', 'ACL', 'implication', 'Minimum', 'afterthefact', 'impersonation', 'skills', 'company', 'RST', 'CORS', 'Even', 'associates', 'Credit', 'FiberData', 'BIND', 'Victim', 'promptly', 'Border', 'bound', 'IRC', 'pad', 'inputs', 'title', 'avoids', 'enrolled', 'contemporary', 'skilled', 'PatternMatching', 'JSON', 'jumps', 'copyright', 'router', 'head', 'exhausts', 'Edward', 'Casewhen', 'NIAP', 'PyCrypto', 'Debug', 'PADSS', 'breach', 'James', 'Misconfiguration', 'Requests', 'instruction', 'Selling', 'Thresholdbased', 'Admission', 'frustration', 'STRIDE', 'witnesses', 'prescribed', 'Elevating', 'Rseaux', 'restoration', 'prone', 'Configure', 'zero', 'Noise', 'Pacific', 'highpriced', 'Confirmation', 'Rich', 'residues', 'SignOn', 'tend', 'roofmounted', 'SSDs', 'Complexities', 'Captive', 'unable', 'add', 'accused', 'Goats', 'Secrecy', 'live', 'confrontation', 'rooting', 'humanity', 'postquantum', 'MasterCard', 'Between', 'Purple', 'colloquially', 'Strip', 'solving', 'tamper', 'datagrams', 'realized', 'Emanation', 'Brian', 'Exhaustion', 'income', 'evasion', 'UserJoe', 'GrammLeachBliley', 'supplemental', 'extinguisher', 'gratuitous', 'Root', 'refactoring', 'paragraphs', 'screening', 'build', 'from', 'Depend', 'Cathys', 'Redundant', 'Selective', 'Observation', 'Television', 'rebuilt', 'doorlocking', 'Models', 'newsletter', 'Humanbased', 'political', 'enclave', 'Problem', 'Recording', 'engineering', 'Maturity', 'innocuous', 'scenarios', 'boxes', 'intervention', 'Hijacking', 'Preset', 'transfer', 'Lateral', 'Securityrelated', 'valid', 'Crossreferencing', 'MVC', 'Tapping', 'Smurfing', 'environment', 'Decreased', 'Directed', 'Brated', 'crime', 'Sticky', 'lessonslearned', 'miniservers', 'media', 'Positive', 'SET', 'thematic', 'sentence', 'DIAC', 'affected', 'singlefactor', 'Manually', 'abuses', 'adjustments', 'TEMP', 'Test', 'Represent', 'Countermeasure', 'industrystandard', 'Gathering', 'CASE', 'standard', 'poor', 'linear', 'Astonishment', 'collectability', 'consult', 'membrane', 'PINs', 'transposition', 'DIF', 'Consecutive', 'Threeway', 'customizing', 'uprising', 'Onetomany', 'children', 'Fermats', 'DOC', 'Cyberstalking', 'scaled', 'cyberworld', 'Discovery', 'Ensuring', 'thwart', 'optout', 'CBC', 'Snyder', 'cars', 'Tuples', 'vacated', 'CIO', 'Raising', 'calculates', 'latest', 'Bluejacking', 'Monoalphabetic', 'ITIL', 'delete', 'automate', 'rcp', 'https', 'Cryptocurrency', 'environmentally', 'strong', 'technologys', 'Architectural', 'decentralised', 'IAB', 'PSKs', 'reconfiguration', 'hire', 'outofbounds', 'Rigidly', 'pristine', 'combinations', 'plaintextciphertext', 'Sheep', 'Mossads', 'penetration', 'Script', 'KDF', 'blocked', 'tendencies', 'Julie', 'colleagues', 'dormant', 'Monitors', 'import', 'Exhaust', 'Jukebox', 'Controller', 'inband', 'administers', 'Outsider', 'ERR', 'FrequencyDifferential', 'per', 'reduces', 'manager', 'offense', 'Crowd', 'flag', 'Redacting', 'inability', 'SIEM', 'Accessallow', 'defaulthtml', 'repeatedly', 'aided', 'intellectual', 'Identification', 'hop', 'unrestricted', 'representing', 'campaigns', 'BCP', 'IDSIPS', 'filesystem', 'quieter', 'conflicts', 'Secondary', 'nullifying', 'Implement', 'Downloading', 'LAND', 'hiding', 'Cisco', 'Pharming', 'Unearth', 'neural', 'crosscheck', 'catalyst', 'DKIM', 'Teams', 'ifconfig', 'Bear', 'allocated', 'Quantitative', 'Maximum', 'EAPOOP', 'OFB', 'fostering', 'Trademark', 'Monitored', 'Asian', 'Untraceable', 'abuse', 'highlevel', 'Rate', 'tabletop', 'matches', 'flood', 'viewers', 'fault', 'Ignoring', 'Dark', 'Tokens', 'Degaussing', 'Sensitivity', 'concentric', 'Quickly', 'Eyes', 'uphold', 'place', 'Internalexternal', 'Geldkarte', 'exclusively', 'Tripwire', 'HKEYLOCALMACHINESoftwareMicrosoftWindowsNTCurrentVersionShellServiceObjectDelayLoad', 'Shiny', 'CobiT', 'emulated', 'electronically', 'Reject', 'reading', 'RFC', 'Economically', 'Sniffing', 'healthcare', 'willing', 'Whitfield', 'Creation', 'Recursive', 'Keystream', 'Fault', 'nationalsecurityrelated', 'totient', 'fullduplex', 'Certifications', 'camerabased', 'Generating', 'redundancy', 'Selfhealing', 'astonishment', 'studies', 'Vandalizing', 'Ramen', 'amplifying', 'Session', 'medical', 'Operational', 'lesson', 'And', 'Steady', 'liable', 'Misdirection', 'Motorola', 'Observer', 'summoned', 'Lightbased', 'shown', 'awareness', 'Constraints', 'Kasumi', 'About', 'combines', 'maps', 'family', 'shortest', 'Forge', 'Anonymizer', 'Heckel', 'Superzapping', 'concealment', 'SetID', 'Effi', 'appear', 'Lessig', 'shalt', 'deception', 'Employing', 'Improve', 'cryptocurrency', 'ISC', 'objectbased', 'POC', 'anonymization', 'penetrationtesting', 'snort', 'Reconfigure', 'believing', 'Commodity', 'officers', 'uniformity', 'undergo', 'sniffing', 'FiatShamir', 'answers', 'preference', 'missiles', 'disassembling', 'Federated', 'Subsystem', 'listener', 'branded', 'CDROM', 'contextual', 'industryaccepted', 'WantBack', 'disadvantage', 'testify', 'distract', 'remembering', 'Measuring', 'randomizing', 'documents', 'longerterm', 'goods', 'pertains', 'Measured', 'fuzzing', 'DgaGdBoY', 'Plasma', 'nonshared', 'UML', 'inspiration', 'detrimental', 'TGT', 'Concatenating', 'SoftwareFirmware', 'Army', 'satellites', 'waveform', 'bulkload', 'Systemlevel', 'nonbinding', 'wouldnt', 'contributes', 'Congestion', 'significant', 'Suruga', 'imitates', 'decoration', 'mid', 'corporations', 'phone', 'Targeting', 'Lowprobabilityofintercept', 'EEPROM', 'restructuring', 'update', 'continually', 'MIMEVersion', 'Servers', 'Policies', 'crossrealm', 'informationtheoretic', 'timing', 'violating', 'CFB', 'Handling', 'Brad', 'sophisticated', 'compares', 'wget', 'intervals', 'Website', 'Oce', 'COMMIT', 'occurs', 'processor', 'CCEB', 'outofband', 'normalizing', 'reinfecting', 'frontend', 'Comit', 'Container', 'Detections', 'desirable', 'utilizes', 'Manipulative', 'environments', 'Maximize', 'Follow', 'Military', 'matching', 'Reasons', 'Pseudoflaw', 'Products', 'incapacitate', 'sure', 'precisely', 'seamlessly', 'Entire', 'total', 'Prior', 'aspects', 'Consideration', 'ITSEC', 'audits', 'trapdoor', 'NIPS', 'CipherText', 'Safeguards', 'spread', 'fosters', 'MSTG', 'Alteration', 'cyber', 'represents', 'VME', 'Inconvenience', 'examines', 'Improved', 'flexible', 'outlining', 'Cabling', 'numeric', 'relies', 'portsaccess', 'slopes', 'overcome', 'controller', 'CPSs', 'SSaS', 'approximations', 'Checker', 'are', 'Adapting', 'eBay', 'DMARC', 'endocytosis', 'Systems', 'VMs', 'promotion', 'classify', 'Disruption', 'Raised', 'payment', 'Symbolic', 'depended', 'Disposal', 'packets', 'variable', 'registration', 'Tracker', 'HKEYLOCALMACHINESoftwareMicrosoftWindowsCurrentVersionExplorerShellIconOverlayIdentifier', 'hot', 'Technique', 'less', 'refined', 'voltage', 'Participate', 'twofactor', 'publish', 'CIDR', 'raising', 'Remotebased', 'chainofcustody', 'WPS', 'Identifies', 'scanned', 'whereas', 'markup', 'SHF', 'angry', 'labor', 'HRMS', 'speed', 'archetype', 'shut', 'thermography', 'videotaping', 'string', 'xss', 'Failsafe', 'IPsecbased', 'download', 'Tracking', 'Filteredno', 'progressed', 'feeds', 'susceptible', 'hashes', 'discontinuity', 'ties', 'ICV', 'researchers', 'Partial', 'does', 'third', 'technicalbased', 'collaborations', 'arriving', 'asymmetry', 'truckers', 'act', 'attitudes', 'ISA', 'offered', 'dialing', 'offering', 'alert', 'traceroute', 'Backstopping', 'Concepts', 'Use', 'jobrelated', 'Exxons', 'AntiEavesdropping', 'Auditor', 'Response', 'suits', 'unclear', 'grant', 'alternative', 'risktaking', 'Mbps', 'Stagnant', 'tracking', 'citizens', 'mean', 'Brute', 'program', 'clutter', 'Incorporates', 'budgets', 'human', 'Outlining', 'here', 'Special', 'timeline', 'Objectively', 'twolayer', 'Negotiated', 'Defines', 'before', 'Registered', 'seals', 'Migration', 'relay', 'Coercion', 'pseudonymous', 'Inside', 'Elasticity', 'many', 'delayed', 'Microsofts', 'Duty', 'recommends', 'Ensures', 'arising', 'Fourth', 'hydriodic', 'Viability', 'statesponsored', 'reward', 'commutative', 'output', 'Scripted', 'Deviation', 'offload', 'Shire', 'quantitatively', 'FERPA', 'nginx', 'include', 'evaluating', 'parse', 'Probing', 'EncryptthenAuthenticate', 'lockpicking', 'transform', 'appeared', 'PBX', 'destruction', 'Violators', 'Logon', 'Hypervisor', 'pcap', 'formulating', 'Combining', 'Amendment', 'employing', 'inside', 'tailor', 'informationprocessing', 'Classification', 'dissecting', 'carries', 'Competitor', 'divulging', 'auditor', 'HKEYLOCALMACHINESoftwareMicrosoftWindowsNTCurrentVersionWinlogonNotify', 'Precomputed', 'Four', 'distributes', 'superuser', 'Splithorizon', 'Fork', 'Overnet', 'iCloud', 'equations', 'response', 'sexes', 'history', 'discourage', 'delegates', 'revenge', 'Frequently', 'counterclockwise', 'gov', 'Impact', 'Simplified', 'lowresource', 'nonAEAD', 'WPScan', 'LatticeBased', 'DSSS', 'Daily', 'top', 'attach', 'CyberCrime', 'prevalence', 'employer', 'implements', 'Boring', 'Synchronized', 'Stream', 'CDE', 'PAP', 'Analyze', 'pulse', 'SYN', 'Generalization', 'takeover', 'boring', 'Site', 'optimize', 'universally', 'IPX', 'ROM', 'Upload', 'Objectives', 'executional', 'misusebased', 'timeouts', 'establishing', 'Club', 'paymentprocessing', 'patching', 'Overproduction', 'Producing', 'replicates', 'selfreplicates', 'largescale', 'taps', 'moderate', 'comparable', 'systematically', 'apparatus', 'Chinas', 'votes', 'TCPTROJAN', 'stringent', 'conditional', 'inaccurate', 'Don', 'replicas', 'most', 'buyer', 'avoidance', 'Insider', 'delivers', 'nations', 'Objectifs', 'Enterprises', 'Designating', 'remained', 'Preferred', 'Premature', 'shift', 'cutandpaste', 'etcapachesslserverkey', 'reverseengineer', 'Yearly', 'impacts', 'AuC', 'CLIPPER', 'Unpatched', 'Viewer', 'RDP', 'researcher', 'apparent', 'King', 'rankings', 'usermod', 'Aliveness', 'removing', 'attaches', 'posing', 'overtheair', 'dumped', 'renewed', 'Antivirus', 'Sieve', 'Blind', 'Recovery', 'Selfassessment', 'masked', 'Clickthrough', 'Algorithm', 'Multipart', 'bytebybyte', 'conductive', 'dependable', 'formulate', 'nooperation', 'mimics', 'Dependability', 'contributor', 'Pair', 'nemesis', 'piece', 'Pile', 'Reasonable', 'Neumann', 'install', 'Can', 'Intersecting', 'OAEP', 'Cryptoanalysis', 'prospective', 'sections', 'Acknowledgment', 'hoax', 'scp', 'Family', 'list', 'mirroring', 'drives', 'inefficiencies', 'harm', 'analyzed', 'lose', 'Neglecting', 'demilitarized', 'listbased', 'Ethereal', 'NGOs', 'behaviors', 'Insecure', 'standalone', 'tight', 'during', 'PDU', 'ProtocolInternet', 'Public', 'Management', 'senior', 'lengthening', 'ABACACBE', 'Wheel', 'Snarfing', 'detectors', 'trustworthy', 'accordance', 'multiuser', 'scratch', 'Authenticity', 'accountable', 'impermissible', 'recruiting', 'modifies', 'Trusted', 'Never', 'reusable', 'Distributes', 'Integrityfocused', 'reporturi', 'Changedetection', 'Later', 'cable', 'obfuscated', 'mbit', 'electromagneticthermal', 'preprocessor', 'tailored', 'stabilization', 'RADIUSB', 'consumption', 'causal', 'Configuring', 'Standards', 'Assumption', 'notable', 'highlighted', 'Monetary', 'committed', 'THCSCAN', 'SAPI', 'AttributeBased', 'Plaintext', 'Duties', 'Crime', 'insistent', 'Tlephonie', 'Administrative', 'DMZs', 'worker', 'endorsement', 'agreements', 'Semihidden', 'safetycritical', 'Former', 'TINA', 'defenseinbreadth', 'avoided', 'hypertext', 'passports', 'guarantees', 'advancements', 'John', 'Fast', 'Linked', 'Formats', 'investigating', 'Privilege', 'decrypts', 'whitebox', 'assure', 'reasons', 'deploying', 'exploitbrutewebdirs', 'division', 'price', 'stress', 'baselined', 'Assn', 'repairs', 'subnetwork', 'stereotyped', 'Detects', 'adopt', 'reaches', 'FREAK', 'parser', 'smbversion', 'prototype', 'Forum', 'ISOTF', 'opens', 'earning', 'Sponge', 'pages', 'KennedyKassenbaum', 'rootkitbased', 'Luring', 'Exclusivity', 'basis', 'Philanthropic', 'East', 'sells', 'allocation', 'United', 'driving', 'led', 'handset', 'location', 'clienthello', 'manageability', 'Keys', 'Government', 'reminders', 'functional', 'twoway', 'serial', 'blot', 'normalized', 'informationtheoretically', 'complainedof', 'BlackBox', 'Mining', 'holograms', 'adapt', 'Unbiased', 'datacollection', 'questions', 'management', 'uptimes', 'differs', 'FineGrained', 'farther', 'directly', 'Quorum', 'XTSAES', 'assigned', 'Realworld', 'CPO', 'evolution', 'phenomenon', 'Rotors', 'Nest', 'Dependant', 'organizationalbased', 'reevaluation', 'Guaranteeing', 'Disabling', 'octet', 'utilize', 'rush', 'impose', 'spurious', 'approvals', 'Configuration', 'legacyclosed', 'impacting', 'concepts', 'unchangeable', 'troubleshoot', 'clerk', 'crashes', 'Scalpel', 'Route', 'markers', 'keyvalue', 'Restrict', 'terminals', 'Coordinated', 'Stringent', 'ICANN', 'specifies', 'inward', 'pays', 'XML', 'Polyinstantiation', 'cables', 'Platform', 'Confidence', 'lowend', 'WAV', 'Ken', 'PEM', 'tailgating', 'risks', 'electrical', 'cathedrallike', 'steal', 'Listings', 'Reverse', 'hardest', 'Generators', 'MARS', 'Installer', 'Heap', 'faxes', 'Pairwise', 'Code', 'Convey', 'enforceability', 'requestor', 'RCE', 'Pigpen', 'LOIC', 'zeroday', 'Multilayer', 'under', 'seal', 'camera', 'embedded', 'Uploading', 'Dora', 'even', 'provisioners', 'Poisoning', 'Running', 'bigger', 'globally', 'Perception', 'Disks', 'larger', 'autocorrelation', 'chkconfig', 'roll', 'Benefits', 'spectra', 'Smokeactuated', 'ensuring', 'Marian', 'Plane', 'Centers', 'brutedirs', 'amend', 'simply', 'Release', 'comprises', 'activeactive', 'businesstobusiness', 'StaaS', 'FolderContents', 'footers', 'Probable', 'quickest', 'Broad', 'Len', 'Satan', 'cognizable', 'enticing', 'twoperson', 'Firmware', 'Amazon', 'Tightening', 'secures', 'With', 'Architectures', 'Wiretapping', 'Ensure', 'swipe', 'SubBytes', 'MSR', 'applets', 'Browsing', 'CGI', 'rigorous', 'welleducated', 'Foreseeable', 'blind', 'cybercriminal', 'carried', 'Whether', 'designates', 'downtimes', 'ESN', 'Customized', 'Attacker', 'Initial', 'exhaust', 'personalized', 'ANPR', 'attacker', 'Budapest', 'assembler', 'integrityprotected', 'practical', 'Financial', 'faith', 'Facilitating', 'Acknowledging', 'rating', 'powers', 'introductory', 'courthouses', 'symmetrickey', 'rotates', 'Data', 'Informal', 'threats', 'TwistedPair', 'Advanced', 'anything', 'delineate', 'MAX', 'Creating', 'Pressing', 'Userrelated', 'including', 'Education', 'CLOUD', 'recon', 'CrossSite', 'Leaving', 'initially', 'UNCITRAL', 'interrupted', 'DAST', 'prefers', 'conflict', 'degrade', 'addressed', 'vendetta', 'programmatically', 'Replace', 'scripts', 'generators', 'equation', 'keyboard', 'Filing', 'Inference', 'Adequate', 'defences', 'car', 'massively', 'Duplicating', 'Symposium', 'nmblookup', 'netsh', 'Strategic', 'requisite', 'OAM', 'legislation', 'adminroot', 'reviews', 'illuminated', 'DESEEE', 'Microsoftbased', 'targeted', 'joining', 'Equivalency', 'Whitelisting', 'archiving', 'centralize', 'suspect', 'hacktivist', 'connectionless', 'Burma', 'coin', 'typos', 'fooling', 'nonrestrictive', 'tachograph', 'Turnbull', 'USBbased', 'ago', 'Chosen', 'securitycapable', 'ACD', 'analyzes', 'strengthened', 'blows', 'Cover', 'infrastructure', 'reverse', 'edict', 'transactional', 'Mitigate', 'Untrusted', 'Watch', 'Orbit', 'lop', 'data', 'limit', 'middlewarestyle', 'Shutdown', 'errorchecking', 'Case', 'CyberPhysical', 'additive', 'dir', 'CWindowsUsersPasswords', 'formerly', 'falsify', 'Ineffective', 'deployed', 'Relying', 'DISA', 'plate', 'consonant', 'Return', 'Relevancy', 'volunteer', 'emulates', 'artificially', 'exceed', 'OpenVPN', 'Accounts', 'counterfeit', 'script', 'acquire', 'singular', 'Adding', 'Verifies', 'etcmembers', 'essential', 'survive', 'Advances', 'Declaration', 'Actuator', 'mes', 'freeways', 'societal', 'Customers', 'Golgi', 'Sixteen', 'displacement', 'Assessors', 'careless', 'occurred', 'antiworm', 'NDAC', 'bank', 'vowelconsonant', 'AAD', 'Mandating', 'fragmentation', 'spacecraft', 'voting', 'MIBs', 'change', 'uniqueness', 'rewritable', 'snapshot', 'Firstparty', 'parallelizable', 'ASMS', 'incident', 'Input', 'targetedbased', 'mining', 'outlines', 'remind', 'publishers', 'earrings', 'Compress', 'Boebert', 'tagged', 'structuring', 'Tethering', 'Tokenisation', 'PBoxes', 'Ping', 'FTP', 'spacebased', 'Biba', 'UDPFirewall', 'telegraph', 'Mary', 'resetting', 'Curved', 'pairings', 'Calling', 'America', 'extracted', 'plan', 'CAD', 'Pieters', 'information', 'theorems', 'LOKI', 'EXTERNALNET', 'Surf', 'upgraded', 'False', 'Encourage', 'InputOutput', 'Hellman', 'Schema', 'rendered', 'Civil', 'UDDI', 'helps', 'African', 'Sequence', 'choose', 'Fagan', 'built', 'Ten', 'Formal', 'Watchdog', 'Carrier', 'substituting', 'socket', 'responsibly', 'floating', 'professing', 'Managable', 'waves', 'nonvulnerability', 'enumerate', 'streamline', 'NPL', 'Burst', 'Untethered', 'customized', 'harder', 'square', 'Websites', 'challenging', 'umbrella', 'TokenPassing', 'DomainKeys', 'album', 'knowledgebased', 'talent', 'Schultes', 'eXtensible', 'inconsistency', 'viewipv', 'highlights', 'purge', 'jury', 'downstream', 'Larger', 'CNA', 'bearing', 'Scorecard', 'sysadmins', 'Evacuation', 'policy', 'Spoof', 'Adjust', 'thorough', 'packers', 'NIKSUNs', 'contained', 'outofline', 'concentrations', 'Penguin', 'Cuts', 'instrumentation', 'matrix', 'Compartmentalize', 'design', 'Unclassified', 'Javas', 'confinement', 'weboftrust', 'Specializing', 'systems', 'overshadows', 'usernames', 'aircraft', 'Throw', 'need', 'Cryptographic', 'overrun', 'cwheel', 'Consistently', 'fiction', 'measurable', 'Accessible', 'bruteforce', 'reverseengineering', 'Loading', 'skill', 'questioning', 'would', 'concentrator', 'ingress', 'SKEME', 'selfdescriptive', 'InvMixColumns', 'engineered', 'direnum', 'tier', 'vulnerabilities', 'XORed', 'strings', 'patchrelated', 'outofthebox', 'forum', 'texts', 'Fiber', 'trick', 'encrypt', 'recommenders', 'extinguishers', 'InvShiftRows', 'innocence', 'code', 'Ariadne', 'journals', 'Locally', 'waiting', 'Intracellular', 'professionals', 'filetypetxt', 'maintainability', 'Worm', 'TCPlevel', 'species', 'TRUE', 'Twisted', 'scenario', 'BlazeMeter', 'Information', 'Defending', 'Postday', 'Characterisation', 'gamma', 'runtime', 'XRI', 'adaptation', 'Keeping', 'RADIUS', 'Demonstration', 'budgeting', 'erroneously', 'scheduled', 'adverse', 'semiopen', 'initiating', 'Direct', 'clearipv', 'posted', 'BartPE', 'Tommy', 'microcharges', 'junctions', 'channel', 'TrustAnchors', 'revolves', 'midstream', 'Partnering', 'thread', 'Easy', 'unfair', 'dilemma', 'IndependentBackward', 'sites', 'Shell', 'asymmetrical', 'translate', 'compose', 'Terraform', 'Telecommunication', 'Carol', 'unlicensed', 'drawn', 'bogus', 'over', 'cartridge', 'recreating', 'extranet', 'lining', 'unpublished', 'SSF', 'kits', 'replayed', 'Compliance', 'Anomalybased', 'Modifying', 'Assessments', 'comply', 'Documentary', 'project', 'NOP', 'stays', 'URLs', 'centrally', 'NATOs', 'Capacitance', 'outlaw', 'internetworks', 'Titfortat', 'Seven', 'KEK', 'Equal', 'IPcompatible', 'Planned', 'terrorists', 'querying', 'stateful', 'Minimalist', 'some', 'Power', 'wealth', 'designation', 'Quantify', 'Decentralizing', 'behaviorbased', 'identities', 'recorded', 'Chemical', 'Death', 'proceed', 'WebViews', 'YKrelated', 'intercepts', 'Flaws', 'StormWorm', 'TTC', 'personal', 'spectrum', 'miss', 'restore', 'checkout', 'Boiling', 'WhitfieldDiffie', 'retribution', 'IOC', 'happened', 'Stub', 'improvements', 'MPVPN', 'hijacking', 'factorizations', 'Sherlock', 'demands', 'breaks', 'cost', 'met', 'compensating', 'creates', 'fixtures', 'variety', 'Prioritizing', 'annotate', 'row', 'cryptanalysis', 'Node', 'polymer', 'productionready', 'Bomb', 'quarter', 'appeal', 'preapproved', 'eSafe', 'DeepFreeze', 'literary', 'interchangeably', 'PDPD', 'NonDisclosure', 'minisupercomputers', 'ICSs', 'Bluetooth', 'interpretations', 'filelevel', 'WebServ', 'explanatory', 'Logbased', 'decentralized', 'cooperated', 'watching', 'fifth', 'TXCSUM', 'replicate', 'EXPAND', 'evaluates', 'Motivations', 'ecosystem', 'namespaces', 'Proliferation', 'Foreseeability', 'arrested', 'informs', 'Own', 'should', 'consent', 'hardened', 'ATO', 'offboarding', 'Instantaneous', 'prescribes', 'preserves', 'securitys', 'Strategy', 'etcftpaccess', 'Ntier', 'consumer', 'fullopen', 'GUI', 'executable', 'Deciding', 'securing', 'descriptive', 'Prank', 'perimeter', 'passwordpassphrase', 'Desk', 'NFPA', 'Statutory', 'Defacements', 'Certified', 'peers', 'XDI', 'infiltrate', 'Compile', 'Java', 'listings', 'reach', 'conditioned', 'outofsequence', 'farms', 'complain', 'recording', 'Verbal', 'Prederegulation', 'preventing', 'decoupling', 'Hubandspoke', 'anomalybased', 'like', 'routes', 'Final', 'Voiceprint', 'primitive', 'Payment', 'Polyphabetic', 'ODBC', 'Turn', 'morphing', 'Probabilistic', 'paying', 'mutually', 'pooling', 'causing', 'Consider', 'Noninterference', 'procedural', 'locking', 'lies', 'Records', 'Portal', 'Xtra', 'Repair', 'QUIC', 'plagiarism', 'longestablished', 'clock', 'Coprocessor', 'disprove', 'multiplicative', 'Extraction', 'affiliates', 'laaS', 'filebased', 'Manipulation', 'safe', 'propagates', 'Sets', 'goodnessoffit', 'stealthier', 'HKEYLOCALMACHINESoftwareMicrosoftWindowsCurrentVersionExplorerBrowserHelperObjects', 'fewest', 'Birthday', 'elsave', 'sandbox', 'Priority', 'notify', 'Hyperbolic', 'logons', 'chmod', 'accidently', 'every', 'via', 'ECrime', 'signs', 'slightly', 'strike', 'Punish', 'Optical', 'impossible', 'polynomialtime', 'attaching', 'Zealandbased', 'etcpwlog', 'aperture', 'Optimizes', 'Smartstalking', 'whereabouts', 'responders', 'Intangible', 'Chicken', 'Grey', 'Telephone', 'Organizing', 'moves', 'CAST', 'inversion', 'sound', 'cater', 'LACNIC', 'SubstitutionPermutation', 'ward', 'Door', 'Conversation', 'NetSpot', 'demotivate', 'strict', 'TPM', 'rule', 'STP', 'effects', 'hundred', 'wrist', 'Finding', 'NISTapproved', 'Jim', 'verifiable', 'acceleration', 'cleandesk', 'logbased', 'examples', 'fingerprints', 'Altering', 'Reconnect', 'sitting', 'hang', 'Widearea', 'ToP', 'Bollards', 'trash', 'persuading', 'Persons', 'Inaccessible', 'Approach', 'LFM', 'Capsa', 'SubSeven', 'rest', 'NATenabled', 'syntactic', 'recognized', 'NTXP', 'RBAC', 'Precomputing', 'slogans', 'customary', 'cutoff', 'Merkle', 'estimate', 'PHI', 'While', 'Distribute', 'Accessreverse', 'prior', 'tolerance', 'DiffieHellman', 'Prisoners', 'alliance', 'paging', 'improvement', 'pornographic', 'rolebased', 'Marketing', 'predicate', 'Surface', 'Autoconfigures', 'sale', 'SeCredentials', 'merchandise', 'offline', 'CCTV', 'receiver', 'unregistered', 'theoretically', 'traced', 'trillion', 'disclaimer', 'Monitor', 'Hardening', 'NetworkLayer', 'Gordon', 'Datatraffic', 'Drops', 'Reaching', 'Eligibility', 'Translates', 'Elementary', 'Guidance', 'debate', 'versus', 'CHAP', 'evaluators', 'SSHMSGKEXINIT', 'department', 'uncover', 'growing', 'anywhere', 'numerous', 'justify', 'Share', 'overloaded', 'Training', 'promote', 'USAs', 'Deactivating', 'micromanaging', 'manytoone', 'resultant', 'weaken', 'PIX', 'Railroad', 'shimming', 'Multipartitism', 'Compliancebased', 'address', 'Unified', 'delivered', 'GrahamDenning', 'clicked', 'Cage', 'illustrates', 'microphones', 'causes', 'Oneway', 'LinuxUNIX', 'timeless', 'Nodes', 'Keep', 'falsepositive', 'portmap', 'regularly', 'partnerships', 'Probability', 'actor', 'rude', 'hybrid', 'PPs', 'Snow', 'MTTB', 'EOC', 'variability', 'curit', 'discarding', 'Designer', 'derive', 'Host', 'Injection', 'Hostile', 'fuzzy', 'motion', 'Netcraft', 'essay', 'arrest', 'PCAP', 'countering', 'Misconfigurations', 'Depth', 'weekly', 'Tactical', 'RSAPASS', 'thought', 'Whitelist', 'Methodically', 'surfaces', 'fileintegritychecking', 'portmapper', 'Millennium', 'Why', 'enumeration', 'Pessimistic', 'remainders', 'widelyknown', 'purchasing', 'bragging', 'Replacing', 'Livedata', 'defined', 'achieved', 'post', 'budgeted', 'Scheme', 'Attacking', 'segmenting', 'spoofing', 'Whistleblower', 'Bilham', 'practices', 'meet', 'Prediction', 'alarmfire', 'Punitive', 'honeypots', 'Shodan', 'develop', 'CIT', 'Covenant', 'marketers', 'Graham', 'enacted', 'BAS', 'responses', 'obsolete', 'Initiate', 'challengeresponse', 'expands', 'Mozilla', 'afterhours', 'Meet', 'Gilbert', 'Reinstall', 'Front', 'fragility', 'Simpler', 'Preimage', 'buffers', 'ADSL', 'disconnect', 'Assistance', 'Chargeback', 'defects', 'native', 'sue', 'Watermark', 'PackerEncryptor', 'inspects', 'Subjective', 'recursive', 'Beth', 'blocker', 'Collects', 'Spies', 'onprevent', 'lanes', 'alarms', 'unrecognizable', 'provider', 'Capstone', 'Liaison', 'assert', 'titles', 'Breakdown', 'Employees', 'Diectories', 'Credentials', 'investigate', 'onboarded', 'escalation', 'protest', 'profound', 'weights', 'Black', 'Weakness', 'Fire', 'Degauss', 'lets', 'interactive', 'hyperlink', 'item', 'CloudTest', 'Vowel', 'computerbased', 'Delivers', 'Observe', 'Maximizes', 'Thus', 'prevented', 'ownership', 'arisen', 'tandem', 'Enforcements', 'Simplifying', 'forprofit', 'expressions', 'vectors', 'central', 'Nonelectronic', 'SDPA', 'checklists', 'resistant', 'constrained', 'trigger', 'pseudonymization', 'Preassessment', 'multitenancy', 'Analyse', 'Fragmented', 'Reconstructing', 'Mathematical', 'received', 'aim', 'cribbing', 'Injecting', 'CSystemConfigSAM', 'steps', 'wrote', 'Understanding', 'End', 'crisis', 'shrinkwrap', 'component', 'Costbased', 'allow', 'hit', 'Flexibility', 'Singlefactor', 'forged', 'fed', 'Driveby', 'Overwrite', 'risf', 'choices', 'Imagetransfer', 'monitorsrecorders', 'exiting', 'Username', 'Telegraph', 'Improving', 'experiencing', 'audiences', 'arrives', 'depends', 'virus', 'Visually', 'accessremote', 'Substrate', 'explains', 'remote', 'Membership', 'SecaaS', 'servers', 'hyperlinks', 'interpreted', 'Possibility', 'Applet', 'produces', 'denotes', 'implement', 'Successfully', 'Rowlett', 'Inability', 'Bar', 'plaintexts', 'Singlepart', 'match', 'RBG', 'asking', 'Semisupervised', 'complete', 'Secures', 'sensitivities', 'zone', 'deals', 'decimal', 'Audit', 'held', 'Signing', 'Associative', 'singlebit', 'replaces', 'Leakingout', 'precomputed', 'ambiguous', 'ABAC', 'Leveraging', 'Breaching', 'vertical', 'untoward', 'notoriously', 'Determine', 'house', 'opening', 'nondisclosure', 'humanbased', 'courtroom', 'fix', 'honey', 'SelectiveField', 'Notifying', 'opportunities', 'infector', 'IFF', 'rabbit', 'Bluesnarfing', 'loyalty', 'relatedkey', 'Clicking', 'Xray', 'only', 'siphon', 'Behavior', 'sends', 'interact', 'macros', 'REDUCE', 'iris', 'AUTOEXECBAT', 'multitude', 'sled', 'ARP', 'MITM', 'suffering', 'SLSP', 'Graph', 'PCMCIA', 'overwhelms', 'Kolmogorov', 'Textbased', 'entry', 'respective', 'heating', 'around', 'tuples', 'Idiosyncratic', 'Designed', 'Botnets', 'described', 'Given', 'Authorities', 'losses', 'motivation', 'geotagging', 'Scienter', 'ith', 'Procuring', 'manipulation', 'encapsulated', 'NCOS', 'accomplished', 'Alarms', 'trust', 'separating', 'Protects', 'featurerich', 'CEM', 'Criminals', 'let', 'complacency', 'substantial', 'Kingdom', 'Convictions', 'RSA', 'secretly', 'scare', 'salami', 'acknowledged', 'Starbus', 'nonsecret', 'emanating', 'inline', 'Applicationbased', 'underlies', 'smblogin', 'positive', 'disseminating', 'RGPO', 'Atlantic', 'Unsuccessful', 'ITsecurityEvents', 'expedited', 'wellinformed', 'sit', 'RPC', 'captured', 'Sboxes', 'paths', 'importing', 'duplication', 'hologram', 'Collaboration', 'IPenabled', 'logged', 'spoil', 'ISACA', 'Meeting', 'kiddie', 'PsTools', 'copied', 'shunts', 'visited', 'Malicious', 'Sqlmap', 'Persistent', 'Internetfacing', 'shadow', 'enterprises', 'cube', 'CDs', 'CEA', 'modeled', 'Hagelin', 'entrants', 'keydependent', 'Accept', 'Deliberately', 'fluctuations', 'reflective', 'again', 'Modifies', 'actuation', 'executivelevel', 'Firewalls', 'exchanging', 'Earth', 'PATRIOT', 'overhead', 'Logical', 'humidifiers', 'reside', 'HVAC', 'tab', 'Strengthening', 'Maroochy', 'aid', 'Restoration', 'touted', 'Union', 'regularity', 'expired', 'quality', 'Dominant', 'open', 'forwards', 'subverting', 'implementable', 'USA', 'configuring', 'accessing', 'NGO', 'Proxify', 'divert', 'loaded', 'Auditability', 'WHybris', 'machinery', 'credibility', 'curlget', 'Confidentialityauthenticityintegrity', 'Identify', 'Fingerprints', 'differences', 'chain', 'Split', 'Tailgating', 'attracts', 'multiplying', 'rooms', 'PayPal', 'refinement', 'disaster', 'compensation', 'Acquiring', 'urgent', 'multitier', 'Hardware', 'PullOff', 'pornography', 'Boot', 'debugger', 'Uniform', 'leaked', 'Spyware', 'Culture', 'Working', 'Corrupts', 'cursor', 'minimization', 'aluminum', 'shortage', 'Phones', 'Incomplete', 'discard', 'Assign', 'reconstruct', 'accidentally', 'profiles', 'launder', 'subordinate', 'Model', 'expand', 'rotation', 'dayorange', 'PWSConsole', 'finetune', 'Corrupt', 'push', 'forensic', 'Window', 'Acquisition', 'closing', 'workshops', 'ManMonth', 'arent', 'IaaS', 'parties', 'bomb', 'member', 'roam', 'tenants', 'Smoothness', 'Thread', 'unencrypted', 'advertise', 'indicators', 'follow', 'encapsulation', 'PUT', 'Serializability', 'transit', 'rightsmanagement', 'statefulinspection', 'qualities', 'date', 'crosssection', 'encrypting', 'reissue', 'Locks', 'safeguard', 'equipped', 'MTU', 'KnownPlain', 'DHCHAP', 'unreadable', 'pointer', 'subnetworklevel', 'linguistic', 'Beforetext', 'continuously', 'shared', 'lossprobability', 'Healthy', 'VTC', 'Industrial', 'tranquility', 'Existing', 'isolating', 'commonwealth', 'adissite', 'DAA', 'Modems', 'anticipated', 'Quantum', 'subscribers', 'Occupant', 'contact', 'Print', 'shortterm', 'hypothesis', 'decrypt', 'searching', 'authorizations', 'Differential', 'May', 'saver', 'novel', 'inform', 'selftesting', 'unlocked', 'Virtualization', 'Dutch', 'SLIP', 'Doubleflux', 'auxiliarywebwebenum', 'Adds', 'Premium', 'checksum', 'successful', 'Compelling', 'File', 'hide', 'finalizing', 'Nonverifiability', 'receivers', 'norms', 'converged', 'Reboot', 'Ordering', 'categorization', 'Assist', 'washing', 'Childrens', 'outputs', 'laptop', 'Adapter', 'Normalized', 'Port', 'Status', 'governs', 'disclosed', 'legitimate', 'Modee', 'repair', 'Finance', 'thumbprints', 'relocation', 'remailer', 'Centrallyassigned', 'repetition', 'infects', 'formatting', 'smbclient', 'rejecting', 'gear', 'determined', 'afforded', 'STS', 'Base', 'AMAS', 'UTC', 'Derive', 'exceeding', 'Longterm', 'Aggressive', 'FTC', 'imaged', 'intercepting', 'Complexity', 'eavesdropping', 'Policiesstandards', 'SCADA', 'Docs', 'FCC', 'prescribe', 'Postincident', 'warehousing', 'Encapsulating', 'cyberspace', 'GNULinux', 'refines', 'Bulletin', 'Utilization', 'Damage', 'Computergenerated', 'Trademarks', 'steam', 'fame', 'PDD', 'dream', 'Masscan', 'householder', 'alternatives', 'compared', 'VelocitGate', 'expectation', 'status', 'Footprinting', 'stoppage', 'Wellknown', 'Diversion', 'Inner', 'disciplined', 'round', 'year', 'Crytptosystem', 'attainment', 'balanced', 'derives', 'Location', 'mobilebased', 'Developers', 'MTBF', 'Wardriving', 'linking', 'Weaver', 'expressly', 'SNMPvc', 'medium', 'CIAO', 'DialIn', 'gets', 'Supports', 'Approximating', 'PPKs', 'Tying', 'failings', 'interruption', 'telcos', 'pseudorandom', 'Project', 'performed', 'confirming', 'Microsegmentation', 'express', 'products', 'Iterative', 'Provisioning', 'paper', 'spear', 'collisions', 'backbones', 'examine', 'administratorcustodian', 'Uniqueness', 'suddenly', 'Module', 'Deauthentication', 'dynamics', 'topography', 'Tcpdump', 'welldefined', 'nonreplacement', 'sending', 'parasite', 'partially', 'pervasiveness', 'fulfill', 'Snooping', 'attractors', 'Merged', 'This', 'culture', 'bungle', 'BRING', 'factored', 'tunnel', 'library', 'ALARP', 'Transform', 'LANWAN', 'prolong', 'Protection', 'nodes', 'Gaspowered', 'Reporting', 'Imminent', 'selectively', 'Shub', 'resources', 'Reconstruct', 'divided', 'HighPerformance', 'countries', 'Move', 'whole', 'enthusiasts', 'tricking', 'tricks', 'chgrp', 'Rijndael', 'enclosed', 'Isolates', 'Per', 'ultraviolet', 'ARL', 'CLEF', 'Backup', 'NDA', 'multiport', 'exact', 'PIPEDA', 'Marketers', 'Numeric', 'grounding', 'length', 'ISFW', 'legalized', 'Triage', 'usefulness', 'HSPD', 'Could', 'opponent', 'Prompt', 'Clean', 'SignatureBased', 'AmI', 'actors', 'outsourcing', 'primitives', 'shareholder', 'optical', 'cases', 'cause', 'Preventive', 'folders', 'symptom', 'Shamir', 'transformations', 'urgency', 'PEAP', 'attain', 'Registration', 'Canonical', 'replace', 'explanation', 'Switching', 'transformed', 'RARP', 'Concatenation', 'Mrv', 'Cache', 'ClosedCircuit', 'Encrypted', 'IrDA', 'Efficiently', 'Scarcity', 'stifle', 'odds', 'Mark', 'Qwerty', 'FAR', 'Clarke', 'SQL', 'Carefully', 'erase', 'sslstrip', 'calculatorbased', 'transfers', 'Redaction', 'collection', 'request', 'SocialEngineer', 'indoor', 'Validations', 'Losstolerant', 'Leverage', 'Unlocatable', 'Natural', 'public', 'decompression', 'reinforced', 'Agreeing', 'served', 'incompatible', 'Compensation', 'Dictionary', 'domains', 'reassembling', 'LNS', 'petition', 'Nonfinancial', 'disrupting', 'Other', 'BIA', 'Task', 'PasswordBased', 'freedom', 'defends', 'Analysing', 'insurance', 'splicing', 'SOAP', 'disguise', 'Loki', 'IPbased', 'autoconfiguration', 'Encoding', 'columns', 'exist', 'Occurs', 'gaining', 'unintentional', 'Slowing', 'Fifth', 'associations', 'happen', 'Bogus', 'Infiltration', 'Stores', 'tcpall', 'Addons', 'Community', 'terminate', 'theorem', 'Reserved', 'strategic', 'estimated', 'soa', 'junction', 'Testimonial', 'RCS', 'antihoneypot', 'Terrain', 'NetMon', 'food', 'Coordinate', 'Position', 'Under', 'Dualhomed', 'Enveloped', 'nonessential', 'Reactively', 'handwritten', 'Alliance', 'Binary', 'Provided', 'drinking', 'equivalent', 'redial', 'Study', 'staffs', 'visiting', 'Coat', 'appliance', 'AABBCC', 'Court', 'percentage', 'crosschecks', 'ThirdParty', 'Procedure', 'ACM', 'Immediately', 'cycle', 'discarded', 'avoiding', 'Focusing', 'towers', 'Unopened', 'DoD', 'Capabilitybased', 'Printouts', 'adjust', 'smokeactuated', 'CloudBased', 'internally', 'prints', 'ARAN', 'pushbutton', 'Diagramming', 'NVA', 'Sybard', 'Pen', 'susceptibilities', 'Consumption', 'standards', 'pest', 'Further', 'Launch', 'average', 'Table', 'validated', 'advisor', 'tables', 'PUF', 'although', 'wwwmicrosoftcom', 'realistically', 'learns', 'BCPDRP', 'vibration', 'MAIL', 'exceeded', 'greet', 'core', 'industrial', 'Log', 'penetrations', 'decent', 'van', 'piracy', 'Interfering', 'manner', 'relying', 'cultures', 'Matching', 'type', 'party', 'Owning', 'REST', 'VMM', 'capacitors', 'silent', 'Result', 'graybox', 'infiltration', 'certifier', 'HKEYLOCALMACHINESoftwareMicrosoftWindows', 'Establishing', 'Dangerous', 'NAK', 'multihomed', 'Consensus', 'Organisation', 'IDEAL', 'CRTlist', 'earned', 'readily', 'Copy', 'sorting', 'ssl', 'homed', 'synchronous', 'graph', 'hotsites', 'buy', 'ControlledChannel', 'GCC', 'addipv', 'Score', 'ECMs', 'Maxs', 'admissions', 'janitorial', 'Fundamental', 'WTP', 'Coarse', 'Triggering', 'photograph', 'bounds', 'ROT', 'WebAuthn', 'Apple', 'POS', 'Pointtopoint', 'authentication', 'verified', 'nonprime', 'repeaters', 'wide', 'Surveys', 'RTOS', 'repudiate', 'description', 'Radiocontrolled', 'Now', 'Usage', 'vigilance', 'Fields', 'Give', 'correspondents', 'gcd', 'subdivision', 'points', 'SDC', 'Mnemonic', 'blending', 'CER', 'Granular', 'preserved', 'your', 'Signed', 'multipurpose', 'Dedicated', 'revocation', 'bus', 'instrument', 'sanitized', 'mantraps', 'Pseudonym', 'references', 'you', 'ExpansionthenExtraction', 'DCS', 'damage', 'speakers', 'Match', 'ruling', 'Interrupt', 'beings', 'WinTCPKill', 'programmed', 'clean', 'gathering', 'course', 'Engine', 'manipulate', 'Encipherment', 'Fine', 'compromises', 'honeypot', 'sufficient', 'Unixlike', 'nonwireless', 'Williams', 'webcasts', 'IRForensics', 'opted', 'NetRecon', 'Distributing', 'splitDNS', 'Stability', 'entire', 'embedding', 'TokenBased', 'consists', 'knowhow', 'subsided', 'Technically', 'Allocating', 'reported', 'EAPPSK', 'admin', 'prompted', 'asymmetric', 'convictionbased', 'alteration', 'expanding', 'miles', 'microphone', 'infinity', 'Remainder', 'virtualization', 'sporadic', 'Ding', 'easytoimplement', 'QLED', 'onoff', 'LEDTs', 'triples', 'Denying', 'undisclosed', 'Hardwarebased', 'linearly', 'Assessing', 'Thin', 'protected', 'applied', 'subtle', 'Pressure', 'attributes', 'passwordguessing', 'Lowered', 'returnoninvestment', 'nonuniform', 'Exchanging', 'Engineers', 'assessed', 'NoKnowledge', 'Reconciling', 'Thermometer', 'Setup', 'Hague', 'Wednesday', 'Callback', 'loosely', 'likely', 'Benchmarking', 'Dry', 'invoking', 'licensing', 'preliminary', 'Close', 'cryptology', 'RStudio', 'Utilize', 'agent', 'Perform', 'userID', 'Columns', 'Investigative', 'Services', 'Countries', 'WMSPYA', 'WIRESHARK', 'industrys', 'schema', 'WIPS', 'symbols', 'propagating', 'equivalence', 'unallocated', 'observed', 'Whiteout', 'bounces', 'mainly', 'termed', 'DSL', 'methodology', 'coordinated', 'multinational', 'MOST', 'lowintegrity', 'agency', 'contributors', 'Robustness', 'resend', 'considerations', 'obtain', 'electricity', 'politicians', 'searches', 'extinguish', 'firmware', 'Automating', 'emergency', 'exit', 'lasers', 'printouts', 'NRU', 'Doddington', 'cardholder', 'against', 'conform', 'referral', 'WalkThrough', 'threatens', 'increasing', 'Metadata', 'presentation', 'RFCs', 'RIP', 'nullify', 'Organised', 'carrying', 'doublelocked', 'tests', 'referto', 'Constrained', 'sessions', 'disadvantages', 'Menus', 'Phone', 'delineation', 'check', 'reenabling', 'sneaky', 'Permanent', 'skillsbased', 'Outage', 'etcapachessl', 'physicaltovirtual', 'scope', 'indefinitely', 'Zombies', 'packetheader', 'inoperable', 'uptime', 'despise', 'Postintrusion', 'local', 'TCPView', 'logn', 'architecture', 'whitelisting', 'potting', 'expert', 'Proxybased', 'editing', 'harden', 'communicates', 'broker', 'deceive', 'cient', 'TimeMemory', 'bodily', 'begins', 'unsuitable', 'rising', 'Tallinn', 'Chosencipher', 'endorsed', 'align', 'Augmentation', 'docile', 'CMW', 'malfunction', 'accesswireless', 'Confinement', 'Air', 'computers', 'ran', 'radars', 'AES', 'collision', 'installations', 'faces', 'DomainChecker', 'reputable', 'Disk', 'microcontroller', 'fewer', 'tough', 'Evasion', 'Imager', 'Intrusion', 'simplicity', 'forwarded', 'Proxies', 'predominant', 'harvest', 'deployments', 'blackjacking', 'inflict', 'hope', 'piggybacking', 'aggregated', 'Meteorologists', 'entertainment', 'Graphic', 'upper', 'Organize', 'PsExec', 'protocolspecific', 'treaties', 'publicized', 'bridges', 'aged', 'Event', 'RAD', 'patch', 'Verbalbased', 'evasin', 'Mirroring', 'critical', 'limiting', 'approving', 'Cellular', 'overlap', 'ripper', 'analogous', 'Master', 'Dualtier', 'DBs', 'Clone', 'Amplitude', 'proportion', 'Gideons', 'Alarm', 'bandwidth', 'Trees', 'activated', 'topology', 'Subjects', 'scans', 'unlikely', 'evade', 'minimallength', 'fiber', 'decides', 'Retirement', 'Cannon', 'Enabled', 'Eye', 'dematerialization', 'Disregarding', 'selling', 'transponder', 'squatting', 'ALE', 'NTFS', 'NETLINK', 'Web', 'superclass', 'Snort', 'Illegal', 'Masking', 'lastest', 'Trail', 'headers', 'SelfAssembling', 'calculators', 'skimming', 'television', 'competencies', 'Integrating', 'Demonstrate', 'SDP', 'pseudonyms', 'Stunnel', 'relatively', 'Ether', 'insiders', 'NVD', 'Backdoor', 'tradition', 'evaluate', 'Magnetizing', 'ipsa', 'private', 'quickly', 'examiner', 'managementrelated', 'markets', 'thermal', 'vendor', 'receives', 'dogs', 'windows', 'job', 'unused', 'Different', 'Anonymity', 'Search', 'Balancers', 'unpredictability', 'Cryptology', 'NeedtoKnow', 'constituents', 'concurrency', 'groundwork', 'Internetenabled', 'control', 'documentbased', 'specifics', 'college', 'commandline', 'will', 'SRPC', 'dongle', 'locus', 'liquid', 'IDLE', 'university', 'infrastructures', 'EMI', 'Assignment', 'Smartphones', 'equals', 'mevel', 'hooking', 'distant', 'localized', 'deliver', 'VernamVigenere', 'Inconclusive', 'funding', 'Maintain', 'line', 'closest', 'officially', 'organizes', 'Inhouse', 'Vector', 'partial', 'Selforganizing', 'TPSP', 'infrared', 'alleviate', 'Retaining', 'ExtractionthenExpansion', 'LTPv', 'GET', 'helping', 'custom', 'Miscalibration', 'IaC', 'Restoring', 'severely', 'Facilities', 'SIPbased', 'dnsrecon', 'neutrality', 'entries', 'evades', 'functionbased', 'premium', 'Biological', 'Dregs', 'counterinsurgency', 'collectively', 'competitiveness', 'Stabilizer', 'seamless', 'issued', 'revolve', 'coverit', 'unbiased', 'influences', 'energy', 'interconnection', 'Alliances', 'Watermarks', 'acknowledge', 'Usability', 'hesitant', 'know', 'did', 'religious', 'overload', 'Medium', 'Reliance', 'CNAME', 'Universality', 'team', 'activates', 'barrier', 'fixedlength', 'get', 'exploiting', 'Path', 'exchange', 'redirection', 'Land', 'learner', 'Crossguest', 'requests', 'fuel', 'cracker', 'suppress', 'popups', 'Vulnerabilities', 'Personalizing', 'MFT', 'stop', 'maximizing', 'trespassing', 'she', 'segmentation', 'triggers', 'photo', 'Emergency', 'Postal', 'storm', 'discreetly', 'subscore', 'Evolve', 'serverside', 'Conscious', 'XMLdefined', 'Nginx', 'Packed', 'delegate', 'packaged', 'HIDS', 'Spiral', 'acknowledgment', 'crucial', 'Get', 'partners', 'Borrowing', 'diffusion', 'timetomarket', 'transportation', 'deterrence', 'probes', 'rAlgorithm', 'ipv', 'permitting', 'secueloginibmcom', 'Uncoordinated', 'Alters', 'sniff', 'Posting', 'preconfigured', 'relational', 'Unexpected', 'Simplification', 'gasbased', 'showing', 'bulletined', 'treaty', 'developmenttype', 'API', 'hearsay', 'spies', 'flat', 'Shredding', 'qualifies', 'Blum', 'regulation', 'patents', 'Backups', 'Crackresistant', 'times', 'customize', 'PowerShell', 'Nontechnical', 'multipoint', 'microwaves', 'customfitted', 'world', 'Hardwareassisted', 'functioning', 'mindful', 'unimpaired', 'tends', 'Serving', 'Package', 'Flood', 'Zachman', 'Directly', 'Passport', 'inconsistencies', 'Knowledge', 'circles', 'Accelerating', 'favourable', 'Birth', 'bind', 'Emotional', 'shock', 'permutation', 'fragment', 'Fragment', 'Satellite', 'incorrect', 'Research', 'AAFID', 'UnixLinux', 'Relays', 'reactive', 'drugfree', 'Repository', 'texting', 'where', 'resource', 'Bind', 'laptops', 'enlargement', 'reconstitution', 'diverting', 'infer', 'PFX', 'SCAP', 'just', 'edited', 'contextaware', 'previously', 'datas', 'genetic', 'hallways', 'Because', 'strain', 'Rubber', 'APTs', 'Investigated', 'notification', 'Economies', 'Impacting', 'outdoors', 'acting', 'deter', 'extensibility', 'Advisory', 'Arthur', 'Kismet', 'Perturbation', 'acceptable', 'recycled', 'wclone', 'handshake', 'Hurricanes', 'processes', 'Scraping', 'rotating', 'SWCMM', 'OEP', 'controls', 'consumed', 'dongles', 'Omnidirectional', 'CEH', 'Monobit', 'forecasters', 'Atomicity', 'prepare', 'bounce', 'quantitative', 'fines', 'SHA', 'suggested', 'Pairing', 'Ease', 'Address', 'fundamentally', 'Achieve', 'reorder', 'SONET', 'HKEYLOCALMACHINESoftwareMicrosoftWindowsAppInitDLLs', 'Counterfeiting', 'autoroute', 'artifacts', 'beneficial', 'sine', 'Prioritization', 'housekeeping', 'computercommunications', 'shaper', 'utilized', 'Scattered', 'Japanese', 'OWASP', 'Intrusiondetection', 'Galois', 'ICQ', 'contaminated', 'misconduct', 'needing', 'Thinking', 'Difficulties', 'tap', 'SSLearly', 'IKEv', 'Librarian', 'ICMP', 'deliberate', 'Variance', 'legally', 'transition', 'overlapping', 'fetch', 'hashed', 'challenges', 'optimizing', 'jailbroken', 'Receive', 'applet', 'unapproved', 'FDIS', 'casting', 'mind', 'stability', 'concordance', 'acknowledgments', 'firms', 'Packer', 'reboots', 'Login', 'hypervisor', 'maximize', 'protests', 'PURPLE', 'Maintenance', 'integer', 'protections', 'Honeypot', 'foremost', 'proponents', 'Bob', 'Microwaves', 'Software', 'Michelangelo', 'Applies', 'life', 'Tracks', 'spring', 'simulations', 'Feistels', 'nurses', 'diddling', 'Routers', 'Signals', 'EtherPeek', 'relaxation', 'Transmitting', 'comparisons', 'Representational', 'maintaining', 'MIT', 'Attributes', 'IMEI', 'months', 'Copyright', 'License', 'child', 'sysadmin', 'halonbased', 'multiuse', 'Political', 'divulge', 'Interpretation', 'combination', 'dominant', 'measurement', 'WSSecurityPolicy', 'localbased', 'really', 'poweroff', 'shall', 'Paravirtualization', 'Missioncritical', 'randomized', 'sandboxes', 'Karen', 'log', 'suitable', 'Heuristic', 'synchronized', 'channels', 'Rabbit', 'Solely', 'syslog', 'Tracing', 'divisor', 'You', 'Tlgraphie', 'Annual', 'backdoors', 'von', 'Quadtier', 'proximity', 'guess', 'chown', 'old', 'AAAA', 'fxi', 'governance', 'errorhandling', 'holding', 'Congress', 'Bumpinthewire', 'Index', 'predecessor', 'HMAC', 'timeframe', 'seeing', 'datatypes', 'Echelon', 'Within', 'mathematical', 'survivability', 'Preview', 'stackbased', 'Optimizing', 'sudden', 'expenditures', 'holds', 'tries', 'companywide', 'minimis', 'metering', 'uncovered', 'scalable', 'Euler', 'Chaining', 'Store', 'handsets', 'seed', 'transmitting', 'decrypterror', 'guideline', 'exposure', 'Subjectively', 'example', 'PRIMARY', 'idle', 'Android', 'Studio', 'makers', 'ipvinstall', 'builds', 'Taiwan', 'CMS', 'HKEYLOCALMACHINESoftwareMicrosoftWindowsNTCurrentVersionWindowsLoadAppInitDLLs', 'Mastercard', 'disassociating', 'slots', 'Radar', 'returning', 'Develop', 'Manifesto', 'Singlesign', 'supporting', 'stick', 'PkemNJJxxK', 'Connectionless', 'cryptanalyzing', 'hose', 'adjusted', 'Sabotage', 'flows', 'SHS', 'countermeasures', 'investment', 'Stealth', 'punitive', 'Ordersofmagnitude', 'Latent', 'codesign', 'Game', 'mandated', 'current', 'auditing', 'violent', 'settings', 'Among', 'reencrypted', 'necessary', 'Qualitative', 'suffer', 'Executable', 'Cyberharassment', 'inhibit', 'Commutativity', 'Customizing', 'KLdfIejjEmmLy', 'profile', 'predictable', 'regulate', 'Diffie', 'AND', 'Harm', 'Permissions', 'often', 'Crack', 'originate', 'Passphrase', 'Permutations', 'injected', 'requested', 'dummy', 'reasonable', 'breakthrough', 'varying', 'WarSpying', 'tampersensing', 'grave', 'opcodes', 'several', 'induction', 'proofs', 'Accountability', 'Providers', 'simulated', 'workdays', 'Prohibiting', 'Hardened', 'kitchen', 'Extensions', 'professional', 'Naming', 'Soviet', 'CPE', 'Sector', 'Considerations', 'Foe', 'directives', 'SSHMSGSERVICEREQUEST', 'came', 'Major', 'retrieves', 'Degree', 'Preserve', 'intellect', 'Offering', 'manufacturing', 'operates', 'Conventional', 'Pocket', 'SDESKeySchedule', 'warm', 'explicitly', 'imagery', 'segregating', 'framework', 'dealing', 'Specify', 'ICS', 'Responding', 'Halon', 'Salami', 'normalization', 'ones', 'registrars', 'research', 'mission', 'Failsoft', 'Hupp', 'SATAN', 'SAINT', 'Circuitlevel', 'downloads', 'Preparedness', 'Breaches', 'Trickery', 'scramble', 'Residue', 'LoadStorm', 'Feistel', 'damaged', 'disassembler', 'Preparing', 'contractors', 'fabricated', 'Satellites', 'participants', 'hosttoswitch', 'extend', 'container', 'notoriety', 'Constructions', 'Mesh', 'Consolidate', 'withdrawals', 'mascots', 'secure', 'superpositioned', 'simplifying', 'sprinkler', 'seniority', 'digital', 'plunging', 'ABOOACACBF', 'diagnosing', 'devicespecific', 'Giving', 'centralizes', 'algorithm', 'Administrators', 'exposes', 'insight', 'dispersion', 'mediating', 'tampered', 'timestamped', 'advantages', 'deficit', 'Publishers', 'Plans', 'thrall', 'cryptanalytic', 'manipulates', 'cybsersecurity', 'cyberattacks', 'pcr', 'nation', 'sequenced', 'Alexander', 'synchronised', 'Arbitrary', 'written', 'erroneous', 'nslookup', 'drivers', 'Acoustical', 'numerical', 'InvokeCommand', 'assembly', 'Device', 'sanitization', 'PINgenerating', 'Readup', 'Maninthebrowser', 'Archiving', 'wellspecified', 'understate', 'procure', 'Lights', 'phish', 'ciphertext', 'conventional', 'wont', 'Servicesmsc', 'selfreproduces', 'fellow', 'Speed', 'DSDV', 'Implemented', 'assertion', 'Earthquakes', 'Volume', 'layering', 'invented', 'crosscorrelating', 'msgWEBMISC', 'rekeying', 'Cardholders', 'Reformatting', 'missing', 'available', 'selfincrimination', 'nonlinearity', 'Tables', 'Isogenybased', 'Western', 'dialin', 'binding', 'chart', 'form', 'Partitioning', 'Frequencydivision', 'but', 'exponents', 'Trojantool', 'Candidate', 'drop', 'Transformation', 'rotated', 'permission', 'Aircrack', 'specially', 'Send', 'catastrophic', 'Hosting', 'weakest', 'Multiplefactor', 'Closes', 'Change', 'Ettercap', 'remediation', 'Room', 'Contextually', 'various', 'listen', 'proxiable', 'ASP', 'programmable', 'hexadecimal', 'Neglect', 'Serverless', 'Hacking', 'trading', 'branding', 'revenues', 'smurf', 'problem', 'Texas', 'profitproducing', 'prosecuted', 'hill', 'Society', 'Content', 'Highlevel', 'student', 'node', 'Californias', 'upon', 'nsequence', 'able', 'Calculate', 'acts', 'message', 'entropy', 'pertaining', 'restored', 'Clipping', 'catch', 'Mobility', 'Zigbee', 'resident', 'feelings', 'forcing', 'incentives', 'hype', 'recertification', 'CDROMs', 'blaming', 'ADMIN', 'deprovision', 'Moves', 'Virtualized', 'file', 'CMP', 'Basel', 'Flares', 'DNSverf', 'Company', 'panel', 'guessing', 'precautions', 'identically', 'ACKscanning', 'antivirusantimalware', 'Enciphering', 'Language', 'Attacks', 'exempt', 'Systematic', 'think', 'Outofband', 'reassess', 'strength', 'persistence', 'outlined', 'decrease', 'unreliable', 'vetting', 'whitelistbased', 'gender', 'Discourage', 'ratings', 'Hearsay', 'Simultaneous', 'proprietary', 'disruptions', 'homes', 'Failopen', 'Metasploit', 'Coordinating', 'OpenID', 'Vincent', 'theemail', 'Mapper', 'coerce', 'inspect', 'SecurID', 'flaw', 'rollout', 'Trade', 'EndpointBased', 'Acknowledge', 'BADCERTIFICATEERROR', 'remap', 'prioritizing', 'maritime', 'Scripts', 'could', 'theres', 'cryptosystems', 'Might', 'basket', 'Solutions', 'chosen', 'Pads', 'Heartbeat', 'MHS', 'purify', 'search', 'HashCalc', 'instruct', 'gateway', 'PointofInteraction', 'Patenting', 'Insurance', 'Ernest', 'sitelevel', 'Mitochondria', 'Athena', 'axiom', 'ettercap', 'causation', 'Estimating', 'Cyclic', 'who', 'Rights', 'Alignment', 'iptables', 'Taking', 'deliverable', 'alphabet', 'Artificial', 'resumption', 'OCTAVE', 'intentional', 'Compiling', 'etcsecurity', 'Absence', 'distinguishes', 'him', 'contrast', 'Date', 'immediate', 'IDP', 'unstaffed', 'they', 'press', 'discourages', 'coaxial', 'mutate', 'ends', 'RAT', 'phrases', 'Coalition', 'six', 'CCM', 'Dualfactor', 'loggedon', 'Sutherland', 'jurisdiction', 'illegitimate', 'EULA', 'IKEAUTH', 'COOKIE', 'reinterpret', 'telecommunication', 'passthehash', 'Regression', 'Plenum', 'pulses', 'selfservice', 'enters', 'substate', 'Proprietary', 'school', 'planting', 'fallout', 'employment', 'wellconstructed', 'natural', 'weapon', 'trailer', 'outbreaks', 'positives', 'stealing', 'Boolean', 'WPAPER', 'SingleFactor', 'noticed', 'DAC', 'Wrap', 'refreshed', 'knownplaintext', 'NLSP', 'evaluated', 'SMS', 'Names', 'care', 'weakening', 'Multiplexing', 'spend', 'Storage', 'Certification', 'hardline', 'subvert', 'wage', 'ATT', 'encipher', 'Purpose', 'intrusion', 'Procedural', 'degrades', 'Limits', 'activity', 'preferred', 'Jacking', 'Highfrequency', 'masking', 'for', 'promotes', 'Network', 'wavelength', 'allocations', 'tokens', 'enablers', 'pull', 'pinpoint', 'Via', 'elementary', 'Cloud', 'TOE', 'Camera', 'widespread', 'restart', 'communicate', 'Costeffectiveness', 'COO', 'disposition', 'encouragement', 'Survey', 'economy', 'Traceroute', 'biannually', 'belongs', 'business', 'incorporated', 'man', 'Engineering', 'EXCEPT', 'Deployment', 'conforming', 'Faster', 'MTA', 'gases', 'THCHydra', 'topologybased', 'smoking', 'real', 'subgroup', 'perfect', 'Bring', 'Typically', 'delays', 'Derivation', 'reorganizations', 'damagecontrol', 'Hostnames', 'invest', 'login', 'sulog', 'unlawful', 'materials', 'Timesynced', 'norenegotiation', 'Knapsack', 'VSAN', 'FSddaYago', 'RPS', 'Displacement', 'registering', 'recovering', 'technicians', 'SYNACK', 'IRS', 'deterrent', 'SSMA', 'EAPTTLS', 'installs', 'AgencyCentral', 'Hybridbased', 'Criteria', 'moduli', 'specialize', 'Lower', 'Pump', 'censor', 'controversy', 'Addressed', 'meter', 'kick', 'HAVAL', 'advises', 'nonsensitive', 'Capturing', 'decrements', 'bulletproof', 'force', 'knife', 'represent', 'Metrics', 'Documentoriented', 'stated', 'detectability', 'interfering', 'binds', 'fastest', 'Techniques', 'prenumbered', 'Indicate', 'scanning', 'http', 'savers', 'Middleperson', 'tcpd', 'Adapt', 'Circuit', 'NTLM', 'Perceptron', 'Setting', 'previous', 'Nondisclosure', 'launching', 'exfiltration', 'Omnipeek', 'billion', 'Modern', 'DevCloud', 'Gatewaytogateway', 'inferred', 'amid', 'dependence', 'aggregate', 'Eratosthenes', 'Fingerprint', 'profitability', 'PAs', 'say', 'comes', 'catching', 'natively', 'pathways', 'recursion', 'Kill', 'stresses', 'records', 'AppThwack', 'warranties', 'Overwriting', 'seize', 'tamperresistant', 'Predicting', 'Express', 'discrimination', 'Monopoly', 'repeat', 'Winlogon', 'practicing', 'Secrets', 'Filtered', 'Antievidence', 'Appropriate', 'warning', 'verb', 'marketing', 'disgruntled', 'end', 'holder', 'acquisition', 'track', 'TACACS', 'WSTrust', 'cartridges', 'Questionnaire', 'protectors', 'uptodate', 'cybercrime', 'Next', 'inefficient', 'lawsuit', 'Record', 'premises', 'Neuropsychology', 'losing', 'Frame', 'Directions', 'suppression', 'Through', 'familiar', 'withstand', 'Scans', 'heavy', 'BurnThrough', 'HIPAACMM', 'inertia', 'FORWARDABLE', 'circumvented', 'copy', 'categories', 'switches', 'thanks', 'discover', 'pretending', 'technique', 'decipher', 'union', 'correlate', 'put', 'Curricula', 'reconcile', 'gapping', 'Open', 'Execute', 'veins', 'memorization', 'unauthenticated', 'Contention', 'receivable', 'indexing', 'shortening', 'Insufficient', 'hashing', 'accessory', 'correcting', 'Clicks', 'explaining', 'telecommunications', 'DCServerName', 'intruders', 'newer', 'raised', 'Communications', 'NearField', 'packetcapturing', 'Overseeing', 'CISSP', 'computer', 'Remotely', 'Momentary', 'Semitethered', 'weighed', 'Associated', 'modifiable', 'IPtoASN', 'Promoting', 'Micro', 'phoning', 'Peertopeer', 'Thresholds', 'typeNTFS', 'Timeliness', 'pretends', 'NATURAL', 'percent', 'circuitswitching', 'engineers', 'rope', 'instructed', 'lucrative', 'discriminant', 'Streaming', 'Underlined', 'Robert', 'size', 'Abuse', 'Tolerable', 'Customdeveloped', 'Inadequate', 'welcoming', 'UDP', 'submitted', 'Referring', 'reinstallation', 'money', 'companyissued', 'Programs', 'Converts', 'Attaching', 'EMP', 'Oversight', 'dictionary', 'Hierarchical', 'Interactions', 'Uptime', 'twice', 'volume', 'willingness', 'organize', 'Bank', 'FSISAC', 'wheel', 'Federal', 'pipe', 'homeland', 'crafting', 'devicebased', 'granular', 'relates', 'discrete', 'meetings', 'PhysicalLayer', 'fixedsize', 'Generartion', 'irreducible', 'Polynomial', 'Selfregulation', 'readers', 'Functions', 'Firewalling', 'cells', 'Cleartext', 'overflows', 'boss', 'tth', 'Rollover', 'annihilation', 'quizzes', 'cage', 'Spec', 'trafifc', 'EKS', 'Interconnectedness', 'layered', 'confiscation', 'verbose', 'provisions', 'credible', 'replication', 'occurrences', 'burned', 'stateless', 'subnetworks', 'Verifying', 'OOV', 'partner', 'goal', 'Authenticator', 'selfregulation', 'newest', 'Convention', 'InSpy', 'NFC', 'pharmacy', 'Overloading', 'multifactor', 'Bundle', 'Analysis', 'Track', 'therefore', 'Volatile', 'lowinteraction', 'portal', 'Providing', 'Facetoface', 'greatest', 'Damagecontrol', 'misappropriated', 'permit', 'symbol', 'aensite', 'June', 'Exchange', 'certain', 'lists', 'brought', 'conspiracy', 'Preserves', 'wiring', 'Framework', 'LiFi', 'reusability', 'Help', 'transported', 'too', 'operator', 'Something', 'resynchronization', 'Flooding', 'interval', 'CostBenefit', 'Centrale', 'Cryptocurrencies', 'eXternal', 'Worms', 'Insertionbased', 'complements', 'commanders', 'Gray', 'Shark', 'logical', 'Quarterly', 'entrylevel', 'forgeryresistant', 'SMStexting', 'reacting', 'probabilistically', 'Section', 'winning', 'dropped', 'totality', 'correspond', 'facilitating', 'dendrites', 'secureloginmicrosoftcom', 'Volatility', 'speeds', 'pentester', 'WAPs', 'onboard', 'Overwhelm', 'experts', 'reveals', 'has', 'then', 'commands', 'Sends', 'Compatible', 'clocking', 'nameresolution', 'Decoration', 'pads', 'historically', 'visualizes', 'academia', 'antiterrorism', 'identified', 'puts', 'decelerate', 'remaps', 'Durability', 'Bin', 'direction', 'gracefully', 'classical', 'Aggregation', 'Enhanced', 'translation', 'Regulatorybased', 'Cookie', 'manned', 'packing', 'bypasses', 'privileged', 'businessrelated', 'Weatherproof', 'users', 'Hoaxes', 'Mediation', 'Bluesniffing', 'TNR', 'pacifist', 'lowered', 'JavaScript', 'Exactly', 'wellsuited', 'abused', 'resembles', 'Graybox', 'Revealing', 'bait', 'terminal', 'CEO', 'subzones', 'RSAbased', 'approval', 'smartcardbased', 'Directors', 'lack', 'Unvalidated', 'Inquiry', 'transaction', 'raw', 'Signalhiding', 'foundation', 'franchise', 'sounds', 'Hold', 'semantic', 'Guiding', 'Jefferson', 'Starvation', 'duty', 'cyberattacker', 'Columnar', 'Shim', 'trustworthiness', 'Potential', 'Taskmgrexe', 'resolving', 'Valid', 'disguised', 'irrelevant', 'enables', 'Seq', 'businessasusual', 'HOTP', 'HTML', 'Nonzero', 'light', 'Accumulation', 'CRQ', 'Dress', 'Center', 'Emails', 'user', 'Containerized', 'Revoke', 'internet', 'thin', 'contains', 'clones', 'Thorough', 'Remove', 'Valuation', 'expansionthenextraction', 'overwhelm', 'eth', 'Home', 'MCM', 'checked', 'pwd', 'Implied', 'publishes', 'HEAD', 'Interpol', 'accident', 'downloading', 'winpcap', 'asylum', 'WTLS', 'SFC', 'CMMI', 'invocation', 'infallible', 'wartime', 'selfassessment', 'Keyloggers', 'grabbing', 'else', 'Publishing', 'patternmatching', 'heavily', 'watchdogs', 'discouraging', 'Latticebased', 'possibility', 'Pollution', 'indeterminacy', 'ShiftRows', 'Termination', 'template', 'lattices', 'own', 'concerning', 'illuminate', 'NSA', 'faulty', 'exclusion', 'elaborate', 'Google', 'modembased', 'Eavesdrop', 'freshness', 'adhered', 'limitation', 'honeynet', 'fulfilling', 'trained', 'Multitier', 'Instead', 'TCG', 'mediums', 'deployment', 'concurrent', 'Behaviorbased', 'wirebased', 'RunScript', 'Hacker', 'film', 'packaging', 'Tokenbased', 'soon', 'securely', 'Multithreading', 'Outofjurisdiction', 'NTLMSPA', 'mistakes', 'Half', 'Healthcare', 'Shifting', 'confiscating', 'Emphasizing', 'Min', 'BIOSbased', 'nonpromiscuous', 'unscramble', 'Properties', 'Rotation', 'VMware', 'exported', 'Exec', 'gameplay', 'hearingimpaired', 'Corporation', 'Preponderance', 'Steganography', 'sentreplayed', 'Defective', 'financial', 'Controls', 'Topdown', 'Faraday', 'Escrow', 'analytics', 'Instruction', 'Queues', 'Gas', 'Inefficient', 'Resources', 'priority', 'TCPHijacking', 'directorybrowsing', 'big', 'Serviceoriented', 'Wellformed', 'Snoop', 'Spoofing', 'MEFghalA', 'integrate', 'spooling', 'encourage', 'fifty', 'Key', 'Photograph', 'Issuespecific', 'secondary', 'implementationinduced', 'Asymmetric', 'done', 'telephone', 'FASC', 'patterned', 'profits', 'easy', 'nonbusinessrelated', 'ESTABLISHED', 'packetswitched', 'postcontrol', 'networkaccessible', 'DataOrigin', 'xvalue', 'fileetcpasswd', 'Sanitizing', 'Temporary', 'MISSI', 'named', 'Slammer', 'ROLLBACK', 'conserve', 'applicationlevel', 'Approving', 'succeed', 'Owners', 'Lamports', 'Securing', 'investigators', 'themselves', 'prosecuting', 'overows', 'advantage', 'Canada', 'archive', 'white', 'cloudbased', 'processed', 'retrieval', 'Interconnected', 'hosts', 'technologyneutral', 'SecureHTTP', 'proxys', 'moved', 'suppliers', 'disassemble', 'looking', 'event', 'country', 'filings', 'demanding', 'untraceable', 'multiplier', 'Granularity', 'Libraries', 'botnet', 'initctl', 'wiredswitch', 'errorfree', 'thesauri', 'Command', 'Freely', 'perimeters', 'subset', 'key', 'Professional', 'They', 'Accidental', 'apps', 'blended', 'webservers', 'Licensing', 'DNAencoded', 'Alice', 'Grayhat', 'fourway', 'gains', 'authenticator', 'related', 'Vigenre', 'apart', 'IPORT', 'Summary', 'Slow', 'Find', 'hasnt', 'deeper', 'contain', 'Steal', 'NetworkBased', 'exchanger', 'installed', 'Mathematics', 'defacement', 'Barrier', 'intrusions', 'clouds', 'Acting', 'reproduction', 'Pain', 'hypervisors', 'listing', 'accompanying', 'Encouraged', 'Adelman', 'Insurmountable', 'highpower', 'range', 'cryprography', 'concluded', 'Supervisory', 'Capability', 'Halontype', 'Postassessment', 'NFV', 'criminology', 'Contractual', 'Espionage', 'ITM', 'Electronic', 'requires', 'swap', 'Restore', 'retrieving', 'EOSL', 'mount', 'precautionary', 'sin', 'COUNT', 'premature', 'border', 'Transfers', 'mesh', 'Fieldpowered', 'clocks', 'ClientServer', 'Enforcement', 'Indistinguishability', 'want', 'Multifirewall', 'perturbation', 'Bestmatch', 'Popular', 'constants', 'Sponsors', 'classes', 'Clouds', 'wrong', 'Produces', 'millions', 'stabilizing', 'Hyperlink', 'reform', 'regulated', 'ATMs', 'assimilated', 'earn', 'guarding', 'Nazis', 'rigid', 'supposed', 'systemwide', 'Enigma', 'realm', 'NASI', 'preshared', 'flagged', 'cold', 'Annually', 'Superconductivity', 'receiving', 'throttling', 'importexport', 'started', 'stamp', 'patched', 'Overhead', 'IDPSs', 'Playfair', 'deregistration', 'Relies', 'unicast', 'topic', 'Engaging', 'peace', 'Hypervisorlevel', 'Less', 'Element', 'Affiliate', 'Agreement', 'popularity', 'InfoSec', 'effect', 'Computerbased', 'Download', 'window', 'Negative', 'currently', 'used', 'deletion', 'Qualityofservice', 'ITU', 'resisting', 'proofing', 'DenialofService', 'lawyer', 'situation', 'Flexible', 'chemical', 'victory', 'IETF', 'SSH', 'IVs', 'Leave', 'SSLVPN', 'lag', 'Interviewing', 'visitorsexternal', 'specific', 'courses', 'specified', 'weak', 'burden', 'Deterministic', 'Periodically', 'Routing', 'lowerpriority', 'footprint', 'covering', 'signals', 'DCL', 'dramatically', 'uncommon', 'postdevelopment', 'production', 'hacker', 'IDaaS', 'elevation', 'deletes', 'participant', 'SNMPv', 'Demilitarized', 'gundecking', 'Checkpoint', 'Decipherment', 'Monotier', 'zones', 'Derived', 'competitors', 'msgs', 'count', 'Router', 'economic', 'terminated', 'found', 'threatening', 'redistribution', 'Interoperability', 'coworker', 'Sender', 'Patent', 'revelation', 'authorizing', 'Effectively', 'keystreams', 'memory', 'formatNTFS', 'supervision', 'field', 'passing', 'Conditioning', 'storage', 'WarFlying', 'Detour', 'Board', 'Request', 'constitute', 'cybercriminals', 'reimbursement', 'English', 'FEMA', 'Cutter', 'fingerprintbased', 'pack', 'Hats', 'infections', 'corporate', 'SYSTEM', 'applicationspecific', 'precomputation', 'Valuable', 'userfriendly', 'conscious', 'DESCBC', 'foil', 'Timeframe', 'appointments', 'contamination', 'likelihood', 'violations', 'compartmentalize', 'tragedy', 'Managementbased', 'translating', 'essentially', 'organ', 'tokenization', 'Amazons', 'Demonstrating', 'carelessly', 'arithmetic', 'Take', 'Technologies', 'direct', 'Star', 'deters', 'onpremise', 'segments', 'battlefield', 'Axons', 'keystretching', 'along', 'IPC', 'EPAL', 'Link', 'Cascading', 'monitors', 'polymorphism', 'rerouting', 'Perl', 'validate', 'compilation', 'TransportLayer', 'seizure', 'WSSecurity', 'connectivity', 'Documentation', 'Smishing', 'netstatna', 'detail', 'supporters', 'asserting', 'Kreigsmarine', 'unprocessed', 'enticement', 'TOCTTOU', 'notified', 'keymanagement', 'lockout', 'Fullymeshed', 'GAK', 'disallowed', 'Batteryinverter', 'AdministrativeRegulatory', 'Tackling', 'day', 'warehouse', 'survey', 'ready', 'almost', 'banned', 'Modulation', 'hogging', 'Revalidating', 'Safety', 'verifiability', 'grammar', 'Unsupervised', 'dematerialisation', 'Create', 'Permission', 'hiring', 'encodes', 'minimized', 'changing', 'peripheral', 'whitehat', 'Least', 'Available', 'PING', 'equipment', 'Personnel', 'Javascript', 'Accommodating', 'Algorithmic', 'dozen', 'SAM', 'Tangible', 'radiationprotected', 'highquality', 'fields', 'diodes', 'remaining', 'promoted', 'Pseudorandom', 'innovative', 'administer', 'reveal', 'nature', 'Cryptomalware', 'successive', 'elsewhere', 'polynomials', 'junta', 'programmer', 'inspectors', 'authentications', 'relation', 'Militaryoriented', 'tion', 'Hotfixing', 'takeovers', 'Cryptography', 'coils', 'LWE', 'instructs', 'Sharing', 'Stateful', 'multiplexing', 'Friday', 'subcategory', 'Crosstalk', 'managements', 'Lorenz', 'BSSIDs', 'problems', 'Chain', 'transmittable', 'hubs', 'had', 'Defragmenting', 'Alert', 'probable', 'LTP', 'TrafficFlow', 'exploring', 'Oversecure', 'messiness', 'Norbert', 'interviewees', 'Terminate', 'handling', 'Empire', 'weight', 'sendmail', 'IntegrityChecking', 'instantmessaging', 'bypassed', 'Exclusionary', 'Pseudonymization', 'grids', 'correspondence', 'wishes', 'Schedule', 'PKCRL', 'oversight', 'Operatingsystemassisted', 'variablelength', 'keep', 'CCITT', 'Expertise', 'Fortinet', 'issuer', 'functions', 'what', 'Refers', 'land', 'intercorporate', 'death', 'rejection', 'groupmod', 'qubit', 'Poland', 'Threat', 'void', 'concentrate', 'forces', 'KryptoKnight', 'Cyberextortion', 'implemented', 'letting', 'IAM', 'advertisements', 'XSS', 'robust', 'dirb', 'huge', 'Substitution', 'Housekeeping', 'play', 'repository', 'necessitates', 'Ologk', 'exponentiation', 'Diversity', 'turning', 'visualize', 'stimulus', 'GHz', 'IRQ', 'Performing', 'packs', 'Standardize', 'campaign', 'Interconnection', 'Disrupt', 'stiing', 'FailOpen', 'their', 'abstract', 'compromised', 'stamped', 'intercept', 'contents', 'slicing', 'Matt', 'diligent', 'tortfeasors', 'grouping', 'Simplicity', 'Monday', 'Velocity', 'Challenge', 'GNSS', 'notice', 'comparison', 'confirm', 'encryptiondecryption', 'Preventing', 'randomize', 'Supervised', 'formalize', 'charts', 'CATV', 'incidents', 'EthernetIP', 'quarterly', 'Not', 'locks', 'hinders', 'technology', 'compiled', 'frames', 'Rulebased', 'rpcinfo', 'AHs', 'Legacy', 'complexity', 'informal', 'Levels', 'Verify', 'Establishes', 'multipart', 'disruption', 'funnels', 'lowvalue', 'battle', 'GID', 'mediates', 'decryption', 'coincide', 'routinely', 'NMAP', 'outcomes', 'nonphysical', 'publication', 'LaPadula', 'Original', 'Instance', 'Motherships', 'Baseline', 'Methods', 'Cutoff', 'configure', 'FaceNiff', 'confusion', 'RIDs', 'carriers', 'Guaranteed', 'FAFBDCEAADBBEE', 'shields', 'Droid', 'arson', 'Approval', 'Gantt', 'educate', 'gradually', 'Wehrmacht', 'codified', 'CIEL', 'merging', 'Asset', 'smbenumusersdomain', 'problematic', 'intricacies', 'tachographs', 'Auditing', 'HTTP', 'Downtime', 'happens', 'Point', 'simulate', 'pair', 'singlemultifactor', 'algebra', 'datagram', 'conducting', 'mode', 'either', 'corruption', 'needtoaccess', 'Concept', 'Online', 'Patrol', 'hospitals', 'Living', 'systemic', 'multibyte', 'undertaken', 'strips', 'influence', 'Misuse', 'compileroptions', 'absorb', 'beneficiaryencrypted', 'silver', 'demonstrated', 'usrlibsslcertificates', 'decreased', 'temperature', 'intricate', 'HTCIA', 'FSNTFS', 'Accessibility', 'Gramm', 'standardization', 'IBSS', 'gate', 'manual', 'Requiring', 'Grayware', 'reduced', 'belief', 'October', 'nuisance', 'Acunetix', 'offpremises', 'Standardization', 'find', 'CMII', 'enforced', 'logreview', 'decoding', 'StatefulDynamic', 'smart', 'Jailbreaking', 'ECHO', 'Value', 'bijective', 'hacktivists', 'portions', 'logistics', 'Pack', 'shaped', 'SSD', 'supervise', 'Chaotic', 'until', 'Twoperson', 'Zero', 'association', 'Middleware', 'EndtoEnd', 'commonsense', 'toptobottom', 'quadcopter', 'assembled', 'invoices', 'certified', 'pirates', 'supplied', 'Scanners', 'Nondiscoverable', 'TSIG', 'number', 'verifier', 'cheaper', 'strategy', 'anomaly', 'Licensed', 'Investing', 'traces', 'declaring', 'PacketFiltering', 'Reciprocal', 'regain', 'purged', 'subsystem', 'discipline', 'precompute', 'Dependent', 'nonvalidated', 'nbtscan', 'subsystemssolutions', 'besides', 'CSRFXSRF', 'Written', 'Seeding', 'cryptographers', 'loss', 'traveling', 'tactic', 'prudent', 'Encoder', 'embodies', 'nonsubscribers', 'evolve', 'Interviews', 'Emptying', 'participation', 'Guerilla', 'Cathy', 'kind', 'securityalert', 'Tampering', 'purchased', 'CPS', 'Lipner', 'Elements', 'Accesschallenge', 'nor', 'efforts', 'DTT', 'investigator', 'bootable', 'steering', 'Fixed', 'Facebook', 'anticipation', 'suites', 'Antispyware', 'WSB', 'Byzantine', 'merges', 'ondemand', 'librarian', 'Symmetric', 'industryspecific', 'atomicity', 'Semicolon', 'PIDAS', 'Onetime', 'visually', 'CLIENTHELLO', 'processtoprocess', 'Fileless', 'DPSR', 'Magnetooptical', 'Exponentiation', 'WarfareNetwork', 'Better', 'consist', 'PPM', 'directed', 'Seek', 'readdown', 'purely', 'organized', 'congruence', 'progression', 'Suspicionresistant', 'hexad', 'confirmed', 'compiler', 'Group', 'Delegates', 'CREATECHILDSA', 'Waterfall', 'added', 'Greenbone', 'Insert', 'coefficients', 'Impacts', 'generalization', 'Live', 'smalltomediumsize', 'Eavesdropping', 'nonlinear', 'heuristic', 'Remediation', 'analogue', 'CRC', 'basic', 'gadgets', 'Bell', 'Channels', 'multiplication', 'seekers', 'bored', 'WebCheck', 'keybased', 'USASCII', 'Restriction', 'GCM', 'Shift', 'aspect', 'says', 'nbtstat', 'past', 'ECDSA', 'hack', 'Promote', 'extending', 'coherent', 'lights', 'commandment', 'Unprotected', 'sensitivity', 'Myspace', 'than', 'satisfaction', 'Defenseindepth', 'transitioned', 'disassociation', 'TOEs', 'spot', 'APIs', 'factorization', 'Communicative', 'nonproductive', 'managerial', 'untried', 'Vigenere', 'SHTTP', 'operational', 'putting', 'fraction', 'Build', 'Sensors', 'semiconductor', 'Examination', 'humanreadable', 'includes', 'Checklist', 'looks', 'withdraw', 'unsecured', 'Implies', 'discounts', 'injectionscript', 'Nations', 'Highspeed', 'MMORPG', 'advances', 'judgments', 'EAR', 'Connectionoriented', 'emphasized', 'Terrorists', 'accommodate', 'converting', 'thereby', 'workbook', 'firewalking', 'Verified', 'Offensive', 'criticality', 'SCIF', 'Rekeying', 'customer', 'hopping', 'computernetwork', 'Entirely', 'propaganda', 'hosted', 'Obscurity', 'Gavin', 'adds', 'ktrace', 'Programming', 'AirPcap', 'analysis', 'Elicitation', 'overproduction', 'RICO', 'modifications', 'Inactive', 'Guard', 'Inherent', 'organizing', 'Combined', 'doesnt', 'Dial', 'Swiss', 'languages', 'portion', 'advantageous', 'consideration', 'typecode', 'reply', 'Deflection', 'Patching', 'Excited', 'FINS', 'Detectdeterrespondalarm', 'kinegrams', 'reaction', 'Eliminate', 'IANA', 'FQDN', 'Windowsbased', 'revealed', 'Npq', 'knownplain', 'licensed', 'bridge', 'Textual', 'Defaults', 'sides', 'characters', 'preattack', 'destructive', 'ADD', 'BruteForce', 'passphrasebased', 'typical', 'Regularly', 'Malformed', 'conceal', 'Mass', 'Penetrateandpatch', 'prevent', 'unnecessary', 'Who', 'equally', 'complex', 'Fullinterruption', 'Segregation', 'Suspend', 'Flat', 'logarithms', 'fine', 'KNAPSACK', 'Datalink', 'IDD', 'Jims', 'combining', 'reused', 'decisionmakers', 'Automated', 'consultants', 'fire', 'originated', 'PIN', 'XMLbased', 'partitioning', 'retailers', 'Websense', 'prime', 'Aesthetic', 'giving', 'RIRs', 'injecting', 'Educational', 'outsiders', 'slamming', 'winprom', 'granting', 'Analog', 'keeps', 'expire', 'govern', 'Limit', 'license', 'precedence', 'NOCERTIFICATEERROR', 'Resets', 'not', 'cookies', 'owned', 'hook', 'region', 'toplevel', 'extractionthenexpansion', 'voted', 'prioritize', 'combating', 'satisfies', 'Text', 'Economics', 'Lehigh', 'productive', 'rooted', 'dilemmas', 'antistatic', 'operandi', 'arrangements', 'Revenge', 'demonstrating', 'abusing', 'PPTP', 'HACMS', 'ABACACBF', 'outcompete', 'household', 'Hydra', 'merger', 'Criminal', 'Symantec', 'securityprinted', 'Bombing', 'CNAs', 'TCB', 'handles', 'confined', 'peoples', 'MAAs', 'WindowsR', 'cipherscan', 'exemplify', 'subjecting', 'complied', 'identificationbased', 'Algebraic', 'robotic', 'Outside', 'Impersonating', 'quantify', 'validity', 'Acknowledgments', 'modify', 'Institutions', 'setup', 'addition', 'Overconsumption', 'hazardous', 'Layout', 'detection', 'Check', 'processs', 'someone', 'securiich', 'intermediary', 'toward', 'Aggregating', 'Mimikatz', 'patter', 'Virtual', 'organisational', 'Dependence', 'Storing', 'rate', 'SSHA', 'desynchronization', 'reports', 'BYOD', 'Sponsoring', 'forking', 'Legitimate', 'differ', 'holing', 'Validation', 'Error', 'switchport', 'tracker', 'York', 'Metric', 'picture', 'sometimes', 'smartphone', 'Multiprotocol', 'standardize', 'checking', 'Paperwork', 'domaincom', 'timeconsuming', 'decide', 'involved', 'opaque', 'wiretap', 'containing', 'Subnetting', 'exercise', 'bloatware', 'concept', 'cmdlet', 'reassemble', 'days', 'affect', 'degrees', 'SMB', 'Broadcasting', 'question', 'defenseindepth', 'orbit', 'Ready', 'runs', 'PHY', 'Significant', 'forgetting', 'clarifying', 'identitybased', 'CreateProcess', 'PointtoPoint', 'straps', 'accountability', 'defensible', 'Independently', 'Smaller', 'USER', 'Property', 'serious', 'practiced', 'Radiation', 'Binding', 'RADIUSPL', 'Prioritize', 'orderly', 'drops', 'Patents', 'periodend', 'Sandboxing', 'canonical', 'save', 'goodfaith', 'blackbox', 'accounts', 'Covering', 'retains', 'BootROM', 'nonvolatile', 'Flash', 'Multipurpose', 'genuineness', 'Motion', 'Scooter', 'hardtowire', 'timekeeping', 'cached', 'encipherment', 'axons', 'news', 'Update', 'Assists', 'PROXIABLE', 'Red', 'compressed', 'Polyalphabetic', 'imminent', 'gatekeeper', 'Synthetic', 'Existence', 'loopback', 'doorways', 'pairs', 'splitter', 'source', 'Unwillingness', 'Improves', 'Sound', 'provided', 'surveys', 'assumed', 'Token', 'Deleted', 'initiator', 'placeholders', 'educational', 'Engage', 'modifyi', 'Multiuser', 'Criminology', 'incomplete', 'Segmenting', 'ROC', 'perpetrators', 'inspecting', 'Auditors', 'professionalism', 'Technology', 'uninterrupted', 'creation', 'absence', 'continuity', 'Diligence', 'malpractice', 'covertly', 'boosting', 'hands', 'Additive', 'SSLSniff', 'Vernam', 'Securely', 'userselected', 'datacenter', 'ISO', 'auditability', 'liabilities', 'branch', 'Current', 'Offline', 'differentiate', 'acceptance', 'booths', 'crt', 'pairwise', 'Matrix', 'unlimited', 'Psiphon', 'autostart', 'visits', 'icons', 'Hotspots', 'Honey', 'ordered', 'investing', 'ranging', 'probe', 'fping', 'Miginthemiddle', 'limitations', 'GnuPG', 'TheHarvester', 'URG', 'checklist', 'Sonar', 'surface', 'integrating', 'ineffective', 'PASTA', 'Solution', 'exploitable', 'derivative', 'twin', 'warnings', 'Obfuscating', 'dust', 'modulated', 'Independence', 'substitution', 'Led', 'CSMACA', 'Contextdependent', 'visual', 'unusual', 'oxygen', 'ClienttoClient', 'Synchronizing', 'Modular', 'oneround', 'Relocation', 'comprise', 'residue', 'assumption', 'Unreliable', 'Cylinder', 'DHCP', 'Reference', 'Unions', 'calculated', 'Runs', 'wellknown', 'friction', 'TPSPs', 'Virus', 'PRFbased', 'instance', 'erosion', 'openness', 'ExclusiveOR', 'Provisions', 'Spreads', 'Multifactor', 'monolayered', 'broadcast', 'IPSecspecific', 'extension', 'Provides', 'Proton', 'aiding', 'two', 'Roy', 'another', 'intentions', 'arithmetical', 'Detectors', 'Hides', 'peak', 'Suggestions', 'Components', 'reliability', 'sockets', 'Hopstraversal', 'interfere', 'answered', 'Collections', 'keylogging', 'discussing', 'continuance', 'debit', 'rearranges', 'Deceptive', 'MDM', 'floods', 'IoT', 'recovered', 'Assessor', 'monitored', 'exemplifies', 'Swap', 'thirdgeneration', 'Tuning', 'Broadcast', 'infallibility', 'END', 'infrequently', 'Dont', 'Timememory', 'ledger', 'heterogeneity', 'kernelmode', 'Fullduplex', 'confidential', 'Tool', 'Burn', 'antiviral', 'began', 'Cave', 'predominantly', 'negatives', 'directive', 'vigorous', 'Engagement', 'Myopic', 'thrill', 'achieving', 'lot', 'deidentified', 'anonymize', 'scavenging', 'Gadsby', 'FBIs', 'arrays', 'antispam', 'SPINS', 'informationintensive', 'deciphered', 'dumb', 'Recover', 'Method', 'energized', 'three', 'interdependence', 'polynomial', 'Parallel', 'health', 'Mantraps', 'Morris', 'Preattack', 'altogether', 'Videotape', 'REXX', 'unskilled', 'executed', 'Transport', 'IAIM', 'generation', 'selfregulatory', 'Reacting', 'CSF', 'Mantrap', 'WPAPSK', 'consistency', 'matters', 'obtained', 'confirmation', 'banks', 'logo', 'Cash', 'senses', 'forge', 'CTO', 'nationstates', 'modification', 'Finishes', 'memos', 'imply', 'cryptovariables', 'enforces', 'NIPC', 'GoguenMeseguer', 'People', 'Factors', 'highend', 'supply', 'indicated', 'banner', 'implies', 'Sustaining', 'distinctive', 'belong', 'Symmetrickey', 'Reliable', 'subkey', 'crypto', 'detector', 'unsigned', 'Packetfiltering', 'recurrent', 'com', 'earnings', 'Belief', 'floppy', 'proposed', 'conferencing', 'consider', 'arises', 'Uncompresses', 'timers', 'TwoFactor', 'depending', 'Version', 'Userland', 'ballot', 'confiscate', 'validating', 'Nonreversible', 'Dirty', 'catchall', 'Tachonet', 'stepbystep', 'UTP', 'Whole', 'Addition', 'SAST', 'detached', 'Gasdischarge', 'Committee', 'Alerting', 'mainstream', 'IBMs', 'routing', 'replacing', 'NRD', 'arrive', 'blocks', 'home', 'ASCIIPlaintext', 'waterbased', 'workforce', 'Minimization', 'distrust', 'Blaming', 'ACKURG', 'hostprogram', 'hazards', 'unintelligible', 'counsel', 'falsifying', 'left', 'Hashes', 'Lockheed', 'Guardian', 'divisions', 'poorly', 'envisioning', 'Etherpeek', 'degaussing', 'DoS', 'MSS', 'microservices', 'Coppersmith', 'DNSoverHTTPS', 'Overflow', 'stimuli', 'statistical', 'specialty', 'cyberbullying', 'Ring', 'alphanumeric', 'learn', 'streamlining', 'protocol', 'Scenarios', 'Bus', 'plane', 'etcettercapetterdns', 'unverified', 'improve', 'Savings', 'Familylike', 'machinespecific', 'jeopardize', 'Honeypots', 'Unauthorized', 'hahahasexyfunnet', 'enemys', 'ECCouncil', 'VERIFY', 'IEEE', 'Leftshift', 'honorably', 'endusers', 'onetooneofmany', 'LDAPs', 'summarized', 'manipulated', 'Linklocal', 'grazing', 'Locate', 'Crosssite', 'Nash', 'kiddies', 'Comfortable', 'Look', 'referring', 'Bing', 'remotely', 'Accurately', 'official', 'attacked', 'leverages', 'empower', 'Formulating', 'stipulates', 'boilers', 'embrace', 'Tamper', 'executing', 'retired', 'Multics', 'AntiVirus', 'trademark', 'market', 'unclonable', 'Partnership', 'Involvement', 'SYNURGFIN', 'interprets', 'canary', 'alternate', 'memorymanagement', 'generic', 'hunt', 'AFRINIC', 'Alan', 'destroys', 'renting', 'Targets', 'Message', 'diagnosis', 'unbreakable', 'mischief', 'dedicated', 'ensures', 'hinder', 'propagated', 'span', 'jamming', 'phonebased', 'Shoulder', 'Antifuse', 'strongest', 'Evaluating', 'homogeneity', 'subsequence', 'estimation', 'adequate', 'accesses', 'PKIS', 'SOAR', 'Product', 'Space', 'Resist', 'seized', 'devoted', 'fraudsters', 'verification', 'Cross', 'according', 'Category', 'validation', 'lit', 'pipes', 'cultural', 'TGTs', 'Hack', 'prohibiting', 'Before', 'pseudoconnection', 'favor', 'nonsecure', 'Investigations', 'perceived', 'Selfpropagating', 'abstraction', 'Radio', 'multimedia', 'complicated', 'SaaS', 'Redundancy', 'Classifying', 'reamplify', 'Capable', 'drowssap', 'Bots', 'Scoring', 'practitioners', 'SPF', 'Migrate', 'proximate', 'mask', 'area', 'opinions', 'favored', 'Annualized', 'simplified', 'plaintext', 'penalties', 'estimating', 'rendering', 'APREQ', 'Interfere', 'oversized', 'fails', 'persons', 'Replicating', 'mist', 'ambiguities', 'appliancebased', 'equipments', 'Believability', 'VPN', 'compartmented', 'nonce', 'attacking', 'Manageability', 'collector', 'Coherent', 'SSDT', 'UserOperator', 'btscanner', 'Resource', 'loose', 'scanner', 'floor', 'suspects', 'Meetinthemiddle', 'Important', 'bytes', 'dynamic', 'lasts', 'Control', 'hostnames', 'nonrepudiation', 'Africa', 'Relief', 'obfuscate', 'forgery', 'Wrights', 'NIACAP', 'Primary', 'oversees', 'Think', 'Cryptographically', 'once', 'Heatbased', 'CalderMoir', 'Offered', 'clipping', 'scenes', 'mangled', 'Interaction', 'Contamination', 'agreedupon', 'Pintumbler', 'Ophcrack', 'tester', 'mistake', 'Telecommunications', 'remanence', 'Sensitivitybased', 'probabilistic', 'differential', 'noncritical', 'transmitted', 'DVD', 'rename', 'Ruby', 'Word', 'OpenPGP', 'SSECMM', 'Conformance', 'DoSAttack', 'authorized', 'perconnection', 'military', 'inspection', 'database', 'Repetitive', 'Sprinkler', 'Intrinsic', 'Palm', 'converted', 'defendant', 'Rapidly', 'nonroutable', 'transmitter', 'multiple', 'digitized', 'TripleDES', 'dissemination', 'altering', 'singleuser', 'stack', 'cheap', 'when', 'Nyberg', 'Indication', 'impressions', 'Microwave', 'Options', 'Escalate', 'DBMS', 'illumination', 'Proof', 'Barricades', 'Miscellaneous', 'Defining', 'chances', 'territorial', 'week', 'without', 'better', 'DROP', 'multiplayer', 'Delay', 'consolidate', 'tracks', 'keylogger', 'engages', 'terminology', 'pose', 'refocusing', 'Truepositive', 'diskless', 'specifying', 'flow', 'Admin', 'ecommerce', 'httpd', 'Escrowed', 'flashing', 'Exploiting', 'adversarys', 'Getting', 'perspectives', 'down', 'Preday', 'Allocation', 'Breaks', 'specifications', 'Extinguishes', 'Inspection', 'unpredictable', 'Continous', 'punishment', 'mixture', 'call', 'harmonize', 'entrances', 'offices', 'exploitation', 'chatmonitoring', 'exploited', 'reconstitutes', 'highspeed', 'basics', 'telegraphy', 'resp', 'Blooover', 'Onetoone', 'Confidentialityfocused', 'Economy', 'prices', 'evil', 'dismissed', 'administratordefined', 'quiet', 'characterizes', 'Caribbean', 'involves', 'Trivial', 'scrutiny', 'relationships', 'balancers', 'dialed', 'Unfriendly', 'responsible', 'Contextual', 'Sdata', 'entity', 'telecom', 'represented', 'Generator', 'proactive', 'Supervision', 'Saboteurs', 'Installation', 'combatting', 'Total', 'owns', 'saves', 'Assurance', 'REQUESTCERTIFICATE', 'increasingly', 'hampers', 'wants', 'affecting', 'technologies', 'Higherquality', 'Intentionally', 'SPI', 'Republishing', 'SDLC', 'outgoing', 'apprehend', 'Trojan', 'Compresses', 'FINPSH', 'obtains', 'proxystyle', 'Older', 'Saint', 'Rowlevel', 'MaskingGenerics', 'Tsunamis', 'Cracked', 'Excluding', 'RPCs', 'Unsuitable', 'Paper', 'spamming', 'initial', 'strangers', 'representative', 'breadth', 'minimally', 'produce', 'crashing', 'corporateowned', 'queues', 'RATs', 'video', 'companyowned', 'Networks', 'bottlenecks', 'Traditional', 'Davos', 'remainder', 'New', 'signaltonoise', 'Ignore', 'fraggle', 'teleprinter', 'Garbage', 'Inconsistent', 'quick', 'streams', 'reassembly', 'ECB', 'latency', 'Analytical', 'procedure', 'migrating', 'loopholes', 'privacy', 'Errorfree', 'simulation', 'forcefully', 'Unable', 'Thirdperson', 'Compartmentalization', 'privileges', 'electric', 'elses', 'EDGAR', 'Headquarters', 'convincingly', 'Segregating', 'sender', 'ciphers', 'losstheft', 'NANIC', 'apply', 'STUIII', 'SOT', 'support', 'encapsulate', 'Manufactured', 'Deploying', 'xDSL', 'Byte', 'Thomas', 'nonexecutable', 'Delaying', 'tax', 'Expressed', 'Verification', 'smoothness', 'Endpoint', 'Opportunity', 'verify', 'Amount', 'Electronics', 'Cleeff', 'handler', 'Claude', 'blinding', 'PID', 'tablets', 'largely', 'highprofile', 'pricing', 'detects', 'brilliance', 'objective', 'presumably', 'Receives', 'pathway', 'Skills', 'Firstmatch', 'Conictual', 'submit', 'Definition', 'Static', 'upgrading', 'Exposure', 'Needham', 'RENISAC', 'Critical', 'Format', 'becoming', 'Sequential', 'CRM', 'KOC', 'documented', 'HIPM', 'CloudFormation', 'reputational', 'clientside', 'show', 'credential', 'credit', 'EDL', 'said', 'pattern', 'stakeholder', 'Vicarious', 'Isolated', 'analog', 'securitybyobscurity', 'Plugboard', 'foreign', 'synthesis', 'Randomizing', 'Selfreplication', 'enforce', 'respond', 'Appointing', 'throughputrated', 'etcresolvconf', 'temporarily', 'Urgent', 'loginibmcom', 'plaform', 'attached', 'Headers', 'presenting', 'dissimilar', 'Infect', 'onceoff', 'libc', 'propose', 'coordinates', 'Fraudulent', 'Fencing', 'MSSP', 'interrupt', 'creating', 'interpreter', 'keeper', 'Codes', 'Nimda', 'export', 'intact', 'wrap', 'circumvention', 'Multiprogramming', 'restricted', 'having', 'plugins', 'comprising', 'maximizes', 'entities', 'panels', 'Homomorphic', 'Probablemessage', 'Ourmon', 'Analytics', 'designerarchitectprogrammerdeveloper', 'steady', 'Design', 'Average', 'injunction', 'manageable', 'Choose', 'Shamirs', 'spaces', 'Wizard', 'WAN', 'riskfree', 'defenses', 'patterns', 'cores', 'hides', 'included', 'Signature', 'Personal', 'denialofservices', 'Moderate', 'Coordination', 'boundary', 'Lphtcrack', 'VDUs', 'spoofed', 'guaranteeing', 'NBFCP', 'HMACMD', 'serverhellodone', 'accumulated', 'grinding', 'usually', 'Bulletins', 'Friedman', 'combustibility', 'rely', 'Collector', 'emissions', 'straightforward', 'executables', 'BIOA', 'Nine', 'physicallayer', 'Cloned', 'Smartcards', 'Plain', 'mentioned', 'passwordcracking', 'building', 'precaution', 'Operationmaintenance', 'CipherBlock', 'Transmits', 'intrusiveness', 'Parkerian', 'block', 'breaches', 'Webbased', 'accounting', 'penalty', 'Holding', 'graphic', 'pairing', 'MIKEY', 'wideband', 'carefully', 'Stepping', 'coprocessors', 'profit', 'Bridge', 'administrators', 'UHF', 'era', 'psyops', 'influenced', 'Leach', 'shareholders', 'counted', 'polarizations', 'Benefit', 'knowing', 'KDCs', 'Line', 'Authority', 'Amplification', 'SideChannel', 'eligibility', 'EDR', 'Switch', 'collusion', 'across', 'Spread', 'criminal', 'beaconry', 'crafts', 'stepping', 'Simple', 'lattice', 'realms', 'fastflux', 'tear', 'plays', 'collectors', 'attribute', 'Charter', 'behavior', 'refilled', 'wire', 'diagnostic', 'mailing', 'programming', 'obscure', 'MILLERRABINTEST', 'appearing', 'convergence', 'optimal', 'predetermined', 'embody', 'true', 'Ticketgranting', 'evolving', 'consultant', 'Sketch', 'examining', 'Employee', 'sight', 'Locked', 'pasted', 'Boffing', 'unexpected', 'preambles', 'DOM', 'Inappropriate', 'uncontrolled', 'FISMA', 'Fiberoptic', 'legitimacy', 'conf', 'underpin', 'Sam', 'agreement', 'vigilant', 'malfunctions', 'Light', 'Convert', 'efficient', 'stripped', 'NADS', 'Winrtgen', 'Right', 'knowledgeable', 'Nave', 'BerlekampMassey', 'stable', 'programmatic', 'automated', 'libraries', 'Gasbased', 'systembased', 'Small', 'Private', 'exemptions', 'botnets', 'Primitive', 'explain', 'Contentdependent', 'Attenuation', 'salt', 'humans', 'unattractive', 'ChosenPlain', 'axfr', 'gross', 'Entity', 'remembered', 'Anything', 'botmaster', 'CIR', 'evacuation', 'Synchronizes', 'Mart', 'mediate', 'Chromebook', 'Fear', 'namp', 'voicemail', 'Independent', 'segregate', 'destinationunreachable', 'Pseudo', 'cast', 'Kiddie', 'migrates', 'visualbased', 'encode', 'button', 'encompasses', 'guilty', 'periodically', 'Administrator', 'publicchoice', 'detected', 'physiological', 'mirror', 'Pro', 'Manipulating', 'incorrectly', 'compartmentalized', 'frameworks', 'Expectancy', 'Orthogonal', 'pem', 'otherwise', 'upheld', 'Discernment', 'GRANT', 'agreed', 'repeated', 'Patriot', 'adversely', 'forestall', 'Whenever', 'halfway', 'starting', 'fill', 'additions', 'Architecture', 'Edutainment', 'companyapproved', 'Remoteaccess', 'George', 'Contains', 'HOSTS', 'amounts', 'zerotrust', 'tamperdetection', 'trivialising', 'sixdigit', 'Tshirt', 'chaos', 'Inflexible', 'Delphi', 'proving', 'large', 'Best', 'implementations', 'Exposures', 'prompting', 'Colossus', 'ensure', 'April', 'reviewing', 'physically', 'Deadlock', 'operating', 'Systemspecific', 'squares', 'viability', 'Merkles', 'Debugger', 'exclusivity', 'bad', 'disabled', 'Misplacing', 'replayable', 'cryptological', 'costbenefit', 'Extranet', 'orchestration', 'View', 'orders', 'grab', 'KnowledgeBased', 'reevaluate', 'DLT', 'Trapdoor', 'Thursday', 'headsets', 'Malvertising', 'exocytosis', 'Conceptual', 'guarantee', 'royal', 'deceives', 'masquerading', 'automatic', 'adjusting', 'taxes', 'acronym', 'Probes', 'token', 'homomorphic', 'LEAP', 'Three', 'Interfaces', 'manufacturer', 'UPSs', 'ipaddr', 'packer', 'explained', 'Liability', 'threewayhandshake', 'Joe', 'List', 'browser', 'PCbased', 'RPER', 'Leakage', 'Semiformally', 'stand', 'Compartmented', 'removed', 'SDH', 'smell', 'digit', 'craft', 'automata', 'thew', 'performing', 'minor', 'Infringement', 'harmony', 'NISTs', 'law', 'POP', 'Continuing', 'airports', 'callback', 'antispoof', 'NISTIR', 'Protecting', 'Looking', 'Universal', 'composed', 'Jason', 'EAPGPSK', 'Higgins', 'screened', 'Encrypting', 'hostname', 'Introduce', 'Releasing', 'artistic', 'TGS', 'broaden', 'reverses', 'Preshared', 'Sarah', 'Made', 'Photoelectric', 'her', 'RADIUSbased', 'Good', 'traceability', 'NTSC', 'cloning', 'unfriendly', 'corresponding', 'CVE', 'retina', 'PCIDSS', 'since', 'dont', 'standardised', 'aware', 'Removes', 'lure', 'INFORMATIONAL', 'Planning', 'naming', 'cwheels', 'disciplinary', 'Prefer', 'Enticement', 'durability', 'agree', 'Uniformity', 'Metamorphic', 'Juniper', 'Situational', 'Syllable', 'intended', 'Classifications', 'defeat', 'Diagnosis', 'assigning', 'Extreme', 'evenings', 'Justintime', 'waterfallstyle', 'Requesting', 'forwarding', 'indirectly', 'Mechanical', 'preview', 'closed', 'constituting', 'define', 'lawful', 'ASNs', 'COM', 'Time', 'CCDDEE', 'precomputing', 'condition', 'highavailability', 'qualified', 'riskcentric', 'workfactor', 'Due', 'Fibre', 'instructor', 'Fport', 'lastlog', 'Normalization', 'seek', 'personality', 'modems', 'originates', 'Dave', 'Elgar', 'Resident', 'acid', 'Ronald', 'inadequate', 'triad', 'schedules', 'next', 'process', 'endpoints', 'LTE', 'impress', 'Litigation', 'Exact', 'Vega', 'vocabulary', 'xValues', 'failures', 'runlevel', 'Click', 'overseeing', 'filtered', 'Unsurety', 'Prime', 'Gary', 'Investigatory', 'note', 'Fourway', 'Forgiveness', 'safeguarding', 'pollution', 'Representing', 'relevant', 'mechanical', 'Apply', 'inappropriate', 'Darknet', 'Expert', 'macro', 'routertorouter', 'Allegation', 'incompetence', 'pay', 'depleting', 'distinct', 'embarrassing', 'FDDI', 'affine', 'evaluations', 'quantifying', 'migrate', 'projects', 'netForensics', 'assumptions', 'supports', 'Executes', 'Supply', 'Prepremium', 'loginids', 'ceremonies', 'bodies', 'judicial', 'selfhack', 'attendance', 'Acceptable', 'Display', 'position', 'Goto', 'Sbox', 'Webdefender', 'Impose', 'Xamarin', 'measurements', 'RIR', 'valued', 'encourages', 'Formatting', 'conversion', 'VOIP', 'redundant', 'alphabetic', 'directing', 'SSRF', 'sensitive', 'ramming', 'forecasting', 'calculations', 'crimes', 'initiation', 'Interface', 'Continuous', 'wrongs', 'comprehensive', 'ToneLoc', 'Scherbius', 'Vault', 'departmental', 'gatewaytogateway', 'Netiquette', 'Recognition', 'bulletin', 'requesting', 'Intel', 'Hat', 'breakwheel', 'favors', 'objectoriented', 'breakdown', 'Correct', 'pendent', 'Evaluators', 'FAT', 'towards', 'Nearfield', 'IPFW', 'SSC', 'massive', 'Discover', 'harmful', 'metric', 'Selfincrimination', 'physical', 'btCrawler', 'layer', 'Administration', 'testing', 'According', 'Optimalmatch', 'Incorrect', 'Collisions', 'Most', 'KLjk', 'online', 'Helix', 'PROMISC', 'cloud', 'SSHMSGNEWKEYS', 'frequencies', 'Keystroke', 'Additional', 'PGP', 'run', 'symbolize', 'enhancements', 'Doublecheck', 'Identifying', 'escaping', 'analyzing', 'unwilling', 'Baiting', 'disable', 'Disassociation', 'attempted', 'MITRE', 'Ghost', 'stake', 'certification', 'nontextual', 'propagate', 'wanted', 'Segmentation', 'sector', 'imperfection', 'ContingencyContinuity', 'leaks', 'criminals', 'Emulate', 'ECC', 'amplify', 'mutates', 'windowsexploitsuggesterpy', 'Duplicate', 'Nnmap', 'Removing', 'Deception', 'pretense', 'hex', 'engineeringcomputer', 'TicketGranting', 'opinion', 'Interpersonal', 'relinquish', 'being', 'deprovisioning', 'iBoot', 'SCRM', 'Level', 'returns', 'continual', 'repeater', 'TMCA', 'composite', 'aside', 'Terrorist', 'ContextDependent', 'Centralizing', 'wholesale', 'effective', 'renders', 'periodic', 'cords', 'Multitasking', 'reader', 'neurallinguistic', 'uploading', 'external', 'XFRM', 'Nonlinear', 'system', 'Production', 'cleared', 'companyused', 'evaluation', 'striking', 'theatres', 'whitecollar', 'Deadline', 'desk', 'Senior', 'Somewhere', 'forming', 'VMI', 'nonEU', 'Privacy', 'statement', 'treated', 'pointtopoint', 'GMSC', 'Accessing', 'revert', 'Propagation', 'arbitrary', 'Containerization', 'inadvertently', 'Korea', 'costeffective', 'CCP', 'overlay', 'move', 'Null', 'inaccurately', 'assign', 'deposit', 'CyberForensics', 'Gate', 'authenticators', 'identifiable', 'interviews', 'SIDs', 'uninterruptible', 'inserting', 'phreaks', 'Antenna', 'SMIME', 'successfully', 'consciousness', 'conceals', 'timelimited', 'literature', 'success', 'Managing', 'Stuart', 'Pseudophysical', 'reflect', 'firstlevel', 'methods', 'eradicate', 'criticisms', 'enabled', 'Overflows', 'passes', 'stage', 'motivations', 'purchases', 'birthday', 'Burp', 'Judging', 'thousand', 'shows', 'chargeback', 'HLR', 'Endo', 'longterm', 'badrecordmac', 'Singleuser', 'Changed', 'Salesforce', 'Exploit', 'highlighting', 'Horse', 'blacklists', 'SAN', 'computations', 'categorize', 'Collision', 'Collecting', 'Embezzlement', 'Develops', 'Wiring', 'actions', 'advise', 'organisations', 'IPL', 'PDS', 'Filters', 'predistributed', 'Hypertext', 'welfare', 'reacts', 'phishermen', 'mandate', 'Managers', 'Adaptivechosenplaintext', 'Things', 'wfmsc', 'Signal', 'seismic', 'BEST', 'leaving', 'inferences', 'Interpreted', 'lines', 'OFDM', 'SOA', 'NCC', 'divider', 'publicity', 'Diffusion', 'likeliness', 'Defragmentation', 'Lengthy', 'give', 'CtrlShiftEsc', 'Installing', 'EDI', 'Seamless', 'wellfunded', 'game', 'Infiltrating', 'adaptations', 'surge', 'GIS', 'Wristband', 'approaches', 'beam', 'triggered', 'manmade', 'Forwarded', 'WEPencrypted', 'ever', 'encryptor', 'SOP', 'prove', 'failopen', 'useful', 'DefenseinDepth', 'label', 'Layer', 'inherently', 'Safe', 'disruptive', 'BlueScanner', 'Huge', 'Play', 'Invisible', 'ipconfig', 'MaaS', 'Load', 'Main', 'Cycle', 'eruptions', 'CEOs', 'heterogeneous', 'UTM', 'using', 'Array', 'Inventory', 'Kerberoscompatible', 'Bounds', 'Virtualizing', 'wiretapped', 'Denning', 'summing', 'watches', 'AUPn', 'TOR', 'severe', 'applies', 'stateexhaustion', 'memorize', 'scratching', 'disagreement', 'Covert', 'intruder', 'anonymous', 'believes', 'Scenario', 'Exclusion', 'tariff', 'vaulting', 'COMINT', 'Prosecution', 'nonconformities', 'Governmentowned', 'satisfactorily', 'prophylactic', 'Clipper', 'Credential', 'query', 'Gather', 'report', 'companies', 'COSO', 'recommended', 'lessons', 'impermanence', 'Supported', 'Issued', 'intensive', 'Crsv', 'CAM', 'neutralize', 'attract', 'metasystem', 'resumes', 'see', 'escape', 'null', 'UIDs', 'fortress', 'gram', 'beginning', 'Snippy', 'Decrypts', 'companys', 'locate', 'falserejection', 'repairman', 'NFCbased', 'issues', 'servicelevel', 'test', 'TOC', 'Sieving', 'interoperability', 'inject', 'arbitrated', 'sizing', 'DRE', 'modern', 'unacceptable', 'FailClosed', 'default', 'leastpossible', 'USB', 'Multilevel', 'invoke', 'PeopleTools', 'Million', 'Tokenization', 'Cards', 'extended', 'Hand', 'variables', 'Influences', 'RESTful', 'short', 'Select', 'defaults', 'Initiation', 'permutations', 'factors', 'destroy', 'IdentifyFriendorFoe', 'rollover', 'opt', 'lifetimes', 'hunting', 'Moore', 'algorithms', 'Opportunities', 'this', 'XORtoNullKey', 'Closedcircuit', 'RMF', 'Incompletion', 'Banner', 'trunk', 'accidents', 'audit', 'threatous', 'Pure', 'recommending', 'complaints', 'Principles', 'cyberattack', 'FAIR', 'authenticated', 'Initialization', 'spikes', 'SFTP', 'NSlookup', 'instructions', 'expressed', 'lower', 'crackdown', 'ECDHE', 'organizationwide', 'stealthy', 'Adaptation', 'Routine', 'zeroknowledge', 'comprehensively', 'Electric', 'switched', 'cramming', 'Server', 'multiples', 'tradeoff', 'identifies', 'Overextending', 'Conventions', 'DeviceWall', 'complicate', 'Part', 'failsecure', 'occasionally', 'schools', 'Heatsensing', 'OJT', 'Human', 'utilities', 'legacy', 'acquiring', 'recoverable', 'consolidating', 'because', 'engage', 'wirecoded', 'violate', 'plainciphertext', 'Rooting', 'recently', 'Typewriter', 'counters', 'Edge', 'Work', 'engine', 'processors', 'Baretext', 'Eyeyou', 'Residual', 'obstacles', 'secrecy', 'DVB', 'insurgents', 'abelian', 'undesirable', 'varied', 'Defeat', 'abbreviated', 'fingerprinting', 'echoes', 'iDevices', 'rogue', 'businesses', 'adapting', 'inbox', 'redirecting', 'GrayBox', 'MAC', 'testifying', 'Hidden', 'provide', 'fact', 'Viewers', 'Minimal', 'uncovering', 'drawing', 'SUM', 'incidental', 'EPIC', 'School', 'iOS', 'Interchanges', 'Properly', 'negligence', 'insertion', 'desktop', 'Inputoutput', 'QRcoded', 'DNSbased', 'variant', 'Openallows', 'grants', 'very', 'formality', 'Flame', 'classifications', 'quo', 'indistinguishable', 'Scalable', 'views', 'observations', 'Technological', 'Organizations', 'LSdata', 'authorize', 'prosecution', 'Argon', 'nongovernmental', 'sponsorship', 'usercreated', 'movement', 'Openness', 'ultimately', 'Widespread', 'inverter', 'eyes', 'Importance', 'Limitation', 'weaponization', 'sustained', 'Historical', 'Maninthemiddle', 'neighbors', 'President', 'HTTPPORTS', 'MAN', 'CAPTCHA', 'Receipt', 'Whohas', 'facilitates', 'override', 'unsearchable', 'Russia', 'computes', 'CONFIGSYS', 'denoted', 'savings', 'callerline', 'Simulating', 'RequestURI', 'crackers', 'Logarithm', 'fences', 'referred', 'copyrighted', 'AppInitDLLs', 'Adler', 'enrollment', 'Each', 'charge', 'replacement', 'Wired', 'volumes', 'tasks', 'Circular', 'loader', 'ransomware', 'adaptability', 'terminates', 'assessing', 'preceding', 'forgotten', 'Issue', 'Captured', 'Dialin', 'Facilitate', 'associated', 'Hybrid', 'Certainty', 'step', 'Runtime', 'inclusion', 'PayForIt', 'person', 'Streamlining', 'effectiveness', 'parking', 'activities', 'elevated', 'HyperText', 'case', 'Firewall', 'Inconsistency', 'August', 'resolve', 'GCD', 'relocating', 'provides', 'Driver', 'Coercive', 'Conforming', 'objectives', 'threeway', 'Discrete', 'Singleflux', 'Psswrd', 'Coincidence', 'Commission', 'LinkedIn', 'CRLbased', 'segmented', 'SED', 'based', 'ground', 'Peeping', 'serverkeypem', 'telltale', 'adhering', 'PKls', 'flawed', 'recreate', 'Retain', 'willful', 'Steps', 'schemes', 'diplomatic', 'DRG', 'Eventdriven', 'Testability', 'Computer', 'Secret', 'buildup', 'collected', 'WBS', 'optic', 'DEKP', 'lateral', 'admission', 'Inergen', 'Fortunately', 'Anonymous', 'UNIXlike', 'payTV', 'identification', 'out', 'frequency', 'facilitate', 'disciplines', 'AuthenticationAuthorization', 'Johanna', 'ESS', 'Doesnt', 'violates', 'CCF', 'getAccess', 'unsolicited', 'GFm', 'professes', 'passive', 'CYOD', 'memoryresident', 'Wilson', 'told', 'Bobs', 'accidental', 'entirely', 'Pseudoflaws', 'became', 'emergence', 'slip', 'Ethics', 'Applicationspecific', 'casing', 'watermarking', 'cookie', 'completion', 'Hub', 'costeffectiveness', 'integrityfocused', 'Favor', 'pitfall', 'guides', 'occurring', 'Domains', 'reinfect', 'Involves', 'divide', 'facebook', 'visibility', 'describing', 'GSA', 'Conducting', 'MTD', 'complicates', 'cryptography', 'infecting', 'globe', 'perpetuated', 'Generatring', 'been', 'character', 'Lessons', 'FCS', 'definitive', 'Once', 'Flowers', 'Legislative', 'Altruistic', 'Reply', 'Form', 'tally', 'Abilities', 'reorganization', 'ISODIS', 'disasters', 'Jules', 'Keyencrypting', 'Friend', 'Scripting', 'fighters', 'Custodian', 'Keylogging', 'optimum', 'cryptosystem', 'Pretty', 'timeofuse', 'systemspecific', 'Pareto', 'compartmentalization', 'TOU', 'Realisation', 'listconnections', 'Apart', 'HosttoHost', 'protects', 'Write', 'experiments', 'TCSEC', 'situations', 'microprocessors', 'small', 'Rijmen', 'remember', 'maximum', 'merchant', 'exploration', 'dismantle', 'semiweak', 'cellular', 'normalize', 'expiry', 'HTTPrint', 'Bottomup', 'etcdnsspoofconf', 'footprinting', 'delegation', 'removable', 'encumbered', 'responding', 'extremely', 'inetmgr', 'hard', 'scannings', 'recognize', 'compression', 'analysisstructured', 'Horses', 'tracing', 'identifiers', 'taken', 'Besoins', 'organisation', 'integrators', 'upwards', 'Rootkits', 'interpreting', 'affiliations', 'Visa', 'CrossPlatform', 'execute', 'associative', 'fielddump', 'successes', 'Clearing', 'Rome', 'contactless', 'worldwide', 'masks', 'telecommuting', 'Jam', 'Pay', 'CCCEM', 'binaries', 'polyinstantiation', 'interprocess', 'come', 'TDMA', 'SECaaS', 'Compute', 'tips', 'UNSUPPORTEDCERTIFICATETYPEERROR', 'CtrlAltDel', 'themes', 'Regulations', 'seeking', 'Autonomy', 'former', 'Security', 'words', 'Masquerading', 'Deny', 'chief', 'demand', 'layers', 'Always', 'lengthy', 'Apache', 'attractiveness', 'universal', 'impressive', 'use', 'printer', 'compromising', 'Optimize', 'wearing', 'etcgroups', 'automating', 'Possible', 'errorprone', 'Proactively', 'PVCs', 'intentionally', 'hazard', 'NIDES', 'lnline', 'observable', 'tapes', 'Delegate', 'SSIDs', 'Convenience', 'AAPI', 'strobe', 'climbing', 'indication', 'resides', 'Delegation', 'Translation', 'linearization', 'ceilings', 'improperly', 'Difficulty', 'Tricking', 'Hopping', 'amended', 'diminished', 'associating', 'airmonng', 'Unknown', 'certificate', 'everything', 'Bluesmacking', 'filetype', 'Decrypted', 'employed', 'Evolutionary', 'halting', 'Equivalent', 'surrounding', 'Causation', 'bar', 'integrates', 'Unlimited', 'censorshipresistant', 'dropper', 'Heat', 'Concentrating', 'Risk', 'sources', 'Monitoring', 'justly', 'Dsniff', 'Promotion', 'fear', 'Outdated', 'elliptic', 'wearables', 'externally', 'blasting', 'Encrypt', 'SSHv', 'ISSE', 'allocate', 'selects', 'Defined', 'tempt', 'Installs', 'ballots', 'White', 'inlcuding', 'Sisyphus', 'Kizza', 'ECKAEG', 'illustrate', 'invisible', 'contingency', 'loads', 'EALs', 'blackmail', 'PrivacyEnhanced', 'filing', 'MACs', 'Bounty', 'substitute', 'External', 'SoC', 'photons', 'financially', 'Controlled', 'Phase', 'communicating', 'consequence', 'Syslog', 'laser', 'IPsec', 'coincidence', 'Fishing', 'Roles', 'delegated', 'inserts', 'sensor', 'informational', 'Abrupt', 'Coaxial', 'recordkeeping', 'capture', 'differentiates', 'POODLE', 'representatives', 'compel', 'Vishing', 'CarrierSense', 'ramifications', 'Proximate', 'Closed', 'conclusion', 'ten', 'archived', 'SEQ', 'perform', 'Computers', 'custodians', 'Linear', 'Staff', 'needtoknow', 'Postquantum', 'Negotiating', 'funds', 'principle', 'failsafe', 'extinguishing', 'later', 'ceases', 'dictionaries', 'WebAssembly', 'inputoutput', 'Interacting', 'MalAlyzer', 'nontrivial', 'ControlFlow', 'Numbers', 'convenient', 'calculating', 'judge', 'suspected', 'expensive', 'spreading', 'discovers', 'Rapid', 'Based', 'Provide', 'tick', 'connectionoriented', 'reconstructing', 'subnets', 'discoverability', 'Poker', 'knapsackenciphered', 'supplies', 'NOCIPHERERROR', 'Machinery', 'emerging', 'NetworkingInformation', 'MAPPINGS', 'Uncertainty', 'text', 'Lai', 'DPD', 'COVID', 'stopping', 'tortfeasor', 'inexpensive', 'BAN', 'troubleshooting', 'Expensive', 'viewpoint', 'Extracellular', 'junk', 'prize', 'format', 'seizures', 'initiated', 'unchanged', 'Listening', 'Computertargeted', 'election', 'Petty', 'SAML', 'decision', 'Kernellevel', 'commit', 'writer', 'analogy', 'backing', 'Opensource', 'Five', 'decipherment', 'locating', 'interface', 'Hackers', 'MSA', 'regards', 'enveloping', 'failover', 'stacks', 'Contact', 'Identifiers', 'logins', 'Patient', 'consume', 'Asymmetrickey', 'registered', 'stamps', 'waterfall', 'Hex', 'unusually', 'NAC', 'spiral', 'Material', 'reassembled', 'nontechnical', 'benefiting', 'Destroying', 'injector', 'exploit', 'registry', 'Dependency', 'WWII', 'machinereadable', 'Restricted', 'Controlling', 'pertransaction', 'traded', 'BTS', 'OSSTMM', 'verifies', 'Interconnect', 'proficient', 'oxide', 'Background', 'transformation', 'distress', 'mental', 'Real', 'minors', 'Act', 'Adjusting', 'theyve', 'called', 'Subseven', 'folder', 'deviation', 'retransmissions', 'Bounce', 'callingcard', 'Inline', 'jointly', 'amplification', 'limitedfunctionality', 'EMV', 'restores', 'TBAC', 'Assertions', 'effectively', 'satellite', 'Links', 'microcomputer', 'OAuth', 'qualify', 'therein', 'wiretapping', 'memorybased', 'RFI', 'name', 'memorable', 'Evaluation', 'genotypic', 'Mediating', 'stored', 'engineer', 'Triad', 'COBIT', 'admissibility', 'Demilitarization', 'Addressing', 'net', 'Whitebox', 'Make', 'host', 'EKPP', 'cloned', 'isolated', 'French', 'administrations', 'MTTR', 'Carpeting', 'exponent', 'doors', 'Decryption', 'wellformed', 'glue', 'hours', 'rearchitecting', 'photos', 'ERP', 'rescreen', 'Social', 'maninthebrowser', 'Transforming', 'DPM', 'venue', 'Relation', 'experienced', 'dates', 'reroute', 'ProgramInternet', 'corporation', 'Joes', 'dialupcallback', 'RealTime', 'waveforms', 'DMA', 'Zeroknowledge', 'Virtualisation', 'fixing', 'detectable', 'KDC', 'superficial', 'obligations', 'WPAWPA', 'Grid', 'Blended', 'Cost', 'mitigate', 'attention', 'Aviation', 'trustees', 'extends', 'others', 'Pagers', 'Accountingresponse', 'irreversible', 'Thermostat', 'loggers', 'Elastic', 'Anticipatory', 'DHCPDISCOVER', 'Chat', 'opposed', 'Mobile', 'teaches', 'meant', 'proceedings', 'crosssystem', 'Entering', 'theory', 'Trojans', 'Equipment', 'Schroeder', 'Performs', 'ions', 'Reform', 'speculative', 'invalidity', 'the', 'mitigating', 'Counter', 'closedsource', 'redirect', 'highlight', 'maintained', 'IDWSF', 'stages', 'PFKEYv', 'CLIENTFINISHED', 'discussions', 'stakeholders', 'evinces', 'Mill', 'alters', 'SuperOneClick', 'boulder', 'increased', 'indepth', 'Row', 'usable', 'Cryptosystems', 'emails', 'Should', 'results', 'Angular', 'worms', 'goals', 'downgrades', 'door', 'Two', 'alreadyauthenticated', 'Statistically', 'sticks', 'Solaris', 'saving', 'Stuxnet', 'Multipartite', 'Anchor', 'pins', 'disturbance', 'Reconstruction', 'subjectivity', 'Define', 'transformer', 'Demand', 'NIETP', 'Chosenciphertext', 'lab', 'configuration', 'Grudge', 'Sensitive', 'nonpublic', 'dependency', 'additional', 'emit', 'soma', 'Mismanagement', 'undecipherable', 'Urgency', 'Back', 'synonym', 'Cloning', 'Eradication', 'MSSPs', 'citys']\n",
            "30522\n",
            "41667\n"
          ]
        },
        {
          "output_type": "execute_result",
          "data": {
            "text/plain": [
              "Embedding(41667, 768)"
            ]
          },
          "metadata": {},
          "execution_count": 79
        }
      ]
    },
    {
      "cell_type": "markdown",
      "source": [
        "# Part 1"
      ],
      "metadata": {
        "id": "ZjSfgi2BviMU"
      }
    },
    {
      "cell_type": "code",
      "source": [
        "!huggingface-cli login"
      ],
      "metadata": {
        "colab": {
          "base_uri": "https://localhost:8080/"
        },
        "id": "jt79uzgpr9Q0",
        "outputId": "78c2a03d-5f3c-41bb-f78f-711887e77781"
      },
      "execution_count": 35,
      "outputs": [
        {
          "output_type": "stream",
          "name": "stdout",
          "text": [
            "\n",
            "    _|    _|  _|    _|    _|_|_|    _|_|_|  _|_|_|  _|      _|    _|_|_|      _|_|_|_|    _|_|      _|_|_|  _|_|_|_|\n",
            "    _|    _|  _|    _|  _|        _|          _|    _|_|    _|  _|            _|        _|    _|  _|        _|\n",
            "    _|_|_|_|  _|    _|  _|  _|_|  _|  _|_|    _|    _|  _|  _|  _|  _|_|      _|_|_|    _|_|_|_|  _|        _|_|_|\n",
            "    _|    _|  _|    _|  _|    _|  _|    _|    _|    _|    _|_|  _|    _|      _|        _|    _|  _|        _|\n",
            "    _|    _|    _|_|      _|_|_|    _|_|_|  _|_|_|  _|      _|    _|_|_|      _|        _|    _|    _|_|_|  _|_|_|_|\n",
            "\n",
            "    To login, `huggingface_hub` requires a token generated from https://huggingface.co/settings/tokens .\n",
            "Token: \n",
            "Add token as git credential? (Y/n) n\n",
            "Token is valid (permission: write).\n",
            "Your token has been saved to /root/.cache/huggingface/token\n",
            "Login successful\n"
          ]
        }
      ]
    },
    {
      "cell_type": "code",
      "execution_count": 44,
      "metadata": {
        "id": "Vd0OyAiYhzWm"
      },
      "outputs": [],
      "source": [
        "dataset = load_dataset(\"riyabhutada/cybermetric10000\")\n",
        "dataset = dataset.rename_column(\"solution\", \"label\")\n",
        "dataset = dataset[\"train\"]\n",
        "# dataset = dataset[\"train\"].train_test_split(test_size=0.2)\n",
        "#--------------------------------------------------------\n",
        "# dataset_test = dataset[\"test\"]              #test\n",
        "# dataset_train = dataset[\"train\"]\n",
        "\n",
        "# dataset_train = dataset_train.train_test_split(test_size=0.2)\n",
        "# dataset_eval = dataset_train[\"test\"]        #eval\n",
        "# dataset_train = dataset_train[\"train\"]      #train"
      ]
    },
    {
      "cell_type": "code",
      "source": [
        "dataset"
      ],
      "metadata": {
        "colab": {
          "base_uri": "https://localhost:8080/"
        },
        "id": "AK5s1oveAwMH",
        "outputId": "5a215fbc-8787-4ed5-ccc9-abd3283eed01"
      },
      "execution_count": 45,
      "outputs": [
        {
          "output_type": "execute_result",
          "data": {
            "text/plain": [
              "Dataset({\n",
              "    features: ['answers', 'question', 'label'],\n",
              "    num_rows: 10211\n",
              "})"
            ]
          },
          "metadata": {},
          "execution_count": 45
        }
      ]
    },
    {
      "cell_type": "code",
      "source": [
        "# tokenizer3 = AutoTokenizer.from_pretrained(\"FacebookAI/roberta-base\")\n",
        "# model3 = RobertaForMultipleChoice.from_pretrained(\"FacebookAI/roberta-base\")"
      ],
      "metadata": {
        "id": "nZ8tDS83sWc2"
      },
      "execution_count": null,
      "outputs": []
    },
    {
      "cell_type": "markdown",
      "metadata": {
        "id": "k7TmdI0ChzWo"
      },
      "source": [
        "trial start"
      ]
    },
    {
      "cell_type": "code",
      "execution_count": 46,
      "metadata": {
        "colab": {
          "base_uri": "https://localhost:8080/"
        },
        "id": "7SI19UhNhzWq",
        "outputId": "8c939ebb-e57a-4d01-985c-d44991d7669c"
      },
      "outputs": [
        {
          "output_type": "execute_result",
          "data": {
            "text/plain": [
              "Dataset({\n",
              "    features: ['question', 'label', 'A', 'B', 'C', 'D'],\n",
              "    num_rows: 10211\n",
              "})"
            ]
          },
          "metadata": {},
          "execution_count": 46
        }
      ],
      "source": [
        "dataset_num_rows = dataset.num_rows\n",
        "label_names = [\"A\", \"B\", \"C\", \"D\"]\n",
        "dataset_num_rows\n",
        "ans_dataset = dataset[\"answers\"]\n",
        "\n",
        "opt_a = \"A\"\n",
        "optionA = [f\"{ans_dataset[i][opt_a]}\" for i in range(0, dataset_num_rows)]\n",
        "dataset = dataset.add_column(\"A\", optionA)\n",
        "opt_b = \"B\"\n",
        "optionB = [f\"{ans_dataset[i][opt_b]}\" for i in range(0, dataset_num_rows)]\n",
        "dataset = dataset.add_column(\"B\", optionB)\n",
        "opt_c = \"C\"\n",
        "optionC = [f\"{ans_dataset[i][opt_c]}\" for i in range(0, dataset_num_rows)]\n",
        "dataset = dataset.add_column(\"C\", optionC)\n",
        "opt_d = \"D\"\n",
        "optionD = [f\"{ans_dataset[i][opt_d]}\" for i in range(0, dataset_num_rows)]\n",
        "dataset = dataset.add_column(\"D\", optionD)\n",
        "\n",
        "dataset = dataset.remove_columns([\"answers\"])\n",
        "dataset"
      ]
    },
    {
      "cell_type": "code",
      "execution_count": null,
      "metadata": {
        "id": "MMehRokhhzWt"
      },
      "outputs": [],
      "source": [
        "def preprocess_function(examples):\n",
        "    first_sentences_train = [[context] * 4 for context in examples[\"question\"]]\n",
        "    #first_sentences_train = first_sent_train\n",
        "    print(\"\\n### \", len(examples[\"question\"]))\n",
        "    join = \"The correct answer is \"\n",
        "    second_sentences_train = [\n",
        "        [f\"{join} {lname} {examples[lname][i]}\" for lname in label_names] for i in range(0, len(examples[\"question\"]))\n",
        "    ]\n",
        "    #second_sentences_train = second_sent_train\n",
        "    first_sentences_train = sum(first_sentences_train, [])\n",
        "    second_sentences_train = sum(second_sentences_train, [])\n",
        "\n",
        "    tokenized_examples_train = tokenizer(first_sentences_train, second_sentences_train, padding=True, truncation=True)\n",
        "    # tokenized_examples_train = tokenizer(first_sentences_train, second_sentences_train, padding=\"longest\", truncation=True)\n",
        "    return {k: [v[i : i + 4] for i in range(0, len(v), 4)] for k, v in tokenized_examples_train.items()}\n",
        "\n",
        "tokenized_data = dataset.map(preprocess_function, batched=True)"
      ]
    },
    {
      "cell_type": "markdown",
      "metadata": {
        "id": "s5jSLQhYhzWu"
      },
      "source": [
        "Trial ends"
      ]
    },
    {
      "cell_type": "code",
      "execution_count": 49,
      "metadata": {
        "colab": {
          "referenced_widgets": [
            "f0aa0936e2ff4ec7b39f7531c23f3b44",
            "499afcd96c844fe7b38d49da26e2a4bd",
            "9d64ec40f613485a92d4cb32548fa17c",
            "198147a8924a4d5f935d7c139383669e",
            "53d534707c104f2b915886ac86e9864f",
            "fd590248d2a54b54b398c115a32c2c51",
            "6bd96582c10747c8a6e8a8e1eebd1fa3",
            "2dec983063df4dfca1d07474b8cb833f",
            "2305c17111104daf8ec960c75fb4bda8",
            "65e5e4b9ec274fe4bcc4f99da0ba4a0e",
            "3a9cf5815fb44a299181b410aa61478c"
          ],
          "base_uri": "https://localhost:8080/",
          "height": 49
        },
        "id": "OJeo7P5ihzWv",
        "outputId": "57d28432-4d1a-4837-baa0-1c849dd06eed"
      },
      "outputs": [
        {
          "output_type": "display_data",
          "data": {
            "text/plain": [
              "Map:   0%|          | 0/10211 [00:00<?, ? examples/s]"
            ],
            "application/vnd.jupyter.widget-view+json": {
              "version_major": 2,
              "version_minor": 0,
              "model_id": "f0aa0936e2ff4ec7b39f7531c23f3b44"
            }
          },
          "metadata": {}
        }
      ],
      "source": [
        "##Converting A, B, C, D in label column to 0, 1, 2, 3\n",
        "def map_labels(sample):\n",
        "    label = sample[\"label\"]\n",
        "    sample[\"label\"] = 0 if label == \"A\" else 1 if label == \"B\" else 2 if label == \"C\" else 3\n",
        "    return sample\n",
        "\n",
        "tokenized_data = tokenized_data.map(map_labels)"
      ]
    },
    {
      "cell_type": "code",
      "source": [
        "tokenized_data = tokenized_data.train_test_split(test_size=0.2)\n",
        "tokenized_dataset_test = tokenized_data[\"test\"]              #test\n",
        "tokenized_dataset_train = tokenized_data[\"train\"]\n",
        "\n",
        "tokenized_dataset_train = tokenized_dataset_train.train_test_split(test_size=0.2)\n",
        "tokenized_dataset_eval = tokenized_dataset_train[\"test\"]        #eval\n",
        "tokenized_dataset_train = tokenized_dataset_train[\"train\"]      #train\n",
        "\n",
        "print(\"\\ntokenized_dataset_train: \", tokenized_dataset_train)\n",
        "print(\"\\tokenized_dataset_eval: \", tokenized_dataset_eval)\n",
        "print(\"\\tokenized_dataset_test: \", tokenized_dataset_test)"
      ],
      "metadata": {
        "colab": {
          "base_uri": "https://localhost:8080/"
        },
        "id": "i9w7dhalOze2",
        "outputId": "0fbb052f-1477-422b-f1ee-3b9f38faccfc"
      },
      "execution_count": 50,
      "outputs": [
        {
          "output_type": "stream",
          "name": "stdout",
          "text": [
            "\n",
            "tokenized_dataset_train:  Dataset({\n",
            "    features: ['question', 'label', 'A', 'B', 'C', 'D', 'input_ids', 'token_type_ids', 'attention_mask'],\n",
            "    num_rows: 6534\n",
            "})\n",
            "\tokenized_dataset_eval:  Dataset({\n",
            "    features: ['question', 'label', 'A', 'B', 'C', 'D', 'input_ids', 'token_type_ids', 'attention_mask'],\n",
            "    num_rows: 1634\n",
            "})\n",
            "\tokenized_dataset_test:  Dataset({\n",
            "    features: ['question', 'label', 'A', 'B', 'C', 'D', 'input_ids', 'token_type_ids', 'attention_mask'],\n",
            "    num_rows: 2043\n",
            "})\n"
          ]
        }
      ]
    },
    {
      "cell_type": "markdown",
      "source": [
        "# Part 2"
      ],
      "metadata": {
        "id": "SKl7vdwFw_u-"
      }
    },
    {
      "cell_type": "code",
      "source": [
        "def preprocess_function2(examples):\n",
        "    first_sentences_train = [[context] * 4 for context in examples[\"question\"]]\n",
        "    #first_sentences_train = first_sent_train\n",
        "    print(\"\\n### \", len(examples[\"question\"]))\n",
        "    join = \"The correct answer is \"\n",
        "    second_sentences_train = [\n",
        "        [f\"{join} {lname} {examples[lname][i]}\" for lname in label_names] for i in range(0, len(examples[\"question\"]))\n",
        "    ]\n",
        "    #second_sentences_train = second_sent_train\n",
        "    first_sentences_train = sum(first_sentences_train, [])\n",
        "    second_sentences_train = sum(second_sentences_train, [])\n",
        "\n",
        "    tokenized_examples_train = tokenizer2(first_sentences_train, second_sentences_train, padding=True, truncation=True)\n",
        "    # tokenized_examples_train = tokenizer(first_sentences_train, second_sentences_train, padding=\"longest\", truncation=True)\n",
        "    return {k: [v[i : i + 4] for i in range(0, len(v), 4)] for k, v in tokenized_examples_train.items()}\n",
        "\n",
        "tokenized_data2 = dataset.map(preprocess_function2, batched=True)\n",
        "\n",
        "##Converting A, B, C, D in label column to 0, 1, 2, 3\n",
        "def map_labels(sample):\n",
        "    label = sample[\"label\"]\n",
        "    sample[\"label\"] = 0 if label == \"A\" else 1 if label == \"B\" else 2 if label == \"C\" else 3\n",
        "    return sample\n",
        "\n",
        "tokenized_data2 = tokenized_data2.map(map_labels)\n",
        "\n",
        "# Splitting\n",
        "tokenized_data2 = tokenized_data2.train_test_split(test_size=0.2)\n",
        "tokenized_dataset_test2 = tokenized_data2[\"test\"]              #test\n",
        "tokenized_dataset_train2 = tokenized_data2[\"train\"]\n",
        "\n",
        "tokenized_dataset_train2 = tokenized_dataset_train2.train_test_split(test_size=0.2)\n",
        "tokenized_dataset_eval2 = tokenized_dataset_train2[\"test\"]        #eval\n",
        "tokenized_dataset_train2 = tokenized_dataset_train2[\"train\"]      #train"
      ],
      "metadata": {
        "id": "5vXEaAIPxB8P"
      },
      "execution_count": null,
      "outputs": []
    },
    {
      "cell_type": "markdown",
      "source": [
        "# Data Collator"
      ],
      "metadata": {
        "id": "t31npGudw65r"
      }
    },
    {
      "cell_type": "code",
      "execution_count": 81,
      "metadata": {
        "id": "tACXxCCshzWv"
      },
      "outputs": [],
      "source": [
        "from dataclasses import dataclass\n",
        "from transformers.tokenization_utils_base import PreTrainedTokenizerBase, PaddingStrategy\n",
        "from typing import Optional, Union\n",
        "import torch\n",
        "\n",
        "\n",
        "@dataclass\n",
        "class DataCollatorForMultipleChoice:\n",
        "    \"\"\"\n",
        "    Data collator that will dynamically pad the inputs for multiple choice received.\n",
        "    \"\"\"\n",
        "\n",
        "    tokenizer: PreTrainedTokenizerBase\n",
        "    padding: Union[bool, str, PaddingStrategy] = True\n",
        "    max_length: Optional[int] = None\n",
        "    pad_to_multiple_of: Optional[int] = None\n",
        "\n",
        "    def __call__(self, features):\n",
        "        label_name = \"label\" if \"label\" in features[0].keys() else \"labels\"\n",
        "        labels = [feature.pop(label_name) for feature in features]\n",
        "        batch_size = len(features)\n",
        "        num_choices = len(features[0][\"input_ids\"])\n",
        "        flattened_features = [\n",
        "            [{k: v[i] for k, v in feature.items()} for i in range(num_choices)] for feature in features\n",
        "        ]\n",
        "        flattened_features = sum(flattened_features, [])\n",
        "\n",
        "        batch = self.tokenizer.pad(\n",
        "            flattened_features,\n",
        "            padding=self.padding,\n",
        "            max_length=self.max_length,\n",
        "            pad_to_multiple_of=self.pad_to_multiple_of,\n",
        "            return_tensors=\"pt\",\n",
        "        )\n",
        "\n",
        "        batch = {k: v.view(batch_size, num_choices, -1) for k, v in batch.items()}\n",
        "        batch[\"labels\"] = torch.tensor(labels, dtype=torch.int64)\n",
        "        return batch"
      ]
    },
    {
      "cell_type": "markdown",
      "source": [
        "# Evaluation Metrics"
      ],
      "metadata": {
        "id": "vA5p0MCSSa1c"
      }
    },
    {
      "cell_type": "code",
      "execution_count": 53,
      "metadata": {
        "id": "eFgZ1TpbhzWv",
        "colab": {
          "base_uri": "https://localhost:8080/",
          "height": 49,
          "referenced_widgets": [
            "d86cd0f078ba4f8eb8abc4e6fd6dbf15",
            "af9898e33fef4cd0a8533c0b1146208f",
            "d8aea7bc06b64d32b1376d600b7610d1",
            "7c31313b1001483dac5df17d4dfec774",
            "5105aa9136a143648fca9b19bc881f38",
            "d96f548e992c40f8b768ebe5a77d8ff6",
            "08302df6172a46b3a9b7673b559ac87d",
            "804b301b00f244eda4b79641714d2893",
            "b2830d4fed6046619f6ea94971d526a3",
            "95f24ddff3ae42889eda523daa4425d3",
            "82c4e225217d4e7381f192c33efb5691"
          ]
        },
        "outputId": "cc55c01a-93c6-48f6-9996-4a8c3e6daf5f"
      },
      "outputs": [
        {
          "output_type": "display_data",
          "data": {
            "text/plain": [
              "Downloading builder script:   0%|          | 0.00/4.20k [00:00<?, ?B/s]"
            ],
            "application/vnd.jupyter.widget-view+json": {
              "version_major": 2,
              "version_minor": 0,
              "model_id": "d86cd0f078ba4f8eb8abc4e6fd6dbf15"
            }
          },
          "metadata": {}
        }
      ],
      "source": [
        "import evaluate\n",
        "import numpy as np\n",
        "from sklearn.metrics import precision_recall_fscore_support, accuracy_score, log_loss\n",
        "import torch\n",
        "accuracy = evaluate.load(\"accuracy\")\n",
        "\n",
        "\n",
        "def compute_metrics(pred):\n",
        "    labels = pred.label_ids\n",
        "    preds = pred.predictions.argmax(-1)\n",
        "    precision, recall, f1, _ = precision_recall_fscore_support(labels, preds, average='macro')\n",
        "    acc = accuracy_score(labels, preds)\n",
        "    return {\n",
        "        'recordsSize@ ': len(labels),\n",
        "        'accuracy@ ': acc,\n",
        "        'f1@ ': f1,\n",
        "        'precision@ ': precision,\n",
        "        'recall@ ': recall,\n",
        "    }\n"
      ]
    },
    {
      "cell_type": "markdown",
      "source": [
        "# Training"
      ],
      "metadata": {
        "id": "UwVhUeJOSlWQ"
      }
    },
    {
      "cell_type": "code",
      "source": [
        "import torch\n",
        "torch.cuda.empty_cache()"
      ],
      "metadata": {
        "id": "7gmx6U03UB21"
      },
      "execution_count": 59,
      "outputs": []
    },
    {
      "cell_type": "code",
      "source": [
        "from transformers import BertForMultipleChoice, TrainingArguments, Trainer\n",
        "\n",
        "# model = BertForMultipleChoice.from_pretrained(\"google-bert/bert-base-uncased\")\n",
        "training_args = TrainingArguments(\n",
        "    output_dir=\"my_cybermetric_model_10000_bert4\",\n",
        "    evaluation_strategy=\"epoch\",\n",
        "    save_strategy=\"epoch\",\n",
        "    load_best_model_at_end=True,\n",
        "    #learning_rate=5e-5,\n",
        "    per_device_train_batch_size=16,\n",
        "    per_device_eval_batch_size=16,\n",
        "    num_train_epochs=11,\n",
        "    # weight_decay=0.01,\n",
        "    # push_to_hub=True,\n",
        ")\n",
        "\n",
        "trainer = Trainer(\n",
        "    model=model,\n",
        "    args=training_args,\n",
        "    train_dataset=tokenized_dataset_train,\n",
        "    eval_dataset=tokenized_dataset_eval,\n",
        "    tokenizer=tokenizer,\n",
        "    data_collator=DataCollatorForMultipleChoice(tokenizer=tokenizer),\n",
        "    compute_metrics=compute_metrics,\n",
        ")\n",
        "\n",
        "trainer.train()"
      ],
      "metadata": {
        "colab": {
          "base_uri": "https://localhost:8080/",
          "height": 544
        },
        "id": "yGEcRgzTtIyA",
        "outputId": "73f4c541-3162-4054-8842-1db6bbf75440"
      },
      "execution_count": 60,
      "outputs": [
        {
          "output_type": "stream",
          "name": "stderr",
          "text": [
            "/usr/local/lib/python3.10/dist-packages/transformers/optimization.py:411: FutureWarning: This implementation of AdamW is deprecated and will be removed in a future version. Use the PyTorch implementation torch.optim.AdamW instead, or set `no_deprecation_warning=True` to disable this warning\n",
            "  warnings.warn(\n"
          ]
        },
        {
          "output_type": "display_data",
          "data": {
            "text/plain": [
              "<IPython.core.display.HTML object>"
            ],
            "text/html": [
              "\n",
              "    <div>\n",
              "      \n",
              "      <progress value='4499' max='4499' style='width:300px; height:20px; vertical-align: middle;'></progress>\n",
              "      [4499/4499 41:49, Epoch 11/11]\n",
              "    </div>\n",
              "    <table border=\"1\" class=\"dataframe\">\n",
              "  <thead>\n",
              " <tr style=\"text-align: left;\">\n",
              "      <th>Epoch</th>\n",
              "      <th>Training Loss</th>\n",
              "      <th>Validation Loss</th>\n",
              "      <th>Recordssize@ </th>\n",
              "      <th>Accuracy@ </th>\n",
              "      <th>F1@ </th>\n",
              "      <th>Precision@ </th>\n",
              "      <th>Recall@ </th>\n",
              "    </tr>\n",
              "  </thead>\n",
              "  <tbody>\n",
              "    <tr>\n",
              "      <td>1</td>\n",
              "      <td>No log</td>\n",
              "      <td>1.268229</td>\n",
              "      <td>1634</td>\n",
              "      <td>0.406365</td>\n",
              "      <td>0.406300</td>\n",
              "      <td>0.408121</td>\n",
              "      <td>0.407363</td>\n",
              "    </tr>\n",
              "    <tr>\n",
              "      <td>2</td>\n",
              "      <td>1.331200</td>\n",
              "      <td>1.173639</td>\n",
              "      <td>1634</td>\n",
              "      <td>0.476744</td>\n",
              "      <td>0.474688</td>\n",
              "      <td>0.477932</td>\n",
              "      <td>0.474873</td>\n",
              "    </tr>\n",
              "    <tr>\n",
              "      <td>3</td>\n",
              "      <td>1.124700</td>\n",
              "      <td>1.295304</td>\n",
              "      <td>1634</td>\n",
              "      <td>0.479804</td>\n",
              "      <td>0.478474</td>\n",
              "      <td>0.479131</td>\n",
              "      <td>0.478652</td>\n",
              "    </tr>\n",
              "    <tr>\n",
              "      <td>4</td>\n",
              "      <td>0.785100</td>\n",
              "      <td>1.554543</td>\n",
              "      <td>1634</td>\n",
              "      <td>0.491432</td>\n",
              "      <td>0.490168</td>\n",
              "      <td>0.490242</td>\n",
              "      <td>0.490129</td>\n",
              "    </tr>\n",
              "    <tr>\n",
              "      <td>5</td>\n",
              "      <td>0.456100</td>\n",
              "      <td>1.985097</td>\n",
              "      <td>1634</td>\n",
              "      <td>0.484700</td>\n",
              "      <td>0.483785</td>\n",
              "      <td>0.483688</td>\n",
              "      <td>0.484052</td>\n",
              "    </tr>\n",
              "    <tr>\n",
              "      <td>6</td>\n",
              "      <td>0.456100</td>\n",
              "      <td>2.470195</td>\n",
              "      <td>1634</td>\n",
              "      <td>0.495716</td>\n",
              "      <td>0.493507</td>\n",
              "      <td>0.494151</td>\n",
              "      <td>0.494204</td>\n",
              "    </tr>\n",
              "    <tr>\n",
              "      <td>7</td>\n",
              "      <td>0.240300</td>\n",
              "      <td>2.722075</td>\n",
              "      <td>1634</td>\n",
              "      <td>0.492044</td>\n",
              "      <td>0.490628</td>\n",
              "      <td>0.490811</td>\n",
              "      <td>0.490648</td>\n",
              "    </tr>\n",
              "    <tr>\n",
              "      <td>8</td>\n",
              "      <td>0.142600</td>\n",
              "      <td>3.420714</td>\n",
              "      <td>1634</td>\n",
              "      <td>0.490820</td>\n",
              "      <td>0.489979</td>\n",
              "      <td>0.490304</td>\n",
              "      <td>0.490147</td>\n",
              "    </tr>\n",
              "    <tr>\n",
              "      <td>9</td>\n",
              "      <td>0.073400</td>\n",
              "      <td>3.626632</td>\n",
              "      <td>1634</td>\n",
              "      <td>0.492656</td>\n",
              "      <td>0.492162</td>\n",
              "      <td>0.492359</td>\n",
              "      <td>0.492445</td>\n",
              "    </tr>\n",
              "    <tr>\n",
              "      <td>10</td>\n",
              "      <td>0.054800</td>\n",
              "      <td>3.743582</td>\n",
              "      <td>1634</td>\n",
              "      <td>0.496328</td>\n",
              "      <td>0.495403</td>\n",
              "      <td>0.495437</td>\n",
              "      <td>0.495558</td>\n",
              "    </tr>\n",
              "    <tr>\n",
              "      <td>11</td>\n",
              "      <td>0.054800</td>\n",
              "      <td>3.770272</td>\n",
              "      <td>1634</td>\n",
              "      <td>0.489596</td>\n",
              "      <td>0.488461</td>\n",
              "      <td>0.488606</td>\n",
              "      <td>0.488645</td>\n",
              "    </tr>\n",
              "  </tbody>\n",
              "</table><p>"
            ]
          },
          "metadata": {}
        },
        {
          "output_type": "execute_result",
          "data": {
            "text/plain": [
              "TrainOutput(global_step=4499, training_loss=0.471554546097592, metrics={'train_runtime': 2510.428, 'train_samples_per_second': 28.63, 'train_steps_per_second': 1.792, 'total_flos': 2.270919495619915e+16, 'train_loss': 0.471554546097592, 'epoch': 11.0})"
            ]
          },
          "metadata": {},
          "execution_count": 60
        }
      ]
    },
    {
      "cell_type": "code",
      "source": [
        "logs = trainer.state.log_history"
      ],
      "metadata": {
        "id": "7dOgDHaDfP3y"
      },
      "execution_count": 61,
      "outputs": []
    },
    {
      "cell_type": "code",
      "source": [
        "logs"
      ],
      "metadata": {
        "colab": {
          "base_uri": "https://localhost:8080/"
        },
        "id": "bmqewgcdflbe",
        "outputId": "b946dabd-bf8f-4c02-f955-8f873c7d8814"
      },
      "execution_count": 62,
      "outputs": [
        {
          "output_type": "execute_result",
          "data": {
            "text/plain": [
              "[{'eval_loss': 1.2682292461395264,\n",
              "  'eval_recordsSize@ ': 1634,\n",
              "  'eval_accuracy@ ': 0.40636474908200737,\n",
              "  'eval_f1@ ': 0.4062997890144288,\n",
              "  'eval_precision@ ': 0.40812149545722076,\n",
              "  'eval_recall@ ': 0.40736286263482135,\n",
              "  'eval_runtime': 17.5623,\n",
              "  'eval_samples_per_second': 93.04,\n",
              "  'eval_steps_per_second': 5.865,\n",
              "  'epoch': 1.0,\n",
              "  'step': 409},\n",
              " {'loss': 1.3312,\n",
              "  'learning_rate': 4.4443209602133814e-05,\n",
              "  'epoch': 1.22,\n",
              "  'step': 500},\n",
              " {'eval_loss': 1.1736388206481934,\n",
              "  'eval_recordsSize@ ': 1634,\n",
              "  'eval_accuracy@ ': 0.47674418604651164,\n",
              "  'eval_f1@ ': 0.47468753740060865,\n",
              "  'eval_precision@ ': 0.4779315612449067,\n",
              "  'eval_recall@ ': 0.4748731617072456,\n",
              "  'eval_runtime': 17.4835,\n",
              "  'eval_samples_per_second': 93.46,\n",
              "  'eval_steps_per_second': 5.891,\n",
              "  'epoch': 2.0,\n",
              "  'step': 818},\n",
              " {'loss': 1.1247,\n",
              "  'learning_rate': 3.888641920426761e-05,\n",
              "  'epoch': 2.44,\n",
              "  'step': 1000},\n",
              " {'eval_loss': 1.2953040599822998,\n",
              "  'eval_recordsSize@ ': 1634,\n",
              "  'eval_accuracy@ ': 0.47980416156670747,\n",
              "  'eval_f1@ ': 0.4784744838137768,\n",
              "  'eval_precision@ ': 0.4791310859933353,\n",
              "  'eval_recall@ ': 0.4786518879735325,\n",
              "  'eval_runtime': 17.5853,\n",
              "  'eval_samples_per_second': 92.918,\n",
              "  'eval_steps_per_second': 5.857,\n",
              "  'epoch': 3.0,\n",
              "  'step': 1227},\n",
              " {'loss': 0.7851,\n",
              "  'learning_rate': 3.3329628806401424e-05,\n",
              "  'epoch': 3.67,\n",
              "  'step': 1500},\n",
              " {'eval_loss': 1.5545434951782227,\n",
              "  'eval_recordsSize@ ': 1634,\n",
              "  'eval_accuracy@ ': 0.49143206854345167,\n",
              "  'eval_f1@ ': 0.4901682822941333,\n",
              "  'eval_precision@ ': 0.4902422600380995,\n",
              "  'eval_recall@ ': 0.4901287263514494,\n",
              "  'eval_runtime': 17.8268,\n",
              "  'eval_samples_per_second': 91.66,\n",
              "  'eval_steps_per_second': 5.778,\n",
              "  'epoch': 4.0,\n",
              "  'step': 1636},\n",
              " {'loss': 0.4561,\n",
              "  'learning_rate': 2.777283840853523e-05,\n",
              "  'epoch': 4.89,\n",
              "  'step': 2000},\n",
              " {'eval_loss': 1.9850974082946777,\n",
              "  'eval_recordsSize@ ': 1634,\n",
              "  'eval_accuracy@ ': 0.4847001223990208,\n",
              "  'eval_f1@ ': 0.48378493720666194,\n",
              "  'eval_precision@ ': 0.483688388792193,\n",
              "  'eval_recall@ ': 0.48405192574927963,\n",
              "  'eval_runtime': 17.9066,\n",
              "  'eval_samples_per_second': 91.251,\n",
              "  'eval_steps_per_second': 5.752,\n",
              "  'epoch': 5.0,\n",
              "  'step': 2045},\n",
              " {'eval_loss': 2.4701948165893555,\n",
              "  'eval_recordsSize@ ': 1634,\n",
              "  'eval_accuracy@ ': 0.49571603427172584,\n",
              "  'eval_f1@ ': 0.49350737999262917,\n",
              "  'eval_precision@ ': 0.4941505533275716,\n",
              "  'eval_recall@ ': 0.49420377069977556,\n",
              "  'eval_runtime': 17.5206,\n",
              "  'eval_samples_per_second': 93.262,\n",
              "  'eval_steps_per_second': 5.879,\n",
              "  'epoch': 6.0,\n",
              "  'step': 2454},\n",
              " {'loss': 0.2403,\n",
              "  'learning_rate': 2.2216048010669037e-05,\n",
              "  'epoch': 6.11,\n",
              "  'step': 2500},\n",
              " {'eval_loss': 2.7220747470855713,\n",
              "  'eval_recordsSize@ ': 1634,\n",
              "  'eval_accuracy@ ': 0.4920440636474908,\n",
              "  'eval_f1@ ': 0.49062836740383853,\n",
              "  'eval_precision@ ': 0.49081112745324096,\n",
              "  'eval_recall@ ': 0.4906477530074933,\n",
              "  'eval_runtime': 17.6024,\n",
              "  'eval_samples_per_second': 92.828,\n",
              "  'eval_steps_per_second': 5.851,\n",
              "  'epoch': 7.0,\n",
              "  'step': 2863},\n",
              " {'loss': 0.1426,\n",
              "  'learning_rate': 1.6659257612802846e-05,\n",
              "  'epoch': 7.33,\n",
              "  'step': 3000},\n",
              " {'eval_loss': 3.4207136631011963,\n",
              "  'eval_recordsSize@ ': 1634,\n",
              "  'eval_accuracy@ ': 0.4908200734394125,\n",
              "  'eval_f1@ ': 0.4899791151321139,\n",
              "  'eval_precision@ ': 0.49030380775799565,\n",
              "  'eval_recall@ ': 0.490146899841857,\n",
              "  'eval_runtime': 18.2677,\n",
              "  'eval_samples_per_second': 89.447,\n",
              "  'eval_steps_per_second': 5.638,\n",
              "  'epoch': 8.0,\n",
              "  'step': 3272},\n",
              " {'loss': 0.0734,\n",
              "  'learning_rate': 1.1102467214936652e-05,\n",
              "  'epoch': 8.56,\n",
              "  'step': 3500},\n",
              " {'eval_loss': 3.62663197517395,\n",
              "  'eval_recordsSize@ ': 1634,\n",
              "  'eval_accuracy@ ': 0.49265605875153,\n",
              "  'eval_f1@ ': 0.4921619284618217,\n",
              "  'eval_precision@ ': 0.49235896125347467,\n",
              "  'eval_recall@ ': 0.49244493432894454,\n",
              "  'eval_runtime': 17.6893,\n",
              "  'eval_samples_per_second': 92.372,\n",
              "  'eval_steps_per_second': 5.823,\n",
              "  'epoch': 9.0,\n",
              "  'step': 3681},\n",
              " {'loss': 0.0548,\n",
              "  'learning_rate': 5.545676817070461e-06,\n",
              "  'epoch': 9.78,\n",
              "  'step': 4000},\n",
              " {'eval_loss': 3.743581771850586,\n",
              "  'eval_recordsSize@ ': 1634,\n",
              "  'eval_accuracy@ ': 0.496328029375765,\n",
              "  'eval_f1@ ': 0.4954026619691205,\n",
              "  'eval_precision@ ': 0.4954365081030911,\n",
              "  'eval_recall@ ': 0.49555762734159436,\n",
              "  'eval_runtime': 17.673,\n",
              "  'eval_samples_per_second': 92.457,\n",
              "  'eval_steps_per_second': 5.828,\n",
              "  'epoch': 10.0,\n",
              "  'step': 4090},\n",
              " {'eval_loss': 3.7702717781066895,\n",
              "  'eval_recordsSize@ ': 1634,\n",
              "  'eval_accuracy@ ': 0.48959608323133413,\n",
              "  'eval_f1@ ': 0.48846144995835206,\n",
              "  'eval_precision@ ': 0.4886062229067063,\n",
              "  'eval_recall@ ': 0.48864505241852374,\n",
              "  'eval_runtime': 17.7384,\n",
              "  'eval_samples_per_second': 92.117,\n",
              "  'eval_steps_per_second': 5.807,\n",
              "  'epoch': 11.0,\n",
              "  'step': 4499},\n",
              " {'train_runtime': 2510.428,\n",
              "  'train_samples_per_second': 28.63,\n",
              "  'train_steps_per_second': 1.792,\n",
              "  'total_flos': 2.270919495619915e+16,\n",
              "  'train_loss': 0.471554546097592,\n",
              "  'epoch': 11.0,\n",
              "  'step': 4499}]"
            ]
          },
          "metadata": {},
          "execution_count": 62
        }
      ]
    },
    {
      "cell_type": "code",
      "source": [
        "evaluate_output = trainer.evaluate()"
      ],
      "metadata": {
        "colab": {
          "base_uri": "https://localhost:8080/",
          "height": 37
        },
        "id": "c1md6VwwnaFd",
        "outputId": "feea68c2-bddb-4d72-87c1-b9f32703b6fe"
      },
      "execution_count": 72,
      "outputs": [
        {
          "output_type": "display_data",
          "data": {
            "text/plain": [
              "<IPython.core.display.HTML object>"
            ],
            "text/html": [
              "\n",
              "    <div>\n",
              "      \n",
              "      <progress value='103' max='103' style='width:300px; height:20px; vertical-align: middle;'></progress>\n",
              "      [103/103 00:19]\n",
              "    </div>\n",
              "    "
            ]
          },
          "metadata": {}
        }
      ]
    },
    {
      "cell_type": "code",
      "source": [
        "evaluate_output"
      ],
      "metadata": {
        "colab": {
          "base_uri": "https://localhost:8080/"
        },
        "id": "mPB3QUORntE3",
        "outputId": "f7a067e6-a24e-464e-998b-da980b8e0807"
      },
      "execution_count": 73,
      "outputs": [
        {
          "output_type": "execute_result",
          "data": {
            "text/plain": [
              "{'eval_loss': 1.1736388206481934,\n",
              " 'eval_recordsSize@ ': 1634,\n",
              " 'eval_accuracy@ ': 0.47674418604651164,\n",
              " 'eval_f1@ ': 0.47468753740060865,\n",
              " 'eval_precision@ ': 0.4779315612449067,\n",
              " 'eval_recall@ ': 0.4748731617072456,\n",
              " 'eval_runtime': 19.5944,\n",
              " 'eval_samples_per_second': 83.391,\n",
              " 'eval_steps_per_second': 5.257,\n",
              " 'epoch': 11.0}"
            ]
          },
          "metadata": {},
          "execution_count": 73
        }
      ]
    },
    {
      "cell_type": "code",
      "source": [
        "# from transformers import AutoTokenizer, AutoModelForCausalLM\n",
        "\n",
        "# tokenizer2 = AutoTokenizer.from_pretrained(\"mistralai/Mistral-7B-Instruct-v0.2\")\n",
        "# model2 = AutoModelForCausalLM.from_pretrained(\"mistralai/Mistral-7B-Instruct-v0.2\")"
      ],
      "metadata": {
        "id": "ndXGSiB0ZyKU"
      },
      "execution_count": null,
      "outputs": []
    },
    {
      "cell_type": "markdown",
      "source": [
        "# Visualization"
      ],
      "metadata": {
        "id": "7ffaf6rwnTf7"
      }
    },
    {
      "cell_type": "code",
      "source": [
        "import matplotlib.pyplot as plt\n",
        "\n",
        "# Extract data\n",
        "epochs = [entry['epoch'] for entry in logs if 'eval_loss' in entry]\n",
        "train_loss = [entry['loss'] for entry in logs if 'learning_rate' in entry]\n",
        "eval_loss = [entry['eval_loss'] for entry in logs if 'eval_loss' in entry]\n",
        "eval_accuracy = [entry['eval_accuracy@ '] for entry in logs if 'eval_accuracy@ ' in entry]\n",
        "\n",
        "for i in range(0, len(eval_loss) - len(train_loss)):\n",
        "    train_loss.append(train_loss[-1])\n",
        "print(\"Train loss size: \", train_loss)\n",
        "print(\"Eval loss size: \", len(eval_loss))\n",
        "# Plotting\n",
        "plt.figure(figsize=(10, 6))\n",
        "\n",
        "# Plot evaluation loss\n",
        "plt.plot(epochs, eval_loss, label='Evaluation Loss', marker='o')\n",
        "\n",
        "# Plot train loss\n",
        "plt.plot(epochs, train_loss, label='Train Loss', marker='o')\n",
        "\n",
        "# Plot evaluation accuracy\n",
        "plt.plot(epochs, eval_accuracy, label='Evaluation Accuracy', marker='o')\n",
        "\n",
        "# Add labels and title\n",
        "plt.xlabel('Epoch')\n",
        "plt.ylabel('Loss / Accuracy')\n",
        "plt.title('Training and Evaluation Metrics')\n",
        "plt.legend()\n",
        "\n",
        "# Display the plot\n",
        "plt.grid(True)\n",
        "plt.show()\n"
      ],
      "metadata": {
        "colab": {
          "base_uri": "https://localhost:8080/",
          "height": 619
        },
        "id": "hntqzl2_hRyW",
        "outputId": "b33579d5-d057-4007-8954-a961aaf3262c"
      },
      "execution_count": 71,
      "outputs": [
        {
          "output_type": "stream",
          "name": "stdout",
          "text": [
            "Train loss size:  [1.3312, 1.1247, 0.7851, 0.4561, 0.2403, 0.1426, 0.0734, 0.0548, 0.0548, 0.0548, 0.0548]\n",
            "Eval loss size:  11\n"
          ]
        },
        {
          "output_type": "display_data",
          "data": {
            "text/plain": [
              "<Figure size 1000x600 with 1 Axes>"
            ],
            "image/png": "[encoded data removed]"
          },
          "metadata": {}
        }
      ]
    },
    {
      "cell_type": "markdown",
      "source": [
        "# Trainer 2"
      ],
      "metadata": {
        "id": "SJJgZ42q0Ccs"
      }
    },
    {
      "cell_type": "code",
      "source": [
        "# model = BertForMultipleChoice.from_pretrained(\"google-bert/bert-base-uncased\")\n",
        "training_args2 = TrainingArguments(\n",
        "    output_dir=\"my_cybermetric_model_10000_bert5\",\n",
        "    evaluation_strategy=\"epoch\",\n",
        "    save_strategy=\"epoch\",\n",
        "    load_best_model_at_end=True,\n",
        "    #learning_rate=5e-5,\n",
        "    per_device_train_batch_size=16,\n",
        "    per_device_eval_batch_size=16,\n",
        "    num_train_epochs=11,\n",
        "    # weight_decay=0.01,\n",
        "    # push_to_hub=True,\n",
        ")\n",
        "\n",
        "trainer3 = Trainer(\n",
        "    model=model2,\n",
        "    args=training_args2,\n",
        "    train_dataset=tokenized_dataset_train2,\n",
        "    eval_dataset=tokenized_dataset_eval2,\n",
        "    tokenizer=tokenizer2,\n",
        "    data_collator=DataCollatorForMultipleChoice(tokenizer=tokenizer2),\n",
        "    compute_metrics=compute_metrics,\n",
        ")\n",
        "\n",
        "trainer3.train()"
      ],
      "metadata": {
        "colab": {
          "base_uri": "https://localhost:8080/",
          "height": 562
        },
        "id": "naCXVbXTySYS",
        "outputId": "d06cf1b4-adf6-4b19-c22f-a60b9657a5e6"
      },
      "execution_count": 82,
      "outputs": [
        {
          "output_type": "stream",
          "name": "stderr",
          "text": [
            "/usr/local/lib/python3.10/dist-packages/transformers/optimization.py:411: FutureWarning: This implementation of AdamW is deprecated and will be removed in a future version. Use the PyTorch implementation torch.optim.AdamW instead, or set `no_deprecation_warning=True` to disable this warning\n",
            "  warnings.warn(\n",
            "You're using a BertTokenizerFast tokenizer. Please note that with a fast tokenizer, using the `__call__` method is faster than using a method to encode the text followed by a call to the `pad` method to get a padded encoding.\n"
          ]
        },
        {
          "output_type": "display_data",
          "data": {
            "text/plain": [
              "<IPython.core.display.HTML object>"
            ],
            "text/html": [
              "\n",
              "    <div>\n",
              "      \n",
              "      <progress value='4499' max='4499' style='width:300px; height:20px; vertical-align: middle;'></progress>\n",
              "      [4499/4499 38:48, Epoch 11/11]\n",
              "    </div>\n",
              "    <table border=\"1\" class=\"dataframe\">\n",
              "  <thead>\n",
              " <tr style=\"text-align: left;\">\n",
              "      <th>Epoch</th>\n",
              "      <th>Training Loss</th>\n",
              "      <th>Validation Loss</th>\n",
              "      <th>Recordssize@ </th>\n",
              "      <th>Accuracy@ </th>\n",
              "      <th>F1@ </th>\n",
              "      <th>Precision@ </th>\n",
              "      <th>Recall@ </th>\n",
              "    </tr>\n",
              "  </thead>\n",
              "  <tbody>\n",
              "    <tr>\n",
              "      <td>1</td>\n",
              "      <td>No log</td>\n",
              "      <td>1.386294</td>\n",
              "      <td>1634</td>\n",
              "      <td>0.320685</td>\n",
              "      <td>0.298521</td>\n",
              "      <td>0.336203</td>\n",
              "      <td>0.318200</td>\n",
              "    </tr>\n",
              "    <tr>\n",
              "      <td>2</td>\n",
              "      <td>1.391000</td>\n",
              "      <td>1.386294</td>\n",
              "      <td>1634</td>\n",
              "      <td>0.323133</td>\n",
              "      <td>0.306110</td>\n",
              "      <td>0.337342</td>\n",
              "      <td>0.321082</td>\n",
              "    </tr>\n",
              "    <tr>\n",
              "      <td>3</td>\n",
              "      <td>1.388400</td>\n",
              "      <td>1.386294</td>\n",
              "      <td>1634</td>\n",
              "      <td>0.336597</td>\n",
              "      <td>0.319826</td>\n",
              "      <td>0.356327</td>\n",
              "      <td>0.335007</td>\n",
              "    </tr>\n",
              "    <tr>\n",
              "      <td>4</td>\n",
              "      <td>1.388000</td>\n",
              "      <td>1.386294</td>\n",
              "      <td>1634</td>\n",
              "      <td>0.331089</td>\n",
              "      <td>0.311673</td>\n",
              "      <td>0.351081</td>\n",
              "      <td>0.328149</td>\n",
              "    </tr>\n",
              "    <tr>\n",
              "      <td>5</td>\n",
              "      <td>1.387400</td>\n",
              "      <td>1.386293</td>\n",
              "      <td>1634</td>\n",
              "      <td>0.340269</td>\n",
              "      <td>0.321165</td>\n",
              "      <td>0.362047</td>\n",
              "      <td>0.337105</td>\n",
              "    </tr>\n",
              "    <tr>\n",
              "      <td>6</td>\n",
              "      <td>1.387400</td>\n",
              "      <td>1.386292</td>\n",
              "      <td>1634</td>\n",
              "      <td>0.348225</td>\n",
              "      <td>0.327530</td>\n",
              "      <td>0.378334</td>\n",
              "      <td>0.344398</td>\n",
              "    </tr>\n",
              "    <tr>\n",
              "      <td>7</td>\n",
              "      <td>1.388900</td>\n",
              "      <td>1.386281</td>\n",
              "      <td>1634</td>\n",
              "      <td>0.361077</td>\n",
              "      <td>0.337267</td>\n",
              "      <td>0.395076</td>\n",
              "      <td>0.355988</td>\n",
              "    </tr>\n",
              "    <tr>\n",
              "      <td>8</td>\n",
              "      <td>1.386800</td>\n",
              "      <td>1.340362</td>\n",
              "      <td>1634</td>\n",
              "      <td>0.367197</td>\n",
              "      <td>0.364316</td>\n",
              "      <td>0.371711</td>\n",
              "      <td>0.366229</td>\n",
              "    </tr>\n",
              "    <tr>\n",
              "      <td>9</td>\n",
              "      <td>1.361700</td>\n",
              "      <td>1.301288</td>\n",
              "      <td>1634</td>\n",
              "      <td>0.378825</td>\n",
              "      <td>0.377566</td>\n",
              "      <td>0.389953</td>\n",
              "      <td>0.377908</td>\n",
              "    </tr>\n",
              "    <tr>\n",
              "      <td>10</td>\n",
              "      <td>1.283500</td>\n",
              "      <td>1.276204</td>\n",
              "      <td>1634</td>\n",
              "      <td>0.406365</td>\n",
              "      <td>0.405738</td>\n",
              "      <td>0.406443</td>\n",
              "      <td>0.405868</td>\n",
              "    </tr>\n",
              "    <tr>\n",
              "      <td>11</td>\n",
              "      <td>1.283500</td>\n",
              "      <td>1.275654</td>\n",
              "      <td>1634</td>\n",
              "      <td>0.412485</td>\n",
              "      <td>0.411728</td>\n",
              "      <td>0.413986</td>\n",
              "      <td>0.411701</td>\n",
              "    </tr>\n",
              "  </tbody>\n",
              "</table><p>"
            ]
          },
          "metadata": {}
        },
        {
          "output_type": "execute_result",
          "data": {
            "text/plain": [
              "TrainOutput(global_step=4499, training_loss=1.354125623836547, metrics={'train_runtime': 2329.1827, 'train_samples_per_second': 30.858, 'train_steps_per_second': 1.932, 'total_flos': 2.0109985288864464e+16, 'train_loss': 1.354125623836547, 'epoch': 11.0})"
            ]
          },
          "metadata": {},
          "execution_count": 82
        }
      ]
    },
    {
      "cell_type": "code",
      "source": [
        "logs3 = trainer3.state.log_history"
      ],
      "metadata": {
        "colab": {
          "base_uri": "https://localhost:8080/",
          "height": 141
        },
        "id": "1Am4FdVyAhjH",
        "outputId": "4dcb673c-4324-44c0-e608-56aea49a9afe"
      },
      "execution_count": 85,
      "outputs": [
        {
          "output_type": "error",
          "ename": "NameError",
          "evalue": "name 'trainer3' is not defined",
          "traceback": [
            "\u001b[0;31m---------------------------------------------------------------------------\u001b[0m",
            "\u001b[0;31mNameError\u001b[0m                                 Traceback (most recent call last)",
            "\u001b[0;32m<ipython-input-85-7321a8e5d08b>\u001b[0m in \u001b[0;36m<cell line: 1>\u001b[0;34m()\u001b[0m\n\u001b[0;32m----> 1\u001b[0;31m \u001b[0mlogs3\u001b[0m \u001b[0;34m=\u001b[0m \u001b[0mtrainer3\u001b[0m\u001b[0;34m.\u001b[0m\u001b[0mstate\u001b[0m\u001b[0;34m.\u001b[0m\u001b[0mlog_history\u001b[0m\u001b[0;34m\u001b[0m\u001b[0;34m\u001b[0m\u001b[0m\n\u001b[0m",
            "\u001b[0;31mNameError\u001b[0m: name 'trainer3' is not defined"
          ]
        }
      ]
    },
    {
      "cell_type": "code",
      "source": [
        "import torch\n",
        "torch.cuda.empty_cache()"
      ],
      "metadata": {
        "id": "pgPtlXNtARx5"
      },
      "execution_count": 86,
      "outputs": []
    },
    {
      "cell_type": "code",
      "source": [
        "# model = BertForMultipleChoice.from_pretrained(\"google-bert/bert-base-uncased\")\n",
        "training_args2 = TrainingArguments(\n",
        "    output_dir=\"my_cybermetric_model_10000_bert6\",\n",
        "    evaluation_strategy=\"epoch\",\n",
        "    save_strategy=\"epoch\",\n",
        "    load_best_model_at_end=True,\n",
        "    learning_rate=5.5456e-06,\n",
        "    per_device_train_batch_size=64,\n",
        "    per_device_eval_batch_size=32,\n",
        "    num_train_epochs=25,\n",
        "    # weight_decay=0.01,\n",
        "    # push_to_hub=True,\n",
        ")\n",
        "\n",
        "trainer4 = Trainer(\n",
        "    model=model2,\n",
        "    args=training_args2,\n",
        "    train_dataset=tokenized_dataset_train2,\n",
        "    eval_dataset=tokenized_dataset_eval2,\n",
        "    tokenizer=tokenizer2,\n",
        "    data_collator=DataCollatorForMultipleChoice(tokenizer=tokenizer2),\n",
        "    compute_metrics=compute_metrics,\n",
        ")\n",
        "\n",
        "trainer4.train()"
      ],
      "metadata": {
        "colab": {
          "base_uri": "https://localhost:8080/",
          "height": 532
        },
        "id": "Qu8RTRue9bRt",
        "outputId": "ce73f600-4313-4e6c-fcaa-c1e6e10c3c11"
      },
      "execution_count": 87,
      "outputs": [
        {
          "output_type": "stream",
          "name": "stderr",
          "text": [
            "/usr/local/lib/python3.10/dist-packages/transformers/optimization.py:411: FutureWarning: This implementation of AdamW is deprecated and will be removed in a future version. Use the PyTorch implementation torch.optim.AdamW instead, or set `no_deprecation_warning=True` to disable this warning\n",
            "  warnings.warn(\n"
          ]
        },
        {
          "output_type": "error",
          "ename": "OutOfMemoryError",
          "evalue": "CUDA out of memory. Tried to allocate 104.00 MiB. GPU 0 has a total capacity of 15.77 GiB of which 12.38 MiB is free. Process 9458 has 15.76 GiB memory in use. Of the allocated memory 15.06 GiB is allocated by PyTorch, and 330.83 MiB is reserved by PyTorch but unallocated. If reserved but unallocated memory is large try setting PYTORCH_CUDA_ALLOC_CONF=expandable_segments:True to avoid fragmentation.  See documentation for Memory Management  (https://pytorch.org/docs/stable/notes/cuda.html#environment-variables)",
          "traceback": [
            "\u001b[0;31m---------------------------------------------------------------------------\u001b[0m",
            "\u001b[0;31mOutOfMemoryError\u001b[0m                          Traceback (most recent call last)",
            "\u001b[0;32m<ipython-input-87-b143fd16d7a4>\u001b[0m in \u001b[0;36m<cell line: 25>\u001b[0;34m()\u001b[0m\n\u001b[1;32m     23\u001b[0m )\n\u001b[1;32m     24\u001b[0m \u001b[0;34m\u001b[0m\u001b[0m\n\u001b[0;32m---> 25\u001b[0;31m \u001b[0mtrainer4\u001b[0m\u001b[0;34m.\u001b[0m\u001b[0mtrain\u001b[0m\u001b[0;34m(\u001b[0m\u001b[0;34m)\u001b[0m\u001b[0;34m\u001b[0m\u001b[0;34m\u001b[0m\u001b[0m\n\u001b[0m",
            "\u001b[0;32m/usr/local/lib/python3.10/dist-packages/transformers/trainer.py\u001b[0m in \u001b[0;36mtrain\u001b[0;34m(self, resume_from_checkpoint, trial, ignore_keys_for_eval, **kwargs)\u001b[0m\n\u001b[1;32m   1643\u001b[0m             \u001b[0mself\u001b[0m\u001b[0;34m.\u001b[0m\u001b[0m_inner_training_loop\u001b[0m\u001b[0;34m,\u001b[0m \u001b[0mself\u001b[0m\u001b[0;34m.\u001b[0m\u001b[0m_train_batch_size\u001b[0m\u001b[0;34m,\u001b[0m \u001b[0margs\u001b[0m\u001b[0;34m.\u001b[0m\u001b[0mauto_find_batch_size\u001b[0m\u001b[0;34m\u001b[0m\u001b[0;34m\u001b[0m\u001b[0m\n\u001b[1;32m   1644\u001b[0m         )\n\u001b[0;32m-> 1645\u001b[0;31m         return inner_training_loop(\n\u001b[0m\u001b[1;32m   1646\u001b[0m             \u001b[0margs\u001b[0m\u001b[0;34m=\u001b[0m\u001b[0margs\u001b[0m\u001b[0;34m,\u001b[0m\u001b[0;34m\u001b[0m\u001b[0;34m\u001b[0m\u001b[0m\n\u001b[1;32m   1647\u001b[0m             \u001b[0mresume_from_checkpoint\u001b[0m\u001b[0;34m=\u001b[0m\u001b[0mresume_from_checkpoint\u001b[0m\u001b[0;34m,\u001b[0m\u001b[0;34m\u001b[0m\u001b[0;34m\u001b[0m\u001b[0m\n",
            "\u001b[0;32m/usr/local/lib/python3.10/dist-packages/transformers/trainer.py\u001b[0m in \u001b[0;36m_inner_training_loop\u001b[0;34m(self, batch_size, args, resume_from_checkpoint, trial, ignore_keys_for_eval)\u001b[0m\n\u001b[1;32m   1927\u001b[0m \u001b[0;34m\u001b[0m\u001b[0m\n\u001b[1;32m   1928\u001b[0m                 \u001b[0;32mwith\u001b[0m \u001b[0mself\u001b[0m\u001b[0;34m.\u001b[0m\u001b[0maccelerator\u001b[0m\u001b[0;34m.\u001b[0m\u001b[0maccumulate\u001b[0m\u001b[0;34m(\u001b[0m\u001b[0mmodel\u001b[0m\u001b[0;34m)\u001b[0m\u001b[0;34m:\u001b[0m\u001b[0;34m\u001b[0m\u001b[0;34m\u001b[0m\u001b[0m\n\u001b[0;32m-> 1929\u001b[0;31m                     \u001b[0mtr_loss_step\u001b[0m \u001b[0;34m=\u001b[0m \u001b[0mself\u001b[0m\u001b[0;34m.\u001b[0m\u001b[0mtraining_step\u001b[0m\u001b[0;34m(\u001b[0m\u001b[0mmodel\u001b[0m\u001b[0;34m,\u001b[0m \u001b[0minputs\u001b[0m\u001b[0;34m)\u001b[0m\u001b[0;34m\u001b[0m\u001b[0;34m\u001b[0m\u001b[0m\n\u001b[0m\u001b[1;32m   1930\u001b[0m \u001b[0;34m\u001b[0m\u001b[0m\n\u001b[1;32m   1931\u001b[0m                 if (\n",
            "\u001b[0;32m/usr/local/lib/python3.10/dist-packages/transformers/trainer.py\u001b[0m in \u001b[0;36mtraining_step\u001b[0;34m(self, model, inputs)\u001b[0m\n\u001b[1;32m   2748\u001b[0m \u001b[0;34m\u001b[0m\u001b[0m\n\u001b[1;32m   2749\u001b[0m         \u001b[0;32mwith\u001b[0m \u001b[0mself\u001b[0m\u001b[0;34m.\u001b[0m\u001b[0mcompute_loss_context_manager\u001b[0m\u001b[0;34m(\u001b[0m\u001b[0;34m)\u001b[0m\u001b[0;34m:\u001b[0m\u001b[0;34m\u001b[0m\u001b[0;34m\u001b[0m\u001b[0m\n\u001b[0;32m-> 2750\u001b[0;31m             \u001b[0mloss\u001b[0m \u001b[0;34m=\u001b[0m \u001b[0mself\u001b[0m\u001b[0;34m.\u001b[0m\u001b[0mcompute_loss\u001b[0m\u001b[0;34m(\u001b[0m\u001b[0mmodel\u001b[0m\u001b[0;34m,\u001b[0m \u001b[0minputs\u001b[0m\u001b[0;34m)\u001b[0m\u001b[0;34m\u001b[0m\u001b[0;34m\u001b[0m\u001b[0m\n\u001b[0m\u001b[1;32m   2751\u001b[0m \u001b[0;34m\u001b[0m\u001b[0m\n\u001b[1;32m   2752\u001b[0m         \u001b[0;32mif\u001b[0m \u001b[0mself\u001b[0m\u001b[0;34m.\u001b[0m\u001b[0margs\u001b[0m\u001b[0;34m.\u001b[0m\u001b[0mn_gpu\u001b[0m \u001b[0;34m>\u001b[0m \u001b[0;36m1\u001b[0m\u001b[0;34m:\u001b[0m\u001b[0;34m\u001b[0m\u001b[0;34m\u001b[0m\u001b[0m\n",
            "\u001b[0;32m/usr/local/lib/python3.10/dist-packages/transformers/trainer.py\u001b[0m in \u001b[0;36mcompute_loss\u001b[0;34m(self, model, inputs, return_outputs)\u001b[0m\n\u001b[1;32m   2773\u001b[0m         \u001b[0;32melse\u001b[0m\u001b[0;34m:\u001b[0m\u001b[0;34m\u001b[0m\u001b[0;34m\u001b[0m\u001b[0m\n\u001b[1;32m   2774\u001b[0m             \u001b[0mlabels\u001b[0m \u001b[0;34m=\u001b[0m \u001b[0;32mNone\u001b[0m\u001b[0;34m\u001b[0m\u001b[0;34m\u001b[0m\u001b[0m\n\u001b[0;32m-> 2775\u001b[0;31m         \u001b[0moutputs\u001b[0m \u001b[0;34m=\u001b[0m \u001b[0mmodel\u001b[0m\u001b[0;34m(\u001b[0m\u001b[0;34m**\u001b[0m\u001b[0minputs\u001b[0m\u001b[0;34m)\u001b[0m\u001b[0;34m\u001b[0m\u001b[0;34m\u001b[0m\u001b[0m\n\u001b[0m\u001b[1;32m   2776\u001b[0m         \u001b[0;31m# Save past state if it exists\u001b[0m\u001b[0;34m\u001b[0m\u001b[0;34m\u001b[0m\u001b[0m\n\u001b[1;32m   2777\u001b[0m         \u001b[0;31m# TODO: this needs to be fixed and made cleaner later.\u001b[0m\u001b[0;34m\u001b[0m\u001b[0;34m\u001b[0m\u001b[0m\n",
            "\u001b[0;32m/usr/local/lib/python3.10/dist-packages/torch/nn/modules/module.py\u001b[0m in \u001b[0;36m_wrapped_call_impl\u001b[0;34m(self, *args, **kwargs)\u001b[0m\n\u001b[1;32m   1509\u001b[0m             \u001b[0;32mreturn\u001b[0m \u001b[0mself\u001b[0m\u001b[0;34m.\u001b[0m\u001b[0m_compiled_call_impl\u001b[0m\u001b[0;34m(\u001b[0m\u001b[0;34m*\u001b[0m\u001b[0margs\u001b[0m\u001b[0;34m,\u001b[0m \u001b[0;34m**\u001b[0m\u001b[0mkwargs\u001b[0m\u001b[0;34m)\u001b[0m  \u001b[0;31m# type: ignore[misc]\u001b[0m\u001b[0;34m\u001b[0m\u001b[0;34m\u001b[0m\u001b[0m\n\u001b[1;32m   1510\u001b[0m         \u001b[0;32melse\u001b[0m\u001b[0;34m:\u001b[0m\u001b[0;34m\u001b[0m\u001b[0;34m\u001b[0m\u001b[0m\n\u001b[0;32m-> 1511\u001b[0;31m             \u001b[0;32mreturn\u001b[0m \u001b[0mself\u001b[0m\u001b[0;34m.\u001b[0m\u001b[0m_call_impl\u001b[0m\u001b[0;34m(\u001b[0m\u001b[0;34m*\u001b[0m\u001b[0margs\u001b[0m\u001b[0;34m,\u001b[0m \u001b[0;34m**\u001b[0m\u001b[0mkwargs\u001b[0m\u001b[0;34m)\u001b[0m\u001b[0;34m\u001b[0m\u001b[0;34m\u001b[0m\u001b[0m\n\u001b[0m\u001b[1;32m   1512\u001b[0m \u001b[0;34m\u001b[0m\u001b[0m\n\u001b[1;32m   1513\u001b[0m     \u001b[0;32mdef\u001b[0m \u001b[0m_call_impl\u001b[0m\u001b[0;34m(\u001b[0m\u001b[0mself\u001b[0m\u001b[0;34m,\u001b[0m \u001b[0;34m*\u001b[0m\u001b[0margs\u001b[0m\u001b[0;34m,\u001b[0m \u001b[0;34m**\u001b[0m\u001b[0mkwargs\u001b[0m\u001b[0;34m)\u001b[0m\u001b[0;34m:\u001b[0m\u001b[0;34m\u001b[0m\u001b[0;34m\u001b[0m\u001b[0m\n",
            "\u001b[0;32m/usr/local/lib/python3.10/dist-packages/torch/nn/modules/module.py\u001b[0m in \u001b[0;36m_call_impl\u001b[0;34m(self, *args, **kwargs)\u001b[0m\n\u001b[1;32m   1518\u001b[0m                 \u001b[0;32mor\u001b[0m \u001b[0m_global_backward_pre_hooks\u001b[0m \u001b[0;32mor\u001b[0m \u001b[0m_global_backward_hooks\u001b[0m\u001b[0;34m\u001b[0m\u001b[0;34m\u001b[0m\u001b[0m\n\u001b[1;32m   1519\u001b[0m                 or _global_forward_hooks or _global_forward_pre_hooks):\n\u001b[0;32m-> 1520\u001b[0;31m             \u001b[0;32mreturn\u001b[0m \u001b[0mforward_call\u001b[0m\u001b[0;34m(\u001b[0m\u001b[0;34m*\u001b[0m\u001b[0margs\u001b[0m\u001b[0;34m,\u001b[0m \u001b[0;34m**\u001b[0m\u001b[0mkwargs\u001b[0m\u001b[0;34m)\u001b[0m\u001b[0;34m\u001b[0m\u001b[0;34m\u001b[0m\u001b[0m\n\u001b[0m\u001b[1;32m   1521\u001b[0m \u001b[0;34m\u001b[0m\u001b[0m\n\u001b[1;32m   1522\u001b[0m         \u001b[0;32mtry\u001b[0m\u001b[0;34m:\u001b[0m\u001b[0;34m\u001b[0m\u001b[0;34m\u001b[0m\u001b[0m\n",
            "\u001b[0;32m/usr/local/lib/python3.10/dist-packages/transformers/models/bert/modeling_bert.py\u001b[0m in \u001b[0;36mforward\u001b[0;34m(self, input_ids, attention_mask, token_type_ids, position_ids, head_mask, inputs_embeds, labels, output_attentions, output_hidden_states, return_dict)\u001b[0m\n\u001b[1;32m   1670\u001b[0m         )\n\u001b[1;32m   1671\u001b[0m \u001b[0;34m\u001b[0m\u001b[0m\n\u001b[0;32m-> 1672\u001b[0;31m         outputs = self.bert(\n\u001b[0m\u001b[1;32m   1673\u001b[0m             \u001b[0minput_ids\u001b[0m\u001b[0;34m,\u001b[0m\u001b[0;34m\u001b[0m\u001b[0;34m\u001b[0m\u001b[0m\n\u001b[1;32m   1674\u001b[0m             \u001b[0mattention_mask\u001b[0m\u001b[0;34m=\u001b[0m\u001b[0mattention_mask\u001b[0m\u001b[0;34m,\u001b[0m\u001b[0;34m\u001b[0m\u001b[0;34m\u001b[0m\u001b[0m\n",
            "\u001b[0;32m/usr/local/lib/python3.10/dist-packages/torch/nn/modules/module.py\u001b[0m in \u001b[0;36m_wrapped_call_impl\u001b[0;34m(self, *args, **kwargs)\u001b[0m\n\u001b[1;32m   1509\u001b[0m             \u001b[0;32mreturn\u001b[0m \u001b[0mself\u001b[0m\u001b[0;34m.\u001b[0m\u001b[0m_compiled_call_impl\u001b[0m\u001b[0;34m(\u001b[0m\u001b[0;34m*\u001b[0m\u001b[0margs\u001b[0m\u001b[0;34m,\u001b[0m \u001b[0;34m**\u001b[0m\u001b[0mkwargs\u001b[0m\u001b[0;34m)\u001b[0m  \u001b[0;31m# type: ignore[misc]\u001b[0m\u001b[0;34m\u001b[0m\u001b[0;34m\u001b[0m\u001b[0m\n\u001b[1;32m   1510\u001b[0m         \u001b[0;32melse\u001b[0m\u001b[0;34m:\u001b[0m\u001b[0;34m\u001b[0m\u001b[0;34m\u001b[0m\u001b[0m\n\u001b[0;32m-> 1511\u001b[0;31m             \u001b[0;32mreturn\u001b[0m \u001b[0mself\u001b[0m\u001b[0;34m.\u001b[0m\u001b[0m_call_impl\u001b[0m\u001b[0;34m(\u001b[0m\u001b[0;34m*\u001b[0m\u001b[0margs\u001b[0m\u001b[0;34m,\u001b[0m \u001b[0;34m**\u001b[0m\u001b[0mkwargs\u001b[0m\u001b[0;34m)\u001b[0m\u001b[0;34m\u001b[0m\u001b[0;34m\u001b[0m\u001b[0m\n\u001b[0m\u001b[1;32m   1512\u001b[0m \u001b[0;34m\u001b[0m\u001b[0m\n\u001b[1;32m   1513\u001b[0m     \u001b[0;32mdef\u001b[0m \u001b[0m_call_impl\u001b[0m\u001b[0;34m(\u001b[0m\u001b[0mself\u001b[0m\u001b[0;34m,\u001b[0m \u001b[0;34m*\u001b[0m\u001b[0margs\u001b[0m\u001b[0;34m,\u001b[0m \u001b[0;34m**\u001b[0m\u001b[0mkwargs\u001b[0m\u001b[0;34m)\u001b[0m\u001b[0;34m:\u001b[0m\u001b[0;34m\u001b[0m\u001b[0;34m\u001b[0m\u001b[0m\n",
            "\u001b[0;32m/usr/local/lib/python3.10/dist-packages/torch/nn/modules/module.py\u001b[0m in \u001b[0;36m_call_impl\u001b[0;34m(self, *args, **kwargs)\u001b[0m\n\u001b[1;32m   1518\u001b[0m                 \u001b[0;32mor\u001b[0m \u001b[0m_global_backward_pre_hooks\u001b[0m \u001b[0;32mor\u001b[0m \u001b[0m_global_backward_hooks\u001b[0m\u001b[0;34m\u001b[0m\u001b[0;34m\u001b[0m\u001b[0m\n\u001b[1;32m   1519\u001b[0m                 or _global_forward_hooks or _global_forward_pre_hooks):\n\u001b[0;32m-> 1520\u001b[0;31m             \u001b[0;32mreturn\u001b[0m \u001b[0mforward_call\u001b[0m\u001b[0;34m(\u001b[0m\u001b[0;34m*\u001b[0m\u001b[0margs\u001b[0m\u001b[0;34m,\u001b[0m \u001b[0;34m**\u001b[0m\u001b[0mkwargs\u001b[0m\u001b[0;34m)\u001b[0m\u001b[0;34m\u001b[0m\u001b[0;34m\u001b[0m\u001b[0m\n\u001b[0m\u001b[1;32m   1521\u001b[0m \u001b[0;34m\u001b[0m\u001b[0m\n\u001b[1;32m   1522\u001b[0m         \u001b[0;32mtry\u001b[0m\u001b[0;34m:\u001b[0m\u001b[0;34m\u001b[0m\u001b[0;34m\u001b[0m\u001b[0m\n",
            "\u001b[0;32m/usr/local/lib/python3.10/dist-packages/transformers/models/bert/modeling_bert.py\u001b[0m in \u001b[0;36mforward\u001b[0;34m(self, input_ids, attention_mask, token_type_ids, position_ids, head_mask, inputs_embeds, encoder_hidden_states, encoder_attention_mask, past_key_values, use_cache, output_attentions, output_hidden_states, return_dict)\u001b[0m\n\u001b[1;32m   1018\u001b[0m             \u001b[0mpast_key_values_length\u001b[0m\u001b[0;34m=\u001b[0m\u001b[0mpast_key_values_length\u001b[0m\u001b[0;34m,\u001b[0m\u001b[0;34m\u001b[0m\u001b[0;34m\u001b[0m\u001b[0m\n\u001b[1;32m   1019\u001b[0m         )\n\u001b[0;32m-> 1020\u001b[0;31m         encoder_outputs = self.encoder(\n\u001b[0m\u001b[1;32m   1021\u001b[0m             \u001b[0membedding_output\u001b[0m\u001b[0;34m,\u001b[0m\u001b[0;34m\u001b[0m\u001b[0;34m\u001b[0m\u001b[0m\n\u001b[1;32m   1022\u001b[0m             \u001b[0mattention_mask\u001b[0m\u001b[0;34m=\u001b[0m\u001b[0mextended_attention_mask\u001b[0m\u001b[0;34m,\u001b[0m\u001b[0;34m\u001b[0m\u001b[0;34m\u001b[0m\u001b[0m\n",
            "\u001b[0;32m/usr/local/lib/python3.10/dist-packages/torch/nn/modules/module.py\u001b[0m in \u001b[0;36m_wrapped_call_impl\u001b[0;34m(self, *args, **kwargs)\u001b[0m\n\u001b[1;32m   1509\u001b[0m             \u001b[0;32mreturn\u001b[0m \u001b[0mself\u001b[0m\u001b[0;34m.\u001b[0m\u001b[0m_compiled_call_impl\u001b[0m\u001b[0;34m(\u001b[0m\u001b[0;34m*\u001b[0m\u001b[0margs\u001b[0m\u001b[0;34m,\u001b[0m \u001b[0;34m**\u001b[0m\u001b[0mkwargs\u001b[0m\u001b[0;34m)\u001b[0m  \u001b[0;31m# type: ignore[misc]\u001b[0m\u001b[0;34m\u001b[0m\u001b[0;34m\u001b[0m\u001b[0m\n\u001b[1;32m   1510\u001b[0m         \u001b[0;32melse\u001b[0m\u001b[0;34m:\u001b[0m\u001b[0;34m\u001b[0m\u001b[0;34m\u001b[0m\u001b[0m\n\u001b[0;32m-> 1511\u001b[0;31m             \u001b[0;32mreturn\u001b[0m \u001b[0mself\u001b[0m\u001b[0;34m.\u001b[0m\u001b[0m_call_impl\u001b[0m\u001b[0;34m(\u001b[0m\u001b[0;34m*\u001b[0m\u001b[0margs\u001b[0m\u001b[0;34m,\u001b[0m \u001b[0;34m**\u001b[0m\u001b[0mkwargs\u001b[0m\u001b[0;34m)\u001b[0m\u001b[0;34m\u001b[0m\u001b[0;34m\u001b[0m\u001b[0m\n\u001b[0m\u001b[1;32m   1512\u001b[0m \u001b[0;34m\u001b[0m\u001b[0m\n\u001b[1;32m   1513\u001b[0m     \u001b[0;32mdef\u001b[0m \u001b[0m_call_impl\u001b[0m\u001b[0;34m(\u001b[0m\u001b[0mself\u001b[0m\u001b[0;34m,\u001b[0m \u001b[0;34m*\u001b[0m\u001b[0margs\u001b[0m\u001b[0;34m,\u001b[0m \u001b[0;34m**\u001b[0m\u001b[0mkwargs\u001b[0m\u001b[0;34m)\u001b[0m\u001b[0;34m:\u001b[0m\u001b[0;34m\u001b[0m\u001b[0;34m\u001b[0m\u001b[0m\n",
            "\u001b[0;32m/usr/local/lib/python3.10/dist-packages/torch/nn/modules/module.py\u001b[0m in \u001b[0;36m_call_impl\u001b[0;34m(self, *args, **kwargs)\u001b[0m\n\u001b[1;32m   1518\u001b[0m                 \u001b[0;32mor\u001b[0m \u001b[0m_global_backward_pre_hooks\u001b[0m \u001b[0;32mor\u001b[0m \u001b[0m_global_backward_hooks\u001b[0m\u001b[0;34m\u001b[0m\u001b[0;34m\u001b[0m\u001b[0m\n\u001b[1;32m   1519\u001b[0m                 or _global_forward_hooks or _global_forward_pre_hooks):\n\u001b[0;32m-> 1520\u001b[0;31m             \u001b[0;32mreturn\u001b[0m \u001b[0mforward_call\u001b[0m\u001b[0;34m(\u001b[0m\u001b[0;34m*\u001b[0m\u001b[0margs\u001b[0m\u001b[0;34m,\u001b[0m \u001b[0;34m**\u001b[0m\u001b[0mkwargs\u001b[0m\u001b[0;34m)\u001b[0m\u001b[0;34m\u001b[0m\u001b[0;34m\u001b[0m\u001b[0m\n\u001b[0m\u001b[1;32m   1521\u001b[0m \u001b[0;34m\u001b[0m\u001b[0m\n\u001b[1;32m   1522\u001b[0m         \u001b[0;32mtry\u001b[0m\u001b[0;34m:\u001b[0m\u001b[0;34m\u001b[0m\u001b[0;34m\u001b[0m\u001b[0m\n",
            "\u001b[0;32m/usr/local/lib/python3.10/dist-packages/transformers/models/bert/modeling_bert.py\u001b[0m in \u001b[0;36mforward\u001b[0;34m(self, hidden_states, attention_mask, head_mask, encoder_hidden_states, encoder_attention_mask, past_key_values, use_cache, output_attentions, output_hidden_states, return_dict)\u001b[0m\n\u001b[1;32m    608\u001b[0m                 )\n\u001b[1;32m    609\u001b[0m             \u001b[0;32melse\u001b[0m\u001b[0;34m:\u001b[0m\u001b[0;34m\u001b[0m\u001b[0;34m\u001b[0m\u001b[0m\n\u001b[0;32m--> 610\u001b[0;31m                 layer_outputs = layer_module(\n\u001b[0m\u001b[1;32m    611\u001b[0m                     \u001b[0mhidden_states\u001b[0m\u001b[0;34m,\u001b[0m\u001b[0;34m\u001b[0m\u001b[0;34m\u001b[0m\u001b[0m\n\u001b[1;32m    612\u001b[0m                     \u001b[0mattention_mask\u001b[0m\u001b[0;34m,\u001b[0m\u001b[0;34m\u001b[0m\u001b[0;34m\u001b[0m\u001b[0m\n",
            "\u001b[0;32m/usr/local/lib/python3.10/dist-packages/torch/nn/modules/module.py\u001b[0m in \u001b[0;36m_wrapped_call_impl\u001b[0;34m(self, *args, **kwargs)\u001b[0m\n\u001b[1;32m   1509\u001b[0m             \u001b[0;32mreturn\u001b[0m \u001b[0mself\u001b[0m\u001b[0;34m.\u001b[0m\u001b[0m_compiled_call_impl\u001b[0m\u001b[0;34m(\u001b[0m\u001b[0;34m*\u001b[0m\u001b[0margs\u001b[0m\u001b[0;34m,\u001b[0m \u001b[0;34m**\u001b[0m\u001b[0mkwargs\u001b[0m\u001b[0;34m)\u001b[0m  \u001b[0;31m# type: ignore[misc]\u001b[0m\u001b[0;34m\u001b[0m\u001b[0;34m\u001b[0m\u001b[0m\n\u001b[1;32m   1510\u001b[0m         \u001b[0;32melse\u001b[0m\u001b[0;34m:\u001b[0m\u001b[0;34m\u001b[0m\u001b[0;34m\u001b[0m\u001b[0m\n\u001b[0;32m-> 1511\u001b[0;31m             \u001b[0;32mreturn\u001b[0m \u001b[0mself\u001b[0m\u001b[0;34m.\u001b[0m\u001b[0m_call_impl\u001b[0m\u001b[0;34m(\u001b[0m\u001b[0;34m*\u001b[0m\u001b[0margs\u001b[0m\u001b[0;34m,\u001b[0m \u001b[0;34m**\u001b[0m\u001b[0mkwargs\u001b[0m\u001b[0;34m)\u001b[0m\u001b[0;34m\u001b[0m\u001b[0;34m\u001b[0m\u001b[0m\n\u001b[0m\u001b[1;32m   1512\u001b[0m \u001b[0;34m\u001b[0m\u001b[0m\n\u001b[1;32m   1513\u001b[0m     \u001b[0;32mdef\u001b[0m \u001b[0m_call_impl\u001b[0m\u001b[0;34m(\u001b[0m\u001b[0mself\u001b[0m\u001b[0;34m,\u001b[0m \u001b[0;34m*\u001b[0m\u001b[0margs\u001b[0m\u001b[0;34m,\u001b[0m \u001b[0;34m**\u001b[0m\u001b[0mkwargs\u001b[0m\u001b[0;34m)\u001b[0m\u001b[0;34m:\u001b[0m\u001b[0;34m\u001b[0m\u001b[0;34m\u001b[0m\u001b[0m\n",
            "\u001b[0;32m/usr/local/lib/python3.10/dist-packages/torch/nn/modules/module.py\u001b[0m in \u001b[0;36m_call_impl\u001b[0;34m(self, *args, **kwargs)\u001b[0m\n\u001b[1;32m   1518\u001b[0m                 \u001b[0;32mor\u001b[0m \u001b[0m_global_backward_pre_hooks\u001b[0m \u001b[0;32mor\u001b[0m \u001b[0m_global_backward_hooks\u001b[0m\u001b[0;34m\u001b[0m\u001b[0;34m\u001b[0m\u001b[0m\n\u001b[1;32m   1519\u001b[0m                 or _global_forward_hooks or _global_forward_pre_hooks):\n\u001b[0;32m-> 1520\u001b[0;31m             \u001b[0;32mreturn\u001b[0m \u001b[0mforward_call\u001b[0m\u001b[0;34m(\u001b[0m\u001b[0;34m*\u001b[0m\u001b[0margs\u001b[0m\u001b[0;34m,\u001b[0m \u001b[0;34m**\u001b[0m\u001b[0mkwargs\u001b[0m\u001b[0;34m)\u001b[0m\u001b[0;34m\u001b[0m\u001b[0;34m\u001b[0m\u001b[0m\n\u001b[0m\u001b[1;32m   1521\u001b[0m \u001b[0;34m\u001b[0m\u001b[0m\n\u001b[1;32m   1522\u001b[0m         \u001b[0;32mtry\u001b[0m\u001b[0;34m:\u001b[0m\u001b[0;34m\u001b[0m\u001b[0;34m\u001b[0m\u001b[0m\n",
            "\u001b[0;32m/usr/local/lib/python3.10/dist-packages/transformers/models/bert/modeling_bert.py\u001b[0m in \u001b[0;36mforward\u001b[0;34m(self, hidden_states, attention_mask, head_mask, encoder_hidden_states, encoder_attention_mask, past_key_value, output_attentions)\u001b[0m\n\u001b[1;32m    493\u001b[0m         \u001b[0;31m# decoder uni-directional self-attention cached key/values tuple is at positions 1,2\u001b[0m\u001b[0;34m\u001b[0m\u001b[0;34m\u001b[0m\u001b[0m\n\u001b[1;32m    494\u001b[0m         \u001b[0mself_attn_past_key_value\u001b[0m \u001b[0;34m=\u001b[0m \u001b[0mpast_key_value\u001b[0m\u001b[0;34m[\u001b[0m\u001b[0;34m:\u001b[0m\u001b[0;36m2\u001b[0m\u001b[0;34m]\u001b[0m \u001b[0;32mif\u001b[0m \u001b[0mpast_key_value\u001b[0m \u001b[0;32mis\u001b[0m \u001b[0;32mnot\u001b[0m \u001b[0;32mNone\u001b[0m \u001b[0;32melse\u001b[0m \u001b[0;32mNone\u001b[0m\u001b[0;34m\u001b[0m\u001b[0;34m\u001b[0m\u001b[0m\n\u001b[0;32m--> 495\u001b[0;31m         self_attention_outputs = self.attention(\n\u001b[0m\u001b[1;32m    496\u001b[0m             \u001b[0mhidden_states\u001b[0m\u001b[0;34m,\u001b[0m\u001b[0;34m\u001b[0m\u001b[0;34m\u001b[0m\u001b[0m\n\u001b[1;32m    497\u001b[0m             \u001b[0mattention_mask\u001b[0m\u001b[0;34m,\u001b[0m\u001b[0;34m\u001b[0m\u001b[0;34m\u001b[0m\u001b[0m\n",
            "\u001b[0;32m/usr/local/lib/python3.10/dist-packages/torch/nn/modules/module.py\u001b[0m in \u001b[0;36m_wrapped_call_impl\u001b[0;34m(self, *args, **kwargs)\u001b[0m\n\u001b[1;32m   1509\u001b[0m             \u001b[0;32mreturn\u001b[0m \u001b[0mself\u001b[0m\u001b[0;34m.\u001b[0m\u001b[0m_compiled_call_impl\u001b[0m\u001b[0;34m(\u001b[0m\u001b[0;34m*\u001b[0m\u001b[0margs\u001b[0m\u001b[0;34m,\u001b[0m \u001b[0;34m**\u001b[0m\u001b[0mkwargs\u001b[0m\u001b[0;34m)\u001b[0m  \u001b[0;31m# type: ignore[misc]\u001b[0m\u001b[0;34m\u001b[0m\u001b[0;34m\u001b[0m\u001b[0m\n\u001b[1;32m   1510\u001b[0m         \u001b[0;32melse\u001b[0m\u001b[0;34m:\u001b[0m\u001b[0;34m\u001b[0m\u001b[0;34m\u001b[0m\u001b[0m\n\u001b[0;32m-> 1511\u001b[0;31m             \u001b[0;32mreturn\u001b[0m \u001b[0mself\u001b[0m\u001b[0;34m.\u001b[0m\u001b[0m_call_impl\u001b[0m\u001b[0;34m(\u001b[0m\u001b[0;34m*\u001b[0m\u001b[0margs\u001b[0m\u001b[0;34m,\u001b[0m \u001b[0;34m**\u001b[0m\u001b[0mkwargs\u001b[0m\u001b[0;34m)\u001b[0m\u001b[0;34m\u001b[0m\u001b[0;34m\u001b[0m\u001b[0m\n\u001b[0m\u001b[1;32m   1512\u001b[0m \u001b[0;34m\u001b[0m\u001b[0m\n\u001b[1;32m   1513\u001b[0m     \u001b[0;32mdef\u001b[0m \u001b[0m_call_impl\u001b[0m\u001b[0;34m(\u001b[0m\u001b[0mself\u001b[0m\u001b[0;34m,\u001b[0m \u001b[0;34m*\u001b[0m\u001b[0margs\u001b[0m\u001b[0;34m,\u001b[0m \u001b[0;34m**\u001b[0m\u001b[0mkwargs\u001b[0m\u001b[0;34m)\u001b[0m\u001b[0;34m:\u001b[0m\u001b[0;34m\u001b[0m\u001b[0;34m\u001b[0m\u001b[0m\n",
            "\u001b[0;32m/usr/local/lib/python3.10/dist-packages/torch/nn/modules/module.py\u001b[0m in \u001b[0;36m_call_impl\u001b[0;34m(self, *args, **kwargs)\u001b[0m\n\u001b[1;32m   1518\u001b[0m                 \u001b[0;32mor\u001b[0m \u001b[0m_global_backward_pre_hooks\u001b[0m \u001b[0;32mor\u001b[0m \u001b[0m_global_backward_hooks\u001b[0m\u001b[0;34m\u001b[0m\u001b[0;34m\u001b[0m\u001b[0m\n\u001b[1;32m   1519\u001b[0m                 or _global_forward_hooks or _global_forward_pre_hooks):\n\u001b[0;32m-> 1520\u001b[0;31m             \u001b[0;32mreturn\u001b[0m \u001b[0mforward_call\u001b[0m\u001b[0;34m(\u001b[0m\u001b[0;34m*\u001b[0m\u001b[0margs\u001b[0m\u001b[0;34m,\u001b[0m \u001b[0;34m**\u001b[0m\u001b[0mkwargs\u001b[0m\u001b[0;34m)\u001b[0m\u001b[0;34m\u001b[0m\u001b[0;34m\u001b[0m\u001b[0m\n\u001b[0m\u001b[1;32m   1521\u001b[0m \u001b[0;34m\u001b[0m\u001b[0m\n\u001b[1;32m   1522\u001b[0m         \u001b[0;32mtry\u001b[0m\u001b[0;34m:\u001b[0m\u001b[0;34m\u001b[0m\u001b[0;34m\u001b[0m\u001b[0m\n",
            "\u001b[0;32m/usr/local/lib/python3.10/dist-packages/transformers/models/bert/modeling_bert.py\u001b[0m in \u001b[0;36mforward\u001b[0;34m(self, hidden_states, attention_mask, head_mask, encoder_hidden_states, encoder_attention_mask, past_key_value, output_attentions)\u001b[0m\n\u001b[1;32m    423\u001b[0m         \u001b[0moutput_attentions\u001b[0m\u001b[0;34m:\u001b[0m \u001b[0mOptional\u001b[0m\u001b[0;34m[\u001b[0m\u001b[0mbool\u001b[0m\u001b[0;34m]\u001b[0m \u001b[0;34m=\u001b[0m \u001b[0;32mFalse\u001b[0m\u001b[0;34m,\u001b[0m\u001b[0;34m\u001b[0m\u001b[0;34m\u001b[0m\u001b[0m\n\u001b[1;32m    424\u001b[0m     ) -> Tuple[torch.Tensor]:\n\u001b[0;32m--> 425\u001b[0;31m         self_outputs = self.self(\n\u001b[0m\u001b[1;32m    426\u001b[0m             \u001b[0mhidden_states\u001b[0m\u001b[0;34m,\u001b[0m\u001b[0;34m\u001b[0m\u001b[0;34m\u001b[0m\u001b[0m\n\u001b[1;32m    427\u001b[0m             \u001b[0mattention_mask\u001b[0m\u001b[0;34m,\u001b[0m\u001b[0;34m\u001b[0m\u001b[0;34m\u001b[0m\u001b[0m\n",
            "\u001b[0;32m/usr/local/lib/python3.10/dist-packages/torch/nn/modules/module.py\u001b[0m in \u001b[0;36m_wrapped_call_impl\u001b[0;34m(self, *args, **kwargs)\u001b[0m\n\u001b[1;32m   1509\u001b[0m             \u001b[0;32mreturn\u001b[0m \u001b[0mself\u001b[0m\u001b[0;34m.\u001b[0m\u001b[0m_compiled_call_impl\u001b[0m\u001b[0;34m(\u001b[0m\u001b[0;34m*\u001b[0m\u001b[0margs\u001b[0m\u001b[0;34m,\u001b[0m \u001b[0;34m**\u001b[0m\u001b[0mkwargs\u001b[0m\u001b[0;34m)\u001b[0m  \u001b[0;31m# type: ignore[misc]\u001b[0m\u001b[0;34m\u001b[0m\u001b[0;34m\u001b[0m\u001b[0m\n\u001b[1;32m   1510\u001b[0m         \u001b[0;32melse\u001b[0m\u001b[0;34m:\u001b[0m\u001b[0;34m\u001b[0m\u001b[0;34m\u001b[0m\u001b[0m\n\u001b[0;32m-> 1511\u001b[0;31m             \u001b[0;32mreturn\u001b[0m \u001b[0mself\u001b[0m\u001b[0;34m.\u001b[0m\u001b[0m_call_impl\u001b[0m\u001b[0;34m(\u001b[0m\u001b[0;34m*\u001b[0m\u001b[0margs\u001b[0m\u001b[0;34m,\u001b[0m \u001b[0;34m**\u001b[0m\u001b[0mkwargs\u001b[0m\u001b[0;34m)\u001b[0m\u001b[0;34m\u001b[0m\u001b[0;34m\u001b[0m\u001b[0m\n\u001b[0m\u001b[1;32m   1512\u001b[0m \u001b[0;34m\u001b[0m\u001b[0m\n\u001b[1;32m   1513\u001b[0m     \u001b[0;32mdef\u001b[0m \u001b[0m_call_impl\u001b[0m\u001b[0;34m(\u001b[0m\u001b[0mself\u001b[0m\u001b[0;34m,\u001b[0m \u001b[0;34m*\u001b[0m\u001b[0margs\u001b[0m\u001b[0;34m,\u001b[0m \u001b[0;34m**\u001b[0m\u001b[0mkwargs\u001b[0m\u001b[0;34m)\u001b[0m\u001b[0;34m:\u001b[0m\u001b[0;34m\u001b[0m\u001b[0;34m\u001b[0m\u001b[0m\n",
            "\u001b[0;32m/usr/local/lib/python3.10/dist-packages/torch/nn/modules/module.py\u001b[0m in \u001b[0;36m_call_impl\u001b[0;34m(self, *args, **kwargs)\u001b[0m\n\u001b[1;32m   1518\u001b[0m                 \u001b[0;32mor\u001b[0m \u001b[0m_global_backward_pre_hooks\u001b[0m \u001b[0;32mor\u001b[0m \u001b[0m_global_backward_hooks\u001b[0m\u001b[0;34m\u001b[0m\u001b[0;34m\u001b[0m\u001b[0m\n\u001b[1;32m   1519\u001b[0m                 or _global_forward_hooks or _global_forward_pre_hooks):\n\u001b[0;32m-> 1520\u001b[0;31m             \u001b[0;32mreturn\u001b[0m \u001b[0mforward_call\u001b[0m\u001b[0;34m(\u001b[0m\u001b[0;34m*\u001b[0m\u001b[0margs\u001b[0m\u001b[0;34m,\u001b[0m \u001b[0;34m**\u001b[0m\u001b[0mkwargs\u001b[0m\u001b[0;34m)\u001b[0m\u001b[0;34m\u001b[0m\u001b[0;34m\u001b[0m\u001b[0m\n\u001b[0m\u001b[1;32m   1521\u001b[0m \u001b[0;34m\u001b[0m\u001b[0m\n\u001b[1;32m   1522\u001b[0m         \u001b[0;32mtry\u001b[0m\u001b[0;34m:\u001b[0m\u001b[0;34m\u001b[0m\u001b[0;34m\u001b[0m\u001b[0m\n",
            "\u001b[0;32m/usr/local/lib/python3.10/dist-packages/transformers/models/bert/modeling_bert.py\u001b[0m in \u001b[0;36mforward\u001b[0;34m(self, hidden_states, attention_mask, head_mask, encoder_hidden_states, encoder_attention_mask, past_key_value, output_attentions)\u001b[0m\n\u001b[1;32m    363\u001b[0m         \u001b[0mcontext_layer\u001b[0m \u001b[0;34m=\u001b[0m \u001b[0mtorch\u001b[0m\u001b[0;34m.\u001b[0m\u001b[0mmatmul\u001b[0m\u001b[0;34m(\u001b[0m\u001b[0mattention_probs\u001b[0m\u001b[0;34m,\u001b[0m \u001b[0mvalue_layer\u001b[0m\u001b[0;34m)\u001b[0m\u001b[0;34m\u001b[0m\u001b[0;34m\u001b[0m\u001b[0m\n\u001b[1;32m    364\u001b[0m \u001b[0;34m\u001b[0m\u001b[0m\n\u001b[0;32m--> 365\u001b[0;31m         \u001b[0mcontext_layer\u001b[0m \u001b[0;34m=\u001b[0m \u001b[0mcontext_layer\u001b[0m\u001b[0;34m.\u001b[0m\u001b[0mpermute\u001b[0m\u001b[0;34m(\u001b[0m\u001b[0;36m0\u001b[0m\u001b[0;34m,\u001b[0m \u001b[0;36m2\u001b[0m\u001b[0;34m,\u001b[0m \u001b[0;36m1\u001b[0m\u001b[0;34m,\u001b[0m \u001b[0;36m3\u001b[0m\u001b[0;34m)\u001b[0m\u001b[0;34m.\u001b[0m\u001b[0mcontiguous\u001b[0m\u001b[0;34m(\u001b[0m\u001b[0;34m)\u001b[0m\u001b[0;34m\u001b[0m\u001b[0;34m\u001b[0m\u001b[0m\n\u001b[0m\u001b[1;32m    366\u001b[0m         \u001b[0mnew_context_layer_shape\u001b[0m \u001b[0;34m=\u001b[0m \u001b[0mcontext_layer\u001b[0m\u001b[0;34m.\u001b[0m\u001b[0msize\u001b[0m\u001b[0;34m(\u001b[0m\u001b[0;34m)\u001b[0m\u001b[0;34m[\u001b[0m\u001b[0;34m:\u001b[0m\u001b[0;34m-\u001b[0m\u001b[0;36m2\u001b[0m\u001b[0;34m]\u001b[0m \u001b[0;34m+\u001b[0m \u001b[0;34m(\u001b[0m\u001b[0mself\u001b[0m\u001b[0;34m.\u001b[0m\u001b[0mall_head_size\u001b[0m\u001b[0;34m,\u001b[0m\u001b[0;34m)\u001b[0m\u001b[0;34m\u001b[0m\u001b[0;34m\u001b[0m\u001b[0m\n\u001b[1;32m    367\u001b[0m         \u001b[0mcontext_layer\u001b[0m \u001b[0;34m=\u001b[0m \u001b[0mcontext_layer\u001b[0m\u001b[0;34m.\u001b[0m\u001b[0mview\u001b[0m\u001b[0;34m(\u001b[0m\u001b[0mnew_context_layer_shape\u001b[0m\u001b[0;34m)\u001b[0m\u001b[0;34m\u001b[0m\u001b[0;34m\u001b[0m\u001b[0m\n",
            "\u001b[0;31mOutOfMemoryError\u001b[0m: CUDA out of memory. Tried to allocate 104.00 MiB. GPU 0 has a total capacity of 15.77 GiB of which 12.38 MiB is free. Process 9458 has 15.76 GiB memory in use. Of the allocated memory 15.06 GiB is allocated by PyTorch, and 330.83 MiB is reserved by PyTorch but unallocated. If reserved but unallocated memory is large try setting PYTORCH_CUDA_ALLOC_CONF=expandable_segments:True to avoid fragmentation.  See documentation for Memory Management  (https://pytorch.org/docs/stable/notes/cuda.html#environment-variables)"
          ]
        }
      ]
    }
  ],
  "metadata": {
    "kernelspec": {
      "display_name": "Python 3",
      "name": "python3"
    },
    "language_info": {
      "codemirror_mode": {
        "name": "ipython",
        "version": 3
      },
      "file_extension": ".py",
      "mimetype": "text/x-python",
      "name": "python",
      "nbconvert_exporter": "python",
      "pygments_lexer": "ipython3",
      "version": "3.11.4"
    },
    "colab": {
      "provenance": [],
      "gpuType": "V100",
      "collapsed_sections": [
        "Ugw1mR605GX6",
        "d7CvzRpA4-Dv",
        "GUVJ80QXvfXO"
      ]
    },
    "accelerator": "GPU",
    "widgets": {
      "application/vnd.jupyter.widget-state+json": {
        "0699fc938076430181a0e9e433b5e4da": {
          "model_module": "@jupyter-widgets/controls",
          "model_name": "HBoxModel",
          "model_module_version": "1.5.0",
          "state": {
            "_dom_classes": [],
            "_model_module": "@jupyter-widgets/controls",
            "_model_module_version": "1.5.0",
            "_model_name": "HBoxModel",
            "_view_count": null,
            "_view_module": "@jupyter-widgets/controls",
            "_view_module_version": "1.5.0",
            "_view_name": "HBoxView",
            "box_style": "",
            "children": [
              "IPY_MODEL_eec5127db92b42afb1801e457b9c0948",
              "IPY_MODEL_7aa54441800b474c8acd71cb435e318f",
              "IPY_MODEL_ee062151aad94f7d98ae7fa33c085171"
            ],
            "layout": "IPY_MODEL_4f612d5af838424e9b8447533bb5df52"
          }
        },
        "eec5127db92b42afb1801e457b9c0948": {
          "model_module": "@jupyter-widgets/controls",
          "model_name": "HTMLModel",
          "model_module_version": "1.5.0",
          "state": {
            "_dom_classes": [],
            "_model_module": "@jupyter-widgets/controls",
            "_model_module_version": "1.5.0",
            "_model_name": "HTMLModel",
            "_view_count": null,
            "_view_module": "@jupyter-widgets/controls",
            "_view_module_version": "1.5.0",
            "_view_name": "HTMLView",
            "description": "",
            "description_tooltip": null,
            "layout": "IPY_MODEL_39e2aa32ebec496ebea80bbd6977f2ac",
            "placeholder": "​",
            "style": "IPY_MODEL_8e0dd9fc168e4ebe894494ab8ac90053",
            "value": "config.json: 100%"
          }
        },
        "7aa54441800b474c8acd71cb435e318f": {
          "model_module": "@jupyter-widgets/controls",
          "model_name": "FloatProgressModel",
          "model_module_version": "1.5.0",
          "state": {
            "_dom_classes": [],
            "_model_module": "@jupyter-widgets/controls",
            "_model_module_version": "1.5.0",
            "_model_name": "FloatProgressModel",
            "_view_count": null,
            "_view_module": "@jupyter-widgets/controls",
            "_view_module_version": "1.5.0",
            "_view_name": "ProgressView",
            "bar_style": "success",
            "description": "",
            "description_tooltip": null,
            "layout": "IPY_MODEL_f1fce80b994e4f37ba5cf2c2650e4c4a",
            "max": 570,
            "min": 0,
            "orientation": "horizontal",
            "style": "IPY_MODEL_4fd78e1a463045a18860ef21797962b3",
            "value": 570
          }
        },
        "ee062151aad94f7d98ae7fa33c085171": {
          "model_module": "@jupyter-widgets/controls",
          "model_name": "HTMLModel",
          "model_module_version": "1.5.0",
          "state": {
            "_dom_classes": [],
            "_model_module": "@jupyter-widgets/controls",
            "_model_module_version": "1.5.0",
            "_model_name": "HTMLModel",
            "_view_count": null,
            "_view_module": "@jupyter-widgets/controls",
            "_view_module_version": "1.5.0",
            "_view_name": "HTMLView",
            "description": "",
            "description_tooltip": null,
            "layout": "IPY_MODEL_f8bef9867cde4c86a37e92b36794aaf8",
            "placeholder": "​",
            "style": "IPY_MODEL_0a04f8f56acd475d8d559be63394d4ac",
            "value": " 570/570 [00:00&lt;00:00, 12.5kB/s]"
          }
        },
        "4f612d5af838424e9b8447533bb5df52": {
          "model_module": "@jupyter-widgets/base",
          "model_name": "LayoutModel",
          "model_module_version": "1.2.0",
          "state": {
            "_model_module": "@jupyter-widgets/base",
            "_model_module_version": "1.2.0",
            "_model_name": "LayoutModel",
            "_view_count": null,
            "_view_module": "@jupyter-widgets/base",
            "_view_module_version": "1.2.0",
            "_view_name": "LayoutView",
            "align_content": null,
            "align_items": null,
            "align_self": null,
            "border": null,
            "bottom": null,
            "display": null,
            "flex": null,
            "flex_flow": null,
            "grid_area": null,
            "grid_auto_columns": null,
            "grid_auto_flow": null,
            "grid_auto_rows": null,
            "grid_column": null,
            "grid_gap": null,
            "grid_row": null,
            "grid_template_areas": null,
            "grid_template_columns": null,
            "grid_template_rows": null,
            "height": null,
            "justify_content": null,
            "justify_items": null,
            "left": null,
            "margin": null,
            "max_height": null,
            "max_width": null,
            "min_height": null,
            "min_width": null,
            "object_fit": null,
            "object_position": null,
            "order": null,
            "overflow": null,
            "overflow_x": null,
            "overflow_y": null,
            "padding": null,
            "right": null,
            "top": null,
            "visibility": null,
            "width": null
          }
        },
        "39e2aa32ebec496ebea80bbd6977f2ac": {
          "model_module": "@jupyter-widgets/base",
          "model_name": "LayoutModel",
          "model_module_version": "1.2.0",
          "state": {
            "_model_module": "@jupyter-widgets/base",
            "_model_module_version": "1.2.0",
            "_model_name": "LayoutModel",
            "_view_count": null,
            "_view_module": "@jupyter-widgets/base",
            "_view_module_version": "1.2.0",
            "_view_name": "LayoutView",
            "align_content": null,
            "align_items": null,
            "align_self": null,
            "border": null,
            "bottom": null,
            "display": null,
            "flex": null,
            "flex_flow": null,
            "grid_area": null,
            "grid_auto_columns": null,
            "grid_auto_flow": null,
            "grid_auto_rows": null,
            "grid_column": null,
            "grid_gap": null,
            "grid_row": null,
            "grid_template_areas": null,
            "grid_template_columns": null,
            "grid_template_rows": null,
            "height": null,
            "justify_content": null,
            "justify_items": null,
            "left": null,
            "margin": null,
            "max_height": null,
            "max_width": null,
            "min_height": null,
            "min_width": null,
            "object_fit": null,
            "object_position": null,
            "order": null,
            "overflow": null,
            "overflow_x": null,
            "overflow_y": null,
            "padding": null,
            "right": null,
            "top": null,
            "visibility": null,
            "width": null
          }
        },
        "8e0dd9fc168e4ebe894494ab8ac90053": {
          "model_module": "@jupyter-widgets/controls",
          "model_name": "DescriptionStyleModel",
          "model_module_version": "1.5.0",
          "state": {
            "_model_module": "@jupyter-widgets/controls",
            "_model_module_version": "1.5.0",
            "_model_name": "DescriptionStyleModel",
            "_view_count": null,
            "_view_module": "@jupyter-widgets/base",
            "_view_module_version": "1.2.0",
            "_view_name": "StyleView",
            "description_width": ""
          }
        },
        "f1fce80b994e4f37ba5cf2c2650e4c4a": {
          "model_module": "@jupyter-widgets/base",
          "model_name": "LayoutModel",
          "model_module_version": "1.2.0",
          "state": {
            "_model_module": "@jupyter-widgets/base",
            "_model_module_version": "1.2.0",
            "_model_name": "LayoutModel",
            "_view_count": null,
            "_view_module": "@jupyter-widgets/base",
            "_view_module_version": "1.2.0",
            "_view_name": "LayoutView",
            "align_content": null,
            "align_items": null,
            "align_self": null,
            "border": null,
            "bottom": null,
            "display": null,
            "flex": null,
            "flex_flow": null,
            "grid_area": null,
            "grid_auto_columns": null,
            "grid_auto_flow": null,
            "grid_auto_rows": null,
            "grid_column": null,
            "grid_gap": null,
            "grid_row": null,
            "grid_template_areas": null,
            "grid_template_columns": null,
            "grid_template_rows": null,
            "height": null,
            "justify_content": null,
            "justify_items": null,
            "left": null,
            "margin": null,
            "max_height": null,
            "max_width": null,
            "min_height": null,
            "min_width": null,
            "object_fit": null,
            "object_position": null,
            "order": null,
            "overflow": null,
            "overflow_x": null,
            "overflow_y": null,
            "padding": null,
            "right": null,
            "top": null,
            "visibility": null,
            "width": null
          }
        },
        "4fd78e1a463045a18860ef21797962b3": {
          "model_module": "@jupyter-widgets/controls",
          "model_name": "ProgressStyleModel",
          "model_module_version": "1.5.0",
          "state": {
            "_model_module": "@jupyter-widgets/controls",
            "_model_module_version": "1.5.0",
            "_model_name": "ProgressStyleModel",
            "_view_count": null,
            "_view_module": "@jupyter-widgets/base",
            "_view_module_version": "1.2.0",
            "_view_name": "StyleView",
            "bar_color": null,
            "description_width": ""
          }
        },
        "f8bef9867cde4c86a37e92b36794aaf8": {
          "model_module": "@jupyter-widgets/base",
          "model_name": "LayoutModel",
          "model_module_version": "1.2.0",
          "state": {
            "_model_module": "@jupyter-widgets/base",
            "_model_module_version": "1.2.0",
            "_model_name": "LayoutModel",
            "_view_count": null,
            "_view_module": "@jupyter-widgets/base",
            "_view_module_version": "1.2.0",
            "_view_name": "LayoutView",
            "align_content": null,
            "align_items": null,
            "align_self": null,
            "border": null,
            "bottom": null,
            "display": null,
            "flex": null,
            "flex_flow": null,
            "grid_area": null,
            "grid_auto_columns": null,
            "grid_auto_flow": null,
            "grid_auto_rows": null,
            "grid_column": null,
            "grid_gap": null,
            "grid_row": null,
            "grid_template_areas": null,
            "grid_template_columns": null,
            "grid_template_rows": null,
            "height": null,
            "justify_content": null,
            "justify_items": null,
            "left": null,
            "margin": null,
            "max_height": null,
            "max_width": null,
            "min_height": null,
            "min_width": null,
            "object_fit": null,
            "object_position": null,
            "order": null,
            "overflow": null,
            "overflow_x": null,
            "overflow_y": null,
            "padding": null,
            "right": null,
            "top": null,
            "visibility": null,
            "width": null
          }
        },
        "0a04f8f56acd475d8d559be63394d4ac": {
          "model_module": "@jupyter-widgets/controls",
          "model_name": "DescriptionStyleModel",
          "model_module_version": "1.5.0",
          "state": {
            "_model_module": "@jupyter-widgets/controls",
            "_model_module_version": "1.5.0",
            "_model_name": "DescriptionStyleModel",
            "_view_count": null,
            "_view_module": "@jupyter-widgets/base",
            "_view_module_version": "1.2.0",
            "_view_name": "StyleView",
            "description_width": ""
          }
        },
        "727b41c2af4740bcbb4958a26b225ba4": {
          "model_module": "@jupyter-widgets/controls",
          "model_name": "HBoxModel",
          "model_module_version": "1.5.0",
          "state": {
            "_dom_classes": [],
            "_model_module": "@jupyter-widgets/controls",
            "_model_module_version": "1.5.0",
            "_model_name": "HBoxModel",
            "_view_count": null,
            "_view_module": "@jupyter-widgets/controls",
            "_view_module_version": "1.5.0",
            "_view_name": "HBoxView",
            "box_style": "",
            "children": [
              "IPY_MODEL_e9caf04075fc41aca3e6c3696ebae37e",
              "IPY_MODEL_fc8623f828a142c0bc23f1d69a5b9457",
              "IPY_MODEL_25a316018e0c46c08e1a5bf54739c1bd"
            ],
            "layout": "IPY_MODEL_1ebc52ee60e24c23a2bb1d904d5db03b"
          }
        },
        "e9caf04075fc41aca3e6c3696ebae37e": {
          "model_module": "@jupyter-widgets/controls",
          "model_name": "HTMLModel",
          "model_module_version": "1.5.0",
          "state": {
            "_dom_classes": [],
            "_model_module": "@jupyter-widgets/controls",
            "_model_module_version": "1.5.0",
            "_model_name": "HTMLModel",
            "_view_count": null,
            "_view_module": "@jupyter-widgets/controls",
            "_view_module_version": "1.5.0",
            "_view_name": "HTMLView",
            "description": "",
            "description_tooltip": null,
            "layout": "IPY_MODEL_52ede004d3a04463ad3a18e5bc56b0d8",
            "placeholder": "​",
            "style": "IPY_MODEL_fa11ec4d061e4a0d99a627c94cc3f2b3",
            "value": "model.safetensors: 100%"
          }
        },
        "fc8623f828a142c0bc23f1d69a5b9457": {
          "model_module": "@jupyter-widgets/controls",
          "model_name": "FloatProgressModel",
          "model_module_version": "1.5.0",
          "state": {
            "_dom_classes": [],
            "_model_module": "@jupyter-widgets/controls",
            "_model_module_version": "1.5.0",
            "_model_name": "FloatProgressModel",
            "_view_count": null,
            "_view_module": "@jupyter-widgets/controls",
            "_view_module_version": "1.5.0",
            "_view_name": "ProgressView",
            "bar_style": "success",
            "description": "",
            "description_tooltip": null,
            "layout": "IPY_MODEL_a595967bacc64f57917e411062a2b159",
            "max": 440449768,
            "min": 0,
            "orientation": "horizontal",
            "style": "IPY_MODEL_b4c86123778b45bcb31f4e613142da5e",
            "value": 440449768
          }
        },
        "25a316018e0c46c08e1a5bf54739c1bd": {
          "model_module": "@jupyter-widgets/controls",
          "model_name": "HTMLModel",
          "model_module_version": "1.5.0",
          "state": {
            "_dom_classes": [],
            "_model_module": "@jupyter-widgets/controls",
            "_model_module_version": "1.5.0",
            "_model_name": "HTMLModel",
            "_view_count": null,
            "_view_module": "@jupyter-widgets/controls",
            "_view_module_version": "1.5.0",
            "_view_name": "HTMLView",
            "description": "",
            "description_tooltip": null,
            "layout": "IPY_MODEL_d335161e980d464d9ddec49546e22f34",
            "placeholder": "​",
            "style": "IPY_MODEL_0fe092cae1ce44009d117fce59c6c03e",
            "value": " 440M/440M [00:04&lt;00:00, 121MB/s]"
          }
        },
        "1ebc52ee60e24c23a2bb1d904d5db03b": {
          "model_module": "@jupyter-widgets/base",
          "model_name": "LayoutModel",
          "model_module_version": "1.2.0",
          "state": {
            "_model_module": "@jupyter-widgets/base",
            "_model_module_version": "1.2.0",
            "_model_name": "LayoutModel",
            "_view_count": null,
            "_view_module": "@jupyter-widgets/base",
            "_view_module_version": "1.2.0",
            "_view_name": "LayoutView",
            "align_content": null,
            "align_items": null,
            "align_self": null,
            "border": null,
            "bottom": null,
            "display": null,
            "flex": null,
            "flex_flow": null,
            "grid_area": null,
            "grid_auto_columns": null,
            "grid_auto_flow": null,
            "grid_auto_rows": null,
            "grid_column": null,
            "grid_gap": null,
            "grid_row": null,
            "grid_template_areas": null,
            "grid_template_columns": null,
            "grid_template_rows": null,
            "height": null,
            "justify_content": null,
            "justify_items": null,
            "left": null,
            "margin": null,
            "max_height": null,
            "max_width": null,
            "min_height": null,
            "min_width": null,
            "object_fit": null,
            "object_position": null,
            "order": null,
            "overflow": null,
            "overflow_x": null,
            "overflow_y": null,
            "padding": null,
            "right": null,
            "top": null,
            "visibility": null,
            "width": null
          }
        },
        "52ede004d3a04463ad3a18e5bc56b0d8": {
          "model_module": "@jupyter-widgets/base",
          "model_name": "LayoutModel",
          "model_module_version": "1.2.0",
          "state": {
            "_model_module": "@jupyter-widgets/base",
            "_model_module_version": "1.2.0",
            "_model_name": "LayoutModel",
            "_view_count": null,
            "_view_module": "@jupyter-widgets/base",
            "_view_module_version": "1.2.0",
            "_view_name": "LayoutView",
            "align_content": null,
            "align_items": null,
            "align_self": null,
            "border": null,
            "bottom": null,
            "display": null,
            "flex": null,
            "flex_flow": null,
            "grid_area": null,
            "grid_auto_columns": null,
            "grid_auto_flow": null,
            "grid_auto_rows": null,
            "grid_column": null,
            "grid_gap": null,
            "grid_row": null,
            "grid_template_areas": null,
            "grid_template_columns": null,
            "grid_template_rows": null,
            "height": null,
            "justify_content": null,
            "justify_items": null,
            "left": null,
            "margin": null,
            "max_height": null,
            "max_width": null,
            "min_height": null,
            "min_width": null,
            "object_fit": null,
            "object_position": null,
            "order": null,
            "overflow": null,
            "overflow_x": null,
            "overflow_y": null,
            "padding": null,
            "right": null,
            "top": null,
            "visibility": null,
            "width": null
          }
        },
        "fa11ec4d061e4a0d99a627c94cc3f2b3": {
          "model_module": "@jupyter-widgets/controls",
          "model_name": "DescriptionStyleModel",
          "model_module_version": "1.5.0",
          "state": {
            "_model_module": "@jupyter-widgets/controls",
            "_model_module_version": "1.5.0",
            "_model_name": "DescriptionStyleModel",
            "_view_count": null,
            "_view_module": "@jupyter-widgets/base",
            "_view_module_version": "1.2.0",
            "_view_name": "StyleView",
            "description_width": ""
          }
        },
        "a595967bacc64f57917e411062a2b159": {
          "model_module": "@jupyter-widgets/base",
          "model_name": "LayoutModel",
          "model_module_version": "1.2.0",
          "state": {
            "_model_module": "@jupyter-widgets/base",
            "_model_module_version": "1.2.0",
            "_model_name": "LayoutModel",
            "_view_count": null,
            "_view_module": "@jupyter-widgets/base",
            "_view_module_version": "1.2.0",
            "_view_name": "LayoutView",
            "align_content": null,
            "align_items": null,
            "align_self": null,
            "border": null,
            "bottom": null,
            "display": null,
            "flex": null,
            "flex_flow": null,
            "grid_area": null,
            "grid_auto_columns": null,
            "grid_auto_flow": null,
            "grid_auto_rows": null,
            "grid_column": null,
            "grid_gap": null,
            "grid_row": null,
            "grid_template_areas": null,
            "grid_template_columns": null,
            "grid_template_rows": null,
            "height": null,
            "justify_content": null,
            "justify_items": null,
            "left": null,
            "margin": null,
            "max_height": null,
            "max_width": null,
            "min_height": null,
            "min_width": null,
            "object_fit": null,
            "object_position": null,
            "order": null,
            "overflow": null,
            "overflow_x": null,
            "overflow_y": null,
            "padding": null,
            "right": null,
            "top": null,
            "visibility": null,
            "width": null
          }
        },
        "b4c86123778b45bcb31f4e613142da5e": {
          "model_module": "@jupyter-widgets/controls",
          "model_name": "ProgressStyleModel",
          "model_module_version": "1.5.0",
          "state": {
            "_model_module": "@jupyter-widgets/controls",
            "_model_module_version": "1.5.0",
            "_model_name": "ProgressStyleModel",
            "_view_count": null,
            "_view_module": "@jupyter-widgets/base",
            "_view_module_version": "1.2.0",
            "_view_name": "StyleView",
            "bar_color": null,
            "description_width": ""
          }
        },
        "d335161e980d464d9ddec49546e22f34": {
          "model_module": "@jupyter-widgets/base",
          "model_name": "LayoutModel",
          "model_module_version": "1.2.0",
          "state": {
            "_model_module": "@jupyter-widgets/base",
            "_model_module_version": "1.2.0",
            "_model_name": "LayoutModel",
            "_view_count": null,
            "_view_module": "@jupyter-widgets/base",
            "_view_module_version": "1.2.0",
            "_view_name": "LayoutView",
            "align_content": null,
            "align_items": null,
            "align_self": null,
            "border": null,
            "bottom": null,
            "display": null,
            "flex": null,
            "flex_flow": null,
            "grid_area": null,
            "grid_auto_columns": null,
            "grid_auto_flow": null,
            "grid_auto_rows": null,
            "grid_column": null,
            "grid_gap": null,
            "grid_row": null,
            "grid_template_areas": null,
            "grid_template_columns": null,
            "grid_template_rows": null,
            "height": null,
            "justify_content": null,
            "justify_items": null,
            "left": null,
            "margin": null,
            "max_height": null,
            "max_width": null,
            "min_height": null,
            "min_width": null,
            "object_fit": null,
            "object_position": null,
            "order": null,
            "overflow": null,
            "overflow_x": null,
            "overflow_y": null,
            "padding": null,
            "right": null,
            "top": null,
            "visibility": null,
            "width": null
          }
        },
        "0fe092cae1ce44009d117fce59c6c03e": {
          "model_module": "@jupyter-widgets/controls",
          "model_name": "DescriptionStyleModel",
          "model_module_version": "1.5.0",
          "state": {
            "_model_module": "@jupyter-widgets/controls",
            "_model_module_version": "1.5.0",
            "_model_name": "DescriptionStyleModel",
            "_view_count": null,
            "_view_module": "@jupyter-widgets/base",
            "_view_module_version": "1.2.0",
            "_view_name": "StyleView",
            "description_width": ""
          }
        },
        "0d0adf6c286b4e979f7ddc71aa3228cc": {
          "model_module": "@jupyter-widgets/controls",
          "model_name": "HBoxModel",
          "model_module_version": "1.5.0",
          "state": {
            "_dom_classes": [],
            "_model_module": "@jupyter-widgets/controls",
            "_model_module_version": "1.5.0",
            "_model_name": "HBoxModel",
            "_view_count": null,
            "_view_module": "@jupyter-widgets/controls",
            "_view_module_version": "1.5.0",
            "_view_name": "HBoxView",
            "box_style": "",
            "children": [
              "IPY_MODEL_97fe6e2fc0ff45e68d13546fadcb57f1",
              "IPY_MODEL_39ad662c4a1c4fcdb799ac14590d03ff",
              "IPY_MODEL_5217ab3a8fcc4ac6836aba4d60737f5b"
            ],
            "layout": "IPY_MODEL_32ec6011fd444673bce55d754f0a096b"
          }
        },
        "97fe6e2fc0ff45e68d13546fadcb57f1": {
          "model_module": "@jupyter-widgets/controls",
          "model_name": "HTMLModel",
          "model_module_version": "1.5.0",
          "state": {
            "_dom_classes": [],
            "_model_module": "@jupyter-widgets/controls",
            "_model_module_version": "1.5.0",
            "_model_name": "HTMLModel",
            "_view_count": null,
            "_view_module": "@jupyter-widgets/controls",
            "_view_module_version": "1.5.0",
            "_view_name": "HTMLView",
            "description": "",
            "description_tooltip": null,
            "layout": "IPY_MODEL_6d52bb4e234149f2bc3663dfe721a133",
            "placeholder": "​",
            "style": "IPY_MODEL_e5ae0b6463034f5e864027d1c5389973",
            "value": "tokenizer_config.json: 100%"
          }
        },
        "39ad662c4a1c4fcdb799ac14590d03ff": {
          "model_module": "@jupyter-widgets/controls",
          "model_name": "FloatProgressModel",
          "model_module_version": "1.5.0",
          "state": {
            "_dom_classes": [],
            "_model_module": "@jupyter-widgets/controls",
            "_model_module_version": "1.5.0",
            "_model_name": "FloatProgressModel",
            "_view_count": null,
            "_view_module": "@jupyter-widgets/controls",
            "_view_module_version": "1.5.0",
            "_view_name": "ProgressView",
            "bar_style": "success",
            "description": "",
            "description_tooltip": null,
            "layout": "IPY_MODEL_3c2e5afc6bf94060bfe49eb6b7956bb1",
            "max": 48,
            "min": 0,
            "orientation": "horizontal",
            "style": "IPY_MODEL_e7fdc97c7199499e8777bed5f01427c1",
            "value": 48
          }
        },
        "5217ab3a8fcc4ac6836aba4d60737f5b": {
          "model_module": "@jupyter-widgets/controls",
          "model_name": "HTMLModel",
          "model_module_version": "1.5.0",
          "state": {
            "_dom_classes": [],
            "_model_module": "@jupyter-widgets/controls",
            "_model_module_version": "1.5.0",
            "_model_name": "HTMLModel",
            "_view_count": null,
            "_view_module": "@jupyter-widgets/controls",
            "_view_module_version": "1.5.0",
            "_view_name": "HTMLView",
            "description": "",
            "description_tooltip": null,
            "layout": "IPY_MODEL_1514217d5204428491faac9997d4afb6",
            "placeholder": "​",
            "style": "IPY_MODEL_cab004cfaa2f41c791afe2c441680bd6",
            "value": " 48.0/48.0 [00:00&lt;00:00, 1.01kB/s]"
          }
        },
        "32ec6011fd444673bce55d754f0a096b": {
          "model_module": "@jupyter-widgets/base",
          "model_name": "LayoutModel",
          "model_module_version": "1.2.0",
          "state": {
            "_model_module": "@jupyter-widgets/base",
            "_model_module_version": "1.2.0",
            "_model_name": "LayoutModel",
            "_view_count": null,
            "_view_module": "@jupyter-widgets/base",
            "_view_module_version": "1.2.0",
            "_view_name": "LayoutView",
            "align_content": null,
            "align_items": null,
            "align_self": null,
            "border": null,
            "bottom": null,
            "display": null,
            "flex": null,
            "flex_flow": null,
            "grid_area": null,
            "grid_auto_columns": null,
            "grid_auto_flow": null,
            "grid_auto_rows": null,
            "grid_column": null,
            "grid_gap": null,
            "grid_row": null,
            "grid_template_areas": null,
            "grid_template_columns": null,
            "grid_template_rows": null,
            "height": null,
            "justify_content": null,
            "justify_items": null,
            "left": null,
            "margin": null,
            "max_height": null,
            "max_width": null,
            "min_height": null,
            "min_width": null,
            "object_fit": null,
            "object_position": null,
            "order": null,
            "overflow": null,
            "overflow_x": null,
            "overflow_y": null,
            "padding": null,
            "right": null,
            "top": null,
            "visibility": null,
            "width": null
          }
        },
        "6d52bb4e234149f2bc3663dfe721a133": {
          "model_module": "@jupyter-widgets/base",
          "model_name": "LayoutModel",
          "model_module_version": "1.2.0",
          "state": {
            "_model_module": "@jupyter-widgets/base",
            "_model_module_version": "1.2.0",
            "_model_name": "LayoutModel",
            "_view_count": null,
            "_view_module": "@jupyter-widgets/base",
            "_view_module_version": "1.2.0",
            "_view_name": "LayoutView",
            "align_content": null,
            "align_items": null,
            "align_self": null,
            "border": null,
            "bottom": null,
            "display": null,
            "flex": null,
            "flex_flow": null,
            "grid_area": null,
            "grid_auto_columns": null,
            "grid_auto_flow": null,
            "grid_auto_rows": null,
            "grid_column": null,
            "grid_gap": null,
            "grid_row": null,
            "grid_template_areas": null,
            "grid_template_columns": null,
            "grid_template_rows": null,
            "height": null,
            "justify_content": null,
            "justify_items": null,
            "left": null,
            "margin": null,
            "max_height": null,
            "max_width": null,
            "min_height": null,
            "min_width": null,
            "object_fit": null,
            "object_position": null,
            "order": null,
            "overflow": null,
            "overflow_x": null,
            "overflow_y": null,
            "padding": null,
            "right": null,
            "top": null,
            "visibility": null,
            "width": null
          }
        },
        "e5ae0b6463034f5e864027d1c5389973": {
          "model_module": "@jupyter-widgets/controls",
          "model_name": "DescriptionStyleModel",
          "model_module_version": "1.5.0",
          "state": {
            "_model_module": "@jupyter-widgets/controls",
            "_model_module_version": "1.5.0",
            "_model_name": "DescriptionStyleModel",
            "_view_count": null,
            "_view_module": "@jupyter-widgets/base",
            "_view_module_version": "1.2.0",
            "_view_name": "StyleView",
            "description_width": ""
          }
        },
        "3c2e5afc6bf94060bfe49eb6b7956bb1": {
          "model_module": "@jupyter-widgets/base",
          "model_name": "LayoutModel",
          "model_module_version": "1.2.0",
          "state": {
            "_model_module": "@jupyter-widgets/base",
            "_model_module_version": "1.2.0",
            "_model_name": "LayoutModel",
            "_view_count": null,
            "_view_module": "@jupyter-widgets/base",
            "_view_module_version": "1.2.0",
            "_view_name": "LayoutView",
            "align_content": null,
            "align_items": null,
            "align_self": null,
            "border": null,
            "bottom": null,
            "display": null,
            "flex": null,
            "flex_flow": null,
            "grid_area": null,
            "grid_auto_columns": null,
            "grid_auto_flow": null,
            "grid_auto_rows": null,
            "grid_column": null,
            "grid_gap": null,
            "grid_row": null,
            "grid_template_areas": null,
            "grid_template_columns": null,
            "grid_template_rows": null,
            "height": null,
            "justify_content": null,
            "justify_items": null,
            "left": null,
            "margin": null,
            "max_height": null,
            "max_width": null,
            "min_height": null,
            "min_width": null,
            "object_fit": null,
            "object_position": null,
            "order": null,
            "overflow": null,
            "overflow_x": null,
            "overflow_y": null,
            "padding": null,
            "right": null,
            "top": null,
            "visibility": null,
            "width": null
          }
        },
        "e7fdc97c7199499e8777bed5f01427c1": {
          "model_module": "@jupyter-widgets/controls",
          "model_name": "ProgressStyleModel",
          "model_module_version": "1.5.0",
          "state": {
            "_model_module": "@jupyter-widgets/controls",
            "_model_module_version": "1.5.0",
            "_model_name": "ProgressStyleModel",
            "_view_count": null,
            "_view_module": "@jupyter-widgets/base",
            "_view_module_version": "1.2.0",
            "_view_name": "StyleView",
            "bar_color": null,
            "description_width": ""
          }
        },
        "1514217d5204428491faac9997d4afb6": {
          "model_module": "@jupyter-widgets/base",
          "model_name": "LayoutModel",
          "model_module_version": "1.2.0",
          "state": {
            "_model_module": "@jupyter-widgets/base",
            "_model_module_version": "1.2.0",
            "_model_name": "LayoutModel",
            "_view_count": null,
            "_view_module": "@jupyter-widgets/base",
            "_view_module_version": "1.2.0",
            "_view_name": "LayoutView",
            "align_content": null,
            "align_items": null,
            "align_self": null,
            "border": null,
            "bottom": null,
            "display": null,
            "flex": null,
            "flex_flow": null,
            "grid_area": null,
            "grid_auto_columns": null,
            "grid_auto_flow": null,
            "grid_auto_rows": null,
            "grid_column": null,
            "grid_gap": null,
            "grid_row": null,
            "grid_template_areas": null,
            "grid_template_columns": null,
            "grid_template_rows": null,
            "height": null,
            "justify_content": null,
            "justify_items": null,
            "left": null,
            "margin": null,
            "max_height": null,
            "max_width": null,
            "min_height": null,
            "min_width": null,
            "object_fit": null,
            "object_position": null,
            "order": null,
            "overflow": null,
            "overflow_x": null,
            "overflow_y": null,
            "padding": null,
            "right": null,
            "top": null,
            "visibility": null,
            "width": null
          }
        },
        "cab004cfaa2f41c791afe2c441680bd6": {
          "model_module": "@jupyter-widgets/controls",
          "model_name": "DescriptionStyleModel",
          "model_module_version": "1.5.0",
          "state": {
            "_model_module": "@jupyter-widgets/controls",
            "_model_module_version": "1.5.0",
            "_model_name": "DescriptionStyleModel",
            "_view_count": null,
            "_view_module": "@jupyter-widgets/base",
            "_view_module_version": "1.2.0",
            "_view_name": "StyleView",
            "description_width": ""
          }
        },
        "a81d0b2049854497927a17012abc3236": {
          "model_module": "@jupyter-widgets/controls",
          "model_name": "HBoxModel",
          "model_module_version": "1.5.0",
          "state": {
            "_dom_classes": [],
            "_model_module": "@jupyter-widgets/controls",
            "_model_module_version": "1.5.0",
            "_model_name": "HBoxModel",
            "_view_count": null,
            "_view_module": "@jupyter-widgets/controls",
            "_view_module_version": "1.5.0",
            "_view_name": "HBoxView",
            "box_style": "",
            "children": [
              "IPY_MODEL_d445b1b37daf486ab11e3db756aba684",
              "IPY_MODEL_2f9bdbd6f761484f81b2a8e930916446",
              "IPY_MODEL_4f3beb74b41f4809baa1dcc4c3213475"
            ],
            "layout": "IPY_MODEL_6c022d5da0694f59ae98b9e9cf75c97b"
          }
        },
        "d445b1b37daf486ab11e3db756aba684": {
          "model_module": "@jupyter-widgets/controls",
          "model_name": "HTMLModel",
          "model_module_version": "1.5.0",
          "state": {
            "_dom_classes": [],
            "_model_module": "@jupyter-widgets/controls",
            "_model_module_version": "1.5.0",
            "_model_name": "HTMLModel",
            "_view_count": null,
            "_view_module": "@jupyter-widgets/controls",
            "_view_module_version": "1.5.0",
            "_view_name": "HTMLView",
            "description": "",
            "description_tooltip": null,
            "layout": "IPY_MODEL_4dce5ebaded3441bbd183455af1ec6f6",
            "placeholder": "​",
            "style": "IPY_MODEL_0eb65261cad24fbcaae36dc85a55909f",
            "value": "vocab.txt: 100%"
          }
        },
        "2f9bdbd6f761484f81b2a8e930916446": {
          "model_module": "@jupyter-widgets/controls",
          "model_name": "FloatProgressModel",
          "model_module_version": "1.5.0",
          "state": {
            "_dom_classes": [],
            "_model_module": "@jupyter-widgets/controls",
            "_model_module_version": "1.5.0",
            "_model_name": "FloatProgressModel",
            "_view_count": null,
            "_view_module": "@jupyter-widgets/controls",
            "_view_module_version": "1.5.0",
            "_view_name": "ProgressView",
            "bar_style": "success",
            "description": "",
            "description_tooltip": null,
            "layout": "IPY_MODEL_86f757b9861542dca3fbf2a59f1ed8d9",
            "max": 231508,
            "min": 0,
            "orientation": "horizontal",
            "style": "IPY_MODEL_6bca786c685a47ff88f70e679f6f8a42",
            "value": 231508
          }
        },
        "4f3beb74b41f4809baa1dcc4c3213475": {
          "model_module": "@jupyter-widgets/controls",
          "model_name": "HTMLModel",
          "model_module_version": "1.5.0",
          "state": {
            "_dom_classes": [],
            "_model_module": "@jupyter-widgets/controls",
            "_model_module_version": "1.5.0",
            "_model_name": "HTMLModel",
            "_view_count": null,
            "_view_module": "@jupyter-widgets/controls",
            "_view_module_version": "1.5.0",
            "_view_name": "HTMLView",
            "description": "",
            "description_tooltip": null,
            "layout": "IPY_MODEL_a0a38df7db8140bc9a9301591d21acc8",
            "placeholder": "​",
            "style": "IPY_MODEL_f69f9cba6777477abbbcd0325fd61657",
            "value": " 232k/232k [00:00&lt;00:00, 3.48MB/s]"
          }
        },
        "6c022d5da0694f59ae98b9e9cf75c97b": {
          "model_module": "@jupyter-widgets/base",
          "model_name": "LayoutModel",
          "model_module_version": "1.2.0",
          "state": {
            "_model_module": "@jupyter-widgets/base",
            "_model_module_version": "1.2.0",
            "_model_name": "LayoutModel",
            "_view_count": null,
            "_view_module": "@jupyter-widgets/base",
            "_view_module_version": "1.2.0",
            "_view_name": "LayoutView",
            "align_content": null,
            "align_items": null,
            "align_self": null,
            "border": null,
            "bottom": null,
            "display": null,
            "flex": null,
            "flex_flow": null,
            "grid_area": null,
            "grid_auto_columns": null,
            "grid_auto_flow": null,
            "grid_auto_rows": null,
            "grid_column": null,
            "grid_gap": null,
            "grid_row": null,
            "grid_template_areas": null,
            "grid_template_columns": null,
            "grid_template_rows": null,
            "height": null,
            "justify_content": null,
            "justify_items": null,
            "left": null,
            "margin": null,
            "max_height": null,
            "max_width": null,
            "min_height": null,
            "min_width": null,
            "object_fit": null,
            "object_position": null,
            "order": null,
            "overflow": null,
            "overflow_x": null,
            "overflow_y": null,
            "padding": null,
            "right": null,
            "top": null,
            "visibility": null,
            "width": null
          }
        },
        "4dce5ebaded3441bbd183455af1ec6f6": {
          "model_module": "@jupyter-widgets/base",
          "model_name": "LayoutModel",
          "model_module_version": "1.2.0",
          "state": {
            "_model_module": "@jupyter-widgets/base",
            "_model_module_version": "1.2.0",
            "_model_name": "LayoutModel",
            "_view_count": null,
            "_view_module": "@jupyter-widgets/base",
            "_view_module_version": "1.2.0",
            "_view_name": "LayoutView",
            "align_content": null,
            "align_items": null,
            "align_self": null,
            "border": null,
            "bottom": null,
            "display": null,
            "flex": null,
            "flex_flow": null,
            "grid_area": null,
            "grid_auto_columns": null,
            "grid_auto_flow": null,
            "grid_auto_rows": null,
            "grid_column": null,
            "grid_gap": null,
            "grid_row": null,
            "grid_template_areas": null,
            "grid_template_columns": null,
            "grid_template_rows": null,
            "height": null,
            "justify_content": null,
            "justify_items": null,
            "left": null,
            "margin": null,
            "max_height": null,
            "max_width": null,
            "min_height": null,
            "min_width": null,
            "object_fit": null,
            "object_position": null,
            "order": null,
            "overflow": null,
            "overflow_x": null,
            "overflow_y": null,
            "padding": null,
            "right": null,
            "top": null,
            "visibility": null,
            "width": null
          }
        },
        "0eb65261cad24fbcaae36dc85a55909f": {
          "model_module": "@jupyter-widgets/controls",
          "model_name": "DescriptionStyleModel",
          "model_module_version": "1.5.0",
          "state": {
            "_model_module": "@jupyter-widgets/controls",
            "_model_module_version": "1.5.0",
            "_model_name": "DescriptionStyleModel",
            "_view_count": null,
            "_view_module": "@jupyter-widgets/base",
            "_view_module_version": "1.2.0",
            "_view_name": "StyleView",
            "description_width": ""
          }
        },
        "86f757b9861542dca3fbf2a59f1ed8d9": {
          "model_module": "@jupyter-widgets/base",
          "model_name": "LayoutModel",
          "model_module_version": "1.2.0",
          "state": {
            "_model_module": "@jupyter-widgets/base",
            "_model_module_version": "1.2.0",
            "_model_name": "LayoutModel",
            "_view_count": null,
            "_view_module": "@jupyter-widgets/base",
            "_view_module_version": "1.2.0",
            "_view_name": "LayoutView",
            "align_content": null,
            "align_items": null,
            "align_self": null,
            "border": null,
            "bottom": null,
            "display": null,
            "flex": null,
            "flex_flow": null,
            "grid_area": null,
            "grid_auto_columns": null,
            "grid_auto_flow": null,
            "grid_auto_rows": null,
            "grid_column": null,
            "grid_gap": null,
            "grid_row": null,
            "grid_template_areas": null,
            "grid_template_columns": null,
            "grid_template_rows": null,
            "height": null,
            "justify_content": null,
            "justify_items": null,
            "left": null,
            "margin": null,
            "max_height": null,
            "max_width": null,
            "min_height": null,
            "min_width": null,
            "object_fit": null,
            "object_position": null,
            "order": null,
            "overflow": null,
            "overflow_x": null,
            "overflow_y": null,
            "padding": null,
            "right": null,
            "top": null,
            "visibility": null,
            "width": null
          }
        },
        "6bca786c685a47ff88f70e679f6f8a42": {
          "model_module": "@jupyter-widgets/controls",
          "model_name": "ProgressStyleModel",
          "model_module_version": "1.5.0",
          "state": {
            "_model_module": "@jupyter-widgets/controls",
            "_model_module_version": "1.5.0",
            "_model_name": "ProgressStyleModel",
            "_view_count": null,
            "_view_module": "@jupyter-widgets/base",
            "_view_module_version": "1.2.0",
            "_view_name": "StyleView",
            "bar_color": null,
            "description_width": ""
          }
        },
        "a0a38df7db8140bc9a9301591d21acc8": {
          "model_module": "@jupyter-widgets/base",
          "model_name": "LayoutModel",
          "model_module_version": "1.2.0",
          "state": {
            "_model_module": "@jupyter-widgets/base",
            "_model_module_version": "1.2.0",
            "_model_name": "LayoutModel",
            "_view_count": null,
            "_view_module": "@jupyter-widgets/base",
            "_view_module_version": "1.2.0",
            "_view_name": "LayoutView",
            "align_content": null,
            "align_items": null,
            "align_self": null,
            "border": null,
            "bottom": null,
            "display": null,
            "flex": null,
            "flex_flow": null,
            "grid_area": null,
            "grid_auto_columns": null,
            "grid_auto_flow": null,
            "grid_auto_rows": null,
            "grid_column": null,
            "grid_gap": null,
            "grid_row": null,
            "grid_template_areas": null,
            "grid_template_columns": null,
            "grid_template_rows": null,
            "height": null,
            "justify_content": null,
            "justify_items": null,
            "left": null,
            "margin": null,
            "max_height": null,
            "max_width": null,
            "min_height": null,
            "min_width": null,
            "object_fit": null,
            "object_position": null,
            "order": null,
            "overflow": null,
            "overflow_x": null,
            "overflow_y": null,
            "padding": null,
            "right": null,
            "top": null,
            "visibility": null,
            "width": null
          }
        },
        "f69f9cba6777477abbbcd0325fd61657": {
          "model_module": "@jupyter-widgets/controls",
          "model_name": "DescriptionStyleModel",
          "model_module_version": "1.5.0",
          "state": {
            "_model_module": "@jupyter-widgets/controls",
            "_model_module_version": "1.5.0",
            "_model_name": "DescriptionStyleModel",
            "_view_count": null,
            "_view_module": "@jupyter-widgets/base",
            "_view_module_version": "1.2.0",
            "_view_name": "StyleView",
            "description_width": ""
          }
        },
        "b331176e1d3c40cbb9915451561e0298": {
          "model_module": "@jupyter-widgets/controls",
          "model_name": "HBoxModel",
          "model_module_version": "1.5.0",
          "state": {
            "_dom_classes": [],
            "_model_module": "@jupyter-widgets/controls",
            "_model_module_version": "1.5.0",
            "_model_name": "HBoxModel",
            "_view_count": null,
            "_view_module": "@jupyter-widgets/controls",
            "_view_module_version": "1.5.0",
            "_view_name": "HBoxView",
            "box_style": "",
            "children": [
              "IPY_MODEL_21a4b681c5c34d2aaedb3a6bfc076030",
              "IPY_MODEL_83d28926e90240e492b620fe5cefcb1a",
              "IPY_MODEL_c1cf573862ad4194bb639e871c8dddea"
            ],
            "layout": "IPY_MODEL_85bff4f63d0049e39452a28ad55d993a"
          }
        },
        "21a4b681c5c34d2aaedb3a6bfc076030": {
          "model_module": "@jupyter-widgets/controls",
          "model_name": "HTMLModel",
          "model_module_version": "1.5.0",
          "state": {
            "_dom_classes": [],
            "_model_module": "@jupyter-widgets/controls",
            "_model_module_version": "1.5.0",
            "_model_name": "HTMLModel",
            "_view_count": null,
            "_view_module": "@jupyter-widgets/controls",
            "_view_module_version": "1.5.0",
            "_view_name": "HTMLView",
            "description": "",
            "description_tooltip": null,
            "layout": "IPY_MODEL_8fd71338a7a14718a818ad469daab036",
            "placeholder": "​",
            "style": "IPY_MODEL_5a6efc4e1a5d43cb8923e2faf94373a7",
            "value": "tokenizer.json: 100%"
          }
        },
        "83d28926e90240e492b620fe5cefcb1a": {
          "model_module": "@jupyter-widgets/controls",
          "model_name": "FloatProgressModel",
          "model_module_version": "1.5.0",
          "state": {
            "_dom_classes": [],
            "_model_module": "@jupyter-widgets/controls",
            "_model_module_version": "1.5.0",
            "_model_name": "FloatProgressModel",
            "_view_count": null,
            "_view_module": "@jupyter-widgets/controls",
            "_view_module_version": "1.5.0",
            "_view_name": "ProgressView",
            "bar_style": "success",
            "description": "",
            "description_tooltip": null,
            "layout": "IPY_MODEL_87e58565b4c64f73969e16c2ead83bff",
            "max": 466062,
            "min": 0,
            "orientation": "horizontal",
            "style": "IPY_MODEL_ab2d10bda545481bace48910cefb9989",
            "value": 466062
          }
        },
        "c1cf573862ad4194bb639e871c8dddea": {
          "model_module": "@jupyter-widgets/controls",
          "model_name": "HTMLModel",
          "model_module_version": "1.5.0",
          "state": {
            "_dom_classes": [],
            "_model_module": "@jupyter-widgets/controls",
            "_model_module_version": "1.5.0",
            "_model_name": "HTMLModel",
            "_view_count": null,
            "_view_module": "@jupyter-widgets/controls",
            "_view_module_version": "1.5.0",
            "_view_name": "HTMLView",
            "description": "",
            "description_tooltip": null,
            "layout": "IPY_MODEL_3bb685fb2f1c4746b5de1f8e31ad7701",
            "placeholder": "​",
            "style": "IPY_MODEL_5e6e5c28e90c4c6eac0ea24e3afce982",
            "value": " 466k/466k [00:00&lt;00:00, 15.4MB/s]"
          }
        },
        "85bff4f63d0049e39452a28ad55d993a": {
          "model_module": "@jupyter-widgets/base",
          "model_name": "LayoutModel",
          "model_module_version": "1.2.0",
          "state": {
            "_model_module": "@jupyter-widgets/base",
            "_model_module_version": "1.2.0",
            "_model_name": "LayoutModel",
            "_view_count": null,
            "_view_module": "@jupyter-widgets/base",
            "_view_module_version": "1.2.0",
            "_view_name": "LayoutView",
            "align_content": null,
            "align_items": null,
            "align_self": null,
            "border": null,
            "bottom": null,
            "display": null,
            "flex": null,
            "flex_flow": null,
            "grid_area": null,
            "grid_auto_columns": null,
            "grid_auto_flow": null,
            "grid_auto_rows": null,
            "grid_column": null,
            "grid_gap": null,
            "grid_row": null,
            "grid_template_areas": null,
            "grid_template_columns": null,
            "grid_template_rows": null,
            "height": null,
            "justify_content": null,
            "justify_items": null,
            "left": null,
            "margin": null,
            "max_height": null,
            "max_width": null,
            "min_height": null,
            "min_width": null,
            "object_fit": null,
            "object_position": null,
            "order": null,
            "overflow": null,
            "overflow_x": null,
            "overflow_y": null,
            "padding": null,
            "right": null,
            "top": null,
            "visibility": null,
            "width": null
          }
        },
        "8fd71338a7a14718a818ad469daab036": {
          "model_module": "@jupyter-widgets/base",
          "model_name": "LayoutModel",
          "model_module_version": "1.2.0",
          "state": {
            "_model_module": "@jupyter-widgets/base",
            "_model_module_version": "1.2.0",
            "_model_name": "LayoutModel",
            "_view_count": null,
            "_view_module": "@jupyter-widgets/base",
            "_view_module_version": "1.2.0",
            "_view_name": "LayoutView",
            "align_content": null,
            "align_items": null,
            "align_self": null,
            "border": null,
            "bottom": null,
            "display": null,
            "flex": null,
            "flex_flow": null,
            "grid_area": null,
            "grid_auto_columns": null,
            "grid_auto_flow": null,
            "grid_auto_rows": null,
            "grid_column": null,
            "grid_gap": null,
            "grid_row": null,
            "grid_template_areas": null,
            "grid_template_columns": null,
            "grid_template_rows": null,
            "height": null,
            "justify_content": null,
            "justify_items": null,
            "left": null,
            "margin": null,
            "max_height": null,
            "max_width": null,
            "min_height": null,
            "min_width": null,
            "object_fit": null,
            "object_position": null,
            "order": null,
            "overflow": null,
            "overflow_x": null,
            "overflow_y": null,
            "padding": null,
            "right": null,
            "top": null,
            "visibility": null,
            "width": null
          }
        },
        "5a6efc4e1a5d43cb8923e2faf94373a7": {
          "model_module": "@jupyter-widgets/controls",
          "model_name": "DescriptionStyleModel",
          "model_module_version": "1.5.0",
          "state": {
            "_model_module": "@jupyter-widgets/controls",
            "_model_module_version": "1.5.0",
            "_model_name": "DescriptionStyleModel",
            "_view_count": null,
            "_view_module": "@jupyter-widgets/base",
            "_view_module_version": "1.2.0",
            "_view_name": "StyleView",
            "description_width": ""
          }
        },
        "87e58565b4c64f73969e16c2ead83bff": {
          "model_module": "@jupyter-widgets/base",
          "model_name": "LayoutModel",
          "model_module_version": "1.2.0",
          "state": {
            "_model_module": "@jupyter-widgets/base",
            "_model_module_version": "1.2.0",
            "_model_name": "LayoutModel",
            "_view_count": null,
            "_view_module": "@jupyter-widgets/base",
            "_view_module_version": "1.2.0",
            "_view_name": "LayoutView",
            "align_content": null,
            "align_items": null,
            "align_self": null,
            "border": null,
            "bottom": null,
            "display": null,
            "flex": null,
            "flex_flow": null,
            "grid_area": null,
            "grid_auto_columns": null,
            "grid_auto_flow": null,
            "grid_auto_rows": null,
            "grid_column": null,
            "grid_gap": null,
            "grid_row": null,
            "grid_template_areas": null,
            "grid_template_columns": null,
            "grid_template_rows": null,
            "height": null,
            "justify_content": null,
            "justify_items": null,
            "left": null,
            "margin": null,
            "max_height": null,
            "max_width": null,
            "min_height": null,
            "min_width": null,
            "object_fit": null,
            "object_position": null,
            "order": null,
            "overflow": null,
            "overflow_x": null,
            "overflow_y": null,
            "padding": null,
            "right": null,
            "top": null,
            "visibility": null,
            "width": null
          }
        },
        "ab2d10bda545481bace48910cefb9989": {
          "model_module": "@jupyter-widgets/controls",
          "model_name": "ProgressStyleModel",
          "model_module_version": "1.5.0",
          "state": {
            "_model_module": "@jupyter-widgets/controls",
            "_model_module_version": "1.5.0",
            "_model_name": "ProgressStyleModel",
            "_view_count": null,
            "_view_module": "@jupyter-widgets/base",
            "_view_module_version": "1.2.0",
            "_view_name": "StyleView",
            "bar_color": null,
            "description_width": ""
          }
        },
        "3bb685fb2f1c4746b5de1f8e31ad7701": {
          "model_module": "@jupyter-widgets/base",
          "model_name": "LayoutModel",
          "model_module_version": "1.2.0",
          "state": {
            "_model_module": "@jupyter-widgets/base",
            "_model_module_version": "1.2.0",
            "_model_name": "LayoutModel",
            "_view_count": null,
            "_view_module": "@jupyter-widgets/base",
            "_view_module_version": "1.2.0",
            "_view_name": "LayoutView",
            "align_content": null,
            "align_items": null,
            "align_self": null,
            "border": null,
            "bottom": null,
            "display": null,
            "flex": null,
            "flex_flow": null,
            "grid_area": null,
            "grid_auto_columns": null,
            "grid_auto_flow": null,
            "grid_auto_rows": null,
            "grid_column": null,
            "grid_gap": null,
            "grid_row": null,
            "grid_template_areas": null,
            "grid_template_columns": null,
            "grid_template_rows": null,
            "height": null,
            "justify_content": null,
            "justify_items": null,
            "left": null,
            "margin": null,
            "max_height": null,
            "max_width": null,
            "min_height": null,
            "min_width": null,
            "object_fit": null,
            "object_position": null,
            "order": null,
            "overflow": null,
            "overflow_x": null,
            "overflow_y": null,
            "padding": null,
            "right": null,
            "top": null,
            "visibility": null,
            "width": null
          }
        },
        "5e6e5c28e90c4c6eac0ea24e3afce982": {
          "model_module": "@jupyter-widgets/controls",
          "model_name": "DescriptionStyleModel",
          "model_module_version": "1.5.0",
          "state": {
            "_model_module": "@jupyter-widgets/controls",
            "_model_module_version": "1.5.0",
            "_model_name": "DescriptionStyleModel",
            "_view_count": null,
            "_view_module": "@jupyter-widgets/base",
            "_view_module_version": "1.2.0",
            "_view_name": "StyleView",
            "description_width": ""
          }
        },
        "f0aa0936e2ff4ec7b39f7531c23f3b44": {
          "model_module": "@jupyter-widgets/controls",
          "model_name": "HBoxModel",
          "model_module_version": "1.5.0",
          "state": {
            "_dom_classes": [],
            "_model_module": "@jupyter-widgets/controls",
            "_model_module_version": "1.5.0",
            "_model_name": "HBoxModel",
            "_view_count": null,
            "_view_module": "@jupyter-widgets/controls",
            "_view_module_version": "1.5.0",
            "_view_name": "HBoxView",
            "box_style": "",
            "children": [
              "IPY_MODEL_499afcd96c844fe7b38d49da26e2a4bd",
              "IPY_MODEL_9d64ec40f613485a92d4cb32548fa17c",
              "IPY_MODEL_198147a8924a4d5f935d7c139383669e"
            ],
            "layout": "IPY_MODEL_53d534707c104f2b915886ac86e9864f"
          }
        },
        "499afcd96c844fe7b38d49da26e2a4bd": {
          "model_module": "@jupyter-widgets/controls",
          "model_name": "HTMLModel",
          "model_module_version": "1.5.0",
          "state": {
            "_dom_classes": [],
            "_model_module": "@jupyter-widgets/controls",
            "_model_module_version": "1.5.0",
            "_model_name": "HTMLModel",
            "_view_count": null,
            "_view_module": "@jupyter-widgets/controls",
            "_view_module_version": "1.5.0",
            "_view_name": "HTMLView",
            "description": "",
            "description_tooltip": null,
            "layout": "IPY_MODEL_fd590248d2a54b54b398c115a32c2c51",
            "placeholder": "​",
            "style": "IPY_MODEL_6bd96582c10747c8a6e8a8e1eebd1fa3",
            "value": "Map: 100%"
          }
        },
        "9d64ec40f613485a92d4cb32548fa17c": {
          "model_module": "@jupyter-widgets/controls",
          "model_name": "FloatProgressModel",
          "model_module_version": "1.5.0",
          "state": {
            "_dom_classes": [],
            "_model_module": "@jupyter-widgets/controls",
            "_model_module_version": "1.5.0",
            "_model_name": "FloatProgressModel",
            "_view_count": null,
            "_view_module": "@jupyter-widgets/controls",
            "_view_module_version": "1.5.0",
            "_view_name": "ProgressView",
            "bar_style": "success",
            "description": "",
            "description_tooltip": null,
            "layout": "IPY_MODEL_2dec983063df4dfca1d07474b8cb833f",
            "max": 10211,
            "min": 0,
            "orientation": "horizontal",
            "style": "IPY_MODEL_2305c17111104daf8ec960c75fb4bda8",
            "value": 10211
          }
        },
        "198147a8924a4d5f935d7c139383669e": {
          "model_module": "@jupyter-widgets/controls",
          "model_name": "HTMLModel",
          "model_module_version": "1.5.0",
          "state": {
            "_dom_classes": [],
            "_model_module": "@jupyter-widgets/controls",
            "_model_module_version": "1.5.0",
            "_model_name": "HTMLModel",
            "_view_count": null,
            "_view_module": "@jupyter-widgets/controls",
            "_view_module_version": "1.5.0",
            "_view_name": "HTMLView",
            "description": "",
            "description_tooltip": null,
            "layout": "IPY_MODEL_65e5e4b9ec274fe4bcc4f99da0ba4a0e",
            "placeholder": "​",
            "style": "IPY_MODEL_3a9cf5815fb44a299181b410aa61478c",
            "value": " 10211/10211 [00:01&lt;00:00, 10317.42 examples/s]"
          }
        },
        "53d534707c104f2b915886ac86e9864f": {
          "model_module": "@jupyter-widgets/base",
          "model_name": "LayoutModel",
          "model_module_version": "1.2.0",
          "state": {
            "_model_module": "@jupyter-widgets/base",
            "_model_module_version": "1.2.0",
            "_model_name": "LayoutModel",
            "_view_count": null,
            "_view_module": "@jupyter-widgets/base",
            "_view_module_version": "1.2.0",
            "_view_name": "LayoutView",
            "align_content": null,
            "align_items": null,
            "align_self": null,
            "border": null,
            "bottom": null,
            "display": null,
            "flex": null,
            "flex_flow": null,
            "grid_area": null,
            "grid_auto_columns": null,
            "grid_auto_flow": null,
            "grid_auto_rows": null,
            "grid_column": null,
            "grid_gap": null,
            "grid_row": null,
            "grid_template_areas": null,
            "grid_template_columns": null,
            "grid_template_rows": null,
            "height": null,
            "justify_content": null,
            "justify_items": null,
            "left": null,
            "margin": null,
            "max_height": null,
            "max_width": null,
            "min_height": null,
            "min_width": null,
            "object_fit": null,
            "object_position": null,
            "order": null,
            "overflow": null,
            "overflow_x": null,
            "overflow_y": null,
            "padding": null,
            "right": null,
            "top": null,
            "visibility": null,
            "width": null
          }
        },
        "fd590248d2a54b54b398c115a32c2c51": {
          "model_module": "@jupyter-widgets/base",
          "model_name": "LayoutModel",
          "model_module_version": "1.2.0",
          "state": {
            "_model_module": "@jupyter-widgets/base",
            "_model_module_version": "1.2.0",
            "_model_name": "LayoutModel",
            "_view_count": null,
            "_view_module": "@jupyter-widgets/base",
            "_view_module_version": "1.2.0",
            "_view_name": "LayoutView",
            "align_content": null,
            "align_items": null,
            "align_self": null,
            "border": null,
            "bottom": null,
            "display": null,
            "flex": null,
            "flex_flow": null,
            "grid_area": null,
            "grid_auto_columns": null,
            "grid_auto_flow": null,
            "grid_auto_rows": null,
            "grid_column": null,
            "grid_gap": null,
            "grid_row": null,
            "grid_template_areas": null,
            "grid_template_columns": null,
            "grid_template_rows": null,
            "height": null,
            "justify_content": null,
            "justify_items": null,
            "left": null,
            "margin": null,
            "max_height": null,
            "max_width": null,
            "min_height": null,
            "min_width": null,
            "object_fit": null,
            "object_position": null,
            "order": null,
            "overflow": null,
            "overflow_x": null,
            "overflow_y": null,
            "padding": null,
            "right": null,
            "top": null,
            "visibility": null,
            "width": null
          }
        },
        "6bd96582c10747c8a6e8a8e1eebd1fa3": {
          "model_module": "@jupyter-widgets/controls",
          "model_name": "DescriptionStyleModel",
          "model_module_version": "1.5.0",
          "state": {
            "_model_module": "@jupyter-widgets/controls",
            "_model_module_version": "1.5.0",
            "_model_name": "DescriptionStyleModel",
            "_view_count": null,
            "_view_module": "@jupyter-widgets/base",
            "_view_module_version": "1.2.0",
            "_view_name": "StyleView",
            "description_width": ""
          }
        },
        "2dec983063df4dfca1d07474b8cb833f": {
          "model_module": "@jupyter-widgets/base",
          "model_name": "LayoutModel",
          "model_module_version": "1.2.0",
          "state": {
            "_model_module": "@jupyter-widgets/base",
            "_model_module_version": "1.2.0",
            "_model_name": "LayoutModel",
            "_view_count": null,
            "_view_module": "@jupyter-widgets/base",
            "_view_module_version": "1.2.0",
            "_view_name": "LayoutView",
            "align_content": null,
            "align_items": null,
            "align_self": null,
            "border": null,
            "bottom": null,
            "display": null,
            "flex": null,
            "flex_flow": null,
            "grid_area": null,
            "grid_auto_columns": null,
            "grid_auto_flow": null,
            "grid_auto_rows": null,
            "grid_column": null,
            "grid_gap": null,
            "grid_row": null,
            "grid_template_areas": null,
            "grid_template_columns": null,
            "grid_template_rows": null,
            "height": null,
            "justify_content": null,
            "justify_items": null,
            "left": null,
            "margin": null,
            "max_height": null,
            "max_width": null,
            "min_height": null,
            "min_width": null,
            "object_fit": null,
            "object_position": null,
            "order": null,
            "overflow": null,
            "overflow_x": null,
            "overflow_y": null,
            "padding": null,
            "right": null,
            "top": null,
            "visibility": null,
            "width": null
          }
        },
        "2305c17111104daf8ec960c75fb4bda8": {
          "model_module": "@jupyter-widgets/controls",
          "model_name": "ProgressStyleModel",
          "model_module_version": "1.5.0",
          "state": {
            "_model_module": "@jupyter-widgets/controls",
            "_model_module_version": "1.5.0",
            "_model_name": "ProgressStyleModel",
            "_view_count": null,
            "_view_module": "@jupyter-widgets/base",
            "_view_module_version": "1.2.0",
            "_view_name": "StyleView",
            "bar_color": null,
            "description_width": ""
          }
        },
        "65e5e4b9ec274fe4bcc4f99da0ba4a0e": {
          "model_module": "@jupyter-widgets/base",
          "model_name": "LayoutModel",
          "model_module_version": "1.2.0",
          "state": {
            "_model_module": "@jupyter-widgets/base",
            "_model_module_version": "1.2.0",
            "_model_name": "LayoutModel",
            "_view_count": null,
            "_view_module": "@jupyter-widgets/base",
            "_view_module_version": "1.2.0",
            "_view_name": "LayoutView",
            "align_content": null,
            "align_items": null,
            "align_self": null,
            "border": null,
            "bottom": null,
            "display": null,
            "flex": null,
            "flex_flow": null,
            "grid_area": null,
            "grid_auto_columns": null,
            "grid_auto_flow": null,
            "grid_auto_rows": null,
            "grid_column": null,
            "grid_gap": null,
            "grid_row": null,
            "grid_template_areas": null,
            "grid_template_columns": null,
            "grid_template_rows": null,
            "height": null,
            "justify_content": null,
            "justify_items": null,
            "left": null,
            "margin": null,
            "max_height": null,
            "max_width": null,
            "min_height": null,
            "min_width": null,
            "object_fit": null,
            "object_position": null,
            "order": null,
            "overflow": null,
            "overflow_x": null,
            "overflow_y": null,
            "padding": null,
            "right": null,
            "top": null,
            "visibility": null,
            "width": null
          }
        },
        "3a9cf5815fb44a299181b410aa61478c": {
          "model_module": "@jupyter-widgets/controls",
          "model_name": "DescriptionStyleModel",
          "model_module_version": "1.5.0",
          "state": {
            "_model_module": "@jupyter-widgets/controls",
            "_model_module_version": "1.5.0",
            "_model_name": "DescriptionStyleModel",
            "_view_count": null,
            "_view_module": "@jupyter-widgets/base",
            "_view_module_version": "1.2.0",
            "_view_name": "StyleView",
            "description_width": ""
          }
        },
        "d86cd0f078ba4f8eb8abc4e6fd6dbf15": {
          "model_module": "@jupyter-widgets/controls",
          "model_name": "HBoxModel",
          "model_module_version": "1.5.0",
          "state": {
            "_dom_classes": [],
            "_model_module": "@jupyter-widgets/controls",
            "_model_module_version": "1.5.0",
            "_model_name": "HBoxModel",
            "_view_count": null,
            "_view_module": "@jupyter-widgets/controls",
            "_view_module_version": "1.5.0",
            "_view_name": "HBoxView",
            "box_style": "",
            "children": [
              "IPY_MODEL_af9898e33fef4cd0a8533c0b1146208f",
              "IPY_MODEL_d8aea7bc06b64d32b1376d600b7610d1",
              "IPY_MODEL_7c31313b1001483dac5df17d4dfec774"
            ],
            "layout": "IPY_MODEL_5105aa9136a143648fca9b19bc881f38"
          }
        },
        "af9898e33fef4cd0a8533c0b1146208f": {
          "model_module": "@jupyter-widgets/controls",
          "model_name": "HTMLModel",
          "model_module_version": "1.5.0",
          "state": {
            "_dom_classes": [],
            "_model_module": "@jupyter-widgets/controls",
            "_model_module_version": "1.5.0",
            "_model_name": "HTMLModel",
            "_view_count": null,
            "_view_module": "@jupyter-widgets/controls",
            "_view_module_version": "1.5.0",
            "_view_name": "HTMLView",
            "description": "",
            "description_tooltip": null,
            "layout": "IPY_MODEL_d96f548e992c40f8b768ebe5a77d8ff6",
            "placeholder": "​",
            "style": "IPY_MODEL_08302df6172a46b3a9b7673b559ac87d",
            "value": "Downloading builder script: 100%"
          }
        },
        "d8aea7bc06b64d32b1376d600b7610d1": {
          "model_module": "@jupyter-widgets/controls",
          "model_name": "FloatProgressModel",
          "model_module_version": "1.5.0",
          "state": {
            "_dom_classes": [],
            "_model_module": "@jupyter-widgets/controls",
            "_model_module_version": "1.5.0",
            "_model_name": "FloatProgressModel",
            "_view_count": null,
            "_view_module": "@jupyter-widgets/controls",
            "_view_module_version": "1.5.0",
            "_view_name": "ProgressView",
            "bar_style": "success",
            "description": "",
            "description_tooltip": null,
            "layout": "IPY_MODEL_804b301b00f244eda4b79641714d2893",
            "max": 4203,
            "min": 0,
            "orientation": "horizontal",
            "style": "IPY_MODEL_b2830d4fed6046619f6ea94971d526a3",
            "value": 4203
          }
        },
        "7c31313b1001483dac5df17d4dfec774": {
          "model_module": "@jupyter-widgets/controls",
          "model_name": "HTMLModel",
          "model_module_version": "1.5.0",
          "state": {
            "_dom_classes": [],
            "_model_module": "@jupyter-widgets/controls",
            "_model_module_version": "1.5.0",
            "_model_name": "HTMLModel",
            "_view_count": null,
            "_view_module": "@jupyter-widgets/controls",
            "_view_module_version": "1.5.0",
            "_view_name": "HTMLView",
            "description": "",
            "description_tooltip": null,
            "layout": "IPY_MODEL_95f24ddff3ae42889eda523daa4425d3",
            "placeholder": "​",
            "style": "IPY_MODEL_82c4e225217d4e7381f192c33efb5691",
            "value": " 4.20k/4.20k [00:00&lt;00:00, 222kB/s]"
          }
        },
        "5105aa9136a143648fca9b19bc881f38": {
          "model_module": "@jupyter-widgets/base",
          "model_name": "LayoutModel",
          "model_module_version": "1.2.0",
          "state": {
            "_model_module": "@jupyter-widgets/base",
            "_model_module_version": "1.2.0",
            "_model_name": "LayoutModel",
            "_view_count": null,
            "_view_module": "@jupyter-widgets/base",
            "_view_module_version": "1.2.0",
            "_view_name": "LayoutView",
            "align_content": null,
            "align_items": null,
            "align_self": null,
            "border": null,
            "bottom": null,
            "display": null,
            "flex": null,
            "flex_flow": null,
            "grid_area": null,
            "grid_auto_columns": null,
            "grid_auto_flow": null,
            "grid_auto_rows": null,
            "grid_column": null,
            "grid_gap": null,
            "grid_row": null,
            "grid_template_areas": null,
            "grid_template_columns": null,
            "grid_template_rows": null,
            "height": null,
            "justify_content": null,
            "justify_items": null,
            "left": null,
            "margin": null,
            "max_height": null,
            "max_width": null,
            "min_height": null,
            "min_width": null,
            "object_fit": null,
            "object_position": null,
            "order": null,
            "overflow": null,
            "overflow_x": null,
            "overflow_y": null,
            "padding": null,
            "right": null,
            "top": null,
            "visibility": null,
            "width": null
          }
        },
        "d96f548e992c40f8b768ebe5a77d8ff6": {
          "model_module": "@jupyter-widgets/base",
          "model_name": "LayoutModel",
          "model_module_version": "1.2.0",
          "state": {
            "_model_module": "@jupyter-widgets/base",
            "_model_module_version": "1.2.0",
            "_model_name": "LayoutModel",
            "_view_count": null,
            "_view_module": "@jupyter-widgets/base",
            "_view_module_version": "1.2.0",
            "_view_name": "LayoutView",
            "align_content": null,
            "align_items": null,
            "align_self": null,
            "border": null,
            "bottom": null,
            "display": null,
            "flex": null,
            "flex_flow": null,
            "grid_area": null,
            "grid_auto_columns": null,
            "grid_auto_flow": null,
            "grid_auto_rows": null,
            "grid_column": null,
            "grid_gap": null,
            "grid_row": null,
            "grid_template_areas": null,
            "grid_template_columns": null,
            "grid_template_rows": null,
            "height": null,
            "justify_content": null,
            "justify_items": null,
            "left": null,
            "margin": null,
            "max_height": null,
            "max_width": null,
            "min_height": null,
            "min_width": null,
            "object_fit": null,
            "object_position": null,
            "order": null,
            "overflow": null,
            "overflow_x": null,
            "overflow_y": null,
            "padding": null,
            "right": null,
            "top": null,
            "visibility": null,
            "width": null
          }
        },
        "08302df6172a46b3a9b7673b559ac87d": {
          "model_module": "@jupyter-widgets/controls",
          "model_name": "DescriptionStyleModel",
          "model_module_version": "1.5.0",
          "state": {
            "_model_module": "@jupyter-widgets/controls",
            "_model_module_version": "1.5.0",
            "_model_name": "DescriptionStyleModel",
            "_view_count": null,
            "_view_module": "@jupyter-widgets/base",
            "_view_module_version": "1.2.0",
            "_view_name": "StyleView",
            "description_width": ""
          }
        },
        "804b301b00f244eda4b79641714d2893": {
          "model_module": "@jupyter-widgets/base",
          "model_name": "LayoutModel",
          "model_module_version": "1.2.0",
          "state": {
            "_model_module": "@jupyter-widgets/base",
            "_model_module_version": "1.2.0",
            "_model_name": "LayoutModel",
            "_view_count": null,
            "_view_module": "@jupyter-widgets/base",
            "_view_module_version": "1.2.0",
            "_view_name": "LayoutView",
            "align_content": null,
            "align_items": null,
            "align_self": null,
            "border": null,
            "bottom": null,
            "display": null,
            "flex": null,
            "flex_flow": null,
            "grid_area": null,
            "grid_auto_columns": null,
            "grid_auto_flow": null,
            "grid_auto_rows": null,
            "grid_column": null,
            "grid_gap": null,
            "grid_row": null,
            "grid_template_areas": null,
            "grid_template_columns": null,
            "grid_template_rows": null,
            "height": null,
            "justify_content": null,
            "justify_items": null,
            "left": null,
            "margin": null,
            "max_height": null,
            "max_width": null,
            "min_height": null,
            "min_width": null,
            "object_fit": null,
            "object_position": null,
            "order": null,
            "overflow": null,
            "overflow_x": null,
            "overflow_y": null,
            "padding": null,
            "right": null,
            "top": null,
            "visibility": null,
            "width": null
          }
        },
        "b2830d4fed6046619f6ea94971d526a3": {
          "model_module": "@jupyter-widgets/controls",
          "model_name": "ProgressStyleModel",
          "model_module_version": "1.5.0",
          "state": {
            "_model_module": "@jupyter-widgets/controls",
            "_model_module_version": "1.5.0",
            "_model_name": "ProgressStyleModel",
            "_view_count": null,
            "_view_module": "@jupyter-widgets/base",
            "_view_module_version": "1.2.0",
            "_view_name": "StyleView",
            "bar_color": null,
            "description_width": ""
          }
        },
        "95f24ddff3ae42889eda523daa4425d3": {
          "model_module": "@jupyter-widgets/base",
          "model_name": "LayoutModel",
          "model_module_version": "1.2.0",
          "state": {
            "_model_module": "@jupyter-widgets/base",
            "_model_module_version": "1.2.0",
            "_model_name": "LayoutModel",
            "_view_count": null,
            "_view_module": "@jupyter-widgets/base",
            "_view_module_version": "1.2.0",
            "_view_name": "LayoutView",
            "align_content": null,
            "align_items": null,
            "align_self": null,
            "border": null,
            "bottom": null,
            "display": null,
            "flex": null,
            "flex_flow": null,
            "grid_area": null,
            "grid_auto_columns": null,
            "grid_auto_flow": null,
            "grid_auto_rows": null,
            "grid_column": null,
            "grid_gap": null,
            "grid_row": null,
            "grid_template_areas": null,
            "grid_template_columns": null,
            "grid_template_rows": null,
            "height": null,
            "justify_content": null,
            "justify_items": null,
            "left": null,
            "margin": null,
            "max_height": null,
            "max_width": null,
            "min_height": null,
            "min_width": null,
            "object_fit": null,
            "object_position": null,
            "order": null,
            "overflow": null,
            "overflow_x": null,
            "overflow_y": null,
            "padding": null,
            "right": null,
            "top": null,
            "visibility": null,
            "width": null
          }
        },
        "82c4e225217d4e7381f192c33efb5691": {
          "model_module": "@jupyter-widgets/controls",
          "model_name": "DescriptionStyleModel",
          "model_module_version": "1.5.0",
          "state": {
            "_model_module": "@jupyter-widgets/controls",
            "_model_module_version": "1.5.0",
            "_model_name": "DescriptionStyleModel",
            "_view_count": null,
            "_view_module": "@jupyter-widgets/base",
            "_view_module_version": "1.2.0",
            "_view_name": "StyleView",
            "description_width": ""
          }
        }
      }
    }
  },
  "nbformat": 4,
  "nbformat_minor": 0
}